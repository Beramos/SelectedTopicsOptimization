{
 "cells": [
  {
   "cell_type": "markdown",
   "metadata": {},
   "source": [
    "# Chapter 2: Constrained optimization\n",
    "\n",
    "*Selected Topics in Mathematical Optimization*\n",
    "\n",
    "*2016-2017*\n",
    "\n",
    "**Bernard De Baets**\n",
    "\n",
    "**Michiel Stock**\n",
    "\n",
    "**Raúl Pérez-Fernández**"
   ]
  },
  {
   "cell_type": "code",
   "execution_count": null,
   "metadata": {
    "collapsed": true
   },
   "outputs": [],
   "source": [
    "import numpy as np\n",
    "import matplotlib.pyplot as plt \n",
    "from ipywidgets import interact, FloatSlider\n",
    "try:\n",
    "    import seaborn as sns\n",
    "    sns.set_style('white')\n",
    "except:\n",
    "    pass\n",
    "%matplotlib inline"
   ]
  },
  {
   "cell_type": "markdown",
   "metadata": {
    "collapsed": true
   },
   "source": [
    "## Equality constrained minimization problems\n",
    "\n",
    "We will start with convex optimization problems with linear equality constraints:\n",
    "\n",
    "\\begin{align*}\n",
    "&\\text{minimize } &f(x) \\\\\n",
    "&\\text{subject to } &Ax=b \n",
    "\\end{align*}\n",
    "\n",
    "where $f : \\mathbb{R}^n \\rightarrow \\mathbb{R}$ is convex and twice continuously differentiable and $A\\in \\mathbb{R}^{p\\times n}$ with a rank $p < n$."
   ]
  },
  {
   "cell_type": "markdown",
   "metadata": {},
   "source": [
    "A point $x^*\\in$ **dom** $f$ is optimal for the above optimization problem only if there is a $\\nu\\in\\mathbb{R}^p$ such that:\n",
    "\n",
    "$$\n",
    "Ax^* = b, \\qquad \\nabla f(x^*) + A^\\top\\nu^* = 0\\,.\n",
    "$$"
   ]
  },
  {
   "cell_type": "markdown",
   "metadata": {},
   "source": [
    "### Some toy examples\n",
    "\n",
    "We will reuse the same toy examples from the previous chapter, but add an equality constraint to both.\n",
    "    \n",
    "* Simple quadratic problem:\n",
    "\n",
    "\\begin{gather*}\n",
    "& f(x_1, x_2) & =& \\frac{1}{2} (x_1^2 + 4 x_2^2)\\\\\n",
    "& \\text{subject to} && x_1 - 2x_2 = 3 \n",
    "\\end{gather*}\n",
    "\n",
    "* A non-quadratic function:\n",
    "\n",
    "\\begin{gather*}\n",
    "&f(x_1, x_2)  & =& \\log(e^{x_1 +3x_2-0.1}+e^{x_1 -3x_2-0.1}+e^{-x_1 -0.1})\\\\\n",
    "& \\text{subject to} && x_1 + 3x_2 = 0  \n",
    "\\end{gather*}"
   ]
  },
  {
   "cell_type": "code",
   "execution_count": null,
   "metadata": {
    "collapsed": false
   },
   "outputs": [],
   "source": [
    "from teachingtools import plot_contour, add_path  # functions for showing the toy examples\n",
    "from teachingtools import quadratic, grad_quadratic, hessian_quadratic\n",
    "from teachingtools import nonquadratic, grad_nonquadratic, hessian_nonquadratic"
   ]
  },
  {
   "cell_type": "code",
   "execution_count": null,
   "metadata": {
    "collapsed": false
   },
   "outputs": [],
   "source": [
    "fig, (ax1, ax2) = plt.subplots(ncols=2, figsize=(10, 5))\n",
    "plot_contour(quadratic, (-11, 11), (-5, 5), ax1, [1.0, -2.0], 3)\n",
    "ax1.set_title('Quadratic')\n",
    "ax1.legend(loc=0)\n",
    "plot_contour(nonquadratic, (-2, 2), (-1, 1), ax2, [1, 3], 0)\n",
    "ax2.set_title('Non-quadratic')\n",
    "ax2.legend(loc=0)\n",
    "ax1.grid()"
   ]
  },
  {
   "cell_type": "markdown",
   "metadata": {},
   "source": [
    "### Equality constrained convex quadratic minimization"
   ]
  },
  {
   "cell_type": "markdown",
   "metadata": {},
   "source": [
    "Consider the following equality constrained convex optimization problem:\n",
    "\n",
    "\\begin{align*}\n",
    "&\\text{minimize } &f(x\n",
    ") = (1/2)x^\\intercal P x + q^\\intercal x + r  \\\\\n",
    "&\\text{subject to } & Ax=b \n",
    "\\end{align*}\n",
    "\n",
    "where $P$ is positive definite."
   ]
  },
  {
   "cell_type": "markdown",
   "metadata": {},
   "source": [
    "The optimiality conditions are\n",
    "$$\n",
    "Ax^* = b, \\quad Px^*+q +A^\\intercal\\nu^*=0\\,,\n",
    "$$\n",
    "which we can write as\n",
    "\n",
    "$$\n",
    "\\begin{bmatrix}\n",
    "P & A^\\intercal \\\\\n",
    "A & 0 \\\\\n",
    "     \\end{bmatrix}\n",
    "     \\begin{bmatrix}\n",
    "x^*\\\\\n",
    "\\nu^*\n",
    "     \\end{bmatrix}\n",
    "     =\n",
    "     \\begin{bmatrix}\n",
    "-q \\\\\n",
    "b\n",
    "     \\end{bmatrix}\n",
    "$$"
   ]
  },
  {
   "cell_type": "markdown",
   "metadata": {},
   "source": [
    "Hence, convex quadratic optimization problems with linear constraints can be reduced to solving a linear system."
   ]
  },
  {
   "cell_type": "markdown",
   "metadata": {},
   "source": [
    "**Assignment**\n",
    "\n",
    "Complete the code to solve a constrained quadratic problem."
   ]
  },
  {
   "cell_type": "raw",
   "metadata": {
    "collapsed": true
   },
   "source": [
    "def solve_constrained_quadratic_problem(P, q, A, b):\n",
    "    \"\"\"\n",
    "    Solve a linear constrained quadratic convex problem.\n",
    "    Inputs:\n",
    "        - P, q: quadratic and linear parameters of\n",
    "                the linear function to be minimized\n",
    "        - A, b: system of the linear constaints\n",
    "    Outputs:\n",
    "        - xstar: the exact minimizer\n",
    "        - vstar: the optimal Lagrance multipliers\n",
    "    \"\"\"\n",
    "    p, n = A.shape  # size of the problem\n",
    "    # complete this code\n",
    "    # HINT: use np.linalg.solve and np.bmat\n",
    "    solution = ... \n",
    "    xstar = solution[:n]\n",
    "    vstar = solution[n:]\n",
    "    return np.array(xstar), np.array(vstar)"
   ]
  },
  {
   "cell_type": "code",
   "execution_count": null,
   "metadata": {
    "collapsed": true
   },
   "outputs": [],
   "source": [
    "from constrained import solve_constrained_quadratic_problem"
   ]
  },
  {
   "cell_type": "code",
   "execution_count": null,
   "metadata": {
    "collapsed": false
   },
   "outputs": [],
   "source": [
    "P = np.array([[1, 0], [0, 4]]) \n",
    "A = np.array([[1, -2]])\n",
    "b = np.array([[3]])\n",
    "q = np.zeros((2, 1))"
   ]
  },
  {
   "cell_type": "code",
   "execution_count": null,
   "metadata": {
    "collapsed": false,
    "scrolled": true
   },
   "outputs": [],
   "source": [
    "xstar, vstar = solve_constrained_quadratic_problem(P, q, A, b)\n",
    "\n",
    "print('Minimizer:')\n",
    "print(xstar)\n",
    "\n",
    "fig, ax = plt.subplots()\n",
    "plot_contour(quadratic, (-11, 11), (-5, 5), ax, [1, -2], 3)\n",
    "ax.scatter(xstar[0,0], xstar[1,0], 50, 'r', label='minimum')\n",
    "ax.grid()\n",
    "ax.legend(loc=0)"
   ]
  },
  {
   "cell_type": "markdown",
   "metadata": {},
   "source": [
    "### Newton's method with equality constrains"
   ]
  },
  {
   "cell_type": "markdown",
   "metadata": {},
   "source": [
    "To derive $\\Delta x_{nt}$ for the following equality constrained problem\n",
    "\n",
    "\\begin{align*}\n",
    "&\\text{minimize } & f(x) \\\\\n",
    "&\\text{subject to } & Ax=b \n",
    "\\end{align*}\n",
    "\n",
    "we apply a second-order Taylor approximation at the point $x$, to obtain\n",
    "\n",
    "\\begin{align*}\n",
    "&\\text{minimize } &\\hat{f}(x +v) &= f(x) +\\nabla f(x)^\\intercal v+ (1/2)v^\\intercal \\nabla^2 f(x) v \\\\\n",
    "&\\text{subject to } &A(x+v)&=b\\,. \n",
    "\\end{align*}"
   ]
  },
  {
   "cell_type": "markdown",
   "metadata": {},
   "source": [
    "Based on the solution of quadratic convex problems with linear contrains, the Newton $\\Delta x_{nt}$ step is characterized by\n",
    "\n",
    "$$\n",
    "\\begin{bmatrix}\n",
    " \\nabla^2 f(x) & A^\\intercal \\\\\n",
    "A & 0 \\\\\n",
    "     \\end{bmatrix}\n",
    "     \\begin{bmatrix}\n",
    "\\Delta x_{nt}\\\\\n",
    "w\n",
    "     \\end{bmatrix}\n",
    "     =\n",
    "     -\\begin{bmatrix}\n",
    "\\nabla f(x) \\\\\n",
    "Ax-b\n",
    "     \\end{bmatrix}\n",
    "$$"
   ]
  },
  {
   "cell_type": "markdown",
   "metadata": {},
   "source": [
    "Note that when we start at a feasible point, the residual vector $-(Ax-b)$ vanishes and the path will always remain in a feasible region. Otherwise we will converge to it."
   ]
  },
  {
   "cell_type": "markdown",
   "metadata": {},
   "source": [
    "### Pseudocode of (in)feasible start Newton method\n",
    "\n",
    "Rather than performing line search at each step, we will use a fixed step size $\\nu\\in]0,1]$\n",
    "\n",
    ">**input** starting point $x\\in$ **dom** $f$ with $Ax=b$, tolerance $\\epsilon>0$, stepsize $\\nu$.\n",
    ">\n",
    ">**repeat** \n",
    ">\n",
    ">>    1. Compute the Newton step $\\Delta x_{nt}$ and decrement $\\lambda(x)$. \n",
    ">>    2. *Stopping criterion*. **quit** if $\\lambda^2/2\\leq \\epsilon$.\n",
    ">>    3. *Update*. $x:=x+\\nu\\Delta x_{nt}$.\n",
    ">\n",
    ">**until** stopping criterium is satisfied.\n",
    "\n",
    ">**output** $x$"
   ]
  },
  {
   "cell_type": "markdown",
   "metadata": {},
   "source": [
    "Again, the convergence can be monitored using the Newton decrement:\n",
    "\n",
    "$$\n",
    "\\lambda^2(x) = - \\Delta x_{nt}^\\top \\nabla f(x)\\,.\n",
    "$$\n",
    "\n",
    "The algorithm terminates when\n",
    "\n",
    "$$\n",
    "\\frac{\\lambda(x)^2}{2} < \\epsilon\\,.\n",
    "$$"
   ]
  },
  {
   "cell_type": "markdown",
   "metadata": {},
   "source": [
    "**Assignment**\n",
    "\n",
    "Complete the implementation of linear constrained Newton's method."
   ]
  },
  {
   "cell_type": "raw",
   "metadata": {
    "collapsed": true
   },
   "source": [
    "def linear_constrained_newton(f, x0, grad_f, hess_f, A, b, stepsize=0.25, epsilon=1e-3, trace=False):\n",
    "    '''\n",
    "    Newton's method for minimizing functions with linear constraints.\n",
    "    Inputs:\n",
    "        - f: function to be minimized\n",
    "        - x0: starting point (does not have to be feasible)\n",
    "        - grad_f: gradient of the function to be minimized\n",
    "        - hess_f: hessian matrix of the function to be minimized\n",
    "        - A, b: linear constraints\n",
    "        - stepsize: stepsize for each Newton step (fixed)\n",
    "        - epsilon: parameter to determine if the algortihm is converged\n",
    "        - trace: (bool) store the path that is followed?\n",
    "    Outputs:\n",
    "        - xstar: the found minimum\n",
    "        - x_steps: path in the domain that is followed (if trace=True)\n",
    "        - f_steps: image of x_steps (if trace=True)\n",
    "    '''\n",
    "    assert stepsize < 1 and stepsize > 0\n",
    "    x = x0  # initial value\n",
    "    p, n = A.shape\n",
    "    if trace: x_steps = [x.copy()]\n",
    "    if trace: f_steps = [f(x0)]\n",
    "    while True:\n",
    "        ddfx = hess_f(x)\n",
    "        dfx = grad_f(x)\n",
    "        # calculate residual\n",
    "        Dx, _ = solve_constrained_quadratic_problem(... # complete!\n",
    "        newton_decrement = - np.sum(Dx.T @ dfx) / 2\n",
    "        if newton_decrement < epsilon:  # stopping criterion\n",
    "            break  # converged\n",
    "        x += stepsize * Dx\n",
    "        if trace: x_steps.append(x.copy())\n",
    "        if trace: f_steps.append(f(x))\n",
    "    if trace: return x, x_steps, f_steps    \n",
    "    else: return x"
   ]
  },
  {
   "cell_type": "code",
   "execution_count": null,
   "metadata": {
    "collapsed": true
   },
   "outputs": [],
   "source": [
    "from constrained import linear_constrained_newton"
   ]
  },
  {
   "cell_type": "code",
   "execution_count": null,
   "metadata": {
    "collapsed": true
   },
   "outputs": [],
   "source": [
    "A = np.array([[1.0, 3.0]])\n",
    "b = np.array([[0.0]])\n",
    "x0 = np.array([[0.6], [-0.2]])  # feasible\n",
    "#x0 = np.array([[0.6], [0.2]])  # unfeasible"
   ]
  },
  {
   "cell_type": "code",
   "execution_count": null,
   "metadata": {
    "collapsed": false,
    "scrolled": true
   },
   "outputs": [],
   "source": [
    "xstar, x_steps, f_steps = linear_constrained_newton(nonquadratic, x0,\n",
    "                            grad_nonquadratic, hessian_nonquadratic,\n",
    "                            A, b, stepsize=0.9, epsilon=1e-6, trace=True)"
   ]
  },
  {
   "cell_type": "code",
   "execution_count": null,
   "metadata": {
    "collapsed": false,
    "scrolled": true
   },
   "outputs": [],
   "source": [
    "print('Minimizer:')\n",
    "print(xstar)\n",
    "\n",
    "fig, ax = plt.subplots()\n",
    "plot_contour(nonquadratic, (-2, 2), (-1, 1), ax, [1, 3], 0)\n",
    "add_path(ax=ax, x_steps=x_steps)\n",
    "ax.scatter(xstar[0,0], xstar[1,0], 50, 'r', label='minimum')\n",
    "ax.grid()\n",
    "ax.legend(loc=0)"
   ]
  },
  {
   "cell_type": "markdown",
   "metadata": {},
   "source": [
    "**Describe difference in behaviour when using a feasible or infeasible starting point**\n",
    "\n",
    "YOUR TEXT HERE"
   ]
  },
  {
   "cell_type": "markdown",
   "metadata": {},
   "source": [
    "## Inequality constrained minimization problems\n",
    "\n",
    "\\begin{align*}\n",
    "&\\text{minimize  } & f_0(x) &\\\\\n",
    "&\\text{subject to  } & f_i(x) \\leq 0, & \\quad i=1,\\ldots,m\\\\\n",
    "& & Ax=b \n",
    "\\end{align*}\n",
    "\n",
    "where $f_0,\\ldots,f_m\\ :\\ \\mathbb{R}^n \\rightarrow \\mathbb{R}$ are convex and twice continuously differentiable, and $A\\in \\mathbb{R}^{p\\times n}$ with **rank** $A=p<n$.\n"
   ]
  },
  {
   "cell_type": "markdown",
   "metadata": {},
   "source": [
    "**Example**\n",
    "\n",
    "The non-quadratic function with inequality constraints:\n",
    "\n",
    "\\begin{gather*}\n",
    "&f(x_1, x_2)  & =& \\log(e^{x_1 +3x_2-0.1}+e^{x_1 -3x_2-0.1}+e^{-x_1 -0.1})\\\\\n",
    "& \\text{subject to} && (x_1 - 1)^2 + (x_2 - 0.25)^2 - 1\\leq 0\n",
    "\\end{gather*}"
   ]
  },
  {
   "cell_type": "code",
   "execution_count": null,
   "metadata": {
    "collapsed": false
   },
   "outputs": [],
   "source": [
    "def nonquadratic_ineq_const(x):\n",
    "    if (x[0] - 1)**2 + (x[1] - 0.25)**2 - 1 < 0:\n",
    "        return np.log(nonquadratic(x))\n",
    "    else:\n",
    "        return 2\n",
    "    \n",
    "\n",
    "fig, ax = plt.subplots()\n",
    "plot_contour(nonquadratic_ineq_const, (-2, 2), (-2, 2), ax)\n",
    "ax\n",
    "ax.set_title('Non-quadratic\\ninequality constraint')"
   ]
  },
  {
   "cell_type": "markdown",
   "metadata": {},
   "source": [
    "We can reformulate the inequality constained problem by an equality constrained problem and apply Newton's method."
   ]
  },
  {
   "cell_type": "markdown",
   "metadata": {},
   "source": [
    "\\begin{align*}\n",
    "&\\text{minimize } &f_0(x) +\\sum_{i=1}^mI_-(f_i(x))\\\\\n",
    "&\\text{subject to } &Ax=b \n",
    "\\end{align*}\n",
    "\n",
    "where $I_-\\ :\\ \\mathbb{R} \\rightarrow \\mathbb{R}$ is the indicator function for the nonpositive reals,\n",
    "\n",
    "$$\n",
    "I_-(u) = \\begin{cases}\n",
    "0 \\quad u \\leq 0\\\\\n",
    "\\infty \\quad u > 0\\,.\n",
    "\\end{cases}\n",
    "$$"
   ]
  },
  {
   "cell_type": "markdown",
   "metadata": {},
   "source": [
    "### Logarithmic barrier function"
   ]
  },
  {
   "cell_type": "markdown",
   "metadata": {},
   "source": [
    "Main idea: approximate $I_-$ by the function:\n",
    "\n",
    "$$\n",
    "\\hat{I}_-(u) = - (1/t)\\log(-u)\\,,\n",
    "$$\n",
    "\n",
    "where $t>0$ is a parameter that sets the accuaracy of the approximation."
   ]
  },
  {
   "cell_type": "code",
   "execution_count": null,
   "metadata": {
    "collapsed": false
   },
   "outputs": [
    {
     "data": {
      "image/png": "[encoded data removed]",
      "text/plain": [
       "<matplotlib.figure.Figure at 0x119e80128>"
      ]
     },
     "metadata": {},
     "output_type": "display_data"
    }
   ],
   "source": [
    "from teachingtools import plot_log_barrier\n",
    "interact(plot_log_barrier, t=FloatSlider(min=0.01, max=10.0, step=0.01, value=1))"
   ]
  },
  {
   "cell_type": "markdown",
   "metadata": {},
   "source": [
    "Thus the problem can be approximated by:\n",
    "\n",
    "\\begin{align*}\n",
    "&\\text{minimize } &f_0(x) +\\sum_{i=1}^m-(1/t)\\log(-f_i(x))\\\\\n",
    "&\\text{subject to } &Ax=b\\,.\n",
    "\\end{align*}\n",
    "\n",
    "Since $\\hat{I}_-(u)$ is convex and  increasing in $u$, the objective is also convex."
   ]
  },
  {
   "cell_type": "markdown",
   "metadata": {},
   "source": [
    "The function\n",
    "\n",
    "$$\n",
    "\\phi (x) =\\sum_{i=1}^m-\\log(-f_i(x))\\,\n",
    "$$\n",
    "\n",
    "is called the **logaritmic barrier** for the constrained optimization problem."
   ]
  },
  {
   "cell_type": "markdown",
   "metadata": {},
   "source": [
    "The parameter $t$ determines the quality of the approximation, the higher the value the closer the approximation matches the original problem. The drawback of higher values of $t$ is that the problem becomes harder to optimize using Newton's method, as its Hessian will vary rapidly near the boundary of the feasible set."
   ]
  },
  {
   "cell_type": "markdown",
   "metadata": {},
   "source": [
    "### The barrier method and the central path\n",
    "\n",
    "We will optimize the following equivalent problem:\n",
    "\n",
    "\\begin{align*}\n",
    "&\\text{minimize } &tf_0(x) +\\phi (x)\\\\\n",
    "&\\text{subject to } &Ax=b\\,.\n",
    "\\end{align*}\n",
    "\n",
    "The points of the central path are the solutions $x^*(t)$ of this problem for a given value of $t$."
   ]
  },
  {
   "cell_type": "markdown",
   "metadata": {},
   "source": [
    "The barrier method works by iteratively (approximatively) solving this optimization problem for increasing values of $t$."
   ]
  },
  {
   "cell_type": "markdown",
   "metadata": {},
   "source": [
    "### Pseudocode of the barrier method\n",
    "\n",
    ">**input** strictly feasible $x$, $t:=t^{(0)}>0, \\mu>1$, $t_\\text{max}$, tolerance $\\epsilon>0$.\n",
    ">\n",
    ">**repeat** \n",
    ">\n",
    ">>    1. *Centering step*.<br>\n",
    ">>   Compute $x^*(t)$ by minimizing $tf_0+\\phi$, subject to $Ax=b$, starting at $x$.\n",
    ">>    2. *Update*. $x:=x^*(t)$\n",
    ">>    3. *Increase* $t$. $t:=\\mu t$.\n",
    ">\n",
    ">**until** $t>t_\\text{max}$\n",
    "\n",
    ">**output** $x$"
   ]
  },
  {
   "cell_type": "markdown",
   "metadata": {},
   "source": [
    "**Accuracy of centering**\n",
    "\n",
    "In step 2, computing $x^*(t)$ exactly is not necessary since the central path has no significance beyond the fact that it leads to a solution of the original problem as $t\\rightarrow\\infty$."
   ]
  },
  {
   "cell_type": "markdown",
   "metadata": {},
   "source": [
    "**Choice of $\\mu$**\n",
    "\n",
    "The choice has a trade-off in the number of inner and outer iterations required:\n",
    "- If $\\mu$ is small (close to 1) then $t$ increases slowly. A large number of Newton iterations will be required, but each will go fast.\n",
    "- If $\\mu$ is large then $t$ increases very fast. Each Newton step will take a long time to converge, but few iterations will be needed.\n",
    "\n",
    "The exact value of $\\mu$ is not particularly critical, values between 10 and 20 work well."
   ]
  },
  {
   "cell_type": "markdown",
   "metadata": {},
   "source": [
    "**Choice of $t^{(0)}$**\n",
    "\n",
    "- If $t^{(0)}$ is chosen too large: the first outer iteration will require many iterations.\n",
    "- If $t^{(0)}$ is chosen too small: the algorithm will require extra outer iterations."
   ]
  },
  {
   "cell_type": "markdown",
   "metadata": {},
   "source": [
    "## Project 2: oligomerization of proteins\n",
    "![A protein complex](Figures/complex.jpg)"
   ]
  },
  {
   "cell_type": "markdown",
   "metadata": {
    "collapsed": false
   },
   "source": [
    "In this project we will study the association of protein complexes through the principle of **entropy maximization**. \n",
    "\n",
    "Consider the following three proteins: A, B and C:\n",
    "\n",
    "![Three monomeric proteins.](Figures/monomers.jpg)\n",
    "\n",
    "Each of these proteins has sites which it can use to reversible bind to other proteins. Two types of interactions can be distinguished:\n",
    "- **weak type I interactions**: protein A has one type I donor site, protein C has one type I acceptor site and protein B has both an acceptor and a donor site. In the figures, these sites are indicated as a triangle sticking in (acceptor) or out (donor) the protein.\n",
    "- **strong type II interaction**: protein A has one type II acceptor site and protein C has one type II donor site. These sites are depicted as two bumps sticking out or pressing in the protein."
   ]
  },
  {
   "cell_type": "markdown",
   "metadata": {},
   "source": [
    "These sites allow for dimerisation of the proteins. All possible homo- and hetero-dimers are shown below.\n",
    "\n",
    "![The proteins can form dimers according to their sites.](Figures/dimers.jpg)\n",
    "\n",
    "But tri-and tetramers can also be formed:\n",
    "\n",
    "![One trimer and three tetramers.](Figures/oligomers.jpg)\n",
    "\n",
    "Let us use one (monomer), two (dimer), three (trimer) and four (tetramer) character long strings to denote all possible conformations. Here we use the convention that the string $P_1P_2P_3P_4$ represents the tetramer\n",
    "$$\n",
    "\\left (\\begin{array}{cc}\n",
    "P_1 & P_2 \\\\\n",
    "P_4 & P_3\\end{array} \n",
    "\\right ) \\,.\n",
    "$$\n",
    "\n",
    "Note that in our notation, we have\n",
    "$$\n",
    "P_1P_2P_3P_4 = P_4P_1P_2P_3 = P_3P_4P_1P_2 = P_2P_3P_4P_1\\,,\n",
    "$$\n",
    "but\n",
    "$$\n",
    "P_1P_2P_3 \\neq P_3P_1P_2 \\neq P_2P_3P_1\\,.\n",
    "$$\n",
    "\n",
    "The following code identifies all unique mono-and oligomers."
   ]
  },
  {
   "cell_type": "code",
   "execution_count": null,
   "metadata": {
    "collapsed": false
   },
   "outputs": [],
   "source": [
    "monomers = set(['A', 'B', 'C'])\n",
    "\n",
    "dimers = set(['AC', 'CB', 'CA', 'BA', 'BB'])\n",
    "\n",
    "trimers = set([dm1 + dm2[1] for dm1 in dimers\n",
    "               for dm2 in dimers if dm1[1:] == dm2[:-1]])\n",
    "\n",
    "tetramers = set([dm1 + dm2[2] for dm1 in trimers\n",
    "                 for dm2 in trimers if dm1[1:] == dm2[:-1]\n",
    "                 if dm2[-1] + dm1[0] in dimers])\n",
    "\n",
    "# some tetramers are counted multiple times, because our encoding is not unique\n",
    "# let us remove duplicates\n",
    "\n",
    "lowest_lexo = lambda polymer : sorted([polymer[i:] + polymer[:i] for i in range(len(polymer))])[0]\n",
    "tetramers = set(map(lowest_lexo, tetramers))\n",
    "\n",
    "compounds = monomers | dimers | trimers | tetramers\n",
    "compounds = list(compounds)\n",
    "compounds.sort()\n",
    "monomers =list(monomers)\n",
    "monomers.sort()\n",
    "\n",
    "print('There are {} unique compounds'.format(len(compounds)))"
   ]
  },
  {
   "cell_type": "code",
   "execution_count": null,
   "metadata": {
    "collapsed": false
   },
   "outputs": [],
   "source": [
    "monomers"
   ]
  },
  {
   "cell_type": "code",
   "execution_count": null,
   "metadata": {
    "collapsed": false,
    "scrolled": true
   },
   "outputs": [],
   "source": [
    "compounds"
   ]
  },
  {
   "cell_type": "markdown",
   "metadata": {},
   "source": [
    "Oligiomerzation is a process that releases energy. The change of heat in a system is quantified by the enthalpy. Formation of a type I bonds results in a change of enthalphy of $\\Delta H$ of -1 Joule / mol (heat is released when two monomers bind), while type II bonds have a change of enthalpy of $\\Delta H$ of -2 Joule / mol.\n",
    "\n",
    "The following piece of code returns the energy the formation enthalpy of a compound."
   ]
  },
  {
   "cell_type": "code",
   "execution_count": null,
   "metadata": {
    "collapsed": true
   },
   "outputs": [],
   "source": [
    "binding_enthalpy = {'AC' : -2, 'BA' : -1, 'BB' : -1, 'CA' : -1, 'CB' : -1}\n",
    "\n",
    "def get_enthalpy(compound):\n",
    "    if len(compound) == 1:\n",
    "        return 0  # no bonds\n",
    "    else:\n",
    "        enthalpy = 0\n",
    "        for i in range(len(compound) - 1):\n",
    "            dimer = compound[i:i+2]\n",
    "            enthalpy += binding_enthalpy[dimer]\n",
    "        if len(compound)==4:\n",
    "            enthalpy += binding_enthalpy[compound[-1] + compound[0]]\n",
    "        return enthalpy"
   ]
  },
  {
   "cell_type": "code",
   "execution_count": null,
   "metadata": {
    "collapsed": false
   },
   "outputs": [],
   "source": [
    "enthalpies_dict = {compound : get_enthalpy(compound) for compound in compounds}\n",
    "\n",
    "print('Formation enthalpies:')\n",
    "for compound, enthalpy in enthalpies_dict.items():\n",
    "    print('{} => {}'.format(compound, enthalpy))\n",
    "    \n",
    "enthalpies = [enthalpies_dict[comp] for comp in compounds]  # as list, same order as compounds\n",
    "enthalpies = np.array(enthalpies).reshape((-1, 1))  # as Numpy array"
   ]
  },
  {
   "cell_type": "markdown",
   "metadata": {
    "collapsed": false
   },
   "source": [
    "Since all the association and dissociation reactions are assumed to be reversible, a mixture of the three monomers should give rise to all possible mono- and oligomers (though not necessarily in equal quantities). We will assume that the system will go to an equilibrium where the Gibbs free engery is highest. The Gibbs free energy depends both on the entropy as well as the enthalpy of the system."
   ]
  },
  {
   "cell_type": "markdown",
   "metadata": {
    "collapsed": false
   },
   "source": [
    "Let us denote $x$ as the vector containing the concentrations of the 19 possible species. The entropy of the system is given by\n",
    "\n",
    "$$\n",
    "S(x) = - \\sum_{i=1}^{19}x_i \\log x_i\\,.\n",
    "$$"
   ]
  },
  {
   "cell_type": "markdown",
   "metadata": {},
   "source": [
    "The enthalpy of the system is given by\n",
    "\n",
    "$$\n",
    "H(x) = \\sum_{i=1}^{19}x_i h_i\\,,\n",
    "$$\n",
    "\n",
    "with $h_i$ the formation enthalpy of compound $i$."
   ]
  },
  {
   "cell_type": "markdown",
   "metadata": {},
   "source": [
    "The Gibbs free energy is then given by\n",
    "\n",
    "$$\n",
    "G(x) = H(x) - T S(x)\n",
    "$$\n",
    "\n",
    "with $T\\geq0$ the temperature of the system (in Kelvin). Systems with a constant temperture go to a state with a minimal Gibbs free energy."
   ]
  },
  {
   "cell_type": "markdown",
   "metadata": {},
   "source": [
    "Note that:\n",
    "- By low temperatures, enthalpy dominates. The enthalpy can be raised by the formation of oligomers with multiple low-energy bonds.\n",
    "- By high temperature, entropy dominates. High entropy can be obtained by having many different species at a low concentration."
   ]
  },
  {
   "cell_type": "markdown",
   "metadata": {},
   "source": [
    "The concentration of each species can not be freely chosen, vector $x$ has two types of constraints:\n",
    "- **equality constraints**: there is a conservation of mass: the total quantity of A, B, C in all the species should remain constant. These form four linear equality contraints.\n",
    "- **inequality constraints**: since $x$ is a vector with concentrations all elements should be larger than zero: i.e. $x_i \\geq 0$. "
   ]
  },
  {
   "cell_type": "markdown",
   "metadata": {},
   "source": [
    "The equality constraints are given by the stoichimetric matrix $S$, a $3\\times 19$ matrix which quantifies how many of individual molecules $A$, $B$ and $C$ are in a complex and $c$ is the vector of length 3 containing the total of $A$, $B$ and $C$ in the system."
   ]
  },
  {
   "cell_type": "markdown",
   "metadata": {},
   "source": [
    "The optimization problem can thus be formulated as follows:\n",
    "\n",
    "\\begin{align*}\n",
    "&\\text{minimize  } & G(x) = H(x) - T S(x) &\\\\\n",
    "&\\text{subject to  } & x \\succeq 0\\\\\n",
    "& & Sx=c\\,.\n",
    "\\end{align*}"
   ]
  },
  {
   "cell_type": "markdown",
   "metadata": {},
   "source": [
    "We will minimize this objective using a simplified version of the barrier method. Rather than exactly solving the soft-constrained problem using the feasible start Newton algorithm, we will simply calculate the constrained Newton step for each value of $t$ and follow this direction with a fixed stepsize for a certain number of times. This simplified barrier method is described by the following pseudocode."
   ]
  },
  {
   "cell_type": "markdown",
   "metadata": {},
   "source": [
    "### Pseudocode of the simplified barrier method\n",
    "\n",
    ">**input** strictly feasible $x$, $t:=t^{(0)}>0, \\mu>1$, stepsize $\\nu$, number of inner Newton steps $m$.\n",
    "> \n",
    ">**while** $t < t_\\text{max}$<br>\n",
    ">\n",
    ">>    **for** $m$ inner Newton steps\n",
    ">>> Compute the linear constrained Newton step $\\Delta x_{nt}$ for $tf_0+\\phi$<br>\n",
    ">>> **Update**: $x := x - \\nu \\Delta x_{nt}$<br>\n",
    ">>\n",
    ">> $t:=\\mu t$<br>\n",
    ">\n",
    ">**output** $x$"
   ]
  },
  {
   "cell_type": "markdown",
   "metadata": {
    "collapsed": false
   },
   "source": [
    "** Project assignment**\n",
    "\n",
    "1. Suppose that an initial mixture contains only the monomers A, B and C with relative fractions of 0.3, 0.4 and 0.3. Give the matrix $S$ and vector $c$ of the linear constraints of the system. \n",
    "2. Formulate the approximation of the inequality constraint problem using the logarithmic barrier, with the hyperparameter $t$ to control the quality of the approximation. Complete the functions `gibbs_fun`, `gibbs_grad` and `gibbs_hessian` which give the function value, gradient and hessian of the soft-constraint approximantion. These functions take as inputs the vector of concentrations $x$, the temperature $T$ and the hyperparameter $t$. The enthalpy per mol is available in the vector `enthalpies`.\n",
    "3. Complete the implementation for performing one feasible constrained Newton step. Use the implemented functions regarding the soft-constraint entropy as global functions.\n",
    "4. Give a feasible $x_0$, i.e. a vector with concentrations which satifies the constraints and where **all** concentrations are larger than 0. The function`feasible_init` starts with the initial concentrations of A, B and C and make a small quantity of each other possible species.\n",
    "5. Complete the implementation of `barrier_method`. Use this to calculate the equilibrium concentration of the different species at a temperature of 100 Kelvin. Toy with the hyperparameters of the optimization algorithm to get a good approximation. It should not matter is you use a feasible or infeasible start.\n",
    "6. Make a plot of the concentrations and entropy of the equilibrium system at different temperatures. Vary $T$ from $10^{-2}, 10^{-1},\\ldots, 10^4$.\n",
    "7. Use grid search (step size of 0.01) to the initial quantities of A, B and C (total quantity is equal to 1) that have to be mixed at a temperature of 100K to obain:\n",
    "    - the equilibrium mixture with the highest entropy\n",
    "    - the equilibrium mixture with the lowest enthalphy\n",
    "    - the equilibrium mixture with the highest concentration of CBA"
   ]
  },
  {
   "cell_type": "markdown",
   "metadata": {},
   "source": [
    "**ASSIGNMENT 1**\n",
    "\n",
    "Complete the matrix $S$ and vector $c$ to describe the mass balance of the system."
   ]
  },
  {
   "cell_type": "code",
   "execution_count": null,
   "metadata": {
    "collapsed": false
   },
   "outputs": [],
   "source": [
    "# your code here!\n",
    "S = ...\n",
    "c = ..."
   ]
  },
  {
   "cell_type": "code",
   "execution_count": null,
   "metadata": {
    "collapsed": false
   },
   "outputs": [],
   "source": [
    "print(S)"
   ]
  },
  {
   "cell_type": "code",
   "execution_count": null,
   "metadata": {
    "collapsed": false
   },
   "outputs": [],
   "source": [
    "print(c)"
   ]
  },
  {
   "cell_type": "markdown",
   "metadata": {},
   "source": [
    "**ASSIGNMENT 2**\n",
    "\n",
    "Complete the function and partial derivatives and implement these functions."
   ]
  },
  {
   "cell_type": "markdown",
   "metadata": {},
   "source": [
    "\\begin{align*}\n",
    "&\\text{minimize  } & t\\sum_{i=1}^{19}[h_ix_i + Tx_i \\log x_i] -\\sum_{i=1}^{19}\\log x_i&\\\\\n",
    "& & Sx=c\\,.\n",
    "\\end{align*}"
   ]
  },
  {
   "cell_type": "markdown",
   "metadata": {},
   "source": [
    "**Function**\n",
    "\n",
    "$$\n",
    "f(x, T, t)=\\ldots\n",
    "$$"
   ]
  },
  {
   "cell_type": "markdown",
   "metadata": {},
   "source": [
    "**Gradient**\n",
    "\n",
    "$$\n",
    "\\frac{\\partial f(x, T, t)}{\\partial x_i}=\\ldots\n",
    "$$"
   ]
  },
  {
   "cell_type": "markdown",
   "metadata": {},
   "source": [
    "**Hessian**\n",
    "\n",
    "$$\n",
    "\\frac{\\partial^2 f(x, T, t)}{\\partial x_i^2}=\\ldots\n",
    "$$\n",
    "\n",
    "Note that\n",
    "\n",
    "$$\n",
    "\\frac{\\partial^2 f(x, T, t)}{\\partial x_i\\partial x_j}=\\ldots \\qquad \\text{if $i\\neq j$}\n",
    "$$"
   ]
  },
  {
   "cell_type": "code",
   "execution_count": null,
   "metadata": {
    "collapsed": true
   },
   "outputs": [],
   "source": [
    "def gibbs_fun(x, T, t):\n",
    "    \"\"\"\n",
    "    Negative entropy\n",
    "    Inputs:\n",
    "        - x: vector of the concentrations (19 x 1)\n",
    "        - T: temperature\n",
    "        - t: parameter for soft constraint\n",
    "    Output: the function value of the negative entropy\n",
    "    \"\"\"\n",
    "    # complete...\n",
    "\n",
    "def gibbs_gradient(x, T, t):\n",
    "    \"\"\"\n",
    "    Gradient of the negative entropy\n",
    "    Inputs:\n",
    "        - x: vector of the concentrations (19 x 1)\n",
    "        - T: temperature\n",
    "        - t: parameter for soft constraint\n",
    "    Output: the gradient of the negative entropy\n",
    "        (19 x 1 vector)\n",
    "    \"\"\"\n",
    "    # complete...\n",
    "\n",
    "def gibbs_hessian(x, T, t):\n",
    "    \"\"\"\n",
    "    Hessian of negative entropy\n",
    "    Inputs:\n",
    "        - x: vector of the concentrations (19 x 1)\n",
    "        - T: temperature\n",
    "        - t: parameter for soft constraint\n",
    "    Output: the gradient of the negative entropy\n",
    "        (19 x 19 matrix)\n",
    "    \"\"\"\n",
    "    # complete..."
   ]
  },
  {
   "cell_type": "markdown",
   "metadata": {},
   "source": [
    "**ASSIGNMENT 3**\n",
    "\n",
    "Complete the code for a single constrained Newton step for this problem."
   ]
  },
  {
   "cell_type": "code",
   "execution_count": null,
   "metadata": {
    "collapsed": true
   },
   "outputs": [],
   "source": [
    "def constained_newton_step(x, S, c, T, t):\n",
    "    \"\"\"\n",
    "    Computes a constrained Newton step for the approximated\n",
    "    Gibbs free energy minimization problem.\n",
    "    \n",
    "    Inputs:\n",
    "        - x: point in which to compute the Newton step, does not have to be feasible\n",
    "        - S, c: matrix and vector of the system describing the mass balance\n",
    "        - T: temperature of the system\n",
    "        - t: constant of the approximation of the logaritmic barrier\n",
    "        \n",
    "    Output:\n",
    "        - Dx: the Newton step\n",
    "    \"\"\"\n",
    "    # complete\n",
    "    ...\n",
    "    Dx = ...\n",
    "    return Dx"
   ]
  },
  {
   "cell_type": "code",
   "execution_count": null,
   "metadata": {
    "collapsed": false
   },
   "outputs": [],
   "source": [
    "constained_newton_step(np.ones((19,1)), S, c, T=100, t=0.1)"
   ]
  },
  {
   "cell_type": "markdown",
   "metadata": {},
   "source": [
    "**ASSIGNMENT 4**"
   ]
  },
  {
   "cell_type": "code",
   "execution_count": null,
   "metadata": {
    "collapsed": false
   },
   "outputs": [],
   "source": [
    "def feasible_init(A=0.3, B=0.4, C=0.3, init_frac=1e-4):\n",
    "    \"\"\"\n",
    "    Generates a strictly feasible inital solution with given fractions\n",
    "    of A, B and C.\n",
    "    Starts with a vector containing only the initial monomers and creates\n",
    "    a vector with positive concentrations by making an init_frac of\n",
    "    each oligomer. \n",
    "    \"\"\"\n",
    "    iA = compounds.index('A')\n",
    "    iB = compounds.index('B')\n",
    "    iC = compounds.index('C')\n",
    "    x0 = np.zeros((len(compounds), 1))\n",
    "    x0[iA] = A\n",
    "    x0[iB] = B\n",
    "    x0[iC] = C\n",
    "    for i, comp in enumerate(compounds):\n",
    "        if comp != 'A' and comp != 'B' and comp != 'C':\n",
    "            x0[iA] -= init_frac * comp.count('A') \n",
    "            x0[iB] -= init_frac * comp.count('B')\n",
    "            x0[iC] -= init_frac * comp.count('C')\n",
    "            x0[i] = init_frac\n",
    "    return x0"
   ]
  },
  {
   "cell_type": "code",
   "execution_count": null,
   "metadata": {
    "collapsed": false
   },
   "outputs": [],
   "source": [
    "x0 = ...\n",
    "print(x0)"
   ]
  },
  {
   "cell_type": "code",
   "execution_count": null,
   "metadata": {
    "collapsed": false
   },
   "outputs": [],
   "source": [
    "# check if mass balance is satisfied\n",
    "print(S.dot(x0) - c)"
   ]
  },
  {
   "cell_type": "code",
   "execution_count": null,
   "metadata": {
    "collapsed": false
   },
   "outputs": [],
   "source": [
    "# check if all concentrations are positive\n",
    "print(np.alltrue(x0>0))"
   ]
  },
  {
   "cell_type": "markdown",
   "metadata": {
    "collapsed": false
   },
   "source": [
    "**ASSIGNMENT 5**\n",
    "\n",
    "Complete the code for the simplified barrier method."
   ]
  },
  {
   "cell_type": "code",
   "execution_count": null,
   "metadata": {
    "collapsed": true
   },
   "outputs": [],
   "source": [
    "def barrier_method(x0, S, c, T, t0=0.001, tmax=1000, mu=10, nu=0.2,\n",
    "                   m=25):\n",
    "    \"\"\"\n",
    "    Simplified version of the barrier method, uses a fixed number of\n",
    "    steps and a fixed stepsize for the optimization.\n",
    "    \n",
    "    Inputs:\n",
    "        - x0: starting point, vector with strictly positive elements, but not necessarily feasible\n",
    "        - S, c: matrix and vector of the system describing the mass balance\n",
    "        - T: temperature of the system\n",
    "        - t0: initial constant of the approximation of the logaritmic barrier\n",
    "        - tmax: maximum value of t\n",
    "        - mu: hyperparameter to determine how fast t increases\n",
    "        - nu: size of Newton step\n",
    "        - m: number of inner newton steps with fixed t\n",
    "        \n",
    "    Output:\n",
    "        - Dx: the Newton step\n",
    "    \"\"\"\n",
    "    t = t0    \n",
    "    x = x0\n",
    "    while ...:\n",
    "        for i in ...\n",
    "            Dx = ...\n",
    "            x = ...\n",
    "        t *= mu\n",
    "    return x"
   ]
  },
  {
   "cell_type": "code",
   "execution_count": null,
   "metadata": {
    "collapsed": false
   },
   "outputs": [],
   "source": [
    "x0 = feasible_init(A=c[0], B=c[1], C=c[2], init_frac=1e-3)\n",
    "x0 = np.ones_like(x0)"
   ]
  },
  {
   "cell_type": "code",
   "execution_count": null,
   "metadata": {
    "collapsed": false,
    "scrolled": false
   },
   "outputs": [],
   "source": [
    "xstar = barrier_method(x0, S, c, T=100)\n",
    "for comp, conc in zip(compounds, xstar):\n",
    "    print(comp, conc)"
   ]
  },
  {
   "cell_type": "markdown",
   "metadata": {},
   "source": [
    "**Assignment 6**"
   ]
  },
  {
   "cell_type": "code",
   "execution_count": null,
   "metadata": {
    "collapsed": false
   },
   "outputs": [],
   "source": [
    "# functions for calculating entropy and enthalpy\n",
    "entropy = lambda x : - np.sum(x * np.log(x))\n",
    "enthalpy = lambda x : np.sum(enthalpies * x.reshape((-1, 1)))"
   ]
  },
  {
   "cell_type": "code",
   "execution_count": null,
   "metadata": {
    "collapsed": false
   },
   "outputs": [],
   "source": [
    "temperature_steps = 10.0 ** np.arange(-2, 6)\n",
    "temperature_steps"
   ]
  },
  {
   "cell_type": "code",
   "execution_count": null,
   "metadata": {
    "collapsed": false
   },
   "outputs": [],
   "source": [
    "concentrations_temp = np.zeros((19, len(temperature_steps)))\n",
    "entropy_temp = np.zeros((len(temperature_steps, )))\n",
    "enthalpy_temp = np.zeros((len(temperature_steps, )))"
   ]
  },
  {
   "cell_type": "code",
   "execution_count": null,
   "metadata": {
    "collapsed": false
   },
   "outputs": [],
   "source": [
    "for i, T in enumerate(temperature_steps):\n",
    "    x0 = feasible_init(A=c[0], B=c[1], C=c[2], init_frac=1e-3)\n",
    "    concentrations_temp[:, i] = barrier_method(x0, S, c, T=T).ravel()\n",
    "    entropy_temp[i] = entropy(concentrations_temp[:, i])\n",
    "    enthalpy_temp[i] = enthalpy(concentrations_temp[:, i])"
   ]
  },
  {
   "cell_type": "code",
   "execution_count": null,
   "metadata": {
    "collapsed": false
   },
   "outputs": [],
   "source": [
    "fig, (ax0, ax1, ax2) = plt.subplots(nrows=3, figsize=(10, 15))\n",
    "\n",
    "linestyles = ['-','--', '-.', ':']\n",
    "\n",
    "ax0.loglog()\n",
    "ax0.set_xlabel('Temperature')\n",
    "ax0.set_ylabel('Concentration')\n",
    "for i, comp in enumerate(compounds):\n",
    "    comp_len = len(comp)\n",
    "    ax0.plot(temperature_steps, concentrations_temp[i, :],\n",
    "             ls=linestyles[comp_len-1], label=comp)\n",
    "ax0.legend(loc=0)\n",
    "\n",
    "ax1.semilogx()\n",
    "ax1.plot(temperature_steps, entropy_temp)\n",
    "ax1.set_xlabel('Temperature')\n",
    "ax1.set_ylabel('Entropy')\n",
    "\n",
    "ax2.semilogx()\n",
    "ax2.plot(temperature_steps, enthalpy_temp)\n",
    "ax2.set_xlabel('Temperature')\n",
    "ax2.set_ylabel('Enthalpy')"
   ]
  },
  {
   "cell_type": "markdown",
   "metadata": {},
   "source": [
    "**Describe the obtained plots and give a physicochemical interpretation**\n",
    "\n",
    "YOUR TEXT HERE"
   ]
  },
  {
   "cell_type": "markdown",
   "metadata": {
    "collapsed": true
   },
   "source": [
    "**Assignment 7**"
   ]
  },
  {
   "cell_type": "code",
   "execution_count": null,
   "metadata": {
    "collapsed": false
   },
   "outputs": [],
   "source": [
    "equilibriums = []\n",
    "\n",
    "for A in np.arange(0.01, 0.98, 0.05):\n",
    "    for B in np.arange(0.01, 1 - A - 0.01, 0.05):\n",
    "        C = 1 - A - B  # all sum to one\n",
    "        c = np.array([[A], [B], [C]])\n",
    "        x0 = feasible_init(A, B, C)\n",
    "        xstar = barrier_method(x0, S, c, T=100, nu=0.2, m=50)\n",
    "        equilibriums.append((xstar, (A, B, C)))  # save equilibrium mixture and constitution"
   ]
  },
  {
   "cell_type": "markdown",
   "metadata": {},
   "source": [
    "**Find inital mixture which will lead to the highest entropy.**"
   ]
  },
  {
   "cell_type": "code",
   "execution_count": null,
   "metadata": {
    "collapsed": false
   },
   "outputs": [],
   "source": [
    "# your code here"
   ]
  },
  {
   "cell_type": "markdown",
   "metadata": {},
   "source": [
    "**Find inital mixture which will lead to the lowest enthalpy.**"
   ]
  },
  {
   "cell_type": "code",
   "execution_count": null,
   "metadata": {
    "collapsed": false
   },
   "outputs": [],
   "source": [
    "# your code here"
   ]
  },
  {
   "cell_type": "markdown",
   "metadata": {},
   "source": [
    "**Find inital mixture which will lead to the highest concentration CBA.**"
   ]
  },
  {
   "cell_type": "code",
   "execution_count": null,
   "metadata": {
    "collapsed": false
   },
   "outputs": [],
   "source": [
    "# your code here"
   ]
  },
  {
   "cell_type": "markdown",
   "metadata": {
    "collapsed": true
   },
   "source": [
    "## References\n",
    "\n",
    "Boyd, S. and Vandenberghe, L. *'Convex Optimization'*. Cambridge University Press (2004) [link](https://stanford.edu/~boyd/cvxbook/)"
   ]
  }
 ],
 "metadata": {
  "anaconda-cloud": {},
  "kernelspec": {
   "display_name": "Python [conda root]",
   "language": "python",
   "name": "conda-root-py"
  },
  "language_info": {
   "codemirror_mode": {
    "name": "ipython",
    "version": 3
   },
   "file_extension": ".py",
   "mimetype": "text/x-python",
   "name": "python",
   "nbconvert_exporter": "python",
   "pygments_lexer": "ipython3",
   "version": "3.5.2"
  },
  "latex_envs": {
   "bibliofile": "biblio.bib",
   "cite_by": "apalike",
   "current_citInitial": 1,
   "eqLabelWithNumbers": true,
   "eqNumInitial": 0
  },
  "widgets": {
   "state": {
    "7afe0d5170a54a779ead5ea9cd0b4799": {
     "views": [
      {
       "cell_index": 36
      }
     ]
    }
   },
   "version": "1.2.0"
  }
 },
 "nbformat": 4,
 "nbformat_minor": 0
}
