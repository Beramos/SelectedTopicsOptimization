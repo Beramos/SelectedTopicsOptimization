{
 "cells": [
  {
   "cell_type": "markdown",
   "metadata": {},
   "source": [
    "# Hello, _nbpresent_!"
   ]
  },
  {
   "cell_type": "code",
   "execution_count": null,
   "metadata": {
    "collapsed": true
   },
   "outputs": [],
   "source": [
    "import nbpresent\n",
    "nbpresent.__version__"
   ]
  },
  {
   "cell_type": "code",
   "execution_count": 4,
   "metadata": {
    "collapsed": false,
    "nbpresent": {
     "id": "8c3f8673-19f1-483f-b27d-fc1edcc0843e"
    },
    "slideshow": {
     "slide_type": "skip"
    }
   },
   "outputs": [
    {
     "data": {
      "text/plain": [
       "'3.0.2'"
      ]
     },
     "execution_count": 4,
     "metadata": {},
     "output_type": "execute_result"
    }
   ],
   "source": [
    "import nbpresent\n",
    "nbpresent.__version__"
   ]
  },
  {
   "cell_type": "markdown",
   "metadata": {
    "nbpresent": {
     "id": "ee93740b-f080-477a-830c-f50ba1288506"
    },
    "slideshow": {
     "slide_type": "slide"
    }
   },
   "source": [
    "# Quadratic optimization"
   ]
  },
  {
   "cell_type": "markdown",
   "metadata": {
    "nbpresent": {
     "id": "19d24011-3b97-4387-b5f7-a762e870e467"
    },
    "slideshow": {
     "slide_type": "subslide"
    }
   },
   "source": [
    "text text"
   ]
  },
  {
   "cell_type": "markdown",
   "metadata": {
    "nbpresent": {
     "id": "1dae18cf-7a2c-4a39-9d5e-fb36e150aba7"
    },
    "slideshow": {
     "slide_type": "slide"
    }
   },
   "source": [
    "problem:\n",
    "\n",
    "$$\n",
    "\\min_x ax^2 + bx + c\n",
    "$$"
   ]
  },
  {
   "cell_type": "code",
   "execution_count": 5,
   "metadata": {
    "collapsed": true,
    "nbpresent": {
     "id": "08c91658-7ce3-4c14-b5e8-d517cae7496b"
    },
    "slideshow": {
     "slide_type": "subslide"
    }
   },
   "outputs": [],
   "source": [
    "def solve_quadratic(a, b, c=0):\n",
    "    return - b / (2 * a)"
   ]
  },
  {
   "cell_type": "code",
   "execution_count": 6,
   "metadata": {
    "collapsed": false,
    "nbpresent": {
     "id": "02733a14-ace2-4318-8162-1bb8d6ad3522"
    },
    "slideshow": {
     "slide_type": "fragment"
    }
   },
   "outputs": [
    {
     "data": {
      "text/plain": [
       "-0.18421052631578946"
      ]
     },
     "execution_count": 6,
     "metadata": {},
     "output_type": "execute_result"
    }
   ],
   "source": [
    "solve_quadratic(19, 7, 1)"
   ]
  },
  {
   "cell_type": "code",
   "execution_count": null,
   "metadata": {
    "collapsed": true,
    "nbpresent": {
     "id": "1315add5-44d0-46e1-9bdf-93da714f0372"
    }
   },
   "outputs": [],
   "source": []
  }
 ],
 "metadata": {
  "anaconda-cloud": {},
  "celltoolbar": "Slideshow",
  "kernelspec": {
   "display_name": "Python [conda root]",
   "language": "python",
   "name": "conda-root-py"
  },
  "language_info": {
   "codemirror_mode": {
    "name": "ipython",
    "version": 3
   },
   "file_extension": ".py",
   "mimetype": "text/x-python",
   "name": "python",
   "nbconvert_exporter": "python",
   "pygments_lexer": "ipython3",
   "version": "3.5.2"
  },
  "nbpresent": {
   "slides": {
    "78c67dd2-bd77-4ded-aabf-d0853de61e2d": {
     "id": "78c67dd2-bd77-4ded-aabf-d0853de61e2d",
     "prev": "e60b6b17-f539-4bf8-b92e-96e4299a011f",
     "regions": {
      "ea780b17-16e1-4904-8d65-efdc9ce15006": {
       "attrs": {
        "height": 0.8,
        "width": 0.8,
        "x": 0.1,
        "y": 0.1
       },
       "content": {
        "cell": "08c91658-7ce3-4c14-b5e8-d517cae7496b",
        "part": "whole"
       },
       "id": "ea780b17-16e1-4904-8d65-efdc9ce15006"
      }
     }
    },
    "824236d6-2c58-46c1-ae5d-3c52e4fd7db9": {
     "id": "824236d6-2c58-46c1-ae5d-3c52e4fd7db9",
     "prev": "78c67dd2-bd77-4ded-aabf-d0853de61e2d",
     "regions": {
      "e5fd8f1d-50d7-4e12-81cf-30ebc0a5d884": {
       "attrs": {
        "height": 0.8,
        "width": 0.8,
        "x": 0.1,
        "y": 0.1
       },
       "content": {
        "cell": "02733a14-ace2-4318-8162-1bb8d6ad3522",
        "part": "whole"
       },
       "id": "e5fd8f1d-50d7-4e12-81cf-30ebc0a5d884"
      }
     }
    },
    "de3792fb-a0be-49f5-b77e-af05e6c254f1": {
     "id": "de3792fb-a0be-49f5-b77e-af05e6c254f1",
     "prev": "ffce5b51-74d9-4f59-97c9-9a4656d4281c",
     "regions": {
      "a0ad3189-e80a-4ed7-8a2a-5ed42ceb0524": {
       "attrs": {
        "height": 1,
        "width": 1,
        "x": 0,
        "y": 0
       },
       "id": "a0ad3189-e80a-4ed7-8a2a-5ed42ceb0524"
      }
     }
    },
    "e60b6b17-f539-4bf8-b92e-96e4299a011f": {
     "id": "e60b6b17-f539-4bf8-b92e-96e4299a011f",
     "prev": "fb49b1c2-a93c-40cb-a6f8-54b15a1afee7",
     "regions": {
      "d1eb8248-b797-413f-affa-2fa4237695b0": {
       "attrs": {
        "height": 0.8,
        "width": 0.8,
        "x": 0.1,
        "y": 0.1
       },
       "content": {
        "cell": "1dae18cf-7a2c-4a39-9d5e-fb36e150aba7",
        "part": "whole"
       },
       "id": "d1eb8248-b797-413f-affa-2fa4237695b0"
      }
     }
    },
    "fb49b1c2-a93c-40cb-a6f8-54b15a1afee7": {
     "id": "fb49b1c2-a93c-40cb-a6f8-54b15a1afee7",
     "layout": "grid",
     "prev": "de3792fb-a0be-49f5-b77e-af05e6c254f1",
     "regions": {
      "7296524e-f379-47c1-85e8-5073b3baf51b": {
       "attrs": {
        "height": 1,
        "pad": 0.01,
        "treemap:weight": 1,
        "width": 0.5,
        "x": 0,
        "y": 0
       },
       "content": {
        "cell": "8c3f8673-19f1-483f-b27d-fc1edcc0843e",
        "part": "source"
       },
       "id": "7296524e-f379-47c1-85e8-5073b3baf51b"
      },
      "c748d519-d671-4a46-ba90-371d28d7112c": {
       "attrs": {
        "height": 1,
        "pad": 0.01,
        "treemap:weight": 1,
        "width": 0.5,
        "x": 0.5,
        "y": 0
       },
       "content": {
        "cell": "02733a14-ace2-4318-8162-1bb8d6ad3522",
        "part": "source"
       },
       "id": "c748d519-d671-4a46-ba90-371d28d7112c"
      }
     }
    },
    "ffce5b51-74d9-4f59-97c9-9a4656d4281c": {
     "id": "ffce5b51-74d9-4f59-97c9-9a4656d4281c",
     "prev": null,
     "regions": {}
    }
   },
   "themes": {
    "default": "39491860-1114-428e-824a-dd298c10bdf6",
    "theme": {
     "39491860-1114-428e-824a-dd298c10bdf6": {
      "backgrounds": {
       "backgroundColor": {
        "background-color": "backgroundColor",
        "id": "backgroundColor"
       }
      },
      "id": "39491860-1114-428e-824a-dd298c10bdf6",
      "palette": {
       "backgroundColor": {
        "id": "backgroundColor",
        "rgb": [
         256,
         256,
         256
        ]
       },
       "headingColor": {
        "id": "headingColor",
        "rgb": [
         0,
         0,
         0
        ]
       },
       "linkColor": {
        "id": "linkColor",
        "rgb": [
         0,
         0,
         139
        ]
       },
       "mainColor": {
        "id": "mainColor",
        "rgb": [
         0,
         0,
         0
        ]
       }
      },
      "rules": {
       "a": {
        "color": "linkColor"
       },
       "h1": {
        "color": "headingColor",
        "font-family": "News Cycle",
        "font-size": 7
       },
       "h2": {
        "color": "headingColor",
        "font-family": "News Cycle",
        "font-size": 5
       },
       "h3": {
        "color": "headingColor",
        "font-family": "News Cycle",
        "font-size": 3.75
       },
       "h4": {
        "color": "headingColor",
        "font-family": "News Cycle",
        "font-size": 3
       },
       "h5": {
        "color": "headingColor",
        "font-family": "News Cycle"
       },
       "h6": {
        "color": "headingColor",
        "font-family": "News Cycle"
       },
       "h7": {
        "color": "headingColor",
        "font-family": "News Cycle"
       },
       "li": {
        "color": "mainColor",
        "font-family": "Lato",
        "font-size": 5
       },
       "p": {
        "color": "mainColor",
        "font-family": "Lato",
        "font-size": 5
       }
      },
      "text-base": {
       "color": "mainColor",
       "font-family": "Lato",
       "font-size": 5
      }
     }
    }
   }
  }
 },
 "nbformat": 4,
 "nbformat_minor": 1
}
