{
 "cells": [
  {
   "cell_type": "markdown",
   "metadata": {},
   "source": [
    "# Project discrete optimization: a walk to the park\n",
    "\n",
    "*Selected Topics in Mathematical Optimization: 2017-2018*\n",
    "\n",
    "**Michiel Stock** ([email](michiel.stock@ugent.be))\n",
    "\n",
    "![](Figures/logo.png)"
   ]
  },
  {
   "cell_type": "markdown",
   "metadata": {},
   "source": [
    "YOUR NAME(S) HERE"
   ]
  },
  {
   "cell_type": "code",
   "execution_count": 1,
   "metadata": {
    "ExecuteTime": {
     "end_time": "2018-04-18T08:22:17.832790Z",
     "start_time": "2018-04-18T08:22:17.559764Z"
    },
    "collapsed": true
   },
   "outputs": [],
   "source": [
    "import numpy as np\n",
    "import matplotlib.pyplot as plt\n",
    "import json\n",
    "\n",
    "%matplotlib inline\n",
    "\n",
    "blue = '#264653'\n",
    "green = '#2a9d8f'\n",
    "yellow = '#e9c46a'\n",
    "orange = '#f4a261'\n",
    "red = '#e76f51'\n",
    "black = '#50514F'"
   ]
  },
  {
   "cell_type": "markdown",
   "metadata": {},
   "source": [
    "In this project we will study a fictitious city (you can imagine it to be the capital of your favourite fantasy setting). A map of this city is given below.\n",
    "\n",
    "![A city with streets and parks.](Figures/city_map.png)\n",
    "\n",
    "Every point on this map is a crossing, and every grey line is a street between two crossings. Every street is a straight line and the length of the street is just the Euclidean distance between the two crossings.\n",
    "\n",
    "This city also has some parks, indicated in green:\n",
    "\n",
    "- **park A** at the top left corner;\n",
    "- **park B** on the right, traversing top to bottom;\n",
    "- **park C**, the little circular region in the middle."
   ]
  },
  {
   "cell_type": "markdown",
   "metadata": {},
   "source": [
    "This city can be represented as a weighted graph. Every vertex has an integer identifier and is associated with an $x,y$ coordinate. We have also three lists containing the indices of the vertices lying in the parks."
   ]
  },
  {
   "cell_type": "code",
   "execution_count": 24,
   "metadata": {
    "ExecuteTime": {
     "end_time": "2018-04-18T08:39:45.999456Z",
     "start_time": "2018-04-18T08:39:45.982660Z"
    }
   },
   "outputs": [],
   "source": [
    "with open('Data/city.json', 'r') as fh:\n",
    "    city = json.load(fh)\n",
    "    \n",
    "edges = list(map(tuple, city['edges']))\n",
    "coordinates = city['coordinates']\n",
    "vertices = list(city['vertices'])\n",
    "\n",
    "park_A = city['parks']['A']\n",
    "park_B = city['parks']['B']\n",
    "park_C = city['parks']['C']\n",
    "\n",
    "park_lst = ['A', 'B' , 'C']\n",
    "parks = [city['parks'][park] for park in park_lst]"
   ]
  },
  {
   "cell_type": "markdown",
   "metadata": {},
   "source": [
    "The main research question of this project is:\n",
    "\n",
    "> What is the shortest path from *any* vertex to a vertex in a park?\n",
    "\n",
    "As a first heuristic, we can use the minimum spanning tree on the graph. As seen in the theory, this is the tree tree that connects all vertices and has the lowest cost. From this tree, there is a single path from every edge to every other edge.\n",
    "\n",
    "In a second step, we will use shortest path algorithms to find the true shortest path for every vertex."
   ]
  },
  {
   "cell_type": "markdown",
   "metadata": {},
   "source": [
    "**ASSIGNMENTS**\n",
    "\n",
    "1. Find the minimum spanning tree for this graph.\n",
    "    - Make a plot of the minimum spanning tree for this graph.\n",
    "    - Compute the distance from any vertex on the minimum spanning tree to the closest vertex lying in a park.\n",
    "    - Make a histogram of these distances (remove distances equal to zero, i.e. from vertices already in a park).\n",
    "2. Compute the shortest distances from any vertex to the closest vertex (note that all shortest paths together will be a forest).\n",
    "    - Implement this in an efficient way, **not** by using A* in a for-loop!\n",
    "    - Show your solution on a plot, color the vertices according to the distances to the closest park and add arrows to indicate which vertex to take.\n",
    "    - Show for every vertex whether park A, B or C is the closest.\n",
    "    - Make a histogram of these distances (remove distances equal to zero, i.e. from vertices already in a park). Compare with the minimum spanning tree."
   ]
  },
  {
   "cell_type": "markdown",
   "metadata": {},
   "source": [
    "Some guidelines for completing this project:\n",
    "\n",
    "- Write clear code with human-readable names and comments where needed. Add a (basic) docstring to all your functions.\n",
    "- Make clear figures with ax labels, titles etc.\n",
    "- Always provide some interpretation of the results.\n",
    "- You **can** recycle and modify code from earlier chapters or other sources. Clearly indicate where you obtained this code from (you can add a hyperlink to the original source)."
   ]
  },
  {
   "cell_type": "markdown",
   "metadata": {},
   "source": [
    "Finally, some hints that can help you do this project efficiently:\n",
    "\n",
    "- Carefully read all assignments, assignment 1 and 2 essentially ask the same thing.\n",
    "- The shortest path from vertex A to vertex B is the same as from vertex B to vertex A.\n",
    "- If vertex C is on the shortest path from vertex A to vertex B, then you also found the shortest path from vertex C to vertex B. "
   ]
  },
  {
   "cell_type": "markdown",
   "metadata": {},
   "source": [
    "## The data"
   ]
  },
  {
   "cell_type": "markdown",
   "metadata": {},
   "source": [
    "### Importing libraries"
   ]
  },
  {
   "cell_type": "code",
   "execution_count": 3,
   "metadata": {
    "ExecuteTime": {
     "end_time": "2018-04-18T08:22:18.419618Z",
     "start_time": "2018-04-18T08:22:18.416264Z"
    },
    "collapsed": true
   },
   "outputs": [],
   "source": [
    "import heapq\n",
    "from heapq import heapify, heappop, heappush\n",
    "from numpy import inf\n",
    "from numpy import sum as npsum"
   ]
  },
  {
   "cell_type": "markdown",
   "metadata": {},
   "source": [
    "### Function definitions\n"
   ]
  },
  {
   "cell_type": "code",
   "execution_count": 8,
   "metadata": {
    "ExecuteTime": {
     "end_time": "2018-04-18T08:22:40.988958Z",
     "start_time": "2018-04-18T08:22:40.807482Z"
    }
   },
   "outputs": [],
   "source": [
    "# Lecture 05 Michiel's functions\n",
    "def edges_to_adj_list(edges):\n",
    "    \"\"\"\n",
    "    Turns a list of edges in an adjecency list (implemented as a list).\n",
    "    Edges don't have to be doubled, will automatically be symmetric\n",
    "\n",
    "    Input:\n",
    "        - edges : a list of weighted edges (e.g. (0.7, 'A', 'B') for an\n",
    "                    edge from node A to node B with weigth 0.7)\n",
    "\n",
    "    Output:\n",
    "        - adj_list : a dict of a set of weighted edges\n",
    "    \"\"\"\n",
    "    adj_list = {}\n",
    "    for w, i, j in edges:\n",
    "        for v in (i, j):\n",
    "            if v not in adj_list:\n",
    "                adj_list[v] = set([])\n",
    "        adj_list[i].add((w, j))\n",
    "        adj_list[j].add((w, i))\n",
    "    return adj_list\n",
    "\n",
    "def adj_list_to_edges(adj_list):\n",
    "    \"\"\"\n",
    "    Turns an adjecency list in a list of edges (implemented as a list).\n",
    "\n",
    "    Input:\n",
    "        - adj_list : a dict of a set of weighted edges\n",
    "\n",
    "    Output:\n",
    "        - edges : a list of weighted edges (e.g. (0.7, 'A', 'B') for an\n",
    "                    edge from node A to node B with weigth 0.7)\n",
    "    \"\"\"\n",
    "    edges = []\n",
    "    for v, adjacent_vertices in adj_list.items():\n",
    "        for w, u in adjacent_vertices:\n",
    "            edges.append((w, u, v))\n",
    "    return edges\n",
    "\n",
    "# Lecture 05 my implementation \n",
    "def prim(vertices, edges, start, add_weights=False):\n",
    "    \"\"\"\n",
    "    Prim's algorithm for finding a minimum spanning tree.\n",
    "\n",
    "    Inputs :\n",
    "        - vertices : a set of the vertices of the Graph\n",
    "        - edges : a list of weighted edges (e.g. (0.7, 'A', 'B') for an\n",
    "                    edge from node A to node B with weigth 0.7)\n",
    "        - start : an edge to start with\n",
    "\n",
    "    Output:\n",
    "        - edges : a minumum spanning tree represented as a list of edges\n",
    "        - total_cost : total cost of the tree\n",
    "    \"\"\"\n",
    "    adj_list = edges_to_adj_list(edges)\n",
    "    # list of tuples describing the edges starting from the start\n",
    "    # vertix, with weights, i.e. the candidate edges\n",
    "    to_check = [(w, start, v_new) for w, v_new in adj_list[start]]\n",
    "    # heapify the list (~sorting)\n",
    "    heapq.heapify(to_check)\n",
    "    # for every node connected to the\n",
    "    #dist_to_mst = {i : (w, start) for w, i in adj_list.pop(start)}\n",
    "    mst_edges = []\n",
    "    mst_vertices = set([start])\n",
    "    total_cost = 0\n",
    "    while to_check:\n",
    "        # get the edge with the lowest cost connected to the vertix\n",
    "        cost, v_in_mst, v_new = heapq.heappop(to_check)\n",
    "        # check if the vertex is not in the current list of vertices\n",
    "        # aka the path that is constructed\n",
    "        if v_new not in mst_vertices:\n",
    "            # if not, add to mst\n",
    "            if add_weights:\n",
    "                mst_edges.append((cost, v_in_mst, v_new))\n",
    "            else:\n",
    "                mst_edges.append((v_in_mst, v_new))\n",
    "            mst_vertices.add(v_new)\n",
    "            total_cost += cost\n",
    "            # update the heap with candidate edges: adding the edges starting\n",
    "            # from the newly added vertix\n",
    "            for cost, v in adj_list[v_new]:\n",
    "                heapq.heappush(to_check, (cost, v_new, v))    \n",
    "    return mst_edges, total_cost\n",
    "\n",
    "# A* Michiel stocks implementation we cannot possibly do it better\n",
    "def a_star(graph, source, sink, heuristic):\n",
    "    \"\"\"\n",
    "    Implementation of the A* shortest path algorithm.\n",
    "\n",
    "    Inputs:\n",
    "        - graph : dict representing the weighted graph\n",
    "        - source : the source node\n",
    "        - sink : the sink node (optional)\n",
    "        - heuristic : a function with the heuristic for the shortest path\n",
    "                    between two nodes\n",
    "\n",
    "    Ouputs:\n",
    "            - distance : dict with the distances of the nodes to the source\n",
    "            - previous : dict with for each node the previous node in the\n",
    "                        shortest path from the source\n",
    "    \"\"\"\n",
    "    distance = {v : inf for v in graph.keys()}\n",
    "    # vertices_to_check is a heap containing the estimated distance\n",
    "    # of a given node to a source\n",
    "    vertices_to_check = [(heuristic(source, sink), source)]\n",
    "    previous = {}\n",
    "\n",
    "    distance[source] = 0\n",
    "\n",
    "    while vertices_to_check:\n",
    "        heuristic_dist, current = heappop(vertices_to_check)\n",
    "        if current == sink:\n",
    "            return reconstruct_path(previous, source, sink), distance[sink]\n",
    "        for dist_current_neighbor, neighbor in graph[current]:\n",
    "            new_dist_from_source = distance[current] + dist_current_neighbor\n",
    "            if new_dist_from_source < distance[neighbor]:\n",
    "                distance[neighbor] = new_dist_from_source\n",
    "                min_dist_neighbor_source = distance[neighbor] +\\\n",
    "                        heuristic(neighbor, sink)\n",
    "                heappush(vertices_to_check, (min_dist_neighbor_source, neighbor))\n",
    "                previous[neighbor] = current\n",
    "\n",
    "def reconstruct_path(previous, source, sink):\n",
    "    \"\"\"\n",
    "    Reconstruct the path from the output of the Dijkstra algorithm.\n",
    "\n",
    "    Inputs:\n",
    "            - previous : a dict with the previous node in the path\n",
    "            - source : the source node\n",
    "            - sink : the sink node\n",
    "    Ouput:\n",
    "            - the shortest path from source to sink\n",
    "    \"\"\"\n",
    "    if sink not in previous:\n",
    "        return []\n",
    "    v = sink\n",
    "    path = [v]\n",
    "    while v is not source:\n",
    "        v = previous[v]\n",
    "        path = [v] + path\n",
    "    return path\n",
    "\n",
    "# Own imp.\n",
    "def add_path(path, ax, color=red):\n",
    "    \"\"\"\n",
    "    Add a path to an ax\n",
    "    \"\"\"\n",
    "    for i in range(len(path)-1):\n",
    "        i1, j1 = coordinates[path[i]]\n",
    "        i2, j2 = coordinates[path[i+1]]\n",
    "        ax.plot([i1, i2], [j1, j2], c=color, lw=2)"
   ]
  },
  {
   "cell_type": "markdown",
   "metadata": {},
   "source": [
    "### Assignment 1"
   ]
  },
  {
   "cell_type": "code",
   "execution_count": 47,
   "metadata": {
    "ExecuteTime": {
     "end_time": "2018-04-18T13:11:44.341365Z",
     "start_time": "2018-04-18T13:11:44.321210Z"
    },
    "collapsed": true
   },
   "outputs": [],
   "source": [
    "min_span_edge_lst, cost = prim(vertices=vertices,edges=edges,start=1, add_weights=True)\n",
    "min_span_adj_lst = edges_to_adj_list(min_span_edge_lst)"
   ]
  },
  {
   "cell_type": "code",
   "execution_count": 6,
   "metadata": {
    "ExecuteTime": {
     "end_time": "2018-04-18T08:22:19.161135Z",
     "start_time": "2018-04-18T08:22:18.854844Z"
    }
   },
   "outputs": [
    {
     "ename": "NameError",
     "evalue": "name 'edge_list' is not defined",
     "output_type": "error",
     "traceback": [
      "\u001b[0;31m---------------------------------------------------------------------------\u001b[0m",
      "\u001b[0;31mNameError\u001b[0m                                 Traceback (most recent call last)",
      "\u001b[0;32m<ipython-input-6-a30c11ac1f46>\u001b[0m in \u001b[0;36m<module>\u001b[0;34m()\u001b[0m\n\u001b[1;32m      1\u001b[0m \u001b[0mfig\u001b[0m\u001b[0;34m,\u001b[0m \u001b[0max\u001b[0m \u001b[0;34m=\u001b[0m \u001b[0mplt\u001b[0m\u001b[0;34m.\u001b[0m\u001b[0msubplots\u001b[0m\u001b[0;34m(\u001b[0m\u001b[0;34m)\u001b[0m\u001b[0;34m\u001b[0m\u001b[0m\n\u001b[1;32m      2\u001b[0m \u001b[0mX\u001b[0m \u001b[0;34m=\u001b[0m \u001b[0mnp\u001b[0m\u001b[0;34m.\u001b[0m\u001b[0marray\u001b[0m\u001b[0;34m(\u001b[0m\u001b[0mcoordinates\u001b[0m\u001b[0;34m)\u001b[0m\u001b[0;34m\u001b[0m\u001b[0m\n\u001b[0;32m----> 3\u001b[0;31m \u001b[0;32mfor\u001b[0m \u001b[0mi\u001b[0m\u001b[0;34m,\u001b[0m\u001b[0mj\u001b[0m \u001b[0;32min\u001b[0m \u001b[0medge_list\u001b[0m\u001b[0;34m:\u001b[0m\u001b[0;34m\u001b[0m\u001b[0m\n\u001b[0m\u001b[1;32m      4\u001b[0m     \u001b[0mplt\u001b[0m\u001b[0;34m.\u001b[0m\u001b[0mplot\u001b[0m\u001b[0;34m(\u001b[0m\u001b[0;34m[\u001b[0m\u001b[0mX\u001b[0m\u001b[0;34m[\u001b[0m\u001b[0mi\u001b[0m\u001b[0;34m,\u001b[0m\u001b[0;36m0\u001b[0m\u001b[0;34m]\u001b[0m\u001b[0;34m,\u001b[0m\u001b[0mX\u001b[0m\u001b[0;34m[\u001b[0m\u001b[0mj\u001b[0m\u001b[0;34m,\u001b[0m\u001b[0;36m0\u001b[0m\u001b[0;34m]\u001b[0m\u001b[0;34m]\u001b[0m\u001b[0;34m,\u001b[0m\u001b[0;34m[\u001b[0m\u001b[0mX\u001b[0m\u001b[0;34m[\u001b[0m\u001b[0mi\u001b[0m\u001b[0;34m,\u001b[0m\u001b[0;36m1\u001b[0m\u001b[0;34m]\u001b[0m\u001b[0;34m,\u001b[0m\u001b[0mX\u001b[0m\u001b[0;34m[\u001b[0m\u001b[0mj\u001b[0m\u001b[0;34m,\u001b[0m\u001b[0;36m1\u001b[0m\u001b[0;34m]\u001b[0m\u001b[0;34m]\u001b[0m\u001b[0;34m)\u001b[0m\u001b[0;34m\u001b[0m\u001b[0m\n",
      "\u001b[0;31mNameError\u001b[0m: name 'edge_list' is not defined"
     ]
    },
    {
     "data": {
      "image/png": "[encoded data removed]",
      "text/plain": [
       "<matplotlib.figure.Figure at 0x7f7f3d4f8748>"
      ]
     },
     "metadata": {},
     "output_type": "display_data"
    }
   ],
   "source": [
    "fig, ax = plt.subplots()\n",
    "X = np.array(coordinates)\n",
    "for i,j in edge_list:\n",
    "    plt.plot([X[i,0],X[j,0]],[X[i,1],X[j,1]])"
   ]
  },
  {
   "cell_type": "code",
   "execution_count": 11,
   "metadata": {
    "ExecuteTime": {
     "end_time": "2018-04-18T08:23:24.610397Z",
     "start_time": "2018-04-18T08:23:24.603222Z"
    },
    "collapsed": true
   },
   "outputs": [],
   "source": [
    "euclidean_distance = lambda x, y : sum([(xi - yi)**2 for xi, yi in zip(coordinates[x], coordinates[y])])**0.5"
   ]
  },
  {
   "cell_type": "code",
   "execution_count": 14,
   "metadata": {
    "ExecuteTime": {
     "end_time": "2018-04-18T08:23:41.904680Z",
     "start_time": "2018-04-18T08:23:41.886391Z"
    }
   },
   "outputs": [],
   "source": [
    "#path_astar,length_astar = a_star(min_span_adj_lst, source=0, sink=500, heuristic=euclidean_distance)\n",
    "graph = edges_to_adj_list(edges)\n",
    "path_astar,length_astar = a_star(graph=graph, source=0, sink=500, heuristic=euclidean_distance)"
   ]
  },
  {
   "cell_type": "code",
   "execution_count": 15,
   "metadata": {
    "ExecuteTime": {
     "end_time": "2018-04-18T08:23:45.349337Z",
     "start_time": "2018-04-18T08:23:45.164597Z"
    }
   },
   "outputs": [
    {
     "data": {
      "text/plain": [
       "(0, 150)"
      ]
     },
     "execution_count": 15,
     "metadata": {},
     "output_type": "execute_result"
    },
    {
     "data": {
      "image/png": "[encoded data removed]",
      "text/plain": [
       "<matplotlib.figure.Figure at 0x7f7f3512e630>"
      ]
     },
     "metadata": {},
     "output_type": "display_data"
    }
   ],
   "source": [
    "fig, ax = plt.subplots(figsize=(15,9))\n",
    "X = np.array(coordinates)\n",
    "# plot with links\n",
    "ax.scatter(X[:,0], X[:,1], s=5, color=green, zorder=2)\n",
    "add_path(path_astar, ax, orange)\n",
    "ax.set_xlim(0,250)\n",
    "ax.set_ylim(0,150)"
   ]
  },
  {
   "cell_type": "code",
   "execution_count": null,
   "metadata": {
    "ExecuteTime": {
     "end_time": "2018-04-18T08:22:19.170214Z",
     "start_time": "2018-04-18T08:22:18.684Z"
    },
    "collapsed": true
   },
   "outputs": [],
   "source": [
    "# YOUR CODE, PLOTS AND NOTES GO HERE"
   ]
  },
  {
   "cell_type": "markdown",
   "metadata": {
    "collapsed": true
   },
   "source": [
    "### Assignment 2"
   ]
  },
  {
   "cell_type": "markdown",
   "metadata": {
    "collapsed": true
   },
   "source": [
    "Pseudo code:\n",
    "\n",
    "Get a list of all nodes that are on the edge of a park\n",
    "For each vertice not in path:\n",
    "    find closest park by finding closest vertice on edge of parth with euclidean distance\n",
    "\n",
    "\n",
    "for all nodes that are not in a park\n"
   ]
  },
  {
   "cell_type": "code",
   "execution_count": 42,
   "metadata": {
    "ExecuteTime": {
     "end_time": "2018-04-18T09:37:17.821390Z",
     "start_time": "2018-04-18T09:37:17.800969Z"
    }
   },
   "outputs": [],
   "source": [
    "#def park_edge(edges):\n",
    " #daan\n",
    "\n",
    "#def check_if_in_park(edge,park_A):\n",
    " #daan\n",
    "    \n",
    "def find_closest_park_vertice(vertice, vertices_park_edge, dist_measure):\n",
    "    distance_lst = dist_measure(vertice,vertices_park_edge)\n",
    "    mn,idx = min((distance_lst[i],i) for i in xrange(len(distance_lst)))\n",
    "    return idx\n",
    "\n",
    "def compute_shortest_path(graph):\n",
    "    graph_queu = graph\n",
    "    shortestpaths = {}\n",
    "    while graph_queu:\n",
    "        max_length = 1e10\n",
    "        path_list = []\n",
    "        source = graph.keys()[0]\n",
    "        for park_edge_vertex in park_edge_vertices:\n",
    "            temp_path_astar, temp_length_astar = path_ = a_star(graph=graph, source=source, sink=park_edge_vertex, heuristic=euclidean_distance)\n",
    "            if temp_length_astar < max_length:\n",
    "                path_list = temp_path_astar\n",
    "                max_length = temp_length_astar\n",
    "        \n",
    "        shortestpaths[source:path_list]\n",
    "        \n",
    "        # delete all nodes \n",
    "        for vertex in path_list:\n",
    "            del graph_queu[vertex]\n",
    "            \n",
    "        return shortestpaths"
   ]
  },
  {
   "cell_type": "code",
   "execution_count": null,
   "metadata": {
    "collapsed": true
   },
   "outputs": [],
   "source": [
    "euclidean_distance = lambda x, y : sum([(xi - yi)**2 for xi, yi in zip(coordinates[x], coordinates[y])])**0.5"
   ]
  }
 ],
 "metadata": {
  "anaconda-cloud": {},
  "kernelspec": {
   "display_name": "Python 3",
   "language": "python",
   "name": "python3"
  },
  "language_info": {
   "codemirror_mode": {
    "name": "ipython",
    "version": 3
   },
   "file_extension": ".py",
   "mimetype": "text/x-python",
   "name": "python",
   "nbconvert_exporter": "python",
   "pygments_lexer": "ipython3",
   "version": "3.6.3"
  },
  "latex_envs": {
   "LaTeX_envs_menu_present": true,
   "autocomplete": true,
   "bibliofile": "biblio.bib",
   "cite_by": "apalike",
   "current_citInitial": 1,
   "eqLabelWithNumbers": true,
   "eqNumInitial": 0,
   "hotkeys": {
    "equation": "Ctrl-E",
    "itemize": "Ctrl-I"
   },
   "labels_anchors": false,
   "latex_user_defs": false,
   "report_style_numbering": false,
   "user_envs_cfg": false
  },
  "toc": {
   "nav_menu": {},
   "number_sections": true,
   "sideBar": true,
   "skip_h1_title": false,
   "toc_cell": false,
   "toc_position": {},
   "toc_section_display": "block",
   "toc_window_display": false
  }
 },
 "nbformat": 4,
 "nbformat_minor": 1
}
