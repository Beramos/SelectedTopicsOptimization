{
 "cells": [
  {
   "cell_type": "markdown",
   "metadata": {},
   "source": [
    "# Project discrete optimization: a walk to the path\n",
    "\n",
    "*Selected Topics in Mathematical Optimization: 2017-2018*\n",
    "\n",
    "**Michiel Stock** ([email](michiel.stock@ugent.be))\n",
    "\n",
    "![](Figures/logo.png)"
   ]
  },
  {
   "cell_type": "markdown",
   "metadata": {},
   "source": [
    "YOUR NAME(S) HERE"
   ]
  },
  {
   "cell_type": "code",
   "execution_count": 1,
   "metadata": {},
   "outputs": [],
   "source": [
    "import numpy as np\n",
    "import matplotlib.pyplot as plt\n",
    "import json\n",
    "\n",
    "%matplotlib inline"
   ]
  },
  {
   "cell_type": "markdown",
   "metadata": {},
   "source": [
    "In this project we will study a fictitious city (you can imagine it to be the capital of your favourite fantasy setting). A map of this city is given below.\n",
    "\n",
    "![A city with streets and parks.](Figures/city_map.png)\n",
    "\n",
    "Every point on this map is a crossing, and every grey line is a street between two crossings. Every street is a straight line and the length of the street is just the Euclidean distance between the two crossings.\n",
    "\n",
    "This city also has some parks, indicated in green:\n",
    "- **park A** at the top left corner;\n",
    "- **park B** on the right, taversing top to bottom;\n",
    "- **park C**, the little circular region in the middle."
   ]
  },
  {
   "cell_type": "markdown",
   "metadata": {},
   "source": [
    "This city can be represented as a weighted graph. Every vertex has an integer identifier and is associated with an $x,y$ coordinate. We have also three lists containing the indices of the vertices lying in the parks."
   ]
  },
  {
   "cell_type": "code",
   "execution_count": 9,
   "metadata": {},
   "outputs": [],
   "source": [
    "with open('Data/city.json', 'r') as fh:\n",
    "    city = json.load(fh)\n",
    "    \n",
    "edges = list(map(tuple, city['edges']))\n",
    "coordinates = city['coordinates']\n",
    "park_A = city['parks']['A']\n",
    "park_B = city['parks']['B']\n",
    "park_C = city['parks']['C']"
   ]
  },
  {
   "cell_type": "markdown",
   "metadata": {},
   "source": [
    "The main research question of this project is:\n",
    "\n",
    "> What is the shortest path from *any* vertex to a vertex in a park?"
   ]
  },
  {
   "cell_type": "markdown",
   "metadata": {},
   "source": [
    "**ASSIGNMENTS**\n",
    "\n",
    "1. Find the minimum spanning tree for this graph.\n",
    "    - Make a plot of the minimum spanning tree for this graph.\n",
    "    - Compute the distance from any vertex on the minimum spanning tree to the closest vertex lying in a park.\n",
    "    - Make a histogram of these distances (remove distances equal to zero, i.e. from vertices already in a park).\n",
    "2. Compute the shortest distances from any vertex to the clostest vertex (note that all shortest paths together will be a forest).\n",
    "    - Implement this in an efficient way, **not** by using A* in a for-loop!\n",
    "    - Show your solution on a plot, color the vertices according to the distances to the clostest park and add arrows to indicate which vertex to take.\n",
    "    - Show for every vertex whether park A, B or C is the closest.\n",
    "    - Make a histogram of these distances (remove distances equal to zero, i.e. from vertices already in a park). Compare with the minimum spanning tree."
   ]
  },
  {
   "cell_type": "code",
   "execution_count": null,
   "metadata": {},
   "outputs": [],
   "source": [
    "# YOUR CODE, PLOTS AND NOTES GO HERE"
   ]
  },
  {
   "cell_type": "code",
   "execution_count": null,
   "metadata": {},
   "outputs": [],
   "source": []
  },
  {
   "cell_type": "code",
   "execution_count": null,
   "metadata": {},
   "outputs": [],
   "source": []
  },
  {
   "cell_type": "code",
   "execution_count": null,
   "metadata": {},
   "outputs": [],
   "source": []
  }
 ],
 "metadata": {
  "anaconda-cloud": {},
  "kernelspec": {
   "display_name": "Python 3",
   "language": "python",
   "name": "python3"
  },
  "language_info": {
   "codemirror_mode": {
    "name": "ipython",
    "version": 3
   },
   "file_extension": ".py",
   "mimetype": "text/x-python",
   "name": "python",
   "nbconvert_exporter": "python",
   "pygments_lexer": "ipython3",
   "version": "3.5.5"
  },
  "latex_envs": {
   "bibliofile": "biblio.bib",
   "cite_by": "apalike",
   "current_citInitial": 1,
   "eqLabelWithNumbers": true,
   "eqNumInitial": 0
  }
 },
 "nbformat": 4,
 "nbformat_minor": 1
}
