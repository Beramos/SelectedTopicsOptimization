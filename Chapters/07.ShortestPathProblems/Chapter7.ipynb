{
 "cells": [
  {
   "cell_type": "markdown",
   "metadata": {},
   "source": [
    "# Shortest Path Problems\n",
    "\n",
    "*Selected Topics in Mathematical Optimization: 2017-2018*\n",
    "\n",
    "**Michiel Stock** ([email](michiel.stock@ugent.be))\n",
    "\n",
    "![](Figures/logo.png)"
   ]
  },
  {
   "cell_type": "code",
   "execution_count": 1,
   "metadata": {
    "ExecuteTime": {
     "end_time": "2018-03-28T07:53:41.522253Z",
     "start_time": "2018-03-28T07:53:41.243320Z"
    },
    "collapsed": true
   },
   "outputs": [],
   "source": [
    "import matplotlib.pyplot as plt\n",
    "%matplotlib inline\n",
    "import numpy as np\n",
    "from shortestpaths import red, blue, green, yellow, orange\n",
    "from sys import path\n",
    "# add path of MST to load Tickets to Ride network\n",
    "path.append('../06.MinimumSpanningTrees')"
   ]
  },
  {
   "cell_type": "markdown",
   "metadata": {},
   "source": [
    "## Representing graphs in Python (recap)\n",
    "\n",
    "Graphs are discrete mathematical objects, represented as a tuple $G=(V, E)$ with $V$ the set of vertices (nodes, points) and $E$ the set of edges (links, arcs, lines) that connect the vertices.\n",
    "\n",
    "Consider for example the graph below.\n",
    "\n",
    "![A directed unweighted graph](Figures/unweighted_graph.png)\n",
    "\n",
    "This graph contains five edges: A, B, C, D and E and nine vertices. Since each of the vertices has a direction from one node to another so we call this a **directed graph**.\n",
    "\n",
    "Like most programming languages, Python does not provide direct support for graphs a data types. Graphs can however be represented by [**dictionaries**](https://docs.python.org/2/tutorial/datastructures.html#dictionaries). Dictionaries in Python store key-value pairs in a way such that accessing, insertion and deletion of new elements can be done very efficiently. The keys will represent the edges, while its associated values is the set of vertices to which depart from this node.\n",
    "\n",
    "For example, the unweighted graph above is represented bij the following code."
   ]
  },
  {
   "cell_type": "code",
   "execution_count": 2,
   "metadata": {
    "ExecuteTime": {
     "end_time": "2018-03-28T07:53:44.014343Z",
     "start_time": "2018-03-28T07:53:44.001887Z"
    },
    "collapsed": true
   },
   "outputs": [],
   "source": [
    "unweighted_graph = {'A' : set(['B']),\n",
    "                   'B' : set(['C']),\n",
    "                   'C' : set(['A', 'B', 'E']),\n",
    "                   'D' : set(['A']),\n",
    "                   'E' : set(['D', 'D'])  # set data structure only contains unique elements\n",
    "                   }                     # only one node will be retained"
   ]
  },
  {
   "cell_type": "markdown",
   "metadata": {},
   "source": [
    "Note that we store the outgoing vertices in a [**set**](https://docs.python.org/2/tutorial/datastructures.html#sets) data structure. This will allow us to perform certain operations faster. Note that of the two vertices starting for E only one is retained. "
   ]
  },
  {
   "cell_type": "code",
   "execution_count": 3,
   "metadata": {
    "ExecuteTime": {
     "end_time": "2018-03-28T07:53:47.026684Z",
     "start_time": "2018-03-28T07:53:47.014028Z"
    }
   },
   "outputs": [
    {
     "data": {
      "text/plain": [
       "{'D'}"
      ]
     },
     "execution_count": 3,
     "metadata": {},
     "output_type": "execute_result"
    }
   ],
   "source": [
    "unweighted_graph['E']"
   ]
  },
  {
   "cell_type": "markdown",
   "metadata": {},
   "source": [
    "In this chapter, we will focus on algorithms that process **weighted graphs**, i.e. graphs on which the vertices have a weight. For example:\n",
    "![A weighted directed graph](Figures/weighted_graph.png)\n",
    "We will store each vertex now as a tuple containing the weight and the outgoing edge it is connected to. For this example:"
   ]
  },
  {
   "cell_type": "code",
   "execution_count": 6,
   "metadata": {
    "ExecuteTime": {
     "end_time": "2018-03-28T08:10:56.262676Z",
     "start_time": "2018-03-28T08:10:56.259258Z"
    },
    "collapsed": true
   },
   "outputs": [],
   "source": [
    "weighted_graph = {'A' : set([(3, 'B')]),\n",
    "                   'B' : set([(2, 'C')]),\n",
    "                   'C' : set([(6, 'A'), (1, 'B'), (0.3, 'E')]),\n",
    "                   'D' : set([(9, 'A')]),\n",
    "                   'E' : set([(2.8, 'D'), (4.1, 'D'), (4.2, 'E')])  # two paths from E -> D\n",
    "                    }"
   ]
  },
  {
   "cell_type": "markdown",
   "metadata": {},
   "source": [
    "Storing a weighted vertex as `(weight, outgoing node)` has the advantage that the native `sort()` function in Python can be used to order vertices by weight, something which will be useful in the algorithms we will implement."
   ]
  },
  {
   "cell_type": "markdown",
   "metadata": {},
   "source": [
    "## Dijkstra's shortest path algorithm"
   ]
  },
  {
   "cell_type": "markdown",
   "metadata": {},
   "source": [
    "Dijkstra's algorithm is a popular algorithm to find the shortest path between the nodes of a graph. The algorithm can be used in two ways:\n",
    "\n",
    "- when both a source and a sink node are provided, the algorithm gives the list of nodes of the shortest path, together with the length (distance of the path).\n",
    "- when only a source is given, the shortest distance between the source and all (accessable) nodes is returned together with a dictionary representing the tree of the shortest paths between the source and other nodes.\n",
    "\n",
    "The pseudocode can be found below."
   ]
  },
  {
   "cell_type": "markdown",
   "metadata": {},
   "source": [
    "### Pseudocode of Dijkstra's shortest path algorithm\n",
    "Source: Wikipedia.org\n",
    "```\n",
    "1  function Dijkstra(Graph, source, sink (optional)):\n",
    "2      distance[source] := 0  // initialize a dictionary with distance\n",
    "3                             // to source\n",
    "4      for each vertex V in Graph: \n",
    "5          if V ≠ source\n",
    "6              distance[V] := infinity\n",
    "7      previous := empty dict   // stores the previous node in path\n",
    "8\n",
    "10     make empty priority queue Q for vertices to check\n",
    "11     Q.add_with_priority(source, 0)  # first check the source\n",
    "12\n",
    "13\n",
    "14     while Q is not empty:                     // The main loop\n",
    "15         get node U with smallest distance from Q\n",
    "16         if U is the sink (if provided) \n",
    "17              break the loop\n",
    "17         for every neighbor V of U:\n",
    "18             alternative := distance[U] + dist(U, V)\n",
    "18             if alternative < distance[V]\n",
    "19                 distance[V] := alternative\n",
    "20                 previous[V] := U\n",
    "21                 Q.add_with_priority(V, alternative)\n",
    "22\n",
    "23     if sink is given\n",
    "24         reconstruct shortest path\n",
    "25         return shortest path and length of path\n",
    "26     else\n",
    "27         return distance, previous\n",
    "```"
   ]
  },
  {
   "cell_type": "markdown",
   "metadata": {},
   "source": [
    "### Pseudocode of path reconstruction  algorithm\n",
    "```\n",
    "1 function reconstruct_path(previous, source, sink)\n",
    "2    if the source is not in previous\n",
    "3          return empty path\n",
    "4    V := sink   \\\\ path is reconstructed backwards\n",
    "5    path := [V]  \\\\ path is a list of nodes\n",
    "6    while V is not source\n",
    "7         V := previous node in path\n",
    "8         add V in beginning of the path\n",
    "9    return the path\n",
    "```"
   ]
  },
  {
   "cell_type": "raw",
   "metadata": {},
   "source": [
    "from shortestpaths import dijkstra, reconstruct_path"
   ]
  },
  {
   "cell_type": "code",
   "execution_count": 14,
   "metadata": {
    "ExecuteTime": {
     "end_time": "2018-03-28T08:21:43.644596Z",
     "start_time": "2018-03-28T08:21:43.640854Z"
    }
   },
   "outputs": [
    {
     "name": "stdout",
     "output_type": "stream",
     "text": [
      "[(2, 'C'), (3, 'B'), (5, 'A'), (7, 'D')]\n"
     ]
    }
   ],
   "source": [
    "# Sandbox\n",
    "\n",
    "heap = [(5, 'A'), (3, 'B'), (2, 'C'), (7, 'D')]\n",
    "\n",
    "heapify(heap)  # turn in a heap\n",
    "\n",
    "print(heap)"
   ]
  },
  {
   "cell_type": "code",
   "execution_count": 122,
   "metadata": {
    "ExecuteTime": {
     "end_time": "2018-03-28T09:20:27.706014Z",
     "start_time": "2018-03-28T09:20:27.650917Z"
    }
   },
   "outputs": [],
   "source": [
    "from numpy import infty\n",
    "from heapq import heapify, heappop, heappush\n",
    "\n",
    "def dijkstra(graph, source, sink=None):\n",
    "    \"\"\"\n",
    "    Implementation of Dijkstra's shortest path algorithm.\n",
    "\n",
    "    Inputs:\n",
    "        - graph : dict representing the weighted graph\n",
    "        - source : the source node\n",
    "        - sink : the sink node (optional)\n",
    "\n",
    "    Ouput:\n",
    "            - distance : dict with the distances of the nodes to the source\n",
    "            - previous : dict with for each node the previous node in the\n",
    "                        shortest path from the source (if one is given)\n",
    "    \"\"\"\n",
    "    \n",
    "    previous_vertex = source\n",
    "    distance = {}\n",
    "    previous = {}\n",
    "    \n",
    "    for vertex in graph:\n",
    "        if vertex is not source:\n",
    "            distance.update({vertex:infty})\n",
    "        else:\n",
    "            distance.update({vertex:0})\n",
    "    #pdb.set_trace()\n",
    "    \n",
    "    Q = [(0,source)]\n",
    "    heapify(Q)\n",
    "           \n",
    "    while Q:\n",
    "        current_vertex = heappop(Q)\n",
    "        if current_vertex is sink:\n",
    "            break\n",
    "        else:\n",
    "            neighbours = graph[current_vertex[1]]\n",
    "            for neighbour in neighbours:\n",
    "                if :\n",
    "                    distance[neighbour[1]] = neighbour[0] + distance[current_vertex[1]]\n",
    "                    previous[current_vertex[1]] = neighbour[1]\n",
    "                    heappush(Q,(distance[neighbour[1]],neighbour[1]))\n",
    "    \n",
    "    if sink is None:\n",
    "        return distance, previous\n",
    "    else:\n",
    "        return reconstruct_path(previous, source, sink), distance[sink]\n"
   ]
  },
  {
   "cell_type": "code",
   "execution_count": null,
   "metadata": {
    "collapsed": true
   },
   "outputs": [],
   "source": [
    "def reconstruct_path(previous, source, sink):\n",
    "    \"\"\"\n",
    "    Reconstruct the path from the output of the Dijkstra algorithm.\n",
    "\n",
    "    Inputs:\n",
    "            - previous : a dict with the previous node in the path\n",
    "            - source : the source node\n",
    "            - sink : the sink node\n",
    "    Ouput:\n",
    "            - the shortest path from source to sink\n",
    "    \"\"\"\n",
    "    if sink not in previous:\n",
    "        return []\n",
    "    # ... complete this!\n",
    "    return path"
   ]
  },
  {
   "cell_type": "markdown",
   "metadata": {},
   "source": [
    "**Assignment 1: Dijkstra**\n",
    "\n",
    "1. Complete the implementation for Dijstra's algorithm and the path reconstruction function\n",
    "2. Find the shortest path from node A to I in the example graph below. Calculate the shortest distance from A to any other node. Compare both running times with `%timeit`.\n",
    "\n",
    "![Example network](Figures/example_graph.png)"
   ]
  },
  {
   "cell_type": "code",
   "execution_count": 52,
   "metadata": {
    "ExecuteTime": {
     "end_time": "2018-03-28T08:39:58.558220Z",
     "start_time": "2018-03-28T08:39:58.552444Z"
    },
    "collapsed": true
   },
   "outputs": [],
   "source": [
    "# the above graph as an adjacency list\n",
    "graph = {'A' : set([(2, 'B'), (3, 'D')]),\n",
    "        'B' : set([(1, 'C'), (5, 'E')]),\n",
    "        'C' : set([(2, 'D'), (1, 'E')]),\n",
    "        'D' : set([(3, 'E')]),\n",
    "        'E' : set([(2, 'B'), (3, 'F')]),\n",
    "        'F' : set([(5, 'G'), (8, 'I')]),\n",
    "        'G' : set([(2, 'H'), (5, 'I')]),\n",
    "        'H' : set([(3, 'I')]),\n",
    "        'I' : []}"
   ]
  },
  {
   "cell_type": "code",
   "execution_count": 48,
   "metadata": {
    "ExecuteTime": {
     "end_time": "2018-03-28T08:39:29.367881Z",
     "start_time": "2018-03-28T08:39:29.365129Z"
    }
   },
   "outputs": [],
   "source": [
    "import pdb"
   ]
  },
  {
   "cell_type": "code",
   "execution_count": 98,
   "metadata": {
    "ExecuteTime": {
     "end_time": "2018-03-28T09:04:26.995191Z",
     "start_time": "2018-03-28T09:04:26.986952Z"
    }
   },
   "outputs": [
    {
     "ename": "KeyError",
     "evalue": "3",
     "output_type": "error",
     "traceback": [
      "\u001b[0;31m---------------------------------------------------------------------------\u001b[0m",
      "\u001b[0;31mKeyError\u001b[0m                                  Traceback (most recent call last)",
      "\u001b[0;32m<ipython-input-98-acdfe924d094>\u001b[0m in \u001b[0;36m<module>\u001b[0;34m()\u001b[0m\n\u001b[0;32m----> 1\u001b[0;31m \u001b[0mdijkstra\u001b[0m\u001b[0;34m(\u001b[0m\u001b[0mgraph\u001b[0m\u001b[0;34m,\u001b[0m \u001b[0;34m'A'\u001b[0m\u001b[0;34m,\u001b[0m \u001b[0;34m'I'\u001b[0m\u001b[0;34m)\u001b[0m\u001b[0;34m\u001b[0m\u001b[0m\n\u001b[0m",
      "\u001b[0;32m<ipython-input-97-3cc34950a7b8>\u001b[0m in \u001b[0;36mdijkstra\u001b[0;34m(graph, source, sink)\u001b[0m\n\u001b[1;32m     36\u001b[0m             \u001b[0;32mbreak\u001b[0m\u001b[0;34m\u001b[0m\u001b[0m\n\u001b[1;32m     37\u001b[0m         \u001b[0;32melse\u001b[0m\u001b[0;34m:\u001b[0m\u001b[0;34m\u001b[0m\u001b[0m\n\u001b[0;32m---> 38\u001b[0;31m             \u001b[0mneighbours\u001b[0m \u001b[0;34m=\u001b[0m \u001b[0mgraph\u001b[0m\u001b[0;34m[\u001b[0m\u001b[0mcurrent_vertex\u001b[0m\u001b[0;34m[\u001b[0m\u001b[0;36m1\u001b[0m\u001b[0;34m]\u001b[0m\u001b[0;34m]\u001b[0m\u001b[0;34m\u001b[0m\u001b[0m\n\u001b[0m\u001b[1;32m     39\u001b[0m             \u001b[0;32mfor\u001b[0m \u001b[0mneighbour\u001b[0m \u001b[0;32min\u001b[0m \u001b[0mneighbours\u001b[0m\u001b[0;34m:\u001b[0m\u001b[0;34m\u001b[0m\u001b[0m\n\u001b[1;32m     40\u001b[0m                 \u001b[0;32mif\u001b[0m \u001b[0mneighbour\u001b[0m\u001b[0;34m[\u001b[0m\u001b[0;36m0\u001b[0m\u001b[0;34m]\u001b[0m \u001b[0;34m<\u001b[0m \u001b[0mdistance\u001b[0m\u001b[0;34m[\u001b[0m\u001b[0mneighbour\u001b[0m\u001b[0;34m[\u001b[0m\u001b[0;36m1\u001b[0m\u001b[0;34m]\u001b[0m\u001b[0;34m]\u001b[0m\u001b[0;34m:\u001b[0m\u001b[0;34m\u001b[0m\u001b[0m\n",
      "\u001b[0;31mKeyError\u001b[0m: 3"
     ]
    }
   ],
   "source": [
    "dijkstra(graph, 'A', 'I')"
   ]
  },
  {
   "cell_type": "code",
   "execution_count": 123,
   "metadata": {
    "ExecuteTime": {
     "end_time": "2018-03-28T09:20:32.387467Z",
     "start_time": "2018-03-28T09:20:32.375081Z"
    }
   },
   "outputs": [
    {
     "data": {
      "text/plain": [
       "({'A': 0, 'B': 2, 'C': 3, 'D': 5, 'E': 8, 'F': 11, 'G': 16, 'H': 18, 'I': 21},\n",
       " {'A': 'B',\n",
       "  'B': 'C',\n",
       "  'C': 'E',\n",
       "  'D': 'E',\n",
       "  'E': 'F',\n",
       "  'F': 'I',\n",
       "  'G': 'I',\n",
       "  'H': 'I'})"
      ]
     },
     "execution_count": 123,
     "metadata": {},
     "output_type": "execute_result"
    }
   ],
   "source": [
    "dijkstra(graph, 'A')"
   ]
  },
  {
   "cell_type": "code",
   "execution_count": null,
   "metadata": {
    "collapsed": true
   },
   "outputs": [],
   "source": [
    "%timeit dijkstra(graph, 'A', 'I')"
   ]
  },
  {
   "cell_type": "code",
   "execution_count": null,
   "metadata": {
    "collapsed": true
   },
   "outputs": [],
   "source": [
    "%timeit dijkstra(graph, 'A')"
   ]
  },
  {
   "cell_type": "markdown",
   "metadata": {},
   "source": [
    "## A* shortest path algorithm"
   ]
  },
  {
   "cell_type": "markdown",
   "metadata": {},
   "source": [
    "It is hard to explain the algorithm into more depth than [here](http://theory.stanford.edu/~amitp/GameProgramming/) and [here](http://www.redblobgames.com/pathfinding/a-star/introduction.html)."
   ]
  },
  {
   "cell_type": "markdown",
   "metadata": {},
   "source": [
    "The A\\* algorithm is exact (like Dijkstra's algorithm), but it can also use a **heuristic** to speed up the search. In each iteration, the next neighbor $v$ of the current vertex that the algorithm considers is chosen based on the heuristic\n",
    "\n",
    "$$\n",
    "f(v) = g(v) + h(v)\n",
    "$$\n",
    "\n",
    "with $g(v)$ the cost of the path so far and $h(v)$ a heuristic that estimates the cost of the cost of the shortest path from $v$ to the goal. The heuristic $h(v)$ should satify two properties:\n",
    "1. To guaranty that a shortest path is found, the heuristic should be **admissible**, i.e. it should never overestimate the true distance to goal.\n",
    "2. Evaluating the heuristic should be cheap (it is either pre-computed or is a function).\n",
    "\n",
    "So the A\\* algorithm is basically the same as Dijkstra's algorithm, but with the main difference that the the latter chooses nodes to explore based on the distance from the starting node, while the latter chooses nodes **based on an estimate of distance to the goal**."
   ]
  },
  {
   "cell_type": "markdown",
   "metadata": {},
   "source": [
    "When using A\\* to find the shortest path between two physical locations, each vertex corresponds to a point in space. A good heuristic is the (Euclidian) distance between the vertexs, as this will always be a lower bound for the actual distance to travel to the goal.\n",
    "\n",
    "Consider the following example of finding the path from vertex $a$ to vertex $h$.\n",
    "\n",
    "![Example how A\\* uses the heuristics](Figures/astarexample.png)\n",
    "\n",
    "The shortest path so far is $[a, e]$ and the algorithm needs to choose to explore vertex $d$ or vertex $g$. Since the path of $ed$ is shorter than the path $eg$, Dijkstra will choose this vertex, even though it is farther removed from the goal $h$ (Dijkstra chooses a neighbor $n$ only based on the current path length form the starting vertex $g(n)$. The A\\* algorithm will chose vertex $g$ to explore, because the estimated path length $f(e) = g(e) + h(e) > f(d)$ and hence will approach the goal. "
   ]
  },
  {
   "cell_type": "markdown",
   "metadata": {},
   "source": [
    "### Pseudocode of A\\* shortest path algorithm\n",
    "Source from Wikipedia (modified)\n",
    "```\n",
    "1  function Astar(Graph, source, sink, heuristic):\n",
    "2      make empty priority queue Q for vertices to check\n",
    "3      \n",
    "4      add source to Q with priority f(source)\n",
    "5          // use the estimated path length for priority\n",
    "6              \n",
    "7      distance[V] := 0   // initialize a dictionary with distance\n",
    "8                           // to source\n",
    "9      previous := empty dict   // stores the previous node in path\n",
    "10\n",
    "11     while Q is not empty:                     // The main loop\n",
    "12         pop node U with lowest estimated path length to sink\n",
    "13         if U is the sink\n",
    "14              break the loop\n",
    "15         for every neighbor V of U:\n",
    "16             distance_source_U := distance[U] + dist(U, V)\n",
    "17             if V not in distance or distance_source_U < distance[V]\n",
    "18                 distance[V] := distance_source_U\n",
    "19                 previous[V] := U\n",
    "20                 heuristic_V_sink := distance[V] + g(V)\n",
    "21                 Q.add_with_priority(V, heuristic_V_sink)\n",
    "22\n",
    "23     reconstruct shortest path\n",
    "24     return shortest path and length of path\n",
    "```"
   ]
  },
  {
   "cell_type": "markdown",
   "metadata": {},
   "source": [
    "#### Representation of the graphs for physical locations\n",
    "\n",
    "For the assignments above, we will work with graphs representing paths on a two-dimensional plane. \n",
    "\n",
    "Each node or location is a point on this plane, e.g. $(x_i, y_i)$. An edge or link between two locations is a tuple of two points: $((x_i, y_i),(x_j, y_j))$. In the link representation, the network is represented as just a list of these links. For example:"
   ]
  },
  {
   "cell_type": "code",
   "execution_count": null,
   "metadata": {
    "collapsed": true
   },
   "outputs": [],
   "source": [
    "from parcour_tools import add_path, load_links, plot_parcour, links_to_graph\n",
    "\n",
    "links_example = [((1, 1), (1, 3)), ((1, 1), (2, 2)), ((1,3), (2, 2)),\n",
    "                ((2, 2), (3, 1)), ((2, 2), (3, 3)), ((3, 1), (3, 3))]"
   ]
  },
  {
   "cell_type": "markdown",
   "metadata": {},
   "source": [
    "Using the function ```links_to_graph``` we can change these links in the more familiar dictionary-based representation."
   ]
  },
  {
   "cell_type": "code",
   "execution_count": null,
   "metadata": {
    "collapsed": true
   },
   "outputs": [],
   "source": [
    "graph_example = links_to_graph(links_example)\n",
    "print(graph_example)"
   ]
  },
  {
   "cell_type": "markdown",
   "metadata": {},
   "source": [
    "Which can be visualized using ```plot_parcour``` and we can use the function ```add_path``` to draw a path."
   ]
  },
  {
   "cell_type": "code",
   "execution_count": null,
   "metadata": {
    "collapsed": true
   },
   "outputs": [],
   "source": [
    "fig, ax = plt.subplots()\n",
    "plot_parcour(links_example, ax, line_width=20)  # uses the links representation as an input!\n",
    "ax.set_ylim([0.5, 3.5])\n",
    "ax.set_xlim([0.5, 3.5])\n",
    "\n",
    "path_example = [(1, 1), (1, 3), (2, 2), (3, 1), (3, 3)]\n",
    "add_path(path_example, ax, color=green)"
   ]
  },
  {
   "cell_type": "markdown",
   "metadata": {},
   "source": [
    "**Assignment 2: A\\***\n",
    "\n",
    "1. Complete the implementation for the A\\* algorithm.\n",
    "2. Some parcours and mazes are given. Use A\\* and Dijkstra to find the shortest paths between the lower left corner to the upper right corner. Use the function ```add_path``` to add the path to the figure.\n",
    "3. Compare running time of the two shortest path algorithms using ```%timeit```."
   ]
  },
  {
   "cell_type": "code",
   "execution_count": null,
   "metadata": {
    "collapsed": true
   },
   "outputs": [],
   "source": [
    "# functions for computing distances\n",
    "manhattan_distance = lambda x, y : sum([abs(xi - yi) for xi, yi in zip(x, y)])\n",
    "euclidean_distance = lambda x, y : sum([(xi - yi)**2 for xi, yi in zip(x, y)])**0.5"
   ]
  },
  {
   "cell_type": "raw",
   "metadata": {},
   "source": [
    "from shortestpaths import a_star"
   ]
  },
  {
   "cell_type": "code",
   "execution_count": null,
   "metadata": {
    "collapsed": true
   },
   "outputs": [],
   "source": [
    "def a_star(graph, source, sink, heuristic):\n",
    "    \"\"\"\n",
    "    Implementation of the A* shortest path algorithm\n",
    "    Inputs:\n",
    "        - graph : dict representing the graph\n",
    "        - source : the source node\n",
    "        - sink : the sink node (optional)\n",
    "        - heuristic : a function with the heuristic for the shortest path between two nodes\n",
    "    Ouput:\n",
    "        - distance : dict with the distances of the nodes to the source\n",
    "        - came_from : dict with for each node the previous node in the shortest\n",
    "                    path from the source\n",
    "    \"\"\"\n",
    "    # COMPLETE THIS (you can start from dijkstra...)\n",
    "    #...\n",
    "    "
   ]
  },
  {
   "cell_type": "code",
   "execution_count": null,
   "metadata": {
    "collapsed": true
   },
   "outputs": [],
   "source": [
    "# a parcour, white lines are the routes that can be followed\n",
    "# find the shortest path from (0, 0) to (99, 99)\n",
    "parcour = load_links('Data/large_parcour.csv')"
   ]
  },
  {
   "cell_type": "code",
   "execution_count": null,
   "metadata": {
    "collapsed": true
   },
   "outputs": [],
   "source": [
    "fig, ax = plt.subplots(figsize=(15, 15))\n",
    "\n",
    "plot_parcour(parcour, ax)\n",
    "parcour_graph = links_to_graph(parcour)\n",
    "\n",
    "path_dijkstra, length_dijstra = dijkstra(parcour_graph, (0, 0), (99, 99))\n",
    "add_path(path_dijkstra, ax, orange)\n",
    "\n",
    "path_astar, length_astar = a_star(parcour_graph, (0, 0), (99, 99), heuristic=euclidean_distance)\n",
    "add_path(path_astar, ax, green)"
   ]
  },
  {
   "cell_type": "code",
   "execution_count": null,
   "metadata": {
    "collapsed": true
   },
   "outputs": [],
   "source": [
    "%timeit path_dijkstra, length_dijstra = dijkstra(parcour_graph, (0, 0), (99, 99))"
   ]
  },
  {
   "cell_type": "code",
   "execution_count": null,
   "metadata": {
    "collapsed": true
   },
   "outputs": [],
   "source": [
    "%timeit path_astar, length_astar = a_star(parcour_graph, (0, 0), (99, 99), manhattan_distance)"
   ]
  },
  {
   "cell_type": "code",
   "execution_count": null,
   "metadata": {
    "collapsed": true
   },
   "outputs": [],
   "source": [
    "# a small maze, white lines are the routes that can be followed\n",
    "# find the shortest path from (0, 0) to (99, 99)\n",
    "small_maze = load_links('Data/small_maze.csv')\n",
    "\n",
    "fig, ax = plt.subplots(figsize=(10, 10))\n",
    "\n",
    "plot_parcour(small_maze, ax, line_width=15)\n",
    "maze_graph = links_to_graph(small_maze)\n",
    "\n",
    "path_dijkstra, length_dijstra = dijkstra(maze_graph, (0, 0), (19, 19))\n",
    "add_path(path_dijkstra, ax, orange)\n",
    "\n",
    "path_astar, length_astar = a_star(maze_graph, (0, 0), (19, 19), euclidean_distance)\n",
    "add_path(path_astar, ax, green)"
   ]
  },
  {
   "cell_type": "code",
   "execution_count": null,
   "metadata": {
    "collapsed": true
   },
   "outputs": [],
   "source": [
    "%timeit path_dijkstra, length_dijstra = dijkstra(maze_graph, (0, 0), (19, 19))"
   ]
  },
  {
   "cell_type": "code",
   "execution_count": null,
   "metadata": {
    "collapsed": true
   },
   "outputs": [],
   "source": [
    "%timeit path_astar, length_astar = a_star(maze_graph, (0, 0), (19, 19), manhattan_distance)"
   ]
  },
  {
   "cell_type": "code",
   "execution_count": null,
   "metadata": {
    "collapsed": true
   },
   "outputs": [],
   "source": [
    "# a small maze, white lines are the routes that can be followed\n",
    "# find the shortest path from (0, 0) to (99, 99)\n",
    "large_maze = load_links('Data/large_maze.csv')\n",
    "\n",
    "fig, ax = plt.subplots(figsize=(15, 15))\n",
    "\n",
    "plot_parcour(large_maze, ax)\n",
    "maze_graph = links_to_graph(large_maze)\n",
    "\n",
    "path_dijkstra, length_dijstra = dijkstra(maze_graph, (0, 0), (99, 99))\n",
    "add_path(path_dijkstra, ax, orange)\n",
    "\n",
    "path_astar, length_astar = a_star(maze_graph, (0, 0), (99, 99), euclidean_distance)\n",
    "add_path(path_astar, ax, green)"
   ]
  },
  {
   "cell_type": "code",
   "execution_count": null,
   "metadata": {
    "collapsed": true
   },
   "outputs": [],
   "source": [
    "%timeit path_dijkstra, length_dijstra = dijkstra(maze_graph, (0, 0), (99, 99))"
   ]
  },
  {
   "cell_type": "code",
   "execution_count": null,
   "metadata": {
    "collapsed": true
   },
   "outputs": [],
   "source": [
    "%timeit path_astar, length_astar = a_star(maze_graph, (0, 0), (99, 99), manhattan_distance)"
   ]
  },
  {
   "cell_type": "code",
   "execution_count": null,
   "metadata": {
    "collapsed": true
   },
   "outputs": [],
   "source": []
  }
 ],
 "metadata": {
  "anaconda-cloud": {},
  "kernelspec": {
   "display_name": "Python 3",
   "language": "python",
   "name": "python3"
  },
  "language_info": {
   "codemirror_mode": {
    "name": "ipython",
    "version": 3
   },
   "file_extension": ".py",
   "mimetype": "text/x-python",
   "name": "python",
   "nbconvert_exporter": "python",
   "pygments_lexer": "ipython3",
   "version": "3.6.3"
  },
  "latex_envs": {
   "LaTeX_envs_menu_present": true,
   "autocomplete": true,
   "bibliofile": "biblio.bib",
   "cite_by": "apalike",
   "current_citInitial": 1,
   "eqLabelWithNumbers": true,
   "eqNumInitial": 0,
   "hotkeys": {
    "equation": "Ctrl-E",
    "itemize": "Ctrl-I"
   },
   "labels_anchors": false,
   "latex_user_defs": false,
   "report_style_numbering": false,
   "user_envs_cfg": false
  },
  "toc": {
   "nav_menu": {},
   "number_sections": true,
   "sideBar": true,
   "skip_h1_title": false,
   "toc_cell": false,
   "toc_position": {},
   "toc_section_display": "block",
   "toc_window_display": false
  }
 },
 "nbformat": 4,
 "nbformat_minor": 1
}
