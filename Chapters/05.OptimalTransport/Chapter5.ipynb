{
 "cells": [
  {
   "cell_type": "markdown",
   "metadata": {},
   "source": [
    "# Optimal transport\n",
    "\n",
    "*Selected Topics in Mathematical Optimization: 2017-2018*\n",
    "\n",
    "**Michiel Stock** ([email](michiel.stock@ugent.be))\n",
    "\n",
    "![](Figures/logo.png)"
   ]
  },
  {
   "cell_type": "code",
   "execution_count": null,
   "metadata": {},
   "outputs": [],
   "source": [
    "from optimal_transport import red, green, orange, yellow, blue, black\n",
    "import matplotlib.pyplot as plt\n",
    "import numpy as np\n",
    "from optimal_transport import pairwise_distances\n",
    "%matplotlib inline"
   ]
  },
  {
   "cell_type": "markdown",
   "metadata": {},
   "source": [
    "## Cell tracking\n",
    "\n",
    "In a microscopy imaging experiment we monitor ten moving cells at time $t_1$ and some time later at time $t_2$. Between these times, the cells have moved. An image processing algorithm determined the coordinates of every cell in the two images. We want to know which cell in the first corresponds to the second image. To this end, search the assignment that minimizes the sum of the squared Euclidian distances between cells from the first image versus the corresponding cell of the second image.\n",
    "\n",
    "1. `X1` and `X2` contain the $x,y$ coordinates of the cells for the two images. Compute the matrix $C$ containing the pairwise squared Euclidean distance. You can use the function `pairwise_distances` from `sklearn`.\n",
    "2. Complete the function `monge_brute_force` to use brute-force search for the best permutation.\n",
    "3. Make a plot connecting the cells."
   ]
  },
  {
   "cell_type": "code",
   "execution_count": null,
   "metadata": {},
   "outputs": [],
   "source": [
    "from cell_tracking import X1, X2, plot_cells"
   ]
  },
  {
   "cell_type": "code",
   "execution_count": null,
   "metadata": {},
   "outputs": [],
   "source": [
    "# all permutations can easily be generated in python\n",
    "from itertools import permutations\n",
    "\n",
    "for perm in permutations([1, 2, 3]):\n",
    "    print(perm)"
   ]
  },
  {
   "cell_type": "code",
   "execution_count": null,
   "metadata": {},
   "outputs": [],
   "source": [
    "fig, ax = plot_cells(X1, X2)"
   ]
  },
  {
   "cell_type": "code",
   "execution_count": null,
   "metadata": {},
   "outputs": [],
   "source": [
    "def monge_brute_force(C):\n",
    "    \"\"\"\n",
    "    Solves the Monge assignment problem using\n",
    "    brute force.\n",
    "\n",
    "    Inputs:\n",
    "        - C: cost matrix (square, size n x n)\n",
    "\n",
    "    Outputs:\n",
    "        - best_perm: optimal assigments (list of n indices matching the rows\n",
    "                to the columns)\n",
    "        - best_cost: optimal cost corresponding to the best permutation\n",
    "\n",
    "    DO NOT USE FOR PROBLEMS OF A SIZE LARGER THAN 12!!!\n",
    "    \"\"\"\n",
    "    n, m = C.shape\n",
    "    assert n==m  # C should be square\n",
    "    best_perm = None\n",
    "    best_cost = np.inf\n",
    "    # loop over all permutations and to find the\n",
    "    # matching with the lowest cost\n",
    "    return best_perm, best_cost"
   ]
  },
  {
   "cell_type": "code",
   "execution_count": null,
   "metadata": {},
   "outputs": [],
   "source": [
    "from optimal_transport import monge_brute_force"
   ]
  },
  {
   "cell_type": "code",
   "execution_count": null,
   "metadata": {},
   "outputs": [],
   "source": [
    "# get the cost matrix (i.e. pairwise squared\n",
    "# Euclidean distances between the cells at the different times)\n",
    "\n",
    "C = ..."
   ]
  },
  {
   "cell_type": "code",
   "execution_count": null,
   "metadata": {},
   "outputs": [],
   "source": [
    "# get matching\n",
    "\n",
    "best_perm, best_cost = monge_brute_force(C)"
   ]
  },
  {
   "cell_type": "code",
   "execution_count": null,
   "metadata": {},
   "outputs": [],
   "source": [
    "# make a plot with the connections of the cells"
   ]
  },
  {
   "cell_type": "markdown",
   "metadata": {},
   "source": [
    "## Cell differentiation\n",
    "\n",
    "Three types of cells are cultured together. At $t_1$ we know the expression of some cells of every type (two genes). After some time $t_2$, the cells have multiplied are have differentiated somewhat. A new gene expression analysis is done for a set of cells from the culture (without information about the type). How did the expression change for every type?\n",
    "\n",
    "1. Link the cells from the two time points using OT. Use Sinkhorn with $\\lambda=10$ and squared Euclidean distance for cost.\n",
    "2. Plot the mapping (use the \\texttt{alpha} argument to set the shade of a color).\n",
    "3. Compute the `drift' (difference in average gene expression) in gene expression for every cell type. "
   ]
  },
  {
   "cell_type": "code",
   "execution_count": null,
   "metadata": {},
   "outputs": [],
   "source": [
    "# X1 and X2 are gene expressions for the cells at time 1 and 2\n",
    "# y1 is the indicator of the type of cells, only known at t1\n",
    "from cell_differentiation import X1, X2, y1, plot_cells"
   ]
  },
  {
   "cell_type": "code",
   "execution_count": null,
   "metadata": {},
   "outputs": [],
   "source": [
    "fig, ax = plt.subplots()\n",
    "plot_cells(ax)"
   ]
  },
  {
   "cell_type": "code",
   "execution_count": null,
   "metadata": {},
   "outputs": [],
   "source": [
    "def compute_optimal_transport(C, a, b, lam, epsilon=1e-8,\n",
    "                verbose=False, return_iterations=False):\n",
    "    \"\"\"\n",
    "    Computes the optimal transport matrix and Slinkhorn distance using the\n",
    "    Sinkhorn-Knopp algorithm\n",
    "\n",
    "    Inputs:\n",
    "        - C : cost matrix (n x m)\n",
    "        - a : vector of marginals (n, )\n",
    "        - b : vector of marginals (m, )\n",
    "        - lam : strength of the entropic regularization\n",
    "        - epsilon : convergence parameter\n",
    "        - verbose : report number of steps while running\n",
    "        - return_iterations : report number of iterations till convergence,\n",
    "                default False\n",
    "\n",
    "    Output:\n",
    "        - P : optimal transport matrix (n x m)\n",
    "        - dist : Sinkhorn distance\n",
    "        - n_iterations : number of iterations, if `return_iterations` is set to\n",
    "                        True\n",
    "    \"\"\"\n",
    "    n, m = C.shape\n",
    "    P = np.exp(- lam * C)\n",
    "    iteration = 0\n",
    "    while True:\n",
    "        iteration += 1\n",
    "        u = P.sum(1)  # marginals of rows\n",
    "        max_deviation = np.max(np.abs(u - a))\n",
    "        if verbose: print('Iteration {}: max deviation={}'.format(\n",
    "                            iteration, max_deviation\n",
    "                        ))\n",
    "        if max_deviation < epsilon:\n",
    "            break\n",
    "        # scale rows\n",
    "        ...\n",
    "        # scale columns\n",
    "        ...\n",
    "    if return_iterations:\n",
    "        return P, np.sum(P * C), iteration\n",
    "    else:\n",
    "        return P, np.sum(P * C)"
   ]
  },
  {
   "cell_type": "code",
   "execution_count": null,
   "metadata": {},
   "outputs": [],
   "source": [
    "from optimal_transport import compute_optimal_transport"
   ]
  },
  {
   "cell_type": "code",
   "execution_count": null,
   "metadata": {},
   "outputs": [],
   "source": [
    "# get the cost matrix (i.e. pairwise squared\n",
    "# Euclidean distances of the expression vectors\n",
    "# of the cells at the different times)\n",
    "\n",
    "C = ..."
   ]
  },
  {
   "cell_type": "code",
   "execution_count": null,
   "metadata": {},
   "outputs": [],
   "source": [
    "# get matching\n",
    "P, _ = compute_optimal_transport(..."
   ]
  },
  {
   "cell_type": "code",
   "execution_count": null,
   "metadata": {},
   "outputs": [],
   "source": [
    "# plot the cells with the mapping between the times"
   ]
  },
  {
   "cell_type": "code",
   "execution_count": null,
   "metadata": {},
   "outputs": [],
   "source": [
    "# compute the drift (average change in gene expression\n",
    "# for different classes between the two time points)"
   ]
  }
 ],
 "metadata": {
  "anaconda-cloud": {},
  "kernelspec": {
   "display_name": "Python 3",
   "language": "python",
   "name": "python3"
  },
  "language_info": {
   "codemirror_mode": {
    "name": "ipython",
    "version": 3
   },
   "file_extension": ".py",
   "mimetype": "text/x-python",
   "name": "python",
   "nbconvert_exporter": "python",
   "pygments_lexer": "ipython3",
   "version": "3.5.2"
  }
 },
 "nbformat": 4,
 "nbformat_minor": 2
}
