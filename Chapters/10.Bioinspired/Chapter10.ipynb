{
 "cells": [
  {
   "cell_type": "markdown",
   "metadata": {},
   "source": [
    "# Bio-inspired optimization\n",
    "\n",
    "*Selected Topics in Mathematical Optimization: 2017-2018*\n",
    "\n",
    "**Michiel Stock** ([email](michiel.stock@ugent.be))\n",
    "\n",
    "![](Figures/logo.png)"
   ]
  },
  {
   "cell_type": "code",
   "execution_count": 1,
   "metadata": {
    "ExecuteTime": {
     "end_time": "2018-05-02T09:03:11.095984Z",
     "start_time": "2018-05-02T09:03:10.866375Z"
    },
    "collapsed": true
   },
   "outputs": [],
   "source": [
    "from random import random, choice\n",
    "import numpy as np\n",
    "import matplotlib.pyplot as plt\n",
    "from ipywidgets import interact, FloatSlider\n",
    "%matplotlib inline"
   ]
  },
  {
   "cell_type": "markdown",
   "metadata": {},
   "source": [
    "## Introduction and general idea\n",
    "\n",
    "The open (or obsessive) mind can find optimization everywhere in the world around him. Ants find the optimal paths from food to their nest, rivers stream to maximize their water flow, plants maximize the amount of sunlight captured with their leafs and many of the laws of physics can be formulated as a minimization of energy. Bio-inspired optimization, or bio-inspired computing in general, borrows ideas from nature to solve complex problems. A central theme among these paradigms is that they use simple, local manipulations from which the general computation is an emergent property. Many also make use of a **population** of candidate solutions which is improved iteratively.\n",
    "\n",
    "Bio-inspired optimization algorithms (BIOAs) are often applied for more complex problems discussed so far. Many real-word problems are often over-or underconstrained, lack detailed information about the target function (e.g. no gradient can be computed) or deal with complex 'structured' data. Examples of such problems which (bioscience)engineers routinely deal with include designing an antenna, callibrating a forest fire model or create a new functional peptide (topic of this project).\n",
    "\n",
    "Contrary to most of the algorithms discussed so far, BIOAs often lack theoretical guarantees, both on their running time and on the quality of the solution. It is not uncommon to let such algorithms run for days or weeks. Since these algorithms do not exploit the structure or the gradient of the target function, only function evalutions are used. This is especially costly when evaluating the target function is expensive, for example when determining the parameters of a large set of ordinary differential equations. Furthermore, most bio-inspired optimization algorithms have some hyperparameters which must be tuned to the problem, otherwise the optimization might run badly.\n",
    "\n",
    "Despite these drawbacks, BIOAs also have many merits. Because they are very flexible, they can be applied to almost any optimization problem. For some problem classes (such as NP-complete problems), there are no efficient exact solvers, making for example the traveling salesman problem unsolvable for moderately large instances using standard techniques. BIOAs on the other hand can often generate reasonable solutions quite quickly. Furthermore, BIOAs work **progressive**, meaning that intermediate solutions can be obtained at any time. Hence, even if the optimization process is prematurely aborted, we still have some result to show for our effort."
   ]
  },
  {
   "cell_type": "markdown",
   "metadata": {},
   "source": [
    "BIOA come in [many flavors](https://arxiv.org/pdf/1307.4186.pdf), which is one of the reasons why some of researchers dislike them. An important class of algorithms try to mimic swarm intelligence, for example how ants find their way in their surroundings is implemented in ant colony optimization. In this project we will work with genetic algorithms (GAs), which are based on the most succesful optimization algorithm in nature: evolution. GAs use *in silico* evolution to obtain iteratively better solutions for a problem. Most GAs are based on the following four concepts:\n",
    "- **maintenance of a population**\n",
    "- **creation of diversity**\n",
    "- **a natural selection**\n",
    "- **genetic inheritance**"
   ]
  },
  {
   "cell_type": "markdown",
   "metadata": {},
   "source": [
    "![](Figures/GAconcept.png)"
   ]
  },
  {
   "cell_type": "markdown",
   "metadata": {},
   "source": [
    "## Genetic representation"
   ]
  },
  {
   "cell_type": "markdown",
   "metadata": {},
   "source": [
    "![Genotype, phenotype and fitness.](Figures/encoding.png)"
   ]
  },
  {
   "cell_type": "markdown",
   "metadata": {},
   "source": [
    "**genotype**: reprentation of a candidate solution on which the genetic algorithm will operate\n",
    "\n",
    "- often discrete representation (e.g. binary encoding of numbers)\n",
    "- ideally covers the space of optimal solutions (prior knowledge)\n",
    "- recombination should have high probability of generating increasingly better individuals"
   ]
  },
  {
   "cell_type": "markdown",
   "metadata": {},
   "source": [
    "**phenotype**: the candidate solution in a representation of the problem\n",
    "\n",
    "- **decoding**: translating genotype into phenotype\n",
    "- **encoding**: translating the phenotype in genotype\n",
    "\n",
    "Since the genetic operators of the GA only work on the genotype, only decoding has to be defined."
   ]
  },
  {
   "cell_type": "markdown",
   "metadata": {},
   "source": [
    "**fitness**: the quality of the solution, will be used to select individuals for the next generation"
   ]
  },
  {
   "cell_type": "markdown",
   "metadata": {},
   "source": [
    "## Selection and reproduction\n",
    "\n",
    "**Selection** is the procedure such that individuals with a higher fitness are more likelily to go to the next generation.\n",
    "\n",
    "Usually the population size is fixed. individuals with high fitness are likely to be selected multiple times, those with low fitness might not be selected."
   ]
  },
  {
   "cell_type": "markdown",
   "metadata": {},
   "source": [
    "**Roulette wheel selection**\n",
    "\n",
    "A new population of $n$ individuals is chosen by chosing individuals proportional to their fitness:\n",
    "\n",
    "$$\n",
    "p(i) = \\frac{f(i)}{\\sum_{j=1}^nf(j)}\\,,\n",
    "$$\n",
    "with $p(i)$ the probability of choosing individual $i$ and $f(i)$ the fitness of individual $i$.\n",
    "\n",
    "Drawbacks:\n",
    "- only when fitness is positive\n",
    "- selection process dependent on (nonlinear) scaling of fitness"
   ]
  },
  {
   "cell_type": "markdown",
   "metadata": {},
   "source": [
    "**Tournament selection**\n",
    "\n",
    "Randomly choose two individuals, retain the individual with the highest fitness for the population of the next generation (pick one at random if fitness is equal). Repeat as many times as there are individuals in the population."
   ]
  },
  {
   "cell_type": "markdown",
   "metadata": {},
   "source": [
    "Below is an illustration of the two types of selection."
   ]
  },
  {
   "cell_type": "code",
   "execution_count": null,
   "metadata": {
    "collapsed": true
   },
   "outputs": [],
   "source": [
    "# generate random initial population\n",
    "population_fitness = [np.random.randn()**2 for _ in range(1000)]"
   ]
  },
  {
   "cell_type": "code",
   "execution_count": null,
   "metadata": {
    "collapsed": true
   },
   "outputs": [],
   "source": [
    "# roulette wheel selection\n",
    "population_fitness_roulette = []\n",
    "finess_sum = np.sum(population_fitness)\n",
    "while len(population_fitness_roulette) < len(population_fitness):\n",
    "    fitness = choice(population_fitness)\n",
    "    if fitness / finess_sum > random():\n",
    "        population_fitness_roulette.append(fitness)"
   ]
  },
  {
   "cell_type": "code",
   "execution_count": null,
   "metadata": {
    "collapsed": true
   },
   "outputs": [],
   "source": [
    "# tournament selection\n",
    "population_fitness_tournament = []\n",
    "while len(population_fitness_tournament) < len(population_fitness):\n",
    "    selected_fitness = max(choice(population_fitness), choice(population_fitness))\n",
    "    population_fitness_tournament.append(selected_fitness)"
   ]
  },
  {
   "cell_type": "code",
   "execution_count": null,
   "metadata": {
    "collapsed": true,
    "scrolled": true
   },
   "outputs": [],
   "source": [
    "fig, (ax0, ax1, ax2) = plt.subplots(nrows=3, sharex=True, figsize=(10, 7))\n",
    "\n",
    "ax0.hist(population_fitness)\n",
    "ax1.hist(population_fitness_roulette)\n",
    "ax2.hist(population_fitness_tournament)\n",
    "\n",
    "ax0.set_title('Fitness inital population')\n",
    "ax1.set_title('Fitness after roulette selection')\n",
    "ax2.set_title('Fitness after tournament selection')"
   ]
  },
  {
   "cell_type": "markdown",
   "metadata": {},
   "source": [
    "**Elitism**: after selection and recombination, the individual with the highest fitness is often retained in the population. This way the best fitness of the population will never decrease."
   ]
  },
  {
   "cell_type": "markdown",
   "metadata": {},
   "source": [
    "## Genetic operators\n",
    "\n",
    "Selection increases the average quality of the candidate solutions, at the cost of decreasing the \n",
    "\n",
    "**Recombination** is the process of bringing back diversity into the population *without any regards for fitness*."
   ]
  },
  {
   "cell_type": "markdown",
   "metadata": {
    "collapsed": true
   },
   "source": [
    "### Mutations\n",
    "\n",
    "- small change to the genotype\n",
    "- mutations operate at the level of the individual\n",
    "- example: flipping a bit in a binary representation\n",
    "- example: adding a normally distributed number to a real value"
   ]
  },
  {
   "cell_type": "markdown",
   "metadata": {},
   "source": [
    "### Crossover\n",
    "\n",
    "**Crossover** recombined two individuals (parents) into two children by randomly switching parts of the genotype\n",
    "\n",
    "Types of crossover:\n",
    "- **one-point**: select randomly a crossover point on each of the two strings and swapping around this point\n",
    "- **multipoint**: the same, but with $n$ crossover points\n",
    "- **uniform**: each element is switched between the parents with a certain probability (usually 50%)\n",
    "- specialised crossovers for graphs, cycles or trees"
   ]
  },
  {
   "cell_type": "markdown",
   "metadata": {},
   "source": [
    "![Examples of simples crossover.](Figures/crossover.png)"
   ]
  },
  {
   "cell_type": "markdown",
   "metadata": {},
   "source": [
    "## Algorithms"
   ]
  },
  {
   "cell_type": "markdown",
   "metadata": {},
   "source": [
    "### Hill climbing\n",
    "\n",
    "- iterative improvement of starting point\n",
    "- converges to local optimum (dependent on starting position)\n",
    "- usually executed multiple times with different initial conditions"
   ]
  },
  {
   "cell_type": "markdown",
   "metadata": {},
   "source": [
    "```\n",
    "Hill climbing algorithm\n",
    "    choose a random current_solution\n",
    "    local := FALSE  // assume solution is not in local optimum\n",
    "    \n",
    "    while local is FALSE:\n",
    "        set local to TRUE\n",
    "        for all neighbors of current_solution:\n",
    "            if neighbor improves current_solution:\n",
    "                set local to FALSE\n",
    "                current_solution := neighbor\n",
    "                \n",
    "    return current_solution\n",
    "```"
   ]
  },
  {
   "cell_type": "markdown",
   "metadata": {},
   "source": [
    "**Advantages**:\n",
    "- easy to implement\n",
    "- only needs the scoring function and a definition of neighborhood to search\n",
    "\n",
    "**Disadvantages**:\n",
    "- converges to a local optimum that is dependent of the starting position\n",
    "- no guarantees on the quality of the solution\n",
    "- no guarantees on the running time"
   ]
  },
  {
   "cell_type": "markdown",
   "metadata": {},
   "source": [
    "### Simulated Annealing\n",
    "\n",
    "- instead of scanning the whole neighborhood, one candidate solution is randomly chosen\n",
    "    - if the new solution has a higher fitness: accept it\n",
    "    - if it has a lower fitness, accept with probability $e^{\\Delta f / T}$\n",
    "- the temperature $T$ controls the **exploration** vs **exploitation** trade-off\n",
    "- the temperature is gradually decreased when running the algorithm"
   ]
  },
  {
   "cell_type": "markdown",
   "metadata": {},
   "source": [
    "```\n",
    "Simulated annealing algorithm(Tmax, Tmin, r, kT)\n",
    "    choose random initial point x\n",
    "    T := Tmax\n",
    "    while T > Tmin\n",
    "        repeat kT times\n",
    "            randomly choose xn from neigborhood of x\n",
    "            if f(xn) > f(x)\n",
    "                x := xn\n",
    "            else with probability exp( (f(xn) - f(x))/T )\n",
    "                x := xn\n",
    "         T := T * r\n",
    "    return x  \n",
    "```"
   ]
  },
  {
   "cell_type": "markdown",
   "metadata": {},
   "source": [
    "**Example of simulated annealing**\n",
    "\n",
    "$$\n",
    "\\min_x\\ f(x) = |x\\cos(x)| + \\frac{|x|}{2}\\,.\n",
    "$$\n",
    "\n",
    "During each step, a new candidate solution is selected randomly according to\n",
    "\n",
    "$$\n",
    "x_n = x + \\Delta x\\,,\n",
    "$$\n",
    "with\n",
    "$$\n",
    "\\Delta x \\sim N(0, \\sigma)\\,.\n",
    "$$"
   ]
  },
  {
   "cell_type": "code",
   "execution_count": null,
   "metadata": {
    "collapsed": true,
    "scrolled": true
   },
   "outputs": [],
   "source": [
    "from simulated_annealing_demo import plot_SA_example\n",
    "\n",
    "f_toy_example = lambda x : np.abs(x * np.cos(x)) + 0.5 * np.abs(x)\n",
    "x0 = 55\n",
    "hyperparameters = {'Tmax' : 1000, 'Tmin' : 0.1,\n",
    "                    'r' : 0.8, 'kT' : 10, 'sigma' : 5}\n",
    "\n",
    "plot_SA_example(f_toy_example, x0, hyperparameters)"
   ]
  },
  {
   "cell_type": "markdown",
   "metadata": {},
   "source": [
    "### Genetic algorithm"
   ]
  },
  {
   "cell_type": "markdown",
   "metadata": {},
   "source": [
    "```\n",
    "Genetic algorithm(population size, number of generations, pmut, pcross)\n",
    "    initialize a random population\n",
    "    repeat for a number of generations\n",
    "        use tournament selection to generate a new population\n",
    "        recombinate the new population using mutations and crossover\n",
    "        apply elitism\n",
    "    return best individual of final population\n",
    "```"
   ]
  },
  {
   "cell_type": "markdown",
   "metadata": {},
   "source": [
    "## Project: Designing bio-active peptides\n",
    "\n",
    "Some peptides have an anti-microbial function. These peptides originate from the innate immuum system and are found in nearly all classes of life. These peptides often have a general mode of action and are thus effective against a broad range of microorganisms and it is quite difficult to acquire resistence for these organisms. As such they are an attractive alternative to conventional antibiotics."
   ]
  },
  {
   "cell_type": "markdown",
   "metadata": {},
   "source": [
    "![Two possible mechanisms how a peptide can target a bacterial cell.](Figures/Modes_of_action.png)"
   ]
  },
  {
   "cell_type": "markdown",
   "metadata": {},
   "source": [
    "In this small project we will use genetic algorithms (in the very broad sense) to design and optimize a novel anti-microbial peptide. For this, we have downloaded a fasta file containing the amino acid sequence of over two thousand anti-microbial peptides as a reference set from the [Collection of Anti-Microbial Peptides](http://www.camp.bicnirrh.res.in/) database. Using a machine learning technique called kernel embedding, we have modelled the distribution of these peptides. This model can be used to generate a score between 0 and 1 for a given peptide, representing our belief that the peptide has an anti-microbial function (higher is better). The model is externally developed and is to us a black box."
   ]
  },
  {
   "cell_type": "markdown",
   "metadata": {},
   "source": [
    "For example:"
   ]
  },
  {
   "cell_type": "code",
   "execution_count": 2,
   "metadata": {
    "ExecuteTime": {
     "end_time": "2018-05-02T09:03:20.378109Z",
     "start_time": "2018-05-02T09:03:18.916328Z"
    },
    "scrolled": true
   },
   "outputs": [
    {
     "name": "stdout",
     "output_type": "stream",
     "text": [
      "Loading the sequences...\n",
      "Loading the features...\n",
      "Finished!\n"
     ]
    }
   ],
   "source": [
    "from peptide_optimization import score_peptide"
   ]
  },
  {
   "cell_type": "code",
   "execution_count": 3,
   "metadata": {
    "ExecuteTime": {
     "end_time": "2018-05-02T08:26:08.581508Z",
     "start_time": "2018-05-02T08:26:08.154216Z"
    }
   },
   "outputs": [
    {
     "name": "stdout",
     "output_type": "stream",
     "text": [
      "0.00654421421315\n"
     ]
    }
   ],
   "source": [
    "print(score_peptide('ASRTYUIPUYGRVHHGY'))  # a random peptide"
   ]
  },
  {
   "cell_type": "code",
   "execution_count": 4,
   "metadata": {
    "ExecuteTime": {
     "end_time": "2018-05-02T08:26:09.148479Z",
     "start_time": "2018-05-02T08:26:09.140289Z"
    }
   },
   "outputs": [
    {
     "name": "stdout",
     "output_type": "stream",
     "text": [
      "0.00732649471894\n"
     ]
    }
   ],
   "source": [
    "print(score_peptide('SKITDILAKLGKVLAHV'))  # a peptide from the database"
   ]
  },
  {
   "cell_type": "code",
   "execution_count": 5,
   "metadata": {
    "ExecuteTime": {
     "end_time": "2018-05-02T08:26:13.448081Z",
     "start_time": "2018-05-02T08:26:09.672290Z"
    }
   },
   "outputs": [
    {
     "name": "stdout",
     "output_type": "stream",
     "text": [
      "471 µs ± 66.8 µs per loop (mean ± std. dev. of 7 runs, 1000 loops each)\n"
     ]
    }
   ],
   "source": [
    "%timeit score_peptide('ASRTYUIPUYGRVHHGY')  # time to score a peptide"
   ]
  },
  {
   "cell_type": "markdown",
   "metadata": {},
   "source": [
    "We will try to find a new peptide with a length of twenty amino acids with the highest possible score according to the given model. To this end, hill climbing, simulated annealing and genetic algorithms will be used.\n",
    "\n",
    "For the problem setting at hand, we clarify the following terminology:\n",
    "- The **neigborhood** of a peptide: the set of all peptides which differ with exactly one amino acid compared to the given peptide\n",
    "- When a **mutation** occurs, a residue of a peptide is replaced by a randomly chosen amino acid. In our implementation of simulated annealing and the genetic algorithm, each amino acid in a peptide has a small fixed probability `pmut` to be mutated.\n",
    "- During a **crossover** event between two peptides, at each position the corresponding residues of the peptides are either switched or remain unchanged with equal probability. Crossovers occur between two randomly selected individuals with a probability `pcross`."
   ]
  },
  {
   "cell_type": "markdown",
   "metadata": {},
   "source": [
    "**Assignment 1**\n",
    "\n",
    "Complete the implementation of the function `hill_climbing` to bring either a given peptide or a randomly generated peptide of a given length to a local optimum. Run the algorithms ten times to generate optimized peptides of length twenty. What scores do you get? Describe these plots."
   ]
  },
  {
   "cell_type": "code",
   "execution_count": 3,
   "metadata": {
    "ExecuteTime": {
     "end_time": "2018-05-02T09:03:22.947788Z",
     "start_time": "2018-05-02T09:03:22.933816Z"
    }
   },
   "outputs": [
    {
     "data": {
      "text/plain": [
       "['A',\n",
       " 'V',\n",
       " 'L',\n",
       " 'I',\n",
       " 'P',\n",
       " 'F',\n",
       " 'W',\n",
       " 'M',\n",
       " 'K',\n",
       " 'R',\n",
       " 'H',\n",
       " 'G',\n",
       " 'S',\n",
       " 'T',\n",
       " 'C',\n",
       " 'Y',\n",
       " 'N',\n",
       " 'Q',\n",
       " 'D',\n",
       " 'E']"
      ]
     },
     "execution_count": 3,
     "metadata": {},
     "output_type": "execute_result"
    }
   ],
   "source": [
    "from protein_sequence_features import amino_acids\n",
    "\n",
    "amino_acids  # the amino acids "
   ]
  },
  {
   "cell_type": "code",
   "execution_count": 4,
   "metadata": {
    "ExecuteTime": {
     "end_time": "2018-05-02T09:03:24.591666Z",
     "start_time": "2018-05-02T09:03:24.579705Z"
    },
    "collapsed": true
   },
   "outputs": [],
   "source": [
    "def explore_peptide_region(peptide, scoring):\n",
    "    \"\"\"\n",
    "    Searches all neighboring peptides of a given peptide that differ exactly one\n",
    "    amino acid.\n",
    "    \n",
    "    Inputs:\n",
    "        - peptide: a peptide sequence\n",
    "        - scoring: the scoring function used for the peptides\n",
    "        \n",
    "    Outputs:\n",
    "        - the best peptide in the neighborhood\n",
    "    \"\"\"\n",
    "    # complete this\n",
    "    score = 0\n",
    "    neighbour_lst = []\n",
    "    for nodeI, __ in enumerate(peptide):\n",
    "        pep_as_lst = list(peptide)\n",
    "        for amino_acid in amino_acids:   \n",
    "            pep_as_lst[nodeI] = amino_acid\n",
    "            neighbour = \"\".join(pep_as_lst)\n",
    "            neighbour_lst.append(neighbour)\n",
    "            scoreTemp = 0\n",
    "            scoreTemp = scoring(neighbour)\n",
    "            if scoreTemp > score:\n",
    "                best_peptide = neighbour\n",
    "                best_score = scoreTemp\n",
    "                score = scoreTemp\n",
    "    return best_score, best_peptide"
   ]
  },
  {
   "cell_type": "code",
   "execution_count": 9,
   "metadata": {
    "ExecuteTime": {
     "end_time": "2018-05-02T09:06:27.310887Z",
     "start_time": "2018-05-02T09:06:27.297134Z"
    },
    "collapsed": true
   },
   "outputs": [],
   "source": [
    "def hill_climbing(peptidesize=None, peptide=None, scoring=score_peptide):\n",
    "    \"\"\"\n",
    "    Uses hill climbing to find a peptide with a high score for\n",
    "    antimicrobial activity.\n",
    "\n",
    "    Inputs:\n",
    "        - peptidesize : give size if stated from a randon peptide\n",
    "        - peptide : optionally give an intial peptide to improve\n",
    "        - scoring : the scoring function used for the peptides\n",
    "\n",
    "    Outputs:\n",
    "        - peptide : best found peptide\n",
    "        - best_scores : best scores obtained through the iterations\n",
    "    \"\"\"\n",
    "    assert peptidesize is not None or peptide is not None\n",
    "    # if no peptide is made, give a random one\n",
    "    if peptide is None:\n",
    "        peptide = ''\n",
    "        for res in range(peptidesize):\n",
    "            peptide += choice(amino_acids)\n",
    "    else:\n",
    "        peptidesize = len(peptide)\n",
    "    best_scores = [scoring(peptide)]\n",
    "    peptides = [peptide]\n",
    "    while True:\n",
    "        new_score, new_peptide = explore_peptide_region(peptide, scoring)\n",
    "        if new_score > best_scores[-1]:   #  improvement?\n",
    "            best_scores.append(new_score)\n",
    "            peptides.append(new_peptide)    \n",
    "        else:\n",
    "            break\n",
    "    return peptides, best_scores"
   ]
  },
  {
   "cell_type": "code",
   "execution_count": 20,
   "metadata": {
    "ExecuteTime": {
     "end_time": "2018-05-02T09:15:46.496788Z",
     "start_time": "2018-05-02T09:15:44.374508Z"
    },
    "scrolled": true
   },
   "outputs": [
    {
     "name": "stdout",
     "output_type": "stream",
     "text": [
      "CPU times: user 2.06 s, sys: 0 ns, total: 2.06 s\n",
      "Wall time: 2.06 s\n"
     ]
    },
    {
     "data": {
      "image/png": "[encoded data removed]",
      "text/plain": [
       "<matplotlib.figure.Figure at 0x7f929a4803c8>"
      ]
     },
     "metadata": {},
     "output_type": "display_data"
    }
   ],
   "source": [
    "%%time \n",
    "peptides, best_scores = hill_climbing(peptidesize=10)\n",
    "scores = []\n",
    "\n",
    "for i in range(0,10):\n",
    "    peptides, best_scores = hill_climbing(peptidesize=10)\n",
    "    scores.append(best_scores[-1])\n",
    "plt.plot(scores)\n",
    "# make a plot of the running of hill climbing \n",
    "# for ten runs"
   ]
  },
  {
   "cell_type": "markdown",
   "metadata": {},
   "source": [
    "COMMENT ON THIS PLOT? HOW ARE THE DIFFERENT RUNS THE SAME AND WHAT DO THEY HAVE IN COMMON?"
   ]
  },
  {
   "cell_type": "markdown",
   "metadata": {},
   "source": [
    "**Assignment 2**\n",
    "\n",
    "Hill climbing greedily improves the given peptide until no single change of in amino acid residus increases the score. The solution of hill climbing is likely to be a local optimum (and not necessarily a good one!).\n",
    "\n",
    "We will try to generate better peptides using simulated annealing (which only uses mutations to generate diversity in the candidate solutions) and a genetic algorithm (which uses both mutations as well as crossover to generate novel peptides). \n",
    "\n",
    "1. Complete the functions to generate diversity in the peptides. The function `mutate_peptide` takes a peptide as input and returns a new peptide where each amino acid is changed by a randomly chosen other peptide with a probability `pmut`. The function `crossover_peptides` requires two peptides of equal length as input and outputs the corresponding random crossover peptides.\n",
    "2. Complete the function `simulated_annealing` to optimize random peptide of fixed length. Try to find an optimal peptide of length twenty. Discuss how to choose good values for `Tmin`, `Tmax`, `r` and `kT`.\n",
    "3. Finally, complete the function `genetic_algorithm`. You also have to complete the functions `tournament_selection` and `recombinate` which will be used in the main algorithm. Try to find the an optimal peptide of length twenty as well, using some trial and error to find the hyperparameters. \n",
    "4. Compare the quality of the solution using hill climbing, simulated annealing and the genetic algorithm. If you take code complexity and computation time into account, which would you try first for general problems?"
   ]
  },
  {
   "cell_type": "code",
   "execution_count": 85,
   "metadata": {
    "ExecuteTime": {
     "end_time": "2018-05-02T09:40:50.397360Z",
     "start_time": "2018-05-02T09:40:50.390240Z"
    }
   },
   "outputs": [],
   "source": [
    "import random \n",
    "\n",
    "def mutate_peptide(peptide, pmut=0.05):\n",
    "    \"\"\"\n",
    "    Replaces each amino acid of the peptide with an arbitrary chosen\n",
    "    amino acid with a probability pmut.\n",
    "    \"\"\"\n",
    "    if random.random() <= pmut:\n",
    "        random_aa = random.choice(amino_acids)\n",
    "        random_loc = random.randint(0, len(peptide)-1)\n",
    "        pep_as_lst = list(peptide)\n",
    "        pep_as_lst[random_loc] = random_aa\n",
    "        mutated_peptide = \"\".join(pep_as_lst)\n",
    "        return mutated_peptide\n",
    "    else:\n",
    "        return peptide"
   ]
  },
  {
   "cell_type": "code",
   "execution_count": 47,
   "metadata": {
    "ExecuteTime": {
     "end_time": "2018-05-02T09:35:02.546348Z",
     "start_time": "2018-05-02T09:35:02.536800Z"
    },
    "collapsed": true
   },
   "outputs": [],
   "source": [
    "def get_aminoacid_at_pos(peptide, pos):\n",
    "    pep_as_lst = list(peptide)\n",
    "    return pep_as_lst[pos]"
   ]
  },
  {
   "cell_type": "code",
   "execution_count": 46,
   "metadata": {
    "ExecuteTime": {
     "end_time": "2018-05-02T09:33:19.585186Z",
     "start_time": "2018-05-02T09:33:19.575599Z"
    },
    "collapsed": true
   },
   "outputs": [],
   "source": [
    "def change_aminoacid_at_pos(peptide, pos, aminoacid):\n",
    "    pep_as_lst = list(peptide)\n",
    "    pep_as_lst[pos] = aminoacid\n",
    "    return \"\".join(pep_as_lst)"
   ]
  },
  {
   "cell_type": "code",
   "execution_count": 81,
   "metadata": {
    "ExecuteTime": {
     "end_time": "2018-05-02T09:40:39.261267Z",
     "start_time": "2018-05-02T09:40:39.253404Z"
    },
    "collapsed": true
   },
   "outputs": [],
   "source": [
    "def crossover_peptides(peptide1, peptide2):\n",
    "    \"\"\"\n",
    "    Performs crossover for two peptides, each position is switched with equal\n",
    "    probability.\n",
    "\n",
    "    Inputs:\n",
    "        - peptide1, peptide2\n",
    "\n",
    "    Outputs:\n",
    "        - crossed_peptide1, crossed_peptide2\n",
    "    \"\"\"\n",
    "    for loc, __ in enumerate(peptide1):\n",
    "        if random.random() <= 0.5:\n",
    "             crossed_peptide1 = change_aminoacid_at_pos(peptide1, loc, get_aminoacid_at_pos(peptide2,loc))\n",
    "             crossed_peptide2 = change_aminoacid_at_pos(peptide2, loc, get_aminoacid_at_pos(peptide1,loc))   \n",
    "    return crossed_peptide1, crossed_peptide2"
   ]
  },
  {
   "cell_type": "code",
   "execution_count": 82,
   "metadata": {
    "ExecuteTime": {
     "end_time": "2018-05-02T09:40:39.885928Z",
     "start_time": "2018-05-02T09:40:39.879305Z"
    },
    "collapsed": true
   },
   "outputs": [],
   "source": [
    "peptide1 = 'AAAAAAAAAAAA'\n",
    "peptide2 = 'CCCCCCCCCCCC'"
   ]
  },
  {
   "cell_type": "code",
   "execution_count": 89,
   "metadata": {
    "ExecuteTime": {
     "end_time": "2018-05-02T09:41:12.860289Z",
     "start_time": "2018-05-02T09:41:12.846711Z"
    }
   },
   "outputs": [
    {
     "name": "stdout",
     "output_type": "stream",
     "text": [
      "AAAAAAAAAAAA\n",
      "AAAAAAAAAAAA\n",
      "AAAAAAAAAAAA\n",
      "AAAAAAAAAAAA\n",
      "AAAAAAAAAAAA\n",
      "AAAAAAAAAAAA\n",
      "AAAAAAAAAAAA\n",
      "AAAAAAAAAAAA\n",
      "AAAAAAAAAAAA\n",
      "FAAAAAAAAAAA\n"
     ]
    }
   ],
   "source": [
    "for i in range(0,10):\n",
    "    print(mutate_peptide(peptide1, pmut=0.1))"
   ]
  },
  {
   "cell_type": "code",
   "execution_count": 84,
   "metadata": {
    "ExecuteTime": {
     "end_time": "2018-05-02T09:40:41.165577Z",
     "start_time": "2018-05-02T09:40:41.158539Z"
    }
   },
   "outputs": [
    {
     "name": "stdout",
     "output_type": "stream",
     "text": [
      "AAAAAAAAAAAC CCCCCCCCCCCA\n"
     ]
    }
   ],
   "source": [
    "print(*crossover_peptides(peptide1, peptide2))"
   ]
  },
  {
   "cell_type": "code",
   "execution_count": 98,
   "metadata": {
    "ExecuteTime": {
     "end_time": "2018-05-02T09:51:42.743536Z",
     "start_time": "2018-05-02T09:51:42.700055Z"
    }
   },
   "outputs": [],
   "source": [
    "def simulated_annealing(peptidesize, Tmax, Tmin, pmut, r, kT,\n",
    "                                                scoring=score_peptide):\n",
    "    \"\"\"\n",
    "    Uses simulated annealing to find a peptide with a high score for\n",
    "    antimicrobial activity.\n",
    "\n",
    "    Inputs:\n",
    "        - peptidesize : length of the peptide\n",
    "        - Tmax : maximum (starting) temperature\n",
    "        - Tmin : minimum (stopping) temperature\n",
    "        - pmut : probability of mutating an amino acid in the peptide\n",
    "        - r : rate of cooling\n",
    "        - kT : number of iteration with fixed temperature\n",
    "        - scoring : the scoring function used for the peptides\n",
    "\n",
    "    Outputs:\n",
    "        - peptide : best found peptide\n",
    "        - fbest : best scores obtained through the iterations\n",
    "        - temperatures : temperature during the iterations\n",
    "    \"\"\"\n",
    "    # create intial peptide\n",
    "    peptide = ''\n",
    "    for _ in range(peptidesize):\n",
    "        peptide += choice(amino_acids)\n",
    "\n",
    "    temp = Tmax\n",
    "    fstar = scoring(peptide)\n",
    "    fbest = [fstar]\n",
    "    temperatures = [temp]\n",
    "\n",
    "    while temp > Tmin:\n",
    "        for i in range(kT):\n",
    "            score = score_peptide(peptide)\n",
    "            score_n, best_neighbour = explore_peptide_region(peptide, scoring)\n",
    "            if score < score_n:\n",
    "                peptide = best_neighbour\n",
    "            elif random.random < np.exp((score_n-score)/temp):\n",
    "                peptide = best_neighbour\n",
    "            temp *= r\n",
    "        fbest.append(fstar)  # save best value\n",
    "        temperatures.append(temp)  # save best temperature\n",
    "    return peptide, fbest, temperatures"
   ]
  },
  {
   "cell_type": "raw",
   "metadata": {},
   "source": [
    "Simulated annealing algorithm(Tmax, Tmin, r, kT)\n",
    "    choose random initial point x\n",
    "    T := Tmax\n",
    "    while T > Tmin\n",
    "        repeat kT times\n",
    "            randomly choose xn from neigborhood of x\n",
    "            if f(xn) > f(x)\n",
    "                x := xn\n",
    "            else with probability exp( (f(xn) - f(x))/T )\n",
    "                x := xn\n",
    "         T := T * r\n",
    "    return x"
   ]
  },
  {
   "cell_type": "code",
   "execution_count": 102,
   "metadata": {
    "ExecuteTime": {
     "end_time": "2018-05-02T09:52:05.519434Z",
     "start_time": "2018-05-02T09:52:03.590246Z"
    }
   },
   "outputs": [
    {
     "name": "stdout",
     "output_type": "stream",
     "text": [
      "QNQYDQENHWEHWFPHSWQE\n",
      "CPU times: user 1.93 s, sys: 0 ns, total: 1.93 s\n",
      "Wall time: 1.93 s\n"
     ]
    }
   ],
   "source": [
    "%%time\n",
    "peptide_SA, fitness, temperature = simulated_annealing(peptidesize=20,Tmax=270, Tmin=200, pmut=0.1, r=0.8,kT=10)\n",
    "print(peptide_SA)"
   ]
  },
  {
   "cell_type": "code",
   "execution_count": null,
   "metadata": {
    "collapsed": true,
    "scrolled": true
   },
   "outputs": [],
   "source": [
    "# make a plot for simulated annealing"
   ]
  },
  {
   "cell_type": "markdown",
   "metadata": {},
   "source": [
    "DESCRIBE THE EFFECT OF THE HYPERPARAMETERS. MAKE A PLOT TO ILLUSTRATE THE BEHAVIOUR BELOW."
   ]
  },
  {
   "cell_type": "code",
   "execution_count": null,
   "metadata": {
    "collapsed": true
   },
   "outputs": [],
   "source": [
    "# EXPERIMENT WITH THE HYPERPARAMETERS OF SA HERE"
   ]
  },
  {
   "cell_type": "code",
   "execution_count": null,
   "metadata": {
    "collapsed": true
   },
   "outputs": [],
   "source": []
  },
  {
   "cell_type": "code",
   "execution_count": null,
   "metadata": {
    "collapsed": true
   },
   "outputs": [],
   "source": []
  },
  {
   "cell_type": "code",
   "execution_count": null,
   "metadata": {
    "collapsed": true
   },
   "outputs": [],
   "source": [
    "def tournament_selection(scored_peptides):\n",
    "    \"\"\"\n",
    "    Apply tournament selection on a list of scored peptides.\n",
    "\n",
    "    Input:\n",
    "        - scored_peptides : a list of scored peptides, each element is a tuple\n",
    "                        of the form (score, peptide)\n",
    "    Output:\n",
    "        - selected_peptides : a list of peptides selected from scored_peptides\n",
    "                        based on tournament selection (without the score)\n",
    "    \"\"\"\n",
    "    # complete this\n",
    "    return selected_peptides\n",
    "\n",
    "\n",
    "def recombinate(population, pmut, pcross):\n",
    "    \"\"\"\n",
    "    Recombinates a population of peptides.\n",
    "\n",
    "    Inputs:\n",
    "        - population : a list of peptides\n",
    "        - pmut : probability of mutating an amino acid\n",
    "        - pcross : probability of two peptides crossing over\n",
    "\n",
    "    Output:\n",
    "        - recombinated_population\n",
    "    \"\"\"\n",
    "    recombinated_population = []\n",
    "    # the population with mutation an cross over applied to\n",
    "    return recombinated_population"
   ]
  },
  {
   "cell_type": "code",
   "execution_count": null,
   "metadata": {
    "collapsed": true
   },
   "outputs": [],
   "source": [
    "def genetic_algorithm(peptidesize, n_iterations, popsize, pmut, pcross,\n",
    "                                                    scoring=score_peptide):\n",
    "    \"\"\"\n",
    "    Uses a genetic algorithm to find a peptide with a high score for\n",
    "    antimicrobial activity.\n",
    "\n",
    "    Inputs:\n",
    "        - peptidesize : length of the peptide\n",
    "        - n_iterations : number of iterations (generations)\n",
    "        - popsize : size of the population\n",
    "        - pmut : probability of mutating an amino acid in the peptide\n",
    "        - pcross : probability of performing a crossover\n",
    "        - scoring : the scoring function used for the peptides\n",
    "\n",
    "    Outputs:\n",
    "        - best_peptide : best found peptide\n",
    "        - best_fitness_iteration : best scores obtained through the iterations\n",
    "    \"\"\"\n",
    "    # initialize population\n",
    "    population = []\n",
    "    for _ in range(popsize):\n",
    "        peptide = ''\n",
    "        for _ in range(peptidesize):\n",
    "            peptide += choice(amino_acids)\n",
    "        population.append(peptide)\n",
    "\n",
    "    # score peptides\n",
    "    scored_peptides = [(scoring(peptide), peptide)\n",
    "                        for peptide in population]\n",
    "    best_fitness, best_peptide = max(scored_peptides)\n",
    "\n",
    "    best_fitness_iteration = [best_fitness]\n",
    "\n",
    "    for iter in range(n_iterations):\n",
    "        # select population\n",
    "        \n",
    "        # recombinate population\n",
    "        \n",
    "        # elitism\n",
    "        \n",
    "        # score peptides\n",
    "        \n",
    "        # select best\n",
    "        best_fitness, best_peptide = max(scored_peptides)\n",
    "        best_fitness_iteration.append(best_fitness)\n",
    "\n",
    "    return best_peptide, best_fitness_iteration"
   ]
  },
  {
   "cell_type": "code",
   "execution_count": null,
   "metadata": {
    "collapsed": true,
    "scrolled": true
   },
   "outputs": [],
   "source": [
    "%time\n",
    "peptide_GA, best_fitness_iteration = genetic_algorithm(peptidesize=20, n_iterations=1000,\n",
    "                                        popsize=500, pmut=0.02, pcross=0.8, scoring=score_peptide)"
   ]
  },
  {
   "cell_type": "code",
   "execution_count": null,
   "metadata": {
    "collapsed": true
   },
   "outputs": [],
   "source": [
    "# make a plot for the genetic algorithm"
   ]
  },
  {
   "cell_type": "markdown",
   "metadata": {},
   "source": [
    "DESCRIBE THE EFFECT OF THE HYPERPARAMETERS. MAKE A PLOT TO ILLUSTRATE THE BEHAVIOUR BELOW."
   ]
  },
  {
   "cell_type": "code",
   "execution_count": null,
   "metadata": {
    "collapsed": true
   },
   "outputs": [],
   "source": []
  },
  {
   "cell_type": "code",
   "execution_count": null,
   "metadata": {
    "collapsed": true
   },
   "outputs": [],
   "source": []
  },
  {
   "cell_type": "markdown",
   "metadata": {
    "collapsed": true
   },
   "source": [
    "## References\n",
    "\n",
    "Floreano, D. and Mattiussi, C., *'Bio-Inspired Artificial Intelligence'*. MIT Press (2008) [link](http://baibook.epfl.ch/)\n",
    "\n",
    "Song, L.,Fukumizu, K. and Gretton, A. (2013), *'Kernel embeddings of conditional distributions'*. IEEE Signal Processing Magazine 30(4):98-111"
   ]
  }
 ],
 "metadata": {
  "anaconda-cloud": {},
  "kernelspec": {
   "display_name": "Python 3",
   "language": "python",
   "name": "python3"
  },
  "language_info": {
   "codemirror_mode": {
    "name": "ipython",
    "version": 3
   },
   "file_extension": ".py",
   "mimetype": "text/x-python",
   "name": "python",
   "nbconvert_exporter": "python",
   "pygments_lexer": "ipython3",
   "version": "3.6.3"
  },
  "latex_envs": {
   "LaTeX_envs_menu_present": true,
   "autocomplete": true,
   "bibliofile": "biblio.bib",
   "cite_by": "apalike",
   "current_citInitial": 1,
   "eqLabelWithNumbers": true,
   "eqNumInitial": 0,
   "hotkeys": {
    "equation": "Ctrl-E",
    "itemize": "Ctrl-I"
   },
   "labels_anchors": false,
   "latex_user_defs": false,
   "report_style_numbering": false,
   "user_envs_cfg": false
  },
  "toc": {
   "nav_menu": {},
   "number_sections": true,
   "sideBar": true,
   "skip_h1_title": false,
   "toc_cell": false,
   "toc_position": {},
   "toc_section_display": "block",
   "toc_window_display": false
  }
 },
 "nbformat": 4,
 "nbformat_minor": 1
}
