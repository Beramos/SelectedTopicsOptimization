{
 "cells": [
  {
   "cell_type": "markdown",
   "metadata": {
    "nbpresent": {
     "id": "5eee8d8c-59dc-40d1-9ad2-b3e4d226b585"
    },
    "slideshow": {
     "slide_type": "slide"
    }
   },
   "source": [
    "# Unconstrained convex optimization\n",
    "\n",
    "*Selected Topics in Mathematical Optimization: 2017-2018*\n",
    "\n",
    "**Michiel Stock** ([email](michiel.stock@ugent.be))\n",
    "\n",
    "![](Figures/logo.png)"
   ]
  },
  {
   "cell_type": "code",
   "execution_count": 7,
   "metadata": {
    "ExecuteTime": {
     "end_time": "2018-02-21T08:33:42.937472Z",
     "start_time": "2018-02-21T08:33:42.930433Z"
    },
    "collapsed": true,
    "nbpresent": {
     "id": "9c90aad1-6d34-4224-b6a4-92fa6a87eccd"
    },
    "slideshow": {
     "slide_type": "skip"
    }
   },
   "outputs": [],
   "source": [
    "import matplotlib.pyplot as plt\n",
    "import numpy as np\n",
    "from teachingtools import blue, green, yellow, orange, red, black\n",
    "import warnings\n",
    "warnings.filterwarnings(\"ignore\")\n",
    "\n",
    "%matplotlib inline"
   ]
  },
  {
   "cell_type": "markdown",
   "metadata": {
    "nbpresent": {
     "id": "383dd858-f83c-4b07-bf38-ade1213bfb72"
    },
    "slideshow": {
     "slide_type": "subslide"
    }
   },
   "source": [
    "## Motivation\n",
    "\n",
    "In this chapter we will study unconstrained convex problems, i.e. problems of the form\n",
    "\n",
    "$$\n",
    "\\min_\\mathbf{x}\\, f(\\mathbf{x})\\,,\n",
    "$$\n",
    "\n",
    "in which $f$ is *convex*. Convex optimization problems are well understood. Their most attractive property is that when a minimizer exists, the minimizer is the unique global minimizer.\n",
    "\n",
    "Most convex optimization problems do not have a closed-form solution, with the quadratic problems of the previous chapters as a notable exception. We will hence again have to resort to descent methods to find an (arbitrary accurate) approximate solution.\n",
    "\n",
    "<div class=\"notes\" style=\"color:crimson;\">\n",
    "notes:\n",
    "</div>"
   ]
  },
  {
   "cell_type": "markdown",
   "metadata": {
    "nbpresent": {
     "id": "0914ed39-0728-489d-b754-be33294c7170"
    },
    "slideshow": {
     "slide_type": "slide"
    }
   },
   "source": [
    "## Convex sets and functions\n",
    "\n",
    "### Convex set\n",
    "\n",
    "> **In words**: a set $\\mathcal{C}$ is called *convex* if the line segment between any two points in $\\mathcal{C}$ also lies in $\\mathcal{C}$.\n",
    "\n",
    "> **In symbols**:  a set $\\mathcal{C}$ is called *convex* if, for any $\\mathbf{x}, \\mathbf{x}' \\in \\mathcal{C}$ and any $\\theta \\in [0, 1]$, it holds that $\\theta \\mathbf{x} + (1 - \\theta) \\mathbf{x}' \\in \\mathcal{C}$.\n",
    "\n",
    "![Some convex (A & B) and non-convex sets (B & D).](Figures/convex_sets.png)\n",
    "\n",
    "### Convex functions\n",
    "\n",
    "> **In words**:  a function $f$ is *convex* if the line segment between $(\\mathbf{x}, f(\\mathbf{x}))$ and $(\\mathbf{x}', f (\\mathbf{x}'))$ lies above the graph of $f$.\n",
    "\n",
    "> **In symbols**: a function $f : \\mathbb{R}^n\\rightarrow \\mathbb{R}$ is *convex* if\n",
    "> - dom($f$) is convex\n",
    "> - for any $\\mathbf{x}, \\mathbf{x}' \\in \\text{dom}(f)$ and any $\\theta \\in [0, 1]$, it holds that $f(\\theta \\mathbf{x} + (1-\\theta)\\mathbf{x}') \\leq\\theta f(\\mathbf{x}) +(1-\\theta)f(\\mathbf{x}')$.\n",
    "\n",
    "![A line connecting two points of a convex function always lies above the function.](Figures/convex_function_illustration.png)\n",
    "\n",
    "![Some convex (A & C) and non-convex functions (B).](Figures/convex_functions.png)\n",
    "\n",
    "From the definition, it follows that:\n",
    "\n",
    "- If the function is differentiable, then $f(\\mathbf{x})\\geq f(\\mathbf{x}')+\\nabla f(\\mathbf{x}')^\\top(\\mathbf{x}-\\mathbf{x}')$ for all $\\mathbf{x}$ and $\\mathbf{x}' \\in \\text{dom}(f)$. **The first-order Taylor approximation is a global underestimator of $f$.**\n",
    "- If the function is twice differentiable, then $\\nabla^2 f(\\mathbf{x})\\succeq 0$ for any $\\mathbf{x}\\in\\text{dom}(f)$.\n",
    "\n",
    "Convex functions frequently arise:\n",
    "\n",
    "- If $f$ and $g$ are both convex, then $m(x)=\\max(f(x), g(x))$ and $h(x)=f(x)+g(x)$ are also convex.\n",
    "- If $f$ and $g$ are convex functions and $g$ is non-decreasing over a univariate domain, then $h(x)=g(f(x))$ is convex. Example: $e^{f(x)}$ is convex if $f({x})$ is convex.\n",
    "\n",
    "Note, the convexity of expected value in probability theory gives rise to *Jensen's inequality*. For any convex function $\\varphi$, if holds that\n",
    "$$\n",
    "\\varphi(\\mathbb{E}[X]) \\leq\\mathbb{E}[\\varphi(X)]\\,.\n",
    "$$\n",
    "\n",
    "This implies for example that the square of an expected value of quantity is never greater than the expected square of that quantity.\n",
    "\n",
    "### Strongly convex functions\n",
    "\n",
    "> **In words**: a function $f$ is called *strongly convex* if it is at least as convex as a quadratic function.\n",
    "\n",
    "> **In symbols**: a $f$ is called *strongly $m$-convex* (with $m>0$) if the function $f_m(\\mathbf{x}) = f(\\mathbf{x}) - \\frac{m}{2}||\\mathbf{x}||_2$ is convex.\n",
    "\n",
    "If the first- and second order derivatives exists, a strongly $m$-convex satisfies:\n",
    "\n",
    "- $f(\\mathbf{x}') \\geq f(\\mathbf{x}) + \\nabla f(\\mathbf{x})^\\top (\\mathbf{x}'-\\mathbf{x}) + \\frac{m}{2}||\\mathbf{x}'-\\mathbf{x}||_2$\n",
    "- $\\nabla^2 f(\\mathbf{x})-mI\\succeq 0$ (all eigenvalues of the Hessian are greater than $m$)\n",
    "\n",
    "If a function is $m$-strongly convex, this also implies that there exists an $M>m$ such that\n",
    "\n",
    "$$\n",
    "\\nabla^2 f(\\mathbf{x}) \\preceq MI\\,.\n",
    "$$\n",
    "\n",
    "Stated differently, for strongly convex functions the exist both a quadratic function with a smaller as well as a lower local curvature.\n",
    "\n",
    "![For strongly convex functions, it holds that there are two constants $m$ and $M$ such that $mI\\preceq\\nabla^2 f(\\mathbf{x}) \\preceq MI$. ](Figures/strong_convexity.png)\n",
    "\n"
   ]
  },
  {
   "cell_type": "markdown",
   "metadata": {},
   "source": [
    "## Toy examples\n",
    "\n",
    "To illustrate the algorithms, we introduce two toy functions to minimize:\n",
    "\n",
    "- simple quadratic problem:\n",
    "$$\n",
    "f(x_1, x_2) = \\frac{1}{2} (x_1^2 +\\gamma x_2^2)\\,,\n",
    "$$\n",
    "where $\\gamma$ determines the condition number.\n",
    "- a non-quadratic function:\n",
    "$$\n",
    "f(x_1, x_2) = \\log(e^{x_1 +3x_2-0.1}+e^{x_1 -3x_2-0.1}+e^{-x_1 -0.1})\\,.\n",
    "$$"
   ]
  },
  {
   "cell_type": "code",
   "execution_count": 8,
   "metadata": {
    "ExecuteTime": {
     "end_time": "2018-02-21T08:34:24.812570Z",
     "start_time": "2018-02-21T08:34:24.809233Z"
    },
    "collapsed": true
   },
   "outputs": [],
   "source": [
    "from teachingtools import plot_contour, add_path  # functions for showing the toy examples\n",
    "from teachingtools import quadratic, grad_quadratic, hessian_quadratic\n",
    "from teachingtools import nonquadratic, grad_nonquadratic, hessian_nonquadratic"
   ]
  },
  {
   "cell_type": "code",
   "execution_count": 9,
   "metadata": {
    "ExecuteTime": {
     "end_time": "2018-02-21T08:34:27.086428Z",
     "start_time": "2018-02-21T08:34:26.816377Z"
    }
   },
   "outputs": [
    {
     "data": {
      "text/plain": [
       "Text(0.5,1,'Non-quadratic')"
      ]
     },
     "execution_count": 9,
     "metadata": {},
     "output_type": "execute_result"
    },
    {
     "data": {
      "image/png": "[encoded data removed]",
      "text/plain": [
       "<matplotlib.figure.Figure at 0x7fa0c443fb70>"
      ]
     },
     "metadata": {},
     "output_type": "display_data"
    }
   ],
   "source": [
    "fig, (ax1, ax2) = plt.subplots(ncols=2, figsize=(10, 5))\n",
    "plot_contour(quadratic, (-11, 11), (-5, 5), ax1)\n",
    "ax1.set_title('Quadratic')\n",
    "plot_contour(nonquadratic, (-2, 2), (-1, 1), ax2)\n",
    "ax2.set_title('Non-quadratic')"
   ]
  },
  {
   "cell_type": "markdown",
   "metadata": {},
   "source": [
    "## General descent methods (recap)\n",
    "\n",
    "Convex functions are usually minimized using descent methods. Again, line search is often used as a subroutine.\n",
    "\n",
    "The outline of a general descent algorithm is given in the following pseudocode.\n",
    "\n",
    "> **input** starting point $\\mathbf{x}\\in$ **dom** $f$.\n",
    ">\n",
    "> **repeat**\n",
    ">\n",
    ">>    1. Determine a descent direction $\\Delta \\mathbf{x}$.\n",
    ">>    2. *Line seach*. Choose a step size $t>0$.\n",
    ">>    3. *Update*. $\\mathbf{x}:=\\mathbf{x}+t\\Delta \\mathbf{x}$.\n",
    ">\n",
    "> **until** stopping criterion is satisfied.\n",
    ">\n",
    "> **output** $\\mathbf{x}$\n",
    "\n",
    "\n",
    "The specific optimization algorithms are hence determined by:\n",
    "\n",
    "- method for determining the search direction $\\Delta \\mathbf{x}$, this is almost always based on the gradient of $f$\n",
    "- method for choosing the step size $t$, may be fixed or adaptive\n",
    "- the criterion used for terminating the descent, usually the algorithm stops when the improvement is smaller than a predefined value"
   ]
  },
  {
   "cell_type": "markdown",
   "metadata": {},
   "source": [
    "## Backtracking line search\n",
    "\n",
    "For quadratic optimization, as covered in Chapter 1, the optimal step size could be computed in closed form. In the general case, only an approximately optimal step size is used."
   ]
  },
  {
   "cell_type": "markdown",
   "metadata": {},
   "source": [
    "### Exact line search\n",
    "\n",
    "As a subroutine of the general descent algorithm a line search has to be performed. A value for $t$ is chosen to minimize $f$ along the ray $\\{\\mathbf{x}+t\\Delta \\mathbf{x} \\mid t\\geq0\\}$:\n",
    "\n",
    "$$\n",
    "t = \\text{arg min}_{s\\geq0}\\ f(\\mathbf{x}+s\\Delta \\mathbf{x})\\,.\n",
    "$$\n",
    "\n",
    "Exact line search is used when the cost of solving the above minimization problem is small compared to the cost of calculating the search direction itself. This is sometimes the case when an analytical solution is available."
   ]
  },
  {
   "cell_type": "markdown",
   "metadata": {},
   "source": [
    "### Inexact line search\n",
    "\n",
    "Often, the descent methods work well when the line search is done only approximately. This is because the computational resources are better spent to performing more *approximate* steps in the different directions because the direction of descent will change anyway.\n",
    "\n",
    "Many methods exist for this, we will consider the *backtracking line search* (BTLS), described by the following pseudocode.\n",
    "\n",
    "> **input** starting point $\\mathbf{x}\\in$ **dom** $f$, descent direction $\\Delta \\mathbf{x}$, gradient $\\nabla f(\\mathbf{x})$,  $\\alpha\\in(0,0.5)$ and $\\beta\\in(0,1)$.\n",
    ">\n",
    "> $t:=1$\n",
    ">\n",
    ">**while** $f(\\mathbf{x}+t\\Delta \\mathbf{x}) > f(x) +\\alpha t \\nabla f(\\mathbf{x})^\\top\\Delta \\mathbf{x}$\n",
    ">\n",
    ">>    $t:=\\beta t$\n",
    ">\n",
    ">\n",
    ">**output** $t$\n",
    "\n",
    "The backtracking line search has two parameters:\n",
    "\n",
    "- $\\alpha$: fraction of decrease in f predicted by linear interpolation we accept\n",
    "- $\\beta$: reduction of the step size in each iteration of the BLS\n",
    "- typically, $0.01 \\leq \\alpha \\leq 0.3$ and $0.1 \\leq \\beta < 1$\n",
    "\n",
    "![Illustration of the backtracking line search.](Figures/btls.png)"
   ]
  },
  {
   "cell_type": "markdown",
   "metadata": {
    "nbpresent": {
     "id": "b78dbece-1ff7-453a-98bb-2a6f2307aba8"
    },
    "slideshow": {
     "slide_type": "subslide"
    }
   },
   "source": [
    "**Assignment 1**\n",
    "\n",
    "1. Complete the code for the backtracking line search\n",
    "2. Use this function find the step size $t$ to (approximately) minimize $f(x) = x^2 - 2x - 5$ starting from the point $0$. Choose a $\\Delta x=10$."
   ]
  },
  {
   "cell_type": "code",
   "execution_count": 47,
   "metadata": {
    "ExecuteTime": {
     "end_time": "2018-02-21T08:47:14.843444Z",
     "start_time": "2018-02-21T08:47:14.837196Z"
    },
    "collapsed": true,
    "slideshow": {
     "slide_type": "subslide"
    }
   },
   "outputs": [],
   "source": [
    "def backtracking_line_search(f, x0, Dx, grad_f, alpha=0.05, beta=0.6):\n",
    "    '''\n",
    "    Uses backtracking for finding the minimum over a line.\n",
    "    Inputs:\n",
    "        - f: function to be searched over a line\n",
    "        - x0: initial point\n",
    "        - Dx: direction to search\n",
    "        - grad_f: gradient of f\n",
    "        - alpha\n",
    "        - beta\n",
    "    Output:\n",
    "        - t: suggested stepsize\n",
    "    '''\n",
    "    t = 1\n",
    "    while f(x0+t*Dx) > f(x0) + alpha*t*np.sum(grad_f(x0)*Dx):\n",
    "        t *= beta \n",
    "    return t"
   ]
  },
  {
   "cell_type": "code",
   "execution_count": 60,
   "metadata": {
    "ExecuteTime": {
     "end_time": "2018-02-21T09:29:47.632571Z",
     "start_time": "2018-02-21T09:29:47.626552Z"
    },
    "collapsed": true
   },
   "outputs": [],
   "source": [
    "from unconstrained import backtracking_line_search"
   ]
  },
  {
   "cell_type": "code",
   "execution_count": 28,
   "metadata": {
    "ExecuteTime": {
     "end_time": "2018-02-21T08:40:54.852608Z",
     "start_time": "2018-02-21T08:40:54.846253Z"
    },
    "slideshow": {
     "slide_type": "skip"
    }
   },
   "outputs": [
    {
     "data": {
      "text/plain": [
       "0.1296"
      ]
     },
     "execution_count": 28,
     "metadata": {},
     "output_type": "execute_result"
    }
   ],
   "source": [
    "function = lambda x : x**2 - 2*x - 5\n",
    "gradient_function = lambda x : 2*x -2\n",
    "backtracking_line_search(function, 0, 10, gradient_function)"
   ]
  },
  {
   "cell_type": "markdown",
   "metadata": {},
   "source": [
    "**Question 1**\n",
    "\n",
    "Describe the effect of $\\alpha$, $\\beta$ and $\\Delta \\mathbf{x}$. How can you perform a more precise search?\n",
    "\n",
    "YOUR ANSWER HERE"
   ]
  },
  {
   "cell_type": "markdown",
   "metadata": {
    "nbpresent": {
     "id": "eaf32b93-a775-40f1-9d3b-fcbd6f2e3d0f"
    },
    "slideshow": {
     "slide_type": "slide"
    }
   },
   "source": [
    "## Gradient descent\n",
    "\n",
    "A natural choice for the search direction is the negative gradient: $\\Delta \\mathbf{x} = -\\nabla f(\\mathbf{x})$. This algorithm is called the *gradient descent algorithm*."
   ]
  },
  {
   "cell_type": "markdown",
   "metadata": {
    "nbpresent": {
     "id": "67576131-bb8d-42c9-a040-8c8df8808338"
    },
    "slideshow": {
     "slide_type": "subslide"
    }
   },
   "source": [
    "### General gradient descent algorithm\n",
    "\n",
    ">**input** starting point $\\mathbf{x}\\in$ **dom** $f$.\n",
    ">\n",
    ">**repeat**\n",
    ">\n",
    ">>    1. $\\Delta \\mathbf{x} := -\\nabla f(\\mathbf{x})$.\n",
    ">>    2. *Line seach*. Choose a step size $t$ via exact or backtracking line search.\n",
    ">>    3. *Update*. $\\mathbf{x}:=\\mathbf{x}+t\\Delta \\mathbf{x}$.\n",
    ">\n",
    ">**until** stopping criterion is satisfied.\n",
    ">\n",
    ">**output** $\\mathbf{x}$\n",
    "\n",
    "The stopping criterion is usually of the form $||\\nabla f(\\mathbf{x})||_2 \\leq \\nu$.\n",
    "\n",
    "### Convergence analysis\n",
    "\n",
    "The notion of strongly convexity allows us to bound the function $f$ by two quadratic functions. As such we can reuse the convergence analysis of the previous chapter.\n",
    "\n",
    "If $f$ is strongly convex (constants $m$ and $M$ exist such that $mI\\prec \\nabla^2 f(\\mathbf{x})\\prec MI$), it holds that $f(\\mathbf{x}^{(k)}) - p^*\\leq \\varepsilon$ after at most\n",
    "$$\n",
    "\\frac{\\log((f(\\mathbf{x}^{(0)}) - p^*)/\\varepsilon)}{\\log(1/c)}\n",
    "$$\n",
    "iterations, where $c =1-\\frac{m}{M}<1$.\n",
    "\n",
    "We conclude:\n",
    "\n",
    "- The number of steps needed for a given quality is proportional to the logarithm of the initial error.\n",
    "- To increase the accuracy with an order of magnitude, only a few more steps are needed.\n",
    "- Convergence is again determined by the *condition number* $M/m$. Note that for large condition numbers: $\\log(1/c)=-\\log(1-\\frac{m}{M})\\approx m/M$, so the number of required iterations increases linearly with increasing $M/m$."
   ]
  },
  {
   "cell_type": "markdown",
   "metadata": {
    "nbpresent": {
     "id": "30bceb30-8e65-484f-98e8-75f898322c10"
    },
    "slideshow": {
     "slide_type": "slide"
    }
   },
   "source": [
    "\n",
    "**Assignment 2**\n",
    "\n",
    "1. Complete the implementation of the gradient descent method.\n",
    "2. Plot the paths for the two toy problems. Use $\\mathbf{x}^{(0)}=[10,1]^\\top$ for the quadratic function and $\\mathbf{x}^{(0)}=[-0.5,0.9]^\\top$ for the non-quadratic function as starting points.\n",
    "3. Analyze the convergence."
   ]
  },
  {
   "cell_type": "raw",
   "metadata": {
    "collapsed": true,
    "slideshow": {
     "slide_type": "skip"
    }
   },
   "source": [
    "from unconstrained import gradient_descent"
   ]
  },
  {
   "cell_type": "code",
   "execution_count": 80,
   "metadata": {
    "ExecuteTime": {
     "end_time": "2018-02-21T09:42:37.645895Z",
     "start_time": "2018-02-21T09:42:37.632827Z"
    },
    "slideshow": {
     "slide_type": "subslide"
    }
   },
   "outputs": [],
   "source": [
    "def gradient_descent(f, x0, grad_f,  alpha=0.05, beta=0.6,\n",
    "      nu=1e-3, trace=False):\n",
    "    '''\n",
    "    General gradient descent algorithm.\n",
    "    Inputs:\n",
    "        - f: function to be minimized\n",
    "        - x0: starting point\n",
    "        - grad_f: gradient of the function to be minimized\n",
    "        - alpha: parameter for btls\n",
    "        - beta: parameter for btls\n",
    "        - nu: parameter to determine if the algorithm is converged\n",
    "        - trace: (bool) store the path that is followed?\n",
    "    Outputs:\n",
    "        - xstar: the found minimum\n",
    "        - x_steps: path in the domain that is followed (if trace=True)\n",
    "        - f_steps: image of x_steps (if trace=True)\n",
    "    '''\n",
    "    x = x0  # initial value\n",
    "    xPrev = x\n",
    "    if trace: x_steps = [x0.copy()]\n",
    "    if trace: f_steps = [f(x0)]\n",
    "    while True:\n",
    "        Dx = -grad_f(x)\n",
    "        if np.linalg.norm(grad_f(x)) <= nu:\n",
    "            break  # converged\n",
    "        t = backtracking_line_search(f,x, Dx, grad_f,alpha,beta)\n",
    "        x += t*Dx\n",
    "        if trace: x_steps.append(x.copy())\n",
    "        if trace: f_steps.append(f(x))\n",
    "    if trace: return x, x_steps, f_steps\n",
    "    else: return x"
   ]
  },
  {
   "cell_type": "code",
   "execution_count": 48,
   "metadata": {
    "ExecuteTime": {
     "end_time": "2018-02-21T08:47:18.834962Z",
     "start_time": "2018-02-21T08:47:18.552456Z"
    },
    "nbpresent": {
     "id": "36968e3f-6e15-4b7b-be18-fc5ed7ae1bd8"
    },
    "slideshow": {
     "slide_type": "slide"
    }
   },
   "outputs": [
    {
     "name": "stdout",
     "output_type": "stream",
     "text": [
      "Number of steps quadratic function: 64\n",
      "Number of steps non-quadratic function: 27\n"
     ]
    },
    {
     "data": {
      "image/png": "[encoded data removed]",
      "text/plain": [
       "<matplotlib.figure.Figure at 0x7fa0c29f1978>"
      ]
     },
     "metadata": {},
     "output_type": "display_data"
    }
   ],
   "source": [
    "fig, (ax1, ax2) = plt.subplots(ncols=2, figsize=(10, 5))\n",
    "\n",
    "plot_contour(quadratic, (-11, 11), (-5, 5), ax1)\n",
    "plot_contour(nonquadratic, (-2, 2), (-1, 1), ax2)\n",
    "\n",
    "xstar_q, x_steps_q, f_steps_q = gradient_descent(quadratic, np.array([[10.0], [1.0]]), \n",
    "                                                 grad_quadratic, nu=1e-5, trace=True)\n",
    "add_path(ax1, x_steps_q, red)\n",
    "\n",
    "print('Number of steps quadratic function: {}'.format(len(x_steps_q) - 1))\n",
    "\n",
    "xstar_nq, x_steps_nq, f_steps_nq = gradient_descent(nonquadratic, np.array([[-0.5], [0.9]]),\n",
    "                                                    grad_nonquadratic, nu=1e-5, trace=True)\n",
    "add_path(ax2, x_steps_nq, red)\n",
    "\n",
    "print('Number of steps non-quadratic function: {}'.format(len(f_steps_nq) - 1))"
   ]
  },
  {
   "cell_type": "code",
   "execution_count": 49,
   "metadata": {
    "ExecuteTime": {
     "end_time": "2018-02-21T08:49:10.302643Z",
     "start_time": "2018-02-21T08:49:09.902169Z"
    },
    "nbpresent": {
     "id": "3f7a78c0-f30a-4ad4-8c58-6aa83f7bf4a8"
    },
    "scrolled": false,
    "slideshow": {
     "slide_type": "subslide"
    }
   },
   "outputs": [
    {
     "data": {
      "image/png": "[encoded data removed]",
      "text/plain": [
       "<matplotlib.figure.Figure at 0x7fa0c284eeb8>"
      ]
     },
     "metadata": {},
     "output_type": "display_data"
    }
   ],
   "source": [
    "fig, (ax1, ax2) = plt.subplots(ncols=2, figsize=(10, 5))\n",
    "ax1.plot(np.abs(f_steps_q))\n",
    "ax1.semilogy()\n",
    "ax2.plot(np.abs(f_steps_nq[:-1] - f_steps_nq[-1]))  # error compared to last step\n",
    "ax2.semilogy()\n",
    "\n",
    "for ax in (ax1, ax2):\n",
    "    ax.set_xlabel('Iteration')\n",
    "    ax.set_ylabel('Absolute error')"
   ]
  },
  {
   "cell_type": "markdown",
   "metadata": {},
   "source": [
    "**Describe the convergence**\n",
    "\n",
    "YOUR ANSWER HERE"
   ]
  },
  {
   "cell_type": "markdown",
   "metadata": {},
   "source": [
    "Let us assess the effect of the hyperparameters of $\\alpha$ and $\\beta$ of the inexact line search."
   ]
  },
  {
   "cell_type": "code",
   "execution_count": 53,
   "metadata": {
    "ExecuteTime": {
     "end_time": "2018-02-21T08:58:04.181836Z",
     "start_time": "2018-02-21T08:57:55.759882Z"
    },
    "collapsed": true
   },
   "outputs": [],
   "source": [
    "alphas = np.linspace(0.01, 0.3, num=10)  # alphas to explore\n",
    "betas = np.linspace(0.01, 0.99, num=15)  # betas to explore\n",
    "\n",
    "steps_to_convergence = np.zeros((len(alphas), len(betas)))\n",
    "\n",
    "for i, alpha in enumerate(alphas):\n",
    "    for j, beta in enumerate(betas):\n",
    "        xstar_q, x_steps_q, f_steps_q = gradient_descent(nonquadratic,\n",
    "                                                np.array([[10.0], [1.0]]), \n",
    "                                                 grad_nonquadratic, nu=1e-5, trace=True,\n",
    "                                                alpha=alpha, beta=beta)\n",
    "        steps_to_convergence[i, j] = len(f_steps_q) - 1"
   ]
  },
  {
   "cell_type": "code",
   "execution_count": 54,
   "metadata": {
    "ExecuteTime": {
     "end_time": "2018-02-21T08:58:04.323691Z",
     "start_time": "2018-02-21T08:58:04.183169Z"
    },
    "scrolled": true
   },
   "outputs": [
    {
     "data": {
      "image/png": "[encoded data removed]",
      "text/plain": [
       "<matplotlib.figure.Figure at 0x7fa0c2911ac8>"
      ]
     },
     "metadata": {},
     "output_type": "display_data"
    }
   ],
   "source": [
    "A, B = np.meshgrid(alphas, betas)\n",
    "fig, ax = plt.subplots()\n",
    "\n",
    "cs = ax.contourf(A,B,  np.log10(steps_to_convergence).T, cmap='hot')\n",
    "ax.set_xlabel(r'$\\alpha$')\n",
    "ax.set_ylabel(r'$\\beta$')\n",
    "ax.set_title('$\\log_{10}$ of number of steps until convergence\\nnon-quadratic curve')\n",
    "cbar = fig.colorbar(cs)"
   ]
  },
  {
   "cell_type": "markdown",
   "metadata": {},
   "source": [
    "**Describe the effect of $\\alpha$, $\\beta$.**\n",
    "\n",
    "YOUR ANSWER HERE"
   ]
  },
  {
   "cell_type": "markdown",
   "metadata": {},
   "source": [
    "Furthermore let us see what the effect is of the condition number on the number of steps until convergence. We will explore this for the quadratic function."
   ]
  },
  {
   "cell_type": "code",
   "execution_count": null,
   "metadata": {
    "collapsed": true
   },
   "outputs": [],
   "source": [
    "condition_numbers = np.logspace(0, 3, num=25)\n",
    "steps_to_convergence = np.zeros_like(condition_numbers)\n",
    "\n",
    "for i, gamma in enumerate(condition_numbers):\n",
    "    xstar_q, x_steps_q, f_steps_q = gradient_descent(lambda x:quadratic(x, gamma=gamma),\n",
    "                                                     np.array([[10.0], [1.0]]), \n",
    "                                                 lambda x:grad_quadratic(x, gamma=gamma),\n",
    "                                                     nu=1e-5, trace=True)\n",
    "    steps_to_convergence[i] = len(f_steps_q) - 1  # number of steps"
   ]
  },
  {
   "cell_type": "code",
   "execution_count": null,
   "metadata": {
    "collapsed": true
   },
   "outputs": [],
   "source": [
    "fig, ax = plt.subplots()\n",
    "ax.plot(condition_numbers, steps_to_convergence)\n",
    "ax.loglog()\n",
    "ax.set_ylabel('Number of steps\\nuntil convergence')\n",
    "ax.set_xlabel('Condition number')"
   ]
  },
  {
   "cell_type": "markdown",
   "metadata": {},
   "source": [
    "**Describe the effect of the condition number.**\n",
    "\n",
    "YOUR ANSWER HERE"
   ]
  },
  {
   "cell_type": "markdown",
   "metadata": {},
   "source": [
    "## Steepest descent\n",
    "\n",
    "Optimize the first-order Taylor approximation of a function:\n",
    "\n",
    "$$\n",
    "f(\\mathbf{x}+\\mathbf{v}) \\approx \\hat{f}(\\mathbf{x}+\\mathbf{v}) =f(\\mathbf{x}) +\\nabla f(\\mathbf{x})^\\top \\mathbf{v}\\,.\n",
    "$$\n",
    "\n",
    "The linear approximation $\\hat{f}$ can be made arbitrary negative if we can freely choose $\\mathbf{v}$! We have to constrain the *norm* of $\\mathbf{v}$.\n",
    "\n",
    "### Vector norms\n",
    "\n",
    "A norm on $\\mathbb{R}^n$ is a function $||\\cdot||:\\mathbb{R}^n\\rightarrow \\mathbb{R}$ with the following properties:\n",
    "\n",
    "- $||\\mathbf{x}||>0$, for any $\\mathbf{x}\\in\\mathbb{R}^n$\n",
    "- $||\\mathbf{x}+\\mathbf{y}|| \\leq ||\\mathbf{x}||+||\\mathbf{y}||$, for any $\\mathbf{x}, \\mathbf{y}\\in\\mathbb{R}^n$\n",
    "- $||\\lambda \\mathbf{x}|| = |\\lambda|\\, ||\\mathbf{x}||$ for any $\\lambda \\in\\mathbb{R}$ and any $\\mathbf{x}\\in\\mathbb{R}^n$\n",
    "- $||\\mathbf{x}||=0$ if and only if $\\mathbf{x}=0$\n",
    "\n",
    "For example, for any $\\mathbf{x}\\in\\mathbb{R}^n$ and $p\\leq 1$:\n",
    "$$\n",
    "||\\mathbf{x}||_p = \\left(\\sum_{i=1}^n |x_i|^p\\right)^\\frac{1}{p}\\,.\n",
    "$$\n",
    "\n",
    "$||\\cdot||_1$ is often called the $L_1$ norm and $||\\cdot||_2$ the $L_2$ norm.\n",
    "\n",
    "Consider $P\\in \\mathbb{R}^{n\\times n}$ such that $P\\succ 0$. The  corresponding *quadratic norm*:\n",
    "$$\n",
    "||\\mathbf{z}||_P = (\\mathbf{z}^\\top P\\mathbf{z})^\\frac{1}{2}=||P^\\frac{1}{2}\\mathbf{z}||_2\\,.\n",
    "$$\n",
    "The matrix $P$ can be used to encode prior knowledge about the scales and dependencies in the space that we want to search.\n",
    "\n",
    "### Dual norm\n",
    "\n",
    "Let $|| \\cdot ||$ be a norm on $\\mathbb{R}^n$. The associated dual norm:\n",
    "$$\n",
    "||\\mathbf{z}||_*=\\sup_{\\mathbf{x}} \\{\\mathbf{z}^\\top\\mathbf{x}\\mid ||\\mathbf{x}||\\leq 1\\}\\,.\n",
    "$$\n",
    "\n",
    "Examples:\n",
    "\n",
    "- The dual norm of $||\\cdot||_1$ is $||\\cdot||_\\infty$\n",
    "- The dual norm of $||\\cdot||_2$ is $||\\cdot||_2$\n",
    "- The dual norm of $||\\cdot||_P$ is defined by $||\\mathbf{z}||_*=||P^{-\\frac{1}{2}}\\mathbf{z}||$"
   ]
  },
  {
   "cell_type": "markdown",
   "metadata": {},
   "source": [
    "### Steepest descent directions\n",
    "\n",
    "**Normalized steepest descent direction**:\n",
    "\n",
    "$$\n",
    "\\Delta x_\\text{nsd} = \\text{arg min}_\\mathbf{v}\\, \\{\\nabla f(\\mathbf{x})^T \\mathbf{v} \\mid ||\\mathbf{v}||\\leq 1 \\}\\,.\n",
    "$$\n",
    "\n",
    "**Unnormalized steepest descent direction**:\n",
    "\n",
    "$$\n",
    "\\Delta x_\\text{sd} = ||\\nabla f(\\mathbf{x})||_\\star \\Delta x_\\text{nsd} \\,.\n",
    "$$\n",
    "\n",
    "Note that we have\n",
    "$$\n",
    "\\nabla f(\\mathbf{x})^\\top \\Delta x_\\text{sd} = ||\\nabla f(\\mathbf{x})||_\\star \\nabla f(\\mathbf{x})^\\top\\Delta x_\\text{nsd} = -||\\nabla f(\\mathbf{x})||^2_\\star\\,,\n",
    "$$\n",
    "so this is a valid descent method.\n",
    "\n",
    "![Illustration of some descent directions based on different norms.](Figures/sd_gradients.png)"
   ]
  },
  {
   "cell_type": "markdown",
   "metadata": {},
   "source": [
    "### Coordinate descent algorithm\n",
    "\n",
    "Using the $L_1$ norm results in coordinate descent. For every iteration in this algorithm, we descent in the direction of the dimension where the absolute value of the gradient is largest.\n",
    "\n",
    ">**input** starting point $\\mathbf{x}\\in$ **dom** $f$.\n",
    ">\n",
    ">**repeat**\n",
    ">\n",
    ">>    1. *Direction*. Choose $i$ such that $|\\nabla f(\\mathbf{x})_i|$ is maximal.\n",
    ">>    2. *Choose direction*. $\\Delta \\mathbf{x} := -\\nabla f(\\mathbf{x})_i \\mathbf{e}_i$\n",
    ">>    3. *Line seach*. Choose a step size $t$ via exact or backtracking line search.\n",
    ">>    4. *Update*. $\\mathbf{x}:=\\mathbf{x}+t\\Delta \\mathbf{x}$.\n",
    ">\n",
    ">**until** stopping criterion is satisfied.\n",
    ">\n",
    ">**output** $\\mathbf{x}$\n",
    "\n",
    "Here, $\\mathbf{e}_i$ is the $i$-th basic vector.\n",
    "\n",
    "The stopping criterion is usually of the form $||\\nabla f(\\mathbf{x})||_2 \\leq \\nu$.\n",
    "\n",
    "Coordinate descent optimizes every dimension in turn, for this reason it is sometimes used in minimization problems which enforce sparseness (e.g. LASSO regression).\n",
    "\n",
    "> *Optimizing one dimension at a time is usually a poor strategy. This is because different dimensions are often related.*"
   ]
  },
  {
   "cell_type": "markdown",
   "metadata": {
    "slideshow": {
     "slide_type": "slide"
    }
   },
   "source": [
    "**Assignment 3**\n",
    "\n",
    "1. Complete the implementation of the coordinate descent method.\n",
    "2. Plot the paths for the two toy problems. Use the same stating points as before.\n",
    "3. Analyze the convergence."
   ]
  },
  {
   "cell_type": "raw",
   "metadata": {
    "collapsed": true
   },
   "source": [
    "def coordinate_descent(f, x0, grad_f, alpha=0.2, beta=0.7,\n",
    "                                nu=1e-3, trace=False):\n",
    "    '''\n",
    "    General coordinate descent algorithm.\n",
    "    Inputs:\n",
    "        - f: function to be minimized\n",
    "        - x0: starting point\n",
    "        - grad_f: gradient of the function to be minimized\n",
    "        - alpha: parameter for btls\n",
    "        - beta: parameter for btls\n",
    "        - nu: parameter to determine if the algorithm is converged\n",
    "        - trace: (bool) store the path that is followed?\n",
    "    Outputs:\n",
    "        - xstar: the found minimum\n",
    "        - x_steps: path in the domain that is followed (if trace=True)\n",
    "        - f_steps: image of x_steps (if trace=True)\n",
    "    '''\n",
    "    x = x0  # initial value\n",
    "    n, _ = x.shape\n",
    "    if trace: x_steps = [x0.copy()]\n",
    "    if trace: f_steps = [f(x0)]\n",
    "    while True:\n",
    "        ...  # choose direction\n",
    "        if # check if converged\n",
    "            break  # converged\n",
    "        ... # BLS for optimal step size\n",
    "        ... # do a step\n",
    "        if trace: x_steps.append(x.copy())\n",
    "        if trace: f_steps.append(f(x))\n",
    "    if trace: return x, x_steps, f_steps\n",
    "    else: return x"
   ]
  },
  {
   "cell_type": "code",
   "execution_count": null,
   "metadata": {
    "collapsed": true
   },
   "outputs": [],
   "source": [
    "from unconstrained import coordinate_descent"
   ]
  },
  {
   "cell_type": "code",
   "execution_count": null,
   "metadata": {
    "collapsed": true
   },
   "outputs": [],
   "source": [
    "fig, (ax1, ax2) = plt.subplots(ncols=2, figsize=(10, 5))\n",
    "plot_contour(quadratic, (-11, 11), (-5, 5), ax1)\n",
    "plot_contour(nonquadratic, (-2, 2), (-1, 1), ax2)\n",
    "\n",
    "xstar_q, x_steps_q, f_steps_q = coordinate_descent(quadratic, np.array([[10.1], [1.0]]), \n",
    "                                                 grad_quadratic, nu=1e-5, trace=True)\n",
    "add_path(ax1, x_steps_q, red)\n",
    "\n",
    "print('Number of steps quadratic function: {}'.format(len(x_steps_q) - 1))\n",
    "\n",
    "xstar_nq, x_steps_nq, f_steps_nq = coordinate_descent(nonquadratic, np.array([[-0.5], [0.9]]),\n",
    "                                                    grad_nonquadratic, nu=1e-5, trace=True)\n",
    "add_path(ax2, x_steps_nq, red)\n",
    "\n",
    "print('Number of steps non-quadratic function: {}'.format(len(f_steps_nq) - 1))"
   ]
  },
  {
   "cell_type": "code",
   "execution_count": null,
   "metadata": {
    "collapsed": true,
    "scrolled": true
   },
   "outputs": [],
   "source": [
    "fig, (ax1, ax2) = plt.subplots(ncols=2, figsize=(10, 5))\n",
    "ax1.plot(np.abs(f_steps_q))\n",
    "ax1.semilogy()\n",
    "ax2.plot(np.abs(f_steps_nq[:-1] - f_steps_nq[-1]))  # error compared to last step\n",
    "ax2.semilogy()\n",
    "\n",
    "for ax in (ax1, ax2):\n",
    "    ax.set_xlabel('Iteration')\n",
    "    ax.set_ylabel('Absolute error')"
   ]
  },
  {
   "cell_type": "markdown",
   "metadata": {},
   "source": [
    "**Describe the convergence of coordinate descent compared to gradient descent.**\n",
    "\n",
    "YOUR ANSWER HERE"
   ]
  },
  {
   "cell_type": "markdown",
   "metadata": {
    "nbpresent": {
     "id": "02c716b3-ba96-48a6-a54b-c1cdb594392e"
    },
    "slideshow": {
     "slide_type": "slide"
    }
   },
   "source": [
    "## Newton's method\n",
    "\n",
    "### The Newton step\n",
    "\n",
    "In Newton's method the descent direction is chosen as\n",
    "\n",
    "$$\n",
    "\\Delta \\mathbf{x}_\\text{nt} = -(\\nabla^2f(\\mathbf{x}))^{-1} \\nabla f(\\mathbf{x})\\,,\n",
    "$$\n",
    "which is called the *Newton step*.\n",
    "\n",
    "If $f$ is convex, then $\\nabla^2f(\\mathbf{x})$ is positive definite and\n",
    "$$\n",
    "\\nabla f(\\mathbf{x})^\\top \\Delta \\mathbf{\\mathbf{x}}_\\text{nt} \\geq 0\\,,\n",
    "$$\n",
    "hence the Newton step is a descent direction unless $\\mathbf{x}$ is optimal.\n",
    "\n",
    "This Newton step can be motivated in several ways.\n",
    "\n",
    "**Minimizer of a second order approximation**\n",
    "\n",
    "The second order Taylor approximation $\\hat{f}$ of $f$ at $\\mathbf{x}$ is\n",
    "\n",
    "$$\n",
    "f(\\mathbf{x}+\\mathbf{v})\\approx\\hat{f}(\\mathbf{x}+\\mathbf{v}) = f(\\mathbf{x}) + \\nabla f(\\mathbf{x})^\\top \\mathbf{v} + \\frac{1}{2} \\mathbf{v}^\\top \\nabla^2 f(\\mathbf{x}) \\mathbf{v}\\,\n",
    "$$\n",
    "\n",
    "which is a convex quadratic function of $\\mathbf{v}$, and is minimized when $\\mathbf{v}=\\Delta \\mathbf{x}_\\text{nt}$.\n",
    "\n",
    "This quadratic model will be particularly accurate when $\\mathbf{x}$ is close to $\\mathbf{x}^\\star$.\n",
    "\n",
    "**Steepest descent direction in Hessian norm**\n",
    "\n",
    "The Newton step is the steepest descent step if a quadratic norm using the Hessian is used, i.e.\n",
    "$$\n",
    "||\\mathbf{u}||_{\\nabla^2f(\\mathbf{x})}=(\\mathbf{u}^\\top\\nabla^2f(\\mathbf{x})\\mathbf{u})^\\frac{1}{2}\\,.\n",
    "$$\n",
    "\n",
    "**Affine invariance of the Newton step**\n",
    "\n",
    "> *A consistent algorithm should give the same results independent of the units in which quantities are measured.*  ~ Donald Knuth\n",
    "\n",
    "The Newton step is independent of linear or affine changes of coordinates. Consider a non-singular $n\\times n$ transformation matrix $T$. If we apply a coordinate transformation $\\mathbf{x}=T\\mathbf{y}$ and define $\\bar{f}(\\mathbf{y}) = f(\\mathbf{x})$, then\n",
    "$$\n",
    "\\nabla \\bar{f}(\\mathbf{y}) = T^\\top\\nabla f(\\mathbf{x})\\,,\\quad \\nabla^2 \\bar{f}(\\mathbf{y}) = T^\\top\\nabla^2f(\\mathbf{x})T\\,.\n",
    "$$\n",
    "As such it follows that\n",
    "$$\n",
    "\\mathbf{x} + \\Delta \\mathbf{x}_\\text{nt} = T (\\mathbf{y} + \\Delta \\mathbf{y}_\\text{nt})\\,.\n",
    "$$\n",
    "\n",
    "**Questions 2**\n",
    "\n",
    "Does scaling and rotation affect the working of gradient descent and coordinate descent?\n",
    "\n",
    "### Newton decrement\n",
    "\n",
    "The Newton decrement is defined as\n",
    "$$\n",
    "\\lambda(\\mathbf{x})  = (\\nabla f(\\mathbf{x})^\\top\\nabla^2 f(x)^{-1}\\nabla f(\\mathbf{x}))^{1/2}\\,.\n",
    "$$\n",
    "\n",
    "This can be related to the quantity $f(\\mathbf{x})-\\inf_\\mathbf{y}\\ \\hat{f}(\\mathbf{y})$:\n",
    "$$\n",
    "f(\\mathbf{x})-\\inf_\\mathbf{y}\\ \\hat{f}(\\mathbf{y}) = f(\\mathbf{x}) - \\hat{f}(\\mathbf{x} +\\Delta \\mathbf{x}_\\text{nt}) = \\frac{1}{2} \\lambda(\\mathbf{x})^2\\,.\n",
    "$$\n",
    "Thus $\\frac{1}{2} \\lambda(\\mathbf{x})^2$ is an estimate of $f(\\mathbf{x}) - p^*$, based on the quadratic approximation of $f$ at $\\mathbf{x}$."
   ]
  },
  {
   "cell_type": "markdown",
   "metadata": {
    "nbpresent": {
     "id": "f9499861-d89c-478f-a72e-8d3c7196aaa2"
    },
    "slideshow": {
     "slide_type": "subslide"
    }
   },
   "source": [
    "### Pseudocode of Newton's algortihm\n",
    "\n",
    ">**input** starting point $\\mathbf{x}\\in$ **dom** $f$.\n",
    ">\n",
    ">**repeat**\n",
    ">\n",
    ">>    1. Compute the Newton step and decrement $\\Delta \\mathbf{x}_\\text{nt} := -\\nabla^2f(\\mathbf{x})^{-1} \\nabla f(\\mathbf{x})$; $\\lambda^2:=\\nabla f(\\mathbf{x})^\\top\\nabla^2 f(\\mathbf{x})^{-1}\\nabla f(\\mathbf{x})$.\n",
    ">>    2. *Stopping criterion* **break** if $\\lambda^2/2 \\leq \\epsilon$.\n",
    ">>    3. *Line seach*. Choose a step size $t$ via exact or backtracking line search.\n",
    ">>    4. *Update*. $\\mathbf{x}:=\\mathbf{x}+t\\Delta \\mathbf{x}_\\text{nt}$.\n",
    ">\n",
    ">**output** $\\mathbf{x}$\n",
    "\n",
    "The above algorithm is sometimes called the *damped* Newton method, as it uses a variable step size $t$. In practice, using a fixed step also works well. Here, one has to consider the computational cost of using BTLS versus performing a few extra Newton steps to attain the same accuracy.\n"
   ]
  },
  {
   "cell_type": "markdown",
   "metadata": {
    "nbpresent": {
     "id": "7384917b-ed90-4014-b4d6-083bb21e0831"
    },
    "slideshow": {
     "slide_type": "subslide"
    }
   },
   "source": [
    "### Convergence analysis\n",
    "\n",
    "Iterations in Newton’s method fall into two stages:\n",
    "\n",
    "- *damped Newton phase* $(t < 1)$ until $||\\nabla f(\\mathbf{x})||_2 \\leq \\eta$\n",
    "- *pure Newton phase* $(t = 1)$: quadratic convergence\n",
    "\n",
    "After a sufficiently large number of iterations, the number of correct digits doubles at each iteration."
   ]
  },
  {
   "cell_type": "markdown",
   "metadata": {
    "nbpresent": {
     "id": "3d6aa06d-9e31-4266-9e4c-d736cfb0892b"
    },
    "slideshow": {
     "slide_type": "slide"
    }
   },
   "source": [
    "**Assignment 4**\n",
    "\n",
    "1. Complete the code for Newton's method.\n",
    "2. Find the minima of the two toy problems. Use the same starting points as for gradient descent."
   ]
  },
  {
   "cell_type": "code",
   "execution_count": 73,
   "metadata": {
    "ExecuteTime": {
     "end_time": "2018-02-21T09:40:21.071021Z",
     "start_time": "2018-02-21T09:40:21.056205Z"
    },
    "collapsed": true,
    "slideshow": {
     "slide_type": "subslide"
    }
   },
   "outputs": [],
   "source": [
    "def newtons_method(f, x0, grad_f, hess_f, alpha=0.3,\n",
    "                beta=0.8, epsilon=1e-3, trace=False):\n",
    "    '''\n",
    "    Newton's method for minimizing functions.\n",
    "    Inputs:\n",
    "        - f: function to be minimized\n",
    "        - x0: starting point\n",
    "        - grad_f: gradient of the function to be minimized\n",
    "        - hess_f: hessian matrix of the function to be minimized\n",
    "        - alpha: parameter for btls\n",
    "        - beta: parameter for btls\n",
    "        - nu: parameter to determine if the algorithm is converged\n",
    "        - trace: (bool) store the path that is followed?\n",
    "    Outputs:\n",
    "        - xstar: the found minimum\n",
    "        - x_steps: path in the domain that is followed (if trace=True)\n",
    "        - f_steps: image of x_steps (if trace=True)\n",
    "    '''\n",
    "    x = x0  # initial value\n",
    "    if trace: x_steps = [x.copy()]\n",
    "    if trace: f_steps = [f(x0)]\n",
    "    while True:\n",
    "        Dx = - np.linalg.solve(hess_f(x),grad_f(x))\n",
    "        lambda_square = np.sum(grad_f(x)*-Dx)\n",
    "        if lambda_square < epsilon:\n",
    "            break  # converged\n",
    "        t = backtracking_line_search(f, x, Dx, grad_f, alpha, beta)\n",
    "        x += t*Dx\n",
    "        if trace: x_steps.append(x.copy())\n",
    "        if trace: f_steps.append(f(x))\n",
    "    if trace: return x, x_steps, f_steps    \n",
    "    else: return x"
   ]
  },
  {
   "cell_type": "raw",
   "metadata": {
    "collapsed": true
   },
   "source": [
    "from unconstrained import newtons_method"
   ]
  },
  {
   "cell_type": "code",
   "execution_count": 74,
   "metadata": {
    "ExecuteTime": {
     "end_time": "2018-02-21T09:40:22.620623Z",
     "start_time": "2018-02-21T09:40:22.363300Z"
    },
    "nbpresent": {
     "id": "7a7da41c-5c62-46d1-9732-471c192cdc00"
    },
    "scrolled": true,
    "slideshow": {
     "slide_type": "slide"
    }
   },
   "outputs": [
    {
     "name": "stdout",
     "output_type": "stream",
     "text": [
      "Number of steps quadratic function: 1\n",
      "Number of steps non-quadratic function: 5\n"
     ]
    },
    {
     "data": {
      "image/png": "[encoded data removed]",
      "text/plain": [
       "<matplotlib.figure.Figure at 0x7fa0c25bf5f8>"
      ]
     },
     "metadata": {},
     "output_type": "display_data"
    }
   ],
   "source": [
    "fig, (ax1, ax2) = plt.subplots(ncols=2, figsize=(10, 5))\n",
    "plot_contour(quadratic, (-11, 11), (-5, 5), ax1)\n",
    "plot_contour(nonquadratic, (-2, 2), (-1, 1), ax2)\n",
    "\n",
    "xstar_q, x_steps_q, f_steps_q = newtons_method(quadratic, np.array([[10.0], [1.0]]),grad_quadratic, hessian_quadratic, epsilon=1e-8, trace=True)\n",
    "add_path(ax1, x_steps_q, red)\n",
    "\n",
    "print('Number of steps quadratic function: {}'.format(len(x_steps_q) - 1))\n",
    "\n",
    "xstar_nq, x_steps_nq, f_steps_nq = newtons_method(nonquadratic, np.array([[-0.5], [0.9]]),                         grad_nonquadratic, hessian_nonquadratic, epsilon=1e-8, trace=True)\n",
    "add_path(ax2, x_steps_nq, red)\n",
    "\n",
    "print('Number of steps non-quadratic function: {}'.format(len(x_steps_nq) - 1))"
   ]
  },
  {
   "cell_type": "code",
   "execution_count": 75,
   "metadata": {
    "ExecuteTime": {
     "end_time": "2018-02-21T09:40:31.902529Z",
     "start_time": "2018-02-21T09:40:31.697209Z"
    },
    "nbpresent": {
     "id": "984fdb52-645d-4f5d-b3b5-9bdf066884c2"
    },
    "slideshow": {
     "slide_type": "subslide"
    }
   },
   "outputs": [
    {
     "data": {
      "image/png": "[encoded data removed]",
      "text/plain": [
       "<matplotlib.figure.Figure at 0x7fa0c4563240>"
      ]
     },
     "metadata": {},
     "output_type": "display_data"
    }
   ],
   "source": [
    "fig, (ax1, ax2) = plt.subplots(ncols=2, figsize=(10, 5))\n",
    "ax1.plot(f_steps_q)\n",
    "ax1.semilogy()\n",
    "ax2.plot(f_steps_nq)\n",
    "\n",
    "for ax in (ax1, ax2):\n",
    "    ax.set_xlabel('iteration')\n",
    "    ax.set_ylabel('function value')"
   ]
  },
  {
   "cell_type": "markdown",
   "metadata": {
    "nbpresent": {
     "id": "7e61323e-3965-4a90-8e90-f9a5e568c434"
    },
    "slideshow": {
     "slide_type": "slide"
    }
   },
   "source": [
    "#### Effect of condtition number and rotations.\n",
    "\n",
    "Below is an applet to demonstrate the effect of 1) changing the condition problem of the quadratic function and 2) rotating the function such that the axes of the ellipsis are no longer alligned with the coordinate axes. "
   ]
  },
  {
   "cell_type": "code",
   "execution_count": 85,
   "metadata": {
    "ExecuteTime": {
     "end_time": "2018-02-21T09:43:10.261580Z",
     "start_time": "2018-02-21T09:43:10.245503Z"
    },
    "collapsed": true
   },
   "outputs": [],
   "source": [
    "def show_condition(gamma, theta):\n",
    "    quad_gamma = lambda x : quadratic(x, gamma, theta)\n",
    "    x0 = np.array([[10.], [1.]])\n",
    "    d_quad_gamma = lambda x : grad_quadratic(x, gamma, theta)\n",
    "    dd_quad_gamma = lambda x : hessian_quadratic(x, gamma, theta)\n",
    "    xstar_gd, x_steps_gd, f_steps_gd = gradient_descent(quad_gamma,\n",
    "                                                    x0.copy(),\n",
    "                                                     d_quad_gamma,\n",
    "                                                     nu=1e-6, trace=True)\n",
    "\n",
    "    xstar_nm, x_steps_nm, f_steps_nm = newtons_method(quad_gamma, x0.copy(),\n",
    "                                                   d_quad_gamma, dd_quad_gamma, epsilon=1e-6, trace=True)\n",
    "    fig, ax1 = plt.subplots(ncols=1, figsize=(10, 10))\n",
    "    plot_contour(quad_gamma, [-10, 10], [-11, 11], ax1)\n",
    "    add_path(ax1, x_steps_gd, blue, label='GD')\n",
    "    add_path(ax1, x_steps_nm, green, label='NM')\n",
    "    ax1.legend(loc=3)\n",
    "    print('Gradient descent iterations: {}'.format(len(x_steps_gd) - 1 ))\n",
    "    print('Newton\\'s iterations: {}'.format(len(x_steps_nm) - 1))"
   ]
  },
  {
   "cell_type": "code",
   "execution_count": 86,
   "metadata": {
    "ExecuteTime": {
     "end_time": "2018-02-21T09:43:11.455464Z",
     "start_time": "2018-02-21T09:43:11.234946Z"
    },
    "nbpresent": {
     "id": "f535e233-3f6b-4daf-b4ab-2083e319193b"
    },
    "scrolled": false,
    "slideshow": {
     "slide_type": "subslide"
    }
   },
   "outputs": [
    {
     "data": {
      "application/vnd.jupyter.widget-view+json": {
       "model_id": "8d83ce6b22a84258abf27232975c3492",
       "version_major": 2,
       "version_minor": 0
      },
      "text/plain": [
       "A Jupyter Widget"
      ]
     },
     "metadata": {},
     "output_type": "display_data"
    },
    {
     "data": {
      "text/plain": [
       "<function __main__.show_condition>"
      ]
     },
     "execution_count": 86,
     "metadata": {},
     "output_type": "execute_result"
    }
   ],
   "source": [
    "from ipywidgets import interact, FloatSlider\n",
    "interact(show_condition, gamma=FloatSlider(min=0.1, max=20.0, step=0.1, value=1),\n",
    "            theta=FloatSlider(min=0, max=np.pi / 2, step=0.1, value=0))"
   ]
  },
  {
   "cell_type": "markdown",
   "metadata": {},
   "source": [
    "**Describe the effect of the conditional number and rotations on the path of the different optimization algorithms.**\n",
    "\n",
    "YOUR ANSWER HERE"
   ]
  },
  {
   "cell_type": "markdown",
   "metadata": {},
   "source": [
    "### Scalability of the different algorithms\n",
    "\n",
    "To study scaling towards higher dimensional problems, we minimize a function of the following form:\n",
    "\n",
    "$$\n",
    "f(\\mathbf{x})  = \\mathbf{x}^\\top C \\mathbf{x} - \\sum_{i=1}^m \\log(b_i - \\mathbf{a}_i^\\top\\mathbf{x})\n",
    "$$\n",
    "\n",
    "with $C$ a positive-definite matrix and $b_i$ and $\\mathbf{a}_i$ positive. \n",
    "\n",
    "We will optimize such a function in 20, 100 and 250 dimensions."
   ]
  },
  {
   "cell_type": "code",
   "execution_count": null,
   "metadata": {
    "collapsed": true
   },
   "outputs": [],
   "source": [
    "from teachingtools import make_general_multidim_problem"
   ]
  },
  {
   "cell_type": "code",
   "execution_count": null,
   "metadata": {
    "collapsed": true,
    "scrolled": true
   },
   "outputs": [],
   "source": [
    "n_sizes = [20, 100, 250]\n",
    "m_sizes = [100, 300, 1000]\n",
    "\n",
    "\n",
    "fig, axes = plt.subplots(ncols=3, figsize=(20, 7))\n",
    "\n",
    "for (n, m, ax) in zip(n_sizes, m_sizes, axes):\n",
    "    f, g_f, h_f = make_general_multidim_problem(n, m)\n",
    "\n",
    "    xstar_gd, x_steps_gd, f_steps_gd = gradient_descent(f, np.zeros((n, 1)), \n",
    "                                g_f, nu=1e-3, trace=True)\n",
    "\n",
    "    xstar_cd, x_steps_cd, f_steps_cd = coordinate_descent(f, np.zeros((n, 1)), \n",
    "                                g_f, nu=1e-3, trace=True)\n",
    "    \n",
    "    xstar_newton, x_steps_newton, f_steps_newton = newtons_method(f, np.zeros((n, 1)), \n",
    "                                g_f, h_f, epsilon=1e-8, trace=True)\n",
    "    \n",
    "    ax.plot(np.abs(f_steps_gd - f_steps_gd[-1]), color = blue, label='Gradient desc.')\n",
    "    ax.plot(np.abs(f_steps_cd - f_steps_cd[-1]), color = green, label='Coordinate desc.')\n",
    "    ax.plot(np.abs(f_steps_newton - f_steps_newton[-1]), color = red, label='Newton method')\n",
    "    \n",
    "    ax.loglog()\n",
    "    ax.legend(loc=0)\n",
    "    ax.set_title('$n$={}, $m$={}'.format(n, m))\n",
    "    ax.set_xlabel('Iteration')\n",
    "    ax.set_ylabel('Absolute error')"
   ]
  },
  {
   "cell_type": "markdown",
   "metadata": {},
   "source": [
    "**Discuss the different algorithms with respect to their scalability.**\n",
    "\n",
    "YOUR ANSWER HERE"
   ]
  },
  {
   "cell_type": "markdown",
   "metadata": {
    "slideshow": {
     "slide_type": "slide"
    }
   },
   "source": [
    "### Summary Newton's method\n",
    "\n",
    "- Convergence of Newton's algorithm is rapid and quadratic near $\\mathbf{x}^\\star$.\n",
    "- Newton's algorithm is affine invariant, e.g. invariant to choice of coordinates or condition number.\n",
    "- Newton's algorithm scales well with problem size. Computationally, computing and storing the Hessian might be prohibitive.\n",
    "- The hyperparameters $\\alpha$ and $\\beta$  of BTLS do not influence the performance much."
   ]
  },
  {
   "cell_type": "markdown",
   "metadata": {
    "nbpresent": {
     "id": "14c5277e-b823-421d-a9ce-929f0d6332e4"
    },
    "slideshow": {
     "slide_type": "slide"
    }
   },
   "source": [
    "## Quasi-Newton methods\n",
    "\n",
    "Quasi-Newton methods try to emulate the success of the Newton method, but without the high computational burden of constructing the Hessian matrix every step. One of the most popular quasi-Newton algorithms is the *Broyden-Fletcher-Goldfarb-Shanno* (BFGS) algorithm. Here, the Hessian is approximated by a symmetric rank-one matrix."
   ]
  },
  {
   "cell_type": "markdown",
   "metadata": {},
   "source": [
    "## Numerical approximation of the gradient and Hessian\n",
    "\n",
    "In many cases, there is no analytical expression for gradient and the Hessian. The finite difference method can motivate the following approximations for the gradient-vector product\n",
    "$$\n",
    "\\nabla f(\\mathbf{x})^\\top\\Delta\\mathbf{x} \\approx \\frac{1}{2\\epsilon} (f(\\mathbf{x}+\\epsilon\\Delta\\mathbf{x} ) - f(\\mathbf{x}-\\epsilon\\Delta\\mathbf{x} ))\n",
    "$$\n",
    "and the Hessian-vector product\n",
    "$$\n",
    "\\nabla^2 f(\\mathbf{x})^\\top\\Delta\\mathbf{x} \\approx \\frac{1}{2\\epsilon} (\\nabla f(\\mathbf{x}+\\epsilon\\Delta\\mathbf{x} ) - \\nabla f(\\mathbf{x}-\\epsilon\\Delta\\mathbf{x} ))\\,\n",
    "$$\n",
    "with $\\epsilon$ a small constant."
   ]
  },
  {
   "cell_type": "markdown",
   "metadata": {
    "nbpresent": {
     "id": "ce0d5297-26bd-426d-8b95-d7043aebe78d"
    },
    "slideshow": {
     "slide_type": "slide"
    }
   },
   "source": [
    "## Exercise: logistic regression\n",
    "\n",
    "![Classification using logistic regression](Figures/classification.png)"
   ]
  },
  {
   "cell_type": "markdown",
   "metadata": {
    "nbpresent": {
     "id": "8ebb9fe2-e85d-4a9a-9308-caba3747fd0e"
    },
    "slideshow": {
     "slide_type": "subslide"
    }
   },
   "source": [
    "Consider the following problem: we have a dataset of $n$ instances: $T=\\{(\\mathbf{x}_i, y_i)\\mid i=1\\ldots n\\}$. Here $\\mathbf{x}_i\\in \\mathbb{R}^p$ is a $p$-dimensional feature vector and $y_i\\in\\{0,1\\}$ is a binary label. This is a binary classification problem, we are interested in predicting the label of an instance based on its feature description. The goal of logistic regression is to find a function $f(\\mathbf{x})$ that estimates the conditional probability of $Y$:\n",
    "\n",
    "$$\n",
    "\\mathcal{P}(Y=1 \\mid \\mathbf{X} = \\mathbf{x})\\,.\n",
    "$$\n",
    "\n",
    "We will assume that this function $f(\\mathbf{x})$ is of the form\n",
    "$$\n",
    "f(\\mathbf{x}) = \\sigma(\\mathbf{w}^\\top\\mathbf{x})\\,,\n",
    "$$\n",
    "with $\\mathbf{w}$ a vector of parameters to be learned and $\\sigma(.)$ the logistic map:\n",
    "$$\n",
    "\\sigma(t) = \\frac{e^{t}}{1+e^{t}}=\\frac{1}{1+e^{-t}}\\,.\n",
    "$$\n",
    "It is easy to see that the logistic mapping will ensure that $f(\\mathbf{x})\\in[0, 1]$, hence $f(\\mathbf{x})$ can be interpreted as a probability.\n",
    "\n",
    "Note that\n",
    "$$\n",
    "\\frac{\\text{d}\\sigma(t)}{\\text{d}t} = (1-\\sigma(t))\\sigma(t)\\,.\n",
    "$$\n",
    "\n",
    "To find the best weights that separate the two classes, we can use the following structured loss function:\n",
    "\n",
    "$$\n",
    "\\mathcal{L;\\lambda}(\\mathbf{w})=-\\sum_{i=1}^n[y_i\\log(\\sigma(\\mathbf{w}^\\top\\mathbf{x}_i))+(1-y_i)\\log(1-\\sigma(\\mathbf{w}^\\top\\mathbf{x}_i))] +\\lambda \\mathbf{w}^\\top\\mathbf{w}\\,.\n",
    "$$\n",
    "\n",
    "Here, the first part is the cross entropy, which penalizes disagreement between the prediction $f(\\mathbf{x}_i)$ and the true label $y_i$, while the second term penalizes complex models in which $\\mathbf{w}$ has a large norm. The trade-off between these two components is controlled by $\\lambda$, a hyperparameter. In the course *Predictive modelling* of Willem Waegeman it is explained that by carefully tuning this parameter one can obtain an improved performance. **In this project we will study the influence $\\lambda$ on the convergence of the optimization algorithms.**\n",
    "\n",
    "> **Warning**: for this project there is a large risk of numerical problems when computing the loss function. This is because in the cross entropy $0\\log(0)$ should by definition evaluate to its limit value of $0$. Numpy will evaluate this as `nan`. Use the provided function `cross_entropy` which safely computes $-\\sum_{i=1}^n[y_i\\log(\\sigma_i)+(1-y_i)\\log(1-\\sigma_i)]$.\n",
    "\n",
    "![Toy example in two dimensions illustrating the loss function.](Figures/loss_logistic.png)"
   ]
  },
  {
   "cell_type": "code",
   "execution_count": null,
   "metadata": {
    "collapsed": true,
    "nbpresent": {
     "id": "8d7adc99-25af-4995-ad55-4fe231e189a5"
    }
   },
   "outputs": [],
   "source": [
    "from teachingtools import logistic_toy"
   ]
  },
  {
   "cell_type": "code",
   "execution_count": null,
   "metadata": {
    "collapsed": true,
    "nbpresent": {
     "id": "7ab9b887-482e-4d23-a20a-d93f7b636d90"
    },
    "scrolled": true
   },
   "outputs": [],
   "source": [
    "interact(logistic_toy, separation=FloatSlider(min=0, max=4, step=0.2, value=1), \n",
    "         log_lambda=FloatSlider(min=-5, max=5, step=1, value=1))"
   ]
  },
  {
   "cell_type": "markdown",
   "metadata": {
    "nbpresent": {
     "id": "d0d9e319-88ec-490c-8036-5f393bdaccc4"
    }
   },
   "source": [
    "**Data overview**\n",
    "\n",
    "Consider the data set in the file `BreastCancer.csv`. This dataset contains information about 569 female patients diagnosed with breast cancer. For each patient it was recorded wether the tumor was benign (B) or malignant (M), this is the response variable. Each tumor is described by 30 features, which encode some information about the tumor. We want to use logistic regression with regularization to predict wether a tumor is benign or malignant based on these features."
   ]
  },
  {
   "cell_type": "code",
   "execution_count": 91,
   "metadata": {
    "ExecuteTime": {
     "end_time": "2018-02-21T10:09:22.657070Z",
     "start_time": "2018-02-21T10:09:22.616550Z"
    },
    "collapsed": true,
    "nbpresent": {
     "id": "6a3ce44f-00b4-4e19-b85d-77f2faee623a"
    }
   },
   "outputs": [],
   "source": [
    "# pandas allows us to comfortably work with datasets in python\n",
    "import pandas as pd\n",
    "\n",
    "cancer_data = pd.read_csv('Data/BreastCancer.csv')  # load data\n",
    "cancer_data.head()  # show first five rows\n",
    "\n",
    "# extract response in binary encoding:\n",
    "# 0 : B(enign)\n",
    "# 1 : M(alignant)\n",
    "binary_response = np.array(list(map(int, cancer_data.y == 'M')))\n",
    "\n",
    "# extract feature matrix X\n",
    "features = cancer_data.select(lambda colname : colname[0] == 'x',\n",
    "      axis=1).values\n",
    "\n",
    "# standarizing features\n",
    "# this is needed for gradient descent to run faster\n",
    "features -= features.mean(0)\n",
    "features /= features.std(0)"
   ]
  },
  {
   "cell_type": "markdown",
   "metadata": {
    "nbpresent": {
     "id": "fe2dd51f-f6b6-4e71-98e6-38ab78e84e58"
    }
   },
   "source": [
    "**Assignments**\n",
    "\n",
    "1. Derive and implement the loss function for logistic loss, the gradient and the Hessian of this loss function. These functions have as input the parameter vector $\\mathbf{w}$, label vector $\\mathbf{y}$, feature matrix $\\mathbf{X}$ and $\\lambda$. The logistic map and cross-entropy is already provided for you.\n",
    "2. Consider $\\lambda=0.1$, find the optimal parameter vector for this data using gradient descent, coordinate descent and Newton's method. Use standardized features. For each algorithm, give the number of steps the algorithm performed and the running time (use the [magic function](https://ipython.org/ipython-doc/3/interactive/magics.html) `%timeit`). Compare the loss for each of parameters obtained by the different algorithms.\n",
    "3. How does regularization influence the optimization? Make a separate plot for gradient descent, coordinate descent and Newton's method with the the value of the loss as a function of the iteration of the given algorithm. Make separate the different methods and plot the convergence for $\\lambda = [10^{-3}, 10^{-1}, 1, 10, 100]$. Does increased regularization make the optimization go faster or slower? Why does this make sense?"
   ]
  },
  {
   "cell_type": "markdown",
   "metadata": {},
   "source": [
    "**Project assignment 1**\n",
    "\n",
    "Complete the functions below."
   ]
  },
  {
   "cell_type": "code",
   "execution_count": null,
   "metadata": {
    "collapsed": true
   },
   "outputs": [],
   "source": [
    "# COMPLETE THIS FOR QUESTION 1\n",
    "\n",
    "logistic_map = lambda x : 1 / (1 + np.exp(-x))\n",
    "cross_entropy = lambda l, p : - (l * np.log(p))[p>0]  # so that no nan is returned when p is very small\n",
    "\n",
    "def logistic_loss(w, y, X, lamb):\n",
    "    \"\"\"\n",
    "    Implement the logistic loss\n",
    "    returns a scalar\n",
    "    \"\"\"\n",
    "    return - np.sum(y * log(logistic_map(np.sum(w*x)))) + (1-y)\n",
    "def grad_logistic_loss(w, y, X, lamb):\n",
    "    \"\"\"\n",
    "    Implement the gradient of the logistic loss\n",
    "    returns a column vector\n",
    "    \"\"\"\n",
    "    return\n",
    "\n",
    "def hess_logistic_loss(w, y, X, lamb):\n",
    "    \"\"\"\n",
    "    Implement the Hessian of the logistic loss\n",
    "    returns a matrix\n",
    "    \"\"\"\n",
    "    return"
   ]
  },
  {
   "cell_type": "code",
   "execution_count": 87,
   "metadata": {
    "ExecuteTime": {
     "end_time": "2018-02-21T10:06:24.844157Z",
     "start_time": "2018-02-21T10:06:24.451998Z"
    },
    "collapsed": true
   },
   "outputs": [],
   "source": [
    "# You can also use the implemented functions:\n",
    "from logistic_regression import logistic_loss, grad_logistic_loss, hess_logistic_loss"
   ]
  },
  {
   "cell_type": "code",
   "execution_count": 88,
   "metadata": {
    "ExecuteTime": {
     "end_time": "2018-02-21T10:06:27.973864Z",
     "start_time": "2018-02-21T10:06:27.965158Z"
    },
    "collapsed": true,
    "nbpresent": {
     "id": "2301edbe-3434-463b-b4d2-3e1f79c443cc"
    }
   },
   "outputs": [],
   "source": [
    "# functions for first question\n",
    "\n",
    "l_loss = lambda w : logistic_loss(w, binary_response, features, 0.1)\n",
    "l_grad = lambda w : grad_logistic_loss(w, binary_response, features, 0.1)\n",
    "l_hess = lambda w : hess_logistic_loss(w, binary_response, features, 0.1)"
   ]
  },
  {
   "cell_type": "markdown",
   "metadata": {
    "collapsed": true
   },
   "source": [
    "**Assignment 2**\n",
    "\n",
    "Use gradient descent, coordinate descent and Newton's method to find the parameters of the logistic model ($\\lambda=0.1$)."
   ]
  },
  {
   "cell_type": "code",
   "execution_count": 106,
   "metadata": {
    "ExecuteTime": {
     "end_time": "2018-02-21T10:16:58.192278Z",
     "start_time": "2018-02-21T10:16:58.183079Z"
    }
   },
   "outputs": [],
   "source": [
    "xstar_nm, x_steps_nm, f_steps_nm = newtons_method(l_loss,np.zeros(30),l_grad,l_hess,trace=True)"
   ]
  },
  {
   "cell_type": "code",
   "execution_count": 108,
   "metadata": {
    "ExecuteTime": {
     "end_time": "2018-02-21T10:20:06.372690Z",
     "start_time": "2018-02-21T10:20:06.358566Z"
    }
   },
   "outputs": [
    {
     "ename": "TypeError",
     "evalue": "scatter() missing 2 required positional arguments: 'x' and 'y'",
     "output_type": "error",
     "traceback": [
      "\u001b[0;31m---------------------------------------------------------------------------\u001b[0m",
      "\u001b[0;31mTypeError\u001b[0m                                 Traceback (most recent call last)",
      "\u001b[0;32m<ipython-input-108-7c8a22e79f5d>\u001b[0m in \u001b[0;36m<module>\u001b[0;34m()\u001b[0m\n\u001b[0;32m----> 1\u001b[0;31m \u001b[0mcancer_data\u001b[0m\u001b[0;34m.\u001b[0m\u001b[0mplot\u001b[0m\u001b[0;34m.\u001b[0m\u001b[0mscatter\u001b[0m\u001b[0;34m(\u001b[0m\u001b[0;34m)\u001b[0m\u001b[0;34m\u001b[0m\u001b[0m\n\u001b[0m",
      "\u001b[0;31mTypeError\u001b[0m: scatter() missing 2 required positional arguments: 'x' and 'y'"
     ]
    }
   ],
   "source": [
    "cancer_data.plot.scatter()"
   ]
  },
  {
   "cell_type": "code",
   "execution_count": 107,
   "metadata": {
    "ExecuteTime": {
     "end_time": "2018-02-21T10:19:16.714619Z",
     "start_time": "2018-02-21T10:19:16.613072Z"
    }
   },
   "outputs": [
    {
     "ename": "NameError",
     "evalue": "name 'w' is not defined",
     "output_type": "error",
     "traceback": [
      "\u001b[0;31m---------------------------------------------------------------------------\u001b[0m",
      "\u001b[0;31mNameError\u001b[0m                                 Traceback (most recent call last)",
      "\u001b[0;32m<ipython-input-107-736a14bf8bc1>\u001b[0m in \u001b[0;36m<module>\u001b[0;34m()\u001b[0m\n\u001b[1;32m      1\u001b[0m \u001b[0mfig\u001b[0m\u001b[0;34m,\u001b[0m \u001b[0max1\u001b[0m \u001b[0;34m=\u001b[0m \u001b[0mplt\u001b[0m\u001b[0;34m.\u001b[0m\u001b[0msubplots\u001b[0m\u001b[0;34m(\u001b[0m\u001b[0mncols\u001b[0m\u001b[0;34m=\u001b[0m\u001b[0;36m1\u001b[0m\u001b[0;34m,\u001b[0m \u001b[0mfigsize\u001b[0m\u001b[0;34m=\u001b[0m\u001b[0;34m(\u001b[0m\u001b[0;36m10\u001b[0m\u001b[0;34m,\u001b[0m \u001b[0;36m10\u001b[0m\u001b[0;34m)\u001b[0m\u001b[0;34m)\u001b[0m\u001b[0;34m\u001b[0m\u001b[0m\n\u001b[0;32m----> 2\u001b[0;31m \u001b[0mplot_contour\u001b[0m\u001b[0;34m(\u001b[0m\u001b[0mlogistic_loss\u001b[0m\u001b[0;34m(\u001b[0m\u001b[0mw\u001b[0m\u001b[0;34m,\u001b[0m \u001b[0my\u001b[0m\u001b[0;34m,\u001b[0m \u001b[0mX\u001b[0m\u001b[0;34m,\u001b[0m \u001b[0mlamb\u001b[0m\u001b[0;34m)\u001b[0m\u001b[0;34m,\u001b[0m \u001b[0;34m(\u001b[0m\u001b[0;34m-\u001b[0m\u001b[0;36m11\u001b[0m\u001b[0;34m,\u001b[0m \u001b[0;36m11\u001b[0m\u001b[0;34m)\u001b[0m\u001b[0;34m,\u001b[0m \u001b[0;34m(\u001b[0m\u001b[0;34m-\u001b[0m\u001b[0;36m5\u001b[0m\u001b[0;34m,\u001b[0m \u001b[0;36m5\u001b[0m\u001b[0;34m)\u001b[0m\u001b[0;34m,\u001b[0m \u001b[0max1\u001b[0m\u001b[0;34m)\u001b[0m\u001b[0;34m\u001b[0m\u001b[0m\n\u001b[0m\u001b[1;32m      3\u001b[0m \u001b[0;34m\u001b[0m\u001b[0m\n\u001b[1;32m      4\u001b[0m \u001b[0mxstar_nm\u001b[0m\u001b[0;34m,\u001b[0m \u001b[0mx_steps_nm\u001b[0m\u001b[0;34m,\u001b[0m \u001b[0mf_steps_nm\u001b[0m \u001b[0;34m=\u001b[0m \u001b[0mnewtons_method\u001b[0m\u001b[0;34m(\u001b[0m\u001b[0ml_loss\u001b[0m\u001b[0;34m,\u001b[0m\u001b[0mnp\u001b[0m\u001b[0;34m.\u001b[0m\u001b[0mzeros\u001b[0m\u001b[0;34m(\u001b[0m\u001b[0;36m30\u001b[0m\u001b[0;34m)\u001b[0m\u001b[0;34m,\u001b[0m\u001b[0ml_grad\u001b[0m\u001b[0;34m,\u001b[0m\u001b[0ml_hess\u001b[0m\u001b[0;34m,\u001b[0m\u001b[0mtrace\u001b[0m\u001b[0;34m=\u001b[0m\u001b[0;32mTrue\u001b[0m\u001b[0;34m)\u001b[0m\u001b[0;34m\u001b[0m\u001b[0m\n\u001b[1;32m      5\u001b[0m \u001b[0;34m\u001b[0m\u001b[0m\n",
      "\u001b[0;31mNameError\u001b[0m: name 'w' is not defined"
     ]
    },
    {
     "data": {
      "image/png": "[encoded data removed]",
      "text/plain": [
       "<matplotlib.figure.Figure at 0x7fa0aa76a630>"
      ]
     },
     "metadata": {},
     "output_type": "display_data"
    }
   ],
   "source": [
    "fig, ax1 = plt.subplots(ncols=1, figsize=(10, 10))\n",
    "plot_contour((-11, 11), (-5, 5), ax1)\n",
    "\n",
    "xstar_nm, x_steps_nm, f_steps_nm = newtons_method(l_loss,np.zeros(30),l_grad,l_hess,trace=True)\n",
    "\n",
    "\n",
    "print('Number of steps quadratic function: {}'.format(len(x_steps_q) - 1))\n"
   ]
  },
  {
   "cell_type": "code",
   "execution_count": null,
   "metadata": {
    "collapsed": true
   },
   "outputs": [],
   "source": []
  },
  {
   "cell_type": "markdown",
   "metadata": {},
   "source": [
    "DISCUSS THE DIFFERENCE IN RUNNING TIME"
   ]
  },
  {
   "cell_type": "markdown",
   "metadata": {
    "collapsed": true
   },
   "source": [
    "**Project assignment 3**\n",
    "\n",
    "Make a plot for each of the four optimization method in which you show the convergence for $\\lambda = [10^{-3}, 10^{-1}, 1, 10, 100]$."
   ]
  },
  {
   "cell_type": "code",
   "execution_count": null,
   "metadata": {
    "collapsed": true
   },
   "outputs": [],
   "source": []
  },
  {
   "cell_type": "markdown",
   "metadata": {
    "collapsed": true
   },
   "source": [
    "DISCUSS THE DIFFERENCE IN CONVERGENCE"
   ]
  },
  {
   "cell_type": "markdown",
   "metadata": {},
   "source": [
    "## References\n",
    "\n",
    "Boyd, S. and Vandenberghe, L. *'Convex Optimization'*. Cambridge University Press (2004) [link](https://stanford.edu/~boyd/cvxbook/)"
   ]
  }
 ],
 "metadata": {
  "anaconda-cloud": {},
  "kernelspec": {
   "display_name": "Python 3",
   "language": "python",
   "name": "python3"
  },
  "language_info": {
   "codemirror_mode": {
    "name": "ipython",
    "version": 3
   },
   "file_extension": ".py",
   "mimetype": "text/x-python",
   "name": "python",
   "nbconvert_exporter": "python",
   "pygments_lexer": "ipython3",
   "version": "3.6.3"
  },
  "latex_envs": {
   "LaTeX_envs_menu_present": true,
   "autocomplete": true,
   "bibliofile": "biblio.bib",
   "cite_by": "apalike",
   "current_citInitial": 1,
   "eqLabelWithNumbers": true,
   "eqNumInitial": 0,
   "hotkeys": {
    "equation": "Ctrl-E",
    "itemize": "Ctrl-I"
   },
   "labels_anchors": false,
   "latex_user_defs": false,
   "report_style_numbering": false,
   "user_envs_cfg": false
  },
  "nbpresent": {
   "slides": {
    "0d613438-e300-4d5d-a400-701d39267b4f": {
     "id": "0d613438-e300-4d5d-a400-701d39267b4f",
     "prev": "12c559b9-e1d3-427b-b705-62e9805b6df4",
     "regions": {
      "20e49810-c98d-4acb-bbca-e0baef7b42c9": {
       "attrs": {
        "height": 0.8,
        "width": 0.8,
        "x": 0.1,
        "y": 0.1
       },
       "content": {
        "cell": "8d7adc99-25af-4995-ad55-4fe231e189a5",
        "part": "whole"
       },
       "id": "20e49810-c98d-4acb-bbca-e0baef7b42c9"
      }
     }
    },
    "12c559b9-e1d3-427b-b705-62e9805b6df4": {
     "id": "12c559b9-e1d3-427b-b705-62e9805b6df4",
     "prev": "7a40afbb-ef35-41d3-9b37-10e5c57a0a4f",
     "regions": {
      "bdb76053-cdad-41cb-b500-868a5c2808a6": {
       "attrs": {
        "height": 0.8,
        "width": 0.8,
        "x": 0.1,
        "y": 0.1
       },
       "content": {
        "cell": "8ebb9fe2-e85d-4a9a-9308-caba3747fd0e",
        "part": "whole"
       },
       "id": "bdb76053-cdad-41cb-b500-868a5c2808a6"
      }
     }
    },
    "16f66ab6-217e-4c48-abc9-8b2771658f46": {
     "id": "16f66ab6-217e-4c48-abc9-8b2771658f46",
     "prev": "ab5b5fd7-a10e-47e5-b8e4-ebaa1622b314",
     "regions": {
      "c0e1f4fe-1d46-4a41-b987-a10c4a4f2c7c": {
       "attrs": {
        "height": 0.8,
        "width": 0.8,
        "x": 0.1,
        "y": 0.1
       },
       "content": {
        "cell": "a332a066-5384-4dba-bb51-25830fab5582",
        "part": "whole"
       },
       "id": "c0e1f4fe-1d46-4a41-b987-a10c4a4f2c7c"
      }
     }
    },
    "1a3469cc-3195-442f-b492-0b09cb29a238": {
     "id": "1a3469cc-3195-442f-b492-0b09cb29a238",
     "prev": "891efc66-82d7-4ebb-91d1-66964b5b03fc",
     "regions": {
      "822b309b-55bf-4c03-8b75-57c0929519b1": {
       "attrs": {
        "height": 0.8,
        "width": 0.8,
        "x": 0.1,
        "y": 0.1
       },
       "content": {
        "cell": "b84a6bdc-055a-4706-bd46-246684d090c7",
        "part": "whole"
       },
       "id": "822b309b-55bf-4c03-8b75-57c0929519b1"
      }
     }
    },
    "2310c0b6-c7d9-4214-88c7-8d8341c275ab": {
     "id": "2310c0b6-c7d9-4214-88c7-8d8341c275ab",
     "prev": "adfa298e-667d-4cfb-a856-6c014b8f6893",
     "regions": {
      "95fdeba0-565c-4208-bd00-f118fe95319e": {
       "attrs": {
        "height": 0.8,
        "width": 0.8,
        "x": 0.1,
        "y": 0.1
       },
       "content": {
        "cell": "7361190f-f686-40e0-8d15-cc870fec201a",
        "part": "whole"
       },
       "id": "95fdeba0-565c-4208-bd00-f118fe95319e"
      }
     }
    },
    "269c3cf9-da3b-4d34-a392-ab923011b507": {
     "id": "269c3cf9-da3b-4d34-a392-ab923011b507",
     "prev": "95cc19f8-37ca-4f38-86cd-a0b44dc8a542",
     "regions": {
      "29884eb8-fad7-4c97-bc1d-6b5465ec28af": {
       "attrs": {
        "height": 0.8,
        "width": 0.8,
        "x": 0.1,
        "y": 0.1
       },
       "content": {
        "cell": "d0d9e319-88ec-490c-8036-5f393bdaccc4",
        "part": "whole"
       },
       "id": "29884eb8-fad7-4c97-bc1d-6b5465ec28af"
      }
     }
    },
    "27773db7-914f-43b4-b371-33ec8eb6a0f1": {
     "id": "27773db7-914f-43b4-b371-33ec8eb6a0f1",
     "prev": "316cdedd-e25e-40da-9719-0cc7b59d66ab",
     "regions": {
      "08e78cc6-5808-4852-8dc6-e332ada224cb": {
       "attrs": {
        "height": 0.8,
        "width": 0.8,
        "x": 0.1,
        "y": 0.1
       },
       "content": {
        "cell": "51fba4f1-18da-45fd-b530-6e34bb8cc8e2",
        "part": "whole"
       },
       "id": "08e78cc6-5808-4852-8dc6-e332ada224cb"
      }
     }
    },
    "2a3abdbf-f777-476c-b9cc-88e8522e43c5": {
     "id": "2a3abdbf-f777-476c-b9cc-88e8522e43c5",
     "prev": "1a3469cc-3195-442f-b492-0b09cb29a238",
     "regions": {
      "b08f0a17-7dfb-4a2d-a775-084c43e5e8c1": {
       "attrs": {
        "height": 0.8,
        "width": 0.8,
        "x": 0.1,
        "y": 0.1
       },
       "content": {
        "cell": "53aea856-8095-458c-aba9-25a7e87d236e",
        "part": "whole"
       },
       "id": "b08f0a17-7dfb-4a2d-a775-084c43e5e8c1"
      }
     }
    },
    "2b4a160a-80ff-4721-889e-cefe64d99082": {
     "id": "2b4a160a-80ff-4721-889e-cefe64d99082",
     "prev": "5f8d9c09-fa2e-4fcb-b79e-984401accf1a",
     "regions": {
      "4d684256-6fff-4d8a-bbbb-bc0cc646d127": {
       "attrs": {
        "height": 0.8,
        "width": 0.8,
        "x": 0.1,
        "y": 0.1
       },
       "content": {
        "cell": "402514aa-e04f-4bf1-aa09-2a638af569fa",
        "part": "whole"
       },
       "id": "4d684256-6fff-4d8a-bbbb-bc0cc646d127"
      }
     }
    },
    "316cdedd-e25e-40da-9719-0cc7b59d66ab": {
     "id": "316cdedd-e25e-40da-9719-0cc7b59d66ab",
     "prev": "39572fee-671e-42a7-8da1-24f86ded7d5e",
     "regions": {
      "c6557517-0351-4e8d-9108-b3982a730de7": {
       "attrs": {
        "height": 0.8,
        "width": 0.8,
        "x": 0.1,
        "y": 0.1
       },
       "content": {
        "cell": "3d6aa06d-9e31-4266-9e4c-d736cfb0892b",
        "part": "whole"
       },
       "id": "c6557517-0351-4e8d-9108-b3982a730de7"
      }
     }
    },
    "3298d902-b379-4369-95fa-b2266c1750ab": {
     "id": "3298d902-b379-4369-95fa-b2266c1750ab",
     "prev": "51d9b7ea-bf74-4815-b927-676aff51e01d",
     "regions": {
      "583b91d1-72ae-48b8-99ed-2fa9fdb3efe5": {
       "attrs": {
        "height": 0.8,
        "width": 0.8,
        "x": 0.1,
        "y": 0.1
       },
       "content": {
        "cell": "5e9c49e5-5b09-4af1-ae6e-18faf078d32d",
        "part": "whole"
       },
       "id": "583b91d1-72ae-48b8-99ed-2fa9fdb3efe5"
      }
     }
    },
    "39572fee-671e-42a7-8da1-24f86ded7d5e": {
     "id": "39572fee-671e-42a7-8da1-24f86ded7d5e",
     "prev": "6090281b-f8ee-4c52-bc8f-c1ff6e6fd266",
     "regions": {
      "c3849d32-9bae-430f-b6a3-0cf2c04cde58": {
       "attrs": {
        "height": 0.8,
        "width": 0.8,
        "x": 0.1,
        "y": 0.1
       },
       "content": {
        "cell": "7384917b-ed90-4014-b4d6-083bb21e0831",
        "part": "whole"
       },
       "id": "c3849d32-9bae-430f-b6a3-0cf2c04cde58"
      }
     }
    },
    "3e028dc2-2384-425c-bf3f-3154cdb12f66": {
     "id": "3e028dc2-2384-425c-bf3f-3154cdb12f66",
     "prev": "3298d902-b379-4369-95fa-b2266c1750ab",
     "regions": {
      "62484ddd-4041-417f-b172-fca23cb92dd4": {
       "attrs": {
        "height": 0.8,
        "width": 0.8,
        "x": 0.1,
        "y": 0.1
       },
       "content": {
        "cell": "d01c36b0-3d0b-476b-91a7-c5f3790e642d",
        "part": "whole"
       },
       "id": "62484ddd-4041-417f-b172-fca23cb92dd4"
      }
     }
    },
    "44bb920c-bc25-4f1c-be1e-754e433184ac": {
     "id": "44bb920c-bc25-4f1c-be1e-754e433184ac",
     "prev": "7090c781-6f80-4ceb-a8f2-4b1fbbda1cab",
     "regions": {
      "bc4f39ac-4fc4-4540-8493-200a87a927fd": {
       "attrs": {
        "height": 0.8,
        "width": 0.8,
        "x": 0.1,
        "y": 0.1
       },
       "content": {
        "cell": "85c0e681-d6e3-4fc5-8ab2-c26ad01d7ea9",
        "part": "source"
       },
       "id": "bc4f39ac-4fc4-4540-8493-200a87a927fd"
      }
     }
    },
    "4a003e7f-294e-4677-be62-3ffd926a37a6": {
     "id": "4a003e7f-294e-4677-be62-3ffd926a37a6",
     "prev": "c163ec5d-8fea-4686-81aa-39a9e3342f7b",
     "regions": {
      "1017a045-06d0-457b-90a2-934745b51481": {
       "attrs": {
        "height": 0.8,
        "width": 0.8,
        "x": 0.1,
        "y": 0.1
       },
       "content": {
        "cell": "a4f77534-80b5-4726-99e1-90ee9683fa35",
        "part": "whole"
       },
       "id": "1017a045-06d0-457b-90a2-934745b51481"
      }
     }
    },
    "4cf55139-103d-4602-ae3f-0390a508d748": {
     "id": "4cf55139-103d-4602-ae3f-0390a508d748",
     "prev": "16f66ab6-217e-4c48-abc9-8b2771658f46",
     "regions": {
      "60c99d9a-082e-46a9-9fd2-f54a5dbe39b0": {
       "attrs": {
        "height": 0.8,
        "width": 0.8,
        "x": 0.1,
        "y": 0.1
       },
       "content": {
        "cell": "793c5350-8e62-4aa8-b4c0-c8a9ceba1969",
        "part": "whole"
       },
       "id": "60c99d9a-082e-46a9-9fd2-f54a5dbe39b0"
      }
     }
    },
    "51d9b7ea-bf74-4815-b927-676aff51e01d": {
     "id": "51d9b7ea-bf74-4815-b927-676aff51e01d",
     "prev": "8beec04e-3e2a-4bc9-9802-87eb10a57e7d",
     "regions": {
      "a95a090d-f5cd-45a7-9af5-d158f3b2f16a": {
       "attrs": {
        "height": 0.8,
        "width": 0.8,
        "x": 0.1,
        "y": 0.1
       },
       "content": {
        "cell": "4a2436a9-e294-4f52-9918-12dcb311bb71",
        "part": "whole"
       },
       "id": "a95a090d-f5cd-45a7-9af5-d158f3b2f16a"
      }
     }
    },
    "51fb510c-c9c2-4173-8b48-9fdf03fa9864": {
     "id": "51fb510c-c9c2-4173-8b48-9fdf03fa9864",
     "prev": "8bcec2ed-56e0-4e41-aac8-d97dfc0eb042",
     "regions": {
      "6b952d8a-a07c-41f2-b97a-04edaf5bb46a": {
       "attrs": {
        "height": 0.8,
        "width": 0.8,
        "x": 0.1,
        "y": 0.1
       },
       "content": {
        "cell": "7e61323e-3965-4a90-8e90-f9a5e568c434",
        "part": "whole"
       },
       "id": "6b952d8a-a07c-41f2-b97a-04edaf5bb46a"
      }
     }
    },
    "53a88544-f6be-4281-af2a-498b800f31c4": {
     "id": "53a88544-f6be-4281-af2a-498b800f31c4",
     "prev": "666e77aa-65e3-4ace-9efe-0dfe65ae1839",
     "regions": {
      "ab527056-4712-4e12-a1cc-5bb9b8623bef": {
       "attrs": {
        "height": 0.8,
        "width": 0.8,
        "x": 0.1,
        "y": 0.1
       },
       "content": {
        "cell": "85a18e4a-25c9-44ee-91b2-d2f107c7979a",
        "part": "whole"
       },
       "id": "ab527056-4712-4e12-a1cc-5bb9b8623bef"
      }
     }
    },
    "594a4325-6ed3-4a0b-9e20-933f02baa9ff": {
     "id": "594a4325-6ed3-4a0b-9e20-933f02baa9ff",
     "prev": "2a3abdbf-f777-476c-b9cc-88e8522e43c5",
     "regions": {
      "f128d578-b23e-4611-a441-a94ca6bcd4c4": {
       "attrs": {
        "height": 0.8,
        "width": 0.8,
        "x": 0.1,
        "y": 0.1
       },
       "content": {
        "cell": "7ff18816-aac8-4b4e-8584-1d3b82f322e1",
        "part": "whole"
       },
       "id": "f128d578-b23e-4611-a441-a94ca6bcd4c4"
      }
     }
    },
    "5ce1d92c-7e1c-4369-8b3b-91a43e69ece5": {
     "id": "5ce1d92c-7e1c-4369-8b3b-91a43e69ece5",
     "prev": "269c3cf9-da3b-4d34-a392-ab923011b507",
     "regions": {
      "684660d8-0fc7-491f-ae26-bff81bbf44fe": {
       "attrs": {
        "height": 0.8,
        "width": 0.8,
        "x": 0.1,
        "y": 0.1
       },
       "content": {
        "cell": "6a3ce44f-00b4-4e19-b85d-77f2faee623a",
        "part": "whole"
       },
       "id": "684660d8-0fc7-491f-ae26-bff81bbf44fe"
      }
     }
    },
    "5f8d9c09-fa2e-4fcb-b79e-984401accf1a": {
     "id": "5f8d9c09-fa2e-4fcb-b79e-984401accf1a",
     "prev": "a9cd721f-2afb-43b7-adbb-b1b9628e80ac",
     "regions": {
      "0799b1f1-2c27-44eb-9078-b2025a1778c8": {
       "attrs": {
        "height": 0.8,
        "width": 0.8,
        "x": 0.1,
        "y": 0.1
       },
       "content": {
        "cell": "669eb67f-a2db-4fbf-bfe0-5fe074227bea",
        "part": "whole"
       },
       "id": "0799b1f1-2c27-44eb-9078-b2025a1778c8"
      }
     }
    },
    "6090281b-f8ee-4c52-bc8f-c1ff6e6fd266": {
     "id": "6090281b-f8ee-4c52-bc8f-c1ff6e6fd266",
     "prev": "d56a6144-6af3-41c5-bd17-a5dd75bf93f5",
     "regions": {
      "ae4203f9-32df-4b62-8512-2aee1422314b": {
       "attrs": {
        "height": 0.8,
        "width": 0.8,
        "x": 0.1,
        "y": 0.1
       },
       "content": {
        "cell": "f9499861-d89c-478f-a72e-8d3c7196aaa2",
        "part": "whole"
       },
       "id": "ae4203f9-32df-4b62-8512-2aee1422314b"
      }
     }
    },
    "6196a40b-ba61-41c0-b4b0-eb38919f6916": {
     "id": "6196a40b-ba61-41c0-b4b0-eb38919f6916",
     "prev": null,
     "regions": {
      "14074f75-1fe2-4d6d-ab90-b02e6c8e41b7": {
       "attrs": {
        "height": 0.8,
        "width": 0.8,
        "x": 0.1,
        "y": 0.1
       },
       "content": {
        "cell": "9c90aad1-6d34-4224-b6a4-92fa6a87eccd",
        "part": "whole"
       },
       "id": "14074f75-1fe2-4d6d-ab90-b02e6c8e41b7"
      }
     }
    },
    "666e77aa-65e3-4ace-9efe-0dfe65ae1839": {
     "id": "666e77aa-65e3-4ace-9efe-0dfe65ae1839",
     "prev": "e65308a8-860c-4e89-bf89-5cbba843a96e",
     "regions": {
      "9106e296-0cbf-4dbb-afa9-83da059a65fa": {
       "attrs": {
        "height": 0.8,
        "width": 0.8,
        "x": 0.1,
        "y": 0.1
       },
       "content": {
        "cell": "14c5277e-b823-421d-a9ce-929f0d6332e4",
        "part": "whole"
       },
       "id": "9106e296-0cbf-4dbb-afa9-83da059a65fa"
      }
     }
    },
    "6eab374a-6095-4613-bf11-e51bf2cad139": {
     "id": "6eab374a-6095-4613-bf11-e51bf2cad139",
     "prev": "5ce1d92c-7e1c-4369-8b3b-91a43e69ece5",
     "regions": {
      "24c79c37-19b8-402b-84d6-3de0db97c001": {
       "attrs": {
        "height": 0.8,
        "width": 0.8,
        "x": 0.1,
        "y": 0.1
       },
       "content": {
        "cell": "97341157-cebf-4b80-adeb-e56d396d5e37",
        "part": "whole"
       },
       "id": "24c79c37-19b8-402b-84d6-3de0db97c001"
      }
     }
    },
    "7090c781-6f80-4ceb-a8f2-4b1fbbda1cab": {
     "id": "7090c781-6f80-4ceb-a8f2-4b1fbbda1cab",
     "prev": "712aa21b-5aeb-4ea7-8b75-7275f78bd8ce",
     "regions": {
      "75eea7a6-709f-4932-a738-9d3800f86085": {
       "attrs": {
        "height": 1,
        "width": 1,
        "x": 0,
        "y": 0
       },
       "id": "75eea7a6-709f-4932-a738-9d3800f86085"
      }
     }
    },
    "712aa21b-5aeb-4ea7-8b75-7275f78bd8ce": {
     "id": "712aa21b-5aeb-4ea7-8b75-7275f78bd8ce",
     "prev": "ba561d38-3b04-428e-b44e-788b69c6faa8",
     "regions": {
      "44153df2-0024-4098-8266-52c1047c49c1": {
       "attrs": {
        "height": 0.8,
        "width": 0.8,
        "x": 0.1,
        "y": 0.1
       },
       "content": {
        "cell": "38650e7d-c38e-4a90-9f12-1316668cddb4",
        "part": "whole"
       },
       "id": "44153df2-0024-4098-8266-52c1047c49c1"
      }
     }
    },
    "7a40afbb-ef35-41d3-9b37-10e5c57a0a4f": {
     "id": "7a40afbb-ef35-41d3-9b37-10e5c57a0a4f",
     "prev": "9cc7f1df-32da-485e-8ed9-b70192f54740",
     "regions": {
      "d0e9e7a9-818c-4a60-b7b8-7dc1f2f9e89d": {
       "attrs": {
        "height": 0.8,
        "width": 0.8,
        "x": 0.1,
        "y": 0.1
       },
       "content": {
        "cell": "ce0d5297-26bd-426d-8b95-d7043aebe78d",
        "part": "whole"
       },
       "id": "d0e9e7a9-818c-4a60-b7b8-7dc1f2f9e89d"
      }
     }
    },
    "7aceacf3-8421-44fa-9d73-51987315311b": {
     "id": "7aceacf3-8421-44fa-9d73-51987315311b",
     "prev": "cce1ba4c-7cbf-482b-83e2-a6763618a33f",
     "regions": {
      "4daaf616-91e1-413a-97e4-ab5a12225f0c": {
       "attrs": {
        "height": 0.8,
        "width": 0.8,
        "x": 0.1,
        "y": 0.1
       },
       "content": {
        "cell": "b576b484-7585-4bc1-a5c9-3a9f8039dfe7",
        "part": "whole"
       },
       "id": "4daaf616-91e1-413a-97e4-ab5a12225f0c"
      }
     }
    },
    "7e533f71-0c7f-4be8-adb9-4051a9817499": {
     "id": "7e533f71-0c7f-4be8-adb9-4051a9817499",
     "prev": "27773db7-914f-43b4-b371-33ec8eb6a0f1",
     "regions": {
      "eb300964-b99a-4934-a6a8-9819076fe959": {
       "attrs": {
        "height": 0.8,
        "width": 0.8,
        "x": 0.1,
        "y": 0.1
       },
       "content": {
        "cell": "cbbc0969-c834-4a29-865d-b37240ef6fde",
        "part": "whole"
       },
       "id": "eb300964-b99a-4934-a6a8-9819076fe959"
      }
     }
    },
    "805503e2-6e39-441b-b327-29ec2d0ced9d": {
     "id": "805503e2-6e39-441b-b327-29ec2d0ced9d",
     "prev": "7aceacf3-8421-44fa-9d73-51987315311b",
     "regions": {
      "f64985ba-5506-4b36-9246-7990ed50d009": {
       "attrs": {
        "height": 0.8,
        "width": 0.8,
        "x": 0.1,
        "y": 0.1
       },
       "content": {
        "cell": "2301edbe-3434-463b-b4d2-3e1f79c443cc",
        "part": "whole"
       },
       "id": "f64985ba-5506-4b36-9246-7990ed50d009"
      }
     }
    },
    "807390ec-29b4-4429-af2f-c0fe9669fc9c": {
     "id": "807390ec-29b4-4429-af2f-c0fe9669fc9c",
     "prev": "8a538142-dfb6-4a32-86b0-13f14a99207e",
     "regions": {
      "223c37cf-43a7-49c0-be66-41ef267c6aa7": {
       "attrs": {
        "height": 0.8,
        "width": 0.8,
        "x": 0.1,
        "y": 0.1
       },
       "content": {
        "cell": "3c51b4bb-86ce-4312-8e8d-32abff54a466",
        "part": "whole"
       },
       "id": "223c37cf-43a7-49c0-be66-41ef267c6aa7"
      }
     }
    },
    "889581f2-5f95-43d7-a7f6-92c5b66700a2": {
     "id": "889581f2-5f95-43d7-a7f6-92c5b66700a2",
     "prev": "6196a40b-ba61-41c0-b4b0-eb38919f6916",
     "regions": {
      "d54a18f4-b9ec-4f73-9f71-2a0d4c0e09e2": {
       "attrs": {
        "height": 1,
        "width": 1,
        "x": 0,
        "y": 0
       },
       "id": "d54a18f4-b9ec-4f73-9f71-2a0d4c0e09e2"
      }
     }
    },
    "891efc66-82d7-4ebb-91d1-66964b5b03fc": {
     "id": "891efc66-82d7-4ebb-91d1-66964b5b03fc",
     "prev": "53a88544-f6be-4281-af2a-498b800f31c4",
     "regions": {
      "f5babfde-6347-49eb-8402-f831a7e7d4ab": {
       "attrs": {
        "height": 0.8,
        "width": 0.8,
        "x": 0.1,
        "y": 0.1
       },
       "content": {
        "cell": "f7db6b17-5945-4e65-aaa1-7cdeee499b33",
        "part": "whole"
       },
       "id": "f5babfde-6347-49eb-8402-f831a7e7d4ab"
      }
     }
    },
    "8a538142-dfb6-4a32-86b0-13f14a99207e": {
     "id": "8a538142-dfb6-4a32-86b0-13f14a99207e",
     "prev": "2310c0b6-c7d9-4214-88c7-8d8341c275ab",
     "regions": {
      "d234eed2-7d26-40c1-8c87-ecaacdf0b870": {
       "attrs": {
        "height": 0.8,
        "width": 0.8,
        "x": 0.1,
        "y": 0.1
       },
       "content": {
        "cell": "b78dbece-1ff7-453a-98bb-2a6f2307aba8",
        "part": "whole"
       },
       "id": "d234eed2-7d26-40c1-8c87-ecaacdf0b870"
      }
     }
    },
    "8bcec2ed-56e0-4e41-aac8-d97dfc0eb042": {
     "id": "8bcec2ed-56e0-4e41-aac8-d97dfc0eb042",
     "prev": "95ab6412-4c35-4e3a-b030-f38a0e8ecf78",
     "regions": {
      "c189ff42-6576-4faf-9960-7e2beaece59a": {
       "attrs": {
        "height": 0.8,
        "width": 0.8,
        "x": 0.1,
        "y": 0.1
       },
       "content": {
        "cell": "984fdb52-645d-4f5d-b3b5-9bdf066884c2",
        "part": "whole"
       },
       "id": "c189ff42-6576-4faf-9960-7e2beaece59a"
      }
     }
    },
    "8beec04e-3e2a-4bc9-9802-87eb10a57e7d": {
     "id": "8beec04e-3e2a-4bc9-9802-87eb10a57e7d",
     "prev": "bf7606b8-4869-4214-824c-699ceea492fe",
     "regions": {
      "ff785671-9e6c-4f7b-a4df-1108f1bf344a": {
       "attrs": {
        "height": 0.8,
        "width": 0.8,
        "x": 0.1,
        "y": 0.1
       },
       "content": {
        "cell": "67576131-bb8d-42c9-a040-8c8df8808338",
        "part": "whole"
       },
       "id": "ff785671-9e6c-4f7b-a4df-1108f1bf344a"
      }
     }
    },
    "95ab6412-4c35-4e3a-b030-f38a0e8ecf78": {
     "id": "95ab6412-4c35-4e3a-b030-f38a0e8ecf78",
     "prev": "44bb920c-bc25-4f1c-be1e-754e433184ac",
     "regions": {
      "11c23adb-8c51-4c48-a7ad-87998a4cf3dc": {
       "attrs": {
        "height": 0.8,
        "width": 0.8,
        "x": 0.1,
        "y": 0.1
       },
       "content": {
        "cell": "7a7da41c-5c62-46d1-9732-471c192cdc00",
        "part": "whole"
       },
       "id": "11c23adb-8c51-4c48-a7ad-87998a4cf3dc"
      }
     }
    },
    "95cc19f8-37ca-4f38-86cd-a0b44dc8a542": {
     "id": "95cc19f8-37ca-4f38-86cd-a0b44dc8a542",
     "prev": "0d613438-e300-4d5d-a400-701d39267b4f",
     "regions": {
      "57c6255c-c945-41ef-bc4e-f0de5995fd15": {
       "attrs": {
        "height": 0.8,
        "width": 0.8,
        "x": 0.1,
        "y": 0.1
       },
       "content": {
        "cell": "7ab9b887-482e-4d23-a20a-d93f7b636d90",
        "part": "whole"
       },
       "id": "57c6255c-c945-41ef-bc4e-f0de5995fd15"
      }
     }
    },
    "9cc7f1df-32da-485e-8ed9-b70192f54740": {
     "id": "9cc7f1df-32da-485e-8ed9-b70192f54740",
     "prev": "594a4325-6ed3-4a0b-9e20-933f02baa9ff",
     "regions": {
      "91c0a87a-cc2e-4f7e-93b0-6edbdfdda288": {
       "attrs": {
        "height": 0.8,
        "width": 0.8,
        "x": 0.1,
        "y": 0.1
       },
       "content": {
        "cell": "9acbc86c-b910-4e62-b2af-e124e55f493b",
        "part": "whole"
       },
       "id": "91c0a87a-cc2e-4f7e-93b0-6edbdfdda288"
      }
     }
    },
    "a082d3d2-3387-49c5-9479-03b5892ef57a": {
     "id": "a082d3d2-3387-49c5-9479-03b5892ef57a",
     "prev": "f2b699c3-9aef-496b-9870-6d69e070c6b9",
     "regions": {
      "f062f00c-ed59-4341-87d2-1510fbe78a5b": {
       "attrs": {
        "height": 0.8,
        "width": 0.8,
        "x": 0.1,
        "y": 0.1
       },
       "content": {
        "cell": "df84350e-c37a-4371-af55-eea672269d85",
        "part": "whole"
       },
       "id": "f062f00c-ed59-4341-87d2-1510fbe78a5b"
      }
     }
    },
    "a4d9ba39-2a61-412f-b414-75d7a14a24c4": {
     "id": "a4d9ba39-2a61-412f-b414-75d7a14a24c4",
     "prev": "2b4a160a-80ff-4721-889e-cefe64d99082",
     "regions": {
      "9457ea69-ff79-4b91-9c33-957f620c4c17": {
       "attrs": {
        "height": 0.8,
        "width": 0.8,
        "x": 0.1,
        "y": 0.1
       },
       "content": {
        "cell": "36968e3f-6e15-4b7b-be18-fc5ed7ae1bd8",
        "part": "whole"
       },
       "id": "9457ea69-ff79-4b91-9c33-957f620c4c17"
      }
     }
    },
    "a9cd721f-2afb-43b7-adbb-b1b9628e80ac": {
     "id": "a9cd721f-2afb-43b7-adbb-b1b9628e80ac",
     "prev": "fb733433-f79b-48c6-8cc6-99dbe56b47be",
     "regions": {
      "183325b2-d8ab-4625-b57a-6b98ca83b2a9": {
       "attrs": {
        "height": 0.8,
        "width": 0.8,
        "x": 0.1,
        "y": 0.1
       },
       "content": {
        "cell": "30bceb30-8e65-484f-98e8-75f898322c10",
        "part": "whole"
       },
       "id": "183325b2-d8ab-4625-b57a-6b98ca83b2a9"
      }
     }
    },
    "ab5b5fd7-a10e-47e5-b8e4-ebaa1622b314": {
     "id": "ab5b5fd7-a10e-47e5-b8e4-ebaa1622b314",
     "prev": "e42a4539-3ac5-43df-82b5-fa02f9591dce",
     "regions": {
      "674f8bc7-279c-409e-ba43-bb388a33866a": {
       "attrs": {
        "height": 0.8,
        "width": 0.8,
        "x": 0.1,
        "y": 0.1
       },
       "content": {
        "cell": "0914ed39-0728-489d-b754-be33294c7170",
        "part": "whole"
       },
       "id": "674f8bc7-279c-409e-ba43-bb388a33866a"
      }
     }
    },
    "adfa298e-667d-4cfb-a856-6c014b8f6893": {
     "id": "adfa298e-667d-4cfb-a856-6c014b8f6893",
     "prev": "4a003e7f-294e-4677-be62-3ffd926a37a6",
     "regions": {
      "3e972935-defe-412c-b64d-851a336a8e2f": {
       "attrs": {
        "height": 0.8,
        "width": 0.8,
        "x": 0.1,
        "y": 0.1
       },
       "content": {
        "cell": "08581e61-c56b-4d9a-9860-7243d58c9b39",
        "part": "whole"
       },
       "id": "3e972935-defe-412c-b64d-851a336a8e2f"
      }
     }
    },
    "b466e3d2-f3e9-4224-8db5-82e029634b2d": {
     "id": "b466e3d2-f3e9-4224-8db5-82e029634b2d",
     "prev": "3e028dc2-2384-425c-bf3f-3154cdb12f66",
     "regions": {
      "9ab05c06-bce6-41dd-b4ce-4a4aae70a252": {
       "attrs": {
        "height": 0.8,
        "width": 0.8,
        "x": 0.1,
        "y": 0.1
       },
       "content": {
        "cell": "148b3552-21d3-4abc-9771-27b2b7f34159",
        "part": "whole"
       },
       "id": "9ab05c06-bce6-41dd-b4ce-4a4aae70a252"
      }
     }
    },
    "ba561d38-3b04-428e-b44e-788b69c6faa8": {
     "id": "ba561d38-3b04-428e-b44e-788b69c6faa8",
     "prev": "7e533f71-0c7f-4be8-adb9-4051a9817499",
     "regions": {
      "6a17dd5a-7f26-408c-88c8-5dc512fd2233": {
       "attrs": {
        "height": 0.8,
        "width": 0.8,
        "x": 0.1,
        "y": 0.1
       },
       "content": {
        "cell": "6a6cffb5-bf3b-489c-82f3-fba9a09a70c1",
        "part": "whole"
       },
       "id": "6a17dd5a-7f26-408c-88c8-5dc512fd2233"
      }
     }
    },
    "bf7606b8-4869-4214-824c-699ceea492fe": {
     "id": "bf7606b8-4869-4214-824c-699ceea492fe",
     "prev": "f7a33625-6aca-4e8f-867b-a6b62d816788",
     "regions": {
      "ee6c12c6-a282-4e27-b7b3-4278b573b9b5": {
       "attrs": {
        "height": 0.8,
        "width": 0.8,
        "x": 0.1,
        "y": 0.1
       },
       "content": {
        "cell": "eaf32b93-a775-40f1-9d3b-fcbd6f2e3d0f",
        "part": "whole"
       },
       "id": "ee6c12c6-a282-4e27-b7b3-4278b573b9b5"
      }
     }
    },
    "c163ec5d-8fea-4686-81aa-39a9e3342f7b": {
     "id": "c163ec5d-8fea-4686-81aa-39a9e3342f7b",
     "prev": "4cf55139-103d-4602-ae3f-0390a508d748",
     "regions": {
      "e3f8a36c-13a4-4849-9dce-5965ab0f89c1": {
       "attrs": {
        "height": 0.8,
        "width": 0.8,
        "x": 0.1,
        "y": 0.1
       },
       "content": {
        "cell": "127b20de-b724-448e-b8b8-b885bef792d5",
        "part": "whole"
       },
       "id": "e3f8a36c-13a4-4849-9dce-5965ab0f89c1"
      }
     }
    },
    "cce1ba4c-7cbf-482b-83e2-a6763618a33f": {
     "id": "cce1ba4c-7cbf-482b-83e2-a6763618a33f",
     "prev": "6eab374a-6095-4613-bf11-e51bf2cad139",
     "regions": {
      "f0504c1d-351d-4e15-bff3-d08b8d089940": {
       "attrs": {
        "height": 0.8,
        "width": 0.8,
        "x": 0.1,
        "y": 0.1
       },
       "content": {
        "cell": "fe2dd51f-f6b6-4e71-98e6-38ab78e84e58",
        "part": "whole"
       },
       "id": "f0504c1d-351d-4e15-bff3-d08b8d089940"
      }
     }
    },
    "d56a6144-6af3-41c5-bd17-a5dd75bf93f5": {
     "id": "d56a6144-6af3-41c5-bd17-a5dd75bf93f5",
     "prev": "a082d3d2-3387-49c5-9479-03b5892ef57a",
     "regions": {
      "7ab9fe0f-942a-471e-9567-53112b8d410d": {
       "attrs": {
        "height": 0.8,
        "width": 0.8,
        "x": 0.1,
        "y": 0.1
       },
       "content": {
        "cell": "02c716b3-ba96-48a6-a54b-c1cdb594392e",
        "part": "whole"
       },
       "id": "7ab9fe0f-942a-471e-9567-53112b8d410d"
      }
     }
    },
    "d76b61af-6e50-4773-bf76-e44403d5aae1": {
     "id": "d76b61af-6e50-4773-bf76-e44403d5aae1",
     "prev": "807390ec-29b4-4429-af2f-c0fe9669fc9c",
     "regions": {
      "95405580-45ad-4e3c-9ea6-b77fb92f2686": {
       "attrs": {
        "height": 0.8,
        "width": 0.8,
        "x": 0.1,
        "y": 0.1
       },
       "content": {
        "cell": "4056f96f-eec4-4b99-ae4d-5ed38c2994da",
        "part": "whole"
       },
       "id": "95405580-45ad-4e3c-9ea6-b77fb92f2686"
      }
     }
    },
    "e42a4539-3ac5-43df-82b5-fa02f9591dce": {
     "id": "e42a4539-3ac5-43df-82b5-fa02f9591dce",
     "prev": "889581f2-5f95-43d7-a7f6-92c5b66700a2",
     "regions": {
      "bd9cbe8f-ec4f-4794-aefc-fa739673b208": {
       "attrs": {
        "height": 0.8,
        "width": 0.8,
        "x": 0.1,
        "y": 0.1
       },
       "content": {
        "cell": "383dd858-f83c-4b07-bf38-ade1213bfb72",
        "part": "whole"
       },
       "id": "bd9cbe8f-ec4f-4794-aefc-fa739673b208"
      }
     }
    },
    "e65308a8-860c-4e89-bf89-5cbba843a96e": {
     "id": "e65308a8-860c-4e89-bf89-5cbba843a96e",
     "prev": "f7a9ca3d-ffae-4d1e-9e54-c7dffaf63649",
     "regions": {
      "05614338-d982-474c-bb3f-59ceecb3219e": {
       "attrs": {
        "height": 0.8,
        "width": 0.8,
        "x": 0.1,
        "y": 0.1
       },
       "content": {
        "cell": "832ed5ac-6c0b-4303-b6d4-943026a2d30e",
        "part": "whole"
       },
       "id": "05614338-d982-474c-bb3f-59ceecb3219e"
      }
     }
    },
    "f2b699c3-9aef-496b-9870-6d69e070c6b9": {
     "id": "f2b699c3-9aef-496b-9870-6d69e070c6b9",
     "prev": "a4d9ba39-2a61-412f-b414-75d7a14a24c4",
     "regions": {
      "d509d196-12f3-401b-8b86-86abcd27435f": {
       "attrs": {
        "height": 0.8,
        "width": 0.8,
        "x": 0.1,
        "y": 0.1
       },
       "content": {
        "cell": "3f7a78c0-f30a-4ad4-8c58-6aa83f7bf4a8",
        "part": "whole"
       },
       "id": "d509d196-12f3-401b-8b86-86abcd27435f"
      }
     }
    },
    "f7a33625-6aca-4e8f-867b-a6b62d816788": {
     "id": "f7a33625-6aca-4e8f-867b-a6b62d816788",
     "prev": "d76b61af-6e50-4773-bf76-e44403d5aae1",
     "regions": {
      "e3d6d3d4-7f75-4331-9b01-1458d3dfb6b9": {
       "attrs": {
        "height": 0.8,
        "width": 0.8,
        "x": 0.1,
        "y": 0.1
       },
       "content": {
        "cell": "ce356691-1f1a-40ff-a9f0-bbcefbb3bbe3",
        "part": "whole"
       },
       "id": "e3d6d3d4-7f75-4331-9b01-1458d3dfb6b9"
      }
     }
    },
    "f7a9ca3d-ffae-4d1e-9e54-c7dffaf63649": {
     "id": "f7a9ca3d-ffae-4d1e-9e54-c7dffaf63649",
     "prev": "51fb510c-c9c2-4173-8b48-9fdf03fa9864",
     "regions": {
      "d3198c5d-88fc-4a8d-8836-0e4e82ea00f3": {
       "attrs": {
        "height": 0.8,
        "width": 0.8,
        "x": 0.1,
        "y": 0.1
       },
       "content": {
        "cell": "f535e233-3f6b-4daf-b4ab-2083e319193b",
        "part": "whole"
       },
       "id": "d3198c5d-88fc-4a8d-8836-0e4e82ea00f3"
      }
     }
    },
    "fb733433-f79b-48c6-8cc6-99dbe56b47be": {
     "id": "fb733433-f79b-48c6-8cc6-99dbe56b47be",
     "prev": "b466e3d2-f3e9-4224-8db5-82e029634b2d",
     "regions": {
      "036a9564-44e0-4392-bfaa-937d498f744b": {
       "attrs": {
        "height": 0.8,
        "width": 0.8,
        "x": 0.1,
        "y": 0.1
       },
       "content": {
        "cell": "16081156-80c3-414a-b19c-4efb23ecf92e",
        "part": "whole"
       },
       "id": "036a9564-44e0-4392-bfaa-937d498f744b"
      }
     }
    }
   },
   "themes": {}
  },
  "toc": {
   "nav_menu": {},
   "number_sections": true,
   "sideBar": true,
   "skip_h1_title": false,
   "toc_cell": false,
   "toc_position": {},
   "toc_section_display": "block",
   "toc_window_display": false
  },
  "widgets": {
   "state": {
    "70d2016a88c946929e2f129e03d3fb53": {
     "views": [
      {
       "cell_index": 14
      }
     ]
    }
   },
   "version": "1.2.0"
  }
 },
 "nbformat": 4,
 "nbformat_minor": 1
}
