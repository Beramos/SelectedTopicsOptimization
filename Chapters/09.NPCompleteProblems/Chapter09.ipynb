{
 "cells": [
  {
   "cell_type": "markdown",
   "metadata": {},
   "source": [
    "# NP-complete problems\n",
    "\n",
    "*Selected Topics in Mathematical Optimization: 2017-2018*\n",
    "\n",
    "**Michiel Stock** ([email](michiel.stock@ugent.be))\n",
    "\n",
    "![](Figures/logo.png)"
   ]
  },
  {
   "cell_type": "markdown",
   "metadata": {},
   "source": [
    "## Maximum cover problem\n",
    "\n",
    "> **In words** Given an universe set $U$ and a set of sets $S=\\{S_1,\\ldots,S_m\\}$ for which the union is the universe (i.e.~$\\bigcup_{i=1}^mS_i = U$), find the smallest sub-collection of $T\\subseteq S$ whose union equals the universe. \n",
    "\n",
    "**Example**: if $U=\\{1,2,3,4,5\\}$ and $S=\\{\\{1,2,3\\},\\{2,4\\},\\{3,4\\},\\{4,5\\}\\}$, then $T=\\{\\{1,2,3\\},\\{4,5\\}\\}$."
   ]
  },
  {
   "cell_type": "markdown",
   "metadata": {},
   "source": [
    "**Assignment**\n",
    "\n",
    "Complete the function `c(S,U)` in the file `mcp.py`, which takes as inputs $S$ (list of `set` objects) and the universe $U$ `set`) and returns a list with the smallest subset of $S$ whose union is $U$. You can implement this any way you like but it should give the correct result for small instances ($n\\approx 20$) in a reasonable amount of time (max.\n",
    "minutes).\n",
    "\n"
   ]
  },
  {
   "cell_type": "code",
   "execution_count": null,
   "metadata": {},
   "outputs": [],
   "source": [
    "def c(S,U):\n",
    "  ... # to complete\n",
    "    # hand in as a mcp_INITIALS.py file!"
   ]
  },
  {
   "cell_type": "code",
   "execution_count": null,
   "metadata": {},
   "outputs": [],
   "source": [
    "# module to make an example\n",
    "from np_complete import generate_set_cover_instance"
   ]
  },
  {
   "cell_type": "code",
   "execution_count": null,
   "metadata": {},
   "outputs": [],
   "source": [
    "S, U = generate_set_cover_instance(n=15, m=20, n_choice=5)"
   ]
  },
  {
   "cell_type": "code",
   "execution_count": null,
   "metadata": {},
   "outputs": [],
   "source": [
    "S"
   ]
  },
  {
   "cell_type": "code",
   "execution_count": null,
   "metadata": {},
   "outputs": [],
   "source": [
    "U"
   ]
  },
  {
   "cell_type": "code",
   "execution_count": null,
   "metadata": {},
   "outputs": [],
   "source": [
    "c(S, U) # returns smallest subset of S whose union is U"
   ]
  }
 ],
 "metadata": {
  "anaconda-cloud": {},
  "kernelspec": {
   "display_name": "Python 3",
   "language": "python",
   "name": "python3"
  },
  "language_info": {
   "codemirror_mode": {
    "name": "ipython",
    "version": 3
   },
   "file_extension": ".py",
   "mimetype": "text/x-python",
   "name": "python",
   "nbconvert_exporter": "python",
   "pygments_lexer": "ipython3",
   "version": "3.5.5"
  }
 },
 "nbformat": 4,
 "nbformat_minor": 2
}
