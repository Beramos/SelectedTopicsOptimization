{
 "cells": [
  {
   "cell_type": "markdown",
   "metadata": {},
   "source": [
    "# NP-complete problems\n",
    "\n",
    "*Selected Topics in Mathematical Optimization: 2017-2018*\n",
    "\n",
    "**Michiel Stock** ([email](michiel.stock@ugent.be))\n",
    "\n",
    "![](Figures/logo.png)"
   ]
  },
  {
   "cell_type": "markdown",
   "metadata": {},
   "source": [
    "## Maximum cover problem\n",
    "\n",
    "> **In words** Given an universe set $U$ and a set of sets $S=\\{S_1,\\ldots,S_m\\}$ for which the union is the universe (i.e.~$\\bigcup_{i=1}^mS_i = U$), find the smallest sub-collection of $T\\subseteq S$ whose union equals the universe. \n",
    "\n",
    "**Example**: if $U=\\{1,2,3,4,5\\}$ and $S=\\{\\{1,2,3\\},\\{2,4\\},\\{3,4\\},\\{4,5\\}\\}$, then $T=\\{\\{1,2,3\\},\\{4,5\\}\\}$."
   ]
  },
  {
   "cell_type": "markdown",
   "metadata": {},
   "source": [
    "**Assignment**\n",
    "\n",
    "Complete the function `c(S,U)` in the file `mcp.py`, which takes as inputs $S$ (list of `set` objects) and the universe $U$ `set`) and returns a list with the smallest subset of $S$ whose union is $U$. You can implement this any way you like but it should give the correct result for small instances ($n\\approx 20$) in a reasonable amount of time (max.\n",
    "minutes).\n",
    "\n"
   ]
  },
  {
   "cell_type": "code",
   "execution_count": null,
   "metadata": {
    "ExecuteTime": {
     "end_time": "2018-04-25T18:59:48.751799Z",
     "start_time": "2018-04-25T18:59:48.269704Z"
    },
    "collapsed": true
   },
   "outputs": [],
   "source": [
    "import numpy as np\n",
    "import pandas as pd\n",
    "import itertools\n",
    "import functools"
   ]
  },
  {
   "cell_type": "code",
   "execution_count": null,
   "metadata": {
    "ExecuteTime": {
     "end_time": "2018-04-25T14:44:15.884632Z",
     "start_time": "2018-04-25T14:44:15.865759Z"
    },
    "collapsed": true
   },
   "outputs": [],
   "source": [
    "def c(S,U):\n",
    "    numSets = len(S)\n",
    "    maxWeight = len(U)\n",
    "    weights = set_weights(S,maxWeight)\n",
    "    table = np.zeros((numSets,numSets))\n",
    "    #table_set = np.array(numSets*[maxWeight*[[]]])\n",
    "    table_set = np.empty((numSets,numSets), dtype=np.object)\n",
    "    #table_score = np.zeros((numSets,numSets))\n",
    "    \n",
    "    \n",
    "    for i in range(0,numSets):\n",
    "        set_prev = set()\n",
    "        for w in range(0,numSets):\n",
    "            if i == 0:\n",
    "                table_set[(0,w)] = [{0}]\n",
    "            else:\n",
    "                table_set[(i,w)] = table_set[(i-1,w)] + [S[i]]\n",
    "                vi = len(set.union(*table_set[(i,w)]))\n",
    "                table[(i,w)] = maxValue_knapsack(i,w,len(table_set[(i,w)])-1,vi,table)\n",
    "    return(table,table_set)\n",
    "    \n",
    "    \n",
    "    # hand in as a mcp_INITIALS.py file!"
   ]
  },
  {
   "cell_type": "code",
   "execution_count": null,
   "metadata": {
    "ExecuteTime": {
     "end_time": "2018-04-25T14:40:51.856322Z",
     "start_time": "2018-04-25T14:40:51.852703Z"
    },
    "collapsed": true
   },
   "outputs": [],
   "source": [
    "table_set[(10,15)]"
   ]
  },
  {
   "cell_type": "markdown",
   "metadata": {},
   "source": [
    "## Brute-forcing"
   ]
  },
  {
   "cell_type": "code",
   "execution_count": null,
   "metadata": {
    "ExecuteTime": {
     "end_time": "2018-04-25T15:22:24.360040Z",
     "start_time": "2018-04-25T15:22:24.346401Z"
    },
    "collapsed": true
   },
   "outputs": [],
   "source": [
    "import itertools as i\n",
    "def c1(S,U):\n",
    "    for l,_ in enumerate(S):\n",
    "        for s in i.combinations(S,l+1):\n",
    "            if set.union(*s)==U:\n",
    "                return s"
   ]
  },
  {
   "cell_type": "code",
   "execution_count": null,
   "metadata": {
    "ExecuteTime": {
     "end_time": "2018-04-25T15:23:33.489774Z",
     "start_time": "2018-04-25T15:23:33.475370Z"
    },
    "collapsed": true
   },
   "outputs": [],
   "source": [
    "def c(S,U):\n",
    "    import itertools as i\n",
    "    for l in range(len(S)):\n",
    "        for s in i.combinations(S,l+1):\n",
    "            if set.union(*s)==U:\n",
    "                return s"
   ]
  },
  {
   "cell_type": "markdown",
   "metadata": {},
   "source": [
    "## Helper functions\\begin{equation}\\label{eq:}\n",
    "\\begin{equation}\\label{eq:}\n",
    "\n",
    "\\end{equation}\n",
    "\n",
    "\\end{equation}\n"
   ]
  },
  {
   "cell_type": "code",
   "execution_count": null,
   "metadata": {
    "ExecuteTime": {
     "end_time": "2018-04-25T14:45:54.020067Z",
     "start_time": "2018-04-25T14:45:54.000202Z"
    },
    "collapsed": true
   },
   "outputs": [],
   "source": [
    "def find_max_length(U):\n",
    "    return len(U)\n",
    "\n",
    "def set_weights(S,maxWeight):\n",
    "    return [(abs(len(Si)-maxWeight)) for Si in S]\n",
    "    \n",
    "def construct_table(numSets,maxWeight):\n",
    "    return np.zeros((numSets,maxWeight))\n",
    "\n",
    "def construct_settable(numSets,maxWeight):\n",
    "    return np.zeros((numSets,maxWeight))\n",
    " \n",
    "def maxValue_knapsack(i,w,wi,vi,table):\n",
    "    if i == 0:\n",
    "        return 0\n",
    "    elif wi > w:\n",
    "        return table[(i,wi)]\n",
    "    else: \n",
    "        return max([table[(i-1,w)],vi])\n",
    "\n",
    "def compute_value(set_prev,set_new):\n",
    "    '''Is zero if not unique'''\n",
    "    set_update =set_prev.union(set_new)\n",
    "    return len(set_update), set_update \n",
    "    "
   ]
  },
  {
   "cell_type": "code",
   "execution_count": null,
   "metadata": {
    "ExecuteTime": {
     "end_time": "2018-04-25T09:43:27.632506Z",
     "start_time": "2018-04-25T09:43:27.624625Z"
    },
    "collapsed": true
   },
   "outputs": [],
   "source": [
    "set"
   ]
  },
  {
   "cell_type": "code",
   "execution_count": 1,
   "metadata": {
    "ExecuteTime": {
     "end_time": "2018-04-25T19:04:37.021453Z",
     "start_time": "2018-04-25T19:04:36.986173Z"
    },
    "collapsed": true
   },
   "outputs": [],
   "source": [
    "# module to make an example\n",
    "from np_complete import generate_set_cover_instance"
   ]
  },
  {
   "cell_type": "code",
   "execution_count": 2,
   "metadata": {
    "ExecuteTime": {
     "end_time": "2018-04-25T19:04:38.595431Z",
     "start_time": "2018-04-25T19:04:38.592954Z"
    }
   },
   "outputs": [],
   "source": [
    "S, U = generate_set_cover_instance(n=15, m=20, n_choice=5)"
   ]
  },
  {
   "cell_type": "code",
   "execution_count": null,
   "metadata": {
    "ExecuteTime": {
     "end_time": "2018-04-25T09:03:15.627785Z",
     "start_time": "2018-04-25T09:03:15.604154Z"
    },
    "collapsed": true
   },
   "outputs": [],
   "source": [
    "S"
   ]
  },
  {
   "cell_type": "code",
   "execution_count": null,
   "metadata": {
    "ExecuteTime": {
     "end_time": "2018-04-25T14:19:09.217537Z",
     "start_time": "2018-04-25T14:19:09.208948Z"
    },
    "collapsed": true
   },
   "outputs": [],
   "source": [
    "U"
   ]
  },
  {
   "cell_type": "code",
   "execution_count": null,
   "metadata": {
    "ExecuteTime": {
     "end_time": "2018-04-25T15:23:08.639862Z",
     "start_time": "2018-04-25T15:23:00.558366Z"
    },
    "collapsed": true
   },
   "outputs": [],
   "source": [
    "%%timeit\n",
    "c1(S, U) # returns smallest subset of S whose union is U"
   ]
  },
  {
   "cell_type": "code",
   "execution_count": null,
   "metadata": {
    "ExecuteTime": {
     "end_time": "2018-04-25T15:23:16.398437Z",
     "start_time": "2018-04-25T15:23:08.641530Z"
    },
    "collapsed": true
   },
   "outputs": [],
   "source": [
    "%%timeit\n",
    "c2(S, U) # returns smallest subset of S whose union is U"
   ]
  },
  {
   "cell_type": "code",
   "execution_count": null,
   "metadata": {
    "ExecuteTime": {
     "end_time": "2018-04-25T15:23:50.594228Z",
     "start_time": "2018-04-25T15:23:50.581417Z"
    },
    "collapsed": true
   },
   "outputs": [],
   "source": [
    "c(S,U)"
   ]
  },
  {
   "cell_type": "code",
   "execution_count": null,
   "metadata": {
    "ExecuteTime": {
     "end_time": "2018-04-25T15:23:47.951262Z",
     "start_time": "2018-04-25T15:23:47.946236Z"
    },
    "collapsed": true
   },
   "outputs": [],
   "source": [
    "c1(S,U)"
   ]
  },
  {
   "cell_type": "code",
   "execution_count": 3,
   "metadata": {
    "ExecuteTime": {
     "end_time": "2018-04-25T19:04:46.404512Z",
     "start_time": "2018-04-25T19:04:46.402033Z"
    }
   },
   "outputs": [],
   "source": [
    "from mcp_BD import c"
   ]
  },
  {
   "cell_type": "code",
   "execution_count": 6,
   "metadata": {
    "ExecuteTime": {
     "end_time": "2018-04-25T19:05:25.669569Z",
     "start_time": "2018-04-25T19:05:08.228241Z"
    }
   },
   "outputs": [
    {
     "name": "stdout",
     "output_type": "stream",
     "text": [
      "2.15 ms ± 36.4 µs per loop (mean ± std. dev. of 7 runs, 1000 loops each)\n"
     ]
    }
   ],
   "source": [
    "%%timeit\n",
    "c(S, U) # returns smallest subset of S whose union is U"
   ]
  },
  {
   "cell_type": "code",
   "execution_count": 5,
   "metadata": {
    "ExecuteTime": {
     "end_time": "2018-04-25T19:05:05.607106Z",
     "start_time": "2018-04-25T19:05:05.590548Z"
    }
   },
   "outputs": [
    {
     "data": {
      "text/plain": [
       "({7, 10, 12, 13, 14}, {3, 4, 7, 9, 12}, {1, 2, 5, 15}, {1, 6, 8, 11})"
      ]
     },
     "execution_count": 5,
     "metadata": {},
     "output_type": "execute_result"
    }
   ],
   "source": [
    "c(S,U)"
   ]
  },
  {
   "cell_type": "code",
   "execution_count": null,
   "metadata": {
    "collapsed": true
   },
   "outputs": [],
   "source": []
  }
 ],
 "metadata": {
  "anaconda-cloud": {},
  "kernelspec": {
   "display_name": "Python 3",
   "language": "python",
   "name": "python3"
  },
  "language_info": {
   "codemirror_mode": {
    "name": "ipython",
    "version": 3
   },
   "file_extension": ".py",
   "mimetype": "text/x-python",
   "name": "python",
   "nbconvert_exporter": "python",
   "pygments_lexer": "ipython3",
   "version": "3.6.3"
  },
  "latex_envs": {
   "LaTeX_envs_menu_present": true,
   "autocomplete": true,
   "bibliofile": "biblio.bib",
   "cite_by": "apalike",
   "current_citInitial": 1,
   "eqLabelWithNumbers": true,
   "eqNumInitial": 1,
   "hotkeys": {
    "equation": "Ctrl-E",
    "itemize": "Ctrl-I"
   },
   "labels_anchors": false,
   "latex_user_defs": false,
   "report_style_numbering": false,
   "user_envs_cfg": false
  },
  "toc": {
   "nav_menu": {},
   "number_sections": true,
   "sideBar": true,
   "skip_h1_title": false,
   "toc_cell": false,
   "toc_position": {},
   "toc_section_display": "block",
   "toc_window_display": false
  }
 },
 "nbformat": 4,
 "nbformat_minor": 2
}
