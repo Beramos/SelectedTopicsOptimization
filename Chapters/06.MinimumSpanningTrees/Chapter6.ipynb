{
 "cells": [
  {
   "cell_type": "markdown",
   "metadata": {},
   "source": [
    "# Minimum spanning trees\n",
    "\n",
    "*Selected Topics in Mathematical Optimization: 2017-2018*\n",
    "\n",
    "**Michiel Stock** ([email](michiel.stock@ugent.be))\n",
    "\n",
    "![](Figures/logo.png)"
   ]
  },
  {
   "cell_type": "code",
   "execution_count": 1,
   "metadata": {
    "ExecuteTime": {
     "end_time": "2018-03-21T09:56:13.431048Z",
     "start_time": "2018-03-21T09:56:13.242015Z"
    },
    "collapsed": true
   },
   "outputs": [],
   "source": [
    "import matplotlib.pyplot as plt\n",
    "%matplotlib inline\n",
    "from minimumspanningtrees import red, green, blue, orange, yellow"
   ]
  },
  {
   "cell_type": "markdown",
   "metadata": {},
   "source": [
    "## Graphs in python\n",
    "\n",
    "Consider the following example graph:\n",
    "\n",
    "![A small graph to show how to implement graphs in python.](Figures/graph.png)"
   ]
  },
  {
   "cell_type": "markdown",
   "metadata": {},
   "source": [
    "This graph can be represented using an *adjacency list*. We do this using a `dict`. Every vertex is a key with the adjacent vertices given as a `set` containing tuples `(weight, neighbor)`. The weight is first because this makes it easy to compare the weights of two edges. Note that for every ingoing edges, there is also an outgoing edge, this is an undirected graph."
   ]
  },
  {
   "cell_type": "code",
   "execution_count": 2,
   "metadata": {
    "ExecuteTime": {
     "end_time": "2018-03-21T09:56:15.549587Z",
     "start_time": "2018-03-21T09:56:15.544031Z"
    },
    "collapsed": true
   },
   "outputs": [],
   "source": [
    "graph = {\n",
    "    'A' : set([(2, 'B'), (2, 'D')]),\n",
    "    'B' : set([(2, 'A'), (1, 'C')]),\n",
    "    'C' : set([(1, 'B'), (2, 'D')]),\n",
    "    'D' : set([(2, 'C'), (3, 'A')]),\n",
    "    'E' : set([(2, 'B'), (1, 'C'), (3, 'D')])\n",
    "}"
   ]
  },
  {
   "cell_type": "markdown",
   "metadata": {},
   "source": [
    "Sometimes we will use an *edge list*, i.e. a list of (weighted) edges. This is often a more compact way of storing a graph. The edge list is given below. Note that again every edge is double: an in- and outgoing edge is included."
   ]
  },
  {
   "cell_type": "code",
   "execution_count": 3,
   "metadata": {
    "ExecuteTime": {
     "end_time": "2018-03-21T09:56:17.554456Z",
     "start_time": "2018-03-21T09:56:17.550063Z"
    },
    "collapsed": true
   },
   "outputs": [],
   "source": [
    "edges = [\n",
    " (1, 'B', 'C'),\n",
    " (2, 'D', 'C'),\n",
    " (2, 'A', 'B'),\n",
    " (1, 'C', 'B'),\n",
    " (3, 'A', 'D'),\n",
    " (2, 'C', 'D'),\n",
    " (3, 'D', 'E'),\n",
    " (2, 'B', 'E'),\n",
    " (1, 'C', 'E'),\n",
    " (2, 'B', 'A'),\n",
    " (2, 'D', 'A')]"
   ]
  },
  {
   "cell_type": "markdown",
   "metadata": {},
   "source": [
    "We can easily turn one representation in the other (with a time complexity proportional to the number of edges) using the provided functions `edges_to_adj_list` and `adj_list_to_edges`."
   ]
  },
  {
   "cell_type": "code",
   "execution_count": 4,
   "metadata": {
    "ExecuteTime": {
     "end_time": "2018-03-21T09:56:18.079140Z",
     "start_time": "2018-03-21T09:56:18.074453Z"
    },
    "collapsed": true
   },
   "outputs": [],
   "source": [
    "from minimumspanningtrees import edges_to_adj_list, adj_list_to_edges"
   ]
  },
  {
   "cell_type": "code",
   "execution_count": 5,
   "metadata": {
    "ExecuteTime": {
     "end_time": "2018-03-21T09:56:18.301558Z",
     "start_time": "2018-03-21T09:56:18.296510Z"
    },
    "scrolled": true
   },
   "outputs": [
    {
     "data": {
      "text/plain": [
       "[(2, 'B', 'A'),\n",
       " (2, 'D', 'A'),\n",
       " (2, 'A', 'B'),\n",
       " (1, 'C', 'B'),\n",
       " (1, 'B', 'C'),\n",
       " (2, 'D', 'C'),\n",
       " (3, 'A', 'D'),\n",
       " (2, 'C', 'D'),\n",
       " (3, 'D', 'E'),\n",
       " (1, 'C', 'E'),\n",
       " (2, 'B', 'E')]"
      ]
     },
     "execution_count": 5,
     "metadata": {},
     "output_type": "execute_result"
    }
   ],
   "source": [
    "adj_list_to_edges(graph)"
   ]
  },
  {
   "cell_type": "code",
   "execution_count": 89,
   "metadata": {
    "ExecuteTime": {
     "end_time": "2018-03-21T10:20:31.194229Z",
     "start_time": "2018-03-21T10:20:31.162346Z"
    }
   },
   "outputs": [
    {
     "data": {
      "text/plain": [
       "{'Atlanta': {(1, 'Nashville'),\n",
       "  (2, 'Charleston'),\n",
       "  (2, 'Raleigh'),\n",
       "  (4, 'New Orleans'),\n",
       "  (5, 'Miami')},\n",
       " 'Boston': {(2, 'Montreal'), (2, 'New York')},\n",
       " 'Calcary': {(3, 'Vancouver'), (4, 'Helena'), (4, 'Seattle'), (6, 'Winnipec')},\n",
       " 'Charleston': {(2, 'Atlanta'), (2, 'Raleigh'), (4, 'Miami')},\n",
       " 'Chicago': {(2, 'Saint Louis'),\n",
       "  (3, 'Duluth'),\n",
       "  (3, 'Pittsburg'),\n",
       "  (4, 'Omaha'),\n",
       "  (4, 'Toronto')},\n",
       " 'Dallas': {(1, 'Houston'),\n",
       "  (2, 'Little Rock'),\n",
       "  (2, 'Oklahoma City'),\n",
       "  (4, 'El Paso')},\n",
       " 'Denver': {(2, 'Santa Fe'),\n",
       "  (3, 'Salt Lake City'),\n",
       "  (4, 'Helena'),\n",
       "  (4, 'Kansas City'),\n",
       "  (4, 'Oklahoma City'),\n",
       "  (4, 'Omaha'),\n",
       "  (5, 'Phoenix')},\n",
       " 'Duluth': {(2, 'Omaha'),\n",
       "  (3, 'Chicago'),\n",
       "  (3, 'Sault St. Marie'),\n",
       "  (4, 'Winnipec'),\n",
       "  (6, 'Helena'),\n",
       "  (6, 'Toronto')},\n",
       " 'El Paso': {(2, 'Santa Fe'),\n",
       "  (3, 'Phoenix'),\n",
       "  (4, 'Dallas'),\n",
       "  (5, 'Oklahoma City'),\n",
       "  (6, 'Houston'),\n",
       "  (6, 'Los Angeles')},\n",
       " 'Helena': {(3, 'Salt Lake City'),\n",
       "  (4, 'Calcary'),\n",
       "  (4, 'Denver'),\n",
       "  (4, 'Winnipec'),\n",
       "  (5, 'Omaha'),\n",
       "  (6, 'Duluth'),\n",
       "  (6, 'Seattle')},\n",
       " 'Houston': {(1, 'Dallas'), (2, 'New Orleans'), (6, 'El Paso')},\n",
       " 'Kansas City': {(1, 'Omaha'),\n",
       "  (2, 'Oklahoma City'),\n",
       "  (2, 'Saint Louis'),\n",
       "  (4, 'Denver')},\n",
       " 'Las Vegas': {(2, 'Los Angeles'), (3, 'Salt Lake City')},\n",
       " 'Little Rock': {(2, 'Dallas'),\n",
       "  (2, 'Oklahoma City'),\n",
       "  (2, 'Saint Louis'),\n",
       "  (3, 'Nashville'),\n",
       "  (3, 'New Orleans')},\n",
       " 'Los Angeles': {(2, 'Las Vegas'),\n",
       "  (3, 'Phoenix'),\n",
       "  (3, 'San Francisco'),\n",
       "  (6, 'El Paso')},\n",
       " 'Miami': {(4, 'Charleston'), (5, 'Atlanta'), (6, 'New Orleans')},\n",
       " 'Montreal': {(2, 'Boston'),\n",
       "  (3, 'New York'),\n",
       "  (3, 'Toronto'),\n",
       "  (5, 'Sault St. Marie')},\n",
       " 'Nashville': {(1, 'Atlanta'),\n",
       "  (2, 'Saint Louis'),\n",
       "  (3, 'Little Rock'),\n",
       "  (3, 'Raleigh'),\n",
       "  (4, 'Pittsburg')},\n",
       " 'New Orleans': {(2, 'Houston'),\n",
       "  (3, 'Little Rock'),\n",
       "  (4, 'Atlanta'),\n",
       "  (6, 'Miami')},\n",
       " 'New York': {(2, 'Boston'),\n",
       "  (2, 'Pittsburg'),\n",
       "  (2, 'Washington'),\n",
       "  (3, 'Montreal')},\n",
       " 'Oklahoma City': {(2, 'Dallas'),\n",
       "  (2, 'Kansas City'),\n",
       "  (2, 'Little Rock'),\n",
       "  (3, 'Santa Fe'),\n",
       "  (4, 'Denver'),\n",
       "  (5, 'El Paso')},\n",
       " 'Omaha': {(1, 'Kansas City'),\n",
       "  (2, 'Duluth'),\n",
       "  (4, 'Chicago'),\n",
       "  (4, 'Denver'),\n",
       "  (5, 'Helena')},\n",
       " 'Phoenix': {(3, 'El Paso'),\n",
       "  (3, 'Los Angeles'),\n",
       "  (3, 'Santa Fe'),\n",
       "  (5, 'Denver')},\n",
       " 'Pittsburg': {(2, 'New York'),\n",
       "  (2, 'Raleigh'),\n",
       "  (2, 'Toronto'),\n",
       "  (2, 'Washington'),\n",
       "  (3, 'Chicago'),\n",
       "  (4, 'Nashville'),\n",
       "  (5, 'Saint Louis')},\n",
       " 'Portland': {(1, 'Seattle'), (5, 'San Francisco'), (6, 'Salt Lake City')},\n",
       " 'Raleigh': {(2, 'Atlanta'),\n",
       "  (2, 'Charleston'),\n",
       "  (2, 'Pittsburg'),\n",
       "  (2, 'Washington'),\n",
       "  (3, 'Nashville')},\n",
       " 'Saint Louis': {(2, 'Chicago'),\n",
       "  (2, 'Kansas City'),\n",
       "  (2, 'Little Rock'),\n",
       "  (2, 'Nashville'),\n",
       "  (5, 'Pittsburg')},\n",
       " 'Salt Lake City': {(3, 'Denver'),\n",
       "  (3, 'Helena'),\n",
       "  (3, 'Las Vegas'),\n",
       "  (5, 'San Francisco'),\n",
       "  (6, 'Portland')},\n",
       " 'San Francisco': {(3, 'Los Angeles'), (5, 'Portland'), (5, 'Salt Lake City')},\n",
       " 'Santa Fe': {(2, 'Denver'),\n",
       "  (2, 'El Paso'),\n",
       "  (3, 'Oklahoma City'),\n",
       "  (3, 'Phoenix')},\n",
       " 'Sault St. Marie': {(3, 'Duluth'), (5, 'Montreal'), (6, 'Winnipec')},\n",
       " 'Seattle': {(1, 'Portland'), (1, 'Vancouver'), (4, 'Calcary'), (6, 'Helena')},\n",
       " 'Toronto': {(2, 'Pittsburg'), (3, 'Montreal'), (4, 'Chicago'), (6, 'Duluth')},\n",
       " 'Vancouver': {(1, 'Seattle'), (3, 'Calcary')},\n",
       " 'Washington': {(2, 'New York'), (2, 'Pittsburg'), (2, 'Raleigh')},\n",
       " 'Winnipec': {(4, 'Duluth'),\n",
       "  (4, 'Helena'),\n",
       "  (6, 'Calcary'),\n",
       "  (6, 'Sault St. Marie')}}"
      ]
     },
     "execution_count": 89,
     "metadata": {},
     "output_type": "execute_result"
    }
   ],
   "source": [
    "edges_to_adj_list(edges)"
   ]
  },
  {
   "cell_type": "markdown",
   "metadata": {},
   "source": [
    "## Disjoint-set data structure\n",
    "\n",
    "Implementing an algorithm for finding the minimum spanning tree is fairly straightforward. The only bottleneck is that the algorithm requires the a disjoint-set data structure to keep track of a set partitioned in a number of disjoined subsets.\n",
    "\n",
    "For example, consider the following inital set of eight elements.\n",
    "\n",
    "![](Figures/disjointset1.png)\n",
    "\n",
    "We decide to group elements A, B and C together in a subset and F and G in another subset.\n",
    "\n",
    "![](Figures/disjointset2.png)\n",
    "\n",
    "The disjoint-set data structure support the following operations:\n",
    "\n",
    "- **Find**: check which subset an element is in. Is typically used to check whether two objects are in the same subset;\n",
    "- **Union** merges two subsets into a single subset.\n",
    "\n",
    "A python implementation of a disjoint-set is available using an union-set forest. A simple example will make everything clear!"
   ]
  },
  {
   "cell_type": "code",
   "execution_count": 7,
   "metadata": {
    "ExecuteTime": {
     "end_time": "2018-03-21T09:56:20.600036Z",
     "start_time": "2018-03-21T09:56:20.568316Z"
    },
    "collapsed": true
   },
   "outputs": [],
   "source": [
    "from union_set_forest import USF\n",
    "\n",
    "animals = ['mouse', 'bat', 'robin', 'trout', 'seagull', 'hummingbird',\n",
    "           'salmon', 'goldfish', 'hippopotamus', 'whale', 'sparrow']\n",
    "union_set_forest = USF(animals)\n",
    "\n",
    "# group mammals together\n",
    "union_set_forest.union('mouse', 'bat')\n",
    "union_set_forest.union('mouse', 'hippopotamus')\n",
    "union_set_forest.union('whale', 'bat')\n",
    "\n",
    "# group birds together\n",
    "union_set_forest.union('robin', 'seagull')\n",
    "union_set_forest.union('seagull', 'sparrow')\n",
    "union_set_forest.union('seagull', 'hummingbird')\n",
    "union_set_forest.union('robin', 'hummingbird')\n",
    "\n",
    "# group fishes together\n",
    "union_set_forest.union('goldfish', 'salmon')\n",
    "union_set_forest.union('trout', 'salmon')"
   ]
  },
  {
   "cell_type": "code",
   "execution_count": 8,
   "metadata": {
    "ExecuteTime": {
     "end_time": "2018-03-21T09:56:20.763457Z",
     "start_time": "2018-03-21T09:56:20.755238Z"
    }
   },
   "outputs": [
    {
     "name": "stdout",
     "output_type": "stream",
     "text": [
      "True\n"
     ]
    }
   ],
   "source": [
    "# mouse and whale in same subset?\n",
    "print(union_set_forest.find('mouse') == union_set_forest.find('whale'))"
   ]
  },
  {
   "cell_type": "code",
   "execution_count": 9,
   "metadata": {
    "ExecuteTime": {
     "end_time": "2018-03-21T09:56:20.930315Z",
     "start_time": "2018-03-21T09:56:20.918971Z"
    }
   },
   "outputs": [
    {
     "name": "stdout",
     "output_type": "stream",
     "text": [
      "False\n"
     ]
    }
   ],
   "source": [
    "# robin and salmon in the same subset?\n",
    "print(union_set_forest.find('robin') == union_set_forest.find('salmon'))"
   ]
  },
  {
   "cell_type": "markdown",
   "metadata": {},
   "source": [
    "## Heap queue\n",
    "\n",
    "Can be used to find the minimum of a changing list without having to sort the list every update."
   ]
  },
  {
   "cell_type": "code",
   "execution_count": 10,
   "metadata": {
    "ExecuteTime": {
     "end_time": "2018-03-21T09:56:22.801885Z",
     "start_time": "2018-03-21T09:56:22.781204Z"
    }
   },
   "outputs": [
    {
     "name": "stdout",
     "output_type": "stream",
     "text": [
      "[(2, 'C'), (3, 'B'), (5, 'A'), (7, 'D')]\n"
     ]
    }
   ],
   "source": [
    "from heapq import heapify, heappop, heappush\n",
    "\n",
    "heap = [(5, 'A'), (3, 'B'), (2, 'C'), (7, 'D')]\n",
    "\n",
    "heapify(heap)  # turn in a heap\n",
    "\n",
    "print(heap)"
   ]
  },
  {
   "cell_type": "code",
   "execution_count": 11,
   "metadata": {
    "ExecuteTime": {
     "end_time": "2018-03-21T09:56:22.943351Z",
     "start_time": "2018-03-21T09:56:22.934819Z"
    }
   },
   "outputs": [
    {
     "name": "stdout",
     "output_type": "stream",
     "text": [
      "(2, 'C')\n"
     ]
    }
   ],
   "source": [
    "# return item lowest value while retaining heap property\n",
    "print(heappop(heap))"
   ]
  },
  {
   "cell_type": "code",
   "execution_count": 12,
   "metadata": {
    "ExecuteTime": {
     "end_time": "2018-03-21T09:56:23.094466Z",
     "start_time": "2018-03-21T09:56:23.085167Z"
    }
   },
   "outputs": [
    {
     "name": "stdout",
     "output_type": "stream",
     "text": [
      "[(3, 'B'), (7, 'D'), (5, 'A')]\n"
     ]
    }
   ],
   "source": [
    "print(heap)"
   ]
  },
  {
   "cell_type": "code",
   "execution_count": 13,
   "metadata": {
    "ExecuteTime": {
     "end_time": "2018-03-21T09:56:23.196904Z",
     "start_time": "2018-03-21T09:56:23.193880Z"
    }
   },
   "outputs": [
    {
     "name": "stdout",
     "output_type": "stream",
     "text": [
      "[(3, 'B'), (4, 'E'), (5, 'A'), (7, 'D')]\n"
     ]
    }
   ],
   "source": [
    "# add new item and retain heap prop\n",
    "heappush(heap, (4, 'E'))\n",
    "print(heap)"
   ]
  },
  {
   "cell_type": "markdown",
   "metadata": {},
   "source": [
    "## Prim's algorithm\n",
    "\n",
    "Prim's algorithm starts with a single vertex and add $|V|-1$ edges to it, always taking the next edge with minimal weight that connects a vertex on the MST to a vertex not yet in the MST."
   ]
  },
  {
   "cell_type": "raw",
   "metadata": {},
   "source": [
    "from minimumspanningtrees import prim"
   ]
  },
  {
   "cell_type": "code",
   "execution_count": 146,
   "metadata": {
    "ExecuteTime": {
     "end_time": "2018-03-21T10:56:38.963841Z",
     "start_time": "2018-03-21T10:56:38.922926Z"
    }
   },
   "outputs": [],
   "source": [
    "def prim(vertices, edges, start):\n",
    "    \"\"\"\n",
    "    Prim's algorithm for finding a minimum spanning tree.\n",
    "\n",
    "    Inputs :\n",
    "        - vertices : a set of the vertices of the Graph\n",
    "        - edges : a list of weighted edges (e.g. (0.7, 'A', 'B') for an\n",
    "                    edge from node A to node B with weigth 0.7)\n",
    "        - start : an edge to start with\n",
    "\n",
    "    Output:\n",
    "        - edges : a minumum spanning tree represented as a list of edges\n",
    "        - total_cost : total cost of the tree\n",
    "    \"\"\"\n",
    "    vertex = start\n",
    "    total_cost = 0\n",
    "    \n",
    "    adj_list = edges_to_adj_list(edges)  # easier using an adjacency list\n",
    "    \n",
    "    A = []\n",
    "    H = list(adj_list[vertex])\n",
    "    heapify(H)\n",
    "    S=set([start])\n",
    "    edge_list=[]\n",
    "    \n",
    "    while len(H)>0:\n",
    "            temp_low = heappop(H)\n",
    "            if temp_low[1] not in S:\n",
    "                edge_list.append((vertex,temp_low[1]))\n",
    "                vertex = temp_low[1]\n",
    "                A.append(temp_low)\n",
    "                S.add(vertex)\n",
    "                total_cost += temp_low[0]\n",
    "                for element in adj_list[vertex]: heappush(H, element) \n",
    "    return edge_list, total_cost"
   ]
  },
  {
   "cell_type": "code",
   "execution_count": 147,
   "metadata": {
    "ExecuteTime": {
     "end_time": "2018-03-21T10:56:39.461245Z",
     "start_time": "2018-03-21T10:56:39.449096Z"
    }
   },
   "outputs": [
    {
     "data": {
      "text/plain": [
       "([('Atlanta', 'Nashville'),\n",
       "  ('Nashville', 'Charleston'),\n",
       "  ('Charleston', 'Raleigh'),\n",
       "  ('Raleigh', 'Pittsburg'),\n",
       "  ('Pittsburg', 'New York'),\n",
       "  ('New York', 'Boston'),\n",
       "  ('Boston', 'Montreal'),\n",
       "  ('Montreal', 'Saint Louis'),\n",
       "  ('Saint Louis', 'Chicago'),\n",
       "  ('Chicago', 'Kansas City'),\n",
       "  ('Kansas City', 'Omaha'),\n",
       "  ('Omaha', 'Duluth'),\n",
       "  ('Duluth', 'Little Rock'),\n",
       "  ('Little Rock', 'Dallas'),\n",
       "  ('Dallas', 'Houston'),\n",
       "  ('Houston', 'New Orleans'),\n",
       "  ('New Orleans', 'Oklahoma City'),\n",
       "  ('Oklahoma City', 'Toronto'),\n",
       "  ('Toronto', 'Washington'),\n",
       "  ('Washington', 'Santa Fe'),\n",
       "  ('Santa Fe', 'Denver'),\n",
       "  ('Denver', 'El Paso'),\n",
       "  ('El Paso', 'Phoenix'),\n",
       "  ('Phoenix', 'Los Angeles'),\n",
       "  ('Los Angeles', 'Las Vegas'),\n",
       "  ('Las Vegas', 'Salt Lake City'),\n",
       "  ('Salt Lake City', 'Helena'),\n",
       "  ('Helena', 'San Francisco'),\n",
       "  ('San Francisco', 'Sault St. Marie'),\n",
       "  ('Sault St. Marie', 'Calcary'),\n",
       "  ('Calcary', 'Vancouver'),\n",
       "  ('Vancouver', 'Seattle'),\n",
       "  ('Seattle', 'Portland'),\n",
       "  ('Portland', 'Miami'),\n",
       "  ('Miami', 'Winnipec')],\n",
       " 79)"
      ]
     },
     "execution_count": 147,
     "metadata": {},
     "output_type": "execute_result"
    }
   ],
   "source": [
    "prim(vertices,edges,'Atlanta')"
   ]
  },
  {
   "cell_type": "markdown",
   "metadata": {},
   "source": [
    "## Kruskal's algorithm\n",
    "\n",
    "\n",
    "Kruskal's algorithm is a very simple algorithm to find the minimum spanning tree. The main idea is to start with an intial 'forest' of the individual nodes of the graph. In each step of the algorithm we add an edge with the smallest possible value that connects two disjoint trees in the forest. This process is continued until we have a single tree, which is a minimum spanning tree, or until all edges are considered. In the latter case, the algoritm returns a minimum spanning forest."
   ]
  },
  {
   "cell_type": "code",
   "execution_count": 124,
   "metadata": {
    "ExecuteTime": {
     "end_time": "2018-03-21T10:43:41.523216Z",
     "start_time": "2018-03-21T10:43:41.517497Z"
    },
    "collapsed": true
   },
   "outputs": [],
   "source": [
    "from minimumspanningtrees import kruskal"
   ]
  },
  {
   "cell_type": "code",
   "execution_count": null,
   "metadata": {
    "collapsed": true
   },
   "outputs": [],
   "source": [
    "def kruskal(vertices, edges):\n",
    "    \"\"\"\n",
    "    Kruskal's algorithm for finding a minimum spanning tree.\n",
    "\n",
    "    Inputs :\n",
    "        - vertices : a set of the vertices of the Graph\n",
    "        - edges : a list of weighted edges (e.g. (0.7, 'A', 'B') for an\n",
    "                    edge from node A to node B with weigth 0.7)\n",
    "\n",
    "    Output:\n",
    "        - edges : a minumum spanning tree represented as a list of edges\n",
    "        - total_cost : total cost of the tree\n",
    "    \"\"\"\n",
    "    ...  # to complete\n",
    "    return mst_edges, total_cost"
   ]
  },
  {
   "cell_type": "code",
   "execution_count": 133,
   "metadata": {
    "ExecuteTime": {
     "end_time": "2018-03-21T10:52:00.338163Z",
     "start_time": "2018-03-21T10:52:00.329771Z"
    },
    "collapsed": true
   },
   "outputs": [],
   "source": [
    "from tickettoride import vertices, edges"
   ]
  },
  {
   "cell_type": "code",
   "execution_count": null,
   "metadata": {
    "collapsed": true
   },
   "outputs": [],
   "source": [
    "print(vertices)"
   ]
  },
  {
   "cell_type": "code",
   "execution_count": null,
   "metadata": {
    "collapsed": true
   },
   "outputs": [],
   "source": [
    "print(edges[:5])"
   ]
  },
  {
   "cell_type": "code",
   "execution_count": null,
   "metadata": {
    "collapsed": true
   },
   "outputs": [],
   "source": [
    "# compute the minimum spanning tree of the ticket to ride data set\n",
    "..."
   ]
  },
  {
   "cell_type": "markdown",
   "metadata": {},
   "source": [
    "## Clustering\n",
    "\n",
    "Minimum spanning trees on a distance graph can be used to cluster a data set."
   ]
  },
  {
   "cell_type": "code",
   "execution_count": 150,
   "metadata": {
    "ExecuteTime": {
     "end_time": "2018-03-21T10:57:22.324922Z",
     "start_time": "2018-03-21T10:57:22.315264Z"
    }
   },
   "outputs": [],
   "source": [
    "# import features and distance\n",
    "from clustering import X, D"
   ]
  },
  {
   "cell_type": "code",
   "execution_count": 151,
   "metadata": {
    "ExecuteTime": {
     "end_time": "2018-03-21T10:57:22.643185Z",
     "start_time": "2018-03-21T10:57:22.477084Z"
    }
   },
   "outputs": [
    {
     "data": {
      "text/plain": [
       "<matplotlib.collections.PathCollection at 0x7fa525c507f0>"
      ]
     },
     "execution_count": 151,
     "metadata": {},
     "output_type": "execute_result"
    },
    {
     "data": {
      "image/png": "[encoded data removed]",
      "text/plain": [
       "<matplotlib.figure.Figure at 0x7fa5257b8b70>"
      ]
     },
     "metadata": {},
     "output_type": "display_data"
    }
   ],
   "source": [
    "fig, ax = plt.subplots()\n",
    "ax.scatter(X[:,0], X[:,1], color=green)"
   ]
  },
  {
   "cell_type": "code",
   "execution_count": 153,
   "metadata": {
    "ExecuteTime": {
     "end_time": "2018-03-21T10:57:24.381787Z",
     "start_time": "2018-03-21T10:57:24.353237Z"
    }
   },
   "outputs": [],
   "source": [
    "# cluster the data based on the distance\n",
    "edges = []\n",
    "for i in range(0,D.shape[0]):\n",
    "    for j in range(0,D.shape[1]):\n",
    "        if i != j:\n",
    "            edges.append((D[i,j],i,j))\n",
    "\n",
    "vertices = set([i for i in range(0,D.shape[0])])\n",
    "#A, total_cost = prim(X,D, X[0])"
   ]
  },
  {
   "cell_type": "code",
   "execution_count": 154,
   "metadata": {
    "ExecuteTime": {
     "end_time": "2018-03-21T10:57:25.147517Z",
     "start_time": "2018-03-21T10:57:24.985534Z"
    }
   },
   "outputs": [],
   "source": [
    "edge_list, cost = prim(vertices,edges,100)"
   ]
  },
  {
   "cell_type": "code",
   "execution_count": 123,
   "metadata": {
    "ExecuteTime": {
     "end_time": "2018-03-21T10:38:07.227693Z",
     "start_time": "2018-03-21T10:38:06.733403Z"
    }
   },
   "outputs": [
    {
     "data": {
      "image/png": "[encoded data removed]",
      "text/plain": [
       "<matplotlib.figure.Figure at 0x7fa52560d5c0>"
      ]
     },
     "metadata": {},
     "output_type": "display_data"
    }
   ],
   "source": [
    "fig, ax = plt.subplots()\n",
    "for i in range(0,len(edge_list)-1):\n",
    "    plt.plot([X[edge_list[i][1],0],X[edge_list[i+1][1],0]],[X[edge_list[i][1],1],X[edge_list[i+1][1],1]])"
   ]
  },
  {
   "cell_type": "code",
   "execution_count": 105,
   "metadata": {
    "ExecuteTime": {
     "end_time": "2018-03-21T10:26:54.491300Z",
     "start_time": "2018-03-21T10:26:54.355355Z"
    }
   },
   "outputs": [],
   "source": [
    "A,B = prim(vertices,edges,0)"
   ]
  },
  {
   "cell_type": "code",
   "execution_count": 106,
   "metadata": {
    "ExecuteTime": {
     "end_time": "2018-03-21T10:26:57.842239Z",
     "start_time": "2018-03-21T10:26:57.833101Z"
    }
   },
   "outputs": [
    {
     "data": {
      "text/plain": [
       "[(0.063589015437690397, 169),\n",
       " (0.044035902282844354, 119),\n",
       " (0.068033404890312899, 144),\n",
       " (0.029156089949783168, 113),\n",
       " (0.073328484284572767, 166),\n",
       " (0.072698784773677846, 44),\n",
       " (0.052933879789282351, 171),\n",
       " (0.097486111685746585, 114),\n",
       " (0.098850082141426432, 68),\n",
       " (0.028557992486676387, 20),\n",
       " (0.057189874682920208, 157),\n",
       " (0.046753443910879655, 30),\n",
       " (0.098799002130847774, 179),\n",
       " (0.10725047724512547, 150),\n",
       " (0.046573681668905541, 70),\n",
       " (0.066438672572789029, 53),\n",
       " (0.15220790431429235, 118),\n",
       " (0.15754443802050275, 19),\n",
       " (0.19622871808323086, 61),\n",
       " (0.10918677806644134, 105),\n",
       " (0.022457248171279458, 172),\n",
       " (0.060393279769613763, 38),\n",
       " (0.15716331488463448, 69),\n",
       " (0.022608290909657373, 62),\n",
       " (0.044294409150583698, 190),\n",
       " (0.038468165819979472, 152),\n",
       " (0.026643162965396337, 178),\n",
       " (0.081461452784217167, 197),\n",
       " (0.091521997887972203, 194),\n",
       " (0.051375563281570377, 120),\n",
       " (0.088857279488446336, 112),\n",
       " (0.059486280680812943, 86),\n",
       " (0.09777331525099188, 100),\n",
       " (0.12476572373120438, 37),\n",
       " (0.14267355248561689, 82),\n",
       " (0.13556278761027221, 116),\n",
       " (0.15263006346412533, 102),\n",
       " (0.04313969348031009, 81),\n",
       " (0.11267937064048228, 131),\n",
       " (0.074711686050771373, 6),\n",
       " (0.14025792174600385, 121),\n",
       " (0.049932682894439175, 78),\n",
       " (0.099913296844595129, 23),\n",
       " (0.095974633171930654, 90),\n",
       " (0.087512879022609097, 50),\n",
       " (0.092109017610975272, 177),\n",
       " (0.15485743769720428, 35),\n",
       " (0.16892758146074066, 13),\n",
       " (0.024977894577471148, 106),\n",
       " (0.014114076786281779, 71),\n",
       " (0.054427822302135193, 125),\n",
       " (0.11726842686042256, 176),\n",
       " (0.19800961900982719, 139),\n",
       " (0.076969019651172615, 67),\n",
       " (0.093326545929177079, 57),\n",
       " (0.10497791007651348, 41),\n",
       " (0.05721511222768124, 3),\n",
       " (0.047933500931849997, 185),\n",
       " (0.12788451446931276, 46),\n",
       " (0.072989362503994959, 109),\n",
       " (0.054905357019187098, 77),\n",
       " (0.027978989812455893, 163),\n",
       " (0.010968917312495535, 142),\n",
       " (0.030382175244335102, 75),\n",
       " (0.094651564169599495, 14),\n",
       " (0.07075223732598411, 40),\n",
       " (0.048221954601362846, 60),\n",
       " (0.074703523376227543, 148),\n",
       " (0.11843423125487046, 79),\n",
       " (0.10201268243486958, 136),\n",
       " (0.13257326461440294, 95),\n",
       " (0.16964175314854449, 52),\n",
       " (0.032959404141747389, 51),\n",
       " (0.17748490037958042, 167),\n",
       " (0.031248335964593317, 134),\n",
       " (0.073756306549016298, 117),\n",
       " (0.026022218901049991, 49),\n",
       " (0.032722678005335244, 83),\n",
       " (0.0079043793450007654, 159),\n",
       " (0.025836242474082709, 162),\n",
       " (0.080162522243441975, 15),\n",
       " (0.047870389215871861, 87),\n",
       " (0.08024247310606393, 66),\n",
       " (0.12161824027060814, 18),\n",
       " (0.037572841911490761, 189),\n",
       " (0.066834256983827708, 141),\n",
       " (0.11293556922595063, 183),\n",
       " (0.088191637640223142, 192),\n",
       " (0.10903073774258923, 195),\n",
       " (0.025289303477278299, 59),\n",
       " (0.1164424300487768, 175),\n",
       " (0.07518344449522385, 98),\n",
       " (0.054704005613202572, 184),\n",
       " (0.052617343823636732, 122),\n",
       " (0.057722077766378353, 198),\n",
       " (0.051495319237086376, 124),\n",
       " (0.074273997472662473, 127),\n",
       " (0.083983629106120478, 180),\n",
       " (0.087083213563773618, 140),\n",
       " (0.10502323345074813, 158),\n",
       " (0.13756586223495232, 107),\n",
       " (0.15309954512917737, 191),\n",
       " (0.16081468041601935, 196),\n",
       " (0.16453865902011788, 103),\n",
       " (0.066498984314014936, 181),\n",
       " (0.032455906002430306, 182),\n",
       " (0.070305087402318445, 94),\n",
       " (0.061001948078380178, 73),\n",
       " (0.032352469616682464, 123),\n",
       " (0.098533114145913189, 147),\n",
       " (0.069700276140508916, 111),\n",
       " (0.10937514945272844, 16),\n",
       " (0.16192570615603677, 115),\n",
       " (0.031656879745584655, 128),\n",
       " (0.11220915311348792, 138),\n",
       " (0.14559216273315528, 164),\n",
       " (0.06360335251966602, 74),\n",
       " (0.078513999484263505, 99),\n",
       " (0.073876674105065029, 9),\n",
       " (0.16005668127020919, 156),\n",
       " (0.082295309029705291, 36),\n",
       " (0.062765161770271735, 39),\n",
       " (0.029936991465389091, 126),\n",
       " (0.031994365171276559, 56),\n",
       " (0.084771233681123812, 92),\n",
       " (0.071680597334898274, 187),\n",
       " (0.12136902280607006, 55),\n",
       " (0.074987458685805836, 33),\n",
       " (0.1195887932964453, 93),\n",
       " (0.071916486618638253, 132),\n",
       " (0.05053401341523521, 143),\n",
       " (0.060046901689091547, 88),\n",
       " (0.074886002348515043, 72),\n",
       " (0.076783103112616699, 4),\n",
       " (0.091188540077167868, 160),\n",
       " (0.12689192727498427, 48),\n",
       " (0.074387334383837739, 96),\n",
       " (0.13303335750663101, 34),\n",
       " (0.14229095442703565, 10),\n",
       " (0.057665994141890498, 31),\n",
       " (0.14588561319991908, 84),\n",
       " (0.095739366679890858, 174),\n",
       " (0.12231576864711166, 97),\n",
       " (0.025039665137201756, 32),\n",
       " (0.047200684719708993, 28),\n",
       " (0.049763997965382757, 5),\n",
       " (0.095128127764145212, 193),\n",
       " (0.10708032508450861, 58),\n",
       " (0.17111459666513265, 25),\n",
       " (0.0029383809084749749, 80),\n",
       " (0.18039025643163803, 42),\n",
       " (0.20110824670850661, 153),\n",
       " (0.086742954612056417, 89),\n",
       " (0.11215354601414759, 22),\n",
       " (0.14274776885589463, 146),\n",
       " (0.019688849458204996, 199),\n",
       " (0.14114460014538011, 17),\n",
       " (0.052108396153883463, 91),\n",
       " (0.027192273148064817, 2),\n",
       " (0.074739618824301038, 47),\n",
       " (0.098561343841543872, 54),\n",
       " (0.031057539705328867, 8),\n",
       " (0.034473402307385187, 130),\n",
       " (0.061944976041519793, 29),\n",
       " (0.062645002456614945, 24),\n",
       " (0.023243530711417312, 188),\n",
       " (0.03739604957548702, 135),\n",
       " (0.035632722960354725, 26),\n",
       " (0.087499817728041218, 27),\n",
       " (0.044556202606326693, 151),\n",
       " (0.070019050048944043, 154),\n",
       " (0.038778497645714262, 170),\n",
       " (0.04743907376942804, 186),\n",
       " (0.069941950985856469, 45),\n",
       " (0.084804598759176009, 11),\n",
       " (0.078794960507945891, 76),\n",
       " (0.043394380552055342, 21),\n",
       " (0.0095151933037464897, 43),\n",
       " (0.12597919299764396, 145),\n",
       " (0.087260058372144594, 137),\n",
       " (0.071448146248729902, 104),\n",
       " (0.030356798455926114, 108),\n",
       " (0.072008978064394269, 129),\n",
       " (0.027735288544101649, 65),\n",
       " (0.048677670807278854, 168),\n",
       " (0.034417477096969948, 12),\n",
       " (0.06366757138372664, 155),\n",
       " (0.095293244920704151, 110),\n",
       " (0.1305592195924497, 161),\n",
       " (0.11986034274637955, 101),\n",
       " (0.14404359586898188, 165),\n",
       " (0.10733402070500082, 173),\n",
       " (0.14592523238755509, 7),\n",
       " (0.16415865371153932, 64),\n",
       " (0.1659063635712737, 63),\n",
       " (0.075955815911388641, 1),\n",
       " (0.17880612814107369, 85),\n",
       " (0.21239661220675651, 133),\n",
       " (0.15337592347994322, 149)]"
      ]
     },
     "execution_count": 106,
     "metadata": {},
     "output_type": "execute_result"
    }
   ],
   "source": [
    "A"
   ]
  },
  {
   "cell_type": "code",
   "execution_count": 160,
   "metadata": {
    "ExecuteTime": {
     "end_time": "2018-03-21T10:58:48.860835Z",
     "start_time": "2018-03-21T10:58:48.697312Z"
    },
    "collapsed": true
   },
   "outputs": [],
   "source": [
    "#edge_list, cost = kruskal(vertices,edges)\n",
    "edge_list, cost = prim(vertices,edges,0)"
   ]
  },
  {
   "cell_type": "code",
   "execution_count": 161,
   "metadata": {
    "ExecuteTime": {
     "end_time": "2018-03-21T10:58:55.572855Z",
     "start_time": "2018-03-21T10:58:55.252282Z"
    }
   },
   "outputs": [
    {
     "data": {
      "image/png": "[encoded data removed]",
      "text/plain": [
       "<matplotlib.figure.Figure at 0x7fa525b42c18>"
      ]
     },
     "metadata": {},
     "output_type": "display_data"
    }
   ],
   "source": [
    "fig, ax = plt.subplots()\n",
    "for i in range(0,len(edge_list)-1):\n",
    "    plt.plot([X[edge_list[i][0],0],X[edge_list[i][1],0]],[X[edge_list[i][0],1],X[edge_list[i+1][1],1]])"
   ]
  },
  {
   "cell_type": "code",
   "execution_count": null,
   "metadata": {
    "collapsed": true
   },
   "outputs": [],
   "source": []
  }
 ],
 "metadata": {
  "anaconda-cloud": {},
  "kernelspec": {
   "display_name": "Python 3",
   "language": "python",
   "name": "python3"
  },
  "language_info": {
   "codemirror_mode": {
    "name": "ipython",
    "version": 3
   },
   "file_extension": ".py",
   "mimetype": "text/x-python",
   "name": "python",
   "nbconvert_exporter": "python",
   "pygments_lexer": "ipython3",
   "version": "3.6.3"
  },
  "latex_envs": {
   "LaTeX_envs_menu_present": true,
   "autocomplete": true,
   "bibliofile": "biblio.bib",
   "cite_by": "apalike",
   "current_citInitial": 1,
   "eqLabelWithNumbers": true,
   "eqNumInitial": 1,
   "hotkeys": {
    "equation": "Ctrl-E",
    "itemize": "Ctrl-I"
   },
   "labels_anchors": false,
   "latex_user_defs": false,
   "report_style_numbering": false,
   "user_envs_cfg": false
  },
  "toc": {
   "nav_menu": {},
   "number_sections": true,
   "sideBar": true,
   "skip_h1_title": false,
   "toc_cell": false,
   "toc_position": {},
   "toc_section_display": "block",
   "toc_window_display": false
  }
 },
 "nbformat": 4,
 "nbformat_minor": 2
}
