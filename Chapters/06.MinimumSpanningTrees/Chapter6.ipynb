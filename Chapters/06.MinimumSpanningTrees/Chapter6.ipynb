{
 "cells": [
  {
   "cell_type": "markdown",
   "metadata": {},
   "source": [
    "# Minimum spanning trees\n",
    "\n",
    "*Selected Topics in Mathematical Optimization: 2017-2018*\n",
    "\n",
    "**Michiel Stock** ([email](michiel.stock@ugent.be))\n",
    "\n",
    "![](Figures/logo.png)"
   ]
  },
  {
   "cell_type": "code",
   "execution_count": 1,
   "metadata": {},
   "outputs": [],
   "source": [
    "import matplotlib.pyplot as plt\n",
    "%matplotlib inline\n",
    "from minimumspanningtrees import red, green, blue, orange, yellow"
   ]
  },
  {
   "cell_type": "markdown",
   "metadata": {},
   "source": [
    "## Graphs in python\n",
    "\n",
    "Consider the following example graph:\n",
    "\n",
    "![A small graph to show how to implement graphs in python.](Figures/graph.png)"
   ]
  },
  {
   "cell_type": "markdown",
   "metadata": {},
   "source": [
    "This graph can be represented using an *adjacency list*. We do this using a `dict`. Every vertex is a key with the adjacent vertices given as a `set` containing tuples `(weight, neighbor)`. The weight is first because this makes it easy to compare the weights of two edges. Note that for every ingoing edges, there is also an outgoing edge, this is an undirected graph."
   ]
  },
  {
   "cell_type": "code",
   "execution_count": 2,
   "metadata": {},
   "outputs": [],
   "source": [
    "graph = {\n",
    "    'A' : set([(2, 'B'), (2, 'D')]),\n",
    "    'B' : set([(2, 'A'), (1, 'C')]),\n",
    "    'C' : set([(1, 'B'), (2, 'D')]),\n",
    "    'D' : set([(2, 'C'), (3, 'A')]),\n",
    "    'E' : set([(2, 'B'), (1, 'C'), (3, 'D')])\n",
    "}"
   ]
  },
  {
   "cell_type": "markdown",
   "metadata": {},
   "source": [
    "Sometimes we will use an *edge list*, i.e. a list of (weighted) edges. This is often a more compact way of storing a graph. The edge list is given below. Note that again every edge is double: an in- and outgoing edge is included."
   ]
  },
  {
   "cell_type": "code",
   "execution_count": 8,
   "metadata": {},
   "outputs": [],
   "source": [
    "edges = [\n",
    " (1, 'B', 'C'),\n",
    " (2, 'D', 'C'),\n",
    " (2, 'A', 'B'),\n",
    " (1, 'C', 'B'),\n",
    " (3, 'A', 'D'),\n",
    " (2, 'C', 'D'),\n",
    " (3, 'D', 'E'),\n",
    " (2, 'B', 'E'),\n",
    " (1, 'C', 'E'),\n",
    " (2, 'B', 'A'),\n",
    " (2, 'D', 'A')]"
   ]
  },
  {
   "cell_type": "markdown",
   "metadata": {},
   "source": [
    "We can easily turn one representation in the other (with a time complexity proportional to the number of edges) using the provided functions `edges_to_adj_list` and `adj_list_to_edges`."
   ]
  },
  {
   "cell_type": "code",
   "execution_count": 3,
   "metadata": {},
   "outputs": [],
   "source": [
    "from minimumspanningtrees import edges_to_adj_list, adj_list_to_edges"
   ]
  },
  {
   "cell_type": "code",
   "execution_count": 7,
   "metadata": {
    "scrolled": true
   },
   "outputs": [
    {
     "data": {
      "text/plain": [
       "[(1, 'B', 'C'),\n",
       " (2, 'D', 'C'),\n",
       " (2, 'A', 'B'),\n",
       " (1, 'C', 'B'),\n",
       " (3, 'A', 'D'),\n",
       " (2, 'C', 'D'),\n",
       " (3, 'D', 'E'),\n",
       " (2, 'B', 'E'),\n",
       " (1, 'C', 'E'),\n",
       " (2, 'B', 'A'),\n",
       " (2, 'D', 'A')]"
      ]
     },
     "execution_count": 7,
     "metadata": {},
     "output_type": "execute_result"
    }
   ],
   "source": [
    "adj_list_to_edges(graph)"
   ]
  },
  {
   "cell_type": "code",
   "execution_count": 9,
   "metadata": {},
   "outputs": [
    {
     "data": {
      "text/plain": [
       "{'A': {(2, 'B'), (2, 'D'), (3, 'D')},\n",
       " 'B': {(1, 'C'), (2, 'A'), (2, 'E')},\n",
       " 'C': {(1, 'B'), (1, 'E'), (2, 'D')},\n",
       " 'D': {(2, 'A'), (2, 'C'), (3, 'A'), (3, 'E')},\n",
       " 'E': {(1, 'C'), (2, 'B'), (3, 'D')}}"
      ]
     },
     "execution_count": 9,
     "metadata": {},
     "output_type": "execute_result"
    }
   ],
   "source": [
    "edges_to_adj_list(edges)"
   ]
  },
  {
   "cell_type": "markdown",
   "metadata": {},
   "source": [
    "## Disjoint-set data structure\n",
    "\n",
    "Implementing an algorithm for finding the minimum spanning tree is fairly straightforward. The only bottleneck is that the algorithm requires the a disjoint-set data structure to keep track of a set partitioned in a number of disjoined subsets.\n",
    "\n",
    "For example, consider the following inital set of eight elements.\n",
    "\n",
    "![](Figures/disjointset1.png)\n",
    "\n",
    "We decide to group elements A, B and C together in a subset and F and G in another subset.\n",
    "\n",
    "![](Figures/disjointset2.png)\n",
    "\n",
    "The disjoint-set data structure support the following operations:\n",
    "\n",
    "- **Find**: check which subset an element is in. Is typically used to check whether two objects are in the same subset;\n",
    "- **Union** merges two subsets into a single subset.\n",
    "\n",
    "A python implementation of a disjoint-set is available using an union-set forest. A simple example will make everything clear!"
   ]
  },
  {
   "cell_type": "code",
   "execution_count": 10,
   "metadata": {},
   "outputs": [],
   "source": [
    "from union_set_forest import USF\n",
    "\n",
    "animals = ['mouse', 'bat', 'robin', 'trout', 'seagull', 'hummingbird',\n",
    "           'salmon', 'goldfish', 'hippopotamus', 'whale', 'sparrow']\n",
    "union_set_forest = USF(animals)\n",
    "\n",
    "# group mammals together\n",
    "union_set_forest.union('mouse', 'bat')\n",
    "union_set_forest.union('mouse', 'hippopotamus')\n",
    "union_set_forest.union('whale', 'bat')\n",
    "\n",
    "# group birds together\n",
    "union_set_forest.union('robin', 'seagull')\n",
    "union_set_forest.union('seagull', 'sparrow')\n",
    "union_set_forest.union('seagull', 'hummingbird')\n",
    "union_set_forest.union('robin', 'hummingbird')\n",
    "\n",
    "# group fishes together\n",
    "union_set_forest.union('goldfish', 'salmon')\n",
    "union_set_forest.union('trout', 'salmon')"
   ]
  },
  {
   "cell_type": "code",
   "execution_count": 11,
   "metadata": {},
   "outputs": [
    {
     "name": "stdout",
     "output_type": "stream",
     "text": [
      "True\n"
     ]
    }
   ],
   "source": [
    "# mouse and whale in same subset?\n",
    "print(union_set_forest.find('mouse') == union_set_forest.find('whale'))"
   ]
  },
  {
   "cell_type": "code",
   "execution_count": 12,
   "metadata": {},
   "outputs": [
    {
     "name": "stdout",
     "output_type": "stream",
     "text": [
      "False\n"
     ]
    }
   ],
   "source": [
    "# robin and salmon in the same subset?\n",
    "print(union_set_forest.find('robin') == union_set_forest.find('salmon'))"
   ]
  },
  {
   "cell_type": "markdown",
   "metadata": {},
   "source": [
    "## Heap queue\n",
    "\n",
    "Can be used to find the minimum of a changing list without having to sort the list every update."
   ]
  },
  {
   "cell_type": "code",
   "execution_count": 14,
   "metadata": {},
   "outputs": [
    {
     "name": "stdout",
     "output_type": "stream",
     "text": [
      "[(2, 'C'), (3, 'B'), (5, 'A'), (7, 'D')]\n"
     ]
    }
   ],
   "source": [
    "from heapq import heapify, heappop, heappush\n",
    "\n",
    "heap = [(5, 'A'), (3, 'B'), (2, 'C'), (7, 'D')]\n",
    "\n",
    "heapify(heap)  # turn in a heap\n",
    "\n",
    "print(heap)"
   ]
  },
  {
   "cell_type": "code",
   "execution_count": 15,
   "metadata": {},
   "outputs": [
    {
     "name": "stdout",
     "output_type": "stream",
     "text": [
      "(2, 'C')\n"
     ]
    }
   ],
   "source": [
    "# return item lowest value while retaining heap property\n",
    "print(heappop(heap))"
   ]
  },
  {
   "cell_type": "code",
   "execution_count": 16,
   "metadata": {},
   "outputs": [
    {
     "name": "stdout",
     "output_type": "stream",
     "text": [
      "[(3, 'B'), (7, 'D'), (5, 'A')]\n"
     ]
    }
   ],
   "source": [
    "print(heap)"
   ]
  },
  {
   "cell_type": "code",
   "execution_count": 17,
   "metadata": {},
   "outputs": [
    {
     "name": "stdout",
     "output_type": "stream",
     "text": [
      "[(3, 'B'), (4, 'E'), (5, 'A'), (7, 'D')]\n"
     ]
    }
   ],
   "source": [
    "# add new item and retain heap prop\n",
    "heappush(heap, (4, 'E'))\n",
    "print(heap)"
   ]
  },
  {
   "cell_type": "markdown",
   "metadata": {},
   "source": [
    "## Prim's algorithm\n",
    "\n",
    "Prim's algorithm starts with a single vertex and add $|V|-1$ edges to it, always taking the next edge with minimal weight that connects a vertex on the MST to a vertex not yet in the MST."
   ]
  },
  {
   "cell_type": "raw",
   "metadata": {},
   "source": [
    "from minimumspanningtrees import prim"
   ]
  },
  {
   "cell_type": "code",
   "execution_count": 18,
   "metadata": {},
   "outputs": [],
   "source": [
    "def prim(vertices, edges, start):\n",
    "    \"\"\"\n",
    "    Prim's algorithm for finding a minimum spanning tree.\n",
    "\n",
    "    Inputs :\n",
    "        - vertices : a set of the vertices of the Graph\n",
    "        - edges : a list of weighted edges (e.g. (0.7, 'A', 'B') for an\n",
    "                    edge from node A to node B with weigth 0.7)\n",
    "        - start : an edge to start with\n",
    "\n",
    "    Output:\n",
    "        - edges : a minumum spanning tree represented as a list of edges\n",
    "        - total_cost : total cost of the tree\n",
    "    \"\"\"\n",
    "    adj_list = edges_to_adj_list(edges)  # easier using an adjacency list\n",
    "    \n",
    "    ... # to complete\n",
    "    return mst_edges, total_cost"
   ]
  },
  {
   "cell_type": "markdown",
   "metadata": {},
   "source": [
    "## Kruskal's algorithm\n",
    "\n",
    "\n",
    "Kruskal's algorithm is a very simple algorithm to find the minimum spanning tree. The main idea is to start with an intial 'forest' of the individual nodes of the graph. In each step of the algorithm we add an edge with the smallest possible value that connects two disjoint trees in the forest. This process is continued until we have a single tree, which is a minimum spanning tree, or until all edges are considered. In the latter case, the algoritm returns a minimum spanning forest."
   ]
  },
  {
   "cell_type": "raw",
   "metadata": {},
   "source": [
    "from minimumspanningtrees import kruskal"
   ]
  },
  {
   "cell_type": "code",
   "execution_count": null,
   "metadata": {},
   "outputs": [],
   "source": [
    "def kruskal(vertices, edges):\n",
    "    \"\"\"\n",
    "    Kruskal's algorithm for finding a minimum spanning tree.\n",
    "\n",
    "    Inputs :\n",
    "        - vertices : a set of the vertices of the Graph\n",
    "        - edges : a list of weighted edges (e.g. (0.7, 'A', 'B') for an\n",
    "                    edge from node A to node B with weigth 0.7)\n",
    "\n",
    "    Output:\n",
    "        - edges : a minumum spanning tree represented as a list of edges\n",
    "        - total_cost : total cost of the tree\n",
    "    \"\"\"\n",
    "    ...  # to complete\n",
    "    return mst_edges, total_cost"
   ]
  },
  {
   "cell_type": "code",
   "execution_count": 19,
   "metadata": {},
   "outputs": [],
   "source": [
    "from tickettoride import vertices, edges"
   ]
  },
  {
   "cell_type": "code",
   "execution_count": 21,
   "metadata": {},
   "outputs": [
    {
     "name": "stdout",
     "output_type": "stream",
     "text": [
      "{'Saint Louis', 'Vancouver', 'Duluth', 'Houston', 'Los Angeles', 'Raleigh', 'El Paso', 'Salt Lake City', ' Salt Lake City', 'Pittsburg', 'Oklahoma City', 'Winnipec', 'Portland', 'Phoenix', 'Santa Fe', 'Chicago', 'New Orleans', 'Las Vegas', 'San Francisco', 'Dallas', 'Little Rock', 'Denver', 'Kansas City', 'Atlanta', 'Seattle', 'Charleston', 'Washington', 'Toronto', 'Nashville', 'Calcary', 'Helena', 'New York', 'Sault St. Marie', 'Boston', 'Miami', 'Omaha', 'Montreal'}\n"
     ]
    }
   ],
   "source": [
    "print(vertices)"
   ]
  },
  {
   "cell_type": "code",
   "execution_count": null,
   "metadata": {},
   "outputs": [],
   "source": [
    "# compute the minimum spanning tree of the ticket to ride data set\n",
    "..."
   ]
  },
  {
   "cell_type": "markdown",
   "metadata": {},
   "source": [
    "## Clustering\n",
    "\n",
    "Minimum spanning trees on a distance graph can be used to cluster a data set."
   ]
  },
  {
   "cell_type": "code",
   "execution_count": 2,
   "metadata": {},
   "outputs": [
    {
     "data": {
      "image/png": "[encoded data removed]",
      "text/plain": [
       "<matplotlib.figure.Figure at 0x115edcef0>"
      ]
     },
     "metadata": {},
     "output_type": "display_data"
    }
   ],
   "source": [
    "# import features and distance\n",
    "from clustering import X, D"
   ]
  },
  {
   "cell_type": "code",
   "execution_count": 4,
   "metadata": {},
   "outputs": [
    {
     "data": {
      "text/plain": [
       "<matplotlib.collections.PathCollection at 0x116b9f240>"
      ]
     },
     "execution_count": 4,
     "metadata": {},
     "output_type": "execute_result"
    },
    {
     "data": {
      "image/png": "[encoded data removed]",
      "text/plain": [
       "<matplotlib.figure.Figure at 0x116b9f278>"
      ]
     },
     "metadata": {},
     "output_type": "display_data"
    }
   ],
   "source": [
    "fig, ax = plt.subplots()\n",
    "ax.scatter(X[:,0], X[:,1], color=green)"
   ]
  },
  {
   "cell_type": "code",
   "execution_count": null,
   "metadata": {},
   "outputs": [],
   "source": [
    "# cluster the data based on the distance"
   ]
  }
 ],
 "metadata": {
  "anaconda-cloud": {},
  "kernelspec": {
   "display_name": "Python 3",
   "language": "python",
   "name": "python3"
  },
  "language_info": {
   "codemirror_mode": {
    "name": "ipython",
    "version": 3
   },
   "file_extension": ".py",
   "mimetype": "text/x-python",
   "name": "python",
   "nbconvert_exporter": "python",
   "pygments_lexer": "ipython3",
   "version": "3.5.2"
  }
 },
 "nbformat": 4,
 "nbformat_minor": 2
}
