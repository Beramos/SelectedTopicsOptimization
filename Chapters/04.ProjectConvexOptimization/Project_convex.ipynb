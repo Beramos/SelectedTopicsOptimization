{
 "cells": [
  {
   "cell_type": "markdown",
   "metadata": {},
   "source": [
    "# Project convex optimization: oligomerization of proteins\n",
    "\n",
    "*Selected Topics in Mathematical Optimization: 2017-2018*\n",
    "\n",
    "**Michiel Stock** ([email](michiel.stock@ugent.be))\n",
    "\n",
    "![](Figures/logo.png)"
   ]
  },
  {
   "cell_type": "markdown",
   "metadata": {},
   "source": [
    "$X = += t \\delta X$\n",
    "\n",
    "$X = np.max(X, 10^{-10})$\n",
    "\n",
    "to make sure that concentrations are positive"
   ]
  },
  {
   "cell_type": "markdown",
   "metadata": {},
   "source": [
    "Daan Van Hauwermeiren, Bram De Jaegher"
   ]
  },
  {
   "cell_type": "code",
   "execution_count": 1,
   "metadata": {
    "ExecuteTime": {
     "end_time": "2018-03-10T19:35:36.353122Z",
     "start_time": "2018-03-10T19:35:36.041936Z"
    },
    "collapsed": true
   },
   "outputs": [],
   "source": [
    "import numpy as np\n",
    "import matplotlib.pyplot as plt \n",
    "import pandas as pd\n",
    "\n",
    "%matplotlib inline"
   ]
  },
  {
   "cell_type": "markdown",
   "metadata": {},
   "source": [
    "In this project we will study the association of protein complexes through the principle of **entropy maximization**. \n",
    "\n",
    "Consider the following three proteins: A, B and C:\n",
    "\n",
    "![Three monomeric proteins.](Figures/monomers.jpg)\n",
    "\n",
    "Each of these proteins has sites which it can use to reversible bind to other proteins. Two types of interactions can be distinguished:\n",
    "- **weak type I interactions**: protein A has one type I donor site, protein C has one type I acceptor site and protein B has both an acceptor and a donor site. In the figures, these sites are indicated as a triangle sticking in (acceptor) or out (donor) the protein.\n",
    "- **strong type II interaction**: protein A has one type II acceptor site and protein C has one type II donor site. These sites are depicted as two bumps sticking out or pressing in the protein."
   ]
  },
  {
   "cell_type": "markdown",
   "metadata": {},
   "source": [
    "These sites allow for dimerisation of the proteins. All possible homo- and hetero-dimers are shown below.\n",
    "\n",
    "![The proteins can form dimers according to their sites.](Figures/dimers.jpg)\n",
    "\n",
    "But tri-and tetramers can also be formed:\n",
    "\n",
    "![One trimer and three tetramers.](Figures/oligomers.jpg)\n",
    "\n",
    "Let us use one (monomer), two (dimer), three (trimer) and four (tetramer) character long strings to denote all possible conformations. Here we use the convention that the string $P_1P_2P_3P_4$ represents the tetramer\n",
    "$$\n",
    "\\left (\\begin{array}{cc}\n",
    "P_1 & P_2 \\\\\n",
    "P_4 & P_3\\end{array} \n",
    "\\right ) \\,.\n",
    "$$\n",
    "\n",
    "Note that in our notation, we have\n",
    "$$\n",
    "P_1P_2P_3P_4 = P_4P_1P_2P_3 = P_3P_4P_1P_2 = P_2P_3P_4P_1\\,,\n",
    "$$\n",
    "but\n",
    "$$\n",
    "P_1P_2P_3 \\neq P_3P_1P_2 \\neq P_2P_3P_1\\,.\n",
    "$$\n",
    "\n",
    "The following code identifies all unique mono-and oligomers."
   ]
  },
  {
   "cell_type": "code",
   "execution_count": 2,
   "metadata": {
    "ExecuteTime": {
     "end_time": "2018-03-10T19:35:38.291315Z",
     "start_time": "2018-03-10T19:35:38.270803Z"
    }
   },
   "outputs": [
    {
     "name": "stdout",
     "output_type": "stream",
     "text": [
      "There are 19 unique compounds\n"
     ]
    }
   ],
   "source": [
    "monomers = set(['A', 'B', 'C'])\n",
    "\n",
    "dimers = set(['AC', 'CB', 'CA', 'BA', 'BB'])\n",
    "\n",
    "trimers = set([dm1 + dm2[1] for dm1 in dimers\n",
    "               for dm2 in dimers if dm1[1:] == dm2[:-1]])\n",
    "\n",
    "tetramers = set([dm1 + dm2[2] for dm1 in trimers\n",
    "                 for dm2 in trimers if dm1[1:] == dm2[:-1]\n",
    "                 if dm2[-1] + dm1[0] in dimers])\n",
    "\n",
    "# some tetramers are counted multiple times, because our encoding is not unique\n",
    "# let us remove duplicates\n",
    "\n",
    "lowest_lexo = lambda polymer : sorted([polymer[i:] + polymer[:i] for i in range(len(polymer))])[0]\n",
    "tetramers = set(map(lowest_lexo, tetramers))\n",
    "\n",
    "compounds = monomers | dimers | trimers | tetramers\n",
    "compounds = list(compounds)\n",
    "compounds.sort()\n",
    "monomers =list(monomers)\n",
    "monomers.sort()\n",
    "\n",
    "print('There are {} unique compounds'.format(len(compounds)))"
   ]
  },
  {
   "cell_type": "code",
   "execution_count": 3,
   "metadata": {
    "ExecuteTime": {
     "end_time": "2018-03-10T19:35:39.138181Z",
     "start_time": "2018-03-10T19:35:39.133233Z"
    }
   },
   "outputs": [
    {
     "data": {
      "text/plain": [
       "['A', 'B', 'C']"
      ]
     },
     "execution_count": 3,
     "metadata": {},
     "output_type": "execute_result"
    }
   ],
   "source": [
    "monomers"
   ]
  },
  {
   "cell_type": "code",
   "execution_count": 4,
   "metadata": {
    "ExecuteTime": {
     "end_time": "2018-03-10T19:35:39.380245Z",
     "start_time": "2018-03-10T19:35:39.374689Z"
    },
    "scrolled": true
   },
   "outputs": [
    {
     "data": {
      "text/plain": [
       "['A',\n",
       " 'AC',\n",
       " 'ACA',\n",
       " 'ACAC',\n",
       " 'ACB',\n",
       " 'ACBB',\n",
       " 'B',\n",
       " 'BA',\n",
       " 'BAC',\n",
       " 'BB',\n",
       " 'BBA',\n",
       " 'BBB',\n",
       " 'BBBB',\n",
       " 'C',\n",
       " 'CA',\n",
       " 'CAC',\n",
       " 'CB',\n",
       " 'CBA',\n",
       " 'CBB']"
      ]
     },
     "execution_count": 4,
     "metadata": {},
     "output_type": "execute_result"
    }
   ],
   "source": [
    "compounds"
   ]
  },
  {
   "cell_type": "markdown",
   "metadata": {},
   "source": [
    "Oligiomerzation is a process that releases energy. The change of heat in a system is quantified by the enthalpy. Formation of a type I bonds results in a change of enthalphy of $\\Delta H$ of -1 Joule / mol (heat is released when two monomers bind), while type II bonds have a change of enthalpy of $\\Delta H$ of -2 Joule / mol.\n",
    "\n",
    "The following piece of code returns the energy the formation enthalpy of a compound."
   ]
  },
  {
   "cell_type": "code",
   "execution_count": 5,
   "metadata": {
    "ExecuteTime": {
     "end_time": "2018-03-10T19:35:40.944743Z",
     "start_time": "2018-03-10T19:35:40.936504Z"
    },
    "collapsed": true
   },
   "outputs": [],
   "source": [
    "binding_enthalpy = {'AC' : -2, 'BA' : -1, 'BB' : -1, 'CA' : -1, 'CB' : -1}\n",
    "\n",
    "def get_enthalpy(compound):\n",
    "    if len(compound) == 1:\n",
    "        return 0  # no bonds\n",
    "    else:\n",
    "        enthalpy = 0\n",
    "        for i in range(len(compound) - 1):\n",
    "            dimer = compound[i:i+2]\n",
    "            enthalpy += binding_enthalpy[dimer]\n",
    "        if len(compound)==4:\n",
    "            enthalpy += binding_enthalpy[compound[-1] + compound[0]]\n",
    "        return enthalpy"
   ]
  },
  {
   "cell_type": "code",
   "execution_count": 6,
   "metadata": {
    "ExecuteTime": {
     "end_time": "2018-03-10T19:35:41.226156Z",
     "start_time": "2018-03-10T19:35:41.212472Z"
    }
   },
   "outputs": [
    {
     "name": "stdout",
     "output_type": "stream",
     "text": [
      "Formation enthalpies:\n",
      "A => 0\n",
      "AC => -2\n",
      "ACA => -3\n",
      "ACAC => -6\n",
      "ACB => -3\n",
      "ACBB => -5\n",
      "B => 0\n",
      "BA => -1\n",
      "BAC => -3\n",
      "BB => -1\n",
      "BBA => -2\n",
      "BBB => -2\n",
      "BBBB => -4\n",
      "C => 0\n",
      "CA => -1\n",
      "CAC => -3\n",
      "CB => -1\n",
      "CBA => -2\n",
      "CBB => -2\n"
     ]
    }
   ],
   "source": [
    "enthalpies_dict = {compound : get_enthalpy(compound) for compound in compounds}\n",
    "\n",
    "print('Formation enthalpies:')\n",
    "for compound, enthalpy in enthalpies_dict.items():\n",
    "    print('{} => {}'.format(compound, enthalpy))\n",
    "    \n",
    "enthalpies = [enthalpies_dict[comp] for comp in compounds]  # as list, same order as compounds\n",
    "enthalpies = np.array(enthalpies).reshape((-1, 1))  # as Numpy array"
   ]
  },
  {
   "cell_type": "markdown",
   "metadata": {},
   "source": [
    "Since all the association and dissociation reactions are assumed to be reversible, a mixture of the three monomers should give rise to all possible mono- and oligomers (though not necessarily in equal quantities). We will assume that the system will go to an equilibrium where the Gibbs free engery is highest. The Gibbs free energy depends both on the entropy as well as the enthalpy of the system."
   ]
  },
  {
   "cell_type": "markdown",
   "metadata": {},
   "source": [
    "Let us denote $x$ as the vector containing the concentrations of the 19 possible species. The entropy of the system is given by\n",
    "\n",
    "$$\n",
    "S(\\mathbf{x}) = - \\sum_{i=1}^{19}x_i \\log x_i\\,.\n",
    "$$"
   ]
  },
  {
   "cell_type": "markdown",
   "metadata": {},
   "source": [
    "The enthalpy of the system is given by\n",
    "\n",
    "$$\n",
    "H(\\mathbf{x}) = \\sum_{i=1}^{19}x_i h_i\\,,\n",
    "$$\n",
    "\n",
    "with $h_i$ the formation enthalpy of compound $i$."
   ]
  },
  {
   "cell_type": "markdown",
   "metadata": {},
   "source": [
    "The Gibbs free energy is then given by\n",
    "\n",
    "$$\n",
    "G(\\mathbf{x}) = H(\\mathbf{x}) - T S(\\mathbf{x})\n",
    "$$\n",
    "\n",
    "with $T\\geq0$ the temperature of the system (in Kelvin). Systems with a constant temperture go to a state with a minimal Gibbs free energy."
   ]
  },
  {
   "cell_type": "markdown",
   "metadata": {},
   "source": [
    "Note that:\n",
    "- By low temperatures, enthalpy dominates. The enthalpy can be raised by the formation of oligomers with multiple low-energy bonds.\n",
    "- By high temperature, entropy dominates. High entropy can be obtained by having many different species at a low concentration."
   ]
  },
  {
   "cell_type": "markdown",
   "metadata": {},
   "source": [
    "The concentration of each species can not be freely chosen, vector $x$ has two types of constraints:\n",
    "- **equality constraints**: there is a conservation of mass: the total quantity of A, B, C in all the species should remain constant. These form four linear equality contraints.\n",
    "- **inequality constraints**: since $x$ is a vector with concentrations all elements should be larger than zero: i.e. $x_i \\geq 0$. "
   ]
  },
  {
   "cell_type": "markdown",
   "metadata": {},
   "source": [
    "The equality constraints are given by the stoichiometric matrix $S$, a $3\\times 19$ matrix which quantifies how many of individual molecules $A$, $B$ and $C$ are in a complex and $c$ is the vector of length 3 containing the total of $A$, $B$ and $C$ in the system."
   ]
  },
  {
   "cell_type": "markdown",
   "metadata": {},
   "source": [
    "The optimization problem can thus be formulated as follows:\n",
    "\n",
    "$$\n",
    "\\min_\\mathbf{x} G(\\mathbf{x}) = H(\\mathbf{x}) - T S(\\mathbf{x})\n",
    "$$\n",
    "$$\n",
    "\\text{subject to }  \\mathbf{x} \\succeq 0\n",
    "$$\n",
    "$$\n",
    "S\\mathbf{x}=\\mathbf{c}\\,.\n",
    "$$"
   ]
  },
  {
   "cell_type": "markdown",
   "metadata": {},
   "source": [
    "In this project you will have to find the equilibrium concentrations by minimizing the Gibbs free energy by a given temperature."
   ]
  },
  {
   "cell_type": "markdown",
   "metadata": {},
   "source": [
    "> NOTE: We have chosen **not** to explicitly add the inequality constraints in the optimization problem (i.e. using the logaritmic barrier function). The entropy term will ensure that a minimizer of the Gibbs free energy will always have strictly positive values of $\\mathbf{x}$, i.e. concentrations greater than 0. This can easily be seen by noting that $\\partial S(\\mathbf{x})/\\partial x_i|_{0}=-\\infty$. To circumvent numerical problems, at the end of every Newton step, we will enforce feasibility by making sure that every component of $\\mathbf{x}$ is greater than some small positive tolerance ($10^{-10}$)."
   ]
  },
  {
   "cell_type": "markdown",
   "metadata": {},
   "source": [
    "** Project assignments**\n",
    "\n",
    "1. Suppose that an initial mixture contains only the monomers A, B and C with relative fractions of 0.3, 0.4 and 0.3. Give the matrix $S$ and vector $\\mathbf{c}$ of the linear constraints of the system.\n",
    "2. First assume $T=0$ (no entropy term). In this case the problem is a linear programming problem. Find the equilibrium mixture with the lowest energy. You can use the linear programming solver in `scipy`: `from scipy.optimize import linprog`. What compounds are formed?\n",
    "3. Compute the first and second-order partial derivatives of the Gibbs free energy. Complete the functions `gibbs_fun`, `gibbs_grad` and `gibbs_hessian` which give the function value, gradient and hessian of the Gibbs free energy. These functions take as inputs the vector of concentrations $\\mathbf{x}$ and the temperature $T$. The enthalpy per mol is available in the vector `enthalpies`.\n",
    "4. Complete the implementation for performing linearly constrained Newton step. This function should do a step which satifies the mass balance equations.\n",
    "5. Complete the implementation of `newton_oligiomerization`. Make sure that after every step the concentratons are strictly positive. Use this to calculate the equilibrium concentration of the different species at a temperature of 100 Kelvin. **Check if it satifies the mass balance!**.\n",
    "6. Make a plot of the concentrations, enthalpy and entropy of the equilibrium system at different temperatures. Vary $T$ from $ 10^{-1},\\ldots, 10^3$. Describe what you see.\n",
    "7. Use grid search (step size of 0.05) to find the initial quantities of A, B and C (total quantity is equal to 1, at least 0.05 mol/L of each momomer) that have to be mixed at a temperature of 100K to obain:\n",
    "    - the equilibrium mixture with the highest entropy\n",
    "    - the equilibrium mixture with the lowest enthalphy\n",
    "    - the equilibrium mixture with the highest concentration of CBA"
   ]
  },
  {
   "cell_type": "markdown",
   "metadata": {},
   "source": [
    "**ASSIGNMENT 1**\n",
    "\n",
    "Complete the matrix $S$ and vector $\\mathbf{c}$ to describe the mass balance of the system."
   ]
  },
  {
   "cell_type": "code",
   "execution_count": 7,
   "metadata": {
    "ExecuteTime": {
     "end_time": "2018-03-10T19:35:44.869790Z",
     "start_time": "2018-03-10T19:35:44.866814Z"
    },
    "collapsed": true
   },
   "outputs": [],
   "source": [
    "# your code here!\n",
    "S = np.array([list(map(lambda j: j.count(monomer), compounds)) for monomer in monomers])\n",
    "c = np.array([[.3, .4, .3]]).T"
   ]
  },
  {
   "cell_type": "code",
   "execution_count": 8,
   "metadata": {
    "ExecuteTime": {
     "end_time": "2018-03-10T19:35:45.070628Z",
     "start_time": "2018-03-10T19:35:45.063333Z"
    }
   },
   "outputs": [
    {
     "name": "stdout",
     "output_type": "stream",
     "text": [
      "[[1 1 2 2 1 1 0 1 1 0 1 0 0 0 1 1 0 1 0]\n",
      " [0 0 0 0 1 2 1 1 1 2 2 3 4 0 0 0 1 1 2]\n",
      " [0 1 1 2 1 1 0 0 1 0 0 0 0 1 1 2 1 1 1]]\n"
     ]
    }
   ],
   "source": [
    "print(S)"
   ]
  },
  {
   "cell_type": "code",
   "execution_count": 9,
   "metadata": {
    "ExecuteTime": {
     "end_time": "2018-03-10T19:35:45.299292Z",
     "start_time": "2018-03-10T19:35:45.293862Z"
    }
   },
   "outputs": [
    {
     "name": "stdout",
     "output_type": "stream",
     "text": [
      "[[ 0.3]\n",
      " [ 0.4]\n",
      " [ 0.3]]\n"
     ]
    }
   ],
   "source": [
    "print(c)"
   ]
  },
  {
   "cell_type": "markdown",
   "metadata": {},
   "source": [
    "**ASSIGNMENT 2**\n",
    "\n",
    "Use linear programming to find the equilibrium solution at $T=0K$."
   ]
  },
  {
   "cell_type": "code",
   "execution_count": null,
   "metadata": {
    "ExecuteTime": {
     "end_time": "2018-03-07T19:37:32.344593Z",
     "start_time": "2018-03-07T19:37:32.218579Z"
    },
    "collapsed": true
   },
   "outputs": [],
   "source": [
    "from scipy.optimize import linprog"
   ]
  },
  {
   "cell_type": "code",
   "execution_count": null,
   "metadata": {
    "ExecuteTime": {
     "end_time": "2018-03-07T19:37:32.368809Z",
     "start_time": "2018-03-07T19:37:32.345915Z"
    },
    "collapsed": true
   },
   "outputs": [],
   "source": [
    "linprog?"
   ]
  },
  {
   "cell_type": "code",
   "execution_count": null,
   "metadata": {
    "collapsed": true
   },
   "outputs": [],
   "source": []
  },
  {
   "cell_type": "code",
   "execution_count": null,
   "metadata": {
    "collapsed": true
   },
   "outputs": [],
   "source": []
  },
  {
   "cell_type": "code",
   "execution_count": null,
   "metadata": {
    "ExecuteTime": {
     "end_time": "2018-03-07T19:37:32.375226Z",
     "start_time": "2018-03-07T19:37:32.370649Z"
    },
    "collapsed": true
   },
   "outputs": [],
   "source": [
    "xstar_0K = linprog(list(map(lambda y:get_enthalpy(y), compounds)), A_eq=S, b_eq=c)['x']"
   ]
  },
  {
   "cell_type": "code",
   "execution_count": null,
   "metadata": {
    "ExecuteTime": {
     "end_time": "2018-03-07T19:37:32.381318Z",
     "start_time": "2018-03-07T19:37:32.376927Z"
    },
    "collapsed": true
   },
   "outputs": [],
   "source": [
    "xstar_0K"
   ]
  },
  {
   "cell_type": "code",
   "execution_count": null,
   "metadata": {
    "collapsed": true
   },
   "outputs": [],
   "source": []
  },
  {
   "cell_type": "code",
   "execution_count": null,
   "metadata": {
    "ExecuteTime": {
     "end_time": "2018-03-07T19:37:32.386654Z",
     "start_time": "2018-03-07T19:37:32.383350Z"
    },
    "collapsed": true
   },
   "outputs": [],
   "source": [
    "np.array(compounds)[xstar_0K>0]"
   ]
  },
  {
   "cell_type": "markdown",
   "metadata": {},
   "source": [
    "DESCRIBE THE RESULT"
   ]
  },
  {
   "cell_type": "code",
   "execution_count": null,
   "metadata": {
    "collapsed": true
   },
   "outputs": [],
   "source": []
  },
  {
   "cell_type": "markdown",
   "metadata": {},
   "source": [
    "**ASSIGNMENT 3**\n",
    "\n",
    "Complete the function and partial derivatives and implement these functions."
   ]
  },
  {
   "cell_type": "markdown",
   "metadata": {},
   "source": [
    "$$\n",
    "\\min_{\\mathbf{x}} \\sum_{i=1}^{19}[h_ix_i + Tx_i \\log x_i]\n",
    "$$\n",
    "$$\n",
    "\\text{subject to } S\\mathbf{x}=\\mathbf{c}\\,.\n",
    "$$"
   ]
  },
  {
   "cell_type": "markdown",
   "metadata": {},
   "source": [
    "**Function**\n",
    "\n",
    "$$\n",
    "f(\\mathbf{x}, T)=\\sum_{i=1}^{19}[h_ix_i + Tx_i \\log x_i]\n",
    "$$"
   ]
  },
  {
   "cell_type": "markdown",
   "metadata": {},
   "source": [
    "**Gradient**\n",
    "\n",
    "$$\n",
    "\\frac{\\partial f(\\mathbf{x}, T)}{\\partial x_i}=h_i + T(log(x_i)+1)\n",
    "$$"
   ]
  },
  {
   "cell_type": "markdown",
   "metadata": {},
   "source": [
    "**Hessian**\n",
    "\n",
    "$$\n",
    "\\frac{\\partial^2 f(\\mathbf{x}, T)}{\\partial x_i^2}=\\cfrac{T}{x_i}\n",
    "$$\n",
    "\n",
    "Note that\n",
    "\n",
    "$$\n",
    "\\frac{\\partial^2 f(\\mathbf{x}, T)}{\\partial x_i\\partial x_j}=0\\, \\, \\qquad \\text{if $i\\neq j$}\n",
    "$$"
   ]
  },
  {
   "cell_type": "code",
   "execution_count": 10,
   "metadata": {
    "ExecuteTime": {
     "end_time": "2018-03-10T19:35:47.845583Z",
     "start_time": "2018-03-10T19:35:47.814029Z"
    },
    "collapsed": true
   },
   "outputs": [],
   "source": [
    "def gibbs_fun(x, T, h):\n",
    "    \"\"\"\n",
    "    Negative entropy\n",
    "    Inputs:\n",
    "        - x: vector of the concentrations (19 x 1)\n",
    "        - T: temperature\n",
    "\n",
    "    Output: the function value of the negative entropy\n",
    "    \"\"\"\n",
    "    return np.sum(h@x + T*x@np.log(x))\n",
    "\n",
    "def gibbs_gradient(x, T):\n",
    "    \"\"\"\n",
    "    Gradient of the negative entropy\n",
    "    Inputs:\n",
    "        - x: vector of the concentrations (19 x 1)\n",
    "        - T: temperature\n",
    "\n",
    "    Output: the gradient of the negative entropy\n",
    "        (19 x 1 vector)\n",
    "    \"\"\"\n",
    "    return (np.atleast_2d(list(map(lambda y:get_enthalpy(y), compounds))).T + T*(np.log(x)+1))\n",
    "\n",
    "def gibbs_hessian(x, T):\n",
    "    \"\"\"\n",
    "    Hessian of negative entropy\n",
    "    Inputs:\n",
    "        - x: vector of the concentrations (19 x 1)\n",
    "        - T: temperature\n",
    "\n",
    "    Output: the gradient of the negative entropy\n",
    "        (19 x 19 matrix)\n",
    "    \"\"\"\n",
    "    return np.eye(x.shape[0])*np.divide(T,x)"
   ]
  },
  {
   "cell_type": "markdown",
   "metadata": {},
   "source": [
    "**ASSIGNMENT 4**\n",
    "\n",
    "Complete the code for a single constrained Newton step for this problem."
   ]
  },
  {
   "cell_type": "code",
   "execution_count": 16,
   "metadata": {
    "ExecuteTime": {
     "end_time": "2018-03-10T19:35:57.747932Z",
     "start_time": "2018-03-10T19:35:57.740430Z"
    },
    "collapsed": true
   },
   "outputs": [],
   "source": [
    "def solve_constrained_quadratic_problem(P, q, A, b):\n",
    "    \"\"\"\n",
    "    Solve a linear constrained quadratic convex problem.\n",
    "\n",
    "    Inputs:\n",
    "        - P, q: quadratic and linear parameters of\n",
    "                the linear function to be minimized\n",
    "        - A, b: system of the linear constraints\n",
    "\n",
    "    Outputs:\n",
    "        - xstar: the exact minimizer\n",
    "        - vstar: the optimal Lagrange multipliers\n",
    "    \"\"\"\n",
    "    p, n = A.shape  # size of the problem\n",
    "    # complete this code\n",
    "    # HINT: use np.linalg.solve and np.bmat\n",
    "    \n",
    "    solution = np.linalg.solve(np.bmat([[P, A.T], [A, np.zeros((p,p))]]), np.bmat([[-q], [b]]))\n",
    "    xstar = solution[:n]\n",
    "    vstar = solution[n:]\n",
    "    return np.array(xstar), np.array(vstar)"
   ]
  },
  {
   "cell_type": "code",
   "execution_count": 17,
   "metadata": {
    "ExecuteTime": {
     "end_time": "2018-03-10T19:35:57.995605Z",
     "start_time": "2018-03-10T19:35:57.987271Z"
    },
    "collapsed": true
   },
   "outputs": [],
   "source": [
    "def constrained_newton_step(x, S, c, T):\n",
    "    \"\"\"\n",
    "    Computes a constrained Newton step for the\n",
    "    Gibbs free energy minimization problem. \n",
    "    \n",
    "    Note: \n",
    "    \n",
    "    Inputs:\n",
    "        - x: point in which to compute the Newton step, does not have to be feasible\n",
    "        - S, c: matrix and vector of the system describing the mass balance\n",
    "        - T: temperature of the system\n",
    "        \n",
    "    Output:\n",
    "        - Dx: the Newton step\n",
    "    \"\"\"\n",
    "    # complete\n",
    "    ddfx = gibbs_hessian(x, T)\n",
    "    dfx = gibbs_gradient(x, T)\n",
    "    Dx, _ = solve_constrained_quadratic_problem(ddfx, dfx, S, c - S @ x) # complete!\n",
    "\n",
    "    return Dx"
   ]
  },
  {
   "cell_type": "code",
   "execution_count": 18,
   "metadata": {
    "ExecuteTime": {
     "end_time": "2018-03-10T19:35:58.592866Z",
     "start_time": "2018-03-10T19:35:58.544957Z"
    }
   },
   "outputs": [
    {
     "data": {
      "text/plain": [
       "array([[ 0.0084135 ],\n",
       "       [ 0.01600796],\n",
       "       [ 0.02360142],\n",
       "       [ 0.03119689],\n",
       "       [ 0.0215223 ],\n",
       "       [ 0.02703764],\n",
       "       [ 0.00633437],\n",
       "       [ 0.01392783],\n",
       "       [ 0.0215223 ],\n",
       "       [ 0.01184871],\n",
       "       [ 0.01944217],\n",
       "       [ 0.01736305],\n",
       "       [ 0.02287839],\n",
       "       [ 0.0084135 ],\n",
       "       [ 0.01600696],\n",
       "       [ 0.02360142],\n",
       "       [ 0.01392783],\n",
       "       [ 0.0215213 ],\n",
       "       [ 0.01944217]])"
      ]
     },
     "execution_count": 18,
     "metadata": {},
     "output_type": "execute_result"
    }
   ],
   "source": [
    "# test step (does it make any sense?)\n",
    "x = np.ones((19,1))*0.0001\n",
    "T = 100\n",
    "constrained_newton_step(x, S, c, T)"
   ]
  },
  {
   "cell_type": "markdown",
   "metadata": {},
   "source": [
    "**ASSIGNMENT 5**\n",
    "\n",
    "Complete the code for Newton's method for finding the optimal concentration vector."
   ]
  },
  {
   "cell_type": "code",
   "execution_count": 19,
   "metadata": {
    "ExecuteTime": {
     "end_time": "2018-03-10T19:35:59.671670Z",
     "start_time": "2018-03-10T19:35:59.663322Z"
    },
    "collapsed": true
   },
   "outputs": [],
   "source": [
    "def newton_oligomerization(x0, S, c, T, stepsize, tolerance=1e-10, epsilon=1e-7):\n",
    "    \"\"\"\n",
    "    Newton's method for finding concentrations that minimize the Gibbs free energy\n",
    "    at a specific temperature\n",
    "    \n",
    "    Inputs:\n",
    "        - x0: starting point, vector with strictly positive elements,\n",
    "                    but not necessarily feasible\n",
    "        - S, c: matrix and vector of the system describing the mass balance\n",
    "        - T: temperature of the system\n",
    "        - stepsize: fixed step size\n",
    "        - tolerance: tolerance parameter to make the vectors strictly feasible\n",
    "            after every step, minimum value of every element in x\n",
    "        - epsilon: tolerance for stopping\n",
    "        \n",
    "    Output:\n",
    "        - x: minimizer\n",
    "    \"\"\"\n",
    "    x = x0.copy()\n",
    "    while True:\n",
    "        Dx = constrained_newton_step(x, S, c, T)  # compute search direction\n",
    "        newton_decrement = - np.sum(Dx * gibbs_gradient(x,T)) / 2\n",
    "        if newton_decrement < epsilon:  # determine convergence\n",
    "            break\n",
    "        x+= stepsize * Dx\n",
    "        x = np.maximum(x,tolerance)\n",
    "    return x"
   ]
  },
  {
   "cell_type": "code",
   "execution_count": 20,
   "metadata": {
    "ExecuteTime": {
     "end_time": "2018-03-10T19:36:00.050193Z",
     "start_time": "2018-03-10T19:36:00.044625Z"
    },
    "collapsed": true
   },
   "outputs": [],
   "source": [
    "# starting points should contain positive concentrations\n",
    "# but not necessarily satisfy mass balance\n",
    "x0 = np.ones((len(compounds),1))*0.0001\n",
    "#x0[0]=0.3\n",
    "#x0[6]=0.7\n",
    "#x0[13]=0.3"
   ]
  },
  {
   "cell_type": "code",
   "execution_count": 21,
   "metadata": {
    "ExecuteTime": {
     "end_time": "2018-03-10T19:36:00.543996Z",
     "start_time": "2018-03-10T19:36:00.529345Z"
    },
    "scrolled": false
   },
   "outputs": [],
   "source": [
    "# Compute the equilibrium concentrations\n",
    "xstar_100K = newton_oligomerization(x0, S, c, T, stepsize=1.)"
   ]
  },
  {
   "cell_type": "code",
   "execution_count": 22,
   "metadata": {
    "ExecuteTime": {
     "end_time": "2018-03-10T19:36:01.027609Z",
     "start_time": "2018-03-10T19:36:01.021153Z"
    }
   },
   "outputs": [
    {
     "data": {
      "text/plain": [
       "array([[ 0.3],\n",
       "       [ 0.4],\n",
       "       [ 0.3]])"
      ]
     },
     "execution_count": 22,
     "metadata": {},
     "output_type": "execute_result"
    }
   ],
   "source": [
    "# check if solution satisfies mass balance\n",
    "S@xstar_100K"
   ]
  },
  {
   "cell_type": "markdown",
   "metadata": {},
   "source": [
    "**Assignment 6**"
   ]
  },
  {
   "cell_type": "code",
   "execution_count": 23,
   "metadata": {
    "ExecuteTime": {
     "end_time": "2018-03-10T19:36:02.168233Z",
     "start_time": "2018-03-10T19:36:02.165620Z"
    },
    "collapsed": true
   },
   "outputs": [],
   "source": [
    "# functions for calculating entropy and enthalpy\n",
    "entropy = lambda x : - np.sum(x * np.log(x))\n",
    "enthalpy = lambda x : np.sum(enthalpies * x.reshape((-1, 1)))"
   ]
  },
  {
   "cell_type": "code",
   "execution_count": 25,
   "metadata": {
    "ExecuteTime": {
     "end_time": "2018-03-10T19:36:21.093551Z",
     "start_time": "2018-03-10T19:36:20.980249Z"
    }
   },
   "outputs": [],
   "source": [
    "# compute the obtained concentrations, entropy en enthalpy at different tempartures\n",
    "T_array = np.linspace(1e-1,1e3,50)\n",
    "xstar_ifo_T = np.empty((19,0))\n",
    "\n",
    "for T in T_array:\n",
    "    xstar_ifo_T=np.append(xstar_ifo_T,newton_oligomerization(x0, S, c, T, stepsize=1.),axis=1)\n"
   ]
  },
  {
   "cell_type": "code",
   "execution_count": 26,
   "metadata": {
    "ExecuteTime": {
     "end_time": "2018-03-10T19:36:22.211404Z",
     "start_time": "2018-03-10T19:36:22.035554Z"
    }
   },
   "outputs": [
    {
     "name": "stderr",
     "output_type": "stream",
     "text": [
      "/home/bram/anaconda3/lib/python3.6/site-packages/matplotlib/cbook/deprecation.py:106: MatplotlibDeprecationWarning: Adding an axes using the same arguments as a previous axes currently reuses the earlier instance.  In a future version, a new instance will always be created and returned.  Meanwhile, this warning can be suppressed, and the future behavior ensured, by passing a unique label to each axes instance.\n",
      "  warnings.warn(message, mplDeprecation, stacklevel=1)\n"
     ]
    },
    {
     "ename": "NameError",
     "evalue": "name 'ax' is not defined",
     "output_type": "error",
     "traceback": [
      "\u001b[0;31m---------------------------------------------------------------------------\u001b[0m",
      "\u001b[0;31mNameError\u001b[0m                                 Traceback (most recent call last)",
      "\u001b[0;32m<ipython-input-26-64c93018624a>\u001b[0m in \u001b[0;36m<module>\u001b[0;34m()\u001b[0m\n\u001b[1;32m      9\u001b[0m     \u001b[0mcounter\u001b[0m \u001b[0;34m+=\u001b[0m \u001b[0;36m1\u001b[0m\u001b[0;34m\u001b[0m\u001b[0m\n\u001b[1;32m     10\u001b[0m \u001b[0;34m\u001b[0m\u001b[0m\n\u001b[0;32m---> 11\u001b[0;31m \u001b[0max\u001b[0m\u001b[0;34m.\u001b[0m\u001b[0mset_xlabel\u001b[0m\u001b[0;34m(\u001b[0m\u001b[0;34m\"year\"\u001b[0m\u001b[0;34m)\u001b[0m\u001b[0;34m\u001b[0m\u001b[0m\n\u001b[0m\u001b[1;32m     12\u001b[0m \u001b[0max\u001b[0m\u001b[0;34m.\u001b[0m\u001b[0mset_ylabel\u001b[0m\u001b[0;34m(\u001b[0m\u001b[0;34m\"weight\"\u001b[0m\u001b[0;34m)\u001b[0m\u001b[0;34m\u001b[0m\u001b[0m\n\u001b[1;32m     13\u001b[0m \u001b[0max\u001b[0m\u001b[0;34m.\u001b[0m\u001b[0mlegend\u001b[0m\u001b[0;34m(\u001b[0m\u001b[0mloc\u001b[0m\u001b[0;34m=\u001b[0m\u001b[0;34m'best'\u001b[0m\u001b[0;34m)\u001b[0m\u001b[0;34m\u001b[0m\u001b[0m\n",
      "\u001b[0;31mNameError\u001b[0m: name 'ax' is not defined"
     ]
    },
    {
     "data": {
      "image/png": "[encoded data removed]",
      "text/plain": [
       "<matplotlib.figure.Figure at 0x7fc4dcb08cf8>"
      ]
     },
     "metadata": {},
     "output_type": "display_data"
    }
   ],
   "source": [
    "# plot the results\n",
    "\n",
    "counter=0\n",
    "for compound in compounds:\n",
    "    plt.subplot(131)\n",
    "    plt.plot(T_array,xstar_ifo_T[counter,:])\n",
    "    #fig,ax = plt.subplots(132)\n",
    "    #plt.plot(T_array,entropy(xstar_ifo_T[counter,:]))\n",
    "    counter += 1\n",
    "\n",
    "ax.set_xlabel(\"year\")\n",
    "ax.set_ylabel(\"weight\")\n",
    "ax.legend(loc='best')"
   ]
  },
  {
   "cell_type": "markdown",
   "metadata": {},
   "source": [
    "**Describe the obtained plots and give a physicochemical interpretation**\n",
    "\n",
    "YOUR TEXT HERE"
   ]
  },
  {
   "cell_type": "markdown",
   "metadata": {
    "collapsed": true
   },
   "source": [
    "**Assignment 7**"
   ]
  },
  {
   "cell_type": "code",
   "execution_count": null,
   "metadata": {
    "collapsed": true
   },
   "outputs": [],
   "source": [
    "# Use grid search to find initial mixtures of A, B and C that give rise to mixtures\n",
    "# with the highest entropy, lowest entropy and highest concentration of CBA at 100K."
   ]
  },
  {
   "cell_type": "markdown",
   "metadata": {},
   "source": [
    "**Find inital mixture which will lead to the highest entropy.**"
   ]
  },
  {
   "cell_type": "code",
   "execution_count": null,
   "metadata": {
    "collapsed": true
   },
   "outputs": [],
   "source": [
    "# your code here"
   ]
  },
  {
   "cell_type": "markdown",
   "metadata": {},
   "source": [
    "**Find inital mixture which will lead to the lowest enthalpy.**"
   ]
  },
  {
   "cell_type": "code",
   "execution_count": null,
   "metadata": {
    "collapsed": true
   },
   "outputs": [],
   "source": [
    "# your code here"
   ]
  },
  {
   "cell_type": "markdown",
   "metadata": {},
   "source": [
    "**Find inital mixture which will lead to the highest concentration CBA.**"
   ]
  },
  {
   "cell_type": "code",
   "execution_count": null,
   "metadata": {
    "collapsed": true
   },
   "outputs": [],
   "source": [
    "# your code here"
   ]
  },
  {
   "cell_type": "markdown",
   "metadata": {
    "collapsed": true
   },
   "source": [
    "## References\n",
    "\n",
    "Boyd, S. and Vandenberghe, L., '*[Convex Optimization](https://web.stanford.edu/~boyd/cvxbook/bv_cvxbook.pdf)*'. Cambridge University Press (2004)"
   ]
  },
  {
   "cell_type": "code",
   "execution_count": null,
   "metadata": {
    "collapsed": true
   },
   "outputs": [],
   "source": []
  }
 ],
 "metadata": {
  "anaconda-cloud": {},
  "kernelspec": {
   "display_name": "Python 3",
   "language": "python",
   "name": "python3"
  },
  "language_info": {
   "codemirror_mode": {
    "name": "ipython",
    "version": 3
   },
   "file_extension": ".py",
   "mimetype": "text/x-python",
   "name": "python",
   "nbconvert_exporter": "python",
   "pygments_lexer": "ipython3",
   "version": "3.6.3"
  },
  "latex_envs": {
   "LaTeX_envs_menu_present": true,
   "autocomplete": true,
   "bibliofile": "biblio.bib",
   "cite_by": "apalike",
   "current_citInitial": 1,
   "eqLabelWithNumbers": true,
   "eqNumInitial": 0,
   "hotkeys": {
    "equation": "Ctrl-E",
    "itemize": "Ctrl-I"
   },
   "labels_anchors": false,
   "latex_user_defs": false,
   "report_style_numbering": false,
   "user_envs_cfg": false
  },
  "toc": {
   "nav_menu": {},
   "number_sections": true,
   "sideBar": true,
   "skip_h1_title": false,
   "toc_cell": false,
   "toc_position": {},
   "toc_section_display": "block",
   "toc_window_display": false
  }
 },
 "nbformat": 4,
 "nbformat_minor": 1
}
