{
 "cells": [
  {
   "cell_type": "markdown",
   "metadata": {},
   "source": [
    "# Project convex optimization: oligomerization of proteins\n",
    "\n",
    "*Selected Topics in Mathematical Optimization: 2017-2018*\n",
    "\n",
    "**Michiel Stock** ([email](michiel.stock@ugent.be))\n",
    "\n",
    "![](Figures/logo.png)"
   ]
  },
  {
   "cell_type": "markdown",
   "metadata": {},
   "source": [
    "De Jaegher Bram"
   ]
  },
  {
   "cell_type": "code",
   "execution_count": null,
   "metadata": {
    "ExecuteTime": {
     "end_time": "2018-03-07T10:18:27.556439Z",
     "start_time": "2018-03-07T10:18:27.322552Z"
    },
    "collapsed": true
   },
   "outputs": [],
   "source": [
    "import numpy as np\n",
    "import matplotlib.pyplot as plt \n",
    "\n",
    "%matplotlib inline"
   ]
  },
  {
   "cell_type": "markdown",
   "metadata": {},
   "source": [
    "In this project we will study the association of protein complexes through the principle of **entropy maximization**. \n",
    "\n",
    "Consider the following three proteins: A, B and C:\n",
    "\n",
    "![Three monomeric proteins.](Figures/monomers.jpg)\n",
    "\n",
    "Each of these proteins has sites which it can use to reversible bind to other proteins. Two types of interactions can be distinguished:\n",
    "- **weak type I interactions**: protein A has one type I donor site, protein C has one type I acceptor site and protein B has both an acceptor and a donor site. In the figures, these sites are indicated as a triangle sticking in (acceptor) or out (donor) the protein.\n",
    "- **strong type II interaction**: protein A has one type II acceptor site and protein C has one type II donor site. These sites are depicted as two bumps sticking out or pressing in the protein."
   ]
  },
  {
   "cell_type": "markdown",
   "metadata": {},
   "source": [
    "These sites allow for dimerisation of the proteins. All possible homo- and hetero-dimers are shown below.\n",
    "\n",
    "![The proteins can form dimers according to their sites.](Figures/dimers.jpg)\n",
    "\n",
    "But tri-and tetramers can also be formed:\n",
    "\n",
    "![One trimer and three tetramers.](Figures/oligomers.jpg)\n",
    "\n",
    "Let us use one (monomer), two (dimer), three (trimer) and four (tetramer) character long strings to denote all possible conformations. Here we use the convention that the string $P_1P_2P_3P_4$ represents the tetramer\n",
    "$$\n",
    "\\left (\\begin{array}{cc}\n",
    "P_1 & P_2 \\\\\n",
    "P_4 & P_3\\end{array} \n",
    "\\right ) \\,.\n",
    "$$\n",
    "\n",
    "Note that in our notation, we have\n",
    "$$\n",
    "P_1P_2P_3P_4 = P_4P_1P_2P_3 = P_3P_4P_1P_2 = P_2P_3P_4P_1\\,,\n",
    "$$\n",
    "but\n",
    "$$\n",
    "P_1P_2P_3 \\neq P_3P_1P_2 \\neq P_2P_3P_1\\,.\n",
    "$$\n",
    "\n",
    "The following code identifies all unique mono-and oligomers."
   ]
  },
  {
   "cell_type": "code",
   "execution_count": null,
   "metadata": {
    "ExecuteTime": {
     "end_time": "2018-03-07T10:18:30.580789Z",
     "start_time": "2018-03-07T10:18:30.560284Z"
    }
   },
   "outputs": [],
   "source": [
    "monomers = set(['A', 'B', 'C'])\n",
    "\n",
    "dimers = set(['AC', 'CB', 'CA', 'BA', 'BB'])\n",
    "\n",
    "trimers = set([dm1 + dm2[1] for dm1 in dimers\n",
    "               for dm2 in dimers if dm1[1:] == dm2[:-1]])\n",
    "\n",
    "tetramers = set([dm1 + dm2[2] for dm1 in trimers\n",
    "                 for dm2 in trimers if dm1[1:] == dm2[:-1]\n",
    "                 if dm2[-1] + dm1[0] in dimers])\n",
    "\n",
    "# some tetramers are counted multiple times, because our encoding is not unique\n",
    "# let us remove duplicates\n",
    "\n",
    "lowest_lexo = lambda polymer : sorted([polymer[i:] + polymer[:i] for i in range(len(polymer))])[0]\n",
    "tetramers = set(map(lowest_lexo, tetramers))\n",
    "\n",
    "compounds = monomers | dimers | trimers | tetramers\n",
    "compounds = list(compounds)\n",
    "compounds.sort()\n",
    "monomers =list(monomers)\n",
    "monomers.sort()\n",
    "\n",
    "print('There are {} unique compounds'.format(len(compounds)))"
   ]
  },
  {
   "cell_type": "code",
   "execution_count": null,
   "metadata": {
    "ExecuteTime": {
     "end_time": "2018-03-07T10:18:31.729330Z",
     "start_time": "2018-03-07T10:18:31.725608Z"
    }
   },
   "outputs": [],
   "source": [
    "monomers"
   ]
  },
  {
   "cell_type": "code",
   "execution_count": null,
   "metadata": {
    "ExecuteTime": {
     "end_time": "2018-03-07T10:18:32.020797Z",
     "start_time": "2018-03-07T10:18:32.015363Z"
    },
    "scrolled": true
   },
   "outputs": [],
   "source": [
    "compounds"
   ]
  },
  {
   "cell_type": "markdown",
   "metadata": {},
   "source": [
    "Oligiomerzation is a process that releases energy. The change of heat in a system is quantified by the enthalpy. Formation of a type I bonds results in a change of enthalphy of $\\Delta H$ of -1 Joule / mol (heat is released when two monomers bind), while type II bonds have a change of enthalpy of $\\Delta H$ of -2 Joule / mol.\n",
    "\n",
    "The following piece of code returns the energy the formation enthalpy of a compound."
   ]
  },
  {
   "cell_type": "code",
   "execution_count": null,
   "metadata": {
    "ExecuteTime": {
     "end_time": "2018-03-07T10:18:33.524466Z",
     "start_time": "2018-03-07T10:18:33.514829Z"
    },
    "collapsed": true
   },
   "outputs": [],
   "source": [
    "binding_enthalpy = {'AC' : -2, 'BA' : -1, 'BB' : -1, 'CA' : -1, 'CB' : -1}\n",
    "\n",
    "def get_enthalpy(compound):\n",
    "    if len(compound) == 1:\n",
    "        return 0  # no bonds\n",
    "    else:\n",
    "        enthalpy = 0\n",
    "        for i in range(len(compound) - 1):\n",
    "            dimer = compound[i:i+2]\n",
    "            enthalpy += binding_enthalpy[dimer]\n",
    "        if len(compound)==4:\n",
    "            enthalpy += binding_enthalpy[compound[-1] + compound[0]]\n",
    "        return enthalpy"
   ]
  },
  {
   "cell_type": "code",
   "execution_count": null,
   "metadata": {
    "ExecuteTime": {
     "end_time": "2018-03-07T10:18:33.874653Z",
     "start_time": "2018-03-07T10:18:33.862912Z"
    }
   },
   "outputs": [],
   "source": [
    "enthalpies_dict = {compound : get_enthalpy(compound) for compound in compounds}\n",
    "\n",
    "print('Formation enthalpies:')\n",
    "for compound, enthalpy in enthalpies_dict.items():\n",
    "    print('{} => {}'.format(compound, enthalpy))\n",
    "    \n",
    "enthalpies = [enthalpies_dict[comp] for comp in compounds]  # as list, same order as compounds\n",
    "enthalpies = np.array(enthalpies).reshape((-1, 1))  # as Numpy array"
   ]
  },
  {
   "cell_type": "markdown",
   "metadata": {},
   "source": [
    "Since all the association and dissociation reactions are assumed to be reversible, a mixture of the three monomers should give rise to all possible mono- and oligomers (though not necessarily in equal quantities). We will assume that the system will go to an equilibrium where the Gibbs free engery is highest. The Gibbs free energy depends both on the entropy as well as the enthalpy of the system."
   ]
  },
  {
   "cell_type": "markdown",
   "metadata": {},
   "source": [
    "Let us denote $x$ as the vector containing the concentrations of the 19 possible species. The entropy of the system is given by\n",
    "\n",
    "$$\n",
    "S(\\mathbf{x}) = - \\sum_{i=1}^{19}x_i \\log x_i\\,.\n",
    "$$"
   ]
  },
  {
   "cell_type": "markdown",
   "metadata": {},
   "source": [
    "The enthalpy of the system is given by\n",
    "\n",
    "$$\n",
    "H(\\mathbf{x}) = \\sum_{i=1}^{19}x_i h_i\\,,\n",
    "$$\n",
    "\n",
    "with $h_i$ the formation enthalpy of compound $i$."
   ]
  },
  {
   "cell_type": "markdown",
   "metadata": {},
   "source": [
    "The Gibbs free energy is then given by\n",
    "\n",
    "$$\n",
    "G(\\mathbf{x}) = H(\\mathbf{x}) - T S(\\mathbf{x})\n",
    "$$\n",
    "\n",
    "with $T\\geq0$ the temperature of the system (in Kelvin). Systems with a constant temperture go to a state with a minimal Gibbs free energy."
   ]
  },
  {
   "cell_type": "markdown",
   "metadata": {},
   "source": [
    "Note that:\n",
    "- By low temperatures, enthalpy dominates. The enthalpy can be raised by the formation of oligomers with multiple low-energy bonds.\n",
    "- By high temperature, entropy dominates. High entropy can be obtained by having many different species at a low concentration."
   ]
  },
  {
   "cell_type": "markdown",
   "metadata": {},
   "source": [
    "The concentration of each species can not be freely chosen, vector $x$ has two types of constraints:\n",
    "- **equality constraints**: there is a conservation of mass: the total quantity of A, B, C in all the species should remain constant. These form four linear equality contraints.\n",
    "- **inequality constraints**: since $x$ is a vector with concentrations all elements should be larger than zero: i.e. $x_i \\geq 0$. "
   ]
  },
  {
   "cell_type": "markdown",
   "metadata": {},
   "source": [
    "The equality constraints are given by the stoichiometric matrix $S$, a $3\\times 19$ matrix which quantifies how many of individual molecules $A$, $B$ and $C$ are in a complex and $c$ is the vector of length 3 containing the total of $A$, $B$ and $C$ in the system."
   ]
  },
  {
   "cell_type": "markdown",
   "metadata": {},
   "source": [
    "The optimization problem can thus be formulated as follows:\n",
    "\n",
    "$$\n",
    "\\min_\\mathbf{x} G(\\mathbf{x}) = H(\\mathbf{x}) - T S(\\mathbf{x})\n",
    "$$\n",
    "$$\n",
    "\\text{subject to }  \\mathbf{x} \\succeq 0\n",
    "$$\n",
    "$$\n",
    "S\\mathbf{x}=\\mathbf{c}\\,.\n",
    "$$"
   ]
  },
  {
   "cell_type": "markdown",
   "metadata": {},
   "source": [
    "In this project you will have to find the equilibrium concentrations by minimizing the Gibbs free energy by a given temperature."
   ]
  },
  {
   "cell_type": "markdown",
   "metadata": {},
   "source": [
    "> NOTE: We have chosen **not** to explicitly add the inequality constraints in the optimization problem (i.e. using the logaritmic barrier function). The entropy term will ensure that a minimizer of the Gibbs free energy will always have strictly positive values of $\\mathbf{x}$, i.e. concentrations greater than 0. This can easily be seen by noting that $\\partial S(\\mathbf{x})/\\partial x_i|_{0}=-\\infty$. To circumvent numerical problems, at the end of every Newton step, we will enforce feasibility by making sure that every component of $\\mathbf{x}$ is greater than some small positive tolerance ($10^{-10}$)."
   ]
  },
  {
   "cell_type": "markdown",
   "metadata": {},
   "source": [
    "** Project assignments**\n",
    "\n",
    "1. Suppose that an initial mixture contains only the monomers A, B and C with relative fractions of 0.3, 0.4 and 0.3. Give the matrix $S$ and vector $\\mathbf{c}$ of the linear constraints of the system.\n",
    "2. First assume $T=0$ (no entropy term). In this case the problem is a linear programming problem. Find the equilibrium mixture with the lowest energy. You can use the linear programming solver in `scipy`: `from scipy.optimize import linprog`. What compounds are formed?\n",
    "3. Compute the first and second-order partial derivatives of the Gibbs free energy. Complete the functions `gibbs_fun`, `gibbs_grad` and `gibbs_hessian` which give the function value, gradient and hessian of the Gibbs free energy. These functions take as inputs the vector of concentrations $\\mathbf{x}$ and the temperature $T$. The enthalpy per mol is available in the vector `enthalpies`.\n",
    "4. Complete the implementation for performing linearly constrained Newton step. This function should do a step which satifies the mass balance equations.\n",
    "5. Complete the implementation of `newton_oligiomerization`. Make sure that after every step the concentratons are strictly positive. Use this to calculate the equilibrium concentration of the different species at a temperature of 100 Kelvin. **Check if it satifies the mass balance!**.\n",
    "6. Make a plot of the concentrations, enthalpy and entropy of the equilibrium system at different temperatures. Vary $T$ from $ 10^{-1},\\ldots, 10^3$. Describe what you see.\n",
    "7. Use grid search (step size of 0.05) to find the initial quantities of A, B and C (total quantity is equal to 1, at least 0.05 mol/L of each momomer) that have to be mixed at a temperature of 100K to obain:\n",
    "    - the equilibrium mixture with the highest entropy\n",
    "    - the equilibrium mixture with the lowest enthalphy\n",
    "    - the equilibrium mixture with the highest concentration of CBA"
   ]
  },
  {
   "cell_type": "markdown",
   "metadata": {},
   "source": [
    "Hint: x += t *dx , x =np.maximum(x,1e-10) to ensure positive values\n",
    "\n",
    "* fixed step is allowed"
   ]
  },
  {
   "cell_type": "markdown",
   "metadata": {},
   "source": [
    "**ASSIGNMENT 1**\n",
    "\n",
    "Complete the matrix $S$ and vector $\\mathbf{c}$ to describe the mass balance of the system."
   ]
  },
  {
   "cell_type": "code",
   "execution_count": null,
   "metadata": {
    "ExecuteTime": {
     "end_time": "2018-03-07T10:18:42.217408Z",
     "start_time": "2018-03-07T10:18:42.214551Z"
    },
    "collapsed": true
   },
   "outputs": [],
   "source": [
    "S = np.array([list(map(lambda j: j.count(thechar), compounds)) for thechar in monomers])\n",
    "c = np.array([[.3, .4, .3]]).T"
   ]
  },
  {
   "cell_type": "code",
   "execution_count": null,
   "metadata": {
    "ExecuteTime": {
     "end_time": "2018-03-07T10:18:42.629956Z",
     "start_time": "2018-03-07T10:18:42.623350Z"
    }
   },
   "outputs": [],
   "source": [
    "print(S)"
   ]
  },
  {
   "cell_type": "code",
   "execution_count": null,
   "metadata": {
    "ExecuteTime": {
     "end_time": "2018-03-07T10:18:43.169105Z",
     "start_time": "2018-03-07T10:18:43.161467Z"
    }
   },
   "outputs": [],
   "source": [
    "print(c)"
   ]
  },
  {
   "cell_type": "markdown",
   "metadata": {},
   "source": [
    "**ASSIGNMENT 2**\n",
    "\n",
    "Use linear programming to find the equilibrium solution at $T=0K$."
   ]
  },
  {
   "cell_type": "code",
   "execution_count": null,
   "metadata": {
    "ExecuteTime": {
     "end_time": "2018-03-07T10:18:45.004999Z",
     "start_time": "2018-03-07T10:18:44.952765Z"
    },
    "collapsed": true
   },
   "outputs": [],
   "source": [
    "from scipy.optimize import linprog"
   ]
  },
  {
   "cell_type": "code",
   "execution_count": null,
   "metadata": {
    "ExecuteTime": {
     "end_time": "2018-03-07T10:18:45.535095Z",
     "start_time": "2018-03-07T10:18:45.487791Z"
    }
   },
   "outputs": [],
   "source": [
    "linprog?"
   ]
  },
  {
   "cell_type": "code",
   "execution_count": null,
   "metadata": {
    "ExecuteTime": {
     "end_time": "2018-03-07T10:18:45.853235Z",
     "start_time": "2018-03-07T10:18:45.849179Z"
    }
   },
   "outputs": [],
   "source": [
    "# min(c^T*x)\n",
    "xstar_0K = linprog(list(map(lambda y:get_enthalpy(y), compounds)),A_eq=S,b_eq=c)"
   ]
  },
  {
   "cell_type": "code",
   "execution_count": null,
   "metadata": {
    "ExecuteTime": {
     "end_time": "2018-03-07T10:18:49.917414Z",
     "start_time": "2018-03-07T10:18:49.914160Z"
    }
   },
   "outputs": [],
   "source": [
    "np.reshape([np.array(compounds),np.array(xstar_0K['x'])],(2,19)).T"
   ]
  },
  {
   "cell_type": "markdown",
   "metadata": {},
   "source": [
    "DESCRIBE THE RESULT"
   ]
  },
  {
   "cell_type": "markdown",
   "metadata": {},
   "source": [
    "**ASSIGNMENT 3**\n",
    "\n",
    "Complete the function and partial derivatives and implement these functions."
   ]
  },
  {
   "cell_type": "markdown",
   "metadata": {},
   "source": [
    "$$\n",
    "\\min_{\\mathbf{x}} \\sum_{i=1}^{19}[h_ix_i + Tx_i \\log x_i]\n",
    "$$\n",
    "$$\n",
    "\\text{subject to } S\\mathbf{x}=\\mathbf{c}\\,.\n",
    "$$"
   ]
  },
  {
   "cell_type": "markdown",
   "metadata": {},
   "source": [
    "**Function**\n",
    "\n",
    "$$\n",
    "f(\\mathbf{x}, T)=\\sum_{i=1}^{19}[h_ix_i + Tx_i \\log x_i]\n",
    "$$"
   ]
  },
  {
   "cell_type": "markdown",
   "metadata": {},
   "source": [
    "**Gradient**\n",
    "\n",
    "$$\n",
    "\\frac{\\partial f(\\mathbf{x}, T)}{\\partial x_i}=h_i + T(log(x_i)+1)\n",
    "$$"
   ]
  },
  {
   "cell_type": "markdown",
   "metadata": {},
   "source": [
    "**Hessian**\n",
    "\n",
    "$$\n",
    "\\frac{\\partial^2 f(\\mathbf{x}, T)}{\\partial x_i^2}=\\cfrac{T}{x_i}\n",
    "$$\n",
    "\n",
    "Note that\n",
    "\n",
    "$$\n",
    "\\frac{\\partial^2 f(\\mathbf{x}, T)}{\\partial x_i\\partial x_j}=0\\, \\, \\qquad \\text{if $i\\neq j$}\n",
    "$$"
   ]
  },
  {
   "cell_type": "code",
   "execution_count": null,
   "metadata": {
    "ExecuteTime": {
     "start_time": "2018-03-07T10:18:05.736Z"
    }
   },
   "outputs": [],
   "source": [
    "def gibbs_fun(x, T, h):\n",
    "    \"\"\"\n",
    "    Negative entropy\n",
    "    Inputs:\n",
    "        - x: vector of the concentrations (19 x 1)\n",
    "        - T: temperature\n",
    "\n",
    "    Output: the function value of the negative entropy\n",
    "    \"\"\"\n",
    "    return np.sum(h@x + T*x@np.log(x))\n",
    "\n",
    "def gibbs_gradient(x, T):\n",
    "    \"\"\"\n",
    "    Gradient of the negative entropy\n",
    "    Inputs:\n",
    "        - x: vector of the concentrations (19 x 1)\n",
    "        - T: temperature\n",
    "\n",
    "    Output: the gradient of the negative entropy\n",
    "        (19 x 1 vector)\n",
    "    \"\"\"\n",
    "    return np.atleast2d(list(map(lambda y:get_enthalpy(y), compounds)).T + T*(np.log(x)+1))\n",
    "\n",
    "def gibbs_hessian(x, T):\n",
    "    \"\"\"\n",
    "    Hessian of negative entropy\n",
    "    Inputs:\n",
    "        - x: vector of the concentrations (19 x 1)\n",
    "        - T: temperature\n",
    "\n",
    "    Output: the gradient of the negative entropy\n",
    "        (19 x 19 matrix)\n",
    "    \"\"\"\n",
    "    return np.eye(x.shape[0])*np.divide(T,x)"
   ]
  },
  {
   "cell_type": "markdown",
   "metadata": {},
   "source": [
    "**ASSIGNMENT 4**\n",
    "\n",
    "Complete the code for a single constrained Newton step for this problem."
   ]
  },
  {
   "cell_type": "code",
   "execution_count": null,
   "metadata": {
    "ExecuteTime": {
     "end_time": "2018-03-07T10:08:27.481383Z",
     "start_time": "2018-03-07T10:08:27.473445Z"
    },
    "collapsed": true
   },
   "outputs": [],
   "source": [
    "def constained_newton_step(x, S, c, T):\n",
    "    \"\"\"\n",
    "    Computes a constrained Newton step for the\n",
    "    Gibbs free energy minimization problem. \n",
    "    \n",
    "    Note: \n",
    "    \n",
    "    Inputs:\n",
    "        - x: point in which to compute the Newton step, does not have to be feasible\n",
    "        - S, c: matrix and vector of the system describing the mass balance\n",
    "        - T: temperature of the system\n",
    "        \n",
    "    Output:\n",
    "        - Dx: the Newton step\n",
    "    \"\"\"\n",
    "    # complete\n",
    "    ddfx = gibbs_hessian(x, T)\n",
    "    dfx = gibbs_gradient(x, T)\n",
    "    A = S\n",
    "    b = c\n",
    "    Dx, _ = solve_constrained_quadratic_problem(ddfx, dfx, A, b - A @ x) # complete!\n",
    "\n",
    "    return Dx"
   ]
  },
  {
   "cell_type": "code",
   "execution_count": null,
   "metadata": {
    "ExecuteTime": {
     "end_time": "2018-03-07T09:39:10.252609Z",
     "start_time": "2018-03-07T09:39:10.234192Z"
    },
    "collapsed": true
   },
   "outputs": [],
   "source": [
    "def linear_constrained_newton(f, x0, grad_f, hess_f,  A, b, stepsize=0.25,\n",
    "                        epsilon=1e-3, trace=False):\n",
    "    '''\n",
    "    Newton's method for minimizing functions with linear constraints.\n",
    "    Inputs:\n",
    "        - f: function to be minimized\n",
    "        - x0: starting point (does not have to be feasible)\n",
    "        - grad_f: gradient of the function to be minimized\n",
    "        - hess_f: hessian matrix of the function to be minimized\n",
    "        - A, b: linear constraints\n",
    "        - stepsize: stepsize for each Newton step (fixed)\n",
    "        - epsilon: parameter to determine if the algortihm is converged\n",
    "        - trace: (bool) store the path that is followed?\n",
    "\n",
    "    Outputs:\n",
    "        - xstar: the found minimum\n",
    "        - x_steps: path in the domain that is followed (if trace=True)\n",
    "        - f_steps: image of x_steps (if trace=True)\n",
    "    '''\n",
    "    assert stepsize < 1 and stepsize > 0\n",
    "    x = x0  # initial value\n",
    "    p, n = A.shape\n",
    "    if trace: x_steps = [x.copy()]\n",
    "    if trace: f_steps = [f(x0)]\n",
    "    while True:\n",
    "        ddfx = hess_f(x)\n",
    "        dfx = grad_f(x)\n",
    "        r = b - A.dot(x)\n",
    "        Dx, _ = solve_constrained_quadratic_problem(ddfx, dfx, A, r)\n",
    "        newton_decrement = - np.sum(Dx * dfx) / 2\n",
    "        if newton_decrement < epsilon:  # stopping criterion\n",
    "            break  # converged\n",
    "        x += stepsize * Dx\n",
    "        if trace: x_steps.append(x.copy())\n",
    "        if trace: f_steps.append(f(x))\n",
    "    if trace: return x, x_steps, f_steps\n",
    "    else: return x\n"
   ]
  },
  {
   "cell_type": "code",
   "execution_count": null,
   "metadata": {
    "ExecuteTime": {
     "end_time": "2018-03-07T10:01:35.026060Z",
     "start_time": "2018-03-07T10:01:35.018939Z"
    },
    "collapsed": true
   },
   "outputs": [],
   "source": [
    "def constained_newton_step(x, S, c, T):\n",
    "    \"\"\"\n",
    "    Computes a constrained Newton step for the\n",
    "    Gibbs free energy minimization problem.  P=hession, q is grad\n",
    "    \n",
    "    Note: \n",
    "    \n",
    "    Inputs:\n",
    "        - x: point in which to compute the Newton step, does not have to be feasible\n",
    "        - S, c: matrix and vector of the system describing the mass balance\n",
    "        - T: temperature of the system\n",
    "        \n",
    "    Output:\n",
    "        - Dx: the Newton step\n",
    "    \"\"\"\n",
    "    p, n = S.shape  # size of the problem\n",
    "    solution = np.linalg.solve(np.bmat([[gibbs_hessian(x,T), S.T],\n",
    "                [S, np.zeros((p, p))]]), np.bmat([[- gibbs_gradient(x,T)], [c]]))\n",
    "    xstar = solution[:n]list(map(lambda y:get_enthalpy(y), compounds))\n",
    "    vstar = solution[n:]\n",
    "    return np.array(xstar), np.array(vstar)"
   ]
  },
  {
   "cell_type": "code",
   "execution_count": null,
   "metadata": {
    "ExecuteTime": {
     "start_time": "2018-03-07T10:15:15.637Z"
    }
   },
   "outputs": [],
   "source": [
    "%debug"
   ]
  },
  {
   "cell_type": "code",
   "execution_count": null,
   "metadata": {
    "ExecuteTime": {
     "end_time": "2018-03-07T10:06:10.522024Z",
     "start_time": "2018-03-07T10:06:10.510082Z"
    }
   },
   "outputs": [],
   "source": [
    "# test step (does it make any sense?)\n",
    "constained_newton_step(np.ones((19,1)) / 10, S, c, T=100)"
   ]
  },
  {
   "cell_type": "markdown",
   "metadata": {},
   "source": [
    "**ASSIGNMENT 5**\n",
    "\n",
    "Complete the code for Newton's method for finding the optimal concentration vector."
   ]
  },
  {
   "cell_type": "code",
   "execution_count": null,
   "metadata": {
    "collapsed": true
   },
   "outputs": [],
   "source": [
    "def newton_oligomerization(x0, S, c, T, stepsize, tolerance=1e-10, epsilon=1e-7):\n",
    "    \"\"\"\n",
    "    Newton's method for finding concentrations that minimize the Gibbs free energy\n",
    "    at a specific temperature\n",
    "    \n",
    "    Inputs:\n",
    "        - x0: starting point, vector with strictly positive elements,\n",
    "                    but not necessarily feasible\n",
    "        - S, c: matrix and vector of the system describing the mass balance\n",
    "        - T: temperature of the system\n",
    "        - stepsize: fixed step size\n",
    "        - tolerance: tolerance parameter to make the vectors strictly feasible\n",
    "            after every step, minimum value of every element in x\n",
    "        - epsilon: tolerance for stopping\n",
    "        \n",
    "    Output:\n",
    "        - x: minimizer\n",
    "    \"\"\"\n",
    "    x = x0\n",
    "    while True:\n",
    "        Dx = ...  # compute search direction\n",
    "        if ...:  # determine convergence\n",
    "            break\n",
    "        # update x\n",
    "        # make x feasible\n",
    "    return x"
   ]
  },
  {
   "cell_type": "code",
   "execution_count": null,
   "metadata": {
    "collapsed": true
   },
   "outputs": [],
   "source": [
    "# starting points should contain positive concentrations\n",
    "# but not necessarily satisfy mass balance\n",
    "x0 = np.ones(...)"
   ]
  },
  {
   "cell_type": "code",
   "execution_count": null,
   "metadata": {
    "collapsed": true,
    "scrolled": false
   },
   "outputs": [],
   "source": [
    "# Compute the equilibrium concentrations\n",
    "\n",
    "xstar_100K = ..."
   ]
  },
  {
   "cell_type": "code",
   "execution_count": null,
   "metadata": {
    "collapsed": true
   },
   "outputs": [],
   "source": [
    "# check if solution satisfies mass balance\n",
    "..."
   ]
  },
  {
   "cell_type": "markdown",
   "metadata": {},
   "source": [
    "**Assignment 6**"
   ]
  },
  {
   "cell_type": "code",
   "execution_count": null,
   "metadata": {
    "collapsed": true
   },
   "outputs": [],
   "source": [
    "# functions for calculating entropy and enthalpy\n",
    "entropy = lambda x : - np.sum(x * np.log(x))\n",
    "enthalpy = lambda x : np.sum(enthalpies * x.reshape((-1, 1)))"
   ]
  },
  {
   "cell_type": "code",
   "execution_count": null,
   "metadata": {
    "collapsed": true
   },
   "outputs": [],
   "source": [
    "# compute the obtained concentrations, entropy en enthalpy at different tempartures"
   ]
  },
  {
   "cell_type": "code",
   "execution_count": null,
   "metadata": {
    "collapsed": true
   },
   "outputs": [],
   "source": [
    "# plot the results"
   ]
  },
  {
   "cell_type": "markdown",
   "metadata": {},
   "source": [
    "**Describe the obtained plots and give a physicochemical interpretation**\n",
    "\n",
    "YOUR TEXT HERE"
   ]
  },
  {
   "cell_type": "markdown",
   "metadata": {
    "collapsed": true
   },
   "source": [
    "**Assignment 7**"
   ]
  },
  {
   "cell_type": "code",
   "execution_count": null,
   "metadata": {
    "collapsed": true
   },
   "outputs": [],
   "source": [
    "# Use grid search to find initial mixtures of A, B and C that give rise to mixtures\n",
    "# with the highest entropy, lowest entropy and highest concentration of CBA at 100K."
   ]
  },
  {
   "cell_type": "markdown",
   "metadata": {},
   "source": [
    "**Find inital mixture which will lead to the highest entropy.**"
   ]
  },
  {
   "cell_type": "code",
   "execution_count": null,
   "metadata": {
    "collapsed": true
   },
   "outputs": [],
   "source": [
    "# your code here"
   ]
  },
  {
   "cell_type": "markdown",
   "metadata": {},
   "source": [
    "**Find inital mixture which will lead to the lowest enthalpy.**"
   ]
  },
  {
   "cell_type": "code",
   "execution_count": null,
   "metadata": {
    "collapsed": true
   },
   "outputs": [],
   "source": [
    "# your code here"
   ]
  },
  {
   "cell_type": "markdown",
   "metadata": {},
   "source": [
    "**Find inital mixture which will lead to the highest concentration CBA.**"
   ]
  },
  {
   "cell_type": "code",
   "execution_count": null,
   "metadata": {
    "collapsed": true
   },
   "outputs": [],
   "source": [
    "# your code here"
   ]
  },
  {
   "cell_type": "markdown",
   "metadata": {
    "collapsed": true
   },
   "source": [
    "## References\n",
    "\n",
    "Boyd, S. and Vandenberghe, L., '*[Convex Optimization](https://web.stanford.edu/~boyd/cvxbook/bv_cvxbook.pdf)*'. Cambridge University Press (2004)"
   ]
  },
  {
   "cell_type": "code",
   "execution_count": null,
   "metadata": {
    "collapsed": true
   },
   "outputs": [],
   "source": []
  }
 ],
 "metadata": {
  "anaconda-cloud": {},
  "kernelspec": {
   "display_name": "Python 3",
   "language": "python",
   "name": "python3"
  },
  "language_info": {
   "codemirror_mode": {
    "name": "ipython",
    "version": 3
   },
   "file_extension": ".py",
   "mimetype": "text/x-python",
   "name": "python",
   "nbconvert_exporter": "python",
   "pygments_lexer": "ipython3",
   "version": "3.6.3"
  },
  "latex_envs": {
   "LaTeX_envs_menu_present": true,
   "autocomplete": true,
   "bibliofile": "biblio.bib",
   "cite_by": "apalike",
   "current_citInitial": 1,
   "eqLabelWithNumbers": true,
   "eqNumInitial": 0,
   "hotkeys": {
    "equation": "Ctrl-E",
    "itemize": "Ctrl-I"
   },
   "labels_anchors": false,
   "latex_user_defs": false,
   "report_style_numbering": false,
   "user_envs_cfg": false
  },
  "toc": {
   "nav_menu": {},
   "number_sections": true,
   "sideBar": true,
   "skip_h1_title": false,
   "toc_cell": false,
   "toc_position": {},
   "toc_section_display": "block",
   "toc_window_display": false
  }
 },
 "nbformat": 4,
 "nbformat_minor": 1
}
