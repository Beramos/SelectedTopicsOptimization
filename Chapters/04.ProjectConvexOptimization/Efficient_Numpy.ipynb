{
 "cells": [
  {
   "cell_type": "markdown",
   "metadata": {
    "slideshow": {
     "slide_type": "slide"
    }
   },
   "source": [
    "# Using Numpy efficiently\n",
    "\n",
    "**Michiel Stock** [email](michiel.stock@ugent.be)"
   ]
  },
  {
   "cell_type": "code",
   "execution_count": 1,
   "metadata": {
    "collapsed": true,
    "slideshow": {
     "slide_type": "skip"
    }
   },
   "outputs": [],
   "source": [
    "import numpy as np"
   ]
  },
  {
   "cell_type": "markdown",
   "metadata": {
    "slideshow": {
     "slide_type": "slide"
    }
   },
   "source": [
    "## Vectorization\n",
    "\n",
    "- *Python*: easy to use, but very slow (at lower level)"
   ]
  },
  {
   "cell_type": "markdown",
   "metadata": {
    "slideshow": {
     "slide_type": "fragment"
    }
   },
   "source": [
    "- *C*: very hard to use and learn, but extremely fast!"
   ]
  },
  {
   "cell_type": "markdown",
   "metadata": {
    "slideshow": {
     "slide_type": "fragment"
    }
   },
   "source": [
    "- *Numpy* is a python library implemented in C"
   ]
  },
  {
   "cell_type": "markdown",
   "metadata": {
    "slideshow": {
     "slide_type": "fragment"
    }
   },
   "source": [
    "> Try to avoid for-loops in favor for implementation in pure Numpy (**faster** + **cleaner**)!"
   ]
  },
  {
   "cell_type": "markdown",
   "metadata": {
    "slideshow": {
     "slide_type": "subslide"
    }
   },
   "source": [
    "### Example: implementing the gradient of logistic loss\n",
    "\n",
    "$$\n",
    "\\nabla L(w) = \\sum_{i=1}^n (y_i - \\sigma_i)x_i\n",
    "$$"
   ]
  },
  {
   "cell_type": "code",
   "execution_count": 2,
   "metadata": {
    "collapsed": true,
    "slideshow": {
     "slide_type": "fragment"
    }
   },
   "outputs": [],
   "source": [
    "# make some matrices\n",
    "n, p = 1000, 100\n",
    "\n",
    "X = np.random.randn(n, p)\n",
    "y = np.random.binomial(1, 0.4, (n,))\n",
    "sigma = np.random.rand(n)"
   ]
  },
  {
   "cell_type": "code",
   "execution_count": 3,
   "metadata": {
    "collapsed": true,
    "slideshow": {
     "slide_type": "subslide"
    }
   },
   "outputs": [],
   "source": [
    "def gradient_for_loop():\n",
    "    grad = np.zeros((p, ))\n",
    "    for i in range(n):\n",
    "        xi = X[i,:]\n",
    "        grad = grad + (y[i] - sigma[i]) * xi\n",
    "    return grad"
   ]
  },
  {
   "cell_type": "code",
   "execution_count": 4,
   "metadata": {
    "collapsed": true,
    "slideshow": {
     "slide_type": "fragment"
    }
   },
   "outputs": [],
   "source": [
    "def gradient_vectorized():\n",
    "    grad = X.T @ (y - sigma)\n",
    "    return grad"
   ]
  },
  {
   "cell_type": "code",
   "execution_count": 5,
   "metadata": {
    "collapsed": false,
    "slideshow": {
     "slide_type": "subslide"
    }
   },
   "outputs": [
    {
     "data": {
      "text/plain": [
       "array([ 21.99389426, -11.57360697,   4.47161575, -13.93187941,\n",
       "       -28.81296467, -19.97097842,   0.17146261, -32.96477955,\n",
       "       -16.52864115,   5.38117259])"
      ]
     },
     "execution_count": 5,
     "metadata": {},
     "output_type": "execute_result"
    }
   ],
   "source": [
    "gradient_for_loop()[:10]"
   ]
  },
  {
   "cell_type": "code",
   "execution_count": 6,
   "metadata": {
    "collapsed": false,
    "scrolled": false,
    "slideshow": {
     "slide_type": "fragment"
    }
   },
   "outputs": [
    {
     "data": {
      "text/plain": [
       "array([ 21.99389426, -11.57360697,   4.47161575, -13.93187941,\n",
       "       -28.81296467, -19.97097842,   0.17146261, -32.96477955,\n",
       "       -16.52864115,   5.38117259])"
      ]
     },
     "execution_count": 6,
     "metadata": {},
     "output_type": "execute_result"
    }
   ],
   "source": [
    "gradient_vectorized()[:10]"
   ]
  },
  {
   "cell_type": "code",
   "execution_count": 7,
   "metadata": {
    "collapsed": false,
    "slideshow": {
     "slide_type": "subslide"
    }
   },
   "outputs": [
    {
     "name": "stdout",
     "output_type": "stream",
     "text": [
      "100 loops, best of 3: 5.67 ms per loop\n"
     ]
    }
   ],
   "source": [
    "%timeit gradient_for_loop()"
   ]
  },
  {
   "cell_type": "code",
   "execution_count": 8,
   "metadata": {
    "collapsed": false,
    "scrolled": true,
    "slideshow": {
     "slide_type": "fragment"
    }
   },
   "outputs": [
    {
     "name": "stdout",
     "output_type": "stream",
     "text": [
      "The slowest run took 334.60 times longer than the fastest. This could mean that an intermediate result is being cached.\n",
      "10000 loops, best of 3: 33.2 µs per loop\n"
     ]
    }
   ],
   "source": [
    "%timeit gradient_vectorized()"
   ]
  },
  {
   "cell_type": "markdown",
   "metadata": {
    "slideshow": {
     "slide_type": "slide"
    }
   },
   "source": [
    "## Broadcasting\n",
    "\n",
    "Adding, multiplying matrices in Numpy do not need to be of the same shape = broadcasting of a matrix."
   ]
  },
  {
   "cell_type": "markdown",
   "metadata": {
    "slideshow": {
     "slide_type": "subslide"
    }
   },
   "source": [
    "![Example of Broadcasting](Figures/numpy_broadcasting.png)"
   ]
  },
  {
   "cell_type": "markdown",
   "metadata": {
    "slideshow": {
     "slide_type": "subslide"
    }
   },
   "source": [
    "$$\n",
    "\\nabla L(w) = \\sum_{i=1}^n x_i x_i^\\top \\sigma_i (1-\\sigma_i)\n",
    "$$"
   ]
  },
  {
   "cell_type": "code",
   "execution_count": 9,
   "metadata": {
    "collapsed": true,
    "slideshow": {
     "slide_type": "subslide"
    }
   },
   "outputs": [],
   "source": [
    "def hessian_for_loop():\n",
    "    hess = np.zeros((p, p))\n",
    "    for i in range(n):\n",
    "        xi = X[i,:]\n",
    "        sigma_i = sigma[i]\n",
    "        hess = hess + xi.reshape((-1, 1)) @ xi.reshape((1, -1)) * sigma_i * (1 - sigma_i)\n",
    "    return hess"
   ]
  },
  {
   "cell_type": "code",
   "execution_count": 10,
   "metadata": {
    "collapsed": true,
    "slideshow": {
     "slide_type": "fragment"
    }
   },
   "outputs": [],
   "source": [
    "def hessian_broadcasting():\n",
    "    hess = (X.T * sigma * (1 - sigma)) @ X\n",
    "    return hess"
   ]
  },
  {
   "cell_type": "code",
   "execution_count": 11,
   "metadata": {
    "collapsed": false,
    "slideshow": {
     "slide_type": "subslide"
    }
   },
   "outputs": [
    {
     "data": {
      "text/plain": [
       "array([[ 156.59217927,   -3.4892104 ,    8.66727622,   -1.20859036,\n",
       "          -5.70330684],\n",
       "       [  -3.4892104 ,  177.39696315,    4.12844963,   -3.03388487,\n",
       "           8.54097822],\n",
       "       [   8.66727622,    4.12844963,  165.31682672,    3.95981756,\n",
       "          -2.49870471],\n",
       "       [  -1.20859036,   -3.03388487,    3.95981756,  166.41677289,\n",
       "           0.92905495],\n",
       "       [  -5.70330684,    8.54097822,   -2.49870471,    0.92905495,\n",
       "         169.06622693]])"
      ]
     },
     "execution_count": 11,
     "metadata": {},
     "output_type": "execute_result"
    }
   ],
   "source": [
    "hessian_for_loop()[:5,:][:,:5]"
   ]
  },
  {
   "cell_type": "code",
   "execution_count": 12,
   "metadata": {
    "collapsed": false,
    "slideshow": {
     "slide_type": "fragment"
    }
   },
   "outputs": [
    {
     "data": {
      "text/plain": [
       "array([[ 156.59217927,   -3.4892104 ,    8.66727622,   -1.20859036,\n",
       "          -5.70330684],\n",
       "       [  -3.4892104 ,  177.39696315,    4.12844963,   -3.03388487,\n",
       "           8.54097822],\n",
       "       [   8.66727622,    4.12844963,  165.31682672,    3.95981756,\n",
       "          -2.49870471],\n",
       "       [  -1.20859036,   -3.03388487,    3.95981756,  166.41677289,\n",
       "           0.92905495],\n",
       "       [  -5.70330684,    8.54097822,   -2.49870471,    0.92905495,\n",
       "         169.06622693]])"
      ]
     },
     "execution_count": 12,
     "metadata": {},
     "output_type": "execute_result"
    }
   ],
   "source": [
    "hessian_broadcasting()[:5,:][:,:5]"
   ]
  },
  {
   "cell_type": "code",
   "execution_count": 13,
   "metadata": {
    "collapsed": false,
    "slideshow": {
     "slide_type": "subslide"
    }
   },
   "outputs": [
    {
     "name": "stdout",
     "output_type": "stream",
     "text": [
      "10 loops, best of 3: 52.4 ms per loop\n"
     ]
    }
   ],
   "source": [
    "%timeit hessian_for_loop()"
   ]
  },
  {
   "cell_type": "code",
   "execution_count": 14,
   "metadata": {
    "collapsed": false,
    "scrolled": true,
    "slideshow": {
     "slide_type": "fragment"
    }
   },
   "outputs": [
    {
     "name": "stdout",
     "output_type": "stream",
     "text": [
      "100 loops, best of 3: 1.07 ms per loop\n"
     ]
    }
   ],
   "source": [
    "%timeit hessian_broadcasting()"
   ]
  },
  {
   "cell_type": "markdown",
   "metadata": {
    "slideshow": {
     "slide_type": "slide"
    }
   },
   "source": [
    "## Memory use\n",
    "\n",
    "Initializing a matrix using `np.ones`, `np.zeros`, `np.random.rand` etc. or making a new matrix **consumes memory**."
   ]
  },
  {
   "cell_type": "markdown",
   "metadata": {
    "slideshow": {
     "slide_type": "fragment"
    }
   },
   "source": [
    "> `x = x + v  #  make NEW matrix x`"
   ]
  },
  {
   "cell_type": "markdown",
   "metadata": {
    "slideshow": {
     "slide_type": "fragment"
    }
   },
   "source": [
    "> `x += v  #  update elements of x`\n",
    "\n",
    "or, equivalently,\n",
    "\n",
    "> `x[:] = x + v  #  update elements of x`"
   ]
  },
  {
   "cell_type": "code",
   "execution_count": 15,
   "metadata": {
    "collapsed": true,
    "slideshow": {
     "slide_type": "subslide"
    }
   },
   "outputs": [],
   "source": [
    "def replace_matrix(n_steps=50, size=(5000, 5000)):\n",
    "    x = np.zeros(size)\n",
    "    for i in range(n_steps):\n",
    "        x = x + 1  # new matrix every step\n",
    "    return x"
   ]
  },
  {
   "cell_type": "code",
   "execution_count": 16,
   "metadata": {
    "collapsed": true,
    "slideshow": {
     "slide_type": "fragment"
    }
   },
   "outputs": [],
   "source": [
    "def inplace_matrix(n_steps=50, size=(5000, 5000)):\n",
    "    x = np.zeros(size)\n",
    "    for i in range(n_steps):\n",
    "        x += 1  # update elements IN matrix\n",
    "    return x"
   ]
  },
  {
   "cell_type": "code",
   "execution_count": 17,
   "metadata": {
    "collapsed": false,
    "slideshow": {
     "slide_type": "subslide"
    }
   },
   "outputs": [
    {
     "name": "stdout",
     "output_type": "stream",
     "text": [
      "1 loop, best of 3: 7.22 s per loop\n"
     ]
    }
   ],
   "source": [
    "%timeit replace_matrix()"
   ]
  },
  {
   "cell_type": "code",
   "execution_count": 18,
   "metadata": {
    "collapsed": false,
    "slideshow": {
     "slide_type": "fragment"
    }
   },
   "outputs": [
    {
     "name": "stdout",
     "output_type": "stream",
     "text": [
      "1 loop, best of 3: 1.33 s per loop\n"
     ]
    }
   ],
   "source": [
    "%timeit inplace_matrix()"
   ]
  }
 ],
 "metadata": {
  "anaconda-cloud": {},
  "celltoolbar": "Slideshow",
  "kernelspec": {
   "display_name": "Python [conda root]",
   "language": "python",
   "name": "conda-root-py"
  },
  "language_info": {
   "codemirror_mode": {
    "name": "ipython",
    "version": 3
   },
   "file_extension": ".py",
   "mimetype": "text/x-python",
   "name": "python",
   "nbconvert_exporter": "python",
   "pygments_lexer": "ipython3",
   "version": "3.5.2"
  }
 },
 "nbformat": 4,
 "nbformat_minor": 1
}
