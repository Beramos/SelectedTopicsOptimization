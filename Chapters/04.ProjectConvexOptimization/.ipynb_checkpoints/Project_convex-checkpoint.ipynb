{
 "cells": [
  {
   "cell_type": "markdown",
   "metadata": {},
   "source": [
    "# Project convex optimization: oligomerization of proteins\n",
    "\n",
    "*Selected Topics in Mathematical Optimization: 2017-2018*\n",
    "\n",
    "**Michiel Stock** ([email](michiel.stock@ugent.be))\n",
    "\n",
    "![](Figures/logo.png)"
   ]
  },
  {
   "cell_type": "markdown",
   "metadata": {},
   "source": [
    "Daan Van Hauwermeiren, Bram De Jaegher"
   ]
  },
  {
   "cell_type": "code",
   "execution_count": 1,
   "metadata": {
    "ExecuteTime": {
     "end_time": "2018-03-20T15:02:17.282667Z",
     "start_time": "2018-03-20T15:02:16.934741Z"
    },
    "collapsed": true
   },
   "outputs": [],
   "source": [
    "import numpy as np\n",
    "import matplotlib.pyplot as plt\n",
    "%matplotlib inline\n",
    "plt.style.use('classic')\n",
    "plt.style.use('fivethirtyeight')\n",
    "plt.style.use('seaborn-dark')\n",
    "import pandas as pd"
   ]
  },
  {
   "cell_type": "markdown",
   "metadata": {},
   "source": [
    "In this project we will study the association of protein complexes through the principle of **entropy maximization**. \n",
    "\n",
    "Consider the following three proteins: A, B and C:\n",
    "\n",
    "![Three monomeric proteins.](Figures/monomers.jpg)\n",
    "\n",
    "Each of these proteins has sites which it can use to reversible bind to other proteins. Two types of interactions can be distinguished:\n",
    "- **weak type I interactions**: protein A has one type I donor site, protein C has one type I acceptor site and protein B has both an acceptor and a donor site. In the figures, these sites are indicated as a triangle sticking in (acceptor) or out (donor) the protein.\n",
    "- **strong type II interaction**: protein A has one type II acceptor site and protein C has one type II donor site. These sites are depicted as two bumps sticking out or pressing in the protein."
   ]
  },
  {
   "cell_type": "markdown",
   "metadata": {},
   "source": [
    "These sites allow for dimerisation of the proteins. All possible homo- and hetero-dimers are shown below.\n",
    "\n",
    "![The proteins can form dimers according to their sites.](Figures/dimers.jpg)\n",
    "\n",
    "But tri-and tetramers can also be formed:\n",
    "\n",
    "![One trimer and three tetramers.](Figures/oligomers.jpg)\n",
    "\n",
    "Let us use one (monomer), two (dimer), three (trimer) and four (tetramer) character long strings to denote all possible conformations. Here we use the convention that the string $P_1P_2P_3P_4$ represents the tetramer\n",
    "$$\n",
    "\\left (\\begin{array}{cc}\n",
    "P_1 & P_2 \\\\\n",
    "P_4 & P_3\\end{array} \n",
    "\\right ) \\,.\n",
    "$$\n",
    "\n",
    "Note that in our notation, we have\n",
    "$$\n",
    "P_1P_2P_3P_4 = P_4P_1P_2P_3 = P_3P_4P_1P_2 = P_2P_3P_4P_1\\,,\n",
    "$$\n",
    "but\n",
    "$$\n",
    "P_1P_2P_3 \\neq P_3P_1P_2 \\neq P_2P_3P_1\\,.\n",
    "$$\n",
    "\n",
    "The following code identifies all unique mono-and oligomers."
   ]
  },
  {
   "cell_type": "code",
   "execution_count": 2,
   "metadata": {
    "ExecuteTime": {
     "end_time": "2018-03-20T15:02:19.727268Z",
     "start_time": "2018-03-20T15:02:19.696411Z"
    }
   },
   "outputs": [
    {
     "name": "stdout",
     "output_type": "stream",
     "text": [
      "There are 19 unique compounds\n"
     ]
    }
   ],
   "source": [
    "monomers = set(['A', 'B', 'C'])\n",
    "\n",
    "dimers = set(['AC', 'CB', 'CA', 'BA', 'BB'])\n",
    "\n",
    "trimers = set([dm1 + dm2[1] for dm1 in dimers\n",
    "               for dm2 in dimers if dm1[1:] == dm2[:-1]])\n",
    "\n",
    "tetramers = set([dm1 + dm2[2] for dm1 in trimers\n",
    "                 for dm2 in trimers if dm1[1:] == dm2[:-1]\n",
    "                 if dm2[-1] + dm1[0] in dimers])\n",
    "\n",
    "# some tetramers are counted multiple times, because our encoding is not unique\n",
    "# let us remove duplicates\n",
    "\n",
    "lowest_lexo = lambda polymer : sorted([polymer[i:] + polymer[:i] for i in range(len(polymer))])[0]\n",
    "tetramers = set(map(lowest_lexo, tetramers))\n",
    "\n",
    "compounds = monomers | dimers | trimers | tetramers\n",
    "compounds = list(compounds)\n",
    "compounds.sort()\n",
    "monomers =list(monomers)\n",
    "monomers.sort()\n",
    "\n",
    "print('There are {} unique compounds'.format(len(compounds)))"
   ]
  },
  {
   "cell_type": "code",
   "execution_count": 3,
   "metadata": {
    "ExecuteTime": {
     "end_time": "2018-03-20T15:02:21.393484Z",
     "start_time": "2018-03-20T15:02:21.379997Z"
    }
   },
   "outputs": [
    {
     "data": {
      "text/plain": [
       "['A', 'B', 'C']"
      ]
     },
     "execution_count": 3,
     "metadata": {},
     "output_type": "execute_result"
    }
   ],
   "source": [
    "monomers"
   ]
  },
  {
   "cell_type": "code",
   "execution_count": 4,
   "metadata": {
    "ExecuteTime": {
     "end_time": "2018-03-20T15:02:21.708049Z",
     "start_time": "2018-03-20T15:02:21.701613Z"
    },
    "scrolled": true
   },
   "outputs": [
    {
     "data": {
      "text/plain": [
       "['A',\n",
       " 'AC',\n",
       " 'ACA',\n",
       " 'ACAC',\n",
       " 'ACB',\n",
       " 'ACBB',\n",
       " 'B',\n",
       " 'BA',\n",
       " 'BAC',\n",
       " 'BB',\n",
       " 'BBA',\n",
       " 'BBB',\n",
       " 'BBBB',\n",
       " 'C',\n",
       " 'CA',\n",
       " 'CAC',\n",
       " 'CB',\n",
       " 'CBA',\n",
       " 'CBB']"
      ]
     },
     "execution_count": 4,
     "metadata": {},
     "output_type": "execute_result"
    }
   ],
   "source": [
    "compounds"
   ]
  },
  {
   "cell_type": "markdown",
   "metadata": {},
   "source": [
    "Oligiomerzation is a process that releases energy. The change of heat in a system is quantified by the enthalpy. Formation of a type I bonds results in a change of enthalphy of $\\Delta H$ of -1 Joule / mol (heat is released when two monomers bind), while type II bonds have a change of enthalpy of $\\Delta H$ of -2 Joule / mol.\n",
    "\n",
    "The following piece of code returns the energy the formation enthalpy of a compound."
   ]
  },
  {
   "cell_type": "code",
   "execution_count": 5,
   "metadata": {
    "ExecuteTime": {
     "end_time": "2018-03-20T15:02:23.003843Z",
     "start_time": "2018-03-20T15:02:22.988146Z"
    },
    "collapsed": true
   },
   "outputs": [],
   "source": [
    "binding_enthalpy = {'AC' : -2, 'BA' : -1, 'BB' : -1, 'CA' : -1, 'CB' : -1}\n",
    "\n",
    "def get_enthalpy(compound):\n",
    "    if len(compound) == 1:\n",
    "        return 0  # no bonds\n",
    "    else:\n",
    "        enthalpy = 0\n",
    "        for i in range(len(compound) - 1):\n",
    "            dimer = compound[i:i+2]\n",
    "            enthalpy += binding_enthalpy[dimer]\n",
    "        if len(compound)==4:\n",
    "            enthalpy += binding_enthalpy[compound[-1] + compound[0]]\n",
    "        return enthalpy"
   ]
  },
  {
   "cell_type": "code",
   "execution_count": 6,
   "metadata": {
    "ExecuteTime": {
     "end_time": "2018-03-20T15:02:23.871214Z",
     "start_time": "2018-03-20T15:02:23.842895Z"
    }
   },
   "outputs": [
    {
     "name": "stdout",
     "output_type": "stream",
     "text": [
      "Formation enthalpies:\n",
      "A => 0\n",
      "AC => -2\n",
      "ACA => -3\n",
      "ACAC => -6\n",
      "ACB => -3\n",
      "ACBB => -5\n",
      "B => 0\n",
      "BA => -1\n",
      "BAC => -3\n",
      "BB => -1\n",
      "BBA => -2\n",
      "BBB => -2\n",
      "BBBB => -4\n",
      "C => 0\n",
      "CA => -1\n",
      "CAC => -3\n",
      "CB => -1\n",
      "CBA => -2\n",
      "CBB => -2\n"
     ]
    }
   ],
   "source": [
    "enthalpies_dict = {compound : get_enthalpy(compound) for compound in compounds}\n",
    "\n",
    "print('Formation enthalpies:')\n",
    "for compound, enthalpy in enthalpies_dict.items():\n",
    "    print('{} => {}'.format(compound, enthalpy))\n",
    "    \n",
    "enthalpies = [enthalpies_dict[comp] for comp in compounds]  # as list, same order as compounds\n",
    "enthalpies = np.array(enthalpies).reshape((-1, 1))  # as Numpy array"
   ]
  },
  {
   "cell_type": "markdown",
   "metadata": {},
   "source": [
    "Since all the association and dissociation reactions are assumed to be reversible, a mixture of the three monomers should give rise to all possible mono- and oligomers (though not necessarily in equal quantities). We will assume that the system will go to an equilibrium where the Gibbs free engery is highest. The Gibbs free energy depends both on the entropy as well as the enthalpy of the system."
   ]
  },
  {
   "cell_type": "markdown",
   "metadata": {},
   "source": [
    "Let us denote $x$ as the vector containing the concentrations of the 19 possible species. The entropy of the system is given by\n",
    "\n",
    "$$\n",
    "S(\\mathbf{x}) = - \\sum_{i=1}^{19}x_i \\log x_i\\,.\n",
    "$$"
   ]
  },
  {
   "cell_type": "markdown",
   "metadata": {},
   "source": [
    "The enthalpy of the system is given by\n",
    "\n",
    "$$\n",
    "H(\\mathbf{x}) = \\sum_{i=1}^{19}x_i h_i\\,,\n",
    "$$\n",
    "\n",
    "with $h_i$ the formation enthalpy of compound $i$."
   ]
  },
  {
   "cell_type": "markdown",
   "metadata": {},
   "source": [
    "The Gibbs free energy is then given by\n",
    "\n",
    "$$\n",
    "G(\\mathbf{x}) = H(\\mathbf{x}) - T S(\\mathbf{x})\n",
    "$$\n",
    "\n",
    "with $T\\geq0$ the temperature of the system (in Kelvin). Systems with a constant temperture go to a state with a minimal Gibbs free energy."
   ]
  },
  {
   "cell_type": "markdown",
   "metadata": {},
   "source": [
    "Note that:\n",
    "- By low temperatures, enthalpy dominates. The enthalpy can be raised by the formation of oligomers with multiple low-energy bonds.\n",
    "- By high temperature, entropy dominates. High entropy can be obtained by having many different species at a low concentration."
   ]
  },
  {
   "cell_type": "markdown",
   "metadata": {},
   "source": [
    "The concentration of each species can not be freely chosen, vector $x$ has two types of constraints:\n",
    "- **equality constraints**: there is a conservation of mass: the total quantity of A, B, C in all the species should remain constant. These form four linear equality contraints.\n",
    "- **inequality constraints**: since $x$ is a vector with concentrations all elements should be larger than zero: i.e. $x_i \\geq 0$. "
   ]
  },
  {
   "cell_type": "markdown",
   "metadata": {},
   "source": [
    "The equality constraints are given by the stoichiometric matrix $S$, a $3\\times 19$ matrix which quantifies how many of individual molecules $A$, $B$ and $C$ are in a complex and $c$ is the vector of length 3 containing the total of $A$, $B$ and $C$ in the system."
   ]
  },
  {
   "cell_type": "markdown",
   "metadata": {},
   "source": [
    "The optimization problem can thus be formulated as follows:\n",
    "\n",
    "$$\n",
    "\\min_\\mathbf{x} G(\\mathbf{x}) = H(\\mathbf{x}) - T S(\\mathbf{x})\n",
    "$$\n",
    "$$\n",
    "\\text{subject to }  \\mathbf{x} \\succeq 0\n",
    "$$\n",
    "$$\n",
    "S\\mathbf{x}=\\mathbf{c}\\,.\n",
    "$$"
   ]
  },
  {
   "cell_type": "markdown",
   "metadata": {},
   "source": [
    "In this project you will have to find the equilibrium concentrations by minimizing the Gibbs free energy by a given temperature."
   ]
  },
  {
   "cell_type": "markdown",
   "metadata": {},
   "source": [
    "> NOTE: We have chosen **not** to explicitly add the inequality constraints in the optimization problem (i.e. using the logaritmic barrier function). The entropy term will ensure that a minimizer of the Gibbs free energy will always have strictly positive values of $\\mathbf{x}$, i.e. concentrations greater than 0. This can easily be seen by noting that $\\partial S(\\mathbf{x})/\\partial x_i|_{0}=-\\infty$. To circumvent numerical problems, at the end of every Newton step, we will enforce feasibility by making sure that every component of $\\mathbf{x}$ is greater than some small positive tolerance ($10^{-10}$)."
   ]
  },
  {
   "cell_type": "markdown",
   "metadata": {},
   "source": [
    "** Project assignments**\n",
    "\n",
    "1. Suppose that an initial mixture contains only the monomers A, B and C with relative fractions of 0.3, 0.4 and 0.3. Give the matrix $S$ and vector $\\mathbf{c}$ of the linear constraints of the system.\n",
    "2. First assume $T=0$ (no entropy term). In this case the problem is a linear programming problem. Find the equilibrium mixture with the lowest energy. You can use the linear programming solver in `scipy`: `from scipy.optimize import linprog`. What compounds are formed?\n",
    "3. Compute the first and second-order partial derivatives of the Gibbs free energy. Complete the functions `gibbs_fun`, `gibbs_grad` and `gibbs_hessian` which give the function value, gradient and hessian of the Gibbs free energy. These functions take as inputs the vector of concentrations $\\mathbf{x}$ and the temperature $T$. The enthalpy per mol is available in the vector `enthalpies`.\n",
    "4. Complete the implementation for performing linearly constrained Newton step. This function should do a step which satifies the mass balance equations.\n",
    "5. Complete the implementation of `newton_oligiomerization`. Make sure that after every step the concentratons are strictly positive. Use this to calculate the equilibrium concentration of the different species at a temperature of 100 Kelvin. **Check if it satifies the mass balance!**.\n",
    "6. Make a plot of the concentrations, enthalpy and entropy of the equilibrium system at different temperatures. Vary $T$ from $ 10^{-1},\\ldots, 10^3$. Describe what you see.\n",
    "7. Use grid search (step size of 0.05) to find the initial quantities of A, B and C (total quantity is equal to 1, at least 0.05 mol/L of each momomer) that have to be mixed at a temperature of 100K to obain:\n",
    "    - the equilibrium mixture with the highest entropy\n",
    "    - the equilibrium mixture with the lowest enthalphy\n",
    "    - the equilibrium mixture with the highest concentration of CBA"
   ]
  },
  {
   "cell_type": "markdown",
   "metadata": {},
   "source": [
    "**ASSIGNMENT 1**\n",
    "\n",
    "Complete the matrix $S$ and vector $\\mathbf{c}$ to describe the mass balance of the system."
   ]
  },
  {
   "cell_type": "code",
   "execution_count": 7,
   "metadata": {
    "ExecuteTime": {
     "end_time": "2018-03-20T15:02:26.638126Z",
     "start_time": "2018-03-20T15:02:26.628434Z"
    },
    "collapsed": true
   },
   "outputs": [],
   "source": [
    "# your code here!\n",
    "S = np.array([list(map(lambda j: j.count(monomer), compounds)) for monomer in monomers])\n",
    "c = np.array([[.3, .4, .3]]).T"
   ]
  },
  {
   "cell_type": "code",
   "execution_count": 8,
   "metadata": {
    "ExecuteTime": {
     "end_time": "2018-03-20T15:02:26.806822Z",
     "start_time": "2018-03-20T15:02:26.803951Z"
    }
   },
   "outputs": [
    {
     "name": "stdout",
     "output_type": "stream",
     "text": [
      "[[1 1 2 2 1 1 0 1 1 0 1 0 0 0 1 1 0 1 0]\n",
      " [0 0 0 0 1 2 1 1 1 2 2 3 4 0 0 0 1 1 2]\n",
      " [0 1 1 2 1 1 0 0 1 0 0 0 0 1 1 2 1 1 1]]\n"
     ]
    }
   ],
   "source": [
    "print(S)"
   ]
  },
  {
   "cell_type": "code",
   "execution_count": 9,
   "metadata": {
    "ExecuteTime": {
     "end_time": "2018-03-20T15:02:27.020636Z",
     "start_time": "2018-03-20T15:02:27.017962Z"
    }
   },
   "outputs": [
    {
     "name": "stdout",
     "output_type": "stream",
     "text": [
      "[[ 0.3]\n",
      " [ 0.4]\n",
      " [ 0.3]]\n"
     ]
    }
   ],
   "source": [
    "print(c)"
   ]
  },
  {
   "cell_type": "markdown",
   "metadata": {},
   "source": [
    "**ASSIGNMENT 2**\n",
    "\n",
    "Use linear programming to find the equilibrium solution at $T=0K$."
   ]
  },
  {
   "cell_type": "code",
   "execution_count": 10,
   "metadata": {
    "ExecuteTime": {
     "end_time": "2018-03-20T15:02:29.067498Z",
     "start_time": "2018-03-20T15:02:28.993252Z"
    },
    "collapsed": true
   },
   "outputs": [],
   "source": [
    "from scipy.optimize import linprog"
   ]
  },
  {
   "cell_type": "code",
   "execution_count": 11,
   "metadata": {
    "ExecuteTime": {
     "end_time": "2018-03-20T15:02:29.419385Z",
     "start_time": "2018-03-20T15:02:29.412496Z"
    },
    "collapsed": true
   },
   "outputs": [],
   "source": [
    "xstar_0K = linprog(list(map(lambda y:get_enthalpy(y), compounds)), A_eq=S, b_eq=c)['x']"
   ]
  },
  {
   "cell_type": "code",
   "execution_count": 12,
   "metadata": {
    "ExecuteTime": {
     "end_time": "2018-03-20T15:02:29.861433Z",
     "start_time": "2018-03-20T15:02:29.855827Z"
    }
   },
   "outputs": [
    {
     "data": {
      "text/plain": [
       "array([ 0.  ,  0.  ,  0.  ,  0.15,  0.  ,  0.  ,  0.  ,  0.  ,  0.  ,\n",
       "        0.  ,  0.  ,  0.  ,  0.1 ,  0.  ,  0.  ,  0.  ,  0.  ,  0.  ,  0.  ])"
      ]
     },
     "execution_count": 12,
     "metadata": {},
     "output_type": "execute_result"
    }
   ],
   "source": [
    "xstar_0K"
   ]
  },
  {
   "cell_type": "markdown",
   "metadata": {},
   "source": [
    "DESCRIBE THE RESULT"
   ]
  },
  {
   "cell_type": "markdown",
   "metadata": {
    "collapsed": true
   },
   "source": [
    "Get components not equal to zero and their concentration:"
   ]
  },
  {
   "cell_type": "code",
   "execution_count": 13,
   "metadata": {
    "ExecuteTime": {
     "end_time": "2018-03-20T15:02:31.681797Z",
     "start_time": "2018-03-20T15:02:31.678011Z"
    }
   },
   "outputs": [
    {
     "data": {
      "text/plain": [
       "{'ACAC': 0.14999999999999999, 'BBBB': 0.10000000000000001}"
      ]
     },
     "execution_count": 13,
     "metadata": {},
     "output_type": "execute_result"
    }
   ],
   "source": [
    "{i:j for i,j in zip(np.array(compounds)[xstar_0K>0], xstar_0K[xstar_0K>0])}"
   ]
  },
  {
   "cell_type": "markdown",
   "metadata": {},
   "source": [
    "The equilibrium concentration at 0K yields just two components: ACAC and BBBB."
   ]
  },
  {
   "cell_type": "markdown",
   "metadata": {},
   "source": [
    "**ASSIGNMENT 3**\n",
    "\n",
    "Complete the function and partial derivatives and implement these functions."
   ]
  },
  {
   "cell_type": "markdown",
   "metadata": {},
   "source": [
    "$$\n",
    "\\min_{\\mathbf{x}} \\sum_{i=1}^{19}[h_ix_i + Tx_i \\log x_i]\n",
    "$$\n",
    "$$\n",
    "\\text{subject to } S\\mathbf{x}=\\mathbf{c}\\,.\n",
    "$$"
   ]
  },
  {
   "cell_type": "markdown",
   "metadata": {},
   "source": [
    "**Function**\n",
    "\n",
    "$$\n",
    "f(\\mathbf{x}, T)=\\sum_{i=1}^{19}[h_ix_i + Tx_i \\log x_i]\n",
    "$$"
   ]
  },
  {
   "cell_type": "markdown",
   "metadata": {},
   "source": [
    "**Gradient**\n",
    "\n",
    "$$\n",
    "\\frac{\\partial f(\\mathbf{x}, T)}{\\partial x_i}=h_i + T(log(x_i)+1)\n",
    "$$"
   ]
  },
  {
   "cell_type": "markdown",
   "metadata": {},
   "source": [
    "**Hessian**\n",
    "\n",
    "$$\n",
    "\\frac{\\partial^2 f(\\mathbf{x}, T)}{\\partial x_i^2}=\\cfrac{T}{x_i}\n",
    "$$\n",
    "\n",
    "Note that\n",
    "\n",
    "$$\n",
    "\\frac{\\partial^2 f(\\mathbf{x}, T)}{\\partial x_i\\partial x_j}=0\\, \\, \\qquad \\text{if $i\\neq j$}\n",
    "$$"
   ]
  },
  {
   "cell_type": "code",
   "execution_count": 14,
   "metadata": {
    "ExecuteTime": {
     "end_time": "2018-03-20T15:02:33.353589Z",
     "start_time": "2018-03-20T15:02:33.324260Z"
    },
    "collapsed": true
   },
   "outputs": [],
   "source": [
    "def gibbs_fun(x, T, h):\n",
    "    \"\"\"\n",
    "    Negative entropy\n",
    "    Inputs:\n",
    "        - x: vector of the concentrations (19 x 1)\n",
    "        - T: temperature\n",
    "\n",
    "    Output: the function value of the negative entropy\n",
    "    \"\"\"\n",
    "    return np.sum(h@x + T*x@np.log(x))\n",
    "\n",
    "def gibbs_gradient(x, T):\n",
    "    \"\"\"\n",
    "    Gradient of the negative entropy\n",
    "    Inputs:\n",
    "        - x: vector of the concentrations (19 x 1)\n",
    "        - T: temperature\n",
    "\n",
    "    Output: the gradient of the negative entropy\n",
    "        (19 x 1 vector)\n",
    "    \"\"\"\n",
    "    return (np.atleast_2d(list(map(lambda y:get_enthalpy(y), compounds))).T + T*(np.log(x)+1))\n",
    "\n",
    "def gibbs_hessian(x, T):\n",
    "    \"\"\"\n",
    "    Hessian of negative entropy\n",
    "    Inputs:\n",
    "        - x: vector of the concentrations (19 x 1)\n",
    "        - T: temperature\n",
    "\n",
    "    Output: the gradient of the negative entropy\n",
    "        (19 x 19 matrix)\n",
    "    \"\"\"\n",
    "    return np.eye(x.shape[0])*np.divide(T,x)"
   ]
  },
  {
   "cell_type": "markdown",
   "metadata": {},
   "source": [
    "**ASSIGNMENT 4**\n",
    "\n",
    "Complete the code for a single constrained Newton step for this problem."
   ]
  },
  {
   "cell_type": "code",
   "execution_count": 15,
   "metadata": {
    "ExecuteTime": {
     "end_time": "2018-03-20T15:02:34.456616Z",
     "start_time": "2018-03-20T15:02:34.434642Z"
    },
    "collapsed": true
   },
   "outputs": [],
   "source": [
    "def solve_constrained_quadratic_problem(P, q, A, b):\n",
    "    \"\"\"\n",
    "    Solve a linear constrained quadratic convex problem.\n",
    "\n",
    "    Inputs:\n",
    "        - P, q: quadratic and linear parameters of\n",
    "                the linear function to be minimized\n",
    "        - A, b: system of the linear constraints\n",
    "\n",
    "    Outputs:\n",
    "        - xstar: the exact minimizer\n",
    "        - vstar: the optimal Lagrange multipliers\n",
    "    \"\"\"\n",
    "    p, n = A.shape  # size of the problem\n",
    "    # complete this code\n",
    "    # HINT: use np.linalg.solve and np.bmat\n",
    "    \n",
    "    solution = np.linalg.solve(np.bmat([[P, A.T], [A, np.zeros((p,p))]]), np.bmat([[-q], [b]]))\n",
    "    xstar = solution[:n]\n",
    "    vstar = solution[n:]\n",
    "    return np.array(xstar), np.array(vstar)"
   ]
  },
  {
   "cell_type": "code",
   "execution_count": 16,
   "metadata": {
    "ExecuteTime": {
     "end_time": "2018-03-20T15:02:35.456493Z",
     "start_time": "2018-03-20T15:02:35.437365Z"
    },
    "collapsed": true
   },
   "outputs": [],
   "source": [
    "def constrained_newton_step(x, S, c, T):\n",
    "    \"\"\"\n",
    "    Computes a constrained Newton step for the\n",
    "    Gibbs free energy minimization problem. \n",
    "    \n",
    "    Note: \n",
    "    \n",
    "    Inputs:\n",
    "        - x: point in which to compute the Newton step, does not have to be feasible\n",
    "        - S, c: matrix and vector of the system describing the mass balance\n",
    "        - T: temperature of the system\n",
    "        \n",
    "    Output:\n",
    "        - Dx: the Newton step\n",
    "    \"\"\"\n",
    "    # complete\n",
    "    ddfx = gibbs_hessian(x, T)\n",
    "    dfx = gibbs_gradient(x, T)\n",
    "    Dx, _ = solve_constrained_quadratic_problem(ddfx, dfx, S, c - S @ x) # complete!\n",
    "\n",
    "    return Dx"
   ]
  },
  {
   "cell_type": "code",
   "execution_count": 17,
   "metadata": {
    "ExecuteTime": {
     "end_time": "2018-03-20T15:02:35.922671Z",
     "start_time": "2018-03-20T15:02:35.883875Z"
    }
   },
   "outputs": [
    {
     "data": {
      "text/plain": [
       "array([[ 0.0084135 ],\n",
       "       [ 0.01600796],\n",
       "       [ 0.02360142],\n",
       "       [ 0.03119689],\n",
       "       [ 0.0215223 ],\n",
       "       [ 0.02703764],\n",
       "       [ 0.00633437],\n",
       "       [ 0.01392783],\n",
       "       [ 0.0215223 ],\n",
       "       [ 0.01184871],\n",
       "       [ 0.01944217],\n",
       "       [ 0.01736305],\n",
       "       [ 0.02287839],\n",
       "       [ 0.0084135 ],\n",
       "       [ 0.01600696],\n",
       "       [ 0.02360142],\n",
       "       [ 0.01392783],\n",
       "       [ 0.0215213 ],\n",
       "       [ 0.01944217]])"
      ]
     },
     "execution_count": 17,
     "metadata": {},
     "output_type": "execute_result"
    }
   ],
   "source": [
    "# test step (does it make any sense?)\n",
    "x = np.ones((19,1))*0.0001\n",
    "T = 100\n",
    "constrained_newton_step(x, S, c, T)"
   ]
  },
  {
   "cell_type": "markdown",
   "metadata": {},
   "source": [
    "**ASSIGNMENT 5**\n",
    "\n",
    "Complete the code for Newton's method for finding the optimal concentration vector."
   ]
  },
  {
   "cell_type": "code",
   "execution_count": 18,
   "metadata": {
    "ExecuteTime": {
     "end_time": "2018-03-20T15:02:37.266075Z",
     "start_time": "2018-03-20T15:02:37.228862Z"
    },
    "collapsed": true
   },
   "outputs": [],
   "source": [
    "def newton_oligomerization(x0, S, c, T, stepsize, tolerance=1e-10, epsilon=1e-7):\n",
    "    \"\"\"\n",
    "    Newton's method for finding concentrations that minimize the Gibbs free energy\n",
    "    at a specific temperature\n",
    "    \n",
    "    Inputs:\n",
    "        - x0: starting point, vector with strictly positive elements,\n",
    "                    but not necessarily feasible\n",
    "        - S, c: matrix and vector of the system describing the mass balance\n",
    "        - T: temperature of the system\n",
    "        - stepsize: fixed step size\n",
    "        - tolerance: tolerance parameter to make the vectors strictly feasible\n",
    "            after every step, minimum value of every element in x\n",
    "        - epsilon: tolerance for stopping\n",
    "        \n",
    "    Output:\n",
    "        - x: minimizer\n",
    "    \"\"\"\n",
    "    x = x0.copy()\n",
    "    while True:\n",
    "        Dx = constrained_newton_step(x, S, c, T)  # compute search direction\n",
    "        newton_decrement = - np.sum(Dx * gibbs_gradient(x,T)) / 2\n",
    "        if newton_decrement < epsilon:  # determine convergence\n",
    "            break\n",
    "        x += stepsize * Dx\n",
    "        x = np.maximum(x, tolerance)\n",
    "    return x"
   ]
  },
  {
   "cell_type": "code",
   "execution_count": 19,
   "metadata": {
    "ExecuteTime": {
     "end_time": "2018-03-20T15:02:38.042841Z",
     "start_time": "2018-03-20T15:02:38.034980Z"
    },
    "collapsed": true
   },
   "outputs": [],
   "source": [
    "# starting points should contain positive concentrations\n",
    "# but not necessarily satisfy mass balance\n",
    "x0 = np.ones((len(compounds),1))*0.0001\n",
    "#x0[0]=0.3\n",
    "#x0[6]=0.7\n",
    "#x0[13]=0.3"
   ]
  },
  {
   "cell_type": "code",
   "execution_count": 20,
   "metadata": {
    "ExecuteTime": {
     "end_time": "2018-03-20T15:02:38.326698Z",
     "start_time": "2018-03-20T15:02:38.315414Z"
    },
    "collapsed": true,
    "scrolled": false
   },
   "outputs": [],
   "source": [
    "# Compute the equilibrium concentrations\n",
    "xstar_100K = newton_oligomerization(x0, S, c, T, stepsize=1.)"
   ]
  },
  {
   "cell_type": "code",
   "execution_count": 21,
   "metadata": {
    "ExecuteTime": {
     "end_time": "2018-03-20T15:02:38.986892Z",
     "start_time": "2018-03-20T15:02:38.980708Z"
    }
   },
   "outputs": [],
   "source": [
    "# check if solution satisfies mass balance\n",
    "assert np.allclose(S @ xstar_100K - c, 0)"
   ]
  },
  {
   "cell_type": "code",
   "execution_count": 22,
   "metadata": {
    "ExecuteTime": {
     "end_time": "2018-03-20T15:02:39.318618Z",
     "start_time": "2018-03-20T15:02:39.314394Z"
    }
   },
   "outputs": [
    {
     "data": {
      "text/plain": [
       "array([[ 0.3],\n",
       "       [ 0.4],\n",
       "       [ 0.3]])"
      ]
     },
     "execution_count": 22,
     "metadata": {},
     "output_type": "execute_result"
    }
   ],
   "source": [
    "S @ xstar_100K"
   ]
  },
  {
   "cell_type": "markdown",
   "metadata": {},
   "source": [
    "**Assignment 6**"
   ]
  },
  {
   "cell_type": "markdown",
   "metadata": {},
   "source": [
    "Make a plot of the concentrations, enthalpy and entropy of the equilibrium system at different temperatures. Vary $T$ from $ 10^{-1},\\ldots, 10^3$. Describe what you see."
   ]
  },
  {
   "cell_type": "code",
   "execution_count": 66,
   "metadata": {
    "ExecuteTime": {
     "end_time": "2018-03-20T15:18:51.314640Z",
     "start_time": "2018-03-20T15:18:51.295276Z"
    }
   },
   "outputs": [],
   "source": [
    "# functions for calculating total entropy and enthalpy\n",
    "entropy_total = lambda x : - np.sum(x * np.log(x), axis=0)\n",
    "enthalpy_total = lambda x : np.sum(enthalpies * x.reshape((-1, 1)))\n",
    "\n",
    "# functions for calculating entropy and enthalpy\n",
    "entropy = lambda x : - x * np.log(x)\n",
    "enthalpy = lambda x, compound : get_enthalpy(compound)*x\n",
    "gibbs = lambda x,T,compound: enthalpy(x,compound) - T*entropy(x)"
   ]
  },
  {
   "cell_type": "code",
   "execution_count": 24,
   "metadata": {
    "ExecuteTime": {
     "end_time": "2018-03-20T15:02:54.797265Z",
     "start_time": "2018-03-20T15:02:41.493523Z"
    }
   },
   "outputs": [],
   "source": [
    "# compute the obtained concentrations, entropy en enthalpy at different tempartures\n",
    "T_array = np.linspace(1e-1,1e3,500)\n",
    "xstar_ifo_T = np.empty((T_array.shape[0], 19))\n",
    "\n",
    "# treshold for mass balance\n",
    "treshold = 1e-7\n",
    "\n",
    "for i, T in enumerate(T_array):\n",
    "    xstar = newton_oligomerization(x0, S, c, T, stepsize=.1)\n",
    "    # check if solution satisfies mass balance\n",
    "    assert np.alltrue(np.abs(S @ xstar - c) < treshold)\n",
    "    xstar_ifo_T[i, :] = xstar.flatten()"
   ]
  },
  {
   "cell_type": "code",
   "execution_count": 25,
   "metadata": {
    "ExecuteTime": {
     "end_time": "2018-03-20T15:03:01.655184Z",
     "start_time": "2018-03-20T15:03:01.642999Z"
    },
    "collapsed": true
   },
   "outputs": [],
   "source": [
    "plt.style.use('classic')\n",
    "plt.style.use('fivethirtyeight')\n",
    "plt.style.use('seaborn-dark')"
   ]
  },
  {
   "cell_type": "markdown",
   "metadata": {},
   "source": [
    "**Equilibrium concentration in function of temperature:**"
   ]
  },
  {
   "cell_type": "code",
   "execution_count": 26,
   "metadata": {
    "ExecuteTime": {
     "end_time": "2018-03-20T15:03:03.630502Z",
     "start_time": "2018-03-20T15:03:02.646530Z"
    }
   },
   "outputs": [
    {
     "data": {
      "image/png": "[encoded data removed]",
      "text/plain": [
       "<matplotlib.figure.Figure at 0x7f3770aa2cf8>"
      ]
     },
     "metadata": {},
     "output_type": "display_data"
    }
   ],
   "source": [
    "# plot the results\n",
    "fig, axs = plt.subplots(2,2,figsize=(10,10), sharex=True, sharey=True)\n",
    "axs_flat = axs.flatten()\n",
    "ax_counter = 0\n",
    "for i, compound in enumerate(compounds):\n",
    "    if not i%5:\n",
    "        ax = axs_flat[ax_counter]\n",
    "        ax_counter += 1\n",
    "    ax.semilogx(T_array, xstar_ifo_T[:, i], label=compound)\n",
    "    ax.set_ylabel('Concentration [mol]')\n",
    "    ax.set_xlabel('Temperature [K]')\n",
    "    ax.legend(loc='upper right')"
   ]
  },
  {
   "cell_type": "markdown",
   "metadata": {},
   "source": [
    "**Enthalpy contribution of each compound**"
   ]
  },
  {
   "cell_type": "code",
   "execution_count": 102,
   "metadata": {
    "ExecuteTime": {
     "end_time": "2018-03-20T16:20:28.916672Z",
     "start_time": "2018-03-20T16:20:28.756489Z"
    }
   },
   "outputs": [
    {
     "data": {
      "text/plain": [
       "([0, 1, 2, 3, 4, 5, 6, 7, 8, 9, 10, 11, 12, 13, 14, 15, 16, 17, 18],\n",
       " <a list of 19 Text xticklabel objects>)"
      ]
     },
     "execution_count": 102,
     "metadata": {},
     "output_type": "execute_result"
    },
    {
     "data": {
      "image/png": "[encoded data removed]",
      "text/plain": [
       "<matplotlib.figure.Figure at 0x7f37659e46d8>"
      ]
     },
     "metadata": {},
     "output_type": "display_data"
    }
   ],
   "source": [
    "fig=plt.bar(compounds,enthalpies.reshape(19))\n",
    "plt.xticks(rotation='vertical')\n"
   ]
  },
  {
   "cell_type": "markdown",
   "metadata": {},
   "source": [
    "** Entropy, Enthalpy of mixture in function of temperature:**"
   ]
  },
  {
   "cell_type": "code",
   "execution_count": 73,
   "metadata": {
    "ExecuteTime": {
     "end_time": "2018-03-20T15:23:04.305667Z",
     "start_time": "2018-03-20T15:23:03.866467Z"
    }
   },
   "outputs": [
    {
     "data": {
      "text/plain": [
       "Text(0.5,0,'Temperature [K]')"
      ]
     },
     "execution_count": 73,
     "metadata": {},
     "output_type": "execute_result"
    },
    {
     "data": {
      "image/png": "[encoded data removed]",
      "text/plain": [
       "<matplotlib.figure.Figure at 0x7f376891e588>"
      ]
     },
     "metadata": {},
     "output_type": "display_data"
    }
   ],
   "source": [
    "fig, axs = plt.subplots(1, 3, figsize=(12,6), sharex=True)\n",
    "plt.subplots_adjust(left=None, bottom=None, right=None, top=None, wspace=0.4, hspace=None)\n",
    "entropy_ifo_T = np.apply_along_axis(entropy_total, 1, xstar_ifo_T)\n",
    "enthalpy_ifo_T = np.apply_along_axis(enthalpy_total, 1, xstar_ifo_T)\n",
    "gibbs_ifo_T = enthalpy_ifo_T - T*entropy_ifo_T\n",
    "axs[0].semilogx(T_array, entropy_ifo_T)\n",
    "axs[0].set_ylabel('Entropy [J/mol]')\n",
    "axs[0].set_xlabel('Temperature [K]')\n",
    "axs[1].semilogx(T_array, enthalpy_ifo_T)\n",
    "axs[1].set_ylabel('Enthalpy [J/mol]')\n",
    "axs[1].set_xlabel('Temperature [K]')\n",
    "axs[2].semilogx(T_array, gibbs_ifo_T)\n",
    "axs[2].set_ylabel('Gibbs free energy [J/mol]')\n",
    "axs[2].set_xlabel('Temperature [K]')"
   ]
  },
  {
   "cell_type": "markdown",
   "metadata": {},
   "source": [
    "**Describe the obtained plots and give a physicochemical interpretation**\n",
    "\n",
    "For the gibbs free energy, which is minimised here, it is clear that the importance of the entropy term increases with the temperature. At low temperatures, the equilibrium mixture is primarly determined by the enthalpy. For the tetramers, the enthalpy is highly negative and manifests in high equilibrium concentrations at low temperatures. At higher temperatures, the entropy term gains importance and the concentration of all components starts to increase. The monomers are the biggest contribution to the entropy of the system and are favored at higher temperatures.  "
   ]
  },
  {
   "cell_type": "markdown",
   "metadata": {
    "collapsed": true
   },
   "source": [
    "**Assignment 7**"
   ]
  },
  {
   "cell_type": "markdown",
   "metadata": {},
   "source": [
    "Use grid search (step size of 0.05) to find the initial quantities of A, B and C (total quantity is equal to 1, at least 0.05 mol/L of each momomer) that have to be mixed at a temperature of 100K to obain:\n",
    "    - the equilibrium mixture with the highest entropy\n",
    "    - the equilibrium mixture with the lowest enthalphy\n",
    "    - the equilibrium mixture with the highest concentration of CBA"
   ]
  },
  {
   "cell_type": "code",
   "execution_count": null,
   "metadata": {
    "collapsed": true
   },
   "outputs": [],
   "source": [
    "from scipy.interpolate import griddata\n",
    "\n",
    "def calcfigwidth(height, fcolorbar=0.05):\n",
    "    ''' calculates the width of the figure, based on the height, and the size fraction\n",
    "    of the subfigure (colorbar) compared to the contourplot.\n",
    "    The width is calculated as such that the resulting plot is square (i.e. the x and y\n",
    "    axis are equal in length)\n",
    "    fcolorbar is the size fraction of the colorbar compared to the figure\n",
    "    '''\n",
    "    wspace =  plt.rcParams['figure.subplot.wspace']\n",
    "    left =  plt.rcParams['figure.subplot.left']\n",
    "    right =  plt.rcParams['figure.subplot.right']\n",
    "    top =  plt.rcParams['figure.subplot.top']\n",
    "    bottom =  plt.rcParams['figure.subplot.bottom']\n",
    "    figwidth = (top - bottom)*height/(((1-left-(1-right))/(1+fcolorbar+wspace*(1-fcolorbar)/2)))\n",
    "    return figwidth\n",
    "\n",
    "def plotcontour(ax, x, y, z,):\n",
    "    xi = yi = np.linspace(0, 1, 50)\n",
    "    # grid the data.\n",
    "    zi = griddata((x, y), z, (xi[None,:], yi[:,None]), method='linear')\n",
    "    # contour the gridded data, plotting dots at the randomly spaced data points.\n",
    "    cs = ax.contourf(xi, yi, zi, cmap='viridis')\n",
    "    return ax, cs\n",
    "\n",
    "def plotscatter(ax, x, y, z):\n",
    "    sc = ax.scatter(x=x, y=y, c=z, s=250, marker='.', cmap='viridis')\n",
    "    return ax, sc\n",
    "\n",
    "def plotmassbalance_errors(ax, x, y):\n",
    "    idx = massbalance > treshold\n",
    "    ax.plot(x[idx], y[idx], 'o', color='red')\n",
    "    return ax\n",
    "\n",
    "def applyplotoptions(ax, cax, mappable, cbar_label, param_x, param_y):\n",
    "    cbar = plt.colorbar(mappable=mappable, cax=cax)\n",
    "    cbar.set_label(cbar_label, rotation=90, labelpad=0, y=0.5)\n",
    "    ax.set_xlabel(param_x)\n",
    "    ax.set_ylabel(param_y)\n",
    "    ax.set_ylim([0., 1.])\n",
    "    ax.set_xlim([0., 1.])\n",
    "    return ax, cax, cbar\n",
    "\n",
    "def plot_all(z, z_label, plottype='contour', plotmassbalanceerrors=False):\n",
    "    if (z_label is 'entropy') or (z_label is 'CBA'):\n",
    "        idx = np.where(np.isclose(z - z.max(), 0.))[0]\n",
    "    else:\n",
    "        idx = np.where(np.isclose(z - z.min(), 0.))[0]\n",
    "    for i, j in itertools.combinations(range(3), 2):\n",
    "        x = c_all[:, i]\n",
    "        x_label = monomers[i]\n",
    "        y = c_all[:, j]\n",
    "        y_label = monomers[j]\n",
    "    \n",
    "        figheight = 5\n",
    "        figwidth = calcfigwidth(figheight)\n",
    "        fcolorbar = 0.05\n",
    "        fig, (ax, cax) = plt.subplots(ncols=2, figsize=(figwidth, figheight),\n",
    "                                      gridspec_kw={\"width_ratios\":[1, fcolorbar]})\n",
    "        if plottype == 'contour':\n",
    "            ax, mappable = plotcontour(ax, x, y, z)\n",
    "        else:\n",
    "            ax, mappable = plotscatter(ax, x, y, z)\n",
    "        if plotmassbalanceerrors:\n",
    "            ax = plotmassbalance_errors(ax, x, y)\n",
    "        ax.plot(x[idx], y[idx], '*', color='blue', markersize=10)\n",
    "        ax, cax, cbar = applyplotoptions(ax, cax, mappable, z_label, x_label, y_label)"
   ]
  },
  {
   "cell_type": "code",
   "execution_count": null,
   "metadata": {
    "collapsed": true
   },
   "outputs": [],
   "source": [
    "# Use grid search to find initial mixtures of A, B and C that give rise to mixtures\n",
    "# with the highest entropy, lowest entropy and highest concentration of CBA at 100K."
   ]
  },
  {
   "cell_type": "code",
   "execution_count": null,
   "metadata": {
    "collapsed": true
   },
   "outputs": [],
   "source": [
    "import itertools\n",
    "\n",
    "T = 100\n",
    "c_min = 0.05\n",
    "c_tot = 1\n",
    "delta_c = 0.05\n",
    "\n",
    "c_values = np.arange(c_min, c_tot+delta_c, delta_c)\n",
    "combos = itertools.combinations_with_replacement(c_values, 3)\n",
    "filtered_combos = np.array(list(filter(lambda tup: np.isclose(np.sum(tup), 1.), combos)))\n",
    "# swap columns\n",
    "idx_colswaps = list(itertools.permutations([0, 1, 2]))\n",
    "# stack the swapped columns\n",
    "c_all = np.vstack((filtered_combos[:, idx] for idx in idx_colswaps))\n",
    "# remove duplicates, just to make sure that scenarios are unique\n",
    "c_all = np.unique(c_all, axis=0)\n",
    "# allocate space for concentrations\n",
    "x_star_all = np.empty((c_all.shape[0], 19))\n",
    "massbalance = np.empty((c_all.shape[0],))"
   ]
  },
  {
   "cell_type": "code",
   "execution_count": null,
   "metadata": {
    "collapsed": true
   },
   "outputs": [],
   "source": [
    "for i in range(c_all.shape[0]):\n",
    "    c = np.atleast_2d(c_all[i, :]).T\n",
    "    x_star = newton_oligomerization(10*x0, S, c, T, stepsize=1e-1)\n",
    "    # check if solution satisfies mass balance\n",
    "    massbalance[i] = np.abs(S @ x_star - c).max()\n",
    "    #assert np.alltrue(np.abs(S @ x_star_all[i, :] - c) < treshold)\n",
    "    x_star_all[i, :] = x_star.flatten()\n",
    "\n",
    "entropy_all = np.apply_along_axis(entropy, 1, x_star_all)\n",
    "enthalpy_all = np.apply_along_axis(enthalpy, 1, x_star_all)\n",
    "\n",
    "idx = compounds.index('CBA')\n",
    "CBA_all = x_star_all[:, idx]"
   ]
  },
  {
   "cell_type": "markdown",
   "metadata": {},
   "source": [
    "**Find inital mixture which will lead to the highest entropy.**"
   ]
  },
  {
   "cell_type": "code",
   "execution_count": null,
   "metadata": {},
   "outputs": [],
   "source": [
    "plot_all(entropy_all, 'entropy', plotmassbalanceerrors=True)"
   ]
  },
  {
   "cell_type": "code",
   "execution_count": null,
   "metadata": {},
   "outputs": [],
   "source": [
    "idx = np.where(np.isclose(entropy_all - entropy_all.max(), 0.))[0]\n",
    "print(\"Initial mixture with highest entropy: \", c_all[idx, :])\n",
    "print(\"Entropy value: \", entropy_all.max())"
   ]
  },
  {
   "cell_type": "markdown",
   "metadata": {},
   "source": [
    "**Find inital mixture which will lead to the lowest enthalpy.**"
   ]
  },
  {
   "cell_type": "code",
   "execution_count": null,
   "metadata": {},
   "outputs": [],
   "source": [
    "plot_all(enthalpy_all, 'enthalpy', plottype='contour', plotmassbalanceerrors=True)"
   ]
  },
  {
   "cell_type": "code",
   "execution_count": null,
   "metadata": {},
   "outputs": [],
   "source": [
    "idx = np.where(np.isclose(enthalpy_all - enthalpy_all.min(), 0.))[0]\n",
    "print(\"Initial mixture with lowest enthalpy: \", [c_all[i, :] for i in idx])\n",
    "print(\"Enthalpy value: \", enthalpy_all.min())"
   ]
  },
  {
   "cell_type": "markdown",
   "metadata": {},
   "source": [
    "**Find inital mixture which will lead to the highest concentration CBA.**"
   ]
  },
  {
   "cell_type": "code",
   "execution_count": null,
   "metadata": {},
   "outputs": [],
   "source": [
    "plot_all(CBA_all, 'CBA', plotmassbalanceerrors=True)"
   ]
  },
  {
   "cell_type": "code",
   "execution_count": null,
   "metadata": {},
   "outputs": [],
   "source": [
    "idx = np.where(np.isclose(CBA_all - CBA_all.max(), 0.))[0]\n",
    "print(\"Initial mixture with highest end concentration of CBA: \", c_all[idx, :])\n",
    "print(\"CBA concentration: \", CBA_all.max())"
   ]
  },
  {
   "cell_type": "markdown",
   "metadata": {
    "collapsed": true
   },
   "source": [
    "## References\n",
    "\n",
    "Boyd, S. and Vandenberghe, L., '*[Convex Optimization](https://web.stanford.edu/~boyd/cvxbook/bv_cvxbook.pdf)*'. Cambridge University Press (2004)"
   ]
  },
  {
   "cell_type": "code",
   "execution_count": null,
   "metadata": {
    "collapsed": true
   },
   "outputs": [],
   "source": []
  }
 ],
 "metadata": {
  "anaconda-cloud": {},
  "kernelspec": {
   "display_name": "Python 3",
   "language": "python",
   "name": "python3"
  },
  "language_info": {
   "codemirror_mode": {
    "name": "ipython",
    "version": 3
   },
   "file_extension": ".py",
   "mimetype": "text/x-python",
   "name": "python",
   "nbconvert_exporter": "python",
   "pygments_lexer": "ipython3",
   "version": "3.6.3"
  },
  "latex_envs": {
   "LaTeX_envs_menu_present": true,
   "autocomplete": true,
   "bibliofile": "biblio.bib",
   "cite_by": "apalike",
   "current_citInitial": 1,
   "eqLabelWithNumbers": true,
   "eqNumInitial": 0,
   "hotkeys": {
    "equation": "Ctrl-E",
    "itemize": "Ctrl-I"
   },
   "labels_anchors": false,
   "latex_user_defs": false,
   "report_style_numbering": false,
   "user_envs_cfg": false
  },
  "toc": {
   "nav_menu": {},
   "number_sections": true,
   "sideBar": true,
   "skip_h1_title": false,
   "toc_cell": false,
   "toc_position": {},
   "toc_section_display": "block",
   "toc_window_display": false
  }
 },
 "nbformat": 4,
 "nbformat_minor": 1
}
