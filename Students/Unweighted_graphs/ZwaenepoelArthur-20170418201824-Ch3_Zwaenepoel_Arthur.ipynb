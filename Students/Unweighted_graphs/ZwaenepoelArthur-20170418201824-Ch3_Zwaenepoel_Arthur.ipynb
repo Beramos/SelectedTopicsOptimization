{
 "cells": [
  {
   "cell_type": "markdown",
   "metadata": {},
   "source": [
    "# Chapter 3: Undirected graphs"
   ]
  },
  {
   "cell_type": "markdown",
   "metadata": {},
   "source": [
    "*Selected Topics in Mathematical Optimization*\n",
    "\n",
    "*2016-2017*\n",
    "\n",
    "**Bernard De Baets**\n",
    "\n",
    "**Michiel Stock**\n",
    "\n",
    "**Raúl Pérez-Fernández**"
   ]
  },
  {
   "cell_type": "code",
   "execution_count": 1,
   "metadata": {
    "collapsed": true
   },
   "outputs": [],
   "source": [
    "import matplotlib.pyplot as plt\n",
    "import matplotlib.patches as patches\n",
    "from scipy.spatial import voronoi_plot_2d, Voronoi\n",
    "import numpy as np\n",
    "%matplotlib inline"
   ]
  },
  {
   "cell_type": "markdown",
   "metadata": {},
   "source": [
    "## Some essential data structures in python\n",
    "\n",
    "Using the correct datastructure is key to implementing an efficient graph algorithm. Below is a concise overview of some elementary python data structures.\n",
    "\n",
    "For more information on the time complexity of operations on these data structures, see [this](https://wiki.python.org/moin/TimeComplexity) link."
   ]
  },
  {
   "cell_type": "markdown",
   "metadata": {},
   "source": [
    "### Lists: ordered  collection of objects\n",
    "\n",
    "Lists store objects in sequential order. Adding and removing elements at the back is easy, inserting or removing elements elsewhere is computationally inefficient (memory has to be reshuffled)."
   ]
  },
  {
   "cell_type": "code",
   "execution_count": 1,
   "metadata": {
    "collapsed": true
   },
   "outputs": [],
   "source": [
    "my_list = [1, 2, 3, 4, 5]"
   ]
  },
  {
   "cell_type": "code",
   "execution_count": 3,
   "metadata": {
    "collapsed": false
   },
   "outputs": [
    {
     "data": {
      "text/plain": [
       "[1, 2, 3, 4, 5, 6]"
      ]
     },
     "execution_count": 3,
     "metadata": {},
     "output_type": "execute_result"
    }
   ],
   "source": [
    "my_list.append(6)  # add element at the back\n",
    "my_list"
   ]
  },
  {
   "cell_type": "code",
   "execution_count": 4,
   "metadata": {
    "collapsed": false
   },
   "outputs": [
    {
     "data": {
      "text/plain": [
       "6"
      ]
     },
     "execution_count": 4,
     "metadata": {},
     "output_type": "execute_result"
    }
   ],
   "source": [
    "my_list.pop()  # return last element"
   ]
  },
  {
   "cell_type": "code",
   "execution_count": 5,
   "metadata": {
    "collapsed": false
   },
   "outputs": [
    {
     "data": {
      "text/plain": [
       "[1, 2, 3, 4, 5]"
      ]
     },
     "execution_count": 5,
     "metadata": {},
     "output_type": "execute_result"
    }
   ],
   "source": [
    "my_list  # element is gone"
   ]
  },
  {
   "cell_type": "code",
   "execution_count": 6,
   "metadata": {
    "collapsed": false
   },
   "outputs": [
    {
     "data": {
      "text/plain": [
       "5"
      ]
     },
     "execution_count": 6,
     "metadata": {},
     "output_type": "execute_result"
    }
   ],
   "source": [
    "my_list[4]  # take element"
   ]
  },
  {
   "cell_type": "code",
   "execution_count": 7,
   "metadata": {
    "collapsed": false
   },
   "outputs": [
    {
     "data": {
      "text/plain": [
       "[1, 2, 3, 'three', 5]"
      ]
     },
     "execution_count": 7,
     "metadata": {},
     "output_type": "execute_result"
    }
   ],
   "source": [
    "my_list[3] = 'three'  # replace\n",
    "my_list"
   ]
  },
  {
   "cell_type": "code",
   "execution_count": 8,
   "metadata": {
    "collapsed": false
   },
   "outputs": [
    {
     "data": {
      "text/plain": [
       "[1, 4, 9, 16, 25, 36, 49, 64, 81, 100]"
      ]
     },
     "execution_count": 8,
     "metadata": {},
     "output_type": "execute_result"
    }
   ],
   "source": [
    "# for loops in lists\n",
    "squares = [x**2 for x in range(1, 11)]\n",
    "squares"
   ]
  },
  {
   "cell_type": "code",
   "execution_count": 9,
   "metadata": {
    "collapsed": false
   },
   "outputs": [
    {
     "data": {
      "text/plain": [
       "[1, 9, 25, 49, 81]"
      ]
     },
     "execution_count": 9,
     "metadata": {},
     "output_type": "execute_result"
    }
   ],
   "source": [
    "# a more complex example\n",
    "squares_odd = [x**2 for x in range(1, 11) if x%2==1]\n",
    "squares_odd"
   ]
  },
  {
   "cell_type": "markdown",
   "metadata": {},
   "source": [
    "### Sets: unordened collection of objects\n",
    "\n",
    "Sets have no ordening and cannot contain duplicates. It is very efficient (constant time compelxity) to check if an element is present and to add or remove an object."
   ]
  },
  {
   "cell_type": "code",
   "execution_count": 10,
   "metadata": {
    "collapsed": false
   },
   "outputs": [
    {
     "data": {
      "text/plain": [
       "{-1, 1, 2, 3, 4, 15}"
      ]
     },
     "execution_count": 10,
     "metadata": {},
     "output_type": "execute_result"
    }
   ],
   "source": [
    "numbers = set([1, 2, 15, -1, 4, 2, 3, 4])  # make set from list \n",
    "numbers  # no particular order or duplicates"
   ]
  },
  {
   "cell_type": "code",
   "execution_count": 11,
   "metadata": {
    "collapsed": false,
    "scrolled": true
   },
   "outputs": [
    {
     "data": {
      "text/plain": [
       "False"
      ]
     },
     "execution_count": 11,
     "metadata": {},
     "output_type": "execute_result"
    }
   ],
   "source": [
    "5 in numbers  # check if element is member"
   ]
  },
  {
   "cell_type": "code",
   "execution_count": 12,
   "metadata": {
    "collapsed": true
   },
   "outputs": [],
   "source": [
    "numbers.add(5)  # add element"
   ]
  },
  {
   "cell_type": "code",
   "execution_count": 13,
   "metadata": {
    "collapsed": false
   },
   "outputs": [
    {
     "data": {
      "text/plain": [
       "True"
      ]
     },
     "execution_count": 13,
     "metadata": {},
     "output_type": "execute_result"
    }
   ],
   "source": [
    "5 in numbers"
   ]
  },
  {
   "cell_type": "code",
   "execution_count": 14,
   "metadata": {
    "collapsed": false
   },
   "outputs": [
    {
     "data": {
      "text/plain": [
       "{-1, 2, 6, 8, 15}"
      ]
     },
     "execution_count": 14,
     "metadata": {},
     "output_type": "execute_result"
    }
   ],
   "source": [
    "# set operations on two sets\n",
    "new_numbers = set([2, 15, -1, 8, 6, 15])\n",
    "new_numbers"
   ]
  },
  {
   "cell_type": "code",
   "execution_count": 15,
   "metadata": {
    "collapsed": false
   },
   "outputs": [
    {
     "data": {
      "text/plain": [
       "{-1, 2, 15}"
      ]
     },
     "execution_count": 15,
     "metadata": {},
     "output_type": "execute_result"
    }
   ],
   "source": [
    "numbers & new_numbers  # intersection (AND)"
   ]
  },
  {
   "cell_type": "code",
   "execution_count": 16,
   "metadata": {
    "collapsed": false
   },
   "outputs": [
    {
     "data": {
      "text/plain": [
       "{-1, 1, 2, 3, 4, 5, 6, 8, 15}"
      ]
     },
     "execution_count": 16,
     "metadata": {},
     "output_type": "execute_result"
    }
   ],
   "source": [
    "numbers | new_numbers  # union (OR)"
   ]
  },
  {
   "cell_type": "code",
   "execution_count": 17,
   "metadata": {
    "collapsed": false
   },
   "outputs": [
    {
     "data": {
      "text/plain": [
       "{1, 3, 4, 5}"
      ]
     },
     "execution_count": 17,
     "metadata": {},
     "output_type": "execute_result"
    }
   ],
   "source": [
    "numbers - new_numbers  # set difference (in first but not in second)"
   ]
  },
  {
   "cell_type": "markdown",
   "metadata": {},
   "source": [
    "## Dictionary: key-value storage\n",
    "\n",
    "Dictionaries are the best of both lists and sets, they store values by a key"
   ]
  },
  {
   "cell_type": "code",
   "execution_count": null,
   "metadata": {
    "collapsed": true
   },
   "outputs": [],
   "source": [
    "my_dict = {'A' : 1, 'B' : 'bee', 'C' : [1, 2, 3]}  # make dictionary"
   ]
  },
  {
   "cell_type": "code",
   "execution_count": null,
   "metadata": {
    "collapsed": false
   },
   "outputs": [],
   "source": [
    "my_dict['B']  # get value associated by key"
   ]
  },
  {
   "cell_type": "code",
   "execution_count": null,
   "metadata": {
    "collapsed": false
   },
   "outputs": [],
   "source": [
    "my_dict['D'] = 'new value'  # add new key-value\n",
    "my_dict"
   ]
  },
  {
   "cell_type": "code",
   "execution_count": null,
   "metadata": {
    "collapsed": false
   },
   "outputs": [],
   "source": [
    "'A' in my_dict  # check if dict has key"
   ]
  },
  {
   "cell_type": "code",
   "execution_count": null,
   "metadata": {
    "collapsed": false
   },
   "outputs": [],
   "source": [
    "for k, v in my_dict.items():  # iterate over values\n",
    "    print(k, v)"
   ]
  },
  {
   "cell_type": "code",
   "execution_count": null,
   "metadata": {
    "collapsed": false,
    "scrolled": true
   },
   "outputs": [],
   "source": [
    "for k in my_dict.keys():  # iterate over keys\n",
    "    print(k)"
   ]
  },
  {
   "cell_type": "code",
   "execution_count": null,
   "metadata": {
    "collapsed": false
   },
   "outputs": [],
   "source": [
    "for v in my_dict.values():  # iterate over values\n",
    "    print(v)"
   ]
  },
  {
   "cell_type": "markdown",
   "metadata": {},
   "source": [
    "## Representing graphs in python\n",
    "\n",
    "Consider the following example graph:"
   ]
  },
  {
   "cell_type": "markdown",
   "metadata": {},
   "source": [
    "Typically, graphs are represented as:\n",
    "- **list of edges**: a set of edges (tuples of vertices) we use sets are there is no order in the edges. THis is the prefered format to *store* graphs.\n",
    "- **adjacency lists**: in python implemented as dictionaries. Each vertex is a key and the associated value is a set of neighboring edges (for undirected graphs every outgoing edge should be balanced by an ingoing edge).\n",
    "- **adjacenty matrices**: matrix of which the elements store the edges. Is only used for dense graphs."
   ]
  },
  {
   "cell_type": "markdown",
   "metadata": {},
   "source": [
    "Example of the theory:\n",
    "\n",
    "![](Figures/undir_graph.png)"
   ]
  },
  {
   "cell_type": "code",
   "execution_count": 10,
   "metadata": {
    "collapsed": true
   },
   "outputs": [],
   "source": [
    "edges = set([('A', 'B'), ('B', 'C'), ('C', 'D'), ('A', 'D'), ('C', 'E'), ('D', 'E')])"
   ]
  },
  {
   "cell_type": "code",
   "execution_count": 11,
   "metadata": {
    "collapsed": false
   },
   "outputs": [],
   "source": [
    "from graphs import edges_to_adj_list"
   ]
  },
  {
   "cell_type": "code",
   "execution_count": 12,
   "metadata": {
    "collapsed": false
   },
   "outputs": [
    {
     "data": {
      "text/plain": [
       "{'A': {'B', 'D'},\n",
       " 'B': {'A', 'C'},\n",
       " 'C': {'B', 'D', 'E'},\n",
       " 'D': {'A', 'C', 'E'},\n",
       " 'E': {'C', 'D'}}"
      ]
     },
     "execution_count": 12,
     "metadata": {},
     "output_type": "execute_result"
    }
   ],
   "source": [
    "adj_list = edges_to_adj_list(edges)\n",
    "adj_list"
   ]
  },
  {
   "cell_type": "markdown",
   "metadata": {},
   "source": [
    "Some basic graph algorithms are implemented:\n",
    "- `give_connected_component`: gives the largest connected component for a vertex\n",
    "- `is_connected`: checks if a graph is connected (every edge can be reached from every other edge)\n",
    "- `has_path`: checks if there exists a path between two vertices\n",
    "- `is_bridge`: checks if an edge is a bridge (i.e. removing it makes the graph disconnected"
   ]
  },
  {
   "cell_type": "markdown",
   "metadata": {},
   "source": [
    "Run the examples and check the result"
   ]
  },
  {
   "cell_type": "code",
   "execution_count": 13,
   "metadata": {
    "collapsed": true
   },
   "outputs": [],
   "source": [
    "from graphs import give_connected_component, is_connected, is_bridge, has_path, adj_list_to_edges"
   ]
  },
  {
   "cell_type": "code",
   "execution_count": 14,
   "metadata": {
    "collapsed": true
   },
   "outputs": [],
   "source": [
    "example1_edges = set([('A', 'B'), ('A', 'C'), ('B', 'C'), ('D', 'C'), ('D', 'E'),\n",
    "                     ('E', 'F'), ('F', 'G'), ('G', 'E'), ('D', 'F')\n",
    "                     ])\n",
    "example2_edges = set([('A', 'B'), ('A', 'C'), ('B', 'C'), ('D', 'E'),\n",
    "                     ('D', 'G'), ('F', 'G'), ('G', 'E'), ('D', 'F')\n",
    "                     ])"
   ]
  },
  {
   "cell_type": "code",
   "execution_count": 15,
   "metadata": {
    "collapsed": false
   },
   "outputs": [],
   "source": [
    "example1_adj_list = edges_to_adj_list(example1_edges)\n",
    "example2_adj_list = edges_to_adj_list(example2_edges)"
   ]
  },
  {
   "cell_type": "code",
   "execution_count": 16,
   "metadata": {
    "collapsed": false
   },
   "outputs": [
    {
     "data": {
      "text/plain": [
       "{'A', 'B', 'C', 'D', 'E', 'F', 'G'}"
      ]
     },
     "execution_count": 16,
     "metadata": {},
     "output_type": "execute_result"
    }
   ],
   "source": [
    "give_connected_component(example1_adj_list, 'A')"
   ]
  },
  {
   "cell_type": "code",
   "execution_count": 17,
   "metadata": {
    "collapsed": false
   },
   "outputs": [
    {
     "data": {
      "text/plain": [
       "{'A', 'B', 'C'}"
      ]
     },
     "execution_count": 17,
     "metadata": {},
     "output_type": "execute_result"
    }
   ],
   "source": [
    "give_connected_component(example2_adj_list, 'A')"
   ]
  },
  {
   "cell_type": "code",
   "execution_count": 18,
   "metadata": {
    "collapsed": false
   },
   "outputs": [
    {
     "data": {
      "text/plain": [
       "True"
      ]
     },
     "execution_count": 18,
     "metadata": {},
     "output_type": "execute_result"
    }
   ],
   "source": [
    "is_connected(example1_adj_list)"
   ]
  },
  {
   "cell_type": "code",
   "execution_count": 19,
   "metadata": {
    "collapsed": false,
    "scrolled": true
   },
   "outputs": [
    {
     "data": {
      "text/plain": [
       "False"
      ]
     },
     "execution_count": 19,
     "metadata": {},
     "output_type": "execute_result"
    }
   ],
   "source": [
    "is_connected(example2_adj_list)"
   ]
  },
  {
   "cell_type": "code",
   "execution_count": 20,
   "metadata": {
    "collapsed": false,
    "scrolled": false
   },
   "outputs": [
    {
     "data": {
      "text/plain": [
       "False"
      ]
     },
     "execution_count": 20,
     "metadata": {},
     "output_type": "execute_result"
    }
   ],
   "source": [
    "is_bridge(example1_adj_list, ('A', 'B'))"
   ]
  },
  {
   "cell_type": "code",
   "execution_count": 21,
   "metadata": {
    "collapsed": false,
    "scrolled": true
   },
   "outputs": [
    {
     "data": {
      "text/plain": [
       "True"
      ]
     },
     "execution_count": 21,
     "metadata": {},
     "output_type": "execute_result"
    }
   ],
   "source": [
    "is_bridge(example1_adj_list, ('C', 'D'))"
   ]
  },
  {
   "cell_type": "code",
   "execution_count": 22,
   "metadata": {
    "collapsed": false
   },
   "outputs": [
    {
     "data": {
      "text/plain": [
       "{'A': {'B', 'C'},\n",
       " 'B': {'A', 'C'},\n",
       " 'C': {'A', 'B', 'D'},\n",
       " 'D': {'C', 'E', 'F'},\n",
       " 'E': {'D', 'F', 'G'},\n",
       " 'F': {'D', 'E', 'G'},\n",
       " 'G': {'E', 'F'}}"
      ]
     },
     "execution_count": 22,
     "metadata": {},
     "output_type": "execute_result"
    }
   ],
   "source": [
    "example1_adj_list"
   ]
  },
  {
   "cell_type": "code",
   "execution_count": 23,
   "metadata": {
    "collapsed": false,
    "scrolled": true
   },
   "outputs": [
    {
     "data": {
      "text/plain": [
       "True"
      ]
     },
     "execution_count": 23,
     "metadata": {},
     "output_type": "execute_result"
    }
   ],
   "source": [
    "has_path(example2_adj_list, 'A', 'C')"
   ]
  },
  {
   "cell_type": "code",
   "execution_count": 24,
   "metadata": {
    "collapsed": false
   },
   "outputs": [
    {
     "data": {
      "text/plain": [
       "False"
      ]
     },
     "execution_count": 24,
     "metadata": {},
     "output_type": "execute_result"
    }
   ],
   "source": [
    "has_path(example2_adj_list, 'A', 'F')"
   ]
  },
  {
   "cell_type": "markdown",
   "metadata": {},
   "source": [
    "## Fleury's algorithm\n",
    "\n",
    "Fleury's algorithm is a simple (though inefficient algorithm to find an Eulerian trail (i.e. a walk on the graph that passes all the edges)."
   ]
  },
  {
   "cell_type": "markdown",
   "metadata": {},
   "source": [
    "It can be shown that a graph has an Eulerian trail if and only if it is connected and it it has exactly zero or two edges with an odd degree."
   ]
  },
  {
   "cell_type": "markdown",
   "metadata": {},
   "source": [
    "Fleury's algorithm is executed as follows:\n",
    "1. Start at a vertex of odd degree, or, if the graph has none, start with an arbitrarily chosen vertex.\n",
    "2. Chooses the next edge in the path to be one whose deletion would not disconnect the graph (i.e. is not a bridge), unless there is no such edge, in which case pick the remaining edge left at the current vertex.\n",
    "3. Add the edge to the path and remove the edge from the graph.\n",
    "4. Repeat steps 2-3 until no more edges are left."
   ]
  },
  {
   "cell_type": "markdown",
   "metadata": {},
   "source": [
    "**ASSIGNMENT 1**\n",
    "\n",
    "1. Complete the pseudocode of fleury's algorithm. The algorithm first checks if an Eulerian path exists (and returns None if not) and returns the path as a list. Use the given function `is_bridge` to check if an \n",
    "2. Study the time complexity of the algorithm. For this you have 25 graphs at your disposal. These graphs are stored in json format in the form `eulerianxxx.json` with '`xxx`' the number of edges. The function `load_graph` can read this data file (see example). For each file, measure the time to find the Eulerian path and make a graph (in log-log scale) of the time vs. the number of edges. Comment on the relation (linear time complexity, super/sublinear?) Does this make sense? HINT: detecting if an edge is a bridge is done with an average time complexity linear in the number of edges."
   ]
  },
  {
   "cell_type": "code",
   "execution_count": 27,
   "metadata": {
    "collapsed": false
   },
   "outputs": [],
   "source": [
    "def fleury_algorithm(adj_list):\n",
    "    \"\"\"\n",
    "    Fleury's algorithm for finding an Eulerian path (if one exists)\n",
    "    \n",
    "    First it checks if the path exists, if it exists, it returns a list of\n",
    "    the nodes that are visisted in an Eulerian path\n",
    "    \n",
    "    Inputs:\n",
    "        - adj_list\n",
    "        \n",
    "    Outputs:\n",
    "        - path\n",
    "    \"\"\"\n",
    "    adj_list = {k : v.copy() for k, v in adj_list.items()}  # make a copy\n",
    "    \n",
    "    # check if Eulerian path exists\n",
    "    odd = [x for x in adj_list.keys() if len(adj_list[x])%2==1]\n",
    "    \n",
    "    # if not, return None\n",
    "    if len(odd) != 2 and len(odd) != 0:\n",
    "        return None\n",
    "    \n",
    "    # else, compute the path and return it\n",
    "    curr_node = odd[0]\n",
    "    path = []\n",
    "    while len(adj_list[curr_node]) > 0:\n",
    "        for node in adj_list[curr_node]:\n",
    "            if not is_bridge(adj_list, (curr_node, node)) or len(adj_list[curr_node]) == 1:\n",
    "                path.append((curr_node, node))\n",
    "                adj_list[curr_node].remove(node)\n",
    "                adj_list[node].remove(curr_node)\n",
    "                curr_node = node\n",
    "                break\n",
    "    return path"
   ]
  },
  {
   "cell_type": "code",
   "execution_count": 35,
   "metadata": {
    "collapsed": false,
    "scrolled": true
   },
   "outputs": [
    {
     "data": {
      "text/plain": [
       "[('D', 'A'), ('A', 'B'), ('B', 'C'), ('C', 'D'), ('D', 'E'), ('E', 'C')]"
      ]
     },
     "execution_count": 35,
     "metadata": {},
     "output_type": "execute_result"
    }
   ],
   "source": [
    "fleury_algorithm(adj_list)"
   ]
  },
  {
   "cell_type": "code",
   "execution_count": 36,
   "metadata": {
    "collapsed": true
   },
   "outputs": [],
   "source": [
    "from graphs import load_graph"
   ]
  },
  {
   "cell_type": "code",
   "execution_count": 37,
   "metadata": {
    "collapsed": false
   },
   "outputs": [
    {
     "data": {
      "text/plain": [
       "{'0': {'2', '8'},\n",
       " '2': {'0', '3', '5', '6', '8'},\n",
       " '3': {'2', '4', '6', '7'},\n",
       " '4': {'3', '8'},\n",
       " '5': {'2', '6', '7', '8'},\n",
       " '6': {'2', '3', '5', '8'},\n",
       " '7': {'3', '5'},\n",
       " '8': {'0', '2', '4', '5', '6'}}"
      ]
     },
     "execution_count": 37,
     "metadata": {},
     "output_type": "execute_result"
    }
   ],
   "source": [
    "# example on how to load the graph\n",
    "adj_loaded = load_graph('Data_Eulerian/eulerian14.json')\n",
    "adj_loaded"
   ]
  },
  {
   "cell_type": "code",
   "execution_count": 52,
   "metadata": {
    "collapsed": false
   },
   "outputs": [],
   "source": [
    "# load all graphs\n",
    "import os\n",
    "\n",
    "graphs = {}\n",
    "base = 'Data_Eulerian/'\n",
    "for file in os.listdir('Data_Eulerian/'):\n",
    "    path = os.path.join(base, file)\n",
    "    graphs[file] = load_graph(path)"
   ]
  },
  {
   "cell_type": "code",
   "execution_count": 53,
   "metadata": {
    "collapsed": false
   },
   "outputs": [
    {
     "name": "stdout",
     "output_type": "stream",
     "text": [
      "-->  eulerian266.json: # edges  266 - 10 loops, best of 3: 29.2 ms per loop\n",
      "--> eulerian1166.json: # edges 1166 - 1 loop, best of 3: 464 ms per loop\n",
      "-->  eulerian334.json: # edges  334 - 10 loops, best of 3: 42.6 ms per loop\n",
      "--> eulerian1774.json: # edges 1774 - 1 loop, best of 3: 999 ms per loop\n",
      "--> eulerian2126.json: # edges 2126 - 1 loop, best of 3: 1.4 s per loop\n",
      "-->  eulerian494.json: # edges  494 - 10 loops, best of 3: 92.5 ms per loop\n",
      "--> eulerian2314.json: # edges 2314 - 1 loop, best of 3: 1.65 s per loop\n",
      "-->  eulerian110.json: # edges  110 - 100 loops, best of 3: 5.09 ms per loop\n",
      "--> eulerian2510.json: # edges 2510 - 1 loop, best of 3: 1.93 s per loop\n",
      "-->   eulerian26.json: # edges   26 - 1000 loops, best of 3: 349 µs per loop\n",
      "--> eulerian1610.json: # edges 1610 - 1 loop, best of 3: 839 ms per loop\n",
      "-->  eulerian154.json: # edges  154 - 100 loops, best of 3: 9.66 ms per loop\n",
      "-->  eulerian586.json: # edges  586 - 10 loops, best of 3: 126 ms per loop\n",
      "-->   eulerian14.json: # edges   14 - 10000 loops, best of 3: 128 µs per loop\n",
      "-->  eulerian206.json: # edges  206 - 100 loops, best of 3: 17.2 ms per loop\n",
      "-->  eulerian686.json: # edges  686 - 10 loops, best of 3: 171 ms per loop\n",
      "--> eulerian1946.json: # edges 1946 - 1 loop, best of 3: 1.2 s per loop\n",
      "-->   eulerian46.json: # edges   46 - 1000 loops, best of 3: 1.05 ms per loop\n",
      "--> eulerian1306.json: # edges 1306 - 1 loop, best of 3: 572 ms per loop\n",
      "--> eulerian1454.json: # edges 1454 - 1 loop, best of 3: 694 ms per loop\n",
      "-->   eulerian74.json: # edges   74 - 100 loops, best of 3: 2.71 ms per loop\n",
      "-->  eulerian794.json: # edges  794 - 1 loop, best of 3: 225 ms per loop\n",
      "-->  eulerian410.json: # edges  410 - 10 loops, best of 3: 64 ms per loop\n",
      "--> eulerian1034.json: # edges 1034 - 1 loop, best of 3: 370 ms per loop\n",
      "-->  eulerian910.json: # edges  910 - 1 loop, best of 3: 289 ms per loop\n"
     ]
    }
   ],
   "source": [
    "# use this cell to measure the time to find the Eulerian path for each graph\n",
    "times = []\n",
    "edges = []\n",
    "for key, graph in graphs.items():\n",
    "    n_edges = int(len(adj_list_to_edges(graph))/2)\n",
    "    \n",
    "    print(\"--> {0:>17}: # edges {1:>4} - \".format(key, n_edges), end=\"\")\n",
    "    \n",
    "    r = %timeit -o fleury_algorithm(graph)\n",
    "    times.append(r.best)\n",
    "    edges.append(n_edges)"
   ]
  },
  {
   "cell_type": "code",
   "execution_count": 54,
   "metadata": {
    "collapsed": false
   },
   "outputs": [
    {
     "name": "stderr",
     "output_type": "stream",
     "text": [
      "/home/arthur/anaconda3/lib/python3.5/site-packages/matplotlib/figure.py:402: UserWarning: matplotlib is currently using a non-GUI backend, so cannot show the figure\n",
      "  \"matplotlib is currently using a non-GUI backend, \"\n"
     ]
    },
    {
     "data": {
      "image/png": "[encoded data removed]",
      "text/plain": [
       "<matplotlib.figure.Figure at 0x7ff9067804a8>"
      ]
     },
     "metadata": {},
     "output_type": "display_data"
    }
   ],
   "source": [
    "# use this cell to plot the time as a function of the number of edges (log-log scale)\n",
    "fig = plt.figure(figsize=(16,8))\n",
    "plt.scatter(edges, times)\n",
    "plt.loglog\n",
    "plt.title('Fleury algorithm: running time vs. number of edges')\n",
    "plt.xlabel('Number of edges')\n",
    "plt.ylabel('Running time (seconds)')\n",
    "fig.show()"
   ]
  },
  {
   "cell_type": "markdown",
   "metadata": {},
   "source": [
    "At first glance, the time complexity of the fleury algorithm seems to be quadratic in the number of edges in the graph, _i.e_ $O(n^2)$, with $n$ the number of edges (_i.e._ $n=|E|$). This makes sense because, while the graph traversal part of the Fleury algorithm is linear in the number of edges, in each step we also have to check whether the chosen edge is a bridge, which is also linear in the number of edges. The total complexity of the algorithm will therefore be quadratic in the number of edges."
   ]
  },
  {
   "cell_type": "markdown",
   "metadata": {},
   "source": [
    "## Graph coloring using six colors\n",
    "\n",
    "Graph coloring is an optimization problem of assinging a color to each label using as few colors as possible such that no neighboring vertices have the same color.\n",
    "\n",
    "The four color theorem states that a planar graph can be colored using only four colors."
   ]
  },
  {
   "cell_type": "markdown",
   "metadata": {},
   "source": [
    "We will use six colors (though we rarely need more than five) to color a planar graph. For this, the algorithm is very simple:\n",
    "\n",
    "1. Color recursively with the six colors all vertices of degree five or more.\n",
    "2. Color the rest of the graph with a free color."
   ]
  },
  {
   "cell_type": "markdown",
   "metadata": {},
   "source": [
    "**ASSIGNMENT 2**\n",
    "\n",
    "1. Complete the graph coloring algorithm.\n",
    "2. What do you think the time complexity of this algorithm is going to be (based on reasoning).\n",
    "\n",
    "You can illustrate this algorithm on a Voronoi plot (a tesselation of a plane based on the distance to a set of points). Feel free to improve the graphics :-)"
   ]
  },
  {
   "cell_type": "code",
   "execution_count": 44,
   "metadata": {
    "collapsed": true
   },
   "outputs": [],
   "source": [
    "def graph_color(adj_list, colors=['k', 'r', 'b', 'g', 'y', 'm']):\n",
    "    \"\"\"\n",
    "    Provides one of six colors for each vertex in a planar graph\n",
    "    such that no neighboring vertices have the same color\n",
    "    \n",
    "    Inputs:\n",
    "        - adj_list: adjecency list of a planar graph\n",
    "        - colors: list of six colors (default those for matplotlib plotting)\n",
    "        \n",
    "    Output:\n",
    "        - vertices_colors: a dict with a color for each vertex\n",
    "    \"\"\"\n",
    "    vertices_colors = {}\n",
    "    color_set = set(colors)\n",
    "    \n",
    "    # complete the algorithm\n",
    "    rest = []\n",
    "    for vertex, edges in adj_list.items():\n",
    "        if len(edges) >= 5:\n",
    "            to_check = set(vertices_colors.keys()) & edges\n",
    "            color = list(color_set - {vertices_colors[x] for x in to_check})[0]\n",
    "            vertices_colors[vertex] = color\n",
    "        else:\n",
    "            rest.append(vertex)\n",
    "            \n",
    "    for vertex in rest:\n",
    "        to_check = set(vertices_colors.keys()) & adj_list[vertex] \n",
    "        color = list(color_set - {vertices_colors[x] for x in to_check})[0]\n",
    "        vertices_colors[vertex] = color\n",
    "    \n",
    "    return vertices_colors"
   ]
  },
  {
   "cell_type": "code",
   "execution_count": 45,
   "metadata": {
    "collapsed": false
   },
   "outputs": [],
   "source": [
    "from graphs import get_planar_graph"
   ]
  },
  {
   "cell_type": "code",
   "execution_count": 46,
   "metadata": {
    "collapsed": false
   },
   "outputs": [],
   "source": [
    "X = np.random.randn(20, 2)  # random points for Voronoi tesselation\n",
    "planar_graph = get_planar_graph(X)"
   ]
  },
  {
   "cell_type": "code",
   "execution_count": 47,
   "metadata": {
    "collapsed": false
   },
   "outputs": [],
   "source": [
    "#planar_graph"
   ]
  },
  {
   "cell_type": "code",
   "execution_count": 48,
   "metadata": {
    "collapsed": false
   },
   "outputs": [
    {
     "data": {
      "text/plain": [
       "{0: 'g',\n",
       " 1: 'g',\n",
       " 2: 'y',\n",
       " 3: 'g',\n",
       " 4: 'm',\n",
       " 5: 'y',\n",
       " 6: 'k',\n",
       " 7: 'y',\n",
       " 8: 'g',\n",
       " 9: 'k',\n",
       " 10: 'y',\n",
       " 11: 'b',\n",
       " 12: 'k',\n",
       " 13: 'b',\n",
       " 14: 'k',\n",
       " 15: 'g',\n",
       " 16: 'k',\n",
       " 17: 'y',\n",
       " 18: 'b',\n",
       " 19: 'y'}"
      ]
     },
     "execution_count": 48,
     "metadata": {},
     "output_type": "execute_result"
    }
   ],
   "source": [
    "coloring = graph_color(planar_graph, colors=['k', 'r', 'b', 'g', 'y', 'm'])\n",
    "coloring"
   ]
  },
  {
   "cell_type": "code",
   "execution_count": 49,
   "metadata": {
    "collapsed": false
   },
   "outputs": [],
   "source": [
    "# nicer graphics\n",
    "def voronoi_finite_polygons_2d(vor, radius=None):\n",
    "    \"\"\"\n",
    "    Reconstruct infinite voronoi regions in a 2D diagram to finite\n",
    "    regions.\n",
    "\n",
    "    Parameters\n",
    "    ----------\n",
    "    vor : Voronoi\n",
    "        Input diagram\n",
    "    radius : float, optional\n",
    "        Distance to 'points at infinity'.\n",
    "\n",
    "    Returns\n",
    "    -------\n",
    "    regions : list of tuples\n",
    "        Indices of vertices in each revised Voronoi regions.\n",
    "    vertices : list of tuples\n",
    "        Coordinates for revised Voronoi vertices. Same as coordinates\n",
    "        of input vertices, with 'points at infinity' appended to the\n",
    "        end.\n",
    "\n",
    "    \"\"\"\n",
    "\n",
    "    if vor.points.shape[1] != 2:\n",
    "        raise ValueError(\"Requires 2D input\")\n",
    "\n",
    "    new_regions = []\n",
    "    new_vertices = vor.vertices.tolist()\n",
    "\n",
    "    center = vor.points.mean(axis=0)\n",
    "    if radius is None:\n",
    "        radius = vor.points.ptp().max()\n",
    "\n",
    "    # Construct a map containing all ridges for a given point\n",
    "    all_ridges = {}\n",
    "    for (p1, p2), (v1, v2) in zip(vor.ridge_points, vor.ridge_vertices):\n",
    "        all_ridges.setdefault(p1, []).append((p2, v1, v2))\n",
    "        all_ridges.setdefault(p2, []).append((p1, v1, v2))\n",
    "\n",
    "    # Reconstruct infinite regions\n",
    "    for p1, region in enumerate(vor.point_region):\n",
    "        vertices = vor.regions[region]\n",
    "\n",
    "        if all(v >= 0 for v in vertices):\n",
    "            # finite region\n",
    "            new_regions.append(vertices)\n",
    "            continue\n",
    "\n",
    "        # reconstruct a non-finite region\n",
    "        ridges = all_ridges[p1]\n",
    "        new_region = [v for v in vertices if v >= 0]\n",
    "\n",
    "        for p2, v1, v2 in ridges:\n",
    "            if v2 < 0:\n",
    "                v1, v2 = v2, v1\n",
    "            if v1 >= 0:\n",
    "                # finite ridge: already in the region\n",
    "                continue\n",
    "\n",
    "            # Compute the missing endpoint of an infinite ridge\n",
    "\n",
    "            t = vor.points[p2] - vor.points[p1] # tangent\n",
    "            t /= np.linalg.norm(t)\n",
    "            n = np.array([-t[1], t[0]])  # normal\n",
    "\n",
    "            midpoint = vor.points[[p1, p2]].mean(axis=0)\n",
    "            direction = np.sign(np.dot(midpoint - center, n)) * n\n",
    "            far_point = vor.vertices[v2] + direction * radius\n",
    "\n",
    "            new_region.append(len(new_vertices))\n",
    "            new_vertices.append(far_point.tolist())\n",
    "\n",
    "        # sort region counterclockwise\n",
    "        vs = np.asarray([new_vertices[v] for v in new_region])\n",
    "        c = vs.mean(axis=0)\n",
    "        angles = np.arctan2(vs[:,1] - c[1], vs[:,0] - c[0])\n",
    "        new_region = np.array(new_region)[np.argsort(angles)]\n",
    "\n",
    "        # finish\n",
    "        new_regions.append(new_region.tolist())\n",
    "\n",
    "    return new_regions, np.asarray(new_vertices)"
   ]
  },
  {
   "cell_type": "markdown",
   "metadata": {},
   "source": [
    "Source of the polygon coloring function: http://stackoverflow.com/questions/20515554/colorize-voronoi-diagram"
   ]
  },
  {
   "cell_type": "code",
   "execution_count": 50,
   "metadata": {
    "collapsed": false
   },
   "outputs": [],
   "source": [
    "# compute Voronoi tesselation\n",
    "vor = Voronoi(X)\n",
    "regions, vertices = voronoi_finite_polygons_2d(vor)"
   ]
  },
  {
   "cell_type": "code",
   "execution_count": 51,
   "metadata": {
    "collapsed": false
   },
   "outputs": [
    {
     "name": "stderr",
     "output_type": "stream",
     "text": [
      "/home/arthur/anaconda3/lib/python3.5/site-packages/scipy/spatial/_plotutils.py:20: MatplotlibDeprecationWarning: The ishold function was deprecated in version 2.0.\n",
      "  was_held = ax.ishold()\n"
     ]
    },
    {
     "data": {
      "image/png": "[encoded data removed]",
      "text/plain": [
       "<matplotlib.figure.Figure at 0x7ff90305cf60>"
      ]
     },
     "metadata": {},
     "output_type": "display_data"
    }
   ],
   "source": [
    "# colorize\n",
    "fig, ax = plt.subplots(figsize=(10,10))\n",
    "\n",
    "voronoi_plot_2d(vor, ax=ax, show_points=False, show_vertices=False)\n",
    "for i in range(len(regions)):\n",
    "    polygon = vertices[regions[i]]\n",
    "    key = sorted(list(coloring.keys()))[i]\n",
    "    ax.fill(*zip(*polygon), c=coloring[key], alpha=0.4)\n",
    "\n",
    "ax.set_xlim(vor.min_bound[0] - 0.1, vor.max_bound[0] + 0.1)\n",
    "ax.set_ylim(vor.min_bound[1] - 0.1, vor.max_bound[1] + 0.1)\n",
    "ax.set_title(\"6-coloring of Voronoi diagram\")\n",
    "\n",
    "plt.show()"
   ]
  },
  {
   "cell_type": "markdown",
   "metadata": {},
   "source": [
    "** Time complexity **\n",
    "\n",
    "The algorithm traverses the graph through all vertices, and at each vertex has to check the neighboring nodes for their coloring. The time complexity for a planar graph $G(V,E)$ is therefore proportional to the number of vertices and edges, that is $|E|$ and $|V|$ respectively, thus of the order of $O(|V||E|)$."
   ]
  }
 ],
 "metadata": {
  "anaconda-cloud": {},
  "kernelspec": {
   "display_name": "Python [conda root]",
   "language": "python",
   "name": "conda-root-py"
  },
  "language_info": {
   "codemirror_mode": {
    "name": "ipython",
    "version": 3
   },
   "file_extension": ".py",
   "mimetype": "text/x-python",
   "name": "python",
   "nbconvert_exporter": "python",
   "pygments_lexer": "ipython3",
   "version": "3.5.2"
  }
 },
 "nbformat": 4,
 "nbformat_minor": 1
}
