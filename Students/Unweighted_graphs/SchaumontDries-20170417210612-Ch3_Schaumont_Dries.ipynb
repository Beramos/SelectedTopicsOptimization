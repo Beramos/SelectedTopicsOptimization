{
 "cells": [
  {
   "cell_type": "markdown",
   "metadata": {},
   "source": [
    "# Chapter 3: Undirected graphs"
   ]
  },
  {
   "cell_type": "markdown",
   "metadata": {},
   "source": [
    "*Selected Topics in Mathematical Optimization*\n",
    "\n",
    "*2016-2017*\n",
    "\n",
    "**Bernard De Baets**\n",
    "\n",
    "**Michiel Stock**\n",
    "\n",
    "**Raúl Pérez-Fernández**"
   ]
  },
  {
   "cell_type": "code",
   "execution_count": 3,
   "metadata": {
    "collapsed": true
   },
   "outputs": [],
   "source": [
    "import matplotlib.pyplot as plt\n",
    "import matplotlib.patches as patches\n",
    "from scipy.spatial import voronoi_plot_2d, Voronoi\n",
    "import numpy as np\n",
    "%matplotlib inline"
   ]
  },
  {
   "cell_type": "markdown",
   "metadata": {},
   "source": [
    "## Some essential data structures in python\n",
    "\n",
    "Using the correct datastructure is key to implementing an efficient graph algorithm. Below is a concise overview of some elementary python data structures.\n",
    "\n",
    "For more information on the time complexity of operations on these data structures, see [this](https://wiki.python.org/moin/TimeComplexity) link."
   ]
  },
  {
   "cell_type": "markdown",
   "metadata": {},
   "source": [
    "### Lists: ordered  collection of objects\n",
    "\n",
    "Lists store objects in sequential order. Adding and removing elements at the back is easy, inserting or removing elements elsewhere is computationally inefficient (memory has to be reshuffled)."
   ]
  },
  {
   "cell_type": "code",
   "execution_count": 4,
   "metadata": {
    "collapsed": true
   },
   "outputs": [],
   "source": [
    "my_list = [1, 2, 3, 4, 5]"
   ]
  },
  {
   "cell_type": "code",
   "execution_count": 5,
   "metadata": {
    "collapsed": false
   },
   "outputs": [
    {
     "data": {
      "text/plain": [
       "[1, 2, 3, 4, 5, 6]"
      ]
     },
     "execution_count": 5,
     "metadata": {},
     "output_type": "execute_result"
    }
   ],
   "source": [
    "my_list.append(6)  # add element at the back\n",
    "my_list"
   ]
  },
  {
   "cell_type": "code",
   "execution_count": 6,
   "metadata": {
    "collapsed": false
   },
   "outputs": [
    {
     "data": {
      "text/plain": [
       "6"
      ]
     },
     "execution_count": 6,
     "metadata": {},
     "output_type": "execute_result"
    }
   ],
   "source": [
    "my_list.pop()  # return last element"
   ]
  },
  {
   "cell_type": "code",
   "execution_count": 7,
   "metadata": {
    "collapsed": false
   },
   "outputs": [
    {
     "data": {
      "text/plain": [
       "[1, 2, 3, 4, 5]"
      ]
     },
     "execution_count": 7,
     "metadata": {},
     "output_type": "execute_result"
    }
   ],
   "source": [
    "my_list  # element is gone"
   ]
  },
  {
   "cell_type": "code",
   "execution_count": 8,
   "metadata": {
    "collapsed": false
   },
   "outputs": [
    {
     "data": {
      "text/plain": [
       "5"
      ]
     },
     "execution_count": 8,
     "metadata": {},
     "output_type": "execute_result"
    }
   ],
   "source": [
    "my_list[4]  # take element"
   ]
  },
  {
   "cell_type": "code",
   "execution_count": 9,
   "metadata": {
    "collapsed": false
   },
   "outputs": [
    {
     "data": {
      "text/plain": [
       "[1, 2, 3, 'three', 5]"
      ]
     },
     "execution_count": 9,
     "metadata": {},
     "output_type": "execute_result"
    }
   ],
   "source": [
    "my_list[3] = 'three'  # replace\n",
    "my_list"
   ]
  },
  {
   "cell_type": "code",
   "execution_count": 10,
   "metadata": {
    "collapsed": false
   },
   "outputs": [
    {
     "data": {
      "text/plain": [
       "[1, 4, 9, 16, 25, 36, 49, 64, 81, 100]"
      ]
     },
     "execution_count": 10,
     "metadata": {},
     "output_type": "execute_result"
    }
   ],
   "source": [
    "# for loops in lists\n",
    "squares = [x**2 for x in range(1, 11)]\n",
    "squares"
   ]
  },
  {
   "cell_type": "code",
   "execution_count": 11,
   "metadata": {
    "collapsed": false
   },
   "outputs": [
    {
     "data": {
      "text/plain": [
       "[1, 9, 25, 49, 81]"
      ]
     },
     "execution_count": 11,
     "metadata": {},
     "output_type": "execute_result"
    }
   ],
   "source": [
    "# a more complex example\n",
    "squares_odd = [x**2 for x in range(1, 11) if x%2==1]\n",
    "squares_odd"
   ]
  },
  {
   "cell_type": "markdown",
   "metadata": {},
   "source": [
    "### Sets: unordened collection of objects\n",
    "\n",
    "Sets have no ordening and cannot contain duplicates. It is very efficient (constant time compelxity) to check if an element is present and to add or remove an object."
   ]
  },
  {
   "cell_type": "code",
   "execution_count": 12,
   "metadata": {
    "collapsed": false
   },
   "outputs": [
    {
     "data": {
      "text/plain": [
       "{-1, 1, 2, 3, 4, 15}"
      ]
     },
     "execution_count": 12,
     "metadata": {},
     "output_type": "execute_result"
    }
   ],
   "source": [
    "numbers = set([1, 2, 15, -1, 4, 2, 3, 4])  # make set from list \n",
    "numbers  # no particular order or duplicates"
   ]
  },
  {
   "cell_type": "code",
   "execution_count": 13,
   "metadata": {
    "collapsed": false,
    "scrolled": true
   },
   "outputs": [
    {
     "data": {
      "text/plain": [
       "False"
      ]
     },
     "execution_count": 13,
     "metadata": {},
     "output_type": "execute_result"
    }
   ],
   "source": [
    "5 in numbers  # check if element is member"
   ]
  },
  {
   "cell_type": "code",
   "execution_count": 14,
   "metadata": {
    "collapsed": true
   },
   "outputs": [],
   "source": [
    "numbers.add(5)  # add element"
   ]
  },
  {
   "cell_type": "code",
   "execution_count": 15,
   "metadata": {
    "collapsed": false
   },
   "outputs": [
    {
     "data": {
      "text/plain": [
       "True"
      ]
     },
     "execution_count": 15,
     "metadata": {},
     "output_type": "execute_result"
    }
   ],
   "source": [
    "5 in numbers"
   ]
  },
  {
   "cell_type": "code",
   "execution_count": 16,
   "metadata": {
    "collapsed": false
   },
   "outputs": [
    {
     "data": {
      "text/plain": [
       "{-1, 2, 6, 8, 15}"
      ]
     },
     "execution_count": 16,
     "metadata": {},
     "output_type": "execute_result"
    }
   ],
   "source": [
    "# set operations on two sets\n",
    "new_numbers = set([2, 15, -1, 8, 6, 15])\n",
    "new_numbers"
   ]
  },
  {
   "cell_type": "code",
   "execution_count": 17,
   "metadata": {
    "collapsed": false
   },
   "outputs": [
    {
     "data": {
      "text/plain": [
       "{-1, 2, 15}"
      ]
     },
     "execution_count": 17,
     "metadata": {},
     "output_type": "execute_result"
    }
   ],
   "source": [
    "numbers & new_numbers  # intersection (AND)"
   ]
  },
  {
   "cell_type": "code",
   "execution_count": 18,
   "metadata": {
    "collapsed": false
   },
   "outputs": [
    {
     "data": {
      "text/plain": [
       "{-1, 1, 2, 3, 4, 5, 6, 8, 15}"
      ]
     },
     "execution_count": 18,
     "metadata": {},
     "output_type": "execute_result"
    }
   ],
   "source": [
    "numbers | new_numbers  # union (OR)"
   ]
  },
  {
   "cell_type": "code",
   "execution_count": 19,
   "metadata": {
    "collapsed": false
   },
   "outputs": [
    {
     "data": {
      "text/plain": [
       "{1, 3, 4, 5}"
      ]
     },
     "execution_count": 19,
     "metadata": {},
     "output_type": "execute_result"
    }
   ],
   "source": [
    "numbers - new_numbers  # set difference (in first but not in second)"
   ]
  },
  {
   "cell_type": "markdown",
   "metadata": {},
   "source": [
    "## Dictorinary: key-value storage\n",
    "\n",
    "Dictionaries are the best of both lists and sets, they store values by a key"
   ]
  },
  {
   "cell_type": "code",
   "execution_count": 20,
   "metadata": {
    "collapsed": true
   },
   "outputs": [],
   "source": [
    "my_dict = {'A' : 1, 'B' : 'bee', 'C' : [1, 2, 3]}  # make dictionary"
   ]
  },
  {
   "cell_type": "code",
   "execution_count": 21,
   "metadata": {
    "collapsed": false
   },
   "outputs": [
    {
     "data": {
      "text/plain": [
       "'bee'"
      ]
     },
     "execution_count": 21,
     "metadata": {},
     "output_type": "execute_result"
    }
   ],
   "source": [
    "my_dict['B']  # get value associated by key"
   ]
  },
  {
   "cell_type": "code",
   "execution_count": 22,
   "metadata": {
    "collapsed": false
   },
   "outputs": [
    {
     "data": {
      "text/plain": [
       "{'A': 1, 'B': 'bee', 'C': [1, 2, 3], 'D': 'new value'}"
      ]
     },
     "execution_count": 22,
     "metadata": {},
     "output_type": "execute_result"
    }
   ],
   "source": [
    "my_dict['D'] = 'new value'  # add new key-value\n",
    "my_dict"
   ]
  },
  {
   "cell_type": "code",
   "execution_count": 23,
   "metadata": {
    "collapsed": false
   },
   "outputs": [
    {
     "data": {
      "text/plain": [
       "True"
      ]
     },
     "execution_count": 23,
     "metadata": {},
     "output_type": "execute_result"
    }
   ],
   "source": [
    "'A' in my_dict  # check if dict has key"
   ]
  },
  {
   "cell_type": "code",
   "execution_count": 24,
   "metadata": {
    "collapsed": false
   },
   "outputs": [
    {
     "name": "stdout",
     "output_type": "stream",
     "text": [
      "A 1\n",
      "B bee\n",
      "C [1, 2, 3]\n",
      "D new value\n"
     ]
    }
   ],
   "source": [
    "for k, v in my_dict.items():  # iterate over values\n",
    "    print(k, v)"
   ]
  },
  {
   "cell_type": "code",
   "execution_count": 25,
   "metadata": {
    "collapsed": false,
    "scrolled": true
   },
   "outputs": [
    {
     "name": "stdout",
     "output_type": "stream",
     "text": [
      "A\n",
      "B\n",
      "C\n",
      "D\n"
     ]
    }
   ],
   "source": [
    "for k in my_dict.keys():  # iterate over keys\n",
    "    print(k)"
   ]
  },
  {
   "cell_type": "code",
   "execution_count": 26,
   "metadata": {
    "collapsed": false
   },
   "outputs": [
    {
     "name": "stdout",
     "output_type": "stream",
     "text": [
      "1\n",
      "bee\n",
      "[1, 2, 3]\n",
      "new value\n"
     ]
    }
   ],
   "source": [
    "for v in my_dict.values():  # iterate over values\n",
    "    print(v)"
   ]
  },
  {
   "cell_type": "markdown",
   "metadata": {},
   "source": [
    "## Representing graphs in python\n",
    "\n",
    "Consider the following example graph:"
   ]
  },
  {
   "cell_type": "markdown",
   "metadata": {},
   "source": [
    "Typically, graphs are represented as:\n",
    "- **list of edges**: a set of edges (tuples of vertices) we use sets are there is no order in the edges. THis is the prefered format to *store* graphs.\n",
    "- **adjacency lists**: in python implemented as dictionaries. Each vertex is a key and the associated value is a set of neighboring edges (for undirected graphs every outgoing edge should be balanced by an ingoing edge).\n",
    "- **adjacenty matrices**: matrix of which the elements store the edges. Is only used for dense graphs."
   ]
  },
  {
   "cell_type": "markdown",
   "metadata": {},
   "source": [
    "Example of the theory:\n",
    "\n",
    "![](Figures/undir_graph.png)"
   ]
  },
  {
   "cell_type": "code",
   "execution_count": 27,
   "metadata": {
    "collapsed": true
   },
   "outputs": [],
   "source": [
    "edges = set([('A', 'B'), ('B', 'C'), ('C', 'D'), ('A', 'D'), ('C', 'E'), ('D', 'E')])"
   ]
  },
  {
   "cell_type": "code",
   "execution_count": 28,
   "metadata": {
    "collapsed": false
   },
   "outputs": [],
   "source": [
    "from graphs import edges_to_adj_list"
   ]
  },
  {
   "cell_type": "code",
   "execution_count": 29,
   "metadata": {
    "collapsed": false
   },
   "outputs": [
    {
     "data": {
      "text/plain": [
       "{'A': {'B', 'D'},\n",
       " 'B': {'A', 'C'},\n",
       " 'C': {'B', 'D', 'E'},\n",
       " 'D': {'A', 'C', 'E'},\n",
       " 'E': {'C', 'D'}}"
      ]
     },
     "execution_count": 29,
     "metadata": {},
     "output_type": "execute_result"
    }
   ],
   "source": [
    "adj_list = edges_to_adj_list(edges)\n",
    "adj_list"
   ]
  },
  {
   "cell_type": "markdown",
   "metadata": {},
   "source": [
    "Some basic graph algorithms are implemented:\n",
    "- `give_connected_component`: gives the largest connected component for a vertex\n",
    "- `is_connected`: checks if a graph is connected (every edge can be reached from every other edge)\n",
    "- `has_path`: checks if there exists a path between two vertices\n",
    "- `is_bridge`: checks if an edge is a bridge (i.e. removing it makes the graph disconnected"
   ]
  },
  {
   "cell_type": "markdown",
   "metadata": {},
   "source": [
    "Run the examples and check the result"
   ]
  },
  {
   "cell_type": "code",
   "execution_count": 30,
   "metadata": {
    "collapsed": true
   },
   "outputs": [],
   "source": [
    "from graphs import give_connected_component, is_connected, is_bridge, has_path"
   ]
  },
  {
   "cell_type": "code",
   "execution_count": 31,
   "metadata": {
    "collapsed": true
   },
   "outputs": [],
   "source": [
    "example1_edges = set([('A', 'B'), ('A', 'C'), ('B', 'C'), ('D', 'C'), ('D', 'E'),\n",
    "                     ('E', 'F'), ('F', 'G'), ('G', 'E'), ('D', 'F')\n",
    "                     ])\n",
    "example2_edges = set([('A', 'B'), ('A', 'C'), ('B', 'C'), ('D', 'E'),\n",
    "                     ('D', 'G'), ('F', 'G'), ('G', 'E'), ('D', 'F')\n",
    "                     ])"
   ]
  },
  {
   "cell_type": "code",
   "execution_count": 32,
   "metadata": {
    "collapsed": true
   },
   "outputs": [],
   "source": [
    "example1_adj_list = edges_to_adj_list(example1_edges)\n",
    "example2_adj_list = edges_to_adj_list(example2_edges)"
   ]
  },
  {
   "cell_type": "code",
   "execution_count": 33,
   "metadata": {
    "collapsed": false
   },
   "outputs": [
    {
     "data": {
      "text/plain": [
       "{'A', 'B', 'C', 'D', 'E', 'F', 'G'}"
      ]
     },
     "execution_count": 33,
     "metadata": {},
     "output_type": "execute_result"
    }
   ],
   "source": [
    "give_connected_component(example1_adj_list, 'A')"
   ]
  },
  {
   "cell_type": "code",
   "execution_count": 34,
   "metadata": {
    "collapsed": false
   },
   "outputs": [
    {
     "data": {
      "text/plain": [
       "{'A', 'B', 'C'}"
      ]
     },
     "execution_count": 34,
     "metadata": {},
     "output_type": "execute_result"
    }
   ],
   "source": [
    "give_connected_component(example2_adj_list, 'A')"
   ]
  },
  {
   "cell_type": "code",
   "execution_count": 35,
   "metadata": {
    "collapsed": false
   },
   "outputs": [
    {
     "data": {
      "text/plain": [
       "True"
      ]
     },
     "execution_count": 35,
     "metadata": {},
     "output_type": "execute_result"
    }
   ],
   "source": [
    "is_connected(example1_adj_list)"
   ]
  },
  {
   "cell_type": "code",
   "execution_count": 36,
   "metadata": {
    "collapsed": false,
    "scrolled": true
   },
   "outputs": [
    {
     "data": {
      "text/plain": [
       "False"
      ]
     },
     "execution_count": 36,
     "metadata": {},
     "output_type": "execute_result"
    }
   ],
   "source": [
    "is_connected(example2_adj_list)"
   ]
  },
  {
   "cell_type": "code",
   "execution_count": 37,
   "metadata": {
    "collapsed": false,
    "scrolled": false
   },
   "outputs": [
    {
     "data": {
      "text/plain": [
       "False"
      ]
     },
     "execution_count": 37,
     "metadata": {},
     "output_type": "execute_result"
    }
   ],
   "source": [
    "is_bridge(example1_adj_list, ('A', 'B'))"
   ]
  },
  {
   "cell_type": "code",
   "execution_count": 38,
   "metadata": {
    "collapsed": false,
    "scrolled": true
   },
   "outputs": [
    {
     "data": {
      "text/plain": [
       "True"
      ]
     },
     "execution_count": 38,
     "metadata": {},
     "output_type": "execute_result"
    }
   ],
   "source": [
    "is_bridge(example1_adj_list, ('C', 'D'))"
   ]
  },
  {
   "cell_type": "code",
   "execution_count": 39,
   "metadata": {
    "collapsed": false
   },
   "outputs": [
    {
     "data": {
      "text/plain": [
       "{'A': {'B', 'C'},\n",
       " 'B': {'A', 'C'},\n",
       " 'C': {'A', 'B', 'D'},\n",
       " 'D': {'C', 'E', 'F'},\n",
       " 'E': {'D', 'F', 'G'},\n",
       " 'F': {'D', 'E', 'G'},\n",
       " 'G': {'E', 'F'}}"
      ]
     },
     "execution_count": 39,
     "metadata": {},
     "output_type": "execute_result"
    }
   ],
   "source": [
    "example1_adj_list"
   ]
  },
  {
   "cell_type": "code",
   "execution_count": 40,
   "metadata": {
    "collapsed": false,
    "scrolled": true
   },
   "outputs": [
    {
     "data": {
      "text/plain": [
       "True"
      ]
     },
     "execution_count": 40,
     "metadata": {},
     "output_type": "execute_result"
    }
   ],
   "source": [
    "has_path(example2_adj_list, 'A', 'C')"
   ]
  },
  {
   "cell_type": "code",
   "execution_count": 41,
   "metadata": {
    "collapsed": false
   },
   "outputs": [
    {
     "data": {
      "text/plain": [
       "False"
      ]
     },
     "execution_count": 41,
     "metadata": {},
     "output_type": "execute_result"
    }
   ],
   "source": [
    "has_path(example2_adj_list, 'A', 'F')"
   ]
  },
  {
   "cell_type": "markdown",
   "metadata": {},
   "source": [
    "## Fleury's algorithm\n",
    "\n",
    "Fleury's algorithm is a simple (though inefficient algorithm to find an Eulerian trail (i.e. a walk on the graph that passes all the edges)."
   ]
  },
  {
   "cell_type": "markdown",
   "metadata": {},
   "source": [
    "It can be shown that a graph has an Eulerian trail if and only if it is connected and it it has exactly zero or two edges with an odd degree."
   ]
  },
  {
   "cell_type": "markdown",
   "metadata": {},
   "source": [
    "Fleury's algorithm is executed as follows:\n",
    "1. Start at a vertex of odd degree, or, if the graph has none, start with an arbitrarily chosen vertex.\n",
    "2. Chooses the next edge in the path to be one whose deletion would not disconnect the graph (i.e. is not a bridge), unless there is no such edge, in which case pick the remaining edge left at the current vertex.\n",
    "3. Add the edge to the path and remove the edge from the graph.\n",
    "4. Repeat steps 2-3 until no more edges are left."
   ]
  },
  {
   "cell_type": "markdown",
   "metadata": {},
   "source": [
    "**ASSIGNMENT 1**\n",
    "\n",
    "1. Complete the pseudocode of fleury's algorithm. The algorithm first checks if an Eulerian path exists (and returns None if not) and returns the path as a list. Use the given function `is_bridge` to check if an \n",
    "2. Study the time complexity of the algorithm. For this you have 25 graphs at your disposal. These graphs are stored in json format in the form `eulerianxxx.json` with '`xxx`' the number of edges. The function `load_graph` can read this data file (see example). For each file, measure the time to find the Eulerian path and make a graph (in log-log scale) of the time vs. the number of edges. Comment on the relation (linear time complexity, super/sublinear?) Does this make sense? HINT: detecting if an edge is a bridge is done with an average time complexity linear in the number of edges."
   ]
  },
  {
   "cell_type": "code",
   "execution_count": 42,
   "metadata": {
    "collapsed": false
   },
   "outputs": [],
   "source": [
    "def fleury_algorithm(adj_list):\n",
    "    \"\"\"\n",
    "    Fleury's algorithm for finding an Eulerian path (if one exists)\n",
    "    \n",
    "    First it checks if the path exists, if it exists, it returns a list of\n",
    "    the nodes that are visisted in an Eulerian path\n",
    "    \n",
    "    Inputs:\n",
    "        - adj_list\n",
    "        \n",
    "    Outputs:\n",
    "        - path\n",
    "    \"\"\"\n",
    "    adj_list = {k : v.copy() for k, v in adj_list.items()}  # make a copy\n",
    "    \n",
    "    # check if Eulerian path exists\n",
    "    nodesWithOdd = []\n",
    "    for node in adj_list:\n",
    "        if len(adj_list[node]) % 2 != 0:\n",
    "            nodesWithOdd.append(node)\n",
    "    # if not, return None\n",
    "    if (len(nodesWithOdd) != 2 and len(nodesWithOdd)) != 0 or not is_connected(adj_list):\n",
    "        return None\n",
    "    elif len(nodesWithOdd) == 0: #Could be a random one, but I select the first.\n",
    "        currentNode = adj_list.items()[0]\n",
    "    elif len(nodesWithOdd) == 2:\n",
    "        currentNode = nodesWithOdd[0]\n",
    "\n",
    "    result = [currentNode]\n",
    "    # else, compute the path and return it\n",
    "    while True:\n",
    "        neighbours = adj_list[currentNode]\n",
    "        if len(neighbours) == 0:\n",
    "            break\n",
    "        for neighbour in neighbours:\n",
    "            toBeRemoved = None\n",
    "            if (not is_bridge(adj_list,(currentNode,neighbour))):\n",
    "                toBeRemoved = neighbour\n",
    "                adj_list[currentNode].remove(toBeRemoved)\n",
    "                adj_list[toBeRemoved].remove(currentNode)\n",
    "                break\n",
    "        if toBeRemoved == None: #Only bridges remain, no problem with connected components\n",
    "            toBeRemoved = neighbours.pop()\n",
    "            adj_list[toBeRemoved].remove(currentNode)\n",
    "        result.append(toBeRemoved)\n",
    "        currentNode = toBeRemoved\n",
    "    return result\n",
    "    "
   ]
  },
  {
   "cell_type": "code",
   "execution_count": 43,
   "metadata": {
    "collapsed": false,
    "scrolled": true
   },
   "outputs": [
    {
     "data": {
      "text/plain": [
       "['D', 'E', 'C', 'B', 'A', 'D', 'C']"
      ]
     },
     "execution_count": 43,
     "metadata": {},
     "output_type": "execute_result"
    }
   ],
   "source": [
    "fleury_algorithm(adj_list)"
   ]
  },
  {
   "cell_type": "code",
   "execution_count": 44,
   "metadata": {
    "collapsed": true
   },
   "outputs": [],
   "source": [
    "from graphs import load_graph"
   ]
  },
  {
   "cell_type": "code",
   "execution_count": 45,
   "metadata": {
    "collapsed": false
   },
   "outputs": [
    {
     "data": {
      "text/plain": [
       "{'0': {'2', '8'},\n",
       " '2': {'0', '3', '5', '6', '8'},\n",
       " '3': {'2', '4', '6', '7'},\n",
       " '4': {'3', '8'},\n",
       " '5': {'2', '6', '7', '8'},\n",
       " '6': {'2', '3', '5', '8'},\n",
       " '7': {'3', '5'},\n",
       " '8': {'0', '2', '4', '5', '6'}}"
      ]
     },
     "execution_count": 45,
     "metadata": {},
     "output_type": "execute_result"
    }
   ],
   "source": [
    "# example on how to load the graph\n",
    "adj_loaded = load_graph('Data_Eulerian/eulerian14.json')\n",
    "adj_loaded"
   ]
  },
  {
   "cell_type": "code",
   "execution_count": 54,
   "metadata": {
    "collapsed": false
   },
   "outputs": [],
   "source": [
    "import time\n",
    "import matplotlib.pyplot as plt \n",
    "fileindices = [14, 26, 46, 74, 110, 154, 206, 266, 334, 410, 494, 586, 686, 794, 910, 1034, 1166, 1306, 1454, 1610, 1774, 1946, 2126, 2314, 2510]\n",
    "times = []\n",
    "for index in fileindices:\n",
    "    adj_loaded = load_graph('Data_Eulerian/eulerian'+str(index)+'.json')\n",
    "    start = time.time()\n",
    "    fleury_algorithm(adj_loaded)\n",
    "    stop = time.time()\n",
    "    times.append(stop-start)"
   ]
  },
  {
   "cell_type": "code",
   "execution_count": 55,
   "metadata": {
    "collapsed": false
   },
   "outputs": [
    {
     "data": {
      "text/plain": [
       "[<matplotlib.lines.Line2D at 0x7fbf655f9710>]"
      ]
     },
     "execution_count": 55,
     "metadata": {},
     "output_type": "execute_result"
    },
    {
     "data": {
      "image/png": "[encoded data removed]",
      "text/plain": [
       "<matplotlib.figure.Figure at 0x7fbf654d64a8>"
      ]
     },
     "metadata": {},
     "output_type": "display_data"
    }
   ],
   "source": [
    "plt.plot(np.log(fileindices), np.log(times))"
   ]
  },
  {
   "cell_type": "markdown",
   "metadata": {},
   "source": [
    "The problem scales linearly with the number of edges. "
   ]
  },
  {
   "cell_type": "markdown",
   "metadata": {},
   "source": [
    "## Graph coloring using six colors\n",
    "\n",
    "Graph coloring is an optimization problem of assinging a color to each label using as few colors as possible such that no neighboring vertices have the same color.\n",
    "\n",
    "The four color theorem states that a planar graph can be colored using only four colors."
   ]
  },
  {
   "cell_type": "markdown",
   "metadata": {},
   "source": [
    "We will use six colors (though we rarely need more than five) to color a planar graph. For this, the algorithm is very simple:\n",
    "\n",
    "1. Color recursively with the six colors all vertices of degree five or more.\n",
    "2. Color the rest of the graph with a free color."
   ]
  },
  {
   "cell_type": "markdown",
   "metadata": {},
   "source": [
    "**ASSIGNMENT 2**\n",
    "\n",
    "1. Complete the graph coloring algorithm.\n",
    "2. What do you think the time complexity of this algorithm is going to be (based on reasoning).\n",
    "\n",
    "You can illustrate this algorithm on a Voronoi plot (a tesselation of a plane based on the distance to a set of points). Feel free to improve the graphics :-)"
   ]
  },
  {
   "cell_type": "code",
   "execution_count": 74,
   "metadata": {
    "collapsed": true
   },
   "outputs": [],
   "source": [
    "def graph_color(adj_list, colors=['k', 'r', 'b', 'g', 'y', 'm']):\n",
    "    \"\"\"\n",
    "    Provides one of six colors for each vertex in a planar graph\n",
    "    such that no neighboring vertices have the same color\n",
    "    \n",
    "    Inputs:\n",
    "        - adj_list: adjecency list of a planar graph\n",
    "        - colors: list of six colors (default those for matplotlib plotting)\n",
    "        \n",
    "    Output:\n",
    "        - vertices_colors: a dict with a color for each vertex\n",
    "    \"\"\"\n",
    "    remaining_vertices = []\n",
    "    remainingcolors = colors.copy()\n",
    "    vertices_colors = {}\n",
    "    for vertex in adj_list.keys():\n",
    "        if len(adj_list[vertex]) >= 5:\n",
    "            surrounding_colors = [vertices_colors[surrounding_vertex] \\\n",
    "                              for surrounding_vertex in adj_list[vertex] \\\n",
    "                                  if surrounding_vertex in vertices_colors]\n",
    "            if len(remainingcolors) == 0:\n",
    "                remainingcolors = colors.copy()\n",
    "            for color in remainingcolors:\n",
    "                if color not in surrounding_colors:\n",
    "                    vertices_colors[vertex] = color\n",
    "                    remainingcolors.remove(color)\n",
    "                    break      \n",
    "        else:\n",
    "            remaining_vertices.append(vertex)\n",
    "            \n",
    "\n",
    "    for remaining in remaining_vertices:\n",
    "        surrounding_colors = [vertices_colors[surrounding_vertex] \\\n",
    "                              for surrounding_vertex in adj_list[remaining] \\\n",
    "                                  if surrounding_vertex in vertices_colors]\n",
    "        for color in colors:\n",
    "            if color not in surrounding_colors:\n",
    "                vertices_colors[remaining] = color\n",
    "                break\n",
    "        \n",
    "    # complete the algorithm\n",
    "    \n",
    "    return vertices_colors"
   ]
  },
  {
   "cell_type": "code",
   "execution_count": 75,
   "metadata": {
    "collapsed": false
   },
   "outputs": [],
   "source": [
    "from graphs import get_planar_graph"
   ]
  },
  {
   "cell_type": "code",
   "execution_count": 76,
   "metadata": {
    "collapsed": false
   },
   "outputs": [],
   "source": [
    "X = np.random.randn(20, 2)  # random points for Voronoi tesselation\n",
    "planar_graph = get_planar_graph(X)"
   ]
  },
  {
   "cell_type": "code",
   "execution_count": 77,
   "metadata": {
    "collapsed": false
   },
   "outputs": [
    {
     "data": {
      "text/plain": [
       "{0: {5, 9, 17, 22},\n",
       " 1: {26, 31, 33, 34},\n",
       " 2: {4, 5, 9, 13, 16},\n",
       " 3: {7, 26, 29, 31, 33},\n",
       " 4: {2, 9, 16, 19, 35, 37, 39},\n",
       " 5: {0, 2, 9, 12, 13, 22, 23, 28},\n",
       " 6: {10, 19, 25, 35, 38},\n",
       " 7: {3, 10, 31, 38},\n",
       " 8: {13, 16, 28, 32, 36},\n",
       " 9: {0, 2, 4, 5, 17, 19},\n",
       " 10: {6, 7, 17, 19, 38},\n",
       " 11: {21, 24, 25, 32, 34, 37},\n",
       " 12: {5, 14, 22, 23, 24, 27},\n",
       " 13: {2, 5, 8, 16, 28},\n",
       " 14: {12, 18, 24, 27},\n",
       " 15: {18, 22, 27, 30},\n",
       " 16: {2, 4, 8, 13, 32, 37},\n",
       " 17: {0, 9, 10, 19},\n",
       " 18: {14, 15, 24, 26, 27, 30},\n",
       " 19: {4, 6, 9, 10, 17, 35},\n",
       " 20: {25, 35, 37, 39},\n",
       " 21: {11, 24, 32, 36},\n",
       " 22: {0, 5, 12, 15, 27, 30},\n",
       " 23: {5, 12, 24, 28, 36},\n",
       " 24: {11, 12, 14, 18, 21, 23, 26, 34, 36},\n",
       " 25: {6, 11, 20, 34, 35, 37, 38},\n",
       " 26: {1, 3, 18, 24, 29, 30, 33, 34},\n",
       " 27: {12, 14, 15, 18, 22},\n",
       " 28: {5, 8, 13, 23, 36},\n",
       " 29: {3, 26, 30},\n",
       " 30: {15, 18, 22, 26, 29},\n",
       " 31: {1, 3, 7, 33, 34, 38},\n",
       " 32: {8, 11, 16, 21, 36, 37},\n",
       " 33: {1, 3, 26, 31},\n",
       " 34: {1, 11, 24, 25, 26, 31, 38},\n",
       " 35: {4, 6, 19, 20, 25, 39},\n",
       " 36: {8, 21, 23, 24, 28, 32},\n",
       " 37: {4, 11, 16, 20, 25, 32, 39},\n",
       " 38: {6, 7, 10, 25, 31, 34},\n",
       " 39: {4, 20, 35, 37}}"
      ]
     },
     "execution_count": 77,
     "metadata": {},
     "output_type": "execute_result"
    }
   ],
   "source": [
    "planar_graph"
   ]
  },
  {
   "cell_type": "code",
   "execution_count": 78,
   "metadata": {
    "collapsed": false
   },
   "outputs": [
    {
     "data": {
      "text/plain": [
       "{0: 'g',\n",
       " 1: 'r',\n",
       " 2: 'g',\n",
       " 3: 'r',\n",
       " 4: 'm',\n",
       " 5: 'r',\n",
       " 7: 'b',\n",
       " 8: 'y',\n",
       " 9: 'k',\n",
       " 10: 'g',\n",
       " 11: 'y',\n",
       " 13: 'k',\n",
       " 14: 'k',\n",
       " 15: 'y',\n",
       " 16: 'b',\n",
       " 17: 'r',\n",
       " 18: 'r',\n",
       " 19: 'y',\n",
       " 20: 'r',\n",
       " 21: 'k',\n",
       " 22: 'b',\n",
       " 23: 'b',\n",
       " 24: 'm',\n",
       " 25: 'g',\n",
       " 26: 'y',\n",
       " 27: 'g',\n",
       " 28: 'm',\n",
       " 29: 'b',\n",
       " 30: 'k',\n",
       " 31: 'k',\n",
       " 32: 'r',\n",
       " 33: 'b',\n",
       " 34: 'b',\n",
       " 35: 'b',\n",
       " 36: 'g',\n",
       " 37: 'k',\n",
       " 38: 'm',\n",
       " 39: 'g'}"
      ]
     },
     "execution_count": 78,
     "metadata": {},
     "output_type": "execute_result"
    }
   ],
   "source": [
    "coloring = graph_color(planar_graph, colors=['k', 'r', 'b', 'g', 'y', 'm'])\n",
    "coloring"
   ]
  },
  {
   "cell_type": "code",
   "execution_count": 80,
   "metadata": {
    "collapsed": false
   },
   "outputs": [
    {
     "name": "stderr",
     "output_type": "stream",
     "text": [
      "/home/driess/anaconda3/lib/python3.6/site-packages/scipy/spatial/_plotutils.py:17: MatplotlibDeprecationWarning: The ishold function was deprecated in version 2.0.\n",
      "  was_held = ax.ishold()\n",
      "/home/driess/anaconda3/lib/python3.6/site-packages/scipy/spatial/_plotutils.py:19: MatplotlibDeprecationWarning: axes.hold is deprecated.\n",
      "    See the API Changes document (http://matplotlib.org/api/api_changes.html)\n",
      "    for more details.\n",
      "  ax.hold(True)\n",
      "/home/driess/anaconda3/lib/python3.6/site-packages/scipy/spatial/_plotutils.py:22: MatplotlibDeprecationWarning: axes.hold is deprecated.\n",
      "    See the API Changes document (http://matplotlib.org/api/api_changes.html)\n",
      "    for more details.\n",
      "  ax.hold(was_held)\n"
     ]
    },
    {
     "data": {
      "image/png": "[encoded data removed]",
      "text/plain": [
       "<matplotlib.figure.Figure at 0x7fbf652eaac8>"
      ]
     },
     "metadata": {},
     "output_type": "display_data"
    }
   ],
   "source": [
    "fig, ax = plt.subplots()\n",
    "\n",
    "vor = Voronoi(X)\n",
    "\n",
    "voronoi_plot_2d(vor, ax=ax, show_points=False, show_vertices=False)\n",
    "for i, c in coloring.items():\n",
    "    ax.scatter(X[i, 0], X[i, 1], c=c, s=50)"
   ]
  },
  {
   "cell_type": "code",
   "execution_count": 84,
   "metadata": {
    "collapsed": false
   },
   "outputs": [
    {
     "data": {
      "text/plain": [
       "[<matplotlib.lines.Line2D at 0x7fbf6536e4a8>]"
      ]
     },
     "execution_count": 84,
     "metadata": {},
     "output_type": "execute_result"
    },
    {
     "data": {
      "image/png": "[encoded data removed]",
      "text/plain": [
       "<matplotlib.figure.Figure at 0x7fbf65497390>"
      ]
     },
     "metadata": {},
     "output_type": "display_data"
    }
   ],
   "source": [
    "times = []\n",
    "for i in range(10, 1000, 10):\n",
    "    X = np.random.randn(i, 2)\n",
    "    planar_graph = get_planar_graph(X)\n",
    "    start = time.time()\n",
    "    graph_color(planar_graph, colors=['k', 'r', 'b', 'g', 'y', 'm'])\n",
    "    stop = time.time()\n",
    "    times.append(stop-start)\n",
    "plt.plot(times,list(range(10, 1000, 10)))\n",
    "    "
   ]
  },
  {
   "cell_type": "markdown",
   "metadata": {},
   "source": [
    "The problem scales linearly with the number of nodes."
   ]
  }
 ],
 "metadata": {
  "anaconda-cloud": {},
  "kernelspec": {
   "display_name": "Python [default]",
   "language": "python",
   "name": "python3"
  },
  "language_info": {
   "codemirror_mode": {
    "name": "ipython",
    "version": 3
   },
   "file_extension": ".py",
   "mimetype": "text/x-python",
   "name": "python",
   "nbconvert_exporter": "python",
   "pygments_lexer": "ipython3",
   "version": "3.5.2"
  }
 },
 "nbformat": 4,
 "nbformat_minor": 1
}
