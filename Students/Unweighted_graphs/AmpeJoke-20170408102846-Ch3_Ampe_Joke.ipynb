{
 "cells": [
  {
   "cell_type": "markdown",
   "metadata": {},
   "source": [
    "# Chapter 3: Undirected graphs"
   ]
  },
  {
   "cell_type": "markdown",
   "metadata": {},
   "source": [
    "*Selected Topics in Mathematical Optimization*\n",
    "\n",
    "*2016-2017*\n",
    "\n",
    "**Bernard De Baets**\n",
    "\n",
    "**Michiel Stock**\n",
    "\n",
    "**Raúl Pérez-Fernández**\n",
    "\n",
    "***Joke Ampe - 2nd master in Bio-informatics***"
   ]
  },
  {
   "cell_type": "code",
   "execution_count": 1,
   "metadata": {
    "collapsed": true
   },
   "outputs": [],
   "source": [
    "import matplotlib.pyplot as plt\n",
    "import matplotlib.patches as patches\n",
    "from scipy.spatial import voronoi_plot_2d, Voronoi\n",
    "import numpy as np\n",
    "from timeit import Timer\n",
    "import collections\n",
    "from scipy.stats import linregress\n",
    "from matplotlib.patches import Polygon\n",
    "import matplotlib.path as mplPath\n",
    "%matplotlib inline"
   ]
  },
  {
   "cell_type": "markdown",
   "metadata": {},
   "source": [
    "## Some essential data structures in python\n",
    "\n",
    "Using the correct datastructure is key to implementing an efficient graph algorithm. Below is a concise overview of some elementary python data structures.\n",
    "\n",
    "For more information on the time complexity of operations on these data structures, see [this](https://wiki.python.org/moin/TimeComplexity) link."
   ]
  },
  {
   "cell_type": "markdown",
   "metadata": {},
   "source": [
    "### Lists: ordered  collection of objects\n",
    "\n",
    "Lists store objects in sequential order. Adding and removing elements at the back is easy, inserting or removing elements elsewhere is computationally inefficient (memory has to be reshuffled)."
   ]
  },
  {
   "cell_type": "code",
   "execution_count": 56,
   "metadata": {
    "collapsed": true
   },
   "outputs": [],
   "source": [
    "my_list = [1, 2, 3, 4, 5]"
   ]
  },
  {
   "cell_type": "code",
   "execution_count": 57,
   "metadata": {
    "collapsed": false
   },
   "outputs": [
    {
     "data": {
      "text/plain": [
       "[1, 2, 3, 4, 5, 6]"
      ]
     },
     "execution_count": 57,
     "metadata": {},
     "output_type": "execute_result"
    }
   ],
   "source": [
    "my_list.append(6)  # add element at the back\n",
    "my_list"
   ]
  },
  {
   "cell_type": "code",
   "execution_count": 58,
   "metadata": {
    "collapsed": false
   },
   "outputs": [
    {
     "data": {
      "text/plain": [
       "6"
      ]
     },
     "execution_count": 58,
     "metadata": {},
     "output_type": "execute_result"
    }
   ],
   "source": [
    "my_list.pop()  # return last element"
   ]
  },
  {
   "cell_type": "code",
   "execution_count": 59,
   "metadata": {
    "collapsed": false
   },
   "outputs": [
    {
     "data": {
      "text/plain": [
       "[1, 2, 3, 4, 5]"
      ]
     },
     "execution_count": 59,
     "metadata": {},
     "output_type": "execute_result"
    }
   ],
   "source": [
    "my_list  # element is gone"
   ]
  },
  {
   "cell_type": "code",
   "execution_count": 60,
   "metadata": {
    "collapsed": false
   },
   "outputs": [
    {
     "data": {
      "text/plain": [
       "5"
      ]
     },
     "execution_count": 60,
     "metadata": {},
     "output_type": "execute_result"
    }
   ],
   "source": [
    "my_list[4]  # take element"
   ]
  },
  {
   "cell_type": "code",
   "execution_count": 61,
   "metadata": {
    "collapsed": false
   },
   "outputs": [
    {
     "data": {
      "text/plain": [
       "[1, 2, 3, 'three', 5]"
      ]
     },
     "execution_count": 61,
     "metadata": {},
     "output_type": "execute_result"
    }
   ],
   "source": [
    "my_list[3] = 'three'  # replace\n",
    "my_list"
   ]
  },
  {
   "cell_type": "code",
   "execution_count": 62,
   "metadata": {
    "collapsed": false
   },
   "outputs": [
    {
     "data": {
      "text/plain": [
       "[1, 4, 9, 16, 25, 36, 49, 64, 81, 100]"
      ]
     },
     "execution_count": 62,
     "metadata": {},
     "output_type": "execute_result"
    }
   ],
   "source": [
    "# for loops in lists\n",
    "squares = [x**2 for x in range(1, 11)]\n",
    "squares"
   ]
  },
  {
   "cell_type": "code",
   "execution_count": 63,
   "metadata": {
    "collapsed": false
   },
   "outputs": [
    {
     "data": {
      "text/plain": [
       "[1, 9, 25, 49, 81]"
      ]
     },
     "execution_count": 63,
     "metadata": {},
     "output_type": "execute_result"
    }
   ],
   "source": [
    "# a more complex example\n",
    "squares_odd = [x**2 for x in range(1, 11) if x%2==1]\n",
    "squares_odd"
   ]
  },
  {
   "cell_type": "markdown",
   "metadata": {},
   "source": [
    "### Sets: unordened collection of objects\n",
    "\n",
    "Sets have no ordening and cannot contain duplicates. It is very efficient (constant time compelxity) to check if an element is present and to add or remove an object."
   ]
  },
  {
   "cell_type": "code",
   "execution_count": 64,
   "metadata": {
    "collapsed": false
   },
   "outputs": [
    {
     "data": {
      "text/plain": [
       "{-1, 1, 2, 3, 4, 15}"
      ]
     },
     "execution_count": 64,
     "metadata": {},
     "output_type": "execute_result"
    }
   ],
   "source": [
    "numbers = set([1, 2, 15, -1, 4, 2, 3, 4])  # make set from list \n",
    "numbers  # no particular order or duplicates"
   ]
  },
  {
   "cell_type": "code",
   "execution_count": 65,
   "metadata": {
    "collapsed": false,
    "scrolled": true
   },
   "outputs": [
    {
     "data": {
      "text/plain": [
       "False"
      ]
     },
     "execution_count": 65,
     "metadata": {},
     "output_type": "execute_result"
    }
   ],
   "source": [
    "5 in numbers  # check if element is member"
   ]
  },
  {
   "cell_type": "code",
   "execution_count": 66,
   "metadata": {
    "collapsed": true
   },
   "outputs": [],
   "source": [
    "numbers.add(5)  # add element"
   ]
  },
  {
   "cell_type": "code",
   "execution_count": 67,
   "metadata": {
    "collapsed": false
   },
   "outputs": [
    {
     "data": {
      "text/plain": [
       "True"
      ]
     },
     "execution_count": 67,
     "metadata": {},
     "output_type": "execute_result"
    }
   ],
   "source": [
    "5 in numbers"
   ]
  },
  {
   "cell_type": "code",
   "execution_count": 68,
   "metadata": {
    "collapsed": false
   },
   "outputs": [
    {
     "data": {
      "text/plain": [
       "{-1, 2, 6, 8, 15}"
      ]
     },
     "execution_count": 68,
     "metadata": {},
     "output_type": "execute_result"
    }
   ],
   "source": [
    "# set operations on two sets\n",
    "new_numbers = set([2, 15, -1, 8, 6, 15])\n",
    "new_numbers"
   ]
  },
  {
   "cell_type": "code",
   "execution_count": 69,
   "metadata": {
    "collapsed": false
   },
   "outputs": [
    {
     "data": {
      "text/plain": [
       "{-1, 2, 15}"
      ]
     },
     "execution_count": 69,
     "metadata": {},
     "output_type": "execute_result"
    }
   ],
   "source": [
    "numbers & new_numbers  # intersection (AND)"
   ]
  },
  {
   "cell_type": "code",
   "execution_count": 70,
   "metadata": {
    "collapsed": false
   },
   "outputs": [
    {
     "data": {
      "text/plain": [
       "{-1, 1, 2, 3, 4, 5, 6, 8, 15}"
      ]
     },
     "execution_count": 70,
     "metadata": {},
     "output_type": "execute_result"
    }
   ],
   "source": [
    "numbers | new_numbers  # union (OR)"
   ]
  },
  {
   "cell_type": "code",
   "execution_count": 71,
   "metadata": {
    "collapsed": false
   },
   "outputs": [
    {
     "data": {
      "text/plain": [
       "{1, 3, 4, 5}"
      ]
     },
     "execution_count": 71,
     "metadata": {},
     "output_type": "execute_result"
    }
   ],
   "source": [
    "numbers - new_numbers  # set difference (in first but not in second)"
   ]
  },
  {
   "cell_type": "markdown",
   "metadata": {},
   "source": [
    "## Dictorinary: key-value storage\n",
    "\n",
    "Dictionaries are the best of both lists and sets, they store values by a key"
   ]
  },
  {
   "cell_type": "code",
   "execution_count": 72,
   "metadata": {
    "collapsed": true
   },
   "outputs": [],
   "source": [
    "my_dict = {'A' : 1, 'B' : 'bee', 'C' : [1, 2, 3]}  # make dictionary"
   ]
  },
  {
   "cell_type": "code",
   "execution_count": 73,
   "metadata": {
    "collapsed": false
   },
   "outputs": [
    {
     "data": {
      "text/plain": [
       "'bee'"
      ]
     },
     "execution_count": 73,
     "metadata": {},
     "output_type": "execute_result"
    }
   ],
   "source": [
    "my_dict['B']  # get value associated by key"
   ]
  },
  {
   "cell_type": "code",
   "execution_count": 74,
   "metadata": {
    "collapsed": false
   },
   "outputs": [
    {
     "data": {
      "text/plain": [
       "{'A': 1, 'B': 'bee', 'C': [1, 2, 3], 'D': 'new value'}"
      ]
     },
     "execution_count": 74,
     "metadata": {},
     "output_type": "execute_result"
    }
   ],
   "source": [
    "my_dict['D'] = 'new value'  # add new key-value\n",
    "my_dict"
   ]
  },
  {
   "cell_type": "code",
   "execution_count": 75,
   "metadata": {
    "collapsed": false
   },
   "outputs": [
    {
     "data": {
      "text/plain": [
       "True"
      ]
     },
     "execution_count": 75,
     "metadata": {},
     "output_type": "execute_result"
    }
   ],
   "source": [
    "'A' in my_dict  # check if dict has key"
   ]
  },
  {
   "cell_type": "code",
   "execution_count": 76,
   "metadata": {
    "collapsed": false
   },
   "outputs": [
    {
     "name": "stdout",
     "output_type": "stream",
     "text": [
      "C [1, 2, 3]\n",
      "D new value\n",
      "B bee\n",
      "A 1\n"
     ]
    }
   ],
   "source": [
    "for k, v in my_dict.items():  # iterate over values\n",
    "    print(k, v)"
   ]
  },
  {
   "cell_type": "code",
   "execution_count": 77,
   "metadata": {
    "collapsed": false,
    "scrolled": true
   },
   "outputs": [
    {
     "name": "stdout",
     "output_type": "stream",
     "text": [
      "C\n",
      "D\n",
      "B\n",
      "A\n"
     ]
    }
   ],
   "source": [
    "for k in my_dict.keys():  # iterate over keys\n",
    "    print(k)"
   ]
  },
  {
   "cell_type": "code",
   "execution_count": 78,
   "metadata": {
    "collapsed": false
   },
   "outputs": [
    {
     "name": "stdout",
     "output_type": "stream",
     "text": [
      "[1, 2, 3]\n",
      "new value\n",
      "bee\n",
      "1\n"
     ]
    }
   ],
   "source": [
    "for v in my_dict.values():  # iterate over values\n",
    "    print(v)"
   ]
  },
  {
   "cell_type": "markdown",
   "metadata": {},
   "source": [
    "## Representing graphs in python\n",
    "\n",
    "Consider the following example graph:"
   ]
  },
  {
   "cell_type": "markdown",
   "metadata": {},
   "source": [
    "Typically, graphs are represented as:\n",
    "- **list of edges**: a set of edges (tuples of vertices) we use sets are there is no order in the edges. THis is the prefered format to *store* graphs.\n",
    "- **adjacency lists**: in python implemented as dictionaries. Each vertex is a key and the associated value is a set of neighboring edges (for undirected graphs every outgoing edge should be balanced by an ingoing edge).\n",
    "- **adjacenty matrices**: matrix of which the elements store the edges. Is only used for dense graphs."
   ]
  },
  {
   "cell_type": "markdown",
   "metadata": {},
   "source": [
    "Example of the theory:\n",
    "\n",
    "![](Figures/undir_graph.png)"
   ]
  },
  {
   "cell_type": "code",
   "execution_count": 25,
   "metadata": {
    "collapsed": true
   },
   "outputs": [],
   "source": [
    "edges = set([('A', 'B'), ('B', 'C'), ('C', 'D'), ('A', 'D'), ('C', 'E'), ('D', 'E')])"
   ]
  },
  {
   "cell_type": "code",
   "execution_count": 26,
   "metadata": {
    "collapsed": false
   },
   "outputs": [],
   "source": [
    "from graphs import edges_to_adj_list"
   ]
  },
  {
   "cell_type": "code",
   "execution_count": 27,
   "metadata": {
    "collapsed": false
   },
   "outputs": [
    {
     "data": {
      "text/plain": [
       "{'A': {'B', 'D'},\n",
       " 'B': {'A', 'C'},\n",
       " 'C': {'B', 'D', 'E'},\n",
       " 'D': {'A', 'C', 'E'},\n",
       " 'E': {'C', 'D'}}"
      ]
     },
     "execution_count": 27,
     "metadata": {},
     "output_type": "execute_result"
    }
   ],
   "source": [
    "adj_list = edges_to_adj_list(edges)\n",
    "adj_list"
   ]
  },
  {
   "cell_type": "markdown",
   "metadata": {},
   "source": [
    "Some basic graph algorithms are implemented:\n",
    "- `give_connected_component`: gives the largest connected component for a vertex\n",
    "- `is_connected`: checks if a graph is connected (every edge can be reached from every other edge)\n",
    "- `has_path`: checks if there exists a path between two vertices\n",
    "- `is_bridge`: checks if an edge is a bridge (i.e. removing it makes the graph disconnected"
   ]
  },
  {
   "cell_type": "markdown",
   "metadata": {},
   "source": [
    "Run the examples and check the result"
   ]
  },
  {
   "cell_type": "code",
   "execution_count": 28,
   "metadata": {
    "collapsed": true
   },
   "outputs": [],
   "source": [
    "from graphs import give_connected_component, is_connected, is_bridge, has_path, adj_list_to_edges"
   ]
  },
  {
   "cell_type": "code",
   "execution_count": 79,
   "metadata": {
    "collapsed": true
   },
   "outputs": [],
   "source": [
    "# example1 has one added edge to make it have a Eulerian path (as drawn on the blackboard during the lecture)\n",
    "example1_edges = set([('A', 'B'), ('A', 'C'), ('B', 'C'), ('D', 'C'), ('D', 'E'),\n",
    "                     ('E', 'F'), ('F', 'G'), ('G', 'E'), ('D', 'F'), ('F', 'C')\n",
    "                     ])\n",
    "example2_edges = set([('A', 'B'), ('A', 'C'), ('B', 'C'), ('D', 'E'),\n",
    "                     ('D', 'G'), ('F', 'G'), ('G', 'E'), ('D', 'F')\n",
    "                     ])"
   ]
  },
  {
   "cell_type": "code",
   "execution_count": 30,
   "metadata": {
    "collapsed": true
   },
   "outputs": [],
   "source": [
    "example1_adj_list = edges_to_adj_list(example1_edges)\n",
    "example2_adj_list = edges_to_adj_list(example2_edges)"
   ]
  },
  {
   "cell_type": "code",
   "execution_count": 31,
   "metadata": {
    "collapsed": false
   },
   "outputs": [
    {
     "data": {
      "text/plain": [
       "{'A', 'B', 'C', 'D', 'E', 'F', 'G'}"
      ]
     },
     "execution_count": 31,
     "metadata": {},
     "output_type": "execute_result"
    }
   ],
   "source": [
    "give_connected_component(example1_adj_list, 'A')"
   ]
  },
  {
   "cell_type": "code",
   "execution_count": 32,
   "metadata": {
    "collapsed": false
   },
   "outputs": [
    {
     "data": {
      "text/plain": [
       "{'A', 'B', 'C'}"
      ]
     },
     "execution_count": 32,
     "metadata": {},
     "output_type": "execute_result"
    }
   ],
   "source": [
    "give_connected_component(example2_adj_list, 'A')"
   ]
  },
  {
   "cell_type": "code",
   "execution_count": 33,
   "metadata": {
    "collapsed": false
   },
   "outputs": [
    {
     "data": {
      "text/plain": [
       "True"
      ]
     },
     "execution_count": 33,
     "metadata": {},
     "output_type": "execute_result"
    }
   ],
   "source": [
    "is_connected(example1_adj_list)"
   ]
  },
  {
   "cell_type": "code",
   "execution_count": 34,
   "metadata": {
    "collapsed": false,
    "scrolled": true
   },
   "outputs": [
    {
     "data": {
      "text/plain": [
       "False"
      ]
     },
     "execution_count": 34,
     "metadata": {},
     "output_type": "execute_result"
    }
   ],
   "source": [
    "is_connected(example2_adj_list)"
   ]
  },
  {
   "cell_type": "code",
   "execution_count": 35,
   "metadata": {
    "collapsed": false,
    "scrolled": false
   },
   "outputs": [
    {
     "data": {
      "text/plain": [
       "False"
      ]
     },
     "execution_count": 35,
     "metadata": {},
     "output_type": "execute_result"
    }
   ],
   "source": [
    "is_bridge(example1_adj_list, ('A', 'B'))"
   ]
  },
  {
   "cell_type": "code",
   "execution_count": 36,
   "metadata": {
    "collapsed": false,
    "scrolled": true
   },
   "outputs": [
    {
     "data": {
      "text/plain": [
       "False"
      ]
     },
     "execution_count": 36,
     "metadata": {},
     "output_type": "execute_result"
    }
   ],
   "source": [
    "is_bridge(example1_adj_list, ('C', 'D'))"
   ]
  },
  {
   "cell_type": "code",
   "execution_count": 37,
   "metadata": {
    "collapsed": false
   },
   "outputs": [
    {
     "name": "stdout",
     "output_type": "stream",
     "text": [
      "{('B', 'A'), ('E', 'F'), ('C', 'A'), ('E', 'G'), ('C', 'F'), ('G', 'F'), ('D', 'F'), ('C', 'B'), ('D', 'C'), ('F', 'D'), ('G', 'E'), ('F', 'G'), ('B', 'C'), ('F', 'E'), ('E', 'D'), ('F', 'C'), ('C', 'D'), ('A', 'B'), ('A', 'C'), ('D', 'E')}\n"
     ]
    }
   ],
   "source": [
    "print(adj_list_to_edges(example1_adj_list))"
   ]
  },
  {
   "cell_type": "code",
   "execution_count": 38,
   "metadata": {
    "collapsed": false,
    "scrolled": true
   },
   "outputs": [
    {
     "data": {
      "text/plain": [
       "True"
      ]
     },
     "execution_count": 38,
     "metadata": {},
     "output_type": "execute_result"
    }
   ],
   "source": [
    "has_path(example2_adj_list, 'A', 'C')"
   ]
  },
  {
   "cell_type": "code",
   "execution_count": 39,
   "metadata": {
    "collapsed": false
   },
   "outputs": [
    {
     "data": {
      "text/plain": [
       "False"
      ]
     },
     "execution_count": 39,
     "metadata": {},
     "output_type": "execute_result"
    }
   ],
   "source": [
    "has_path(example2_adj_list, 'A', 'F')"
   ]
  },
  {
   "cell_type": "markdown",
   "metadata": {},
   "source": [
    "## Fleury's algorithm\n",
    "\n",
    "Fleury's algorithm is a simple (though inefficient algorithm to find an Eulerian trail (i.e. a walk on the graph that passes all the edges)."
   ]
  },
  {
   "cell_type": "markdown",
   "metadata": {},
   "source": [
    "It can be shown that a graph has an Eulerian trail if and only if it is connected and it it has exactly zero or two edges with an odd degree."
   ]
  },
  {
   "cell_type": "markdown",
   "metadata": {},
   "source": [
    "Fleury's algorithm is executed as follows:\n",
    "1. Start at a vertex of odd degree, or, if the graph has none, start with an arbitrarily chosen vertex.\n",
    "2. Chooses the next edge in the path to be one whose deletion would not disconnect the graph (i.e. is not a bridge), unless there is no such edge, in which case pick the remaining edge left at the current vertex.\n",
    "3. Add the edge to the path and remove the edge from the graph.\n",
    "4. Repeat steps 2-3 until no more edges are left."
   ]
  },
  {
   "cell_type": "markdown",
   "metadata": {},
   "source": [
    "**ASSIGNMENT 1**\n",
    "\n",
    "1. Complete the pseudocode of fleury's algorithm. The algorithm first checks if an Eulerian path exists (and returns None if not) and returns the path as a list. Use the given function `is_bridge` to check if an \n",
    "2. Study the time complexity of the algorithm. For this you have 25 graphs at your disposal. These graphs are stored in json format in the form `eulerianxxx.json` with '`xxx`' the number of edges. The function `load_graph` can read this data file (see example). For each file, measure the time to find the Eulerian path and make a graph (in log-log scale) of the time vs. the number of edges. Comment on the relation (linear time complexity, super/sublinear?) Does this make sense? HINT: detecting if an edge is a bridge is done with an average time complexity linear in the number of edges."
   ]
  },
  {
   "cell_type": "code",
   "execution_count": 40,
   "metadata": {
    "collapsed": false
   },
   "outputs": [],
   "source": [
    "def fleury_algorithm(adj_list):\n",
    "    \"\"\"\n",
    "    Fleury's algorithm for finding an Eulerian path (if one exists)\n",
    "    \n",
    "    First it checks if the path exists, if it exists, it returns a list of\n",
    "    the nodes that are visisted in an Eulerian path\n",
    "    \n",
    "    Inputs:\n",
    "        - adj_list\n",
    "        \n",
    "    Outputs:\n",
    "        - path\n",
    "    \"\"\"\n",
    "    adj_list = {k : v.copy() for k, v in adj_list.items()}  # make a copy\n",
    "    # makes sure that we destroy the copy of the graph and not the actual graph. \n",
    "    # important: if you want to remove a link, you have to it twice (symmetric graph)\n",
    "    \n",
    "    # Check first requirement to have a Eulerian path\n",
    "    if is_connected(adj_list):\n",
    "        odds = 0\n",
    "        odd_node = None\n",
    "        for node in adj_list:\n",
    "            if len(adj_list[node])%2==1:\n",
    "                odds +=1\n",
    "                odd_node = node\n",
    "        # Check second requirement        \n",
    "        if odds == 0 or odds == 2:\n",
    "            # the path exists, choose a starting node\n",
    "            if odd_node == None:\n",
    "                # If none of the nodes has odd degree, randomly take a starting node\n",
    "                current = adj_list.pop()\n",
    "            else:\n",
    "                # If it had a node with odd degree, take that as a starting node (any of the odd nodes)\n",
    "                current = odd_node\n",
    "            \n",
    "            edges = adj_list_to_edges(adj_list)\n",
    "            path = []\n",
    "            \n",
    "            # As long as there are still edges, continue the algorithm\n",
    "            while edges != set():\n",
    "                if len(adj_list[current])>1:\n",
    "                    for node in adj_list[current]:\n",
    "                        # Check if it is a bridge, if it is not: take this edge as next step\n",
    "                        if not is_bridge(adj_list, (current, node)):\n",
    "                            nextnode = node\n",
    "                            break\n",
    "                # If only one edge is left starting from a certain node, take that edge\n",
    "                else:\n",
    "                    nextnode = list(adj_list[current])[0] \n",
    "                    \n",
    "                # append the edge to the path and remove the edge from the graph    \n",
    "                path.append(current)\n",
    "                edges.remove((current, nextnode))\n",
    "                edges.remove((nextnode, current))\n",
    "                adj_list = edges_to_adj_list(edges)\n",
    "                current = nextnode\n",
    "            #append the final node    \n",
    "            path.append(nextnode)\n",
    "            return path\n",
    "        else:\n",
    "            return None\n",
    "    else:\n",
    "        return None\n",
    "\n",
    "  \n",
    "        "
   ]
  },
  {
   "cell_type": "code",
   "execution_count": null,
   "metadata": {
    "collapsed": true
   },
   "outputs": [],
   "source": []
  },
  {
   "cell_type": "code",
   "execution_count": 41,
   "metadata": {
    "collapsed": false,
    "scrolled": true
   },
   "outputs": [
    {
     "name": "stdout",
     "output_type": "stream",
     "text": [
      "['D', 'C', 'B', 'A', 'C', 'F', 'G', 'E', 'F', 'D', 'E']\n"
     ]
    }
   ],
   "source": [
    "print(fleury_algorithm(example1_adj_list))"
   ]
  },
  {
   "cell_type": "code",
   "execution_count": 42,
   "metadata": {
    "collapsed": true
   },
   "outputs": [],
   "source": [
    "from graphs import load_graph"
   ]
  },
  {
   "cell_type": "code",
   "execution_count": 44,
   "metadata": {
    "collapsed": false
   },
   "outputs": [],
   "source": [
    "# files is a dictionary of dictionaries. \n",
    "# The 'outer' dictionary indicates the size as keys and the adjacency list (graphs) as value. \n",
    "\n",
    "all_n = [14, 26, 46, 74, 110, 154, 206, 266, 334, 410, 494, 586, 686, 794, 910, 1034, 1166, 1306, 1454, 1610, 1774, 1946, 2126, 2314, 2510]\n",
    "files = {}\n",
    "for i in all_n:\n",
    "    graph = load_graph('Data_Eulerian/eulerian' + str(i) + '.json')\n",
    "    files[i] = graph\n"
   ]
  },
  {
   "cell_type": "code",
   "execution_count": 45,
   "metadata": {
    "collapsed": false
   },
   "outputs": [],
   "source": [
    "# use this cell to measure the time to find the Eulerian path for each graph\n",
    "\n",
    "times = {}\n",
    "for n, graph in files.items():\n",
    "    t = Timer(lambda: fleury_algorithm(graph))\n",
    "    times[n] = t.timeit(number=10)\n",
    "    \n",
    "# sort based on the problem size\n",
    "# sorted_times is an Ordered Dictionary\n",
    "\n",
    "sorted_size = collections.OrderedDict(sorted(times.items()))\n",
    "\n"
   ]
  },
  {
   "cell_type": "code",
   "execution_count": 46,
   "metadata": {
    "collapsed": false
   },
   "outputs": [
    {
     "name": "stdout",
     "output_type": "stream",
     "text": [
      "The estimated slope of the line is:  1.95375928452\n",
      "The intercept is estimated to be:  -4.83216656384\n"
     ]
    },
    {
     "data": {
      "text/plain": [
       "<matplotlib.text.Text at 0x10f1c8080>"
      ]
     },
     "execution_count": 46,
     "metadata": {},
     "output_type": "execute_result"
    },
    {
     "data": {
      "image/png": "[encoded data removed]",
      "text/plain": [
       "<matplotlib.figure.Figure at 0x10cbd5da0>"
      ]
     },
     "metadata": {},
     "output_type": "display_data"
    }
   ],
   "source": [
    "# use this cell to plot the time as a function of the number of edges (log-log scale)\n",
    "sorted_t = []\n",
    "sorted_n = []\n",
    "for k, v in sorted_size.items():\n",
    "    sorted_t.append(v)\n",
    "    sorted_n.append(k)\n",
    "\n",
    "log_n = np.log10(sorted_n)\n",
    "log_t = np.log10(sorted_t)\n",
    "\n",
    "regression = linregress(log_n, log_t)\n",
    "slope = regression[0]\n",
    "constant = regression[1]\n",
    "print(\"The estimated slope of the line is: \",slope)\n",
    "print(\"The intercept is estimated to be: \",constant)\n",
    "\n",
    "plt.plot(log_n, log_t)\n",
    "plt.title('Needed time in seconds as function of the number of edges (log-log scale)')\n",
    "plt.xlabel('log10(n)')\n",
    "plt.ylabel('log10(t)')"
   ]
  },
  {
   "cell_type": "markdown",
   "metadata": {},
   "source": [
    "**Empirical time-complexity**\n",
    "\n",
    "The time complexity is estimated to be in the form of $Cn^{a}$. C is a constant and a is the degree of the polynomial relation. \n",
    "This slope is calculated to be 1.93 in our example (when I ran it), which is close to 2. We can thus say that the problem is solved in polynomial time, with a degree of around 2. The reason that it is a bit less then 2 in this empirical example could maybe be attributed to the fact that in the algorithm sometimes a right edge is found before all iterations are finished. When all iterations have to be done, we have to check n bridges (each edge). Since detection of an edge being a bridge can be done in linear time, it means that checking 'bridge or not' for **each** edge takes $n^{2}$ equivalents of time (for all of the n edges it takes n time equivalents = $n*n = n^{2}$). But in our algorithm, we don't check exhaustively each edge. Instead, we add an edge from the moment we find that it is not a bridge. In that case we don't test the remaining edges starting from the same node, making the time complexity slightly less than $n^{2}$.\n",
    "\n",
    "The intercept is around -5 in a log log plot. This means the C in the original equation is $10^{-5}$, which is very small.\n",
    "\n",
    "However, what is of interest is how the required time increases with increasing problem size and this seems to be polynomial with a degree of 2. This makes sense because a large part of the algorithm is checking for bridges, which takes $n^{2}$ time."
   ]
  },
  {
   "cell_type": "markdown",
   "metadata": {},
   "source": [
    "## Graph coloring using six colors\n",
    "\n",
    "Graph coloring is an optimization problem of assinging a color to each label using as few colors as possible such that no neighboring vertices have the same color.\n",
    "\n",
    "The four color theorem states that a planar graph can be colored using only four colors."
   ]
  },
  {
   "cell_type": "markdown",
   "metadata": {},
   "source": [
    "We will use six colors (though we rarely need more than five) to color a planar graph. For this, the algorithm is very simple:\n",
    "\n",
    "1. Color recursively with the six colors all vertices of degree five or more.\n",
    "2. Color the rest of the graph with a free color."
   ]
  },
  {
   "cell_type": "markdown",
   "metadata": {},
   "source": [
    "**ASSIGNMENT 2**\n",
    "\n",
    "1. Complete the graph coloring algorithm.\n",
    "2. What do you think the time complexity of this algorithm is going to be (based on reasoning).\n",
    "\n",
    "You can illustrate this algorithm on a Voronoi plot (a tesselation of a plane based on the distance to a set of points). Feel free to improve the graphics :-) \n",
    "\n",
    "--> I made you a picasso! (With some help of stackoverflow: http://stackoverflow.com/questions/20515554/colorize-voronoi-diagram)"
   ]
  },
  {
   "cell_type": "code",
   "execution_count": 47,
   "metadata": {
    "collapsed": false
   },
   "outputs": [],
   "source": [
    "def graph_color(adj_list, colors=['seagreen', 'darkorange', 'darkred', 'deepskyblue', 'darkblue', 'k']):\n",
    "    \"\"\"\n",
    "    Provides one of six colors for each vertex in a planar graph\n",
    "    such that no neighboring vertices have the same color\n",
    "    \n",
    "    Inputs:\n",
    "        - adj_list: adjecency list of a planar graph\n",
    "        - colors: list of six colors (default those for matplotlib plotting)\n",
    "        \n",
    "    Output:\n",
    "        - vertices_colors: a dict with a color for each vertex\n",
    "    \"\"\"\n",
    "    vertices_colors = {}\n",
    "    \n",
    "    # Find nodes with degree higher than five and color those nodes\n",
    "    high_d = []\n",
    "    for k, v in adj_list.items():\n",
    "        if len(v) >= 5:\n",
    "            high_d.append(k)\n",
    "    \n",
    "    for i in high_d:\n",
    "        av_col = colors.copy()\n",
    "        for j in adj_list[i]:\n",
    "            if j in vertices_colors:\n",
    "                if vertices_colors[j] in av_col:\n",
    "                    av_col.remove(vertices_colors[j])\n",
    "        \n",
    "    # Color other nodes\n",
    "    for i in adj_list:\n",
    "        if i not in vertices_colors:\n",
    "            av_col = colors.copy()\n",
    "            for j in adj_list[i]:\n",
    "                if j in vertices_colors:\n",
    "                    if vertices_colors[j] in av_col:\n",
    "                        av_col.remove(vertices_colors[j])\n",
    "            vertices_colors[i] = av_col[0]\n",
    "    \n",
    "    return vertices_colors"
   ]
  },
  {
   "cell_type": "markdown",
   "metadata": {},
   "source": [
    "** Time Complexity **\n",
    "\n",
    "The function has three parts which can be analyzed for time complexity separatly. The first part checks for nodes with a degree higher than 5. Checking the number of neighbours for each nodes should take about linear time. The second part loops through the list of high degree nodes and in the inner loop it checks for each color if it still available. The time complexity of this should be thus something in the form of $c^{h}$ in which c is the number of colors that we use and h is the number of high degree nodes in the graph. The third part of the function iterates through all nodes and checks the color of its neighbours (if those are already coloured). We could say that the time complexity of this is something in the form of $d^{n}$, in which d stands for the average node degree of the graph and n stands for the total amount of nodes. Because for each node that we check the number of neighbours is different, I used the average node degree in the formula. The total time complexity would than be: $n + c^{h} + d^{n}$, in which the symbols still have the same meaning. We could conclude that the time complexity depends strongly on the general characteristics of the graph that we are studying. The higher the average node degree, the higher the influence of a growing problem size because of the $d^{n}$ term. "
   ]
  },
  {
   "cell_type": "code",
   "execution_count": 48,
   "metadata": {
    "collapsed": false
   },
   "outputs": [],
   "source": [
    "from graphs import get_planar_graph"
   ]
  },
  {
   "cell_type": "code",
   "execution_count": 49,
   "metadata": {
    "collapsed": false
   },
   "outputs": [],
   "source": [
    "X = np.random.randn(20, 2)  # random points for Voronoi tesselation\n",
    "planar_graph = get_planar_graph(X)"
   ]
  },
  {
   "cell_type": "code",
   "execution_count": 50,
   "metadata": {
    "collapsed": false
   },
   "outputs": [
    {
     "data": {
      "text/plain": [
       "{0: {1, 6, 11, 17, 19},\n",
       " 1: {0, 5, 6, 7, 19},\n",
       " 2: {3, 5, 7, 14, 18},\n",
       " 3: {2, 7, 13, 14},\n",
       " 4: {8, 10, 11, 12, 15, 16},\n",
       " 5: {1, 2, 7, 15, 18, 19},\n",
       " 6: {0, 1, 7, 17},\n",
       " 7: {1, 2, 3, 5, 6},\n",
       " 8: {4, 9, 10, 13, 14, 15},\n",
       " 9: {8, 10, 13, 16},\n",
       " 10: {4, 8, 9, 16},\n",
       " 11: {0, 4, 12, 15, 17, 19},\n",
       " 12: {4, 11, 16, 17},\n",
       " 13: {3, 8, 9, 14},\n",
       " 14: {2, 3, 8, 13, 15, 18},\n",
       " 15: {4, 5, 8, 11, 14, 18, 19},\n",
       " 16: {4, 9, 10, 12, 17},\n",
       " 17: {0, 6, 11, 12, 16},\n",
       " 18: {2, 5, 14, 15},\n",
       " 19: {0, 1, 5, 11, 15}}"
      ]
     },
     "execution_count": 50,
     "metadata": {},
     "output_type": "execute_result"
    }
   ],
   "source": [
    "planar_graph"
   ]
  },
  {
   "cell_type": "code",
   "execution_count": 51,
   "metadata": {
    "collapsed": false
   },
   "outputs": [
    {
     "data": {
      "text/plain": [
       "{0: 'seagreen',\n",
       " 1: 'darkorange',\n",
       " 2: 'seagreen',\n",
       " 3: 'darkorange',\n",
       " 4: 'seagreen',\n",
       " 5: 'darkred',\n",
       " 6: 'darkred',\n",
       " 7: 'deepskyblue',\n",
       " 8: 'darkorange',\n",
       " 9: 'seagreen',\n",
       " 10: 'darkred',\n",
       " 11: 'darkorange',\n",
       " 12: 'darkred',\n",
       " 13: 'darkred',\n",
       " 14: 'deepskyblue',\n",
       " 15: 'darkblue',\n",
       " 16: 'darkorange',\n",
       " 17: 'deepskyblue',\n",
       " 18: 'darkorange',\n",
       " 19: 'deepskyblue'}"
      ]
     },
     "execution_count": 51,
     "metadata": {},
     "output_type": "execute_result"
    }
   ],
   "source": [
    "coloring = graph_color(planar_graph)\n",
    "coloring"
   ]
  },
  {
   "cell_type": "code",
   "execution_count": 52,
   "metadata": {
    "collapsed": false
   },
   "outputs": [],
   "source": [
    "# Function to change infinite coordinates. Special thanks to Stack Overflow user 'Gabriel'\n",
    "\n",
    "def voronoi_finite_polygons_2d(vor, radius=None):\n",
    "    \"\"\"\n",
    "    Reconstruct infinite voronoi regions in a 2D diagram to finite\n",
    "    regions.\n",
    "\n",
    "    Parameters\n",
    "    ----------\n",
    "    vor : Voronoi\n",
    "        Input diagram\n",
    "    radius : float, optional\n",
    "        Distance to 'points at infinity'.\n",
    "\n",
    "    Returns\n",
    "    -------\n",
    "    regions : list of tuples\n",
    "        Indices of vertices in each revised Voronoi regions.\n",
    "    vertices : list of tuples\n",
    "        Coordinates for revised Voronoi vertices. Same as coordinates\n",
    "        of input vertices, with 'points at infinity' appended to the\n",
    "        end.\n",
    "\n",
    "    \"\"\"\n",
    "\n",
    "    if vor.points.shape[1] != 2:\n",
    "        raise ValueError(\"Requires 2D input\")\n",
    "\n",
    "    new_regions = []\n",
    "    new_vertices = vor.vertices.tolist()\n",
    "\n",
    "    center = vor.points.mean(axis=0)\n",
    "    if radius is None:\n",
    "        radius = vor.points.ptp().max()\n",
    "\n",
    "    # Construct a map containing all ridges for a given point\n",
    "    all_ridges = {}\n",
    "    for (p1, p2), (v1, v2) in zip(vor.ridge_points, vor.ridge_vertices):\n",
    "        all_ridges.setdefault(p1, []).append((p2, v1, v2))\n",
    "        all_ridges.setdefault(p2, []).append((p1, v1, v2))\n",
    "\n",
    "    # Reconstruct infinite regions\n",
    "    for p1, region in enumerate(vor.point_region):\n",
    "        vertices = vor.regions[region]\n",
    "\n",
    "        if all(v >= 0 for v in vertices):\n",
    "            # finite region\n",
    "            new_regions.append(vertices)\n",
    "            continue\n",
    "\n",
    "        # reconstruct a non-finite region\n",
    "        ridges = all_ridges[p1]\n",
    "        new_region = [v for v in vertices if v >= 0]\n",
    "\n",
    "        for p2, v1, v2 in ridges:\n",
    "            if v2 < 0:\n",
    "                v1, v2 = v2, v1\n",
    "            if v1 >= 0:\n",
    "                # finite ridge: already in the region\n",
    "                continue\n",
    "\n",
    "            # Compute the missing endpoint of an infinite ridge\n",
    "\n",
    "            t = vor.points[p2] - vor.points[p1] # tangent\n",
    "            t /= np.linalg.norm(t)\n",
    "            n = np.array([-t[1], t[0]])  # normal\n",
    "\n",
    "            midpoint = vor.points[[p1, p2]].mean(axis=0)\n",
    "            direction = np.sign(np.dot(midpoint - center, n)) * n\n",
    "            far_point = vor.vertices[v2] + direction * radius\n",
    "\n",
    "            new_region.append(len(new_vertices))\n",
    "            new_vertices.append(far_point.tolist())\n",
    "\n",
    "        # sort region counterclockwise\n",
    "        vs = np.asarray([new_vertices[v] for v in new_region])\n",
    "        c = vs.mean(axis=0)\n",
    "        angles = np.arctan2(vs[:,1] - c[1], vs[:,0] - c[0])\n",
    "        new_region = np.array(new_region)[np.argsort(angles)]\n",
    "\n",
    "        # finish\n",
    "        new_regions.append(new_region.tolist())\n",
    "\n",
    "    return new_regions, np.asarray(new_vertices)"
   ]
  },
  {
   "cell_type": "code",
   "execution_count": 53,
   "metadata": {
    "collapsed": false
   },
   "outputs": [],
   "source": [
    "vor = Voronoi(X)\n",
    "newregion, newvertex = voronoi_finite_polygons_2d(vor, radius=None)"
   ]
  },
  {
   "cell_type": "markdown",
   "metadata": {},
   "source": [
    "The new region variable contains a list of 20. Each of the elements in this list contains another list with the indices of the vertices which are used to define the polygon. The coordinates of these vertices can be found in the new_vertex variable. It's a list of all the used vertices, each with its coordinates, represented as a numpy array. The voronoi_finite_polygons_2d() function is used to map the outer regions from the vor object which contain infinite coordinates to a finite region which can be plotted. "
   ]
  },
  {
   "cell_type": "code",
   "execution_count": 54,
   "metadata": {
    "collapsed": false
   },
   "outputs": [
    {
     "data": {
      "image/png": "[encoded data removed]",
      "text/plain": [
       "<matplotlib.figure.Figure at 0x10f1f3cc0>"
      ]
     },
     "metadata": {},
     "output_type": "display_data"
    }
   ],
   "source": [
    "# Making a plot\n",
    "\n",
    "plt.figure(figsize=(8,8))\n",
    "plt.axis([-2.5,2.5,-2.5,2.5])\n",
    "axes = plt.gca()\n",
    "for i in newregion:\n",
    "    verlist = []\n",
    "    for j in i:\n",
    "        ver = newvertex[j]\n",
    "        verlist.append(ver) \n",
    "    reg = mplPath.Path(np.array(verlist))\n",
    "    for k in range(0, len(X)):\n",
    "        # Check whether our original coordinate is within a polygon, if yes, give it the same color\n",
    "        if reg.contains_point((X[k])):\n",
    "            axes.add_patch(Polygon(np.array(verlist), closed=True, facecolor=coloring[k]))\n"
   ]
  },
  {
   "cell_type": "code",
   "execution_count": 55,
   "metadata": {
    "collapsed": false
   },
   "outputs": [
    {
     "data": {
      "image/png": "[encoded data removed]",
      "text/plain": [
       "<matplotlib.figure.Figure at 0x10cd2ed68>"
      ]
     },
     "metadata": {},
     "output_type": "display_data"
    }
   ],
   "source": [
    "# The original plot\n",
    "\n",
    "fig, ax = plt.subplots()\n",
    "\n",
    "vor = Voronoi(X)\n",
    "\n",
    "voronoi_plot_2d(vor, ax=ax, show_points=False, show_vertices=False)\n",
    "for i, c in coloring.items():\n",
    "    ax.scatter(X[i, 0], X[i, 1], c=c, s=100)"
   ]
  },
  {
   "cell_type": "code",
   "execution_count": null,
   "metadata": {
    "collapsed": true
   },
   "outputs": [],
   "source": []
  },
  {
   "cell_type": "code",
   "execution_count": null,
   "metadata": {
    "collapsed": true
   },
   "outputs": [],
   "source": []
  }
 ],
 "metadata": {
  "anaconda-cloud": {},
  "kernelspec": {
   "display_name": "Python [conda root]",
   "language": "python",
   "name": "conda-root-py"
  },
  "language_info": {
   "codemirror_mode": {
    "name": "ipython",
    "version": 3
   },
   "file_extension": ".py",
   "mimetype": "text/x-python",
   "name": "python",
   "nbconvert_exporter": "python",
   "pygments_lexer": "ipython3",
   "version": "3.5.2"
  }
 },
 "nbformat": 4,
 "nbformat_minor": 1
}
