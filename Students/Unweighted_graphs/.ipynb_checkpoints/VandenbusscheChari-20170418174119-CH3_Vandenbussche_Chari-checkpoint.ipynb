{
 "cells": [
  {
   "cell_type": "markdown",
   "metadata": {
    "deletable": true,
    "editable": true
   },
   "source": [
    "# Chapter 3: Undirected graphs"
   ]
  },
  {
   "cell_type": "markdown",
   "metadata": {
    "deletable": true,
    "editable": true
   },
   "source": [
    "*Selected Topics in Mathematical Optimization*\n",
    "\n",
    "*2016-2017*\n",
    "\n",
    "**Bernard De Baets**\n",
    "\n",
    "**Michiel Stock**\n",
    "\n",
    "**Raúl Pérez-Fernández**"
   ]
  },
  {
   "cell_type": "code",
   "execution_count": 1,
   "metadata": {
    "collapsed": true,
    "deletable": true,
    "editable": true
   },
   "outputs": [],
   "source": [
    "import matplotlib.pyplot as plt\n",
    "import matplotlib.patches as patches\n",
    "from scipy.spatial import voronoi_plot_2d, Voronoi\n",
    "import numpy as np\n",
    "%matplotlib inline"
   ]
  },
  {
   "cell_type": "markdown",
   "metadata": {
    "deletable": true,
    "editable": true
   },
   "source": [
    "## Some essential data structures in python\n",
    "\n",
    "Using the correct datastructure is key to implementing an efficient graph algorithm. Below is a concise overview of some elementary python data structures.\n",
    "\n",
    "For more information on the time complexity of operations on these data structures, see [this](https://wiki.python.org/moin/TimeComplexity) link."
   ]
  },
  {
   "cell_type": "markdown",
   "metadata": {
    "deletable": true,
    "editable": true
   },
   "source": [
    "### Lists: ordered  collection of objects\n",
    "\n",
    "Lists store objects in sequential order. Adding and removing elements at the back is easy, inserting or removing elements elsewhere is computationally inefficient (memory has to be reshuffled)."
   ]
  },
  {
   "cell_type": "code",
   "execution_count": 2,
   "metadata": {
    "collapsed": true,
    "deletable": true,
    "editable": true
   },
   "outputs": [],
   "source": [
    "my_list = [1, 2, 3, 4, 5]"
   ]
  },
  {
   "cell_type": "code",
   "execution_count": 3,
   "metadata": {
    "collapsed": false,
    "deletable": true,
    "editable": true
   },
   "outputs": [
    {
     "data": {
      "text/plain": [
       "[1, 2, 3, 4, 5, 6]"
      ]
     },
     "execution_count": 3,
     "metadata": {},
     "output_type": "execute_result"
    }
   ],
   "source": [
    "my_list.append(6)  # add element at the back\n",
    "my_list"
   ]
  },
  {
   "cell_type": "code",
   "execution_count": 4,
   "metadata": {
    "collapsed": false,
    "deletable": true,
    "editable": true
   },
   "outputs": [
    {
     "data": {
      "text/plain": [
       "6"
      ]
     },
     "execution_count": 4,
     "metadata": {},
     "output_type": "execute_result"
    }
   ],
   "source": [
    "my_list.pop()  # return last element"
   ]
  },
  {
   "cell_type": "code",
   "execution_count": 5,
   "metadata": {
    "collapsed": false,
    "deletable": true,
    "editable": true
   },
   "outputs": [
    {
     "data": {
      "text/plain": [
       "[1, 2, 3, 4, 5]"
      ]
     },
     "execution_count": 5,
     "metadata": {},
     "output_type": "execute_result"
    }
   ],
   "source": [
    "my_list  # element is gone"
   ]
  },
  {
   "cell_type": "code",
   "execution_count": 6,
   "metadata": {
    "collapsed": false,
    "deletable": true,
    "editable": true
   },
   "outputs": [
    {
     "data": {
      "text/plain": [
       "5"
      ]
     },
     "execution_count": 6,
     "metadata": {},
     "output_type": "execute_result"
    }
   ],
   "source": [
    "my_list[4]  # take element"
   ]
  },
  {
   "cell_type": "code",
   "execution_count": 7,
   "metadata": {
    "collapsed": false,
    "deletable": true,
    "editable": true
   },
   "outputs": [
    {
     "data": {
      "text/plain": [
       "[1, 2, 3, 'three', 5]"
      ]
     },
     "execution_count": 7,
     "metadata": {},
     "output_type": "execute_result"
    }
   ],
   "source": [
    "my_list[3] = 'three'  # replace\n",
    "my_list"
   ]
  },
  {
   "cell_type": "code",
   "execution_count": 8,
   "metadata": {
    "collapsed": false,
    "deletable": true,
    "editable": true
   },
   "outputs": [
    {
     "data": {
      "text/plain": [
       "[1, 4, 9, 16, 25, 36, 49, 64, 81, 100]"
      ]
     },
     "execution_count": 8,
     "metadata": {},
     "output_type": "execute_result"
    }
   ],
   "source": [
    "# for loops in lists\n",
    "squares = [x**2 for x in range(1, 11)]\n",
    "squares"
   ]
  },
  {
   "cell_type": "code",
   "execution_count": 9,
   "metadata": {
    "collapsed": false,
    "deletable": true,
    "editable": true
   },
   "outputs": [
    {
     "data": {
      "text/plain": [
       "[1, 9, 25, 49, 81]"
      ]
     },
     "execution_count": 9,
     "metadata": {},
     "output_type": "execute_result"
    }
   ],
   "source": [
    "# a more complex example\n",
    "squares_odd = [x**2 for x in range(1, 11) if x%2==1]\n",
    "squares_odd"
   ]
  },
  {
   "cell_type": "markdown",
   "metadata": {
    "deletable": true,
    "editable": true
   },
   "source": [
    "### Sets: unordened collection of objects\n",
    "\n",
    "Sets have no ordening and cannot contain duplicates. It is very efficient (constant time compelxity) to check if an element is present and to add or remove an object."
   ]
  },
  {
   "cell_type": "code",
   "execution_count": 10,
   "metadata": {
    "collapsed": false,
    "deletable": true,
    "editable": true
   },
   "outputs": [
    {
     "data": {
      "text/plain": [
       "{-1, 1, 2, 3, 4, 15}"
      ]
     },
     "execution_count": 10,
     "metadata": {},
     "output_type": "execute_result"
    }
   ],
   "source": [
    "numbers = set([1, 2, 15, -1, 4, 2, 3, 4])  # make set from list \n",
    "numbers  # no particular order or duplicates"
   ]
  },
  {
   "cell_type": "code",
   "execution_count": 11,
   "metadata": {
    "collapsed": false,
    "deletable": true,
    "editable": true,
    "scrolled": true
   },
   "outputs": [
    {
     "data": {
      "text/plain": [
       "False"
      ]
     },
     "execution_count": 11,
     "metadata": {},
     "output_type": "execute_result"
    }
   ],
   "source": [
    "5 in numbers  # check if element is member"
   ]
  },
  {
   "cell_type": "code",
   "execution_count": 12,
   "metadata": {
    "collapsed": true,
    "deletable": true,
    "editable": true
   },
   "outputs": [],
   "source": [
    "numbers.add(5)  # add element"
   ]
  },
  {
   "cell_type": "code",
   "execution_count": 13,
   "metadata": {
    "collapsed": false,
    "deletable": true,
    "editable": true
   },
   "outputs": [
    {
     "data": {
      "text/plain": [
       "True"
      ]
     },
     "execution_count": 13,
     "metadata": {},
     "output_type": "execute_result"
    }
   ],
   "source": [
    "5 in numbers"
   ]
  },
  {
   "cell_type": "code",
   "execution_count": 14,
   "metadata": {
    "collapsed": false,
    "deletable": true,
    "editable": true
   },
   "outputs": [
    {
     "data": {
      "text/plain": [
       "{-1, 2, 6, 8, 15}"
      ]
     },
     "execution_count": 14,
     "metadata": {},
     "output_type": "execute_result"
    }
   ],
   "source": [
    "# set operations on two sets\n",
    "new_numbers = set([2, 15, -1, 8, 6, 15])\n",
    "new_numbers"
   ]
  },
  {
   "cell_type": "code",
   "execution_count": 15,
   "metadata": {
    "collapsed": false,
    "deletable": true,
    "editable": true
   },
   "outputs": [
    {
     "data": {
      "text/plain": [
       "{-1, 2, 15}"
      ]
     },
     "execution_count": 15,
     "metadata": {},
     "output_type": "execute_result"
    }
   ],
   "source": [
    "numbers & new_numbers  # intersection (AND)"
   ]
  },
  {
   "cell_type": "code",
   "execution_count": 16,
   "metadata": {
    "collapsed": false,
    "deletable": true,
    "editable": true
   },
   "outputs": [
    {
     "data": {
      "text/plain": [
       "{-1, 1, 2, 3, 4, 5, 6, 8, 15}"
      ]
     },
     "execution_count": 16,
     "metadata": {},
     "output_type": "execute_result"
    }
   ],
   "source": [
    "numbers | new_numbers  # union (OR)"
   ]
  },
  {
   "cell_type": "code",
   "execution_count": 17,
   "metadata": {
    "collapsed": false,
    "deletable": true,
    "editable": true
   },
   "outputs": [
    {
     "data": {
      "text/plain": [
       "{1, 3, 4, 5}"
      ]
     },
     "execution_count": 17,
     "metadata": {},
     "output_type": "execute_result"
    }
   ],
   "source": [
    "numbers - new_numbers  # set difference (in first but not in second)"
   ]
  },
  {
   "cell_type": "markdown",
   "metadata": {
    "deletable": true,
    "editable": true
   },
   "source": [
    "## Dictorinary: key-value storage\n",
    "\n",
    "Dictionaries are the best of both lists and sets, they store values by a key"
   ]
  },
  {
   "cell_type": "code",
   "execution_count": 18,
   "metadata": {
    "collapsed": true,
    "deletable": true,
    "editable": true
   },
   "outputs": [],
   "source": [
    "my_dict = {'A' : 1, 'B' : 'bee', 'C' : [1, 2, 3]}  # make dictionary"
   ]
  },
  {
   "cell_type": "code",
   "execution_count": 19,
   "metadata": {
    "collapsed": false,
    "deletable": true,
    "editable": true
   },
   "outputs": [
    {
     "data": {
      "text/plain": [
       "'bee'"
      ]
     },
     "execution_count": 19,
     "metadata": {},
     "output_type": "execute_result"
    }
   ],
   "source": [
    "my_dict['B']  # get value associated by key"
   ]
  },
  {
   "cell_type": "code",
   "execution_count": 20,
   "metadata": {
    "collapsed": false,
    "deletable": true,
    "editable": true
   },
   "outputs": [
    {
     "data": {
      "text/plain": [
       "{'A': 1, 'B': 'bee', 'C': [1, 2, 3], 'D': 'new value'}"
      ]
     },
     "execution_count": 20,
     "metadata": {},
     "output_type": "execute_result"
    }
   ],
   "source": [
    "my_dict['D'] = 'new value'  # add new key-value\n",
    "my_dict"
   ]
  },
  {
   "cell_type": "code",
   "execution_count": 21,
   "metadata": {
    "collapsed": false,
    "deletable": true,
    "editable": true
   },
   "outputs": [
    {
     "data": {
      "text/plain": [
       "True"
      ]
     },
     "execution_count": 21,
     "metadata": {},
     "output_type": "execute_result"
    }
   ],
   "source": [
    "'A' in my_dict  # check if dict has key"
   ]
  },
  {
   "cell_type": "code",
   "execution_count": 22,
   "metadata": {
    "collapsed": false,
    "deletable": true,
    "editable": true
   },
   "outputs": [
    {
     "name": "stdout",
     "output_type": "stream",
     "text": [
      "B bee\n",
      "D new value\n",
      "A 1\n",
      "C [1, 2, 3]\n"
     ]
    }
   ],
   "source": [
    "for k, v in my_dict.items():  # iterate over values\n",
    "    print(k, v)"
   ]
  },
  {
   "cell_type": "code",
   "execution_count": 23,
   "metadata": {
    "collapsed": false,
    "deletable": true,
    "editable": true,
    "scrolled": true
   },
   "outputs": [
    {
     "name": "stdout",
     "output_type": "stream",
     "text": [
      "B\n",
      "D\n",
      "A\n",
      "C\n"
     ]
    }
   ],
   "source": [
    "for k in my_dict.keys():  # iterate over keys\n",
    "    print(k)"
   ]
  },
  {
   "cell_type": "code",
   "execution_count": 24,
   "metadata": {
    "collapsed": false,
    "deletable": true,
    "editable": true
   },
   "outputs": [
    {
     "name": "stdout",
     "output_type": "stream",
     "text": [
      "bee\n",
      "new value\n",
      "1\n",
      "[1, 2, 3]\n"
     ]
    }
   ],
   "source": [
    "for v in my_dict.values():  # iterate over values\n",
    "    print(v)"
   ]
  },
  {
   "cell_type": "markdown",
   "metadata": {
    "deletable": true,
    "editable": true
   },
   "source": [
    "## Representing graphs in python\n",
    "\n",
    "Consider the following example graph:"
   ]
  },
  {
   "cell_type": "markdown",
   "metadata": {
    "deletable": true,
    "editable": true
   },
   "source": [
    "Typically, graphs are represented as:\n",
    "- **list of edges**: a set of edges (tuples of vertices) we use sets are there is no order in the edges. THis is the prefered format to *store* graphs.\n",
    "- **adjacency lists**: in python implemented as dictionaries. Each vertex is a key and the associated value is a set of neighboring edges (for undirected graphs every outgoing edge should be balanced by an ingoing edge).\n",
    "- **adjacenty matrices**: matrix of which the elements store the edges. Is only used for dense graphs."
   ]
  },
  {
   "cell_type": "markdown",
   "metadata": {
    "deletable": true,
    "editable": true
   },
   "source": [
    "Example of the theory:\n",
    "\n",
    "![](Figures/undir_graph.png)"
   ]
  },
  {
   "cell_type": "code",
   "execution_count": 25,
   "metadata": {
    "collapsed": true,
    "deletable": true,
    "editable": true
   },
   "outputs": [],
   "source": [
    "edges = set([('A', 'B'), ('B', 'C'), ('C', 'D'), ('A', 'D'), ('C', 'E'), ('D', 'E')])"
   ]
  },
  {
   "cell_type": "code",
   "execution_count": 2,
   "metadata": {
    "collapsed": false,
    "deletable": true,
    "editable": true
   },
   "outputs": [],
   "source": [
    "from graphs import edges_to_adj_list"
   ]
  },
  {
   "cell_type": "code",
   "execution_count": 27,
   "metadata": {
    "collapsed": false,
    "deletable": true,
    "editable": true
   },
   "outputs": [
    {
     "data": {
      "text/plain": [
       "{'A': {'B', 'D'},\n",
       " 'B': {'A', 'C'},\n",
       " 'C': {'B', 'D', 'E'},\n",
       " 'D': {'A', 'C', 'E'},\n",
       " 'E': {'C', 'D'}}"
      ]
     },
     "execution_count": 27,
     "metadata": {},
     "output_type": "execute_result"
    }
   ],
   "source": [
    "adj_list = edges_to_adj_list(edges)\n",
    "adj_list"
   ]
  },
  {
   "cell_type": "markdown",
   "metadata": {
    "deletable": true,
    "editable": true
   },
   "source": [
    "Some basic graph algorithms are implemented:\n",
    "- `give_connected_component`: gives the largest connected component for a vertex\n",
    "- `is_connected`: checks if a graph is connected (every edge can be reached from every other edge)\n",
    "- `has_path`: checks if there exists a path between two vertices\n",
    "- `is_bridge`: checks if an edge is a bridge (i.e. removing it makes the graph disconnected"
   ]
  },
  {
   "cell_type": "markdown",
   "metadata": {
    "deletable": true,
    "editable": true
   },
   "source": [
    "Run the examples and check the result"
   ]
  },
  {
   "cell_type": "code",
   "execution_count": 3,
   "metadata": {
    "collapsed": true,
    "deletable": true,
    "editable": true
   },
   "outputs": [],
   "source": [
    "from graphs import give_connected_component, is_connected, is_bridge, has_path"
   ]
  },
  {
   "cell_type": "code",
   "execution_count": 29,
   "metadata": {
    "collapsed": true,
    "deletable": true,
    "editable": true
   },
   "outputs": [],
   "source": [
    "example1_edges = set([('A', 'B'), ('A', 'C'), ('B', 'C'), ('D', 'C'), ('D', 'E'),\n",
    "                     ('E', 'F'), ('F', 'G'), ('G', 'E'), ('D', 'F')\n",
    "                     ])\n",
    "example2_edges = set([('A', 'B'), ('A', 'C'), ('B', 'C'), ('D', 'E'),\n",
    "                     ('D', 'G'), ('F', 'G'), ('G', 'E'), ('D', 'F')\n",
    "                     ])"
   ]
  },
  {
   "cell_type": "code",
   "execution_count": 30,
   "metadata": {
    "collapsed": true,
    "deletable": true,
    "editable": true
   },
   "outputs": [],
   "source": [
    "example1_adj_list = edges_to_adj_list(example1_edges)\n",
    "example2_adj_list = edges_to_adj_list(example2_edges)"
   ]
  },
  {
   "cell_type": "code",
   "execution_count": 31,
   "metadata": {
    "collapsed": false,
    "deletable": true,
    "editable": true
   },
   "outputs": [
    {
     "data": {
      "text/plain": [
       "{'A', 'B', 'C', 'D', 'E', 'F', 'G'}"
      ]
     },
     "execution_count": 31,
     "metadata": {},
     "output_type": "execute_result"
    }
   ],
   "source": [
    "give_connected_component(example1_adj_list, 'A')"
   ]
  },
  {
   "cell_type": "code",
   "execution_count": 32,
   "metadata": {
    "collapsed": false,
    "deletable": true,
    "editable": true
   },
   "outputs": [
    {
     "data": {
      "text/plain": [
       "{'A', 'B', 'C'}"
      ]
     },
     "execution_count": 32,
     "metadata": {},
     "output_type": "execute_result"
    }
   ],
   "source": [
    "give_connected_component(example2_adj_list, 'A')"
   ]
  },
  {
   "cell_type": "code",
   "execution_count": 33,
   "metadata": {
    "collapsed": false,
    "deletable": true,
    "editable": true
   },
   "outputs": [
    {
     "data": {
      "text/plain": [
       "True"
      ]
     },
     "execution_count": 33,
     "metadata": {},
     "output_type": "execute_result"
    }
   ],
   "source": [
    "is_connected(example1_adj_list)"
   ]
  },
  {
   "cell_type": "code",
   "execution_count": 34,
   "metadata": {
    "collapsed": false,
    "deletable": true,
    "editable": true,
    "scrolled": true
   },
   "outputs": [
    {
     "data": {
      "text/plain": [
       "False"
      ]
     },
     "execution_count": 34,
     "metadata": {},
     "output_type": "execute_result"
    }
   ],
   "source": [
    "is_connected(example2_adj_list)"
   ]
  },
  {
   "cell_type": "code",
   "execution_count": 35,
   "metadata": {
    "collapsed": false,
    "deletable": true,
    "editable": true,
    "scrolled": false
   },
   "outputs": [
    {
     "data": {
      "text/plain": [
       "False"
      ]
     },
     "execution_count": 35,
     "metadata": {},
     "output_type": "execute_result"
    }
   ],
   "source": [
    "is_bridge(example1_adj_list, ('A', 'B'))"
   ]
  },
  {
   "cell_type": "code",
   "execution_count": 36,
   "metadata": {
    "collapsed": false,
    "deletable": true,
    "editable": true,
    "scrolled": true
   },
   "outputs": [
    {
     "data": {
      "text/plain": [
       "True"
      ]
     },
     "execution_count": 36,
     "metadata": {},
     "output_type": "execute_result"
    }
   ],
   "source": [
    "is_bridge(example1_adj_list, ('C', 'D'))"
   ]
  },
  {
   "cell_type": "code",
   "execution_count": 37,
   "metadata": {
    "collapsed": false,
    "deletable": true,
    "editable": true
   },
   "outputs": [
    {
     "data": {
      "text/plain": [
       "{'A': {'B', 'C'},\n",
       " 'B': {'A', 'C'},\n",
       " 'C': {'A', 'B', 'D'},\n",
       " 'D': {'C', 'E', 'F'},\n",
       " 'E': {'D', 'F', 'G'},\n",
       " 'F': {'D', 'E', 'G'},\n",
       " 'G': {'E', 'F'}}"
      ]
     },
     "execution_count": 37,
     "metadata": {},
     "output_type": "execute_result"
    }
   ],
   "source": [
    "example1_adj_list"
   ]
  },
  {
   "cell_type": "code",
   "execution_count": 38,
   "metadata": {
    "collapsed": false,
    "deletable": true,
    "editable": true,
    "scrolled": true
   },
   "outputs": [
    {
     "data": {
      "text/plain": [
       "True"
      ]
     },
     "execution_count": 38,
     "metadata": {},
     "output_type": "execute_result"
    }
   ],
   "source": [
    "has_path(example2_adj_list, 'A', 'C')"
   ]
  },
  {
   "cell_type": "code",
   "execution_count": 39,
   "metadata": {
    "collapsed": false,
    "deletable": true,
    "editable": true
   },
   "outputs": [
    {
     "data": {
      "text/plain": [
       "False"
      ]
     },
     "execution_count": 39,
     "metadata": {},
     "output_type": "execute_result"
    }
   ],
   "source": [
    "has_path(example2_adj_list, 'A', 'F')"
   ]
  },
  {
   "cell_type": "markdown",
   "metadata": {
    "deletable": true,
    "editable": true
   },
   "source": [
    "## Fleury's algorithm\n",
    "\n",
    "Fleury's algorithm is a simple (though inefficient algorithm to find an Eulerian trail (i.e. a walk on the graph that passes all the edges)."
   ]
  },
  {
   "cell_type": "markdown",
   "metadata": {
    "deletable": true,
    "editable": true
   },
   "source": [
    "It can be shown that a graph has an Eulerian trail if and only if it is connected and it it has exactly zero or two edges with an odd degree."
   ]
  },
  {
   "cell_type": "markdown",
   "metadata": {
    "deletable": true,
    "editable": true
   },
   "source": [
    "Fleury's algorithm is executed as follows:\n",
    "1. Start at a vertex of odd degree, or, if the graph has none, start with an arbitrarily chosen vertex.\n",
    "2. Chooses the next edge in the path to be one whose deletion would not disconnect the graph (i.e. is not a bridge), unless there is no such edge, in which case pick the remaining edge left at the current vertex.\n",
    "3. Add the edge to the path and remove the edge from the graph.\n",
    "4. Repeat steps 2-3 until no more edges are left."
   ]
  },
  {
   "cell_type": "markdown",
   "metadata": {
    "deletable": true,
    "editable": true
   },
   "source": [
    "**ASSIGNMENT 1**\n",
    "\n",
    "1. Complete the pseudocode of fleury's algorithm. The algorithm first checks if an Eulerian path exists (and returns None if not) and returns the path as a list. Use the given function `is_bridge` to check if an \n",
    "2. Study the time complexity of the algorithm. For this you have 25 graphs at your disposal. These graphs are stored in json format in the form `eulerianxxx.json` with '`xxx`' the number of edges. The function `load_graph` can read this data file (see example). For each file, measure the time to find the Eulerian path and make a graph (in log-log scale) of the time vs. the number of edges. Comment on the relation (linear time complexity, super/sublinear?) Does this make sense? HINT: detecting if an edge is a bridge is done with an average time complexity linear in the number of edges."
   ]
  },
  {
   "cell_type": "code",
   "execution_count": 103,
   "metadata": {
    "collapsed": false,
    "deletable": true,
    "editable": true
   },
   "outputs": [],
   "source": [
    "import random\n",
    "\n",
    "def fleury_algorithm(adj_list):\n",
    "    \"\"\"\n",
    "    Fleury's algorithm for finding an Eulerian path (if one exists)\n",
    "    \n",
    "    First it checks if the path exists, if it exists, it returns a list of\n",
    "    the nodes that are visisted in an Eulerian path\n",
    "    \n",
    "    Inputs:\n",
    "        - adj_list\n",
    "        \n",
    "    Outputs:\n",
    "        - path\n",
    "    \"\"\"\n",
    "    adj_list = {k : v.copy() for k, v in adj_list.items()}  # make a copy\n",
    "    # check if Eulerian path exists\n",
    "    eulerian= is_connected(adj_list) & (sum([len(adj_list[x])%2 for x in adj_list.keys()]) in [0,2])\n",
    "    # if not, return None\n",
    "    if not eulerian:\n",
    "        return None\n",
    "    else:\n",
    "        path= []\n",
    "        if sum([len(adj_list[x])%2 for x in adj_list.keys()]) == 0:\n",
    "            path.append(random.choice(list(adj_list.keys())))\n",
    "        else:\n",
    "            path.append(random.choice([x for x in adj_list.keys() if len(adj_list[x])%2 == 1]))\n",
    "        while sum([len(adj_list[x]) for x in adj_list.keys()]) != 0:\n",
    "            if len(adj_list[path[-1]])==1:\n",
    "                path.append(list(adj_list[path[-1]])[0])\n",
    "                adj_list[path[-2]].remove(path[-1])\n",
    "                adj_list[path[-1]].remove(path[-2])\n",
    "            else:\n",
    "                nextkey= random.choice(list(adj_list[path[-1]]))\n",
    "                while is_bridge(adj_list,(path[-1],nextkey)):\n",
    "                    nextkey= random.choice(list(adj_list[path[-1]]))\n",
    "                path.append(nextkey)\n",
    "                adj_list[path[-2]].remove(nextkey)\n",
    "                adj_list[nextkey].remove(path[-2])\n",
    "        return path\n",
    "    # else, compute the path and return it"
   ]
  },
  {
   "cell_type": "code",
   "execution_count": 104,
   "metadata": {
    "collapsed": false,
    "deletable": true,
    "editable": true,
    "scrolled": true
   },
   "outputs": [
    {
     "data": {
      "text/plain": [
       "['D', 'C', 'E', 'D', 'A', 'B', 'C']"
      ]
     },
     "execution_count": 104,
     "metadata": {},
     "output_type": "execute_result"
    }
   ],
   "source": [
    "fleury_algorithm(adj_list)"
   ]
  },
  {
   "cell_type": "code",
   "execution_count": 105,
   "metadata": {
    "collapsed": true,
    "deletable": true,
    "editable": true
   },
   "outputs": [],
   "source": [
    "from graphs import load_graph"
   ]
  },
  {
   "cell_type": "code",
   "execution_count": 106,
   "metadata": {
    "collapsed": false,
    "deletable": true,
    "editable": true
   },
   "outputs": [
    {
     "data": {
      "text/plain": [
       "{'0': {'2', '8'},\n",
       " '2': {'0', '3', '5', '6', '8'},\n",
       " '3': {'2', '4', '6', '7'},\n",
       " '4': {'3', '8'},\n",
       " '5': {'2', '6', '7', '8'},\n",
       " '6': {'2', '3', '5', '8'},\n",
       " '7': {'3', '5'},\n",
       " '8': {'0', '2', '4', '5', '6'}}"
      ]
     },
     "execution_count": 106,
     "metadata": {},
     "output_type": "execute_result"
    }
   ],
   "source": [
    "# example on how to load the graph\n",
    "adj_loaded = load_graph('Data_Eulerian/eulerian14.json')\n",
    "adj_loaded"
   ]
  },
  {
   "cell_type": "code",
   "execution_count": 134,
   "metadata": {
    "collapsed": false,
    "deletable": true,
    "editable": true
   },
   "outputs": [
    {
     "name": "stdout",
     "output_type": "stream",
     "text": [
      "3 loops, best of 3: 10.4 ms per loop\n",
      "3 loops, best of 3: 5.87 ms per loop\n",
      "3 loops, best of 3: 42.7 ms per loop\n",
      "3 loops, best of 3: 478 ms per loop\n",
      "3 loops, best of 3: 197 ms per loop\n",
      "3 loops, best of 3: 27.1 ms per loop\n",
      "3 loops, best of 3: 698 ms per loop\n",
      "3 loops, best of 3: 85.3 ms per loop\n",
      "3 loops, best of 3: 249 ms per loop\n",
      "3 loops, best of 3: 1.41 ms per loop\n",
      "3 loops, best of 3: 151 ms per loop\n",
      "3 loops, best of 3: 315 ms per loop\n",
      "3 loops, best of 3: 1.13 s per loop\n",
      "3 loops, best of 3: 59.9 ms per loop\n",
      "3 loops, best of 3: 392 ms per loop\n",
      "3 loops, best of 3: 2.91 ms per loop\n",
      "3 loops, best of 3: 830 ms per loop\n",
      "3 loops, best of 3: 555 µs per loop\n",
      "3 loops, best of 3: 16.8 ms per loop\n",
      "3 loops, best of 3: 977 ms per loop\n",
      "3 loops, best of 3: 115 ms per loop\n",
      "3 loops, best of 3: 229 µs per loop\n",
      "3 loops, best of 3: 577 ms per loop\n",
      "3 loops, best of 3: 83.8 µs per loop\n",
      "3 loops, best of 3: 1.34 s per loop\n"
     ]
    }
   ],
   "source": [
    "# use this cell to measure the time to find the Eulerian path for each graph\n",
    "from os import listdir\n",
    "\n",
    "files= [x for x in listdir('Data_Eulerian/') if x[-5:] == \".json\"]\n",
    "n_edges= []\n",
    "time= []\n",
    "for file in files:\n",
    "    adj_loaded= load_graph('Data_Eulerian/'+file)\n",
    "    n_edges.append(int(file[8:-5]))\n",
    "    timei= %timeit -o -n 3 fleury_algorithm(adj_loaded)\n",
    "    time.append(timei.best)"
   ]
  },
  {
   "cell_type": "code",
   "execution_count": 144,
   "metadata": {
    "collapsed": false,
    "deletable": true,
    "editable": true
   },
   "outputs": [
    {
     "data": {
      "text/plain": [
       "[<matplotlib.lines.Line2D at 0x7f7cb220c828>]"
      ]
     },
     "execution_count": 144,
     "metadata": {},
     "output_type": "execute_result"
    },
    {
     "data": {
      "image/png": "[encoded data removed]",
      "text/plain": [
       "<matplotlib.figure.Figure at 0x7f7cb22abbe0>"
      ]
     },
     "metadata": {},
     "output_type": "display_data"
    }
   ],
   "source": [
    "# use this cell to plot the time as a function of the number of edges (log-log scale)\n",
    "import matplotlib.pyplot as plt\n",
    "\n",
    "fig = plt.figure()\n",
    "ax1 = fig.add_subplot(211)\n",
    "ax1.set_xlabel(\"number of edges\")\n",
    "ax1.set_ylabel(\"time (sec)\")\n",
    "ax1.plot(n_edges,time, 'o')\n",
    "ax2 = fig.add_subplot(212)\n",
    "ax2.set_xlabel(\"number of edges\")\n",
    "ax2.set_ylabel(\"time (sec)\")\n",
    "ax2.loglog(n_edges,time, 'o')"
   ]
  },
  {
   "cell_type": "markdown",
   "metadata": {
    "deletable": true,
    "editable": true
   },
   "source": [
    "If the time complexity of searching if an edge is a bridge is linear and the fleury algoritm goes over every edge once (and is thus more or less linear too), the overall time complecity is in the order of (number of edges)²."
   ]
  },
  {
   "cell_type": "markdown",
   "metadata": {
    "deletable": true,
    "editable": true
   },
   "source": [
    "## Graph coloring using six colors\n",
    "\n",
    "Graph coloring is an optimization problem of assinging a color to each label using as few colors as possible such that no neighboring vertices have the same color.\n",
    "\n",
    "The four color theorem states that a planar graph can be colored using only four colors."
   ]
  },
  {
   "cell_type": "markdown",
   "metadata": {
    "deletable": true,
    "editable": true
   },
   "source": [
    "We will use six colors (though we rarely need more than five) to color a planar graph. For this, the algorithm is very simple:\n",
    "\n",
    "1. Color recursively with the six colors all vertices of degree five or more.\n",
    "2. Color the rest of the graph with a free color."
   ]
  },
  {
   "cell_type": "markdown",
   "metadata": {
    "deletable": true,
    "editable": true
   },
   "source": [
    "**ASSIGNMENT 2**\n",
    "\n",
    "1. Complete the graph coloring algorithm.\n",
    "2. What do you think the time complexity of this algorithm is going to be (based on reasoning).\n",
    "\n",
    "You can illustrate this algorithm on a Voronoi plot (a tesselation of a plane based on the distance to a set of points). Feel free to improve the graphics :-)"
   ]
  },
  {
   "cell_type": "code",
   "execution_count": 22,
   "metadata": {
    "collapsed": false,
    "deletable": true,
    "editable": true
   },
   "outputs": [],
   "source": [
    "import random\n",
    "\n",
    "def graph_color(adj_list, colors=['k', 'r', 'b', 'g', 'y', 'm']):\n",
    "    \"\"\"\n",
    "    Provides one of six colors for each vertex in a planar graph\n",
    "    such that no neighboring vertices have the same color\n",
    "    \n",
    "    Inputs:\n",
    "        - adj_list: adjecency list of a planar graph\n",
    "        - colors: list of six colors (default those for matplotlib plotting)\n",
    "        \n",
    "    Output:\n",
    "        - vertices_colors: a dict with a color for each vertex\n",
    "    \"\"\"\n",
    "    #print(colors)\n",
    "    vertices_colors = {}\n",
    "    remaining_keys= []\n",
    "    for key in adj_list.keys():\n",
    "        if len(adj_list[key]) >= 5:\n",
    "            remaining_colors= list(colors)\n",
    "            for v in adj_list[key]:\n",
    "                if v in vertices_colors:\n",
    "                    remaining_colors= [col for col in remaining_colors if col != vertices_colors[v]]\n",
    "            vertices_colors[key]= random.choice(remaining_colors)\n",
    "        else:\n",
    "            remaining_keys.append(key)\n",
    "    for key in remaining_keys:\n",
    "        remaining_colors= list(colors)\n",
    "        neighbors= adj_list[key]\n",
    "        for v in adj_list[key]:\n",
    "            if v in vertices_colors:\n",
    "                remaining_colors= [col for col in remaining_colors if col != vertices_colors[v]]\n",
    "        vertices_colors[key]= random.choice(remaining_colors)\n",
    "    return vertices_colors"
   ]
  },
  {
   "cell_type": "code",
   "execution_count": 6,
   "metadata": {
    "collapsed": false,
    "deletable": true,
    "editable": true
   },
   "outputs": [],
   "source": [
    "from graphs import get_planar_graph"
   ]
  },
  {
   "cell_type": "code",
   "execution_count": 7,
   "metadata": {
    "collapsed": false,
    "deletable": true,
    "editable": true
   },
   "outputs": [],
   "source": [
    "X = np.random.randn(20, 2)  # random points for Voronoi tesselation\n",
    "planar_graph = get_planar_graph(X)"
   ]
  },
  {
   "cell_type": "code",
   "execution_count": 8,
   "metadata": {
    "collapsed": false,
    "deletable": true,
    "editable": true
   },
   "outputs": [
    {
     "data": {
      "text/plain": [
       "{0: {3, 10, 12, 19},\n",
       " 1: {3, 12, 16, 18},\n",
       " 2: {5, 7, 9, 10, 15},\n",
       " 3: {0, 1, 12, 17, 18, 19},\n",
       " 4: {6, 8, 13, 14},\n",
       " 5: {2, 7, 9, 11},\n",
       " 6: {4, 7, 8, 14, 15},\n",
       " 7: {2, 5, 6, 11, 14, 15},\n",
       " 8: {4, 6, 13, 15, 19},\n",
       " 9: {2, 5, 10, 11, 12},\n",
       " 10: {0, 2, 9, 12},\n",
       " 11: {5, 7, 9, 12, 14, 16, 18},\n",
       " 12: {0, 1, 3, 9, 10, 11, 16},\n",
       " 13: {4, 8, 14, 17, 18, 19},\n",
       " 14: {4, 6, 7, 11, 13, 18},\n",
       " 15: {2, 6, 7, 8},\n",
       " 16: {1, 11, 12, 18},\n",
       " 17: {3, 13, 18, 19},\n",
       " 18: {1, 3, 11, 13, 14, 16, 17},\n",
       " 19: {0, 3, 8, 13, 17}}"
      ]
     },
     "execution_count": 8,
     "metadata": {},
     "output_type": "execute_result"
    }
   ],
   "source": [
    "planar_graph"
   ]
  },
  {
   "cell_type": "code",
   "execution_count": 23,
   "metadata": {
    "collapsed": false,
    "deletable": true,
    "editable": true
   },
   "outputs": [
    {
     "data": {
      "text/plain": [
       "{0: 'g',\n",
       " 1: 'g',\n",
       " 2: 'g',\n",
       " 3: 'b',\n",
       " 4: 'm',\n",
       " 5: 'y',\n",
       " 6: 'b',\n",
       " 7: 'r',\n",
       " 8: 'g',\n",
       " 9: 'm',\n",
       " 10: 'k',\n",
       " 11: 'k',\n",
       " 12: 'r',\n",
       " 13: 'y',\n",
       " 14: 'g',\n",
       " 15: 'm',\n",
       " 16: 'b',\n",
       " 17: 'g',\n",
       " 18: 'r',\n",
       " 19: 'r'}"
      ]
     },
     "execution_count": 23,
     "metadata": {},
     "output_type": "execute_result"
    }
   ],
   "source": [
    "coloring = graph_color(planar_graph, colors=['k', 'r', 'b', 'g', 'y', 'm'])\n",
    "coloring"
   ]
  },
  {
   "cell_type": "code",
   "execution_count": 25,
   "metadata": {
    "collapsed": false,
    "deletable": true,
    "editable": true
   },
   "outputs": [
    {
     "name": "stderr",
     "output_type": "stream",
     "text": [
      "/usr/lib/python3/dist-packages/scipy/spatial/_plotutils.py:17: MatplotlibDeprecationWarning: The ishold function was deprecated in version 2.0.\n",
      "  was_held = ax.ishold()\n",
      "/usr/lib/python3/dist-packages/scipy/spatial/_plotutils.py:19: MatplotlibDeprecationWarning: axes.hold is deprecated.\n",
      "    See the API Changes document (http://matplotlib.org/api/api_changes.html)\n",
      "    for more details.\n",
      "  ax.hold(True)\n",
      "/usr/lib/python3/dist-packages/scipy/spatial/_plotutils.py:22: MatplotlibDeprecationWarning: axes.hold is deprecated.\n",
      "    See the API Changes document (http://matplotlib.org/api/api_changes.html)\n",
      "    for more details.\n",
      "  ax.hold(was_held)\n"
     ]
    },
    {
     "data": {
      "image/png": "[encoded data removed]",
      "text/plain": [
       "<matplotlib.figure.Figure at 0x7f2e275251d0>"
      ]
     },
     "metadata": {},
     "output_type": "display_data"
    }
   ],
   "source": [
    "fig, ax = plt.subplots()\n",
    "\n",
    "vor = Voronoi(X)\n",
    "\n",
    "voronoi_plot_2d(vor, ax=ax)\n",
    "for i, c in coloring.items():\n",
    "    ax.scatter(X[i, 0], X[i, 1], c=c, s=50)"
   ]
  },
  {
   "cell_type": "markdown",
   "metadata": {
    "collapsed": true,
    "deletable": true,
    "editable": true
   },
   "source": [
    "If n is the number of vertices, m is the number of edges per vertice (for a fully connected graph m = n - 1) and the number of items in vertices_colors will go from 0 to maximally n - 1 when we continue the loop over the n vertices, giving us a total time complexity of about n*(n-1)*(n-1) = n³ - 2n² + n"
   ]
  }
 ],
 "metadata": {
  "anaconda-cloud": {},
  "kernelspec": {
   "display_name": "Python [default]",
   "language": "python",
   "name": "python3"
  },
  "language_info": {
   "codemirror_mode": {
    "name": "ipython",
    "version": 3
   },
   "file_extension": ".py",
   "mimetype": "text/x-python",
   "name": "python",
   "nbconvert_exporter": "python",
   "pygments_lexer": "ipython3",
   "version": "3.5.2"
  }
 },
 "nbformat": 4,
 "nbformat_minor": 1
}
