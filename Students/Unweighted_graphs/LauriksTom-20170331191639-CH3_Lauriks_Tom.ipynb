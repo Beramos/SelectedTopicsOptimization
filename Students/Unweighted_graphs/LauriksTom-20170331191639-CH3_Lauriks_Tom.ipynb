{
 "cells": [
  {
   "cell_type": "markdown",
   "metadata": {},
   "source": [
    "# Chapter 3: Undirected graphs"
   ]
  },
  {
   "cell_type": "markdown",
   "metadata": {},
   "source": [
    "*Selected Topics in Mathematical Optimization*\n",
    "\n",
    "*2016-2017*\n",
    "\n",
    "**Bernard De Baets**\n",
    "\n",
    "**Michiel Stock**\n",
    "\n",
    "**Raúl Pérez-Fernández**"
   ]
  },
  {
   "cell_type": "code",
   "execution_count": 172,
   "metadata": {
    "collapsed": true
   },
   "outputs": [],
   "source": [
    "import matplotlib.pyplot as plt\n",
    "import matplotlib.patches as patches\n",
    "from scipy.spatial import voronoi_plot_2d, Voronoi\n",
    "import numpy as np\n",
    "%matplotlib inline"
   ]
  },
  {
   "cell_type": "markdown",
   "metadata": {},
   "source": [
    "## Some essential data structures in python\n",
    "\n",
    "Using the correct datastructure is key to implementing an efficient graph algorithm. Below is a concise overview of some elementary python data structures.\n",
    "\n",
    "For more information on the time complexity of operations on these data structures, see [this](https://wiki.python.org/moin/TimeComplexity) link."
   ]
  },
  {
   "cell_type": "markdown",
   "metadata": {},
   "source": [
    "### Lists: ordered  collection of objects\n",
    "\n",
    "Lists store objects in sequential order. Adding and removing elements at the back is easy, inserting or removing elements elsewhere is computationally inefficient (memory has to be reshuffled)."
   ]
  },
  {
   "cell_type": "code",
   "execution_count": 173,
   "metadata": {
    "collapsed": true
   },
   "outputs": [],
   "source": [
    "#List: elements don't have to be same type.\n",
    "my_list = [1, 2, 3, 4, 5]"
   ]
  },
  {
   "cell_type": "code",
   "execution_count": 174,
   "metadata": {
    "collapsed": false
   },
   "outputs": [
    {
     "data": {
      "text/plain": [
       "[1, 2, 3, 4, 5, 6]"
      ]
     },
     "execution_count": 174,
     "metadata": {},
     "output_type": "execute_result"
    }
   ],
   "source": [
    "#Put in at beginning not efficient, because python needs to reacllocta all indices\n",
    "my_list.append(6)  # add element at the back\n",
    "my_list\n",
    "#CHecking whether element in list is inefficient.( Other datastructures that are more efficient to do this?)\n",
    "#Is dependent on list length!"
   ]
  },
  {
   "cell_type": "code",
   "execution_count": 175,
   "metadata": {
    "collapsed": false
   },
   "outputs": [
    {
     "data": {
      "text/plain": [
       "6"
      ]
     },
     "execution_count": 175,
     "metadata": {},
     "output_type": "execute_result"
    }
   ],
   "source": [
    "my_list.pop()  # return last element"
   ]
  },
  {
   "cell_type": "code",
   "execution_count": 176,
   "metadata": {
    "collapsed": false
   },
   "outputs": [
    {
     "data": {
      "text/plain": [
       "[1, 2, 3, 4, 5]"
      ]
     },
     "execution_count": 176,
     "metadata": {},
     "output_type": "execute_result"
    }
   ],
   "source": [
    "my_list  # element is gone"
   ]
  },
  {
   "cell_type": "code",
   "execution_count": 177,
   "metadata": {
    "collapsed": false
   },
   "outputs": [
    {
     "data": {
      "text/plain": [
       "5"
      ]
     },
     "execution_count": 177,
     "metadata": {},
     "output_type": "execute_result"
    }
   ],
   "source": [
    "my_list[4]  # take element"
   ]
  },
  {
   "cell_type": "code",
   "execution_count": 178,
   "metadata": {
    "collapsed": false
   },
   "outputs": [
    {
     "data": {
      "text/plain": [
       "[1, 2, 3, 'three', 5]"
      ]
     },
     "execution_count": 178,
     "metadata": {},
     "output_type": "execute_result"
    }
   ],
   "source": [
    "my_list[3] = 'three'  # replace\n",
    "my_list"
   ]
  },
  {
   "cell_type": "code",
   "execution_count": 179,
   "metadata": {
    "collapsed": false
   },
   "outputs": [
    {
     "data": {
      "text/plain": [
       "[1, 4, 9, 16, 25, 36, 49, 64, 81, 100]"
      ]
     },
     "execution_count": 179,
     "metadata": {},
     "output_type": "execute_result"
    }
   ],
   "source": [
    "# for loops in lists\n",
    "squares = [x**2 for x in range(1, 11)]\n",
    "squares"
   ]
  },
  {
   "cell_type": "code",
   "execution_count": 180,
   "metadata": {
    "collapsed": false
   },
   "outputs": [
    {
     "data": {
      "text/plain": [
       "[1, 9, 25, 49, 81]"
      ]
     },
     "execution_count": 180,
     "metadata": {},
     "output_type": "execute_result"
    }
   ],
   "source": [
    "# a more complex example\n",
    "squares_odd = [x**2 for x in range(1, 11) if x%2==1]\n",
    "squares_odd"
   ]
  },
  {
   "cell_type": "markdown",
   "metadata": {},
   "source": [
    "### Sets: unordened collection of objects\n",
    "\n",
    "Sets have no ordening and cannot contain duplicates. It is very efficient (constant time compelxity) to check if an element is present and to add or remove an object."
   ]
  },
  {
   "cell_type": "code",
   "execution_count": 181,
   "metadata": {
    "collapsed": false
   },
   "outputs": [
    {
     "data": {
      "text/plain": [
       "{-1, 1, 2, 3, 4, 15}"
      ]
     },
     "execution_count": 181,
     "metadata": {},
     "output_type": "execute_result"
    }
   ],
   "source": [
    "#More efficient to check whether element in set. Is independent on set length!\n",
    "numbers = set([1, 2, 15, -1, 4, 2, 3, 4])  # make set from list \n",
    "numbers  # no particular order or duplicates"
   ]
  },
  {
   "cell_type": "code",
   "execution_count": 182,
   "metadata": {
    "collapsed": false,
    "scrolled": true
   },
   "outputs": [
    {
     "data": {
      "text/plain": [
       "False"
      ]
     },
     "execution_count": 182,
     "metadata": {},
     "output_type": "execute_result"
    }
   ],
   "source": [
    "5 in numbers  # check if element is member"
   ]
  },
  {
   "cell_type": "code",
   "execution_count": 183,
   "metadata": {
    "collapsed": true
   },
   "outputs": [],
   "source": [
    "numbers.add(5)  # add element"
   ]
  },
  {
   "cell_type": "code",
   "execution_count": 184,
   "metadata": {
    "collapsed": false
   },
   "outputs": [
    {
     "data": {
      "text/plain": [
       "True"
      ]
     },
     "execution_count": 184,
     "metadata": {},
     "output_type": "execute_result"
    }
   ],
   "source": [
    "5 in numbers"
   ]
  },
  {
   "cell_type": "code",
   "execution_count": 185,
   "metadata": {
    "collapsed": false
   },
   "outputs": [
    {
     "data": {
      "text/plain": [
       "{-1, 2, 6, 8, 15}"
      ]
     },
     "execution_count": 185,
     "metadata": {},
     "output_type": "execute_result"
    }
   ],
   "source": [
    "# set operations on two sets\n",
    "new_numbers = set([2, 15, -1, 8, 6, 15])\n",
    "new_numbers"
   ]
  },
  {
   "cell_type": "code",
   "execution_count": 186,
   "metadata": {
    "collapsed": false
   },
   "outputs": [
    {
     "data": {
      "text/plain": [
       "{-1, 2, 15}"
      ]
     },
     "execution_count": 186,
     "metadata": {},
     "output_type": "execute_result"
    }
   ],
   "source": [
    "numbers & new_numbers  # intersection (AND)"
   ]
  },
  {
   "cell_type": "code",
   "execution_count": 187,
   "metadata": {
    "collapsed": false
   },
   "outputs": [
    {
     "data": {
      "text/plain": [
       "{-1, 1, 2, 3, 4, 5, 6, 8, 15}"
      ]
     },
     "execution_count": 187,
     "metadata": {},
     "output_type": "execute_result"
    }
   ],
   "source": [
    "numbers | new_numbers  # union (OR)"
   ]
  },
  {
   "cell_type": "code",
   "execution_count": 188,
   "metadata": {
    "collapsed": false
   },
   "outputs": [
    {
     "data": {
      "text/plain": [
       "{1, 3, 4, 5}"
      ]
     },
     "execution_count": 188,
     "metadata": {},
     "output_type": "execute_result"
    }
   ],
   "source": [
    "numbers - new_numbers  # set difference (in first but not in second)"
   ]
  },
  {
   "cell_type": "markdown",
   "metadata": {},
   "source": [
    "## Dictorinary: key-value storage\n",
    "\n",
    "Dictionaries are the best of both lists and sets, they store values by a key"
   ]
  },
  {
   "cell_type": "code",
   "execution_count": 189,
   "metadata": {
    "collapsed": true
   },
   "outputs": [],
   "source": [
    "my_dict = {'A' : 1, 'B' : 'bee', 'C' : [1, 2, 3]}  # make dictionary"
   ]
  },
  {
   "cell_type": "code",
   "execution_count": 190,
   "metadata": {
    "collapsed": false
   },
   "outputs": [
    {
     "data": {
      "text/plain": [
       "'bee'"
      ]
     },
     "execution_count": 190,
     "metadata": {},
     "output_type": "execute_result"
    }
   ],
   "source": [
    "my_dict['B']  # get value associated by key"
   ]
  },
  {
   "cell_type": "code",
   "execution_count": 191,
   "metadata": {
    "collapsed": false
   },
   "outputs": [
    {
     "data": {
      "text/plain": [
       "{'A': 1, 'B': 'bee', 'C': [1, 2, 3], 'D': 'new value'}"
      ]
     },
     "execution_count": 191,
     "metadata": {},
     "output_type": "execute_result"
    }
   ],
   "source": [
    "my_dict['D'] = 'new value'  # add new key-value\n",
    "my_dict"
   ]
  },
  {
   "cell_type": "code",
   "execution_count": 192,
   "metadata": {
    "collapsed": false
   },
   "outputs": [
    {
     "data": {
      "text/plain": [
       "True"
      ]
     },
     "execution_count": 192,
     "metadata": {},
     "output_type": "execute_result"
    }
   ],
   "source": [
    "'A' in my_dict  # check if dict has key"
   ]
  },
  {
   "cell_type": "code",
   "execution_count": 193,
   "metadata": {
    "collapsed": false
   },
   "outputs": [
    {
     "name": "stdout",
     "output_type": "stream",
     "text": [
      "D new value\n",
      "A 1\n",
      "B bee\n",
      "C [1, 2, 3]\n"
     ]
    }
   ],
   "source": [
    "for k, v in my_dict.items():  # iterate over values\n",
    "    print(k, v)\n"
   ]
  },
  {
   "cell_type": "code",
   "execution_count": 194,
   "metadata": {
    "collapsed": false,
    "scrolled": true
   },
   "outputs": [
    {
     "name": "stdout",
     "output_type": "stream",
     "text": [
      "D\n",
      "A\n",
      "B\n",
      "C\n"
     ]
    }
   ],
   "source": [
    "for k in my_dict.keys():  # iterate over keys\n",
    "    print(k)"
   ]
  },
  {
   "cell_type": "code",
   "execution_count": 195,
   "metadata": {
    "collapsed": false
   },
   "outputs": [
    {
     "name": "stdout",
     "output_type": "stream",
     "text": [
      "new value\n",
      "1\n",
      "bee\n",
      "[1, 2, 3]\n"
     ]
    }
   ],
   "source": [
    "for v in my_dict.values():  # iterate over values\n",
    "    print(v)"
   ]
  },
  {
   "cell_type": "markdown",
   "metadata": {},
   "source": [
    "## Representing graphs in python\n",
    "\n",
    "Consider the following example graph:"
   ]
  },
  {
   "cell_type": "markdown",
   "metadata": {},
   "source": [
    "Typically, graphs are represented as:\n",
    "- **list of edges**: a set of edges (tuples of vertices) we use sets are there is no order in the edges. THis is the prefered format to *store* graphs.\n",
    "- **adjacency lists**: in python implemented as dictionaries. Each vertex is a key and the associated value is a set of neighboring edges (for undirected graphs every outgoing edge should be balanced by an ingoing edge).\n",
    "- **adjacenty matrices**: matrix of which the elements store the edges. Is only used for dense graphs."
   ]
  },
  {
   "cell_type": "markdown",
   "metadata": {},
   "source": [
    "Example of the theory:\n",
    "\n",
    "![](Figures/undir_graph.png)"
   ]
  },
  {
   "cell_type": "code",
   "execution_count": 196,
   "metadata": {
    "collapsed": true
   },
   "outputs": [],
   "source": [
    "#Called list of edges, but is a set\n",
    "edges = set([('A', 'B'), ('B', 'C'), ('C', 'D'), ('A', 'D'), ('C', 'E'), ('D', 'E')])"
   ]
  },
  {
   "cell_type": "code",
   "execution_count": 197,
   "metadata": {
    "collapsed": false
   },
   "outputs": [],
   "source": [
    "from graphs import edges_to_adj_list"
   ]
  },
  {
   "cell_type": "code",
   "execution_count": 198,
   "metadata": {
    "collapsed": false
   },
   "outputs": [
    {
     "data": {
      "text/plain": [
       "{'A': {'B', 'D'},\n",
       " 'B': {'A', 'C'},\n",
       " 'C': {'B', 'D', 'E'},\n",
       " 'D': {'A', 'C', 'E'},\n",
       " 'E': {'C', 'D'}}"
      ]
     },
     "execution_count": 198,
     "metadata": {},
     "output_type": "execute_result"
    }
   ],
   "source": [
    "adj_list = edges_to_adj_list(edges)\n",
    "adj_list"
   ]
  },
  {
   "cell_type": "markdown",
   "metadata": {},
   "source": [
    "Some basic graph algorithms are implemented:\n",
    "- `give_connected_component`: gives all connected components for a vertex\n",
    "- `is_connected`: checks if a graph is connected (every edge can be reached from every other edge)\n",
    "- `has_path`: checks if there exists a path between two vertices\n",
    "- `is_bridge`: checks if an edge is a bridge (i.e. removing it makes the graph disconnected"
   ]
  },
  {
   "cell_type": "markdown",
   "metadata": {},
   "source": [
    "Run the examples and check the result"
   ]
  },
  {
   "cell_type": "code",
   "execution_count": 199,
   "metadata": {
    "collapsed": true
   },
   "outputs": [],
   "source": [
    "from graphs import give_connected_component, is_connected, is_bridge, has_path"
   ]
  },
  {
   "cell_type": "code",
   "execution_count": 200,
   "metadata": {
    "collapsed": true
   },
   "outputs": [],
   "source": [
    "example1_edges = set([('A', 'B'), ('A', 'C'), ('B', 'C'), ('D', 'C'), ('D', 'E'),\n",
    "                     ('E', 'F'), ('F', 'G'), ('G', 'E'), ('D', 'F')\n",
    "                     ])\n",
    "example2_edges = set([('A', 'B'), ('A', 'C'), ('B', 'C'), ('D', 'E'),\n",
    "                     ('D', 'G'), ('F', 'G'), ('G', 'E'), ('D', 'F')\n",
    "                     ])"
   ]
  },
  {
   "cell_type": "code",
   "execution_count": 201,
   "metadata": {
    "collapsed": false
   },
   "outputs": [],
   "source": [
    "example1_adj_list = edges_to_adj_list(example1_edges)\n",
    "example2_adj_list = edges_to_adj_list(example2_edges)"
   ]
  },
  {
   "cell_type": "code",
   "execution_count": 202,
   "metadata": {
    "collapsed": false
   },
   "outputs": [
    {
     "data": {
      "text/plain": [
       "{'A': {'B', 'C'},\n",
       " 'B': {'A', 'C'},\n",
       " 'C': {'A', 'B'},\n",
       " 'D': {'E', 'F', 'G'},\n",
       " 'E': {'D', 'G'},\n",
       " 'F': {'D', 'G'},\n",
       " 'G': {'D', 'E', 'F'}}"
      ]
     },
     "execution_count": 202,
     "metadata": {},
     "output_type": "execute_result"
    }
   ],
   "source": [
    "#Write out example to view structure\n",
    "example2_adj_list"
   ]
  },
  {
   "cell_type": "code",
   "execution_count": 203,
   "metadata": {
    "collapsed": false
   },
   "outputs": [
    {
     "data": {
      "text/plain": [
       "{'A', 'B', 'C', 'D', 'E', 'F', 'G'}"
      ]
     },
     "execution_count": 203,
     "metadata": {},
     "output_type": "execute_result"
    }
   ],
   "source": [
    "give_connected_component(example1_adj_list, 'A')"
   ]
  },
  {
   "cell_type": "code",
   "execution_count": 204,
   "metadata": {
    "collapsed": false
   },
   "outputs": [
    {
     "data": {
      "text/plain": [
       "{'A', 'B', 'C'}"
      ]
     },
     "execution_count": 204,
     "metadata": {},
     "output_type": "execute_result"
    }
   ],
   "source": [
    "give_connected_component(example2_adj_list, 'A')"
   ]
  },
  {
   "cell_type": "code",
   "execution_count": 205,
   "metadata": {
    "collapsed": false
   },
   "outputs": [
    {
     "data": {
      "text/plain": [
       "True"
      ]
     },
     "execution_count": 205,
     "metadata": {},
     "output_type": "execute_result"
    }
   ],
   "source": [
    "is_connected(example1_adj_list)"
   ]
  },
  {
   "cell_type": "code",
   "execution_count": 206,
   "metadata": {
    "collapsed": false
   },
   "outputs": [
    {
     "data": {
      "text/plain": [
       "True"
      ]
     },
     "execution_count": 206,
     "metadata": {},
     "output_type": "execute_result"
    }
   ],
   "source": [
    "is_connected(adj_list)"
   ]
  },
  {
   "cell_type": "code",
   "execution_count": 207,
   "metadata": {
    "collapsed": false,
    "scrolled": true
   },
   "outputs": [
    {
     "data": {
      "text/plain": [
       "False"
      ]
     },
     "execution_count": 207,
     "metadata": {},
     "output_type": "execute_result"
    }
   ],
   "source": [
    "is_connected(example2_adj_list)"
   ]
  },
  {
   "cell_type": "code",
   "execution_count": 208,
   "metadata": {
    "collapsed": false,
    "scrolled": false
   },
   "outputs": [
    {
     "data": {
      "text/plain": [
       "False"
      ]
     },
     "execution_count": 208,
     "metadata": {},
     "output_type": "execute_result"
    }
   ],
   "source": [
    "is_bridge(example1_adj_list, ('A', 'B'))"
   ]
  },
  {
   "cell_type": "code",
   "execution_count": 209,
   "metadata": {
    "collapsed": false,
    "scrolled": true
   },
   "outputs": [
    {
     "data": {
      "text/plain": [
       "True"
      ]
     },
     "execution_count": 209,
     "metadata": {},
     "output_type": "execute_result"
    }
   ],
   "source": [
    "is_bridge(example1_adj_list, ('C', 'D'))"
   ]
  },
  {
   "cell_type": "code",
   "execution_count": 210,
   "metadata": {
    "collapsed": false
   },
   "outputs": [
    {
     "data": {
      "text/plain": [
       "{'A': {'B', 'C'},\n",
       " 'B': {'A', 'C'},\n",
       " 'C': {'A', 'B', 'D'},\n",
       " 'D': {'C', 'E', 'F'},\n",
       " 'E': {'D', 'F', 'G'},\n",
       " 'F': {'D', 'E', 'G'},\n",
       " 'G': {'E', 'F'}}"
      ]
     },
     "execution_count": 210,
     "metadata": {},
     "output_type": "execute_result"
    }
   ],
   "source": [
    "example1_adj_list"
   ]
  },
  {
   "cell_type": "code",
   "execution_count": 211,
   "metadata": {
    "collapsed": false,
    "scrolled": true
   },
   "outputs": [
    {
     "data": {
      "text/plain": [
       "True"
      ]
     },
     "execution_count": 211,
     "metadata": {},
     "output_type": "execute_result"
    }
   ],
   "source": [
    "has_path(example2_adj_list, 'A', 'C')"
   ]
  },
  {
   "cell_type": "code",
   "execution_count": 212,
   "metadata": {
    "collapsed": false
   },
   "outputs": [
    {
     "data": {
      "text/plain": [
       "False"
      ]
     },
     "execution_count": 212,
     "metadata": {},
     "output_type": "execute_result"
    }
   ],
   "source": [
    "has_path(example2_adj_list, 'A', 'F')"
   ]
  },
  {
   "cell_type": "markdown",
   "metadata": {},
   "source": [
    "## Fleury's algorithm\n",
    "\n",
    "Fleury's algorithm is a simple (though inefficient) algorithm to find an Eulerian trail (i.e. a walk on the graph that passes all the edges)."
   ]
  },
  {
   "cell_type": "markdown",
   "metadata": {},
   "source": [
    "It can be shown that a graph has an Eulerian trail if and only if it is connected and it it has exactly zero or two vertices with an odd degree."
   ]
  },
  {
   "cell_type": "markdown",
   "metadata": {},
   "source": [
    "Fleury's algorithm is executed as follows:\n",
    "1. Start at a vertex of odd degree, or, if the graph has none, start with an arbitrarily chosen vertex.\n",
    "2. Chooses the next edge in the path to be one whose deletion would not disconnect the graph (i.e. is not a bridge), unless there is no such edge, in which case pick the remaining edge left at the current vertex.\n",
    "3. Add the edge to the path and remove the edge from the graph.\n",
    "4. Repeat steps 2-3 until no more edges are left."
   ]
  },
  {
   "cell_type": "markdown",
   "metadata": {},
   "source": [
    "**ASSIGNMENT 1**\n",
    "\n",
    "1. Complete the code of fleury's algorithm. The algorithm first checks if an Eulerian path exists (and returns None if not) and returns the path as a list. Use the given function `is_bridge` to check if an\n",
    "2. Study the time complexity of the algorithm. For this you have 25 graphs at your disposal. These graphs are stored in json format in the form `eulerianxxx.json` with '`xxx`' the number of edges. The function `load_graph` can read this data file (see example). For each file, measure the time to find the Eulerian path and make a graph (in log-log scale) of the time vs. the number of edges. Comment on the relation (linear time complexity, super/sublinear?) Does this make sense? HINT: detecting if an edge is a bridge is done with an average time complexity linear in the number of edges."
   ]
  },
  {
   "cell_type": "code",
   "execution_count": 213,
   "metadata": {
    "collapsed": false
   },
   "outputs": [],
   "source": [
    "def fleury_algorithm(adj_list):\n",
    "    \"\"\"\n",
    "    Fleury's algorithm for finding an Eulerian path (if one exists)\n",
    "    \n",
    "    First it checks if the path exists, if it exists, it returns a list of\n",
    "    the nodes that are visisted in an Eulerian path\n",
    "    \n",
    "    Inputs:\n",
    "        - adj_list\n",
    "        \n",
    "    Outputs:\n",
    "        - path\n",
    "    \"\"\"\n",
    "    adj_list = {k : v.copy() for k, v in adj_list.items()}  # make a copy\n",
    "    # check if Eulerian path exists\n",
    "    if not is_connected(adj_list):#if not connected, Eulerian path doesn't exist.\n",
    "        return None\n",
    "    else:#If connected, check number of odd degrees\n",
    "        no_odd_degrees=0\n",
    "        no_edges=0#Already store number of edges, will be used for construction of Eulerian trail.\n",
    "        #Already determine vertices with odd degree, to easily start from them when constructing Eulerian trail:\n",
    "        odd_degree_vertices=[]\n",
    "        for vertex,edges in adj_list.items():\n",
    "            no_edges+=len(edges)#Count edges\n",
    "            if len(edges)%2!=0:#Check if vertex has odd degree\n",
    "                odd_degree_vertices.append(vertex)\n",
    "                no_odd_degrees+=1\n",
    "        no_edges/=2#Edges are counted twice, thus divide by 2 for correct number of edges\n",
    "        if no_odd_degrees!=0 and no_odd_degrees!=2:\n",
    "            return None\n",
    "    #If Eulerian trail exists, calculate it:\n",
    "    if no_odd_degrees==0:#If number of odd degrees is 0, start a a random place.\n",
    "        vertex1=np.random.choice(adj_list.keys())\n",
    "        path=[vertex1]#Add first vertex to path.\n",
    "        vertex2=np.random.choice(tuple(adj_list[vertex1]))#Choose edge at current vertex randomly.\n",
    "        while no_edges!=0:#Execute until no edges left.\n",
    "            #Execute untill edge found at current vertex that doesn't disconnect remaining graph, unless no \n",
    "            #such edge exists:\n",
    "            while True:\n",
    "                #If only 1 edge at current vertex, don't need to check whether bridge or not:\n",
    "                if len(adj_list[vertex1])==1:\n",
    "                    path.append(adj_list[vertex1].pop())#Remove edge, add to path.\n",
    "                    adj_list[vertex2].remove(vertex1)#Remove edge\n",
    "                    #Remove disconnected vertex from graph, not needed in principle:\n",
    "                    #del adj_list[vertex1]\n",
    "                    vertex1=vertex2#Continue walk\n",
    "                    break\n",
    "                #If multiple edges at current vertex, check whether chosen edge bridge or not:\n",
    "                elif not is_bridge(adj_list, (vertex1,vertex2)):\n",
    "                    path.append(vertex2)#If not bridge, add to path.\n",
    "                    adj_list[vertex1].remove(vertex2)#Remove edge\n",
    "                    adj_list[vertex2].remove(vertex1)#Remove edge\n",
    "                    vertex1=vertex2#Continue walk\n",
    "                    break\n",
    "                if no_edges!=1:#To prevent error when last edge removed.\n",
    "                    vertex2=np.random.choice(tuple(adj_list[vertex1]))#Choose new edge to test.\n",
    "            if no_edges!=1:#To prevent error when last edge removed\n",
    "                vertex2=np.random.choice(tuple(adj_list[vertex1]))\n",
    "            no_edges-=1#Count down till all edges removed.       \n",
    "    else:#If number of odd degrees is 2, have to start at odd degree vertex.\n",
    "        vertex1=np.random.choice(odd_degree_vertices)\n",
    "        path=[vertex1]\n",
    "        vertex2=np.random.choice(tuple(adj_list[vertex1]))\n",
    "        while no_edges!=0:\n",
    "            while True:\n",
    "                if len(adj_list[vertex1])==1:\n",
    "                    path.append(adj_list[vertex1].pop())\n",
    "                    adj_list[vertex2].remove(vertex1)\n",
    "                    #Remove disconnected vertex from graph, not needed in principle:\n",
    "#                     del adj_list[vertex1]\n",
    "                    vertex1=vertex2\n",
    "                    break\n",
    "                elif not is_bridge(adj_list, (vertex1,vertex2)):\n",
    "                    path.append(vertex2)\n",
    "                    adj_list[vertex1].remove(vertex2)\n",
    "                    adj_list[vertex2].remove(vertex1)\n",
    "                    vertex1=vertex2\n",
    "                    break\n",
    "                if no_edges!=1:\n",
    "                    vertex2=np.random.choice(tuple(adj_list[vertex1]))\n",
    "            if no_edges!=1:\n",
    "                vertex2=np.random.choice(tuple(adj_list[vertex1]))\n",
    "            no_edges-=1  \n",
    "    return path       "
   ]
  },
  {
   "cell_type": "code",
   "execution_count": 214,
   "metadata": {
    "collapsed": false
   },
   "outputs": [
    {
     "data": {
      "text/plain": [
       "{'A': {'B', 'D'},\n",
       " 'B': {'A', 'C'},\n",
       " 'C': {'B', 'D', 'E'},\n",
       " 'D': {'A', 'C', 'E'},\n",
       " 'E': {'C', 'D'}}"
      ]
     },
     "execution_count": 214,
     "metadata": {},
     "output_type": "execute_result"
    }
   ],
   "source": [
    "#Print out graph to allow visual control\n",
    "adj_list"
   ]
  },
  {
   "cell_type": "code",
   "execution_count": 215,
   "metadata": {
    "collapsed": false,
    "scrolled": true
   },
   "outputs": [
    {
     "data": {
      "text/plain": [
       "['C', 'B', 'A', 'D', 'E', 'C', 'D']"
      ]
     },
     "execution_count": 215,
     "metadata": {},
     "output_type": "execute_result"
    }
   ],
   "source": [
    "fleury_algorithm(adj_list)"
   ]
  },
  {
   "cell_type": "code",
   "execution_count": 216,
   "metadata": {
    "collapsed": true
   },
   "outputs": [],
   "source": [
    "from graphs import load_graph"
   ]
  },
  {
   "cell_type": "code",
   "execution_count": 217,
   "metadata": {
    "collapsed": false
   },
   "outputs": [
    {
     "name": "stdout",
     "output_type": "stream",
     "text": [
      "{'3': {'4', '7', '6', '2'}, '0': {'8', '2'}, '7': {'3', '5'}, '6': {'3', '8', '5', '2'}, '4': {'3', '8'}, '8': {'4', '0', '5', '6', '2'}, '5': {'8', '7', '6', '2'}, '2': {'3', '8', '0', '5', '6'}}\n"
     ]
    },
    {
     "data": {
      "text/plain": [
       "['8', '5', '7', '3', '2', '0', '8', '6', '2', '8', '4', '3', '6', '5', '2']"
      ]
     },
     "execution_count": 217,
     "metadata": {},
     "output_type": "execute_result"
    }
   ],
   "source": [
    "# example on how to load the graph\n",
    "adj_loaded = load_graph('Data_Eulerian/eulerian14.json')\n",
    "print(adj_loaded)\n",
    "fleury_algorithm(adj_loaded)"
   ]
  },
  {
   "cell_type": "code",
   "execution_count": 218,
   "metadata": {
    "collapsed": false
   },
   "outputs": [],
   "source": [
    "# use this cell to measure the time to find the Eulerian path for each graph\n",
    "edge_numbers=[14, 26, 46, 74, 110, 154, 206, 266, 334, 410, 494, 586, 686, 794, 910, 1034, 1166, 1306, 1454,\\\n",
    "1610, 1774, 1946, 2126, 2314, 2510]\n",
    "# edge_numbers=[14, 26, 46, 74]\n",
    "# edge_numbers=[14, 26]\n",
    "duration=np.zeros((1,len(edge_numbers)))\n",
    "file_string_start='Data_Eulerian/eulerian'\n",
    "file_string_end='.json'\n",
    "for i,edge_number in enumerate(edge_numbers):\n",
    "    adj_loaded = load_graph(file_string_start+str(edge_number)+file_string_end)\n",
    "    duration_help=%timeit -q -o fleury_algorithm(adj_loaded)\n",
    "    duration[(0,i)]=duration_help.best"
   ]
  },
  {
   "cell_type": "code",
   "execution_count": 219,
   "metadata": {
    "collapsed": false
   },
   "outputs": [
    {
     "data": {
      "text/plain": [
       "<matplotlib.text.Text at 0x1af530dd898>"
      ]
     },
     "execution_count": 219,
     "metadata": {},
     "output_type": "execute_result"
    },
    {
     "data": {
      "image/png": "[encoded data removed]",
      "text/plain": [
       "<matplotlib.figure.Figure at 0x1af517f0828>"
      ]
     },
     "metadata": {},
     "output_type": "display_data"
    }
   ],
   "source": [
    "# use this cell to plot the time as a function of the number of edges (log-log scale)\n",
    "fig, ax = plt.subplots()\n",
    "ax.plot(edge_numbers,duration.reshape((-1,1)))\n",
    "ax.loglog()\n",
    "# ax.semilogy()\n",
    "# ax.semilogx()\n",
    "ax.set_title('Experimental assessment time\\n complexity Fleury\\'s algorithm')\n",
    "ax.set_xlabel('Number of edges [-]')\n",
    "ax.set_ylabel('Duration [s]')"
   ]
  },
  {
   "cell_type": "markdown",
   "metadata": {},
   "source": [
    "DISCUSS THE EMPIRICAL TIME COMPLEXITY HERE<br>"
   ]
  },
  {
   "cell_type": "markdown",
   "metadata": {},
   "source": [
    "The time complexity of an algorithm is commonly expressed using big O notation, which excludes coefficients and lower order terms. E.g., if the time required by an algorithm on all inputs of size $n$ is at most $5n^3 + 3n$ for any $n$, the asymptotic time complexity is $O(n^3)$. In addition, an algorithm with $t(n) = O(n)$ is called a linear time algorithm. (Wikipedia, https://en.wikipedia.org/wiki/Time_complexity) Hence, time complexity can be assessed by computing the slope of the data in the figure above. A linear time algorithm would result in a slope $\\approx 1$."
   ]
  },
  {
   "cell_type": "code",
   "execution_count": 220,
   "metadata": {
    "collapsed": false
   },
   "outputs": [
    {
     "data": {
      "text/plain": [
       "1.7476002519461835"
      ]
     },
     "execution_count": 220,
     "metadata": {},
     "output_type": "execute_result"
    }
   ],
   "source": [
    "(np.log10(duration.reshape((-1,1))[-1][0])-np.log10(duration.reshape((-1,1))[0][0]))\\\n",
    "/(np.log10(edge_numbers[-1])-np.log10(edge_numbers[0]))"
   ]
  },
  {
   "cell_type": "markdown",
   "metadata": {},
   "source": [
    "Since the slope is bigger than 1, this is a superlinear time algorithm.<br>\n",
    "This actually makes sence. The hint given is: \"detecting if an edge is a bridge is done with an average time complexity linear in the number of edges.\" Since checking whether an edge is a bridge has to be done for more than 1 edge, there is indeed some sort of product related to $n$ determining the number of calculations  needed (which is proportional to the time needed to find a solution). However, since edges are removed from the graph every iteration, it is not so that $n\\cdot n$ calculations are needed. For simplicity, suppose that every iteration it has to be checked whether an edge is a brigde (this will not happen so often in reality), then the number of calculations is proportional to $n+n-1+n-2+n-3\\dots +n-n+1$, wich is equal to $n^2-(2+3+\\dots +n)$. If for this expression, the time to find a solution is plotted vs. $n$, this will result in a slope of more than 1 but less than 2. This corresponds to the calculation of the slope above.<br>\n",
    "One remark has to be made. Since I included a lot of random choices in my implementation of Fleury's algorithm, this will have an effect on the calculation time, because sometimes the same edge will be chosen multiple times and the bridgedness will also be checked multiple times. However, I still expect the slope to be bigger than 1 if this randomness would be removed and every iteration, an iteration over the edges belonging to the vertex from where the path has to be continued would be made."
   ]
  },
  {
   "cell_type": "markdown",
   "metadata": {},
   "source": [
    "## Graph coloring using six colors\n",
    "\n",
    "Graph coloring is an optimization problem of assinging a color to each label using as few colors as possible such that no neighboring vertices have the same color.\n",
    "\n",
    "The four color theorem states that a planar graph can be colored using only four colors."
   ]
  },
  {
   "cell_type": "markdown",
   "metadata": {},
   "source": [
    "We will use six colors (though we rarely need more than five) to color a planar graph. For this, the algorithm is very simple:\n",
    "\n",
    "1. Color recursively with the six colors all vertices of degree five or more.\n",
    "2. Color the rest of the graph with a free color."
   ]
  },
  {
   "cell_type": "markdown",
   "metadata": {},
   "source": [
    "**ASSIGNMENT 2**\n",
    "\n",
    "1. Complete the graph coloring algorithm.\n",
    "2. What do you think the time complexity of this algorithm is going to be (based on reasoning).\n",
    "\n",
    "You can illustrate this algorithm on a Voronoi plot (a tesselation of a plane based on the distance to a set of points). Feel free to improve the graphics :-)"
   ]
  },
  {
   "cell_type": "code",
   "execution_count": 221,
   "metadata": {
    "collapsed": false
   },
   "outputs": [],
   "source": [
    "def graph_color(adj_list, colors=['k', 'r', 'b', 'g', 'y', 'm']):\n",
    "    \"\"\"\n",
    "    Provides one of six colors for each vertex in a planar graph\n",
    "    such that no neighboring vertices have the same color\n",
    "    \n",
    "    Inputs:\n",
    "        - adj_list: adjecency list of a planar graph\n",
    "        - colors: list of six colors (default those for matplotlib plotting)\n",
    "        \n",
    "    Output:\n",
    "        - vertices_colors: a dict with a color for each vertex\n",
    "    \"\"\"\n",
    "    vertices_colors ={}\n",
    "    low_degree_vertices=set({})#Already store vertices with lower degree than 5\n",
    "    for vertex in adj_list.keys():#Iterate over vertices\n",
    "        if len(adj_list[vertex])<5:\n",
    "            low_degree_vertices.add(vertex)\n",
    "        else:#If degree >=5, already assign color\n",
    "            i=0\n",
    "            searching=True\n",
    "            while searching:#Search until suitable color found.\n",
    "                color=colors[i]#Iterate over colors.\n",
    "                if len(vertices_colors)==0:#If nothing colored yet, any color is suitable.\n",
    "                    vertices_colors[vertex]=color\n",
    "                    break\n",
    "                #If arrived at last color, algorithm guarantees that this color is not yet used.\n",
    "                elif i==len(colors)-1:\n",
    "                    vertices_colors[vertex]=color\n",
    "                    break\n",
    "                #Else, check if chosen color already used by neighbour\n",
    "                for j,neighbour in enumerate(adj_list[vertex]):\n",
    "                    #If color used\n",
    "                    if neighbour in vertices_colors and color==vertices_colors[neighbour]:\n",
    "                        i+=1#Choose another color\n",
    "                        break#Restart control\n",
    "                    #If all neighbours checked and ok\n",
    "                    elif j==len(adj_list[vertex])-1:\n",
    "                        vertices_colors[vertex]=color#Assign this color to vertex\n",
    "                        searching=False#Stop searching\n",
    "    #Assign colors to vertices with degree order <5\n",
    "    for vertex in low_degree_vertices:\n",
    "        i=0\n",
    "        searching=True\n",
    "        while searching:\n",
    "            for j,neighbour in enumerate(adj_list[vertex]):\n",
    "                if neighbour in vertices_colors and colors[i]==vertices_colors[neighbour]:\n",
    "                    i+=1\n",
    "                    break\n",
    "                elif j==len(adj_list[vertex])-1:\n",
    "                    vertices_colors[vertex]=colors[i]\n",
    "                    searching=False\n",
    "    return vertices_colors"
   ]
  },
  {
   "cell_type": "code",
   "execution_count": 222,
   "metadata": {
    "collapsed": false
   },
   "outputs": [],
   "source": [
    "from graphs import get_planar_graph"
   ]
  },
  {
   "cell_type": "code",
   "execution_count": 223,
   "metadata": {
    "collapsed": false
   },
   "outputs": [],
   "source": [
    "X = np.random.randn(20, 2)  # random points for Voronoi tesselation\n",
    "planar_graph = get_planar_graph(X)"
   ]
  },
  {
   "cell_type": "code",
   "execution_count": 224,
   "metadata": {
    "collapsed": false
   },
   "outputs": [
    {
     "data": {
      "text/plain": [
       "{0: {3, 8, 11, 12, 15},\n",
       " 1: {2, 8, 10},\n",
       " 2: {1, 5, 6, 8, 10, 11},\n",
       " 3: {0, 8, 9, 12, 19},\n",
       " 4: {7, 8, 14, 16, 18, 19},\n",
       " 5: {2, 6, 10, 13},\n",
       " 6: {2, 5, 11, 13},\n",
       " 7: {4, 16, 17, 19},\n",
       " 8: {0, 1, 2, 3, 4, 9, 10, 11, 14, 18},\n",
       " 9: {3, 8, 14, 19},\n",
       " 10: {1, 2, 5, 8, 18},\n",
       " 11: {0, 2, 6, 8, 12, 13, 15},\n",
       " 12: {0, 3, 11, 13, 15, 17, 19},\n",
       " 13: {5, 6, 11, 12, 17},\n",
       " 14: {4, 8, 9, 19},\n",
       " 15: {0, 11, 12},\n",
       " 16: {4, 7, 18},\n",
       " 17: {7, 12, 13, 19},\n",
       " 18: {4, 8, 10, 16},\n",
       " 19: {3, 4, 7, 9, 12, 14, 17}}"
      ]
     },
     "execution_count": 224,
     "metadata": {},
     "output_type": "execute_result"
    }
   ],
   "source": [
    "planar_graph"
   ]
  },
  {
   "cell_type": "code",
   "execution_count": 225,
   "metadata": {
    "collapsed": false
   },
   "outputs": [
    {
     "data": {
      "text/plain": [
       "{0: 'k',\n",
       " 1: 'g',\n",
       " 2: 'k',\n",
       " 3: 'r',\n",
       " 4: 'k',\n",
       " 5: 'b',\n",
       " 6: 'g',\n",
       " 7: 'r',\n",
       " 8: 'b',\n",
       " 9: 'k',\n",
       " 10: 'r',\n",
       " 11: 'r',\n",
       " 12: 'b',\n",
       " 13: 'k',\n",
       " 14: 'r',\n",
       " 15: 'g',\n",
       " 16: 'b',\n",
       " 17: 'y',\n",
       " 18: 'g',\n",
       " 19: 'g'}"
      ]
     },
     "execution_count": 225,
     "metadata": {},
     "output_type": "execute_result"
    }
   ],
   "source": [
    "coloring = graph_color(planar_graph, colors=['k', 'r', 'b', 'g', 'y', 'm'])\n",
    "coloring"
   ]
  },
  {
   "cell_type": "code",
   "execution_count": 226,
   "metadata": {
    "collapsed": false
   },
   "outputs": [
    {
     "data": {
      "image/png": "[encoded data removed]",
      "text/plain": [
       "<matplotlib.figure.Figure at 0x1af53385390>"
      ]
     },
     "metadata": {},
     "output_type": "display_data"
    }
   ],
   "source": [
    "fig, ax = plt.subplots()\n",
    "\n",
    "vor = Voronoi(X)\n",
    "\n",
    "voronoi_plot_2d(vor, ax=ax, show_points=False, show_vertices=False)\n",
    "for i, c in coloring.items():\n",
    "    ax.scatter(X[i, 0], X[i, 1], c=c, s=50)"
   ]
  },
  {
   "cell_type": "markdown",
   "metadata": {},
   "source": [
    "Output: tesselation will be colored only by dot on each part."
   ]
  },
  {
   "cell_type": "markdown",
   "metadata": {},
   "source": [
    "# Answer to the question regarding the time complexity of the algorithm\n",
    "I choose the number of vertices as the size of the problem, $n$. Let's take large values of $n$, say 100 or 1000, or more. The number of calculations will be at least proportional to $n$. Let's take the worst case scenario for the number of calculations. I assume that 8 edges per vertex is a reasonable maximum number. Furthermore, for every edge of a vertex at most 6 colors have to be checked. Hence, for a worst case scenario, $n\\cdot8\\cdot6$ calculations are needed. Since $n$ was chosen large, this number is nowhere near $n^2$. Therefore I think that this algorithm has linear time complexity."
   ]
  },
  {
   "cell_type": "markdown",
   "metadata": {},
   "source": [
    "# Additional error controling part"
   ]
  },
  {
   "cell_type": "code",
   "execution_count": 227,
   "metadata": {
    "collapsed": true
   },
   "outputs": [],
   "source": [
    "def control_graph(adj_list):\n",
    "    colouring2=graph_color(adj_list, colors=['k', 'r', 'b', 'g', 'y', 'm'])\n",
    "    errors=0\n",
    "    for vertex in colouring2:\n",
    "        for neighbour in adj_list[vertex]:\n",
    "            if colouring2[vertex]==colouring2[neighbour]:\n",
    "                errors+=1\n",
    "    return errors"
   ]
  },
  {
   "cell_type": "code",
   "execution_count": 228,
   "metadata": {
    "collapsed": false
   },
   "outputs": [
    {
     "data": {
      "text/plain": [
       "0"
      ]
     },
     "execution_count": 228,
     "metadata": {},
     "output_type": "execute_result"
    }
   ],
   "source": [
    "errors_iteration=[]\n",
    "for i in range(10000):\n",
    "    X = np.random.randn(20, 2)  # random points for Voronoi tesselation\n",
    "    planar_graph = get_planar_graph(X)\n",
    "    errors_iteration.append(control_graph(planar_graph))\n",
    "np.sum(errors_iteration)"
   ]
  },
  {
   "cell_type": "code",
   "execution_count": null,
   "metadata": {
    "collapsed": true
   },
   "outputs": [],
   "source": []
  }
 ],
 "metadata": {
  "anaconda-cloud": {},
  "kernelspec": {
   "display_name": "Python [conda root]",
   "language": "python",
   "name": "conda-root-py"
  },
  "language_info": {
   "codemirror_mode": {
    "name": "ipython",
    "version": 3
   },
   "file_extension": ".py",
   "mimetype": "text/x-python",
   "name": "python",
   "nbconvert_exporter": "python",
   "pygments_lexer": "ipython3",
   "version": "3.5.2"
  }
 },
 "nbformat": 4,
 "nbformat_minor": 1
}
