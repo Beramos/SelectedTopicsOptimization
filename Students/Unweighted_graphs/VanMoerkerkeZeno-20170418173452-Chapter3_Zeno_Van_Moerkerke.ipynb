{
 "cells": [
  {
   "cell_type": "markdown",
   "metadata": {},
   "source": [
    "# Chapter 3: Undirected graphs"
   ]
  },
  {
   "cell_type": "markdown",
   "metadata": {},
   "source": [
    "*Selected Topics in Mathematical Optimization*\n",
    "\n",
    "*2016-2017*\n",
    "\n",
    "**Bernard De Baets**\n",
    "\n",
    "**Michiel Stock**\n",
    "\n",
    "**Raúl Pérez-Fernández**"
   ]
  },
  {
   "cell_type": "code",
   "execution_count": 1,
   "metadata": {
    "collapsed": true
   },
   "outputs": [],
   "source": [
    "import matplotlib.pyplot as plt\n",
    "import matplotlib.patches as patches\n",
    "from scipy.spatial import voronoi_plot_2d, Voronoi\n",
    "import numpy as np\n",
    "%matplotlib inline"
   ]
  },
  {
   "cell_type": "markdown",
   "metadata": {},
   "source": [
    "## Some essential data structures in python\n",
    "\n",
    "Using the correct datastructure is key to implementing an efficient graph algorithm. Below is a concise overview of some elementary python data structures.\n",
    "\n",
    "For more information on the time complexity of operations on these data structures, see [this](https://wiki.python.org/moin/TimeComplexity) link."
   ]
  },
  {
   "cell_type": "markdown",
   "metadata": {},
   "source": [
    "### Lists: ordered  collection of objects\n",
    "\n",
    "Lists store objects in sequential order. Adding and removing elements at the back is easy, inserting or removing elements elsewhere is computationally inefficient (memory has to be reshuffled)."
   ]
  },
  {
   "cell_type": "code",
   "execution_count": 2,
   "metadata": {
    "collapsed": true
   },
   "outputs": [],
   "source": [
    "my_list = [1, 2, 3, 4, 5]"
   ]
  },
  {
   "cell_type": "code",
   "execution_count": 3,
   "metadata": {
    "collapsed": false
   },
   "outputs": [
    {
     "data": {
      "text/plain": [
       "[1, 2, 3, 4, 5, 6]"
      ]
     },
     "execution_count": 3,
     "metadata": {},
     "output_type": "execute_result"
    }
   ],
   "source": [
    "my_list.append(6)  # add element at the back\n",
    "my_list"
   ]
  },
  {
   "cell_type": "code",
   "execution_count": 4,
   "metadata": {
    "collapsed": false
   },
   "outputs": [
    {
     "data": {
      "text/plain": [
       "6"
      ]
     },
     "execution_count": 4,
     "metadata": {},
     "output_type": "execute_result"
    }
   ],
   "source": [
    "my_list.pop()  # return last element"
   ]
  },
  {
   "cell_type": "code",
   "execution_count": 5,
   "metadata": {
    "collapsed": false
   },
   "outputs": [
    {
     "data": {
      "text/plain": [
       "[1, 2, 3, 4, 5]"
      ]
     },
     "execution_count": 5,
     "metadata": {},
     "output_type": "execute_result"
    }
   ],
   "source": [
    "my_list  # element is gone"
   ]
  },
  {
   "cell_type": "code",
   "execution_count": 6,
   "metadata": {
    "collapsed": false
   },
   "outputs": [
    {
     "data": {
      "text/plain": [
       "5"
      ]
     },
     "execution_count": 6,
     "metadata": {},
     "output_type": "execute_result"
    }
   ],
   "source": [
    "my_list[4]  # take element"
   ]
  },
  {
   "cell_type": "code",
   "execution_count": 7,
   "metadata": {
    "collapsed": false
   },
   "outputs": [
    {
     "data": {
      "text/plain": [
       "[1, 2, 3, 'three', 5]"
      ]
     },
     "execution_count": 7,
     "metadata": {},
     "output_type": "execute_result"
    }
   ],
   "source": [
    "my_list[3] = 'three'  # replace\n",
    "my_list"
   ]
  },
  {
   "cell_type": "code",
   "execution_count": 8,
   "metadata": {
    "collapsed": false
   },
   "outputs": [
    {
     "data": {
      "text/plain": [
       "[1, 4, 9, 16, 25, 36, 49, 64, 81, 100]"
      ]
     },
     "execution_count": 8,
     "metadata": {},
     "output_type": "execute_result"
    }
   ],
   "source": [
    "# for loops in lists\n",
    "squares = [x**2 for x in range(1, 11)]\n",
    "squares"
   ]
  },
  {
   "cell_type": "code",
   "execution_count": 9,
   "metadata": {
    "collapsed": false
   },
   "outputs": [
    {
     "data": {
      "text/plain": [
       "[1, 9, 25, 49, 81]"
      ]
     },
     "execution_count": 9,
     "metadata": {},
     "output_type": "execute_result"
    }
   ],
   "source": [
    "# a more complex example\n",
    "squares_odd = [x**2 for x in range(1, 11) if x%2==1]\n",
    "squares_odd"
   ]
  },
  {
   "cell_type": "markdown",
   "metadata": {},
   "source": [
    "### Sets: unordened collection of objects\n",
    "\n",
    "Sets have no ordening and cannot contain duplicates. It is very efficient (constant time compelxity) to check if an element is present and to add or remove an object."
   ]
  },
  {
   "cell_type": "code",
   "execution_count": 10,
   "metadata": {
    "collapsed": false
   },
   "outputs": [
    {
     "data": {
      "text/plain": [
       "{-1, 1, 2, 3, 4, 15}"
      ]
     },
     "execution_count": 10,
     "metadata": {},
     "output_type": "execute_result"
    }
   ],
   "source": [
    "numbers = set([1, 2, 15, -1, 4, 2, 3, 4])  # make set from list \n",
    "numbers  # no particular order or duplicates"
   ]
  },
  {
   "cell_type": "code",
   "execution_count": 11,
   "metadata": {
    "collapsed": false,
    "scrolled": true
   },
   "outputs": [
    {
     "data": {
      "text/plain": [
       "False"
      ]
     },
     "execution_count": 11,
     "metadata": {},
     "output_type": "execute_result"
    }
   ],
   "source": [
    "5 in numbers  # check if element is member"
   ]
  },
  {
   "cell_type": "code",
   "execution_count": 12,
   "metadata": {
    "collapsed": true
   },
   "outputs": [],
   "source": [
    "numbers.add(5)  # add element"
   ]
  },
  {
   "cell_type": "code",
   "execution_count": 13,
   "metadata": {
    "collapsed": false
   },
   "outputs": [
    {
     "data": {
      "text/plain": [
       "True"
      ]
     },
     "execution_count": 13,
     "metadata": {},
     "output_type": "execute_result"
    }
   ],
   "source": [
    "5 in numbers"
   ]
  },
  {
   "cell_type": "code",
   "execution_count": 14,
   "metadata": {
    "collapsed": false
   },
   "outputs": [
    {
     "data": {
      "text/plain": [
       "{-1, 2, 6, 8, 15}"
      ]
     },
     "execution_count": 14,
     "metadata": {},
     "output_type": "execute_result"
    }
   ],
   "source": [
    "# set operations on two sets\n",
    "new_numbers = set([2, 15, -1, 8, 6, 15])\n",
    "new_numbers"
   ]
  },
  {
   "cell_type": "code",
   "execution_count": 15,
   "metadata": {
    "collapsed": false
   },
   "outputs": [
    {
     "data": {
      "text/plain": [
       "{-1, 2, 15}"
      ]
     },
     "execution_count": 15,
     "metadata": {},
     "output_type": "execute_result"
    }
   ],
   "source": [
    "numbers & new_numbers  # intersection (AND)"
   ]
  },
  {
   "cell_type": "code",
   "execution_count": 16,
   "metadata": {
    "collapsed": false
   },
   "outputs": [
    {
     "data": {
      "text/plain": [
       "{-1, 1, 2, 3, 4, 5, 6, 8, 15}"
      ]
     },
     "execution_count": 16,
     "metadata": {},
     "output_type": "execute_result"
    }
   ],
   "source": [
    "numbers | new_numbers  # union (OR)"
   ]
  },
  {
   "cell_type": "code",
   "execution_count": 17,
   "metadata": {
    "collapsed": false
   },
   "outputs": [
    {
     "data": {
      "text/plain": [
       "{1, 3, 4, 5}"
      ]
     },
     "execution_count": 17,
     "metadata": {},
     "output_type": "execute_result"
    }
   ],
   "source": [
    "numbers - new_numbers  # set difference (in first but not in second)"
   ]
  },
  {
   "cell_type": "markdown",
   "metadata": {},
   "source": [
    "## Dictionary: key-value storage\n",
    "\n",
    "Dictionaries are the best of both lists and sets, they store values by a key"
   ]
  },
  {
   "cell_type": "code",
   "execution_count": 18,
   "metadata": {
    "collapsed": true
   },
   "outputs": [],
   "source": [
    "my_dict = {'A' : 1, 'B' : 'bee', 'C' : [1, 2, 3]}  # make dictionary"
   ]
  },
  {
   "cell_type": "code",
   "execution_count": 19,
   "metadata": {
    "collapsed": false
   },
   "outputs": [
    {
     "data": {
      "text/plain": [
       "'bee'"
      ]
     },
     "execution_count": 19,
     "metadata": {},
     "output_type": "execute_result"
    }
   ],
   "source": [
    "my_dict['B']  # get value associated by key"
   ]
  },
  {
   "cell_type": "code",
   "execution_count": 20,
   "metadata": {
    "collapsed": false
   },
   "outputs": [
    {
     "data": {
      "text/plain": [
       "{'A': 1, 'B': 'bee', 'C': [1, 2, 3], 'D': 'new value'}"
      ]
     },
     "execution_count": 20,
     "metadata": {},
     "output_type": "execute_result"
    }
   ],
   "source": [
    "my_dict['D'] = 'new value'  # add new key-value\n",
    "my_dict"
   ]
  },
  {
   "cell_type": "code",
   "execution_count": 21,
   "metadata": {
    "collapsed": false
   },
   "outputs": [
    {
     "data": {
      "text/plain": [
       "True"
      ]
     },
     "execution_count": 21,
     "metadata": {},
     "output_type": "execute_result"
    }
   ],
   "source": [
    "'A' in my_dict  # check if dict has key: similar to set, very efficient"
   ]
  },
  {
   "cell_type": "code",
   "execution_count": 22,
   "metadata": {
    "collapsed": false
   },
   "outputs": [
    {
     "name": "stdout",
     "output_type": "stream",
     "text": [
      "C [1, 2, 3]\n",
      "B bee\n",
      "D new value\n",
      "A 1\n"
     ]
    }
   ],
   "source": [
    "for k, v in my_dict.items():  # iterate over values\n",
    "    print(k, v)"
   ]
  },
  {
   "cell_type": "code",
   "execution_count": 23,
   "metadata": {
    "collapsed": false,
    "scrolled": true
   },
   "outputs": [
    {
     "name": "stdout",
     "output_type": "stream",
     "text": [
      "C\n",
      "B\n",
      "D\n",
      "A\n"
     ]
    }
   ],
   "source": [
    "for k in my_dict.keys():  # iterate over keys\n",
    "    print(k)"
   ]
  },
  {
   "cell_type": "code",
   "execution_count": 24,
   "metadata": {
    "collapsed": false
   },
   "outputs": [
    {
     "name": "stdout",
     "output_type": "stream",
     "text": [
      "[1, 2, 3]\n",
      "bee\n",
      "new value\n",
      "1\n"
     ]
    }
   ],
   "source": [
    "for v in my_dict.values():  # iterate over values\n",
    "    print(v)"
   ]
  },
  {
   "cell_type": "markdown",
   "metadata": {},
   "source": [
    "## Representing graphs in python\n",
    "\n",
    "Consider the following example graph:"
   ]
  },
  {
   "cell_type": "markdown",
   "metadata": {},
   "source": [
    "Typically, graphs are represented as:\n",
    "- **list of edges**: a set of edges (tuples of vertices) we use sets as there is no order in the edges. THis is the prefered format to *store* graphs.\n",
    "- **adjacency lists**: in python implemented as dictionaries. Each vertex is a key and the associated value is a set of neighboring edges (for undirected graphs every outgoing edge should be balanced by an ingoing edge).\n",
    "- **adjacenty matrices**: matrix of which the elements store the edges. Is only used for dense graphs."
   ]
  },
  {
   "cell_type": "markdown",
   "metadata": {},
   "source": [
    "Example of the theory:\n",
    "\n",
    "![](Figures/undir_graph.png)"
   ]
  },
  {
   "cell_type": "code",
   "execution_count": 2,
   "metadata": {
    "collapsed": true
   },
   "outputs": [],
   "source": [
    "edges = set([('A', 'B'), ('B', 'C'), ('C', 'D'), ('A', 'D'), ('C', 'E'), ('D', 'E')])"
   ]
  },
  {
   "cell_type": "code",
   "execution_count": 3,
   "metadata": {
    "collapsed": false
   },
   "outputs": [],
   "source": [
    "from graphs import edges_to_adj_list"
   ]
  },
  {
   "cell_type": "code",
   "execution_count": 27,
   "metadata": {
    "collapsed": false
   },
   "outputs": [
    {
     "data": {
      "text/plain": [
       "{'A': {'B', 'D'},\n",
       " 'B': {'A', 'C'},\n",
       " 'C': {'B', 'D', 'E'},\n",
       " 'D': {'A', 'C', 'E'},\n",
       " 'E': {'C', 'D'}}"
      ]
     },
     "execution_count": 27,
     "metadata": {},
     "output_type": "execute_result"
    }
   ],
   "source": [
    "adj_list = edges_to_adj_list(edges)\n",
    "adj_list"
   ]
  },
  {
   "cell_type": "markdown",
   "metadata": {},
   "source": [
    "Some basic graph algorithms are implemented:\n",
    "- `give_connected_component`: gives the connected component for a vertex\n",
    "- `is_connected`: checks if a graph is connected (every edge can be reached from every other edge)\n",
    "- `has_path`: checks if there exists a path between two vertices\n",
    "- `is_bridge`: checks if an edge is a bridge (i.e. removing it makes the graph disconnected"
   ]
  },
  {
   "cell_type": "markdown",
   "metadata": {},
   "source": [
    "Run the examples and check the result"
   ]
  },
  {
   "cell_type": "code",
   "execution_count": 4,
   "metadata": {
    "collapsed": true
   },
   "outputs": [],
   "source": [
    "from graphs import give_connected_component, is_connected, is_bridge, has_path"
   ]
  },
  {
   "cell_type": "code",
   "execution_count": 29,
   "metadata": {
    "collapsed": true
   },
   "outputs": [],
   "source": [
    "example1_edges = set([('A', 'B'), ('A', 'C'), ('B', 'C'), ('D', 'C'), ('D', 'E'),\n",
    "                     ('E', 'F'), ('F', 'G'), ('G', 'E'), ('D', 'F'),('C','F')\n",
    "                     ])\n",
    "example2_edges = set([('A', 'B'), ('A', 'C'), ('B', 'C'), ('D', 'E'),\n",
    "                     ('D', 'G'), ('F', 'G'), ('G', 'E'), ('D', 'F')\n",
    "                     ])"
   ]
  },
  {
   "cell_type": "code",
   "execution_count": 30,
   "metadata": {
    "collapsed": true
   },
   "outputs": [],
   "source": [
    "example1_adj_list = edges_to_adj_list(example1_edges)\n",
    "example2_adj_list = edges_to_adj_list(example2_edges)"
   ]
  },
  {
   "cell_type": "code",
   "execution_count": 31,
   "metadata": {
    "collapsed": false
   },
   "outputs": [
    {
     "data": {
      "text/plain": [
       "{'A': {'B', 'C'},\n",
       " 'B': {'A', 'C'},\n",
       " 'C': {'A', 'B', 'D', 'F'},\n",
       " 'D': {'C', 'E', 'F'},\n",
       " 'E': {'D', 'F', 'G'},\n",
       " 'F': {'C', 'D', 'E', 'G'},\n",
       " 'G': {'E', 'F'}}"
      ]
     },
     "execution_count": 31,
     "metadata": {},
     "output_type": "execute_result"
    }
   ],
   "source": [
    "example1_adj_list"
   ]
  },
  {
   "cell_type": "code",
   "execution_count": 32,
   "metadata": {
    "collapsed": false
   },
   "outputs": [
    {
     "data": {
      "text/plain": [
       "{'A', 'B', 'C', 'D', 'E', 'F', 'G'}"
      ]
     },
     "execution_count": 32,
     "metadata": {},
     "output_type": "execute_result"
    }
   ],
   "source": [
    "give_connected_component(example1_adj_list, 'A')"
   ]
  },
  {
   "cell_type": "code",
   "execution_count": 33,
   "metadata": {
    "collapsed": false
   },
   "outputs": [
    {
     "data": {
      "text/plain": [
       "{'A', 'B', 'C'}"
      ]
     },
     "execution_count": 33,
     "metadata": {},
     "output_type": "execute_result"
    }
   ],
   "source": [
    "give_connected_component(example2_adj_list, 'A')"
   ]
  },
  {
   "cell_type": "code",
   "execution_count": 34,
   "metadata": {
    "collapsed": false
   },
   "outputs": [
    {
     "data": {
      "text/plain": [
       "True"
      ]
     },
     "execution_count": 34,
     "metadata": {},
     "output_type": "execute_result"
    }
   ],
   "source": [
    "is_connected(example1_adj_list)"
   ]
  },
  {
   "cell_type": "code",
   "execution_count": 35,
   "metadata": {
    "collapsed": false,
    "scrolled": true
   },
   "outputs": [
    {
     "data": {
      "text/plain": [
       "False"
      ]
     },
     "execution_count": 35,
     "metadata": {},
     "output_type": "execute_result"
    }
   ],
   "source": [
    "is_connected(example2_adj_list)"
   ]
  },
  {
   "cell_type": "code",
   "execution_count": 36,
   "metadata": {
    "collapsed": false,
    "scrolled": false
   },
   "outputs": [
    {
     "data": {
      "text/plain": [
       "False"
      ]
     },
     "execution_count": 36,
     "metadata": {},
     "output_type": "execute_result"
    }
   ],
   "source": [
    "is_bridge(example1_adj_list, ('A', 'B'))"
   ]
  },
  {
   "cell_type": "code",
   "execution_count": 37,
   "metadata": {
    "collapsed": false,
    "scrolled": true
   },
   "outputs": [
    {
     "data": {
      "text/plain": [
       "False"
      ]
     },
     "execution_count": 37,
     "metadata": {},
     "output_type": "execute_result"
    }
   ],
   "source": [
    "is_bridge(example1_adj_list, ('C', 'D'))"
   ]
  },
  {
   "cell_type": "code",
   "execution_count": 38,
   "metadata": {
    "collapsed": false
   },
   "outputs": [
    {
     "data": {
      "text/plain": [
       "{'A': {'B', 'C'},\n",
       " 'B': {'A', 'C'},\n",
       " 'C': {'A', 'B', 'D', 'F'},\n",
       " 'D': {'C', 'E', 'F'},\n",
       " 'E': {'D', 'F', 'G'},\n",
       " 'F': {'C', 'D', 'E', 'G'},\n",
       " 'G': {'E', 'F'}}"
      ]
     },
     "execution_count": 38,
     "metadata": {},
     "output_type": "execute_result"
    }
   ],
   "source": [
    "example1_adj_list"
   ]
  },
  {
   "cell_type": "code",
   "execution_count": 39,
   "metadata": {
    "collapsed": false,
    "scrolled": true
   },
   "outputs": [
    {
     "data": {
      "text/plain": [
       "True"
      ]
     },
     "execution_count": 39,
     "metadata": {},
     "output_type": "execute_result"
    }
   ],
   "source": [
    "has_path(example2_adj_list, 'A', 'C')"
   ]
  },
  {
   "cell_type": "code",
   "execution_count": 40,
   "metadata": {
    "collapsed": false
   },
   "outputs": [
    {
     "data": {
      "text/plain": [
       "False"
      ]
     },
     "execution_count": 40,
     "metadata": {},
     "output_type": "execute_result"
    }
   ],
   "source": [
    "has_path(example2_adj_list, 'A', 'F')"
   ]
  },
  {
   "cell_type": "markdown",
   "metadata": {},
   "source": [
    "## Fleury's algorithm\n",
    "\n",
    "Fleury's algorithm is a simple (though inefficient algorithm to find an Eulerian trail (i.e. a walk on the graph that passes all the edges)."
   ]
  },
  {
   "cell_type": "markdown",
   "metadata": {},
   "source": [
    "It can be shown that a graph has an Eulerian trail if and only if it is connected and it it has exactly zero or two edges with an odd degree."
   ]
  },
  {
   "cell_type": "markdown",
   "metadata": {},
   "source": [
    "Fleury's algorithm is executed as follows:\n",
    "1. Start at a vertex of odd degree, or, if the graph has none, start with an arbitrarily chosen vertex.\n",
    "2. Chooses the next edge in the path to be one whose deletion would not disconnect the graph (i.e. is not a bridge), unless there is no such edge, in which case pick the remaining edge left at the current vertex.\n",
    "3. Add the edge to the path and remove the edge from the graph.\n",
    "4. Repeat steps 2-3 until no more edges are left."
   ]
  },
  {
   "cell_type": "markdown",
   "metadata": {},
   "source": [
    "**ASSIGNMENT 1**\n",
    "\n",
    "1. Complete the code of fleury's algorithm. The algorithm first checks if an Eulerian path exists (and returns None if not) and returns the path as a list. Use the given function `is_bridge` to check if an edge is a bridge or not.\n",
    "2. Study the time complexity of the algorithm. For this you have 25 graphs at your disposal. These graphs are stored in json format in the form `eulerianxxx.json` with '`xxx`' the number of edges. The function `load_graph` can read this data file (see example). For each file, measure the time to find the Eulerian path and make a graph (in log-log scale) of the time vs. the number of edges. Comment on the relation (linear time complexity, super/sublinear?) Does this make sense? HINT: detecting if an edge is a bridge is done with an average time complexity linear in the number of edges."
   ]
  },
  {
   "cell_type": "code",
   "execution_count": 5,
   "metadata": {
    "collapsed": false
   },
   "outputs": [],
   "source": [
    "def fleury_algorithm(adj_list):\n",
    "    \"\"\"\n",
    "    Fleury's algorithm for finding an Eulerian path (if one exists)\n",
    "    \n",
    "    First it checks if the path exists, if it exists, it returns a list of\n",
    "    the nodes that are visisted in an Eulerian path\n",
    "    \n",
    "    Inputs:\n",
    "        - adj_list\n",
    "        \n",
    "    Outputs:\n",
    "        - path\n",
    "    \"\"\"\n",
    "    adj_list = {k : v.copy() for k, v in adj_list.items()}  # make a copy\n",
    "    # check if Eulerian path exists\n",
    "    # for loop calculates the amount of vertices with odd edges, the amount of total nodes and also stores the keys of the\n",
    "    # vertices with odd edges\n",
    "    \n",
    "    i = 0\n",
    "    odds = []\n",
    "    nodesN = 0\n",
    "    for v,k in adj_list.items():\n",
    "        nodesN += len(k)\n",
    "        if len(k)%2 != 0:\n",
    "            odds.append(v)\n",
    "            i += 1\n",
    "    nodesN /=2        \n",
    "    path = []\n",
    "    \n",
    "    # if not, return None\n",
    "    if i != 0 and i !=2:\n",
    "        return(None)\n",
    "  \n",
    "    # else, compute the path and return it\n",
    "    else:\n",
    "        \n",
    "        #either use an arbitrary starting point or one of the two odd starting points\n",
    "        if not odds:\n",
    "            vert = list(adj_list.keys()).pop()\n",
    "        else:\n",
    "            vert = odds.pop()\n",
    "        path.append(vert)   \n",
    "        \n",
    "        #while not all nodes have been done..    \n",
    "        while nodesN !=0:\n",
    "            nodes = []\n",
    "            nodes = adj_list[vert].copy()\n",
    "            nonbridges = []\n",
    "            \n",
    "            #check which nodes are not bridges\n",
    "            for n in nodes:\n",
    "                if not is_bridge(adj_list,(vert,n)):\n",
    "                    nonbridges.append(n)\n",
    "            \n",
    "            #select a random non-bridge\n",
    "            if nonbridges:\n",
    "                nieuweStap = nonbridges.pop()\n",
    "            \n",
    "            #or select a random bridge if there are only bridges\n",
    "            else:\n",
    "                nieuweStap = nodes.pop()\n",
    "            \n",
    "            #remove nodes that are done\n",
    "            adj_list[vert].remove(nieuweStap)\n",
    "            adj_list[nieuweStap].remove(vert)\n",
    "            \n",
    "            #append new node to the path\n",
    "            path.append(nieuweStap)\n",
    "            \n",
    "            #prepare for next iteration: update current node and update counter\n",
    "            vert = nieuweStap\n",
    "            nodesN -= 1\n",
    "            \n",
    "        \n",
    "        return(path)"
   ]
  },
  {
   "cell_type": "code",
   "execution_count": 6,
   "metadata": {
    "collapsed": true
   },
   "outputs": [],
   "source": [
    "from graphs import load_graph"
   ]
  },
  {
   "cell_type": "code",
   "execution_count": 7,
   "metadata": {
    "collapsed": false
   },
   "outputs": [],
   "source": [
    "# example on how to load the graph\n",
    "adj_loaded = load_graph('Data_Eulerian/eulerian74.json')"
   ]
  },
  {
   "cell_type": "code",
   "execution_count": 8,
   "metadata": {
    "collapsed": false
   },
   "outputs": [],
   "source": [
    "fleury_algorithm(adj_loaded);"
   ]
  },
  {
   "cell_type": "code",
   "execution_count": 9,
   "metadata": {
    "collapsed": false
   },
   "outputs": [],
   "source": [
    "# use this cell to measure the time to find the Eulerian path for each graph\n",
    "import time\n",
    "numbers = [14, 26, 46, 74, 110, 154, 206, 266, 334, 410, 494, 586, 686, 794, 910, 1034, 1166, 1306, 1454, 1610, 1774, 1946, 2126, 2314, 2510]\n",
    "elapsedTime = []\n",
    "for n in numbers:\n",
    "    adj_loaded = load_graph('Data_Eulerian/eulerian'+str(n)+'.json')\n",
    "    t= time.process_time()\n",
    "    fleury_algorithm(adj_loaded)\n",
    "    elapsedTime.append(time.process_time()-t)"
   ]
  },
  {
   "cell_type": "code",
   "execution_count": 10,
   "metadata": {
    "collapsed": false
   },
   "outputs": [
    {
     "data": {
      "text/plain": [
       "[<matplotlib.lines.Line2D at 0xb4350df0b8>]"
      ]
     },
     "execution_count": 10,
     "metadata": {},
     "output_type": "execute_result"
    },
    {
     "data": {
      "image/png": "[encoded data removed]",
      "text/plain": [
       "<matplotlib.figure.Figure at 0xb432a95630>"
      ]
     },
     "metadata": {},
     "output_type": "display_data"
    }
   ],
   "source": [
    "# use this cell to plot the time as a function of the number of edges (log-log scale)\n",
    "fig,ax = plt.subplots()\n",
    "ax.loglog()\n",
    "ax.axis([100, numbers[-1]+100, 0.01, elapsedTime[-1]+10])\n",
    "ax.set_xlabel('Number of edges')\n",
    "ax.set_ylabel('Time (s)')\n",
    "ax.plot(numbers,elapsedTime)"
   ]
  },
  {
   "cell_type": "markdown",
   "metadata": {},
   "source": [
    "De curve in log-log schaal lijkt iets sneller dan lineair te schalen. Dit is logisch: de lineaire schaling komt omdat het aantal paden dat moet ingeslagen worden gelijk is aan het aantal edges. De rekentijd gaat echter iets sneller dan dit aantal paden de lucht in, en dat is door het aantal edges waaruit gekozen moet worden. In de grafen met meer edges, zal elke node ook gemiddeld meer edges hebben waaraan deze geconnecteerd is. De loop die voor elk pad checkt of het een brug is, zal dus ook langer duren."
   ]
  },
  {
   "cell_type": "markdown",
   "metadata": {},
   "source": [
    "## Graph coloring using six colors\n",
    "\n",
    "Graph coloring is an optimization problem of assinging a color to each label using as few colors as possible such that no neighboring vertices have the same color.\n",
    "\n",
    "The four color theorem states that a planar graph can be colored using only four colors."
   ]
  },
  {
   "cell_type": "markdown",
   "metadata": {},
   "source": [
    "We will use six colors (though we rarely need more than five) to color a planar graph. For this, the algorithm is very simple:\n",
    "\n",
    "1. Color recursively with the six colors all vertices of degree five or more.\n",
    "2. Color the rest of the graph with a free color."
   ]
  },
  {
   "cell_type": "markdown",
   "metadata": {},
   "source": [
    "**ASSIGNMENT 2**\n",
    "\n",
    "1. Complete the graph coloring algorithm.\n",
    "2. What do you think the time complexity of this algorithm is going to be (based on reasoning).\n",
    "\n",
    "You can illustrate this algorithm on a Voronoi plot (a tesselation of a plane based on the distance to a set of points). Feel free to improve the graphics :-)"
   ]
  },
  {
   "cell_type": "code",
   "execution_count": 386,
   "metadata": {
    "collapsed": false
   },
   "outputs": [],
   "source": [
    "def graph_color(adj_list, colors=['k', 'r', 'b', 'g', 'y', 'm']):\n",
    "    \"\"\"\n",
    "    Provides one of six colors for each vertex in a planar graph\n",
    "    such that no neighboring vertices have the same color\n",
    "    \n",
    "    Inputs:\n",
    "        - adj_list: adjecency list of a planar graph\n",
    "        - colors: list of six colors (default those for matplotlib plotting)\n",
    "        \n",
    "    Output:\n",
    "        - vertices_colors: a dict with a color for each vertex\n",
    "    \"\"\"    \n",
    "    \n",
    "    adj_list = {k : v.copy() for k, v in adj_list.items()}\n",
    "    vertices_colors = {k : set() for k,v in adj_list.items()}\n",
    "    others = []\n",
    "    \n",
    "    for vert,k in adj_list.items():\n",
    "        if len(k) > 4:\n",
    "            correctColors = set(colors)\n",
    "            for v in k:\n",
    "                correctColors -= vertices_colors[v]\n",
    "            vertices_colors[vert] = set(list(correctColors)[0])\n",
    "        else:\n",
    "            others.append(vert)\n",
    "            \n",
    "    for vert in others:\n",
    "        correctColors = set(colors)\n",
    "        for v in adj_list[vert]:\n",
    "            correctColors -= vertices_colors[v]\n",
    "        vertices_colors[vert] = set([correctColors.pop()])   \n",
    "    \n",
    "    vertices_colors = {k: list(v) for k, v in vertices_colors.items()}\n",
    "    return vertices_colors"
   ]
  },
  {
   "cell_type": "code",
   "execution_count": 373,
   "metadata": {
    "collapsed": true
   },
   "outputs": [],
   "source": [
    "colors=['k', 'r', 'b', 'g', 'y', 'm']"
   ]
  },
  {
   "cell_type": "code",
   "execution_count": 376,
   "metadata": {
    "collapsed": false
   },
   "outputs": [
    {
     "data": {
      "text/plain": [
       "'k'"
      ]
     },
     "execution_count": 376,
     "metadata": {},
     "output_type": "execute_result"
    }
   ],
   "source": [
    "colors[min([colors.index(i) for i in list(correctColors)])]"
   ]
  },
  {
   "cell_type": "code",
   "execution_count": 350,
   "metadata": {
    "collapsed": false
   },
   "outputs": [],
   "source": [
    "from graphs import get_planar_graph"
   ]
  },
  {
   "cell_type": "code",
   "execution_count": 388,
   "metadata": {
    "collapsed": false
   },
   "outputs": [
    {
     "data": {
      "text/plain": [
       "{0: {2, 4, 6, 7, 10, 16},\n",
       " 1: {3, 7, 9, 12, 13, 15, 18},\n",
       " 2: {0, 5, 7, 10, 18, 19},\n",
       " 3: {1, 8, 12, 15, 17},\n",
       " 4: {0, 6, 13, 15, 16},\n",
       " 5: {2, 18, 19},\n",
       " 6: {0, 4, 7, 13},\n",
       " 7: {0, 1, 2, 6, 13, 18},\n",
       " 8: {3, 10, 16, 17},\n",
       " 9: {1, 11, 12, 18},\n",
       " 10: {0, 2, 8, 11, 14, 16, 19},\n",
       " 11: {9, 10, 14, 18, 19},\n",
       " 12: {1, 3, 9},\n",
       " 13: {1, 4, 6, 7, 15},\n",
       " 14: {10, 11, 19},\n",
       " 15: {1, 3, 4, 13, 16, 17},\n",
       " 16: {0, 4, 8, 10, 15, 17},\n",
       " 17: {3, 8, 15, 16},\n",
       " 18: {1, 2, 5, 7, 9, 11, 19},\n",
       " 19: {2, 5, 10, 11, 14, 18}}"
      ]
     },
     "execution_count": 388,
     "metadata": {},
     "output_type": "execute_result"
    }
   ],
   "source": [
    "X = np.random.randn(20, 2)  # random points for Voronoi tesselation\n",
    "planar_graph = get_planar_graph(X)\n",
    "planar_graph"
   ]
  },
  {
   "cell_type": "code",
   "execution_count": 389,
   "metadata": {
    "collapsed": false
   },
   "outputs": [
    {
     "data": {
      "text/plain": [
       "{0: ['y'],\n",
       " 1: ['y'],\n",
       " 2: ['r'],\n",
       " 3: ['r'],\n",
       " 4: ['r'],\n",
       " 5: ['y'],\n",
       " 6: ['b'],\n",
       " 7: ['k'],\n",
       " 8: ['y'],\n",
       " 9: ['r'],\n",
       " 10: ['k'],\n",
       " 11: ['y'],\n",
       " 12: ['k'],\n",
       " 13: ['g'],\n",
       " 14: ['r'],\n",
       " 15: ['k'],\n",
       " 16: ['g'],\n",
       " 17: ['b'],\n",
       " 18: ['g'],\n",
       " 19: ['b']}"
      ]
     },
     "execution_count": 389,
     "metadata": {},
     "output_type": "execute_result"
    }
   ],
   "source": [
    "coloring = graph_color(planar_graph, colors=['k', 'r', 'b', 'g', 'y', 'm'])\n",
    "coloring"
   ]
  },
  {
   "cell_type": "code",
   "execution_count": 383,
   "metadata": {
    "collapsed": false
   },
   "outputs": [
    {
     "data": {
      "image/png": "[encoded data removed]",
      "text/plain": [
       "<matplotlib.figure.Figure at 0x8266613b00>"
      ]
     },
     "metadata": {},
     "output_type": "display_data"
    }
   ],
   "source": [
    "fig, ax = plt.subplots()\n",
    "\n",
    "vor = Voronoi(X)\n",
    "\n",
    "voronoi_plot_2d(vor, ax=ax, show_points=False, show_vertices=False)\n",
    "for i, c in coloring.items():\n",
    "    ax.scatter(X[i, 0], X[i, 1], c=c, s=50)"
   ]
  },
  {
   "cell_type": "markdown",
   "metadata": {},
   "source": [
    "Time complexity: vermoedelijk (en bevestigd door enkele snelle testen met %timeit) zal de tijd complexiteit hier lineair zijn. De loop die gedaan wordt, wordt gewoon langer naar gelang er meer punten zijn om te overlopen. Voor de rest zal het gemiddelde aantal buren ook wat naar boven gaan naar alle waarschijnlijkheid, dus dit kan zorgen voor een (kleine) afwijking van de lineariteit."
   ]
  }
 ],
 "metadata": {
  "anaconda-cloud": {},
  "kernelspec": {
   "display_name": "Python [conda root]",
   "language": "python",
   "name": "conda-root-py"
  },
  "language_info": {
   "codemirror_mode": {
    "name": "ipython",
    "version": 3
   },
   "file_extension": ".py",
   "mimetype": "text/x-python",
   "name": "python",
   "nbconvert_exporter": "python",
   "pygments_lexer": "ipython3",
   "version": "3.5.2"
  }
 },
 "nbformat": 4,
 "nbformat_minor": 1
}
