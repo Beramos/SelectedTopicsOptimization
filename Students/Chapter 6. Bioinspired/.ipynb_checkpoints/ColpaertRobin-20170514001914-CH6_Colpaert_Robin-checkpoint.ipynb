{
 "cells": [
  {
   "cell_type": "markdown",
   "metadata": {},
   "source": [
    "# Chapter 6: Bio-inspired optimization\n",
    "\n",
    "*Selected Topics in Mathematical Optimization*\n",
    "\n",
    "*2016-2017*\n",
    "\n",
    "**Bernard De Baets**\n",
    "\n",
    "**Michiel Stock**\n",
    "\n",
    "**Raúl Pérez-Fernández**"
   ]
  },
  {
   "cell_type": "markdown",
   "metadata": {},
   "source": [
    "![Yes, this is how it works...](Figures/evolve_alg.gif)"
   ]
  },
  {
   "cell_type": "code",
   "execution_count": 193,
   "metadata": {
    "collapsed": true
   },
   "outputs": [],
   "source": [
    "from random import random, choice, shuffle\n",
    "import numpy as np\n",
    "import matplotlib.pyplot as plt\n",
    "from ipywidgets import interact, FloatSlider\n",
    "%matplotlib inline"
   ]
  },
  {
   "cell_type": "markdown",
   "metadata": {},
   "source": [
    "## Introduction and general idea\n",
    "\n",
    "The open (or obsessive) mind can find optimization everywhere in the world around him. Ants find the optimal paths from food to their nest, rivers stream to maximize their water flow, plants maximize the amount of sunlight captured with their leafs and many of the laws of physics can be formulated as a minimization of energy. Bio-inspired optimization, or bio-inspired computing in general, borrows ideas from nature to solve complex problems. A central theme among these paradigms is that they use simple, local manipulations from which the general computation is an emergent property. Many also make use of a **population** of candidate solutions which is improved iteratively.\n",
    "\n",
    "Bio-inspired optimization algorithms (BIOAs) are often applied for more complex problems discussed so far. Many real-word problems are often over-or underconstrained, lack detailed information about the target function (e.g. no gradient can be computed) or deal with complex 'structured data'. Examples of such problems which (bio)engineers routinely deal with include designing an antenna, callibrating a forest fire model or create a new functional peptide (topic of this project).\n",
    "\n",
    "Contrary to most of the algorithms discussed so far, BIOAs often lack theoretical guarantees, both on their running time and on the quality of the solution. It is not uncommon to let such algorithms run for days or weeks. Since these algorithms do not exploit the structure or the gradient of the target function, only function evalutions are used. This is especially costly when evaluating the target function is expensive, for example when determining the parameters of a large set of ordinary differential equations. Furthermore, most bio-inspired optimization algorithms have some hyperparameters which must be tuned to the problem, otherwise the optimization might run badly.\n",
    "\n",
    "Despite these drawbacks, BIOAs also have many merits. Because they are very flexible, they can be applied to almost any optimization problem. For some problem classes (such as NP-hard problems), there are no efficient exact solvers, making for example the traveling salesman problem unsolvable for moderately large instances using standard techniques. BIOAs on the other hand can often generate reasonable solutions quite quickly. Furthermore, BIOAs work **progressive**, meaning that intermediate solutions can be obtained at any time. Hence, even if the optimization process is prematurely aborted, we still have some result to show for our effort."
   ]
  },
  {
   "cell_type": "markdown",
   "metadata": {},
   "source": [
    "BIOA come in [many flavors](https://arxiv.org/pdf/1307.4186.pdf), which is one of the reasons why some of researchers dislike them. An important class of algorithms try to mimic swarm intelligence, for example how ants find their way in their surroundings is implemented in ant colony optimization. In this project we will work with genetic algorithms (GAs), which are based on the most succesful optimization algorithm in nature: evolution. GAs use *in silico* evolution to obtain iteratively better solutions for a problem. Most GAs are based on the following four concepts:\n",
    "- **maintenance of a population**\n",
    "- **creation of diversity**\n",
    "- **a natural selection**\n",
    "- **genetic enheritance**"
   ]
  },
  {
   "cell_type": "markdown",
   "metadata": {},
   "source": [
    "![](Figures/GAconcept.png)"
   ]
  },
  {
   "cell_type": "markdown",
   "metadata": {},
   "source": [
    "## Genetic representation"
   ]
  },
  {
   "cell_type": "markdown",
   "metadata": {},
   "source": [
    "![Genotype, phenotype and fitness.](Figures/encoding.png)"
   ]
  },
  {
   "cell_type": "markdown",
   "metadata": {},
   "source": [
    "**genotype**: reprentation of a candidate solution on which the genetic algorithm will operate\n",
    "\n",
    "- often discrete representation (e.g. binary encoding of numbers)\n",
    "- ideally covers the space of optimal solutions (prior knowledge)\n",
    "- recombination should have high probability of generating increasingly better individuals"
   ]
  },
  {
   "cell_type": "markdown",
   "metadata": {},
   "source": [
    "**phenotype**: the candidate solution in a representation of the problem\n",
    "\n",
    "- **decoding**: translating genotype into phenotype\n",
    "- **encoding**: translating the phenotype in genotype\n",
    "\n",
    "Since the genetic operators of the GA only work on the genotype, only decoding has to be defined."
   ]
  },
  {
   "cell_type": "markdown",
   "metadata": {},
   "source": [
    "**fitness**: the quality of the solution, will be used to select individuals for the next generation"
   ]
  },
  {
   "cell_type": "markdown",
   "metadata": {},
   "source": [
    "## Selection and reproduction\n",
    "\n",
    "**Selection** is the procedure such that individuals with a higher fitness are more likelily to go to the next generation.\n",
    "\n",
    "Usually the population size is fixed. individuals with high fitness are likely to be selected multiple times, those with low fitness might not be selected."
   ]
  },
  {
   "cell_type": "markdown",
   "metadata": {},
   "source": [
    "**Roulette wheel selection**\n",
    "\n",
    "![Roulette wheel selection chooses individuals proportional to their fitness.](Figures/roulettewheel.png)\n",
    "\n",
    "A new population of $n$ individuals is chosen by chosing individuals proportional to their fitness:\n",
    "\n",
    "$$\n",
    "p(i) = \\frac{f(i)}{\\sum_{j=1}^nf(j)}\\,,\n",
    "$$\n",
    "with $p(i)$ the probability of choosing individual $i$ and $f(i)$ the fitness of individual $i$.\n",
    "\n",
    "Drawbacks:\n",
    "- only when fitness is positive\n",
    "- selection process dependent on (nonlinear) scaling of fitness"
   ]
  },
  {
   "cell_type": "markdown",
   "metadata": {},
   "source": [
    "**Tournament selection**\n",
    "\n",
    "Randomly choose two individuals, retain the individual with the highest fitness for the population of the next generation (pick one at random if fitness is equal). Repeat as many times as there are individuals in the population."
   ]
  },
  {
   "cell_type": "markdown",
   "metadata": {},
   "source": [
    "Below is an illustration of the two types of selection."
   ]
  },
  {
   "cell_type": "code",
   "execution_count": null,
   "metadata": {
    "collapsed": false
   },
   "outputs": [],
   "source": [
    "# generate random initial population\n",
    "population_fitness = [np.random.randn()**2 for _ in range(1000)]"
   ]
  },
  {
   "cell_type": "code",
   "execution_count": null,
   "metadata": {
    "collapsed": true
   },
   "outputs": [],
   "source": [
    "# roulette wheel selection\n",
    "population_fitness_roulette = []\n",
    "finess_sum = np.sum(population_fitness)\n",
    "while len(population_fitness_roulette) < len(population_fitness):\n",
    "    fitness = choice(population_fitness)\n",
    "    if fitness / finess_sum > random():\n",
    "        population_fitness_roulette.append(fitness)"
   ]
  },
  {
   "cell_type": "code",
   "execution_count": null,
   "metadata": {
    "collapsed": true
   },
   "outputs": [],
   "source": [
    "# tournament selection\n",
    "population_fitness_tournament = []\n",
    "while len(population_fitness_tournament) < len(population_fitness):\n",
    "    selected_fitness = max(choice(population_fitness), choice(population_fitness))\n",
    "    population_fitness_tournament.append(selected_fitness)"
   ]
  },
  {
   "cell_type": "code",
   "execution_count": null,
   "metadata": {
    "collapsed": false,
    "scrolled": true
   },
   "outputs": [],
   "source": [
    "fig, (ax0, ax1, ax2) = plt.subplots(nrows=3, sharex=True, figsize=(10, 7))\n",
    "\n",
    "ax0.hist(population_fitness)\n",
    "ax1.hist(population_fitness_roulette)\n",
    "ax2.hist(population_fitness_tournament)\n",
    "\n",
    "ax0.set_title('Fitness inital population')\n",
    "ax1.set_title('Fitness after roulette selection')\n",
    "ax2.set_title('Fitness after tournament selection')"
   ]
  },
  {
   "cell_type": "markdown",
   "metadata": {},
   "source": [
    "**Elitism**: after selection and recombination, the individual with the highest fitness is often retained in the population. This way the best fitness of the population will never decrease."
   ]
  },
  {
   "cell_type": "markdown",
   "metadata": {},
   "source": [
    "## Genetic operators\n",
    "\n",
    "Selection increases the average quality of the candidate solutions, at the cost of decreasing the \n",
    "\n",
    "**Recombination** is the process of bringing back diversity into the population *without any regards for fitness*."
   ]
  },
  {
   "cell_type": "markdown",
   "metadata": {
    "collapsed": true
   },
   "source": [
    "### Mutations\n",
    "\n",
    "- small change to the genotype\n",
    "- mutations operate at the level of the individual\n",
    "- example: flipping a bit in a binary representation\n",
    "- example: adding a normally distributed number to a real value"
   ]
  },
  {
   "cell_type": "markdown",
   "metadata": {},
   "source": [
    "### Crossover\n",
    "\n",
    "**Crossover** recombined two individuals (parents) into two children by randomly switching parts of the genotype\n",
    "\n",
    "Types of crossover:\n",
    "- **one-point**: select randomly a crossover point on each of the two strings and swapping around this point\n",
    "- **multipoint**: the same, but with $n$ crossover points\n",
    "- **uniform**: each element is switched between the parents with a certain probability (usually 50%)\n",
    "- specialised crossovers for graphs, cycles or trees"
   ]
  },
  {
   "cell_type": "markdown",
   "metadata": {},
   "source": [
    "![Examples of simples crossover.](Figures/crossover.png)"
   ]
  },
  {
   "cell_type": "markdown",
   "metadata": {},
   "source": [
    "## Algorithms"
   ]
  },
  {
   "cell_type": "markdown",
   "metadata": {},
   "source": [
    "### Hill climbing\n",
    "\n",
    "- iterative improvement of starting point\n",
    "- converges to local optimum (dependent on starting position)\n",
    "- usually executed multiple times with different initial conditions"
   ]
  },
  {
   "cell_type": "markdown",
   "metadata": {},
   "source": [
    "```\n",
    "Hill climbing algorithm\n",
    "    choose a random current_solution\n",
    "    local := FALSE  // assume solution is not in local optimum\n",
    "    \n",
    "    while local is FALSE:\n",
    "        set local to TRUE\n",
    "        for all neighbors of current_solution:\n",
    "            if neighbor improves current_solution:\n",
    "                set local to FALSE\n",
    "                current_solution := neighbor\n",
    "                \n",
    "    return current_solution\n",
    "```"
   ]
  },
  {
   "cell_type": "markdown",
   "metadata": {},
   "source": [
    "**Advantages**:\n",
    "- easy to implement\n",
    "- only needs the scoring function and a definition of neighborhood to search\n",
    "\n",
    "**Disadvantages**:\n",
    "- converges to a local optimum that is dependent of the starting position\n",
    "- no guarantees on the quality of the solution\n",
    "- no guarantees on the running time"
   ]
  },
  {
   "cell_type": "markdown",
   "metadata": {},
   "source": [
    "### Simulated Annealing\n",
    "\n",
    "- instead of scanning the whole neighborhood, one candidate solution is randomly chosen\n",
    "    - if the new solution has a higher fitness: accept it\n",
    "    - if it has a lower fitness, accept with probability $e^{\\Delta f / T}$\n",
    "- the temperature $T$ controls the **exploration** vs **exploitation** trade-off\n",
    "- the temperature is gradually decreased when running the algorithm"
   ]
  },
  {
   "cell_type": "markdown",
   "metadata": {},
   "source": [
    "```\n",
    "Simulated annealing algorithm(Tmax, Tmin, r, kT)\n",
    "    choose random initial point x\n",
    "    T := Tmax\n",
    "    while T > Tmin\n",
    "        repeat kT times\n",
    "            randomly choose xn from neigborhood of x\n",
    "            if f(xn) > f(x)\n",
    "                x := xn\n",
    "            else with probability exp( (f(xn) - f(x))/T )\n",
    "                x := xn\n",
    "         T := T * r\n",
    "    return x  \n",
    "```"
   ]
  },
  {
   "cell_type": "markdown",
   "metadata": {},
   "source": [
    "**Example of simulated annealing**\n",
    "\n",
    "$$\n",
    "\\min_x\\ f(x) = |x\\cos(x)| + \\frac{|x|}{2}\\,.\n",
    "$$\n",
    "\n",
    "During each step, a new candidate solution is selected randomly according to\n",
    "\n",
    "$$\n",
    "x_n = x + \\Delta x\\,,\n",
    "$$\n",
    "with\n",
    "$$\n",
    "\\Delta x \\sim N(0, \\sigma)\\,.\n",
    "$$\n",
    "\n",
    "sigma: to stochastically explore neighborhood of point"
   ]
  },
  {
   "cell_type": "code",
   "execution_count": null,
   "metadata": {
    "collapsed": false,
    "scrolled": false
   },
   "outputs": [],
   "source": [
    "from simulated_annealing_demo import plot_SA_example\n",
    "\n",
    "f_toy_example = lambda x : np.abs(x * np.cos(x)) + 0.5 * np.abs(x)\n",
    "x0 = 55\n",
    "hyperparameters = {'Tmax' : 5000, 'Tmin' : 1,\n",
    "                    'r' : 0.8, 'kT' : 2, 'sigma' : 10}\n",
    "\n",
    "plot_SA_example(f_toy_example, x0, hyperparameters)"
   ]
  },
  {
   "cell_type": "markdown",
   "metadata": {},
   "source": [
    "### Genetic algorithm"
   ]
  },
  {
   "cell_type": "markdown",
   "metadata": {},
   "source": [
    "```\n",
    "Genetic algorithm(population size, number of generations, pmut, pcross)\n",
    "    initialize a random population\n",
    "    repeat for a number of generations\n",
    "        use tournament selection to generate a new population\n",
    "        recombinate the new population using mutations and crossover\n",
    "        apply elitism\n",
    "    return best individual of final population\n",
    "```"
   ]
  },
  {
   "cell_type": "markdown",
   "metadata": {},
   "source": [
    "## Project: Designing bio-active peptides\n",
    "\n",
    "Some peptides have an anti-microbial function. These peptides originate from the innate immuum system and are found in nearly all classes of life. These peptides often have a general mode of action and are thus effective against a broad range of microorganisms and it is quite difficult to acquire resistence for these organisms. As such they are an attractive alternative to conventional antibiotics."
   ]
  },
  {
   "cell_type": "markdown",
   "metadata": {},
   "source": [
    "![Two possible mechanisms how a peptide can target a bacterial cell.](Figures/Modes_of_action.png)"
   ]
  },
  {
   "cell_type": "markdown",
   "metadata": {},
   "source": [
    "In this project we will use genetic algorithms (in the very broad sense) to design and optimize a novel anti-microbial peptide. For this, we have downloaded a fasta file containing the amino acid sequence of over two thousand anti-microbial peptides as a reference set from the [Collection of Anti-Microbial Peptides](http://www.camp.bicnirrh.res.in/) database. Using a machine learning technique called kernel embedding, we have modelled the distribution of these peptides. This model can be used to generate a score between 0 and 1 for a given peptide, representing our belief that the peptide has an anti-microbial function (higher is better). The model is externally developed and is to us a black box."
   ]
  },
  {
   "cell_type": "markdown",
   "metadata": {},
   "source": [
    "For example:"
   ]
  },
  {
   "cell_type": "code",
   "execution_count": null,
   "metadata": {
    "collapsed": false,
    "scrolled": true
   },
   "outputs": [],
   "source": [
    "#from peptide_optimization import score_peptide\n",
    "from anti_microbial_peptide_model import score_peptide"
   ]
  },
  {
   "cell_type": "code",
   "execution_count": null,
   "metadata": {
    "collapsed": false
   },
   "outputs": [],
   "source": [
    "print(score_peptide('ASRTYUIPUYGRVHHGY'))  # a random peptide"
   ]
  },
  {
   "cell_type": "code",
   "execution_count": null,
   "metadata": {
    "collapsed": false
   },
   "outputs": [],
   "source": [
    "print(score_peptide('SKITDILAKLGKVLAHV'))  # a peptide from the database"
   ]
  },
  {
   "cell_type": "code",
   "execution_count": null,
   "metadata": {
    "collapsed": false
   },
   "outputs": [],
   "source": [
    "%timeit score_peptide('ASRTYUIPUYGRVHHGY')  # time to score a peptide"
   ]
  },
  {
   "cell_type": "markdown",
   "metadata": {},
   "source": [
    "We will try to find a new peptide with a length of twenty amino acids with the highest possible score according to the given model. To this end, hill climbing, simulated annealing and genetic algorithms will be used.\n",
    "\n",
    "For the problem setting at hand, we clarify the following terminology:\n",
    "- The **neigborhood** of a peptide: the set of all peptides which differ with exactly one amino acid compared to the given peptide\n",
    "- When a **mutation** occurs, a residue of a peptide is replaced by a randomly chosen amino acid. In our implementation of simulated annealing and the genetic algorithm, each amino acid in a peptide has a small fixed probability `pmut` to be mutated.\n",
    "- During a **crossover** event between two peptides, at each position the corresponding residues of the peptides are either switched or remain unchanged with equal probability. Crossovers occur between two randomly selected individuals with a probability `pcross`."
   ]
  },
  {
   "cell_type": "markdown",
   "metadata": {},
   "source": [
    "**Assignment 1**\n",
    "\n",
    "Complete the implementation of the function `hill_climbing` to bring either a given peptide or a randomly generated peptide of a given length to a local optimum. Run the algorithms ten times to generate optimized peptides of length twenty. What scores do you get? Describe these plots."
   ]
  },
  {
   "cell_type": "code",
   "execution_count": null,
   "metadata": {
    "collapsed": false
   },
   "outputs": [],
   "source": [
    "from protein_sequence_features import amino_acids\n",
    "\n",
    "amino_acids  # the amino acids"
   ]
  },
  {
   "cell_type": "code",
   "execution_count": null,
   "metadata": {
    "collapsed": false
   },
   "outputs": [],
   "source": [
    "def explore_peptide_region(peptide, scoring):\n",
    "    \"\"\"\n",
    "    Searches all neighboring peptides of a given peptide that differ exactly one\n",
    "    amino acid\n",
    "    \"\"\"\n",
    "    \n",
    "    best_score   = score_peptide(peptide)\n",
    "    best_peptide = peptide\n",
    "    \n",
    "    #go over the peptide one amino acid at a time and for each position try out all other amino acids\n",
    "    for i in range(len(peptide)):\n",
    "        #go over all AA\n",
    "        for a in amino_acids:\n",
    "            new = list(peptide)\n",
    "            #replace AA on this position with another AA\n",
    "            new[i] = a\n",
    "            new_peptide = ''.join(new)\n",
    "            new_peptide_score = scoring(new_peptide)\n",
    "            \n",
    "            #if a peptide in the neighborhood scores better, retain it\n",
    "            if new_peptide_score > best_score:\n",
    "                best_score = new_peptide_score\n",
    "                best_peptide = new_peptide\n",
    "    \n",
    "    return best_score, best_peptide\n",
    "    \n",
    "    \n",
    "def hill_climbing(peptidesize=None, peptide=None, scoring=score_peptide):\n",
    "    \"\"\"\n",
    "    Uses hill climbing to find a peptide with a high score for\n",
    "    antimicrobial activity.\n",
    "\n",
    "    Inputs:\n",
    "        - peptidesize : give size if stated from a randon peptide\n",
    "        - peptide : optionally give an intial peptide to improve\n",
    "        - scoring : the scoring function used for the peptides\n",
    "\n",
    "    Outputs:\n",
    "        - peptide : best found peptide\n",
    "        - best_scores : best scores obtained through the iterations\n",
    "    \"\"\"\n",
    "    assert peptidesize is not None or peptide is not None\n",
    "    # if no peptide is made, give a random one\n",
    "    if peptide is None:\n",
    "        peptide = ''\n",
    "        for res in range(peptidesize):\n",
    "            peptide += choice(amino_acids)\n",
    "            \n",
    "    else:\n",
    "        peptidesize = len(peptide)\n",
    "        \n",
    "    \n",
    "    best_scores = [scoring(peptide)]\n",
    "    peptides = [peptide]\n",
    "    \n",
    "    while True:\n",
    "        new_score, new_peptide = explore_peptide_region(peptides[-1], scoring)\n",
    "        #check if improvement \n",
    "        if new_score > best_scores[-1]:\n",
    "            best_scores.append(new_score)\n",
    "            peptides.append(new_peptide)\n",
    "        #once improvement stops, stop searching\n",
    "        else:\n",
    "            break\n",
    "            \n",
    "    return peptides[-1], best_scores"
   ]
  },
  {
   "cell_type": "code",
   "execution_count": null,
   "metadata": {
    "collapsed": false
   },
   "outputs": [],
   "source": [
    "%timeit hill_climbing(peptidesize = 20)\n",
    "\n",
    "#The time needed for hill climbing is about 4.5 seconds."
   ]
  },
  {
   "cell_type": "code",
   "execution_count": 257,
   "metadata": {
    "collapsed": false,
    "scrolled": true
   },
   "outputs": [
    {
     "name": "stdout",
     "output_type": "stream",
     "text": [
      "Average of the best scores of each run:  0.0306280958808\n",
      "0.0323952783475\n"
     ]
    },
    {
     "data": {
      "image/png": "[encoded data removed]",
      "text/plain": [
       "<matplotlib.figure.Figure at 0x22199c88438>"
      ]
     },
     "metadata": {},
     "output_type": "display_data"
    }
   ],
   "source": [
    "# make a plot of the running of hill climbing \n",
    "# for ten runs  \n",
    "\n",
    "plt.figure(figsize=(8,6))\n",
    "list_best_scores = []\n",
    "for x in range(10):\n",
    "    \n",
    "    random_start = hill_climbing(peptidesize = 20)\n",
    "    best_scores = random_start[1]\n",
    "    list_best_scores.append(max(best_scores))\n",
    "    plt.subplot(111)\n",
    "    plt.plot(best_scores)\n",
    "\n",
    "plt.suptitle('Hill climbing')\n",
    "plt.xlabel('iteration')\n",
    "plt.ylabel('peptide score')\n",
    "    \n",
    "print(\"Average of the best scores of each run: \", np.mean(list_best_scores))"
   ]
  },
  {
   "cell_type": "markdown",
   "metadata": {},
   "source": [
    "**COMMENT ON THIS PLOT? HOW ARE THE DIFFERENT RUNS THE SAME AND WHAT DO THEY HAVE IN COMMON?**\n",
    "\n",
    "All of the graphs start at a very low peptide score which gradually increases (never decreases) over the course of the climbing/exploring of the local neighborhood before stopping when the (local) maximum is reached. Some runs reach their maximum faster than others and some runs quickly reach a (low) maximum. This indicates that the speed and quality of the optimum found by the algorithm is heavily influenced by the starting position. "
   ]
  },
  {
   "cell_type": "markdown",
   "metadata": {},
   "source": [
    "**Assignment 2**\n",
    "\n",
    "Hill climbing greedily improves the given peptide until no single change of in amino acid residus increases the score. The solution of hill climbing is likely to be a local optimum (and not necessarily a good one!).\n",
    "\n",
    "We will try to generate better peptides using simulated annealing (which only uses mutations to generate diversity in the candidate solutions) and a genetic algorithm (which uses both mutations as well as crossover to generate novel peptides). \n",
    "\n",
    "1. Complete the functions to generate diversity in the peptides. The function `mutate_peptide` takes a peptide as input and returns a new peptide where each amino acid is changed by a randomly chosen other peptide with a probability `pmut`. The function `crossover_peptides` requires two peptides of equal length as input and outputs the corresponding random crossover peptides.\n",
    "2. Complete the function `simulated_annealing` to optimize random peptide of fixed length. Try to find an optimal peptide of length twenty. Discuss how to choose good values for `Tmin`, `Tmax`, `r` and `kT`.\n",
    "3. Finally, complete the function `genetic_algorithm`. You also have to complete the functions `tournament_selection` and `recombinate` which will be used in the main algorithm. Try to find the an optimal peptide of length twenty as well, using some trial and error to find the hyperparameters. \n",
    "4. Compare the quality of the solution using hill climbing, simulated annealing and the genetic algorithm. If you take code complexity and computation time into account, which would you try first for general problems?"
   ]
  },
  {
   "cell_type": "code",
   "execution_count": null,
   "metadata": {
    "collapsed": true
   },
   "outputs": [],
   "source": [
    "def mutate_peptide(peptide, pmut=0.05):\n",
    "    \"\"\"\n",
    "    Replaces each amino acid of the peptide with an arbitrary chosen\n",
    "    amino acid with a probability pmut\n",
    "    \"\"\"\n",
    "    \n",
    "    #go over each position in the peptide\n",
    "    for i in range(len(peptide)): \n",
    "        \n",
    "        #if the random number between 0 and 1 is equal or smaller than pmut, then mutate that position\n",
    "        #make certain that the AA doesn't mutate to the same AA again, or else the real pmut would be lower than 0.05\n",
    "        random_number = random()\n",
    "        if random_number <= pmut:\n",
    "            new = list(peptide)\n",
    "            current_AA = new[i]\n",
    "            \n",
    "            while True:\n",
    "                random_amino_acid = choice(amino_acids)\n",
    "                if random_amino_acid != current_AA:\n",
    "                    break\n",
    "                    \n",
    "            new[i] = random_amino_acid\n",
    "            peptide = ''.join(new)     \n",
    "            \n",
    "    return peptide\n",
    "\n",
    "\n",
    "def crossover_peptides(peptide1, peptide2):\n",
    "    \"\"\"\n",
    "    Performs crossover for two peptides, each position is switched with equal\n",
    "    probability.\n",
    "\n",
    "    Inputs:\n",
    "        - peptide1, peptide2\n",
    "\n",
    "    Outputs:\n",
    "        - crossed_peptide1, crossed_peptide2\n",
    "    \"\"\"\n",
    "    \n",
    "    #go over each position in the peptide\n",
    "    for i in range(len(peptide1)): \n",
    "        \n",
    "        #if the random number between 0 and 1 is equal or smaller than pmut, then cross over that position\n",
    "        random_number = random()\n",
    "        \n",
    "        if random_number <= 0.5:\n",
    "            list_peptide1 = list(peptide1)\n",
    "            list_peptide2 = list(peptide2)\n",
    "            \n",
    "            AA_peptide_1 = list_peptide1[i]\n",
    "            AA_peptide_2 = list_peptide2[i]\n",
    "        \n",
    "            list_peptide1[i] = AA_peptide_2\n",
    "            list_peptide2[i] = AA_peptide_1\n",
    "\n",
    "            peptide1 = ''.join(list_peptide1) \n",
    "            peptide2 = ''.join(list_peptide2) \n",
    "    \n",
    "    return peptide1, peptide2"
   ]
  },
  {
   "cell_type": "code",
   "execution_count": null,
   "metadata": {
    "collapsed": false
   },
   "outputs": [],
   "source": [
    "peptide1 = 'AAAAAAAAAAAA'\n",
    "peptide2 = 'CCCCCCCCCCCC'"
   ]
  },
  {
   "cell_type": "code",
   "execution_count": null,
   "metadata": {
    "collapsed": false
   },
   "outputs": [],
   "source": [
    "print(mutate_peptide(peptide1, pmut=0.1))"
   ]
  },
  {
   "cell_type": "code",
   "execution_count": null,
   "metadata": {
    "collapsed": false
   },
   "outputs": [],
   "source": [
    "print(*crossover_peptides(peptide1, peptide2))"
   ]
  },
  {
   "cell_type": "code",
   "execution_count": 258,
   "metadata": {
    "collapsed": true
   },
   "outputs": [],
   "source": [
    "def simulated_annealing(peptidesize, Tmax, Tmin, pmut, r, kT,\n",
    "                                                scoring=score_peptide):\n",
    "    \"\"\"\n",
    "    Uses simulated annealing to find a peptide with a high score for\n",
    "    antimicrobial activity.\n",
    "\n",
    "    Inputs:\n",
    "        - peptidesize : length of the peptide\n",
    "        - Tmax : maximum (starting) temperature\n",
    "        - Tmin : minimum (stopping) temperature\n",
    "        - pmut : probability of mutating an amino acid in the peptide\n",
    "        - r : rate of cooling\n",
    "        - kT : number of iteration with fixed temperature\n",
    "        - scoring : the scoring function used for the peptides\n",
    "\n",
    "    Outputs:\n",
    "        - peptide : best found peptide\n",
    "        - fbest : best scores obtained through the iterations\n",
    "        - temperatures : temperature during the iterations\n",
    "    \"\"\"\n",
    "    # create intial peptide\n",
    "    peptide = ''\n",
    "    for _ in range(peptidesize):\n",
    "        peptide += choice(amino_acids)\n",
    "\n",
    "    temp = Tmax\n",
    "    fstar = scoring(peptide)\n",
    "    fbest = [fstar]\n",
    "    temperatures = [temp]\n",
    "\n",
    "    #keep going until temp is low enough\n",
    "    while temp > Tmin:\n",
    "        \n",
    "        fstar = fbest[-1]\n",
    "        \n",
    "        #within this temperature, go over a fixed number of iterations\n",
    "        for _ in range(kT):\n",
    "            \n",
    "            new_peptide = mutate_peptide(peptide, pmut)\n",
    "            new_score = scoring(new_peptide)\n",
    "            \n",
    "            #if mutated peptide scores higher: retain it\n",
    "            if new_score > fbest[-1]:\n",
    "                peptide = new_peptide\n",
    "                \n",
    "            #if not: retain it anyway with a probability that depends on the score and the current temperature\n",
    "            else:\n",
    "                probability = np.exp((new_score-fbest[-1])/temp)\n",
    "                random_number = random()\n",
    "        \n",
    "                if random_number <= probability:\n",
    "                    peptide = new_peptide\n",
    "                \n",
    "        #lower temperature\n",
    "        temp *= r\n",
    "        \n",
    "        fstar = scoring(peptide)\n",
    "        \n",
    "        fbest.append(fstar)  # save best value\n",
    "        temperatures.append(temp)  # save best temperature\n",
    "    return peptide, fbest, temperatures"
   ]
  },
  {
   "cell_type": "markdown",
   "metadata": {
    "collapsed": false
   },
   "source": [
    "Simulated annealing differently described in lecture than what is recommended here.\n",
    "Normally only 1 AA mutated (peptide in neighborhood), but here: suggested to use funcion mutate and let it mutate with certain prob. It's possible that 2 or more AA changed, or even that none have changed."
   ]
  },
  {
   "cell_type": "code",
   "execution_count": null,
   "metadata": {
    "collapsed": false
   },
   "outputs": [],
   "source": [
    "#First we will look for good values for the hyperparameters Tmax and Tmin by going from a high to a low temp in \n",
    "#large steps and checking at what point decent scores start appearing.\n",
    "\n",
    "#we know that peptide scores are between 0 and 1 however, so we know it won't make sense in this case to try high values for Tmax. \n",
    "#Tmin on the other hand can go quite low.\n",
    "\n",
    "peptide_SA, fitness, temperature = simulated_annealing(peptidesize=20, Tmax=100, Tmin=0.00001, pmut=0.5, r=0.5, kT=100, scoring=score_peptide)\n",
    "fig = plt.figure()\n",
    "\n",
    "ax1 = fig.add_subplot(211)\n",
    "ax1.plot(fitness)\n",
    "plt.xlabel('iteration')\n",
    "plt.ylabel('peptide score')\n",
    "\n",
    "ax2 = fig.add_subplot(212)\n",
    "ax2.plot(temperature)\n",
    "plt.xlabel('iteration')\n",
    "plt.ylabel('temperature')\n",
    "\n",
    "plt.show()"
   ]
  },
  {
   "cell_type": "code",
   "execution_count": null,
   "metadata": {
    "collapsed": false
   },
   "outputs": [],
   "source": [
    "#We'll now do a more fine search now that we know in what region to look. \n",
    "\n",
    "peptide_SA, fitness, temperature = simulated_annealing(peptidesize=20, Tmax=0.0001, Tmin=0.0000001, pmut=0.5, r=0.5, kT=100, scoring=score_peptide)\n",
    "fig = plt.figure()\n",
    "\n",
    "ax1 = fig.add_subplot(211)\n",
    "ax1.plot(fitness)\n",
    "plt.xlabel('iteration')\n",
    "plt.ylabel('peptide score')\n",
    "\n",
    "ax2 = fig.add_subplot(212)\n",
    "ax2.plot(temperature)\n",
    "plt.xlabel('iteration')\n",
    "plt.ylabel('temperature')\n",
    "\n",
    "plt.show()\n",
    "\n",
    "#We find that a Tmin of 0.0000001 and Tmax of around 0.0001 are good values."
   ]
  },
  {
   "cell_type": "code",
   "execution_count": null,
   "metadata": {
    "collapsed": false,
    "scrolled": true
   },
   "outputs": [],
   "source": [
    "#For kt, the higher the value the more optimisation will happen (at the cost of speed of course). \n",
    "#Similarly, the closer the value of r is to 1 the more optimisation will happen. \n",
    "\n",
    "#For both of these hyperparameters we can do simualated annealing runs to see at what values the apyoff of the\n",
    "#added optimisation stops increasing significantly.\n",
    "\n",
    "fitness_list = []\n",
    "list_values_kT = list(range(1, 1001, 50))\n",
    "for x in list_values_kT:\n",
    "    peptide_SA, fitness, temperature = simulated_annealing(peptidesize=20, Tmax=0.0001, Tmin=0.000001, pmut=0.5, r=0.5, kT=x, scoring=score_peptide)\n",
    "    fitness_list.append(max(fitness))\n",
    "\n",
    "plt.plot(list_values_kT, fitness_list)\n",
    "plt.xlabel('kT')\n",
    "plt.ylabel('peptide score')\n",
    "\n",
    "#Looking at the graph, it seems that low values of kT are suboptimal and give low scores, but the increase in score drops off \n",
    "#as kT becomes larger, and above a kT value of about 300-400 there seems to be little gain from increasing the number of iterations."
   ]
  },
  {
   "cell_type": "code",
   "execution_count": null,
   "metadata": {
    "collapsed": false
   },
   "outputs": [],
   "source": [
    "#We will now do something similar for the r hyperparameter.\n",
    "\n",
    "fitness_list = []\n",
    "list_values_r = list(np.arange(0.05, 0.99, 0.05))\n",
    "for x in list_values_r:\n",
    "    peptide_SA, fitness, temperature = simulated_annealing(peptidesize=20, Tmax=0.0001, Tmin=0.000001, pmut=0.5, r=x, kT=300, scoring=score_peptide)\n",
    "    fitness_list.append(max(fitness))\n",
    "\n",
    "plt.plot(list_values_r, fitness_list)\n",
    "plt.xlabel('r')\n",
    "plt.ylabel('peptide score')\n",
    "\n",
    "\n",
    "#Looking at the graph, it seems that low values of r are suboptimal and give low scores. Around 0.9-0.95 seems to be the \n",
    "#limit of increase in score. So, a value of 0.95 or 0.99 would seem optimal."
   ]
  },
  {
   "cell_type": "code",
   "execution_count": 260,
   "metadata": {
    "collapsed": false,
    "scrolled": true
   },
   "outputs": [
    {
     "name": "stdout",
     "output_type": "stream",
     "text": [
      "0.0308363216268\n",
      "0.0308363216268\n"
     ]
    }
   ],
   "source": [
    "#Now we'll try to find an optimal peptide score using values for the hyperparamters we just determined.\n",
    "peptide_SA, fitness, temperature = simulated_annealing(peptidesize=20, Tmax=0.001, Tmin=0.0000001, pmut=0.5, r=0.99, kT=400, scoring=score_peptide)\n",
    "\n",
    "fig = plt.figure()\n",
    "\n",
    "ax1 = fig.add_subplot(211)\n",
    "ax1.plot(fitness)\n",
    "\n",
    "ax2 = fig.add_subplot(212)\n",
    "ax2.plot(temperature)\n",
    "\n",
    "plt.show()\n",
    "print(fitness[-1])\n",
    "print(max(fitness))"
   ]
  },
  {
   "cell_type": "code",
   "execution_count": null,
   "metadata": {
    "collapsed": false
   },
   "outputs": [],
   "source": [
    "%timeit peptide_SA, fitness, temperature = simulated_annealing(peptidesize=20, Tmax=0.0001, Tmin=0.000001, pmut=0.5, r=0.99, kT=300, scoring=score_peptide)\n",
    "\n",
    "#The time needed for hill climbing is about 1min 42s when using settings for the hyperparameters as derived above."
   ]
  },
  {
   "cell_type": "markdown",
   "metadata": {},
   "source": [
    "**DESCRIBE THE EFFECT OF THE HYPERPARAMETERS.**\n",
    "\n",
    "Looking at the rough graph for Tmax and Tmin it becomes clear that high temperatures don't lead to any real optimisation (which could be expected when looking at the equation where the probability for accepting a worse scoring peptide is defined).\n",
    "Using the finer search we find that a Tmin of 0.0000001 and Tmax of around 0.0001 are good values.\n",
    "\n",
    "For kt, the higher the value the more optimisation will happen (at the cost of speed of course). Similarly, the closer the value of r is to 1 the more optimisation will happen. \n",
    "\n",
    "For both of these hyperparameters we did simualated annealing runs to see at what values the payoff of the added optimisation stops increasing significantly. Looking at the graph, it seems that low values of kT are suboptimal and give low scores, but the increase in score drops off as kT becomes larger, and above a kT value of about 300 to 500 there seems to be little gain from increasing the number of iterations.\n",
    "\n",
    "Looking at the graph for hyperparameter r, it seems that low values of r are suboptimal and give low scores. Around 0.9-0.95 seems to be the limit of increase in score (though note that this was also about the limit of the ranges that could be easily checked). So, a value of 0.95 or 0.99 would seem optimal."
   ]
  },
  {
   "cell_type": "code",
   "execution_count": 218,
   "metadata": {
    "collapsed": true
   },
   "outputs": [],
   "source": [
    "def tournament_selection(scored_peptides):\n",
    "    \"\"\"\n",
    "    Apply tournament selection on a list of scored peptides.\n",
    "\n",
    "    Input:\n",
    "        - scored_peptides : a list of scored peptides, each element is a tuple\n",
    "                        of the form (score, peptide)\n",
    "    Output:\n",
    "        - selected_peptides : a list of peptides selected from scored_peptides\n",
    "                        based on tournament selection (without the score)\n",
    "    \"\"\"\n",
    "    \n",
    "    #This selection method will return as many peptides as you put in, but more of the \n",
    "    #best scoring peptides will be retained (become more popular in the population)\n",
    "    \n",
    "    selected_peptides = []\n",
    "    \n",
    "    for x in range(len(scored_peptides)):\n",
    "        peptide1 = choice(scored_peptides)\n",
    "        peptide2 = choice(scored_peptides)\n",
    "    \n",
    "        if peptide1[0] > peptide2[0]:\n",
    "            selected_peptides.append(peptide1[1])\n",
    "        else:\n",
    "            selected_peptides.append(peptide2[1])\n",
    "    \n",
    "    return selected_peptides\n",
    "\n",
    "\n",
    "\n",
    "def recombinate(population, pmut, pcross):\n",
    "    \"\"\"\n",
    "    Recombinates a population of peptides.\n",
    "\n",
    "    Inputs:\n",
    "        - population : a list of peptides\n",
    "        - pmut : probability of mutating an amino acid\n",
    "        - pcross : probability of two peptides crossing over\n",
    "\n",
    "    Output:\n",
    "        - recombinated_population\n",
    "    \"\"\"\n",
    "    \n",
    "    # the population with mutation and cross over applied to\n",
    "    recombinated_population = []\n",
    "    \n",
    "    mutated_peptide_list = []\n",
    "    \n",
    "    #go over all the peptides and let mutations happen\n",
    "    for x in population:\n",
    "        mutated_x = mutate_peptide(x, pmut)\n",
    "        mutated_peptide_list.append(mutated_x)\n",
    "    \n",
    "    #now let crossing-over happen\n",
    "    crossed_over_peptide_list = []\n",
    "    #shuffle the mutated_peptide_list\n",
    "    \n",
    "    shuffle(mutated_peptide_list)\n",
    "        \n",
    "    #take mutated peptides two by two and give them a chance to cross-over\n",
    "    #(assuming an even number of peptides in the population)\n",
    "    for y in range(0, len(mutated_peptide_list), 2):\n",
    "        \n",
    "        random_number = random()\n",
    "        \n",
    "        if random_number <= pcross:\n",
    "        \n",
    "            pep1, pep2 = crossover_peptides(mutated_peptide_list[y], mutated_peptide_list[y+1])\n",
    "            crossed_over_peptide_list.append(pep1)\n",
    "            crossed_over_peptide_list.append(pep2)\n",
    "    \n",
    "        else:\n",
    "            crossed_over_peptide_list.append(mutated_peptide_list[y])\n",
    "            crossed_over_peptide_list.append(mutated_peptide_list[y+1])\n",
    "       \n",
    "    return crossed_over_peptide_list"
   ]
  },
  {
   "cell_type": "code",
   "execution_count": 229,
   "metadata": {
    "collapsed": true
   },
   "outputs": [],
   "source": [
    "def genetic_algorithm(peptidesize, n_iterations, popsize, pmut, pcross,\n",
    "                                                    scoring=score_peptide):\n",
    "    \"\"\"\n",
    "    Uses a genetic algorithm to find a peptide with a high score for\n",
    "    antimicrobial activity.\n",
    "\n",
    "    Inputs:\n",
    "        - peptidesize : length of the peptide\n",
    "        - n_iterations : number of iterations (generations)\n",
    "        - popsize : size of the population\n",
    "        - pmut : probability of mutating an amino acid in the peptide\n",
    "        - pcross : probability of performing a crossover\n",
    "        - scoring : the scoring function used for the peptides\n",
    "\n",
    "    Outputs:\n",
    "        - best_peptide : best found peptide\n",
    "        - best_fitness_iteration : best scores obtained through the iterations\n",
    "    \"\"\"\n",
    "    # initialize population\n",
    "    population = []\n",
    "    for _ in range(popsize):\n",
    "        peptide = ''\n",
    "        for _ in range(peptidesize):\n",
    "            peptide += choice(amino_acids)\n",
    "        population.append(peptide)\n",
    "\n",
    "    # score peptides\n",
    "    scored_peptides = [(scoring(peptide), peptide)\n",
    "                        for peptide in population]\n",
    "    best_fitness, best_peptide = max(scored_peptides)\n",
    "\n",
    "    best_fitness_iteration = [best_fitness]\n",
    "\n",
    "        \n",
    "    for iter in range(n_iterations):\n",
    "        # select population        \n",
    "        population = tournament_selection(scored_peptides)\n",
    "        \n",
    "        # recombinate population\n",
    "        population = recombinate(population, pmut, pcross)\n",
    "                \n",
    "        #Elitism: after selection and recombination, the individual with the highest fitness is often retained in the population. \n",
    "        #This way the best fitness of the population will never decrease.\n",
    "               \n",
    "        if best_peptide not in population:\n",
    "            \n",
    "            #if the best individual of the previous 'generation' isn' present anymore, we will put it back by replacing the \n",
    "            #first individual in the current population.\n",
    "            population[0] = best_peptide\n",
    "\n",
    "        # score peptides\n",
    "        scored_peptides = [(scoring(peptide), peptide)\n",
    "                            for peptide in population]        \n",
    "\n",
    "        # select best\n",
    "        best_fitness, best_peptide = max(scored_peptides)\n",
    "        best_fitness_iteration.append(best_fitness)\n",
    "        \n",
    "        \n",
    "    return best_peptide, best_fitness_iteration"
   ]
  },
  {
   "cell_type": "code",
   "execution_count": 235,
   "metadata": {
    "collapsed": false
   },
   "outputs": [
    {
     "name": "stdout",
     "output_type": "stream",
     "text": [
      "1\n",
      "201\n",
      "401\n",
      "601\n",
      "801\n",
      "1001\n",
      "1201\n",
      "1401\n",
      "1601\n",
      "1801\n",
      "2001\n"
     ]
    },
    {
     "data": {
      "text/plain": [
       "<matplotlib.text.Text at 0x22196b49828>"
      ]
     },
     "execution_count": 235,
     "metadata": {},
     "output_type": "execute_result"
    },
    {
     "data": {
      "image/png": "[encoded data removed]",
      "text/plain": [
       "<matplotlib.figure.Figure at 0x221988be6a0>"
      ]
     },
     "metadata": {},
     "output_type": "display_data"
    }
   ],
   "source": [
    "#Like for the previous algorithm, we will try to find out what could be good values for the hyperparameters of genetic_algorithm.\n",
    "\n",
    "#First we will look at number of iterations.\n",
    "fitness_list = []\n",
    "list_values_n_iterations = list(range(1, 2002, 200))\n",
    "for x in list_values_n_iterations:\n",
    "    peptide_GA, best_fitness_iteration = genetic_algorithm(peptidesize=20, n_iterations=x, popsize=50, pmut=0.02, pcross=0.8, scoring=score_peptide)\n",
    "    fitness_list.append(max(best_fitness_iteration))\n",
    "\n",
    "plt.plot(list_values_n_iterations, fitness_list)\n",
    "plt.xlabel('iterations')\n",
    "plt.ylabel('peptide score')\n",
    "\n",
    "#The score appears to stabilize around 200-400 iterations. So, 300 iterations should be a good value for this hyperparameter."
   ]
  },
  {
   "cell_type": "code",
   "execution_count": 244,
   "metadata": {
    "collapsed": false
   },
   "outputs": [
    {
     "name": "stdout",
     "output_type": "stream",
     "text": [
      "2\n",
      "202\n",
      "402\n",
      "602\n",
      "802\n",
      "1002\n"
     ]
    },
    {
     "data": {
      "text/plain": [
       "<matplotlib.text.Text at 0x22197396518>"
      ]
     },
     "execution_count": 244,
     "metadata": {},
     "output_type": "execute_result"
    },
    {
     "data": {
      "image/png": "[encoded data removed]",
      "text/plain": [
       "<matplotlib.figure.Figure at 0x221970bc978>"
      ]
     },
     "metadata": {},
     "output_type": "display_data"
    }
   ],
   "source": [
    "#Now we will look at the popsize.\n",
    "fitness_list = []\n",
    "list_values_popsize = list(range(2, 1003, 200))\n",
    "for x in list_values_popsize:\n",
    "    peptide_GA, best_fitness_iteration = genetic_algorithm(peptidesize=20, n_iterations=100, popsize=x, pmut=0.02, pcross=0.8, scoring=score_peptide)\n",
    "    fitness_list.append(max(best_fitness_iteration))\n",
    "\n",
    "plt.plot(list_values_popsize, fitness_list)\n",
    "plt.xlabel('popsize')\n",
    "plt.ylabel('peptide score')\n",
    "\n",
    "#The score appears to stabilize around a population size of around 200 to 400."
   ]
  },
  {
   "cell_type": "code",
   "execution_count": 255,
   "metadata": {
    "collapsed": false
   },
   "outputs": [
    {
     "data": {
      "text/plain": [
       "<matplotlib.text.Text at 0x22199bdc470>"
      ]
     },
     "execution_count": 255,
     "metadata": {},
     "output_type": "execute_result"
    },
    {
     "data": {
      "image/png": "[encoded data removed]",
      "text/plain": [
       "<matplotlib.figure.Figure at 0x22199bf0be0>"
      ]
     },
     "metadata": {},
     "output_type": "display_data"
    }
   ],
   "source": [
    "#Now we will look at the pcross.\n",
    "fitness_list = []\n",
    "list_values_pcross = list(np.arange(0.05, 0.99, 0.05))\n",
    "for x in list_values_pcross:\n",
    "    peptide_GA, best_fitness_iteration = genetic_algorithm(peptidesize=20, n_iterations=100, popsize=200, pmut=0.02, pcross=x, scoring=score_peptide)\n",
    "    fitness_list.append(max(best_fitness_iteration))\n",
    "\n",
    "plt.plot(list_values_pcross, fitness_list)\n",
    "plt.xlabel('pcross')\n",
    "plt.ylabel('peptide score')\n",
    "\n",
    "#The score appears to be maximal around a pcross value of around 0.6 to 0.8."
   ]
  },
  {
   "cell_type": "code",
   "execution_count": 252,
   "metadata": {
    "collapsed": false
   },
   "outputs": [
    {
     "name": "stdout",
     "output_type": "stream",
     "text": [
      "0.005\n",
      "0.01\n",
      "0.015\n",
      "0.02\n",
      "0.025\n",
      "0.03\n",
      "0.035\n",
      "0.04\n",
      "0.045\n",
      "0.05\n",
      "0.055\n",
      "0.06\n",
      "0.065\n",
      "0.07\n",
      "0.075\n",
      "0.08\n",
      "0.085\n",
      "0.09\n",
      "0.095\n"
     ]
    },
    {
     "data": {
      "text/plain": [
       "<matplotlib.text.Text at 0x22197534a20>"
      ]
     },
     "execution_count": 252,
     "metadata": {},
     "output_type": "execute_result"
    },
    {
     "data": {
      "image/png": "[encoded data removed]",
      "text/plain": [
       "<matplotlib.figure.Figure at 0x22197066cc0>"
      ]
     },
     "metadata": {},
     "output_type": "display_data"
    }
   ],
   "source": [
    "#Finally we will look at the pmut.\n",
    "fitness_list = []\n",
    "list_values_pmut = list(np.arange(0.005, 0.1, 0.005))\n",
    "for x in list_values_pmut:\n",
    "    peptide_GA, best_fitness_iteration = genetic_algorithm(peptidesize=20, n_iterations=100, popsize=200, pmut=x, pcross=0.8, scoring=score_peptide)\n",
    "    fitness_list.append(max(best_fitness_iteration))\n",
    "\n",
    "plt.plot(list_values_pmut, fitness_list)\n",
    "plt.xlabel('pmut')\n",
    "plt.ylabel('peptide score')\n",
    "\n",
    "#The score appears to be highest for lower values of pmut (indicated by a first rough search, not shown here). \n",
    "#A more detailed search indicates that a value of 0.02 for pmut seems to grant good results."
   ]
  },
  {
   "cell_type": "code",
   "execution_count": 253,
   "metadata": {
    "collapsed": false
   },
   "outputs": [
    {
     "name": "stdout",
     "output_type": "stream",
     "text": [
      "0.0330723940434\n"
     ]
    },
    {
     "data": {
      "image/png": "[encoded data removed]",
      "text/plain": [
       "<matplotlib.figure.Figure at 0x221988be710>"
      ]
     },
     "metadata": {},
     "output_type": "display_data"
    }
   ],
   "source": [
    "#Now we'll try to find an optimal peptide score using values for the hyperparamters we just determined.\n",
    "peptide_GA, best_fitness_iteration = genetic_algorithm(peptidesize=20, n_iterations=300, popsize=300, pmut=0.02, pcross=0.7, scoring=score_peptide)\n",
    "\n",
    "plt.plot(best_fitness_iteration)\n",
    "plt.xlabel('iteration')\n",
    "plt.ylabel('peptide score')\n",
    "\n",
    "print(best_fitness_iteration[-1])"
   ]
  },
  {
   "cell_type": "markdown",
   "metadata": {},
   "source": [
    "**DESCRIBE THE EFFECT OF THE HYPERPARAMETERS.**\n",
    "\n",
    "For both the number of iterations and the population size the score seems to stabilize around 300, indicating that these values are sufficiently high to get a good score. Higher values might lead to a small increase in performance but at a relatively high extra cost in computing time.\n",
    "\n",
    "For pcross the optimal value seems to lay around 0.7, although here the optimal value is less obvious to find, which might indicate that for this hyperparameter the value does not have a large impact on the score. \n",
    "\n",
    "The optimal value for pmut seems to be around 0.02, any higher than this and the score drops considerably."
   ]
  },
  {
   "cell_type": "code",
   "execution_count": 254,
   "metadata": {
    "collapsed": false
   },
   "outputs": [
    {
     "name": "stdout",
     "output_type": "stream",
     "text": [
      "Wall time: 54.2 s\n"
     ]
    }
   ],
   "source": [
    "%time peptide_GA, best_fitness_iteration = genetic_algorithm(peptidesize=20, n_iterations=300, popsize=300, pmut=0.02, pcross=0.7, scoring=score_peptide)\n",
    "#The time needed for genetic algorithm is about 54s when using settings for the hyperparameters as derived above."
   ]
  },
  {
   "cell_type": "markdown",
   "metadata": {},
   "source": [
    "**Compare the quality of the solution using hill climbing, simulated annealing and the genetic algorithm. If you take code complexity and computation time into account, which would you try first for general problems?**\n",
    "\n",
    "The genetic algorithm seemed to give the best score here, followed by simulated annealing and finally hill climbing. Note however that the scores for all three methods were fairly close to one another.\n",
    "\n",
    "Given the ease of implementation (no hyperparameters to estimate) and speed of computation, a hill climbing algorithm is an obvious choice to try first. However, it will not reliably give optimal scores, but by running the algorithm a few times (which shouldn't take a lot of time) one can get an idea of what kind of scores one can expect (running the hill climbing algorithm a few times should still give a decent score).\n",
    "\n",
    "After this the genetic algorithm has the advantage of being somewhat easier to implement than simulated annealing, while being faster and giving a better score. However, unlike the hill climbing algorithm one needs to estimate some hyperparameters here, which represents an additional hurdle. "
   ]
  },
  {
   "cell_type": "markdown",
   "metadata": {
    "collapsed": true
   },
   "source": [
    "## References\n",
    "\n",
    "Floreano, D. and Mattiussi, C., *'Bio-Inspired Artificial Intelligence'*. MIT Press (2008) [link](http://baibook.epfl.ch/)\n",
    "\n",
    "Song, L.,Fukumizu, K. and Gretton, A. (2013), *'Kernel embeddings of conditional distributions'*. IEEE Signal Processing Magazine 30(4):98-111"
   ]
  }
 ],
 "metadata": {
  "anaconda-cloud": {},
  "kernelspec": {
   "display_name": "Python [default]",
   "language": "python",
   "name": "python3"
  },
  "language_info": {
   "codemirror_mode": {
    "name": "ipython",
    "version": 3
   },
   "file_extension": ".py",
   "mimetype": "text/x-python",
   "name": "python",
   "nbconvert_exporter": "python",
   "pygments_lexer": "ipython3",
   "version": "3.5.2"
  },
  "latex_envs": {
   "bibliofile": "biblio.bib",
   "cite_by": "apalike",
   "current_citInitial": 1,
   "eqLabelWithNumbers": true,
   "eqNumInitial": 0
  }
 },
 "nbformat": 4,
 "nbformat_minor": 0
}
