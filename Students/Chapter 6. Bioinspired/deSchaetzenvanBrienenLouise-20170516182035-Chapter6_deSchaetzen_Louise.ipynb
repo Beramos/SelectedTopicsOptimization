{
 "cells": [
  {
   "cell_type": "markdown",
   "metadata": {},
   "source": [
    "# Chapter 6: Bio-inspired optimization\n",
    "\n",
    "*Selected Topics in Mathematical Optimization*\n",
    "\n",
    "*2016-2017*\n",
    "\n",
    "**Bernard De Baets**\n",
    "\n",
    "**Michiel Stock**\n",
    "\n",
    "**Raúl Pérez-Fernández**"
   ]
  },
  {
   "cell_type": "markdown",
   "metadata": {},
   "source": [
    "![Yes, this is how it works...](Figures/evolve_alg.gif)"
   ]
  },
  {
   "cell_type": "code",
   "execution_count": 1,
   "metadata": {
    "collapsed": true
   },
   "outputs": [],
   "source": [
    "from random import random, choice\n",
    "import numpy as np\n",
    "import matplotlib.pyplot as plt\n",
    "from ipywidgets import interact, FloatSlider\n",
    "%matplotlib inline"
   ]
  },
  {
   "cell_type": "markdown",
   "metadata": {},
   "source": [
    "## Introduction and general idea\n",
    "\n",
    "The open (or obsessive) mind can find optimization everywhere in the world around him. Ants find the optimal paths from food to their nest, rivers stream to maximize their water flow, plants maximize the amount of sunlight captured with their leafs and many of the laws of physics can be formulated as a minimization of energy. Bio-inspired optimization, or bio-inspired computing in general, borrows ideas from nature to solve complex problems. A central theme among these paradigms is that they use simple, local manipulations from which the general computation is an emergent property. Many also make use of a **population** of candidate solutions which is improved iteratively.\n",
    "\n",
    "Bio-inspired optimization algorithms (BIOAs) are often applied for more complex problems discussed so far. Many real-word problems are often over-or underconstrained, lack detailed information about the target function (e.g. no gradient can be computed) or deal with complex 'structured data'. Examples of such problems which (bio)engineers routinely deal with include designing an antenna, callibrating a forest fire model or create a new functional peptide (topic of this project).\n",
    "\n",
    "Contrary to most of the algorithms discussed so far, BIOAs often lack theoretical guarantees, both on their running time and on the quality of the solution. It is not uncommon to let such algorithms run for days or weeks. Since these algorithms do not exploit the structure or the gradient of the target function, only function evalutions are used. This is especially costly when evaluating the target function is expensive, for example when determining the parameters of a large set of ordinary differential equations. Furthermore, most bio-inspired optimization algorithms have some hyperparameters which must be tuned to the problem, otherwise the optimization might run badly.\n",
    "\n",
    "Despite these drawbacks, BIOAs also have many merits. Because they are very flexible, they can be applied to almost any optimization problem. For some problem classes (such as NP-hard problems), there are no efficient exact solvers, making for example the traveling salesman problem unsolvable for moderately large instances using standard techniques. BIOAs on the other hand can often generate reasonable solutions quite quickly. Furthermore, BIOAs work **progressive**, meaning that intermediate solutions can be obtained at any time. Hence, even if the optimization process is prematurely aborted, we still have some result to show for our effort."
   ]
  },
  {
   "cell_type": "markdown",
   "metadata": {},
   "source": [
    "BIOA come in [many flavors](https://arxiv.org/pdf/1307.4186.pdf), which is one of the reasons why some of researchers dislike them. An important class of algorithms try to mimic swarm intelligence, for example how ants find their way in their surroundings is implemented in ant colony optimization. In this project we will work with genetic algorithms (GAs), which are based on the most succesful optimization algorithm in nature: evolution. GAs use *in silico* evolution to obtain iteratively better solutions for a problem. Most GAs are based on the following four concepts:\n",
    "- **maintenance of a population**\n",
    "- **creation of diversity**\n",
    "- **a natural selection**\n",
    "- **genetic enheritance**"
   ]
  },
  {
   "cell_type": "markdown",
   "metadata": {},
   "source": [
    "![](Figures/GAconcept.png)"
   ]
  },
  {
   "cell_type": "markdown",
   "metadata": {},
   "source": [
    "## Genetic representation"
   ]
  },
  {
   "cell_type": "markdown",
   "metadata": {},
   "source": [
    "![Genotype, phenotype and fitness.](Figures/encoding.png)"
   ]
  },
  {
   "cell_type": "markdown",
   "metadata": {},
   "source": [
    "**genotype**: reprentation of a candidate solution on which the genetic algorithm will operate\n",
    "\n",
    "- often discrete representation (e.g. binary encoding of numbers)\n",
    "- ideally covers the space of optimal solutions (prior knowledge)\n",
    "- recombination should have high probability of generating increasingly better individuals"
   ]
  },
  {
   "cell_type": "markdown",
   "metadata": {},
   "source": [
    "**phenotype**: the candidate solution in a representation of the problem\n",
    "\n",
    "- **decoding**: translating genotype into phenotype\n",
    "- **encoding**: translating the phenotype in genotype\n",
    "\n",
    "Since the genetic operators of the GA only work on the genotype, only decoding has to be defined."
   ]
  },
  {
   "cell_type": "markdown",
   "metadata": {},
   "source": [
    "**fitness**: the quality of the solution, will be used to select individuals for the next generation"
   ]
  },
  {
   "cell_type": "markdown",
   "metadata": {},
   "source": [
    "## Selection and reproduction\n",
    "\n",
    "**Selection** is the procedure such that individuals with a higher fitness are more likelily to go to the next generation.\n",
    "\n",
    "Usually the population size is fixed. individuals with high fitness are likely to be selected multiple times, those with low fitness might not be selected."
   ]
  },
  {
   "cell_type": "markdown",
   "metadata": {},
   "source": [
    "**Roulette wheel selection**\n",
    "\n",
    "![Roulette wheel selection chooses individuals proportional to their fitness.](Figures/roulettewheel.png)\n",
    "\n",
    "A new population of $n$ individuals is chosen by chosing individuals proportional to their fitness:\n",
    "\n",
    "$$\n",
    "p(i) = \\frac{f(i)}{\\sum_{j=1}^nf(j)}\\,,\n",
    "$$\n",
    "with $p(i)$ the probability of choosing individual $i$ and $f(i)$ the fitness of individual $i$.\n",
    "\n",
    "Drawbacks:\n",
    "- only when fitness is positive\n",
    "- selection process dependent on (nonlinear) scaling of fitness"
   ]
  },
  {
   "cell_type": "markdown",
   "metadata": {},
   "source": [
    "**Tournament selection**\n",
    "\n",
    "Randomly choose two individuals, retain the individual with the highest fitness for the population of the next generation (pick one at random if fitness is equal). Repeat as many times as there are individuals in the population."
   ]
  },
  {
   "cell_type": "markdown",
   "metadata": {},
   "source": [
    "Below is an illustration of the two types of selection."
   ]
  },
  {
   "cell_type": "code",
   "execution_count": 2,
   "metadata": {
    "collapsed": false
   },
   "outputs": [],
   "source": [
    "# generate random initial population\n",
    "population_fitness = [np.random.randn()**2 for _ in range(1000)]"
   ]
  },
  {
   "cell_type": "code",
   "execution_count": 3,
   "metadata": {
    "collapsed": true
   },
   "outputs": [],
   "source": [
    "# roulette wheel selection\n",
    "population_fitness_roulette = []\n",
    "finess_sum = np.sum(population_fitness)\n",
    "while len(population_fitness_roulette) < len(population_fitness):\n",
    "    fitness = choice(population_fitness)\n",
    "    if fitness / finess_sum > random():\n",
    "        population_fitness_roulette.append(fitness)"
   ]
  },
  {
   "cell_type": "code",
   "execution_count": 4,
   "metadata": {
    "collapsed": true
   },
   "outputs": [],
   "source": [
    "# tournament selection\n",
    "population_fitness_tournament = []\n",
    "while len(population_fitness_tournament) < len(population_fitness):\n",
    "    selected_fitness = max(choice(population_fitness), choice(population_fitness))\n",
    "    population_fitness_tournament.append(selected_fitness)"
   ]
  },
  {
   "cell_type": "code",
   "execution_count": 5,
   "metadata": {
    "collapsed": false,
    "scrolled": true
   },
   "outputs": [
    {
     "data": {
      "text/plain": [
       "<matplotlib.text.Text at 0x112c05ac8>"
      ]
     },
     "execution_count": 5,
     "metadata": {},
     "output_type": "execute_result"
    },
    {
     "data": {
      "image/png": "[encoded data removed]",
      "text/plain": [
       "<matplotlib.figure.Figure at 0x10f7f7c50>"
      ]
     },
     "metadata": {},
     "output_type": "display_data"
    }
   ],
   "source": [
    "fig, (ax0, ax1, ax2) = plt.subplots(nrows=3, sharex=True, figsize=(10, 7))\n",
    "\n",
    "ax0.hist(population_fitness)\n",
    "ax1.hist(population_fitness_roulette)\n",
    "ax2.hist(population_fitness_tournament)\n",
    "\n",
    "ax0.set_title('Fitness inital population')\n",
    "ax1.set_title('Fitness after roulette selection')\n",
    "ax2.set_title('Fitness after tournament selection')"
   ]
  },
  {
   "cell_type": "markdown",
   "metadata": {},
   "source": [
    "**Elitism**: after selection and recombination, the individual with the highest fitness is often retained in the population. This way the best fitness of the population will never decrease."
   ]
  },
  {
   "cell_type": "markdown",
   "metadata": {},
   "source": [
    "## Genetic operators\n",
    "\n",
    "Selection increases the average quality of the candidate solutions, at the cost of decreasing the \n",
    "\n",
    "**Recombination** is the process of bringing back diversity into the population *without any regards for fitness*."
   ]
  },
  {
   "cell_type": "markdown",
   "metadata": {
    "collapsed": true
   },
   "source": [
    "### Mutations\n",
    "\n",
    "- small change to the genotype\n",
    "- mutations operate at the level of the individual\n",
    "- example: flipping a bit in a binary representation\n",
    "- example: adding a normally distributed number to a real value"
   ]
  },
  {
   "cell_type": "markdown",
   "metadata": {},
   "source": [
    "### Crossover\n",
    "\n",
    "**Crossover** recombined two individuals (parents) into two children by randomly switching parts of the genotype\n",
    "\n",
    "Types of crossover:\n",
    "- **one-point**: select randomly a crossover point on each of the two strings and swapping around this point\n",
    "- **multipoint**: the same, but with $n$ crossover points\n",
    "- **uniform**: each element is switched between the parents with a certain probability (usually 50%)\n",
    "- specialised crossovers for graphs, cycles or trees"
   ]
  },
  {
   "cell_type": "markdown",
   "metadata": {},
   "source": [
    "![Examples of simples crossover.](Figures/crossover.png)"
   ]
  },
  {
   "cell_type": "markdown",
   "metadata": {},
   "source": [
    "## Algorithms"
   ]
  },
  {
   "cell_type": "markdown",
   "metadata": {},
   "source": [
    "### Hill climbing\n",
    "\n",
    "- iterative improvement of starting point\n",
    "- converges to local optimum (dependent on starting position)\n",
    "- usually executed multiple times with different initial conditions"
   ]
  },
  {
   "cell_type": "markdown",
   "metadata": {},
   "source": [
    "```\n",
    "Hill climbing algorithm\n",
    "    choose a random current_solution\n",
    "    local := FALSE  // assume solution is not in local optimum\n",
    "    \n",
    "    while local is FALSE:\n",
    "        set local to TRUE\n",
    "        for all neighbors of current_solution:\n",
    "            if neighbor improves current_solution:\n",
    "                set local to FALSE\n",
    "                current_solution := neighbor\n",
    "                \n",
    "    return current_solution\n",
    "```"
   ]
  },
  {
   "cell_type": "markdown",
   "metadata": {},
   "source": [
    "**Advantages**:\n",
    "- easy to implement\n",
    "- only needs the scoring function and a definition of neighborhood to search\n",
    "\n",
    "**Disadvantages**:\n",
    "- converges to a local optimum that is dependent of the starting position\n",
    "- no guarantees on the quality of the solution\n",
    "- no guarantees on the running time"
   ]
  },
  {
   "cell_type": "markdown",
   "metadata": {},
   "source": [
    "### Simulated Annealing\n",
    "\n",
    "- instead of scanning the whole neighborhood, one candidate solution is randomly chosen\n",
    "    - if the new solution has a higher fitness: accept it\n",
    "    - if it has a lower fitness, accept with probability $e^{\\Delta f / T}$\n",
    "- the temperature $T$ controls the **exploration** vs **exploitation** trade-off\n",
    "- the temperature is gradually decreased when running the algorithm"
   ]
  },
  {
   "cell_type": "markdown",
   "metadata": {},
   "source": [
    "```\n",
    "Simulated annealing algorithm(Tmax, Tmin, r, kT)\n",
    "    choose random initial point x\n",
    "    T := Tmax\n",
    "    while T > Tmin\n",
    "        repeat kT times\n",
    "            randomly choose xn from neigborhood of x\n",
    "            if f(xn) > f(x)\n",
    "                x := xn\n",
    "            else with probability exp( (f(xn) - f(x))/T )\n",
    "                x := xn\n",
    "         T := T * r\n",
    "    return x  \n",
    "```"
   ]
  },
  {
   "cell_type": "markdown",
   "metadata": {},
   "source": [
    "**Example of simulated annealing**\n",
    "\n",
    "$$\n",
    "\\min_x\\ f(x) = |x\\cos(x)| + \\frac{|x|}{2}\\,.\n",
    "$$\n",
    "\n",
    "During each step, a new candidate solution is selected randomly according to\n",
    "\n",
    "$$\n",
    "x_n = x + \\Delta x\\,,\n",
    "$$\n",
    "with\n",
    "$$\n",
    "\\Delta x \\sim N(0, \\sigma)\\,.\n",
    "$$"
   ]
  },
  {
   "cell_type": "code",
   "execution_count": 6,
   "metadata": {
    "collapsed": false,
    "scrolled": true
   },
   "outputs": [
    {
     "data": {
      "image/png": "[encoded data removed]",
      "text/plain": [
       "<matplotlib.figure.Figure at 0x112e9de10>"
      ]
     },
     "metadata": {},
     "output_type": "display_data"
    }
   ],
   "source": [
    "from simulated_annealing_demo import plot_SA_example\n",
    "\n",
    "f_toy_example = lambda x : np.abs(x * np.cos(x)) + 0.5 * np.abs(x)\n",
    "x0 = 55\n",
    "hyperparameters = {'Tmax' : 1000, 'Tmin' : 0.1,\n",
    "                    'r' : 0.8, 'kT' : 10, 'sigma' : 5}\n",
    "\n",
    "plot_SA_example(f_toy_example, x0, hyperparameters)"
   ]
  },
  {
   "cell_type": "markdown",
   "metadata": {},
   "source": [
    "### Genetic algorithm"
   ]
  },
  {
   "cell_type": "markdown",
   "metadata": {},
   "source": [
    "```\n",
    "Genetic algorithm(population size, number of generations, pmut, pcross)\n",
    "    initialize a random population\n",
    "    repeat for a number of generations\n",
    "        use tournament selection to generate a new population\n",
    "        recombinate the new population using mutations and crossover\n",
    "        apply elitism\n",
    "    return best individual of final population\n",
    "```"
   ]
  },
  {
   "cell_type": "markdown",
   "metadata": {},
   "source": [
    "## Project: Designing bio-active peptides\n",
    "\n",
    "Some peptides have an anti-microbial function. These peptides originate from the innate immuum system and are found in nearly all classes of life. These peptides often have a general mode of action and are thus effective against a broad range of microorganisms and it is quite difficult to acquire resistence for these organisms. As such they are an attractive alternative to conventional antibiotics."
   ]
  },
  {
   "cell_type": "markdown",
   "metadata": {},
   "source": [
    "![Two possible mechanisms how a peptide can target a bacterial cell.](Figures/Modes_of_action.png)"
   ]
  },
  {
   "cell_type": "markdown",
   "metadata": {},
   "source": [
    "In this project we will use genetic algorithms (in the very broad sense) to design and optimize a novel anti-microbial peptide. For this, we have downloaded a fasta file containing the amino acid sequence of over two thousand anti-microbial peptides as a reference set from the [Collection of Anti-Microbial Peptides](http://www.camp.bicnirrh.res.in/) database. Using a machine learning technique called kernel embedding, we have modelled the distribution of these peptides. This model can be used to generate a score between 0 and 1 for a given peptide, representing our belief that the peptide has an anti-microbial function (higher is better). The model is externally developed and is to us a black box."
   ]
  },
  {
   "cell_type": "markdown",
   "metadata": {},
   "source": [
    "For example:"
   ]
  },
  {
   "cell_type": "code",
   "execution_count": 8,
   "metadata": {
    "collapsed": false,
    "scrolled": true
   },
   "outputs": [
    {
     "name": "stdout",
     "output_type": "stream",
     "text": [
      "Loading the sequences...\n",
      "Loading the features...\n",
      "Finished!\n"
     ]
    }
   ],
   "source": [
    "from anti_microbial_peptide_model import score_peptide"
   ]
  },
  {
   "cell_type": "code",
   "execution_count": 9,
   "metadata": {
    "collapsed": false
   },
   "outputs": [
    {
     "name": "stdout",
     "output_type": "stream",
     "text": [
      "6.35396112848e-05\n"
     ]
    }
   ],
   "source": [
    "print(score_peptide('ASRTYUIPUYGRVHHGY'))  # a random peptide"
   ]
  },
  {
   "cell_type": "code",
   "execution_count": 10,
   "metadata": {
    "collapsed": false
   },
   "outputs": [
    {
     "name": "stdout",
     "output_type": "stream",
     "text": [
      "0.00770537270675\n"
     ]
    }
   ],
   "source": [
    "print(score_peptide('SKITDILAKLGKVLAHV'))  # a peptide from the database"
   ]
  },
  {
   "cell_type": "code",
   "execution_count": 11,
   "metadata": {
    "collapsed": false
   },
   "outputs": [
    {
     "name": "stdout",
     "output_type": "stream",
     "text": [
      "1000 loops, best of 3: 686 µs per loop\n"
     ]
    }
   ],
   "source": [
    "%timeit score_peptide('ASRTYUIPUYGRVHHGY')  # time to score a random peptide"
   ]
  },
  {
   "cell_type": "code",
   "execution_count": 12,
   "metadata": {
    "collapsed": false
   },
   "outputs": [
    {
     "name": "stdout",
     "output_type": "stream",
     "text": [
      "1000 loops, best of 3: 745 µs per loop\n"
     ]
    }
   ],
   "source": [
    "%timeit score_peptide('SKITDILAKLGKVLAHV') # time to score a peptide from the database"
   ]
  },
  {
   "cell_type": "markdown",
   "metadata": {},
   "source": [
    "We will try to find a new peptide with a length of twenty amino acids with the highest possible score according to the given model. To this end, hill climbing, simulated annealing and genetic algorithms will be used.\n",
    "\n",
    "For the problem setting at hand, we clarify the following terminology:\n",
    "- The **neigborhood** of a peptide: the set of all peptides which differ with exactly one amino acid compared to the given peptide\n",
    "- When a **mutation** occurs, a residue of a peptide is replaced by a randomly chosen amino acid. In our implementation of simulated annealing and the genetic algorithm, each amino acid in a peptide has a small fixed probability `pmut` to be mutated.\n",
    "- During a **crossover** event between two peptides, at each position the corresponding residues of the peptides are either switched or remain unchanged with equal probability. Crossovers occur between two randomly selected individuals with a probability `pcross`."
   ]
  },
  {
   "cell_type": "markdown",
   "metadata": {},
   "source": [
    "**Assignment 1**\n",
    "\n",
    "Complete the implementation of the function `hill_climbing` to bring either a given peptide or a randomly generated peptide of a given length to a local optimum. Run the algorithms ten times to generate optimized peptides of length twenty. What scores do you get? Describe these plots."
   ]
  },
  {
   "cell_type": "code",
   "execution_count": 13,
   "metadata": {
    "collapsed": false
   },
   "outputs": [
    {
     "data": {
      "text/plain": [
       "['A',\n",
       " 'V',\n",
       " 'L',\n",
       " 'I',\n",
       " 'P',\n",
       " 'F',\n",
       " 'W',\n",
       " 'M',\n",
       " 'K',\n",
       " 'R',\n",
       " 'H',\n",
       " 'G',\n",
       " 'S',\n",
       " 'T',\n",
       " 'C',\n",
       " 'Y',\n",
       " 'N',\n",
       " 'Q',\n",
       " 'D',\n",
       " 'E']"
      ]
     },
     "execution_count": 13,
     "metadata": {},
     "output_type": "execute_result"
    }
   ],
   "source": [
    "from protein_sequence_features import amino_acids\n",
    "\n",
    "amino_acids  # the amino acids"
   ]
  },
  {
   "cell_type": "code",
   "execution_count": 14,
   "metadata": {
    "collapsed": true
   },
   "outputs": [],
   "source": [
    "def explore_peptide_region(peptide, scoring=score_peptide):\n",
    "    \"\"\"\n",
    "    Searches all neighboring peptides of a given peptide that differ exactly one\n",
    "    amino acid\n",
    "    \"\"\"\n",
    "    # find neighbourhood of peptide\n",
    "    neighbourhood = []\n",
    "    peptide = list(peptide)\n",
    "    for i in range(0, len(peptide)):\n",
    "        for aa in amino_acids:\n",
    "            if aa != peptide[i]:\n",
    "                newpep = peptide.copy()\n",
    "                newpep[i] = aa\n",
    "                newpep = ''.join(newpep)\n",
    "                neighbourhood.append(newpep)\n",
    "    \n",
    "    # find best scoring peptide\n",
    "    best_score = ''\n",
    "    best_peptide = ''\n",
    "    for pep in neighbourhood:\n",
    "        if best_peptide == '':\n",
    "            best_score = scoring(pep)\n",
    "            best_peptide = pep\n",
    "        else:\n",
    "            score = scoring(pep)\n",
    "            if score > best_score:\n",
    "                best_score = score\n",
    "                best_peptide = pep\n",
    "    \n",
    "    return best_score, best_peptide\n",
    "\n",
    "\n",
    "def hill_climbing(peptidesize=None, peptide=None, scoring=score_peptide):\n",
    "    \"\"\"\n",
    "    Uses hill climbing to find a peptide with a high score for\n",
    "    antimicrobial activity.\n",
    "\n",
    "    Inputs:\n",
    "        - peptidesize : give size if stated from a randon peptide\n",
    "        - peptide : optionally give an intial peptide to improve\n",
    "        - scoring : the scoring function used for the peptides\n",
    "\n",
    "    Outputs:\n",
    "        - peptide : best found peptide\n",
    "        - best_scores : best scores obtained through the iterations\n",
    "    \"\"\"\n",
    "    assert peptidesize is not None or peptide is not None\n",
    "    # if no peptide is made, give a random one\n",
    "    if peptide is None:\n",
    "        peptide = ''\n",
    "        for res in range(peptidesize):\n",
    "            peptide += choice(amino_acids)\n",
    "    else:\n",
    "        peptidesize = len(peptide)\n",
    "    best_scores = [scoring(peptide)]\n",
    "    peptides = [peptide]\n",
    "    while True:\n",
    "        new_score, new_peptide = explore_peptide_region(peptide, scoring) # find  \n",
    "        if new_score > scoring(peptide): #  improvement?\n",
    "            peptide = new_peptide\n",
    "            best_scores.append(new_score)  \n",
    "        else:\n",
    "            break\n",
    "    return peptide, best_scores"
   ]
  },
  {
   "cell_type": "code",
   "execution_count": 15,
   "metadata": {
    "collapsed": true
   },
   "outputs": [],
   "source": [
    "best_peptide, best_scores = hill_climbing(peptidesize = 20, peptide = None, scoring=score_peptide)"
   ]
  },
  {
   "cell_type": "code",
   "execution_count": 16,
   "metadata": {
    "collapsed": false,
    "scrolled": true
   },
   "outputs": [
    {
     "name": "stdout",
     "output_type": "stream",
     "text": [
      "Best found peptide found by hill climbing:\n",
      " NVASESEFMNTIANIIVAMV \n",
      "\n",
      "Best scores obtained by hill climbing:\n",
      " 0.0306464423765 \n",
      "\n",
      "CPU times: user 83.5 ms, sys: 18.8 ms, total: 102 ms\n",
      "Wall time: 110 ms\n"
     ]
    },
    {
     "data": {
      "image/png": "[encoded data removed]",
      "text/plain": [
       "<matplotlib.figure.Figure at 0x1194bd550>"
      ]
     },
     "metadata": {},
     "output_type": "display_data"
    }
   ],
   "source": [
    "%%time \n",
    "# make a plot of the running of hill climbing \n",
    "plt.plot(best_scores)\n",
    "plt.title(\"Best scores obtained by hill climbing\")\n",
    "print(\"Best found peptide found by hill climbing:\\n\", best_peptide,\"\\n\")\n",
    "print(\"Best scores obtained by hill climbing:\\n\", max(best_scores),\"\\n\")"
   ]
  },
  {
   "cell_type": "markdown",
   "metadata": {},
   "source": [
    "Observation:\n",
    "\n",
    "The best score obtained increase gradually."
   ]
  },
  {
   "cell_type": "code",
   "execution_count": 17,
   "metadata": {
    "collapsed": false
   },
   "outputs": [
    {
     "name": "stdout",
     "output_type": "stream",
     "text": [
      "CPU times: user 37.5 s, sys: 9.91 s, total: 47.4 s\n",
      "Wall time: 48.1 s\n"
     ]
    },
    {
     "data": {
      "image/png": "[encoded data removed]",
      "text/plain": [
       "<matplotlib.figure.Figure at 0x1195c7cf8>"
      ]
     },
     "metadata": {},
     "output_type": "display_data"
    }
   ],
   "source": [
    "%%time\n",
    "# make a plot of the running of hill climbing \n",
    "# for ten runs\n",
    "def plot_running_hill_climbing(runs = 10, peptidesize=None, peptide=None, scoring=score_peptide):\n",
    "    ymax = 0\n",
    "    for i in range(runs):\n",
    "        best_peptide, best_scores = hill_climbing(peptidesize, peptide, scoring)\n",
    "        if max(best_scores) > ymax:\n",
    "            ymax = max(best_scores)\n",
    "        plt.plot(best_scores)\n",
    "    plt.ylim(0, ymax)\n",
    "plot_running_hill_climbing(runs = 10, peptidesize=15, peptide=None, scoring=score_peptide)"
   ]
  },
  {
   "cell_type": "markdown",
   "metadata": {},
   "source": [
    "**COMMENT ON THIS PLOT? HOW ARE THE DIFFERENT RUNS THE SAME AND WHAT DO THEY HAVE IN COMMON?**\n",
    "\n",
    "All the runs start at a different peptide. The best score obtained increase gradually. For the majority of the runs the best score tend to increase rapidely at the beginning and slowlier at the end. For some runs it takes more steps to find a local optimum. The runs do not end in the same optimum."
   ]
  },
  {
   "cell_type": "markdown",
   "metadata": {},
   "source": [
    "**Assignment 2**\n",
    "\n",
    "Hill climbing greedily improves the given peptide until no single change of in amino acid residus increases the score. The solution of hill climbing is likely to be a local optimum (and not necessarily a good one!).\n",
    "\n",
    "We will try to generate better peptides using simulated annealing (which only uses mutations to generate diversity in the candidate solutions) and a genetic algorithm (which uses both mutations as well as crossover to generate novel peptides). \n",
    "\n",
    "1. Complete the functions to generate diversity in the peptides. The function `mutate_peptide` takes a peptide as input and returns a new peptide where each amino acid is changed by a randomly chosen other peptide with a probability `pmut`. The function `crossover_peptides` requires two peptides of equal length as input and outputs the corresponding random crossover peptides.\n",
    "2. Complete the function `simulated_annealing` to optimize random peptide of fixed length. Try to find an optimal peptide of length twenty. Discuss how to choose good values for `Tmin`, `Tmax`, `r` and `kT`.\n",
    "3. Finally, complete the function `genetic_algorithm`. You also have to complete the functions `tournament_selection` and `recombinate` which will be used in the main algorithm. Try to find the an optimal peptide of length twenty as well, using some trial and error to find the hyperparameters. \n",
    "4. Compare the quality of the solution using hill climbing, simulated annealing and the genetic algorithm. If you take code complexity and computation time into account, which would you try first for general problems?"
   ]
  },
  {
   "cell_type": "code",
   "execution_count": 59,
   "metadata": {
    "collapsed": true
   },
   "outputs": [],
   "source": [
    "import random \n",
    "\n",
    "def mutate_peptide(peptide, pmut=0.05):\n",
    "    \"\"\"\n",
    "    Replaces each amino acid of the peptide with an arbitrary chosen\n",
    "    amino acid with a probability pmut\n",
    "    \"\"\"\n",
    "    peptide = list(peptide)\n",
    "    mutated = peptide.copy()\n",
    "    for i in range(0, len(peptide)):\n",
    "        if random.uniform(0, 1) <= pmut:\n",
    "            # we will mutate the current amino acid\n",
    "            mutated[i] = choice(amino_acids)\n",
    "    return ''.join(mutated)\n",
    "\n",
    "def crossover_peptides(peptide1, peptide2):\n",
    "    \"\"\"\n",
    "    Performs crossover for two peptides, each position is switched with equal\n",
    "    probability.\n",
    "\n",
    "    Inputs:\n",
    "        - peptide1, peptide2\n",
    "\n",
    "    Outputs:\n",
    "        - crossed_peptide1, crossed_peptide2\n",
    "    \"\"\"\n",
    "    pep1 = list(peptide1)\n",
    "    pep2 = list(peptide2)\n",
    "    crossed1 = pep1.copy()\n",
    "    crossed2 = pep2.copy()\n",
    "    for i in range(0, len(pep1)):\n",
    "        if random.uniform(0, 1) >= 0.5:\n",
    "            crossed1[i] = pep2[i]\n",
    "            crossed2[i] = pep1[i]\n",
    "    return ''.join(crossed1), ''.join(crossed2)"
   ]
  },
  {
   "cell_type": "code",
   "execution_count": 60,
   "metadata": {
    "collapsed": false
   },
   "outputs": [],
   "source": [
    "peptide1 = 'AAAAAAAAAAAA'\n",
    "peptide2 = 'CCCCCCCCCCCC'"
   ]
  },
  {
   "cell_type": "code",
   "execution_count": 61,
   "metadata": {
    "collapsed": false
   },
   "outputs": [
    {
     "name": "stdout",
     "output_type": "stream",
     "text": [
      "AAAADAAAAAAA\n"
     ]
    }
   ],
   "source": [
    "print(mutate_peptide(peptide1, pmut=0.1))"
   ]
  },
  {
   "cell_type": "code",
   "execution_count": 62,
   "metadata": {
    "collapsed": false
   },
   "outputs": [
    {
     "name": "stdout",
     "output_type": "stream",
     "text": [
      "CACAAACAAACA ACACCCACCCAC\n"
     ]
    }
   ],
   "source": [
    "print(*crossover_peptides(peptide1, peptide2))"
   ]
  },
  {
   "cell_type": "code",
   "execution_count": 22,
   "metadata": {
    "collapsed": true
   },
   "outputs": [],
   "source": [
    "#Import package \"math\" required:\n",
    "import math\n",
    "\n",
    "def simulated_annealing(peptidesize, Tmax, Tmin, pmut, \n",
    "                        r, kT, scoring=score_peptide, verbose = True):\n",
    "    \"\"\"\n",
    "    Uses simulated annealing to find a peptide with a high score for\n",
    "    antimicrobial activity.\n",
    "\n",
    "    Inputs:\n",
    "        - peptidesize : length of the peptide\n",
    "        - Tmax : maximum (starting) temperature\n",
    "        - Tmin : minimum (stopping) temperature\n",
    "        - pmut : probability of mutating an amino acid in the peptide\n",
    "        - r : rate of cooling\n",
    "        - kT : number of iteration with fixed temperature\n",
    "        - scoring : the scoring function used for the peptides\n",
    "\n",
    "    Outputs:\n",
    "        - peptide : best found peptide\n",
    "        - fbest : best scores obtained through the iterations\n",
    "        - temperatures : temperature during the iterations\n",
    "    \"\"\"\n",
    "    # create intial peptide\n",
    "    peptide = ''\n",
    "    for _ in range(peptidesize):\n",
    "        peptide += choice(amino_acids)\n",
    "    if verbose:\n",
    "        print(\"Start:\", peptide)\n",
    "\n",
    "    temp = Tmax\n",
    "    fstar = scoring(peptide)\n",
    "    fbest = [fstar]\n",
    "    temperatures = [temp]\n",
    "\n",
    "    while temp > Tmin:\n",
    "        for _ in range(kT):\n",
    "            # only use mutations for simulated annealing\n",
    "            mut_peptide = mutate_peptide(peptide, pmut)\n",
    "            if scoring(mut_peptide) > scoring(peptide):\n",
    "                # take this peptide as new peptide\n",
    "                peptide = mut_peptide\n",
    "            elif random.uniform(0,1) < math.exp((scoring(mut_peptide)-scoring(peptide))/temp):\n",
    "                peptide = mut_peptide\n",
    "        # cool down the temp with r as factor\n",
    "        temp = temp*r\n",
    "        \n",
    "        fbest.append(scoring(peptide))  # save best value\n",
    "        temperatures.append(temp)  # save best temperature\n",
    "    return peptide, fbest, temperatures"
   ]
  },
  {
   "cell_type": "code",
   "execution_count": 30,
   "metadata": {
    "collapsed": false
   },
   "outputs": [
    {
     "name": "stdout",
     "output_type": "stream",
     "text": [
      "Start: YQMCQLAFVKGLCTALCHGH\n",
      "CPU times: user 1min 12s, sys: 14 s, total: 1min 25s\n",
      "Wall time: 1min 27s\n"
     ]
    }
   ],
   "source": [
    "%%time\n",
    "peptide_SA, fitness, temperature = simulated_annealing(peptidesize=20, Tmax=10e-3, \n",
    "                                                       Tmin=10e-8, pmut=0.3, r=0.999, kT=2, scoring=score_peptide)"
   ]
  },
  {
   "cell_type": "code",
   "execution_count": 31,
   "metadata": {
    "collapsed": false
   },
   "outputs": [
    {
     "name": "stdout",
     "output_type": "stream",
     "text": [
      "Best found peptide found by simulated annealing:\n",
      " NMLISVLASLANLISSVIQT \n",
      "\n",
      "Best scores obtained by simulated annealing:\n",
      " 0.0319201353031 \n",
      "\n"
     ]
    }
   ],
   "source": [
    "#return the results:\n",
    "print(\"Best found peptide found by simulated annealing:\\n\", peptide_SA,\"\\n\")\n",
    "print(\"Best scores obtained by simulated annealing:\\n\", max(fitness),\"\\n\")"
   ]
  },
  {
   "cell_type": "code",
   "execution_count": 32,
   "metadata": {
    "collapsed": false,
    "scrolled": true
   },
   "outputs": [
    {
     "data": {
      "text/plain": [
       "<matplotlib.text.Text at 0x119413e10>"
      ]
     },
     "execution_count": 32,
     "metadata": {},
     "output_type": "execute_result"
    },
    {
     "data": {
      "image/png": "[encoded data removed]",
      "text/plain": [
       "<matplotlib.figure.Figure at 0x119455b70>"
      ]
     },
     "metadata": {},
     "output_type": "display_data"
    }
   ],
   "source": [
    "# make a plot for simulated annealing\n",
    "plt.plot(fitness)\n",
    "plt.plot(temperature)\n",
    "plt.title(\"Evolution of the fitness scores and the temperature\")"
   ]
  },
  {
   "cell_type": "code",
   "execution_count": 65,
   "metadata": {
    "collapsed": false
   },
   "outputs": [
    {
     "name": "stdout",
     "output_type": "stream",
     "text": [
      "Start: NKTLYKDYAWCLWHKCPFMM\n",
      "Start: GTMQENNIAFEMFRLKMYER\n",
      "Start: RRHIDPIDHKTVHYFRSNHD\n",
      "Start: ATHSIALTDPIWFIFHYAPP\n",
      "Start: DQHGRYLNKYVDGHQWLWFG\n",
      "Start: LCNCPPDQVHCWHNVQWIIN\n",
      "Start: NNCESRYQNEIQCYRHNCLN\n",
      "Start: RQFRGMYDGEVQQRGIVPWK\n",
      "Start: DDFKEASAYSFMHKMLCKEA\n",
      "Start: SEPDCSDIHDTSHDRTFPRP\n",
      "CPU times: user 12min 44s, sys: 13.3 s, total: 12min 58s\n",
      "Wall time: 13min 19s\n"
     ]
    },
    {
     "data": {
      "image/png": "[encoded data removed]",
      "text/plain": [
       "<matplotlib.figure.Figure at 0x119c9dda0>"
      ]
     },
     "metadata": {},
     "output_type": "display_data"
    }
   ],
   "source": [
    "%%time\n",
    "# make a plot for simulated annealing\n",
    "# for ten runs\n",
    "def plot_simulated_annealing(peptidesize, Tmax, Tmin, pmut, r, kT, scoring=score_peptide, runs=1):\n",
    "    ymax = 0\n",
    "    for i in range(runs):\n",
    "        peptide, fbest, temperatures = simulated_annealing(peptidesize, Tmax,\n",
    "                                                           Tmin, pmut, r, kT, scoring=score_peptide)\n",
    "        if max(fbest) > ymax:\n",
    "            ymax = max(fbest)\n",
    "        plt.plot(fbest)\n",
    "    plt.ylim(0, ymax)\n",
    "\n",
    "plot_simulated_annealing(peptidesize=20, Tmax=10e-3, \n",
    "                         Tmin=10e-8, pmut=0.3, r=0.999, kT=2, scoring=score_peptide, runs = 10)"
   ]
  },
  {
   "cell_type": "code",
   "execution_count": 45,
   "metadata": {
    "collapsed": true
   },
   "outputs": [],
   "source": [
    "# EXPERIMENT WITH THE HYPERPARAMETERS OF SA HERE"
   ]
  },
  {
   "cell_type": "markdown",
   "metadata": {},
   "source": [
    "**R**"
   ]
  },
  {
   "cell_type": "raw",
   "metadata": {
    "collapsed": true
   },
   "source": [
    "%%time\n",
    "#Try to optimize r parameter, we know that r has to be close to 1:\n",
    "runs_per_value = 3\n",
    "scores = list()\n",
    "param = list()\n",
    "maxscore = 0\n",
    "for parameter in  np.arange(0.9990, 0.9999, 0.0001):\n",
    "    param.append(parameter)\n",
    "    best_scores = list()\n",
    "    pep = list()\n",
    "    for _ in range(runs_per_value):\n",
    "        pept, fitness,_ = simulated_annealing(peptidesize=20, Tmax=10e-3, Tmin=10e-8, \n",
    "                                             pmut=0.3, r=parameter, kT=2, scoring=score_peptide, verbose=False)\n",
    "        # extract the best value\n",
    "        pep.append(pept)\n",
    "        best_scores.append(fitness[-1])\n",
    "    if maxscore == 0 or max(best_scores)>maxscore: \n",
    "        maxscore, best_pept = max(best_scores), pep[np.argmax(best_scores)]\n",
    "    scores.append(np.mean(best_scores))\n",
    "plt.plot(param, scores)\n",
    "plt.title('Effect of r on the fitness score')\n",
    "print('Best score:', maxscore, 'with peptide =', best_pept)"
   ]
  },
  {
   "cell_type": "markdown",
   "metadata": {},
   "source": [
    "r parameter has to be the closest as possible of 1. I tried to run SA with a value of r = 0.99999. It runned for 2h 6min 16s and I obtain 0.033734275992044739 as best score. The closest r is from 1, the more it starts to be computationnaly intensive."
   ]
  },
  {
   "cell_type": "markdown",
   "metadata": {},
   "source": [
    "**kT**"
   ]
  },
  {
   "cell_type": "raw",
   "metadata": {},
   "source": [
    "%%time\n",
    "#Try to optimize kT parameter:\n",
    "runs_per_value = 3\n",
    "scores = list()\n",
    "parame = list()\n",
    "\n",
    "maxscore = 0\n",
    "for parameter in  np.arange(1, 10, 1):\n",
    "    param.append(parameter)\n",
    "    best_scores = list()\n",
    "    pep = list()\n",
    "    for _ in range(runs_per_value):\n",
    "        pept, fitness,_ = simulated_annealing(peptidesize=20, Tmax=10e-3, Tmin=10e-7,pmut=0.1, r=0.99, kT=parameter, scoring=score_peptide, verbose=False)\n",
    "        # extract the best value\n",
    "        pep.append(pept)\n",
    "        best_scores.append(fitness[-1])\n",
    "    scores.append(np.mean(best_scores))\n",
    "    if maxscore == 0 or max(best_scores)>maxscore: \n",
    "        maxscore, best_pept = max(best_scores), pep[np.argmax(best_scores)]\n",
    "plt.plot(param, scores)\n",
    "plt.title('Effect of kT on the fitness')\n",
    "print('Best score value:', max_score, 'with peptide', best_pept)"
   ]
  },
  {
   "cell_type": "markdown",
   "metadata": {},
   "source": [
    "When values of kT are higher than 2.5 good scores can be reached. However, more kT is big, more it is computationnaly intensive."
   ]
  },
  {
   "cell_type": "markdown",
   "metadata": {},
   "source": [
    "**Tmin & Tmax**"
   ]
  },
  {
   "cell_type": "markdown",
   "metadata": {},
   "source": [
    "Concerning Tmax and Tmin, their values have to be really small."
   ]
  },
  {
   "cell_type": "markdown",
   "metadata": {},
   "source": [
    "**DESCRIBE THE EFFECT OF THE HYPERPARAMETERS. MAKE A PLOT TO ILLUSTRATE THE BEHAVIOUR BELOW.**\n",
    "\n",
    "The more kT is big the better it is for the fitness score, however it leads to computational issues. \n",
    "The same can be observed for r parameter, the closest it is from 1, the highest score is obtained but the most the operation is time consuming."
   ]
  },
  {
   "cell_type": "code",
   "execution_count": 40,
   "metadata": {
    "collapsed": true
   },
   "outputs": [],
   "source": [
    "def tournament_selection(scored_peptides):\n",
    "    \"\"\"\n",
    "    Apply tournament selection on a list of scored peptides.\n",
    "\n",
    "    Input:\n",
    "        - scored_peptides : a list of scored peptides, each element is a tuple\n",
    "                        of the form (score, peptide)\n",
    "    Output:\n",
    "        - selected_peptides : a list of peptides selected from scored_peptides\n",
    "                        based on tournament selection (without the score)\n",
    "    \"\"\"\n",
    "    # complete this\n",
    "    selected_peptides = []\n",
    "    if len(scored_peptides) != 1:\n",
    "        for i in range (len(scored_peptides)):\n",
    "            pep1 = choice(scored_peptides)\n",
    "            pop = scored_peptides.copy()\n",
    "            pop.remove(pep1)\n",
    "            pep2 = choice(pop)\n",
    "            if pep1 != pep2:\n",
    "                selected_fitness = max(pep1, pep2)[1]\n",
    "                selected_peptides.append(selected_fitness)\n",
    "            else:\n",
    "                selected_peptides.append(pep1[1])\n",
    "    else:\n",
    "        return[scored_peptides[0][1]]\n",
    "    return selected_peptides\n",
    "\n",
    "\n",
    "def recombinate(population, pmut, pcross):\n",
    "    \"\"\"\n",
    "    Recombinates a population of peptides.\n",
    "\n",
    "    Inputs:\n",
    "        - population : a list of peptides\n",
    "        - pmut : probability of mutating an amino acid\n",
    "        - pcross : probability of two peptides crossing over\n",
    "\n",
    "    Output:\n",
    "        - recombinated_population\n",
    "    \"\"\"\n",
    "    mutated_population = list()\n",
    "    # the population with mutation and cross over applied to\n",
    "    for pep in population:\n",
    "        mutated_population.append(mutate_peptide(pep, pmut=pmut))\n",
    "    recombinated_population = list()\n",
    "    i = 1\n",
    "    while len(recombinated_population) != len(population) and i != len(population) and len(mutated_population) != 1:\n",
    "        i += 1\n",
    "        pep1 = choice(mutated_population)\n",
    "        mut_pop = mutated_population.copy()\n",
    "        mut_pop.remove(pep1)\n",
    "        pep2 = choice(mut_pop)\n",
    "        if random.uniform(0,1) <= pcross:\n",
    "            mutated_population.remove(pep1)\n",
    "            mutated_population.remove(pep2)\n",
    "            cross1, cross2 = crossover_peptides(pep1, pep2)\n",
    "            recombinated_population += [cross1, cross2]\n",
    "    for not_crossed_pep in mutated_population:\n",
    "        recombinated_population.append(not_crossed_pep)\n",
    "    \n",
    "    return recombinated_population"
   ]
  },
  {
   "cell_type": "code",
   "execution_count": 41,
   "metadata": {
    "collapsed": true
   },
   "outputs": [],
   "source": [
    "def genetic_algorithm(peptidesize, n_iterations, popsize, pmut, pcross,\n",
    "                                                    scoring=score_peptide):\n",
    "    \"\"\"\n",
    "    Uses a genetic algorithm to find a peptide with a high score for\n",
    "    antimicrobial activity.\n",
    "\n",
    "    Inputs:\n",
    "        - peptidesize : length of the peptide\n",
    "        - n_iterations : number of iterations (generations)\n",
    "        - popsize : size of the population\n",
    "        - pmut : probability of mutating an amino acid in the peptide\n",
    "        - pcross : probability of performing a crossover\n",
    "        - scoring : the scoring function used for the peptides\n",
    "\n",
    "    Outputs:\n",
    "        - best_peptide : best found peptide\n",
    "        - best_fitness_iteration : best scores obtained through the iterations\n",
    "    \"\"\"\n",
    "    # initialize population\n",
    "    population = []\n",
    "    for _ in range(popsize):\n",
    "        peptide = ''\n",
    "        for _ in range(peptidesize):\n",
    "            peptide += choice(amino_acids)\n",
    "        population.append(peptide)\n",
    "\n",
    "    # score peptides\n",
    "    scored_peptides = [(scoring(peptide), peptide)\n",
    "                        for peptide in population]\n",
    "    best_fitness, best_peptide = max(scored_peptides)\n",
    "\n",
    "    best_fitness_iteration = [best_fitness]\n",
    "    \n",
    "    elites = set()\n",
    "\n",
    "    for iter in range(n_iterations):\n",
    "        # select population\n",
    "        tournament_population = tournament_selection(scored_peptides)\n",
    "\n",
    "        # recombinate population\n",
    "        recombinated = recombinate(tournament_population, pmut=pmut, pcross=pcross)\n",
    "\n",
    "        # elitism\n",
    "        scored_peptides = [(scoring(peptide), peptide)for peptide in recombinated]\n",
    "        set_score = set(scored_peptides)\n",
    "        elites.add(max(set_score))       \n",
    "        # score peptides\n",
    "        \n",
    "        # select best\n",
    "        best_fitness, best_peptide = max(elites)\n",
    "        best_fitness_iteration.append(best_fitness)\n",
    "\n",
    "    return best_peptide, best_fitness_iteration"
   ]
  },
  {
   "cell_type": "code",
   "execution_count": 43,
   "metadata": {
    "collapsed": false,
    "scrolled": true
   },
   "outputs": [
    {
     "name": "stdout",
     "output_type": "stream",
     "text": [
      "CPU times: user 35.2 s, sys: 381 ms, total: 35.5 s\n",
      "Wall time: 35.7 s\n"
     ]
    }
   ],
   "source": [
    "%%time\n",
    "peptide_GA, best_fitness_iteration = genetic_algorithm(peptidesize=20, n_iterations=100,\n",
    "                                        popsize=500, pmut=0.02, pcross=0.8, scoring=score_peptide)"
   ]
  },
  {
   "cell_type": "code",
   "execution_count": 44,
   "metadata": {
    "collapsed": false
   },
   "outputs": [
    {
     "name": "stdout",
     "output_type": "stream",
     "text": [
      "Best found peptide found by genetic algorithm:\n",
      " IIGAIITAIMSQMHHMFHHI \n",
      "\n",
      "Best fitness iteration obtained by genetic algorithm:\n",
      " 0.0324635875013 \n",
      "\n"
     ]
    },
    {
     "data": {
      "image/png": "[encoded data removed]",
      "text/plain": [
       "<matplotlib.figure.Figure at 0x119ae5668>"
      ]
     },
     "metadata": {},
     "output_type": "display_data"
    }
   ],
   "source": [
    "# make a plot for the genetic algorithm\n",
    "plt.plot(best_fitness_iteration)\n",
    "plt.title(\"Best fitness iteration obtained by Genetic Algorithm\")\n",
    "print(\"Best found peptide found by genetic algorithm:\\n\", peptide_GA,\"\\n\")\n",
    "print(\"Best fitness iteration obtained by genetic algorithm:\\n\", max(best_fitness_iteration),\"\\n\")"
   ]
  },
  {
   "cell_type": "markdown",
   "metadata": {},
   "source": [
    "**PMUT**"
   ]
  },
  {
   "cell_type": "markdown",
   "metadata": {},
   "source": [
    "The first parameter I tried to optimize was pmut. For this reason, I range the value of this parameter from 0.1 to 0.4. Doing that, I obtain a plot with a maximum of fitness for values smaller than 0.1."
   ]
  },
  {
   "cell_type": "raw",
   "metadata": {
    "collapsed": true
   },
   "source": [
    "%%time\n",
    "#Optimising pmut\n",
    "runs_per_value = 3\n",
    "scores= list()\n",
    "param = list()\n",
    "maxscore = 0\n",
    "for parameter in np.arange(0.1, 0.4, 0.1):\n",
    "    param.append(parameter)\n",
    "    best_scores = list()\n",
    "    pep = list()\n",
    "    for _ in range(runs_per_value):\n",
    "        pept, fitness, scored_peptides = genetic_algorithm(peptidesize=20, n_iterations=100,\n",
    "                                        popsize=500, pmut=parameter, pcross=0.2, scoring=score_peptide)\n",
    "        # extract the best value\n",
    "        pep.append(pept)\n",
    "        best_scores.append(fitness[-1])\n",
    "    scores.append(np.mean(best_scores))\n",
    "    if maxscore == 0 or max(best_scores)>maxscore: \n",
    "        maxscore, best_pept = max(best_scores), pep[np.argmax(best_scores)]\n",
    "plt.plot(param, scores)\n",
    "plt.title('Effect of pmut on the fitness')"
   ]
  },
  {
   "cell_type": "markdown",
   "metadata": {},
   "source": [
    "When I obtain the first plot, I run another script to optimise pmut more precisely. The only change with the script above, is that the range of parameter went from 0.02 to 0.01. The graph obtained showed 2 peaks of highest fitness one higher at pmut = 0.03 and another one smaller at pmut = 0.06. Therefore, I conclude that pmut = 0.03 was the optimal value for this parameter."
   ]
  },
  {
   "cell_type": "raw",
   "metadata": {
    "collapsed": true
   },
   "source": [
    "%%time\n",
    "#Optimising pmut more precisely:\n",
    "runs_per_value = 3\n",
    "scores = list()\n",
    "param = list()\n",
    "maxscore = 0\n",
    "for parameter in np.arange(0.02, 0.1, 0.01):\n",
    "    param.append(parameter)\n",
    "    best_scores = list()\n",
    "    pep = list()\n",
    "    for _ in range(runs_per_value):\n",
    "        pept, fitness, scored_peptides = genetic_algorithm(peptidesize=20, n_iterations=100,\n",
    "                                        popsize=500, pmut=parameter, pcross=0.8, scoring=score_peptide)\n",
    "        # extract the best value\n",
    "        pep.append(pept)\n",
    "        best_scores.append(fitness[-1])\n",
    "    scores.append(np.mean(best_scores))\n",
    "    if maxscore == 0 or max(best_scores)>maxscore: \n",
    "        maxscore, best_pept = max(best_scores), pep[np.argmax(best_scores)]\n",
    "plt.plot(param, scores)\n",
    "plt.title('Effect of pmut on the fitness')"
   ]
  },
  {
   "cell_type": "markdown",
   "metadata": {},
   "source": [
    "**PCROSS**"
   ]
  },
  {
   "cell_type": "markdown",
   "metadata": {},
   "source": [
    "The second parameter I tried to optimize was pcross. For this reason, I range the value of this parameter from 0.1 to 0.9. Doing that, I obtain a plot with a maximum of fitness for values of pcross between 0.3 and 0.5 and another higher peak at 0.8."
   ]
  },
  {
   "cell_type": "raw",
   "metadata": {},
   "source": [
    "%%time\n",
    "# optimising pcross:\n",
    "runs_per_value = 3\n",
    "scores = list()\n",
    "param = list()\n",
    "maxscore = 0\n",
    "for parameter in np.arange(0.1, 0.9, 0.1):\n",
    "    param.append(parameter)\n",
    "    best_scores = list()\n",
    "    pep = list()\n",
    "    for _ in range(runs_per_value):\n",
    "        pept, fitness, scored_peptides = genetic_algorithm(peptidesize=20, n_iterations=100,\n",
    "                                        popsize=500, pmut=0.02, pcross=parameter, scoring=score_peptide)\n",
    "        # extract the best value\n",
    "        pep.append(pept)\n",
    "        best_scores.append(fitness[-1])\n",
    "    scores.append(np.mean(best_scores))\n",
    "    if maxscore == 0 or max(best_scores)>maxscore: \n",
    "        maxscore, best_pept = max(best_scores), pep[np.argmax(best_scores)]\n",
    "plt.plot(param, scores)\n",
    "plt.title('Effect of pcross on the fitness')"
   ]
  },
  {
   "cell_type": "markdown",
   "metadata": {},
   "source": [
    "After that, I had a more precise look to values of pcross between 0.8 and 0.95. While doing that I obtain a graph with two peaks of fitness. One higher at 0.82 and another at pcross = 0.93. I conclude that pcross=0.82 gave the best fitness score."
   ]
  },
  {
   "cell_type": "raw",
   "metadata": {},
   "source": [
    "%%time\n",
    "# optimising pcross more precisely:\n",
    "runs_per_value = 3\n",
    "scores = list()\n",
    "param = list()\n",
    "maxscore = 0\n",
    "for parameter in np.arange(0.1, 0.9, 0.1):\n",
    "    param.append(parameter)\n",
    "    best_scores = list()\n",
    "    pep = list()\n",
    "    for _ in range(runs_per_value):\n",
    "        pept, fitness, scored_peptides = genetic_algorithm(peptidesize=20, n_iterations=100,\n",
    "                                        popsize=500, pmut=0.02, pcross=parameter, scoring=score_peptide)\n",
    "        # extract the best value\n",
    "        pep.append(pept)\n",
    "        best_scores.append(fitness[-1])\n",
    "    scores.append(np.mean(best_scores))\n",
    "    if maxscore == 0 or max(best_scores)>maxscore: \n",
    "        maxscore, best_pept = max(best_scores), pep[np.argmax(best_scores)]\n",
    "plt.plot(param, scores)\n",
    "plt.title('Effect of pcross on the fitness')"
   ]
  },
  {
   "cell_type": "markdown",
   "metadata": {},
   "source": [
    "**DESCRIBE THE EFFECT OF THE HYPERPARAMETERS. MAKE A PLOT TO ILLUSTRATE THE BEHAVIOUR BELOW.**\n",
    "\n",
    "To obtain better fitness score, pmut has to be small. The maximal fitness value was obtained by pmut = 0.03.\n",
    "\n",
    "Concerning pcross, its optimal value was harder to find. In fact, pcross has to be close from 1 but not to big. In fact, when pcross = 1, we might lose peptide freshly mutated possibly with good characteristics.  Note that peptides with higher score are more present in the pool compared to the others. To be sure to keep diversity of the peptide, we have to take a pcross higher than 0.5. While paying attention that high scoring peptides (present multiple times in the mixture) can create new diversity and also remain in the mixture in case those new peptides are not good. The optimal value found was 0.82."
   ]
  },
  {
   "cell_type": "markdown",
   "metadata": {},
   "source": [
    "After the optimimal parameters were determined. I run a genetic algorithm with those specific values."
   ]
  },
  {
   "cell_type": "code",
   "execution_count": 51,
   "metadata": {
    "collapsed": false
   },
   "outputs": [
    {
     "name": "stdout",
     "output_type": "stream",
     "text": [
      "Best peptide found by genetic algorithm:\n",
      " LIASIIGTIIESLINVISQA \n",
      "\n",
      "Best fitness obtained by genetic algorihtm:\n",
      " 0.0333710249609 \n",
      "\n"
     ]
    },
    {
     "data": {
      "image/png": "[encoded data removed]",
      "text/plain": [
       "<matplotlib.figure.Figure at 0x119c4ba20>"
      ]
     },
     "metadata": {},
     "output_type": "display_data"
    }
   ],
   "source": [
    "peptide_GA, best_fitness_iteration = genetic_algorithm(peptidesize = 20, n_iterations = 100, popsize = 500, \n",
    "                                                       pmut = 0.03, pcross = 0.82, scoring = score_peptide)\n",
    "#Plot the results:\n",
    "plt.plot(best_fitness_iteration)\n",
    "plt.title(\"Best fitness obtained by Genetic Algorithm\")\n",
    "print(\"Best peptide found by genetic algorithm:\\n\", peptide_GA, \"\\n\")\n",
    "print(\"Best fitness obtained by genetic algorihtm:\\n\",max(best_fitness_iteration),\"\\n\")"
   ]
  },
  {
   "cell_type": "markdown",
   "metadata": {},
   "source": [
    "Observation:\n",
    "\n",
    "As expected, after optimization of the parameters, the best fitness score obtained was higher."
   ]
  },
  {
   "cell_type": "markdown",
   "metadata": {},
   "source": [
    "**Compare the quality of the solution using hill climbing, simulated annealing and the genetic algorithm. If you take code complexity and computation time into account, which would you try first for general problems?**\n",
    "\n",
    "Reminder of the results obtained:\n",
    "\n",
    "*Hill climbing : 0.0306464423765*\n",
    "\n",
    "*Simulated annealing: 0.0319201353031*\n",
    "\n",
    "*Genetic algorithm: 0.0333710249609*\n",
    "\n",
    "By only looking at the best fitness scores, it seems that genetic algorithm performed the best, followed by simulated annealing and finally by hill climbing. \n",
    "\n",
    "While considering the complexity of the code and the computation time, hill climbing is really the most convenient method. It is the fastest method. The 10 runs with hill climbing took 48,1s while 13min 19s were needed for simulated annealing (17 times more). Moreover, for simulated annealing and genetic algorithm, hyperparameters had to be optimized which is time consuming. Hill climbing is the first method I would use in the future for general problems.\n",
    "\n",
    "I would start to solve the problem in question with some runs of Hill climbing to have an idea of the optimal solution. Then, I would try to use genetic algorithm as the parameters can be optimised more easily than for simulated annealing and because genetic algorithm take less time to run than simulated annealing.\n",
    "\n",
    "In other words, if the time is not a constrain in my situation, I will use genetic algorithm because it performs better and I found it easier to compute. Otherwise I will perform hill climbing."
   ]
  },
  {
   "cell_type": "markdown",
   "metadata": {
    "collapsed": true
   },
   "source": [
    "## References\n",
    "\n",
    "Floreano, D. and Mattiussi, C., *'Bio-Inspired Artificial Intelligence'*. MIT Press (2008) [link](http://baibook.epfl.ch/)\n",
    "\n",
    "Song, L.,Fukumizu, K. and Gretton, A. (2013), *'Kernel embeddings of conditional distributions'*. IEEE Signal Processing Magazine 30(4):98-111"
   ]
  }
 ],
 "metadata": {
  "anaconda-cloud": {},
  "kernelspec": {
   "display_name": "Python [default]",
   "language": "python",
   "name": "python3"
  },
  "language_info": {
   "codemirror_mode": {
    "name": "ipython",
    "version": 3
   },
   "file_extension": ".py",
   "mimetype": "text/x-python",
   "name": "python",
   "nbconvert_exporter": "python",
   "pygments_lexer": "ipython3",
   "version": "3.5.2"
  },
  "latex_envs": {
   "bibliofile": "biblio.bib",
   "cite_by": "apalike",
   "current_citInitial": 1,
   "eqLabelWithNumbers": true,
   "eqNumInitial": 0
  }
 },
 "nbformat": 4,
 "nbformat_minor": 0
}
