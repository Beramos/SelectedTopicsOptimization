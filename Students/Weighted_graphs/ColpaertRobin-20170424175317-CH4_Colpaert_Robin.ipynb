{
 "cells": [
  {
   "cell_type": "markdown",
   "metadata": {},
   "source": [
    "# Chapter 4: Minimum spanning trees"
   ]
  },
  {
   "cell_type": "markdown",
   "metadata": {},
   "source": [
    "In this chapter we will continue to study algorithms that process graphs. We will implement Kruskal's algorithm to construct the **minimum spanning tree** of a graph, a subgraph that efficiently connects all nodes."
   ]
  },
  {
   "cell_type": "markdown",
   "metadata": {},
   "source": [
    "## Trees in python\n",
    "\n",
    "A tree is an undirected graph where any two edges are connected by **exactly one path**. For example, consider the tree below.\n",
    "\n",
    "![A simple tree](Figures/example_tree.png)\n",
    "\n",
    "We can represent in python using dictionaries, as we did in the last chapter."
   ]
  },
  {
   "cell_type": "code",
   "execution_count": null,
   "metadata": {
    "collapsed": true
   },
   "outputs": [],
   "source": [
    "tree_dict = {'A' : set(['D']), 'B' : set(['D']), 'C' : set(['D']),\n",
    "             'D' : set(['A', 'B', 'C', 'E']), 'E' : set(['D', 'F']), 'F' : set(['E'])}"
   ]
  },
  {
   "cell_type": "markdown",
   "metadata": {},
   "source": [
    "Though in this chapter, we prefer to represent the tree as a list (set) of links:"
   ]
  },
  {
   "cell_type": "code",
   "execution_count": null,
   "metadata": {
    "collapsed": false
   },
   "outputs": [],
   "source": [
    "tree_links = [(node, neighbor) for node in tree_dict.keys() for neighbor in tree_dict[node]]\n",
    "tree_links"
   ]
  },
  {
   "cell_type": "markdown",
   "metadata": {},
   "source": [
    "If we choose one node as the **root** of the tree, we have exactly one path from this root to each of the other terminal nodes. This idea can applied recursively as follows: from this root, each neighboring is itself a root of a subtree. Each of these subtrees also consist of a root and possibly one or more subtrees. Hence we can also represent the tree as a nested sublist:\n",
    "\n",
    "```\n",
    "tree = [root, [subtree1], [subtree2],...]\n",
    "```\n",
    "\n",
    "For our example, we obtain when taking node D as a root: (see [here](http://interactivepython.org/courselib/static/pythonds/Trees/ListofListsRepresentation.html))"
   ]
  },
  {
   "cell_type": "code",
   "execution_count": null,
   "metadata": {
    "collapsed": true
   },
   "outputs": [],
   "source": [
    "tree_list = ['D', ['A'], ['B'], ['C'], ['E', ['F']]]"
   ]
  },
  {
   "cell_type": "markdown",
   "metadata": {},
   "source": [
    "## Minimum spanning tree"
   ]
  },
  {
   "cell_type": "markdown",
   "metadata": {},
   "source": [
    "Suppose we have an undirected connected weighted graph $G$ as depicted below.\n",
    "\n",
    "![A weighted graph](Figures/graph.png)"
   ]
  },
  {
   "cell_type": "markdown",
   "metadata": {},
   "source": [
    "Weighted graphs can either be implemented as a set of weighted edges of as a dictionary."
   ]
  },
  {
   "cell_type": "code",
   "execution_count": null,
   "metadata": {
    "collapsed": true
   },
   "outputs": [],
   "source": [
    "vertices = ['A', 'B', 'C', 'D', 'E', 'F', 'G']\n",
    "\n",
    "edges = set([(5, 'A', 'D'), (7, 'A', 'B'), (8, 'B', 'C'), (9, 'B', 'D'),\n",
    "         (7, 'B', 'E'), (5, 'C', 'E'), (15, 'D', 'E'), (6, 'F', 'D'), \n",
    "        (8, 'F', 'E'), (9, 'E', 'G'), (11, 'F', 'G')])"
   ]
  },
  {
   "cell_type": "code",
   "execution_count": null,
   "metadata": {
    "collapsed": false
   },
   "outputs": [],
   "source": [
    "weighted_adj_list = {v : set([]) for v in vertices}\n",
    "\n",
    "for weight, vertex1, vertex2 in edges:\n",
    "    weighted_adj_list[vertex1].add((weight, vertex2))\n",
    "    weighted_adj_list[vertex2].add((weight, vertex1))  # undirected graph, in=outgoing edge\n",
    "\n",
    "weighted_adj_list"
   ]
  },
  {
   "cell_type": "markdown",
   "metadata": {},
   "source": [
    "For example, the nodes may represent cities and the weight of an edge may represent the cost of implementing a communication line between two cities. If we want to make communication possible between all cities, these should be a path between any two cities. A **spanning tree** is a subgraph of $G$ that is a tree which contains all nodes of $G$. The cost of the spanning tree is simply the sum of a the weights of the edges in this tree. Often, multiple spanning trees can be chosen from a connected graph. The **minimum spanning tree** is simply the spanning tree with the lowest cost.\n",
    "\n",
    "The figure below shows the minimum spanning tree for $G$ in green.\n",
    "\n",
    "![A weighted graph](Figures/min_spanning_tree.png)"
   ]
  },
  {
   "cell_type": "markdown",
   "metadata": {},
   "source": [
    "Minimum spanning trees have many applications:\n",
    "- design of computer-, telecommunication-, transportation- and other networks\n",
    "- hierachical clustering\n",
    "- image segmentation and feature extraction\n",
    "- phylogenetic analysis\n",
    "- construction of mazes"
   ]
  },
  {
   "cell_type": "markdown",
   "metadata": {},
   "source": [
    "## Disjoint-set data structure"
   ]
  },
  {
   "cell_type": "markdown",
   "metadata": {},
   "source": [
    "Implementing an algorithm for finding the minimum spanning tree is fairly straightforward. The only bottleneck is that the algorithm requires the a **disjoint-set data structure** to keep track of a set partitioned in a number of disjoined subsets.\n",
    "\n",
    "For example, consider the following inital set of eight elements.\n",
    "\n",
    "![A set of eight elements](Figures/disjointset1.png)\n",
    "\n",
    "We decide to group elements A, B and C together in a subset and F and G in another subset.\n",
    "\n",
    "![The same set, but after grouping some elements together.](Figures/disjointset2.png)\n",
    "\n",
    "The disjoint-set data structure support the following operations:\n",
    "- **Find** check which subset an element is in. Is typically used to check whether two objects are in the same subset.\n",
    "- **Union** to merge two subsets into a single subset.\n",
    "\n",
    "A python implementation of a disjoint-set is available using an union-set forest. A simple example will make everything clear!"
   ]
  },
  {
   "cell_type": "code",
   "execution_count": 1,
   "metadata": {
    "collapsed": true
   },
   "outputs": [],
   "source": [
    "from union_set_forest import USF\n",
    "\n",
    "animals = ['mouse', 'bat', 'robin', 'trout', 'seagull', 'hummingbird',\n",
    "           'salmon', 'goldfish', 'hippopotamus', 'whale', 'sparrow']\n",
    "union_set_forest = USF(animals)\n",
    "\n",
    "# group mammals together\n",
    "union_set_forest.union('mouse', 'bat')\n",
    "union_set_forest.union('mouse', 'hippopotamus')\n",
    "union_set_forest.union('whale', 'bat')\n",
    "\n",
    "# group birds together\n",
    "union_set_forest.union('robin', 'seagull')\n",
    "union_set_forest.union('seagull', 'sparrow')\n",
    "union_set_forest.union('seagull', 'hummingbird')\n",
    "union_set_forest.union('robin', 'hummingbird')\n",
    "\n",
    "# group fishes together\n",
    "union_set_forest.union('goldfish', 'salmon')\n",
    "union_set_forest.union('trout', 'salmon')"
   ]
  },
  {
   "cell_type": "code",
   "execution_count": null,
   "metadata": {
    "collapsed": false
   },
   "outputs": [],
   "source": [
    "# mouse and whale in same subset?\n",
    "print(union_set_forest.find('mouse') == union_set_forest.find('whale'))"
   ]
  },
  {
   "cell_type": "code",
   "execution_count": null,
   "metadata": {
    "collapsed": false
   },
   "outputs": [],
   "source": [
    "# robin and salmon in the same subset?\n",
    "print(union_set_forest.find('robin') == union_set_forest.find('salmon'))"
   ]
  },
  {
   "cell_type": "markdown",
   "metadata": {},
   "source": [
    "## Kruskal's algorithm"
   ]
  },
  {
   "cell_type": "markdown",
   "metadata": {},
   "source": [
    "Kruskal's algorithm is a very simple algorithm to find the minimum spanning tree. The main idea is to start with an intial 'forest' of the induvidual nodes of the graph. In each step of the algorithm we add an edge with the smallest possible value that connects two disjoints trees in the forest. This process is continued until we have a single tree, which is a minimum spanning tree, or until all edges are considered. In the former case the algoritm returns the minimum spanning forest. "
   ]
  },
  {
   "cell_type": "markdown",
   "metadata": {},
   "source": [
    "### Example run of Kruskal's algorithm\n",
    "\n",
    "Consider the weighted graph again.\n",
    "\n",
    "![A weighted graph](Figures/graph.png)"
   ]
  },
  {
   "cell_type": "markdown",
   "metadata": {},
   "source": [
    "In a first step, the algorithm selects the edge with the lowest weight, here connecting nodes A and D. This edge has a weight of 5.\n",
    "\n",
    "![The first edge with lowest weight is selected.](Figures/K1.png)\n",
    "\n"
   ]
  },
  {
   "cell_type": "markdown",
   "metadata": {},
   "source": [
    "The next edge that is selected connects nodes C and E. This edge also has a weight of 5.\n",
    "\n",
    "![The second edge is selected.](Figures/K2.png)"
   ]
  },
  {
   "cell_type": "markdown",
   "metadata": {},
   "source": [
    "The edge between D and F is subsequently selected.\n",
    "\n",
    "![A third edge is added to the forest.](Figures/K3.png)\n",
    "\n"
   ]
  },
  {
   "cell_type": "markdown",
   "metadata": {},
   "source": [
    "In the current forest, the edge between B and D becomes inaccessible. Taking this edge would result in a cycle in our graph (B and D are already connected through A in our forest), so it is forbidden.\n",
    "\n",
    "![Now edge BD becomes forbidden, because adding it to our forest would result in a cycle.](Figures/K4.png)\n"
   ]
  },
  {
   "cell_type": "markdown",
   "metadata": {},
   "source": [
    "The next allowd edge with the lowest weight is between nodes B and E. Taking this edges connects two independent components in our forest and makes other edges forbidden.\n",
    "\n",
    "![We add edge BD, connecting two components in our forest.](Figures/K5.png)\n"
   ]
  },
  {
   "cell_type": "markdown",
   "metadata": {},
   "source": [
    "Finally, edge EG connects the last node G to our tree with the lowest cost.\n",
    "\n",
    "![Adding edge EG results in the minimum spanning tree.](Figures/K6.png)"
   ]
  },
  {
   "cell_type": "markdown",
   "metadata": {},
   "source": [
    "### Pseudocode of Kruskal's algorithm\n",
    "\n",
    "```\n",
    "function Kruskal(G):\n",
    "1 A := empty list\n",
    "2 for each node v in G\n",
    "3    MAKE-SET(v)\n",
    "4 for each edge (u, v) ordered by weight(u, v), increasing:\n",
    "5    if FIND-SET(u) ≠ FIND-SET(v):\n",
    "6       add (u, v) to A\n",
    "7       UNION(u, v)\n",
    "8 return A\n",
    "```"
   ]
  },
  {
   "cell_type": "markdown",
   "metadata": {},
   "source": [
    "### Time complexity of Kruskal's algorithm\n",
    "\n",
    "We assume that by using a disjoint set data structure, ```FIND``` and ```UNION``` can be performed using a time complexity of $\\mathcal{O}(1)$. Then the only cost is in sorting the edges by their weight, which can be done with a time complexity of $\\mathcal{O}(|E| \\log(|E|))$, which is the time complexity of generating the minimum spanning tree using this algorithm."
   ]
  },
  {
   "cell_type": "markdown",
   "metadata": {},
   "source": [
    "**Assignment 1: completing Kruskal's algorithm**\n",
    "\n",
    "1. Complete the code for Kruskals algorithm below. Test the code on the example network given above.\n",
    "2. Ticket to Ride is a fun boardgame in which you have to connect trains to several important cities in the United States. Load the vertices (cities) and edges (roads) from the file `ticket_to_ride.py`. Compute a minimum spanning tree.\n",
    "\n",
    "![The map of Ticket to Ride.](Figures/TtRmap.jpg)"
   ]
  },
  {
   "cell_type": "code",
   "execution_count": 2,
   "metadata": {
    "collapsed": true
   },
   "outputs": [],
   "source": [
    "def kruskal(vertices, edges):\n",
    "    \"\"\"\n",
    "    Kruskal's algorithm for finding a minimum spanning tree\n",
    "    Input :\n",
    "        - vertices : a set of the vertices of the graph\n",
    "        - edges : a list of weighted edges (e.g. (0.7, 'A', 'B')) for an\n",
    "                    edge from node A to node B with weigth 0.7\n",
    "    Output:\n",
    "        a minumum spanning tree represented as a list of edges\n",
    "    \"\"\"\n",
    "    \n",
    "    #create two variables: one for storing our minumum spanning tree, one for storing the total cost\n",
    "    forest = []        \n",
    "    total_cost = 0\n",
    "    \n",
    "    #initialize the union_set_forest datatype on the list of nodes\n",
    "    union_set_forest = USF(vertices)\n",
    "    \n",
    "    #order edges by weight\n",
    "    sorted_edges_list = sorted(edges)\n",
    "    \n",
    "    #go down the sorted list of edges\n",
    "    for cost, node1, node2 in sorted_edges_list:\n",
    "        #if the two nodes are not in the same set yet: combine the subsets into 1 subset\n",
    "        if union_set_forest.find(node1) != union_set_forest.find(node2):\n",
    "            forest.append([node1, node2])\n",
    "            union_set_forest.union(node1, node2)\n",
    "            total_cost += cost\n",
    "        \n",
    "    return forest, total_cost"
   ]
  },
  {
   "cell_type": "code",
   "execution_count": 3,
   "metadata": {
    "collapsed": false
   },
   "outputs": [
    {
     "name": "stdout",
     "output_type": "stream",
     "text": [
      "([['A', 'D'], ['C', 'E'], ['F', 'D'], ['A', 'B'], ['B', 'E'], ['E', 'G']], 39)\n"
     ]
    }
   ],
   "source": [
    "vertices = ['A', 'B', 'C', 'D', 'E', 'F', 'G']\n",
    "edges = [(5, 'A', 'D'), (7, 'A', 'B'), (8, 'B', 'C'), (9, 'B', 'D'),\n",
    "         (7, 'B', 'E'), (5, 'C', 'E'), (15, 'D', 'E'), (6, 'F', 'D'), \n",
    "        (8, 'F', 'E'), (9, 'E', 'G'), (11, 'F', 'G')]\n",
    "\n",
    "print(kruskal(vertices, edges))"
   ]
  },
  {
   "cell_type": "code",
   "execution_count": 4,
   "metadata": {
    "collapsed": true
   },
   "outputs": [],
   "source": [
    "from ticket_to_ride import vertices as cities\n",
    "from ticket_to_ride import edges as roads"
   ]
  },
  {
   "cell_type": "code",
   "execution_count": null,
   "metadata": {
    "collapsed": false
   },
   "outputs": [],
   "source": [
    "for city in cities:\n",
    "    print(city)"
   ]
  },
  {
   "cell_type": "code",
   "execution_count": 5,
   "metadata": {
    "collapsed": false
   },
   "outputs": [
    {
     "name": "stdout",
     "output_type": "stream",
     "text": [
      "([['Atlanta', 'Nashville'], ['Charleston', 'Raleigh'], ['Dallas', 'Houston'], ['Kansas City', 'Omaha'], ['Portland', 'Seattle'], ['Seattle', 'Vancouver'], ['Atlanta', 'Charleston'], ['Boston', 'Montreal'], ['Boston', 'New York'], ['Chicago', 'Saint Louis'], ['Dallas', 'Little Rock'], ['Dallas', 'Oklahoma City'], ['Denver', 'Santa Fe'], ['Duluth', 'Omaha'], ['El Paso', 'Santa Fe'], ['Houston', 'New Orleans'], ['Kansas City', 'Oklahoma City'], ['Kansas City', 'Saint Louis'], ['Las Vegas', 'Los Angeles'], ['Los Angeles', 'Phoenix'], ['Nashville', 'Saint Louis'], ['New York', 'Pittsburgh'], ['New York', 'Washington DC'], ['Raleigh', 'Washington DC'], ['Sault St. Marie', 'Toronto'], ['Calgary', 'Vancouver'], ['Denver', 'Salt Lake City'], ['Duluth', 'Sault St. Marie'], ['El Paso', 'Phoenix'], ['Los Angeles', 'San Francisco'], ['Calgary', 'Helena'], ['Charleston', 'Miami'], ['Dallas', 'El Paso'], ['Denver', 'Helena'], ['Duluth', 'Winnipeg']], 79)\n"
     ]
    }
   ],
   "source": [
    "# compute here the MST for Ticket to Ride\n",
    "\n",
    "print(kruskal(cities, roads))"
   ]
  },
  {
   "cell_type": "markdown",
   "metadata": {},
   "source": [
    "## The travelling salesman problem\n",
    "\n",
    "The traveling salesman problem is a well-known problem in computer science. The goal is to find a tour in a graph with a minimal cost. This problem is NP-hard, there is no algorithm to solve this efficiently for large graphs."
   ]
  },
  {
   "cell_type": "markdown",
   "metadata": {},
   "source": [
    "The tour is represented as a dictionary, for each key-value pair a vertex and the associated next vertex in the tour (but can also use a list that gives whole tour).\n",
    "\n",
    "For nearest neighbor: can do it as list or dict, is sequential.\n",
    "\n",
    "For greedy dict is better cause here you don't make the path in one go.\n",
    "\n",
    "Assume that you can go from every point to every other point: graph is fully connected (so ensured that there is a cycle).\n"
   ]
  },
  {
   "cell_type": "markdown",
   "metadata": {},
   "source": [
    "Below are two heuristic algorithms to find a good tour."
   ]
  },
  {
   "cell_type": "markdown",
   "metadata": {},
   "source": [
    "### Nearest Neighbour\n",
    "\n",
    "The simplest algorithm, can be done in with a time complexity of $\\mathcal{O}(|V|^2)$.\n",
    "\n",
    "1. Select a random vertex.\n",
    "2. Find the nearest univisited vertex and add it to the path.\n",
    "3. Are there any unvisited vertices left? If yes, repeat step 2.\n",
    "4. Return to the first vertex."
   ]
  },
  {
   "cell_type": "markdown",
   "metadata": {},
   "source": [
    "### Greedy\n",
    "\n",
    "A greedy algorithm that gives a solution in $\\mathcal{O}(|V|^2\\log(|V|))$ time.\n",
    "\n",
    "1. Sort all edges\n",
    "2. Select the shortest edge and add it to the tour if it does not:\n",
    "    - creates a tour with less than $|V|$ vertices \n",
    "    - increases the degree of any of the vertices in the tour to more than two.\n",
    "3. Repeat step 2 until the tour has $|V|$ vertices."
   ]
  },
  {
   "cell_type": "markdown",
   "metadata": {},
   "source": [
    "**Assignment 2**\n",
    "\n",
    "1. Complete the functions `nearest_neighbour_tsa` and `greedy_tsa`. \n",
    "2. We have two benchmarks problems, one with 29 and one with 225 cities. For each problem the graph and coordinates of the cities are given. Give the **found optimal cost** and **running time** for the two algorithms.\n",
    "3. Make a plot of the best tour for each of the two benchmarks.\n",
    "4. Discuss how you can see on such a plot if the tour is optimal."
   ]
  },
  {
   "cell_type": "code",
   "execution_count": 6,
   "metadata": {
    "collapsed": true
   },
   "outputs": [],
   "source": [
    "# load coordinates and graph for the two benchmark algorithms\n",
    "from load_tsa import coordinates29, coordinates225, graph29, graph225"
   ]
  },
  {
   "cell_type": "code",
   "execution_count": 26,
   "metadata": {
    "collapsed": false
   },
   "outputs": [],
   "source": [
    "def nearest_neighbour_tsa(graph, start):\n",
    "    \"\"\"\n",
    "    Nearest Neighbour heuristic for the travelling salesman problem\n",
    "    \n",
    "    Inputs:\n",
    "        - graph: the graph as an adjacency list\n",
    "        - start: the vertex to start\n",
    "        \n",
    "    Outputs:\n",
    "        - tour: the tour as a dictionary\n",
    "        - tour_cost: the cost of the tour\n",
    "    \"\"\"\n",
    "    \n",
    "    #create three variables: one for storing our cycle, one for storing the total cost\n",
    "    #and one to keep track of what nodes are visited\n",
    "    tour = []\n",
    "    tour_cost = 0\n",
    "    used_nodes = [start]\n",
    "    \n",
    "    #go through the graph, selecting the nearest unvisited node at each step\n",
    "    for x in range(len(graph)):\n",
    "        \n",
    "        current_node = used_nodes[-1]        \n",
    "        sorted_distances_current_node = sorted(graph[current_node])\n",
    "        \n",
    "        #search for the node with smallest distance that hasn't been visited yet\n",
    "        for shortest_distance, next_node in sorted_distances_current_node:\n",
    "            if not next_node in used_nodes:\n",
    "                tour.append([current_node,next_node])\n",
    "                used_nodes.append(next_node)             \n",
    "                tour_cost += shortest_distance        \n",
    "                break\n",
    "                \n",
    "\n",
    "    #add going from last node in tour back to first node, and the cost\n",
    "    last_node = tour[-1]\n",
    "    distances_last_node = graph[current_node]\n",
    "    for w in distances_last_node:\n",
    "        if w[1] == used_nodes[0]:\n",
    "            tour_cost += w[0]\n",
    "            tour.append([current_node, w[1]])\n",
    "            break   \n",
    "            \n",
    "    return tour, tour_cost"
   ]
  },
  {
   "cell_type": "code",
   "execution_count": 27,
   "metadata": {
    "collapsed": false
   },
   "outputs": [
    {
     "data": {
      "text/plain": [
       "([[27, 0],\n",
       "  [0, 20],\n",
       "  [20, 1],\n",
       "  [1, 19],\n",
       "  [19, 9],\n",
       "  [9, 3],\n",
       "  [3, 14],\n",
       "  [14, 17],\n",
       "  [17, 13],\n",
       "  [13, 21],\n",
       "  [21, 16],\n",
       "  [16, 10],\n",
       "  [10, 18],\n",
       "  [18, 15],\n",
       "  [15, 26],\n",
       "  [26, 23],\n",
       "  [23, 7],\n",
       "  [7, 22],\n",
       "  [22, 24],\n",
       "  [24, 6],\n",
       "  [6, 12],\n",
       "  [12, 5],\n",
       "  [5, 11],\n",
       "  [11, 8],\n",
       "  [8, 4],\n",
       "  [4, 25],\n",
       "  [25, 28],\n",
       "  [28, 2],\n",
       "  [2, 27]],\n",
       " 2411.0)"
      ]
     },
     "execution_count": 27,
     "metadata": {},
     "output_type": "execute_result"
    }
   ],
   "source": [
    "start = 27\n",
    "nearest_neighbour_tsa(graph29, start)"
   ]
  },
  {
   "cell_type": "code",
   "execution_count": 35,
   "metadata": {
    "collapsed": true
   },
   "outputs": [],
   "source": [
    "def find_optimal_start_nearest_neighbour_tsa(graph):\n",
    "    \n",
    "    \"\"\"\n",
    "    #function to find the optimal start position for the nearest_neighbour_tsa algorithm\n",
    "    \"\"\"\n",
    "    \n",
    "    possible_starts = list(graph.keys())\n",
    "    dict_start_time = dict()\n",
    "    \n",
    "    #check for every possible start the distance one ends up with\n",
    "    for x in possible_starts:\n",
    "        output = nearest_neighbour_tsa(graph, x)\n",
    "        score = output[1]\n",
    "        dict_start_time[score] = x\n",
    "        \n",
    "    #choose the shortest distance\n",
    "    shortest_distance = min(dict_start_time.keys())\n",
    "    best_start_position = dict_start_time[shortest_distance]\n",
    "    \n",
    "    return best_start_position, shortest_distance"
   ]
  },
  {
   "cell_type": "code",
   "execution_count": 36,
   "metadata": {
    "collapsed": false
   },
   "outputs": [
    {
     "data": {
      "text/plain": [
       "(26, 2134.0)"
      ]
     },
     "execution_count": 36,
     "metadata": {},
     "output_type": "execute_result"
    }
   ],
   "source": [
    "find_optimal_start_nearest_neighbour_tsa(graph29)"
   ]
  },
  {
   "cell_type": "code",
   "execution_count": 37,
   "metadata": {
    "collapsed": false
   },
   "outputs": [],
   "source": [
    "def greedy_tsa(graph):\n",
    "    \"\"\"\n",
    "    Greedy heuristic for the travelling salesman problem\n",
    "    \n",
    "    Inputs:\n",
    "        - graph: the graph as an adjacency list\n",
    "        \n",
    "    Outputs:\n",
    "        - tour: the tour as a dictionary\n",
    "        - tour_cost: the cost of the tour\n",
    "    \"\"\"\n",
    "    \n",
    "    tour = []    \n",
    "    tour_cost = 0  \n",
    "    \n",
    "    #First we need to sort all the edges.\n",
    "    #For this we'll make a list of tuples with each tuple containing three elements:\n",
    "    #distance, end node, start node.\n",
    "    all_edges = []\n",
    "    for x in graph: \n",
    "        current_node_adjacencies = graph[x]\n",
    "        for y in current_node_adjacencies:\n",
    "            distance, end_node = y\n",
    "            one_edge = (distance, end_node, x)\n",
    "            all_edges.append(one_edge)\n",
    "            \n",
    "    #sort all edges by increasing distance\n",
    "    all_edges = sorted(all_edges, key=lambda tup: tup[0])        \n",
    "    \n",
    "    #initialize the union_set_forest datatype on a list of all the nodes\n",
    "    union_set_forest = USF(set(graph.keys()))\n",
    "        \n",
    "    #use a list to store which nodes have been used, the number of times a node is present in this list is that node's degree\n",
    "    node_degreelist = []\n",
    "        \n",
    "    #start going through the sorted edges\n",
    "    for distance, node1, node2 in all_edges:        \n",
    "        #once the tour is complete, stop the algorithm\n",
    "        if len(tour) == len(graph):\n",
    "            break\n",
    "        \n",
    "        #ensure that a tour with only a subset of the nodes can't be created\n",
    "        if union_set_forest.find(node1) != union_set_forest.find(node2):\n",
    "            \n",
    "            #ensure the degree of a node cannot increase beyond 2\n",
    "            if node_degreelist.count(node1) < 2 and node_degreelist.count(node2) < 2:\n",
    "                union_set_forest.union(node1, node2)\n",
    "                tour_cost += distance\n",
    "                tour.append([node1, node2])\n",
    "                node_degreelist.append(node1)\n",
    "                node_degreelist.append(node2)\n",
    "    \n",
    "    #finally, add the last edge and its cost\n",
    "    flattened_list = [item for sublist in tour for item in sublist]\n",
    "    nodes_missing_edge = [x for x in flattened_list if flattened_list.count(x)==1]\n",
    "    tour.append([nodes_missing_edge[0], nodes_missing_edge[1]])\n",
    "    last_node = tour[-1]\n",
    "    distances_last_node = graph[nodes_missing_edge[0]]\n",
    "    for w in distances_last_node:\n",
    "        if w[1] == nodes_missing_edge[1]:\n",
    "            tour_cost += w[0]\n",
    "            break   \n",
    "    \n",
    "\n",
    "    return tour, tour_cost"
   ]
  },
  {
   "cell_type": "code",
   "execution_count": 38,
   "metadata": {
    "collapsed": false
   },
   "outputs": [
    {
     "data": {
      "text/plain": [
       "([[19, 9],\n",
       "  [17, 13],\n",
       "  [14, 3],\n",
       "  [28, 25],\n",
       "  [26, 23],\n",
       "  [20, 1],\n",
       "  [9, 3],\n",
       "  [26, 7],\n",
       "  [21, 13],\n",
       "  [27, 0],\n",
       "  [8, 4],\n",
       "  [11, 5],\n",
       "  [17, 14],\n",
       "  [25, 4],\n",
       "  [27, 5],\n",
       "  [23, 15],\n",
       "  [20, 0],\n",
       "  [18, 15],\n",
       "  [19, 1],\n",
       "  [24, 18],\n",
       "  [28, 2],\n",
       "  [21, 16],\n",
       "  [11, 8],\n",
       "  [24, 6],\n",
       "  [22, 7],\n",
       "  [16, 10],\n",
       "  [12, 10],\n",
       "  [22, 12],\n",
       "  [2, 6]],\n",
       " 2480.0)"
      ]
     },
     "execution_count": 38,
     "metadata": {},
     "output_type": "execute_result"
    }
   ],
   "source": [
    "greedy_tsa(graph29)"
   ]
  },
  {
   "cell_type": "code",
   "execution_count": null,
   "metadata": {
    "collapsed": false
   },
   "outputs": [],
   "source": []
  },
  {
   "cell_type": "code",
   "execution_count": 41,
   "metadata": {
    "collapsed": false,
    "scrolled": true
   },
   "outputs": [
    {
     "name": "stdout",
     "output_type": "stream",
     "text": [
      "optimal cost for 'nearest_neighbour_tsa' algorithm on graph29 is 2134.0\n",
      "starting at node 26\n",
      "time for 'nearest_neighbour_tsa' algorithm on graph29 is 0.02124444477618681 \n",
      "\n",
      "optimal cost for 'nearest_neighbour_tsa' algorithm on graph225 is 4613.628654\n",
      "starting at node 116\n",
      "time for 'nearest_neighbour_tsa' algorithm on graph225 is 7.654014176959123 \n",
      "\n",
      "optimal cost for 'greedy_tsa' algorithm on graph29 is 2480.0\n",
      "time for 'greedy_tsa' algorithm on graph29 is 0.0033161058802591015 \n",
      "\n",
      "optimal cost for 'greedy_tsa' algorithm on graph225 is 4626.131929\n",
      "time for 'greedy_tsa' algorithm on graph225 is 0.340289939994733 \n",
      "\n"
     ]
    }
   ],
   "source": [
    "from timeit import Timer\n",
    "\n",
    "##nearest_neighbour_tsa\n",
    "#graph29\n",
    "nearest_neighbour_tsa_graph29  = find_optimal_start_nearest_neighbour_tsa(graph29)\n",
    "print(\"optimal cost for 'nearest_neighbour_tsa' algorithm on graph29 is\", nearest_neighbour_tsa_graph29[1])\n",
    "print(\"starting at node\", nearest_neighbour_tsa_graph29[0])\n",
    "\n",
    "if __name__=='__main__':\n",
    "    t = Timer(lambda: find_optimal_start_nearest_neighbour_tsa(graph29))\n",
    "    time_nearest_neighbour_tsa_graph29 = (t.timeit(number=1))\n",
    "print(\"time for 'nearest_neighbour_tsa' algorithm on graph29 is\", time_nearest_neighbour_tsa_graph29, \"\\n\")\n",
    "\n",
    "\n",
    "#graph225\n",
    "nearest_neighbour_tsa_graph225 = find_optimal_start_nearest_neighbour_tsa(graph225)\n",
    "print(\"optimal cost for 'nearest_neighbour_tsa' algorithm on graph225 is\", nearest_neighbour_tsa_graph225[1])\n",
    "print(\"starting at node\", nearest_neighbour_tsa_graph225[0])\n",
    "\n",
    "if __name__=='__main__':\n",
    "    t = Timer(lambda: find_optimal_start_nearest_neighbour_tsa(graph225))\n",
    "    time_nearest_neighbour_tsa_graph225 = (t.timeit(number=1))\n",
    "print(\"time for 'nearest_neighbour_tsa' algorithm on graph225 is\", time_nearest_neighbour_tsa_graph225, \"\\n\")\n",
    "\n",
    "\n",
    "\n",
    "##greedy_tsa\n",
    "#graph29\n",
    "greedy_tsa_graph29  = greedy_tsa(graph29)\n",
    "print(\"optimal cost for 'greedy_tsa' algorithm on graph29 is\", greedy_tsa_graph29[1])\n",
    "\n",
    "if __name__=='__main__':\n",
    "    t = Timer(lambda: greedy_tsa(graph29))\n",
    "    time_greedy_tsa_graph29 = (t.timeit(number=1))\n",
    "print(\"time for 'greedy_tsa' algorithm on graph29 is\", time_greedy_tsa_graph29, \"\\n\")\n",
    "\n",
    "\n",
    "\n",
    "#graph225\n",
    "greedy_tsa_graph225 = greedy_tsa(graph225)\n",
    "print(\"optimal cost for 'greedy_tsa' algorithm on graph225 is\", greedy_tsa_graph225[1])\n",
    "\n",
    "if __name__=='__main__':\n",
    "    t = Timer(lambda: greedy_tsa(graph225))\n",
    "    time_greedy_tsa_graph225 = (t.timeit(number=1))\n",
    "print(\"time for 'greedy_tsa' algorithm on graph225 is\", time_greedy_tsa_graph225)\n"
   ]
  },
  {
   "cell_type": "code",
   "execution_count": 42,
   "metadata": {
    "collapsed": false
   },
   "outputs": [
    {
     "data": {
      "image/png": "[encoded data removed]",
      "text/plain": [
       "<matplotlib.figure.Figure at 0x186534a3d68>"
      ]
     },
     "metadata": {},
     "output_type": "display_data"
    },
    {
     "data": {
      "image/png": "[encoded data removed]",
      "text/plain": [
       "<matplotlib.figure.Figure at 0x186541d6940>"
      ]
     },
     "metadata": {},
     "output_type": "display_data"
    },
    {
     "data": {
      "image/png": "[encoded data removed]",
      "text/plain": [
       "<matplotlib.figure.Figure at 0x186541b7a90>"
      ]
     },
     "metadata": {},
     "output_type": "display_data"
    },
    {
     "data": {
      "image/png": "[encoded data removed]",
      "text/plain": [
       "<matplotlib.figure.Figure at 0x18654929e10>"
      ]
     },
     "metadata": {},
     "output_type": "display_data"
    }
   ],
   "source": [
    "import numpy as np\n",
    "import matplotlib.pyplot as plt\n",
    "\n",
    "#Make a dictionary for the coordinates\n",
    "coordinate_dict_29 = dict()\n",
    "for a in range(len(coordinates29)):\n",
    "    coordinate_dict_29[a] = list(coordinates29[a])\n",
    "\n",
    "coordinate_dict_225 = dict()\n",
    "for a in range(len(coordinates225)):\n",
    "    coordinate_dict_225[a] = list(coordinates225[a])\n",
    "\n",
    "\n",
    "##nearest_neighbour_tsa\n",
    "#graph29\n",
    "start = 8\n",
    "nearest_graph29 = nearest_neighbour_tsa(graph29, 8)\n",
    "for x in nearest_graph29[0]:\n",
    "    coordinates_node_1 = coordinate_dict_29[x[0]]\n",
    "    coordinates_node_2 = coordinate_dict_29[x[1]] \n",
    "    line_to_plot = [coordinates_node_1, coordinates_node_2]\n",
    "    plt.scatter(*zip(*line_to_plot), color = \"r\")\n",
    "    plt.plot(*zip(*line_to_plot), color = \"b\")\n",
    "plt.title(\"Plot for optimal solution using nearest_neighbour_tsa on graph29\")\n",
    "plt.show()    \n",
    "\n",
    "\n",
    "#graph225\n",
    "start = 8\n",
    "nearest_graph225 = nearest_neighbour_tsa(graph225, 50)\n",
    "for x in nearest_graph225[0]:\n",
    "    coordinates_node_1 = coordinate_dict_225[x[0]]\n",
    "    coordinates_node_2 = coordinate_dict_225[x[1]] \n",
    "    line_to_plot = [coordinates_node_1, coordinates_node_2]\n",
    "    plt.scatter(*zip(*line_to_plot), color = \"r\")\n",
    "    plt.plot(*zip(*line_to_plot), color = \"b\")\n",
    "plt.title(\"Plot for optimal solution using nearest_neighbour_tsa on graph225\")\n",
    "plt.show()  \n",
    "\n",
    "\n",
    "##greedy_tsa\n",
    "#graph29\n",
    "greedy_graph29  = greedy_tsa(graph29)\n",
    "for x in greedy_graph29[0]:\n",
    "    coordinates_node_1 = coordinate_dict_29[x[0]]\n",
    "    coordinates_node_2 = coordinate_dict_29[x[1]] \n",
    "    line_to_plot = [coordinates_node_1, coordinates_node_2]\n",
    "    plt.scatter(*zip(*line_to_plot), color = \"r\")\n",
    "    plt.plot(*zip(*line_to_plot), color = \"b\")\n",
    "plt.title(\"Plot for optimal solution using greedy_tsa on graph29\")\n",
    "plt.show()  \n",
    "\n",
    "\n",
    "#graph225\n",
    "greedy_graph225 = greedy_tsa(graph225)\n",
    "for x in greedy_graph225[0]:\n",
    "    coordinates_node_1 = coordinate_dict_225[x[0]]\n",
    "    coordinates_node_2 = coordinate_dict_225[x[1]] \n",
    "    line_to_plot = [coordinates_node_1, coordinates_node_2]\n",
    "    plt.scatter(*zip(*line_to_plot), color = \"r\")\n",
    "    plt.plot(*zip(*line_to_plot), color = \"b\")\n",
    "plt.title(\"Plot for optimal solution using greedy_tsa on graph225\")\n",
    "plt.show()\n"
   ]
  },
  {
   "cell_type": "markdown",
   "metadata": {
    "collapsed": true
   },
   "source": [
    "**Discuss how you can see on such a plot if the tour is optimal.**\n",
    "\n",
    "One way to see if a tour is suboptimal is if there are a lot of long-distance crossings, meaning a lot of long diagonals are needed to complete the tour. Cutting down on long-distance diagonals in favor of shorter connections leads to a more optimal path. "
   ]
  }
 ],
 "metadata": {
  "anaconda-cloud": {},
  "kernelspec": {
   "display_name": "Python [default]",
   "language": "python",
   "name": "python3"
  },
  "language_info": {
   "codemirror_mode": {
    "name": "ipython",
    "version": 3
   },
   "file_extension": ".py",
   "mimetype": "text/x-python",
   "name": "python",
   "nbconvert_exporter": "python",
   "pygments_lexer": "ipython3",
   "version": "3.5.2"
  },
  "latex_envs": {
   "bibliofile": "biblio.bib",
   "cite_by": "apalike",
   "current_citInitial": 1,
   "eqLabelWithNumbers": true,
   "eqNumInitial": 0
  }
 },
 "nbformat": 4,
 "nbformat_minor": 0
}
