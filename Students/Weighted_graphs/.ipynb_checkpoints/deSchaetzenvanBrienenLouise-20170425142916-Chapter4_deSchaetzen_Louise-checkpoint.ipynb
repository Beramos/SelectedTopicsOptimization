{
 "cells": [
  {
   "cell_type": "markdown",
   "metadata": {},
   "source": [
    "# Chapter 4: Minimum spanning trees"
   ]
  },
  {
   "cell_type": "markdown",
   "metadata": {},
   "source": [
    "Student: Louise de Schaetzen\n",
    "In this chapter we will continue to study algorithms that process graphs. We will implement Kruskal's algorithm to construct the **minimum spanning tree** of a graph, a subgraph that efficiently connects all nodes."
   ]
  },
  {
   "cell_type": "markdown",
   "metadata": {},
   "source": [
    "## Trees in python\n",
    "\n",
    "A tree is an undirected graph where any two edges are connected by **exactly one path**. For example, consider the tree below.\n",
    "\n",
    "![A simple tree](Figures/example_tree.png)\n",
    "\n",
    "We can represent in python using dictionaries, as we did in the last chapter."
   ]
  },
  {
   "cell_type": "code",
   "execution_count": 1,
   "metadata": {
    "collapsed": true
   },
   "outputs": [],
   "source": [
    "tree_dict = {'A' : set(['D']), 'B' : set(['D']), 'C' : set(['D']),\n",
    "             'D' : set(['A', 'B', 'C', 'E']), 'E' : set(['D', 'F']), 'F' : set(['E'])}"
   ]
  },
  {
   "cell_type": "markdown",
   "metadata": {},
   "source": [
    "Though in this chapter, we prefer to represent the tree as a list (set) of links:"
   ]
  },
  {
   "cell_type": "code",
   "execution_count": 2,
   "metadata": {
    "collapsed": false
   },
   "outputs": [
    {
     "data": {
      "text/plain": [
       "[('A', 'D'),\n",
       " ('B', 'D'),\n",
       " ('C', 'D'),\n",
       " ('D', 'A'),\n",
       " ('D', 'E'),\n",
       " ('D', 'C'),\n",
       " ('D', 'B'),\n",
       " ('E', 'D'),\n",
       " ('E', 'F'),\n",
       " ('F', 'E')]"
      ]
     },
     "execution_count": 2,
     "metadata": {},
     "output_type": "execute_result"
    }
   ],
   "source": [
    "tree_links = [(node, neighbor) for node in tree_dict.keys() for neighbor in tree_dict[node]]\n",
    "tree_links"
   ]
  },
  {
   "cell_type": "markdown",
   "metadata": {},
   "source": [
    "If we choose one node as the **root** of the tree, we have exactly one path from this root to each of the other terminal nodes. This idea can applied recursively as follows: from this root, each neighboring is itself a root of a subtree. Each of these subtrees also consist of a root and possibly one or more subtrees. Hence we can also represent the tree as a nested sublist:\n",
    "\n",
    "```\n",
    "tree = [root, [subtree1], [subtree2],...]\n",
    "```\n",
    "\n",
    "For our example, we obtain when taking node D as a root: (see [here](http://interactivepython.org/courselib/static/pythonds/Trees/ListofListsRepresentation.html))"
   ]
  },
  {
   "cell_type": "code",
   "execution_count": 3,
   "metadata": {
    "collapsed": true
   },
   "outputs": [],
   "source": [
    "tree_list = ['D', ['A'], ['B'], ['C'], ['E', ['F']]]"
   ]
  },
  {
   "cell_type": "markdown",
   "metadata": {},
   "source": [
    "## Minimum spanning tree"
   ]
  },
  {
   "cell_type": "markdown",
   "metadata": {},
   "source": [
    "Suppose we have an undirected connected weighted graph $G$ as depicted below.\n",
    "\n",
    "![A weighted graph](Figures/graph.png)"
   ]
  },
  {
   "cell_type": "markdown",
   "metadata": {},
   "source": [
    "Weighted graphs can either be implemented as a set of weighted edges of as a dictionary."
   ]
  },
  {
   "cell_type": "code",
   "execution_count": 4,
   "metadata": {
    "collapsed": true
   },
   "outputs": [],
   "source": [
    "vertices = ['A', 'B', 'C', 'D', 'E', 'F', 'G']\n",
    "\n",
    "edges = set([(5, 'A', 'D'), (7, 'A', 'B'), (8, 'B', 'C'), (9, 'B', 'D'),\n",
    "         (7, 'B', 'E'), (5, 'C', 'E'), (15, 'D', 'E'), (6, 'F', 'D'), \n",
    "        (8, 'F', 'E'), (9, 'E', 'G'), (11, 'F', 'G')])"
   ]
  },
  {
   "cell_type": "code",
   "execution_count": 5,
   "metadata": {
    "collapsed": false
   },
   "outputs": [
    {
     "data": {
      "text/plain": [
       "{'A': {(5, 'D'), (7, 'B')},\n",
       " 'B': {(7, 'A'), (7, 'E'), (8, 'C'), (9, 'D')},\n",
       " 'C': {(5, 'E'), (8, 'B')},\n",
       " 'D': {(5, 'A'), (6, 'F'), (9, 'B'), (15, 'E')},\n",
       " 'E': {(5, 'C'), (7, 'B'), (8, 'F'), (9, 'G'), (15, 'D')},\n",
       " 'F': {(6, 'D'), (8, 'E'), (11, 'G')},\n",
       " 'G': {(9, 'E'), (11, 'F')}}"
      ]
     },
     "execution_count": 5,
     "metadata": {},
     "output_type": "execute_result"
    }
   ],
   "source": [
    "weighted_adj_list = {v : set([]) for v in vertices}\n",
    "\n",
    "for weight, vertex1, vertex2 in edges:\n",
    "    weighted_adj_list[vertex1].add((weight, vertex2))\n",
    "    weighted_adj_list[vertex2].add((weight, vertex1))  # undirected graph, in=outgoing edge\n",
    "\n",
    "weighted_adj_list"
   ]
  },
  {
   "cell_type": "markdown",
   "metadata": {},
   "source": [
    "For example, the nodes may represent cities and the weight of an edge may represent the cost of implementing a communication line between two cities. If we want to make communication possible between all cities, these should be a path between any two cities. A **spanning tree** is a subgraph of $G$ that is a tree which contains all nodes of $G$. The cost of the spanning tree is simply the sum of a the weights of the edges in this tree. Often, multiple spanning trees can be chosen from a connected graph. The **minimum spanning tree** is simply the spanning tree with the lowest cost.\n",
    "\n",
    "The figure below shows the minimum spanning tree for $G$ in green.\n",
    "\n",
    "![A weighted graph](Figures/min_spanning_tree.png)"
   ]
  },
  {
   "cell_type": "markdown",
   "metadata": {},
   "source": [
    "Minimum spanning trees have many applications:\n",
    "- design of computer-, telecommunication-, transportation- and other networks\n",
    "- hierachical clustering\n",
    "- image segmentation and feature extraction\n",
    "- phylogenetic analysis\n",
    "- construction of mazes"
   ]
  },
  {
   "cell_type": "markdown",
   "metadata": {},
   "source": [
    "## Disjoint-set data structure"
   ]
  },
  {
   "cell_type": "markdown",
   "metadata": {},
   "source": [
    "Implementing an algorithm for finding the minimum spanning tree is fairly straightforward. The only bottleneck is that the algorithm requires the a **disjoint-set data structure** to keep track of a set partitioned in a number of disjoined subsets.\n",
    "\n",
    "For example, consider the following inital set of eight elements.\n",
    "\n",
    "![A set of eight elements](Figures/disjointset1.png)\n",
    "\n",
    "We decide to group elements A, B and C together in a subset and F and G in another subset.\n",
    "\n",
    "![The same set, but after grouping some elements together.](Figures/disjointset2.png)\n",
    "\n",
    "The disjoint-set data structure support the following operations:\n",
    "- **Find** check which subset an element is in. Is typically used to check whether two objects are in the same subset.\n",
    "- **Union** to merge two subsets into a single subset.\n",
    "\n",
    "A python implementation of a disjoint-set is available using an union-set forest. A simple example will make everything clear!"
   ]
  },
  {
   "cell_type": "code",
   "execution_count": 6,
   "metadata": {
    "collapsed": false
   },
   "outputs": [],
   "source": [
    "from union_set_forest import USF\n",
    "\n",
    "animals = ['mouse', 'bat', 'robin', 'trout', 'seagull', 'hummingbird',\n",
    "           'salmon', 'goldfish', 'hippopotamus', 'whale', 'sparrow']\n",
    "union_set_forest = USF(animals)\n",
    "\n",
    "# group mammals together\n",
    "union_set_forest.union('mouse', 'bat')\n",
    "union_set_forest.union('mouse', 'hippopotamus')\n",
    "union_set_forest.union('whale', 'bat')\n",
    "\n",
    "# group birds together\n",
    "union_set_forest.union('robin', 'seagull')\n",
    "union_set_forest.union('seagull', 'sparrow')\n",
    "union_set_forest.union('seagull', 'hummingbird')\n",
    "union_set_forest.union('robin', 'hummingbird')\n",
    "\n",
    "# group fishes together\n",
    "union_set_forest.union('goldfish', 'salmon')\n",
    "union_set_forest.union('trout', 'salmon')"
   ]
  },
  {
   "cell_type": "code",
   "execution_count": 7,
   "metadata": {
    "collapsed": false
   },
   "outputs": [
    {
     "name": "stdout",
     "output_type": "stream",
     "text": [
      "True\n"
     ]
    }
   ],
   "source": [
    "# mouse and whale in same subset?\n",
    "print(union_set_forest.find('mouse') == union_set_forest.find('whale'))"
   ]
  },
  {
   "cell_type": "code",
   "execution_count": 8,
   "metadata": {
    "collapsed": false
   },
   "outputs": [
    {
     "name": "stdout",
     "output_type": "stream",
     "text": [
      "False\n"
     ]
    }
   ],
   "source": [
    "# robin and salmon in the same subset?\n",
    "print(union_set_forest.find('robin') == union_set_forest.find('salmon'))"
   ]
  },
  {
   "cell_type": "markdown",
   "metadata": {},
   "source": [
    "## Kruskal's algorithm"
   ]
  },
  {
   "cell_type": "markdown",
   "metadata": {},
   "source": [
    "Kruskal's algorithm is a very simple algorithm to find the minimum spanning tree. The main idea is to start with an intial 'forest' of the induvidual nodes of the graph. In each step of the algorithm we add an edge with the smallest possible value that connects two disjoints trees in the forest. This process is continued until we have a single tree, which is a minimum spanning tree, or until all edges are considered. In the former case the algoritm returns the minimum spanning forest. "
   ]
  },
  {
   "cell_type": "markdown",
   "metadata": {},
   "source": [
    "### Example run of Kruskal's algorithm\n",
    "\n",
    "Consider the weighted graph again.\n",
    "\n",
    "![A weighted graph](Figures/graph.png)"
   ]
  },
  {
   "cell_type": "markdown",
   "metadata": {},
   "source": [
    "In a first step, the algorithm selects the edge with the lowest weight, here connecting nodes A and D. This edge has a weight of 5.\n",
    "\n",
    "![The first edge with lowest weight is selected.](Figures/K1.png)\n",
    "\n"
   ]
  },
  {
   "cell_type": "markdown",
   "metadata": {},
   "source": [
    "The next edge that is selected connects nodes C and E. This edge also has a weight of 5.\n",
    "\n",
    "![The second edge is selected.](Figures/K2.png)"
   ]
  },
  {
   "cell_type": "markdown",
   "metadata": {},
   "source": [
    "The edge between D and F is subsequently selected.\n",
    "\n",
    "![A third edge is added to the forest.](Figures/K3.png)\n",
    "\n"
   ]
  },
  {
   "cell_type": "markdown",
   "metadata": {},
   "source": [
    "In the current forest, the edge between B and D becomes inaccessible. Taking this edge would result in a cycle in our graph (B and D are already connected through A in our forest), so it is forbidden.\n",
    "\n",
    "![Now edge BD becomes forbidden, because adding it to our forest would result in a cycle.](Figures/K4.png)\n"
   ]
  },
  {
   "cell_type": "markdown",
   "metadata": {},
   "source": [
    "The next allowd edge with the lowest weight is between nodes B and E. Taking this edges connects two independent components in our forest and makes other edges forbidden.\n",
    "\n",
    "![We add edge BD, connecting two components in our forest.](Figures/K5.png)\n"
   ]
  },
  {
   "cell_type": "markdown",
   "metadata": {},
   "source": [
    "Finally, edge EG connects the last node G to our tree with the lowest cost.\n",
    "\n",
    "![Adding edge EG results in the minimum spanning tree.](Figures/K6.png)"
   ]
  },
  {
   "cell_type": "markdown",
   "metadata": {},
   "source": [
    "### Pseudocode of Kruskal's algorithm\n",
    "\n",
    "```\n",
    "function Kruskal(G):\n",
    "1 A := empty list\n",
    "2 for each node v in G\n",
    "3    MAKE-SET(v)\n",
    "4 for each edge (u, v) ordered by weight(u, v), increasing:\n",
    "5    if FIND-SET(u) ≠ FIND-SET(v):\n",
    "6       add (u, v) to A\n",
    "7       UNION(u, v)\n",
    "8 return A\n",
    "```"
   ]
  },
  {
   "cell_type": "markdown",
   "metadata": {},
   "source": [
    "### Time complexity of Kruskal's algorithm\n",
    "\n",
    "We assume that by using a disjoint set data structure, ```FIND``` and ```UNION``` can be performed using a time complexity of $\\mathcal{O}(1)$. Then the only cost is in sorting the edges by their weight, which can be done with a time complexity of $\\mathcal{O}(|E| \\log(|E|))$, which is the time complexity of generating the minimum spanning tree using this algorithm."
   ]
  },
  {
   "cell_type": "markdown",
   "metadata": {},
   "source": [
    "**Assignment 1: completing Kruskal's algorithm**\n",
    "\n",
    "1. Complete the code for Kruskals algorithm below. Test the code on the example network given above.\n",
    "2. Ticket to Ride is a fun boardgame in which you have to connect trains to several important cities in the United States. Load the vertices (cities) and edges (roads) from the file `ticket_to_ride.py`. Compute a minimum spanning tree.\n",
    "\n",
    "![The map of Ticket to Ride.](Figures/TtRmap.jpg)"
   ]
  },
  {
   "cell_type": "code",
   "execution_count": 9,
   "metadata": {
    "collapsed": true
   },
   "outputs": [],
   "source": [
    "#Code for Kruskal's algorithm:\n",
    "def kruskal(vertices, edges):\n",
    "    \"\"\"\n",
    "    Kruskal's algorithm for finding a minimum spanning tree\n",
    "    Input :\n",
    "        - vertices : a set of the vertices of the graph\n",
    "        - edges : a list of weighted edges (e.g. (0.7, 'A', 'B')) for an\n",
    "                    edge from node A to node B with weigth 0.7\n",
    "    Output:\n",
    "        a minumum spanning tree represented as a list of edges\n",
    "    \"\"\"        \n",
    "    # complete this\n",
    "    edges = sorted(edges)\n",
    "    mintree = set([])\n",
    "    cost = 0\n",
    "    forest = set(vertices)\n",
    "    set_forest = USF(forest)\n",
    "    for (w, u, v) in edges:\n",
    "        if set_forest.find(u) != set_forest.find(v):\n",
    "            mintree.add((u, v))\n",
    "            cost += w\n",
    "            set_forest.union(u, v)\n",
    "    return list(mintree), cost"
   ]
  },
  {
   "cell_type": "code",
   "execution_count": 10,
   "metadata": {
    "collapsed": false
   },
   "outputs": [
    {
     "name": "stdout",
     "output_type": "stream",
     "text": [
      "([('F', 'D'), ('A', 'B'), ('A', 'D'), ('C', 'E'), ('B', 'E'), ('E', 'G')], 39)\n"
     ]
    }
   ],
   "source": [
    "vertices = ['A', 'B', 'C', 'D', 'E', 'F', 'G']\n",
    "edges = [(5, 'A', 'D'), (7, 'A', 'B'), (8, 'B', 'C'), (9, 'B', 'D'),\n",
    "         (7, 'B', 'E'), (5, 'C', 'E'), (15, 'D', 'E'), (6, 'F', 'D'), \n",
    "         (8, 'F', 'E'), (9, 'E', 'G'), (11, 'F', 'G')]\n",
    "#Test the code on the example network given above:\n",
    "print(kruskal(vertices, edges))"
   ]
  },
  {
   "cell_type": "code",
   "execution_count": 11,
   "metadata": {
    "collapsed": true
   },
   "outputs": [],
   "source": [
    "#Load the vertices (cities) and edges (roads) from the file ticket_to_ride.py.\n",
    "from ticket_to_ride import vertices as cities\n",
    "from ticket_to_ride import edges as roads"
   ]
  },
  {
   "cell_type": "code",
   "execution_count": 12,
   "metadata": {
    "collapsed": false,
    "scrolled": true
   },
   "outputs": [
    {
     "name": "stdout",
     "output_type": "stream",
     "text": [
      "Atlanta\n",
      "Boston\n",
      "Calgary\n",
      "Charleston\n",
      "Chicago\n",
      "Dallas\n",
      "Denver\n",
      "Duluth\n",
      "El Paso\n",
      "Helena\n",
      "Houston\n",
      "Kansas City\n",
      "Las Vegas\n",
      "Little Rock\n",
      "Los Angeles\n",
      "Miami\n",
      "Montreal\n",
      "Nashville\n",
      "New Orleans\n",
      "New York\n",
      "Oklahoma City\n",
      "Omaha\n",
      "Phoenix\n",
      "Pittsburgh\n",
      "Portland\n",
      "Raleigh\n",
      "Saint Louis\n",
      "Salt Lake City\n",
      "San Francisco\n",
      "Santa Fe\n",
      "Sault St. Marie\n",
      "Seattle\n",
      "Toronto\n",
      "Vancouver\n",
      "Washington DC\n",
      "Winnipeg\n"
     ]
    }
   ],
   "source": [
    "for city in cities:\n",
    "    print(city)"
   ]
  },
  {
   "cell_type": "code",
   "execution_count": 13,
   "metadata": {
    "collapsed": false
   },
   "outputs": [
    {
     "data": {
      "text/plain": [
       "([('El Paso', 'Phoenix'),\n",
       "  ('Kansas City', 'Oklahoma City'),\n",
       "  ('Dallas', 'Little Rock'),\n",
       "  ('Calgary', 'Helena'),\n",
       "  ('New York', 'Pittsburgh'),\n",
       "  ('Calgary', 'Vancouver'),\n",
       "  ('Charleston', 'Raleigh'),\n",
       "  ('Portland', 'Seattle'),\n",
       "  ('Sault St. Marie', 'Toronto'),\n",
       "  ('New York', 'Washington DC'),\n",
       "  ('Los Angeles', 'San Francisco'),\n",
       "  ('Atlanta', 'Nashville'),\n",
       "  ('Las Vegas', 'Los Angeles'),\n",
       "  ('Raleigh', 'Washington DC'),\n",
       "  ('Boston', 'Montreal'),\n",
       "  ('Dallas', 'El Paso'),\n",
       "  ('Kansas City', 'Saint Louis'),\n",
       "  ('Duluth', 'Winnipeg'),\n",
       "  ('Los Angeles', 'Phoenix'),\n",
       "  ('Denver', 'Santa Fe'),\n",
       "  ('Houston', 'New Orleans'),\n",
       "  ('Dallas', 'Oklahoma City'),\n",
       "  ('Chicago', 'Saint Louis'),\n",
       "  ('Denver', 'Salt Lake City'),\n",
       "  ('Denver', 'Helena'),\n",
       "  ('Dallas', 'Houston'),\n",
       "  ('Boston', 'New York'),\n",
       "  ('El Paso', 'Santa Fe'),\n",
       "  ('Duluth', 'Sault St. Marie'),\n",
       "  ('Atlanta', 'Charleston'),\n",
       "  ('Seattle', 'Vancouver'),\n",
       "  ('Duluth', 'Omaha'),\n",
       "  ('Nashville', 'Saint Louis'),\n",
       "  ('Kansas City', 'Omaha'),\n",
       "  ('Charleston', 'Miami')],\n",
       " 79)"
      ]
     },
     "execution_count": 13,
     "metadata": {},
     "output_type": "execute_result"
    }
   ],
   "source": [
    "#Compute a minimum spanning tree (MST) for Ticket to Ride\n",
    "kruskal(cities, roads)"
   ]
  },
  {
   "cell_type": "markdown",
   "metadata": {},
   "source": [
    "## The travelling salesman problem\n",
    "\n",
    "The traveling salesman problem is a well-known problem in computer science. The goal is to find a tour in a graph with a minimal cost. This problem is NP-hard, there is no algorithm to solve this efficiently for large graphs."
   ]
  },
  {
   "cell_type": "markdown",
   "metadata": {},
   "source": [
    "The tour is represented as a dictionary, for each key-value pair a vertex and the associated next vertex in the tour."
   ]
  },
  {
   "cell_type": "markdown",
   "metadata": {},
   "source": [
    "Below are two heuristic algorithms to find a good tour."
   ]
  },
  {
   "cell_type": "markdown",
   "metadata": {},
   "source": [
    "**Assignment 2**\n",
    "\n",
    "1. Complete the functions `nearest_neighbour_tsa` and `greedy_tsa`. \n",
    "2. We have two benchmarks problems, one with 29 and one with 225 cities. For each problem the graph and coordinates of the cities are given. Give the **found optimal cost** and **running time** for the two algorithms.\n",
    "3. Make a plot of the best tour for each of the two benchmarks.\n",
    "4. Discuss how you can see on such a plot if the tour is optimal."
   ]
  },
  {
   "cell_type": "code",
   "execution_count": 14,
   "metadata": {
    "collapsed": true
   },
   "outputs": [],
   "source": [
    "#Import all packages needed for this assignment:\n",
    "import pylab as pl\n",
    "import time\n",
    "from matplotlib import collections  as mc"
   ]
  },
  {
   "cell_type": "code",
   "execution_count": 15,
   "metadata": {
    "collapsed": true
   },
   "outputs": [],
   "source": [
    "#Function that will be used to plot the results for both algorithms:\n",
    "def plotTSP(tour, coordinates, title='Solution to the TSP'):\n",
    "    lines = list()\n",
    "    for a, b in tour.items():\n",
    "        if type(b) == list:\n",
    "            for v in b:\n",
    "                lines.append([tuple(coordinates[a]), tuple(coordinates[v])])\n",
    "        else:\n",
    "            lines.append([tuple(coordinates[a]), tuple(coordinates[b])])\n",
    "    lc = mc.LineCollection(lines, linewidths=2)\n",
    "    fig, ax = pl.subplots()\n",
    "    ax.add_collection(lc)\n",
    "    ax.autoscale()\n",
    "    ax.margins(0.1)\n",
    "    x= [u[0] for u in coordinates]\n",
    "    y = [u[1] for u in coordinates]\n",
    "    tsp_plot = pl.scatter(x, y, alpha=0.5)\n",
    "    pl.title(title)\n",
    "    pl.show(tsp_plot)\n",
    "    pl.clf()"
   ]
  },
  {
   "cell_type": "code",
   "execution_count": 16,
   "metadata": {
    "collapsed": true
   },
   "outputs": [],
   "source": [
    "#Load coordinates and graph for the two benchmark algorithms:\n",
    "from load_tsa import coordinates29, coordinates225, graph29, graph225"
   ]
  },
  {
   "cell_type": "markdown",
   "metadata": {},
   "source": [
    "### Nearest Neighbour\n",
    "\n",
    "The simplest algorithm, can be done in with a time complexity of $\\mathcal{O}(|V|^2)$.\n",
    "\n",
    "1. Select a random vertex.\n",
    "2. Find the nearest univisited vertex and add it to the path.\n",
    "3. Are there any unvisited vertices left? If yes, repeat step 2.\n",
    "4. Return to the first vertex."
   ]
  },
  {
   "cell_type": "code",
   "execution_count": 17,
   "metadata": {
    "collapsed": true
   },
   "outputs": [],
   "source": [
    "#Function for Nearest Neighbour algorithm\n",
    "def nearest_neighbour_tsa(graph, start=\"random\"):\n",
    "    import random\n",
    "    \"\"\"\n",
    "    Nearest Neighbour heuristic for the travelling salesman problem\n",
    "    Inputs:\n",
    "        - graph: the graph as an adjacency list\n",
    "        - start: the vertex to start\n",
    "        \n",
    "    Outputs:\n",
    "        - tour: the tour as a dictionary\n",
    "        - tour_cost: the cost of the tour\n",
    "    \"\"\"\n",
    "    tour = {}\n",
    "    cities = list(graph.keys())\n",
    "    unvisited_cities = list(cities)\n",
    "    \n",
    "    # Select a random vertex if no start is given.\n",
    "    if start == 'random':\n",
    "        start = random.sample(graph.keys(), 1)[0]\n",
    "    unvisited_cities.remove(start)\n",
    "    current_city = start\n",
    "    \n",
    "    # Keep track of the cost\n",
    "    tour_cost = 0\n",
    "    \n",
    "    # Until no more unvisited vertices are left.\n",
    "    while unvisited_cities != []:\n",
    "        # Find the nearest univisited vertex and add it to the path.\n",
    "        sorted_neighbours = sorted(graph[current_city], key=lambda tup: tup[0])\n",
    "        for neighbour in sorted_neighbours:\n",
    "            if neighbour[1] in unvisited_cities:\n",
    "                tour[current_city] = neighbour[1]\n",
    "                tour_cost += neighbour[0]\n",
    "                unvisited_cities.remove(neighbour[1])\n",
    "                current_city = neighbour[1]\n",
    "                break\n",
    "                \n",
    "    # Return to the first vertex.\n",
    "    tour[current_city] = start\n",
    "    return tour, tour_cost"
   ]
  },
  {
   "cell_type": "code",
   "execution_count": 18,
   "metadata": {
    "collapsed": false
   },
   "outputs": [
    {
     "name": "stdout",
     "output_type": "stream",
     "text": [
      "Optimal cost for Nearest Neighbour algorithm for 29 cities: 1966.0 \n",
      "\n",
      "Running time for Nearest Neighbour algorithm for 29 cities: 0.01310420036315918 \n",
      "\n",
      "Optimal tour for Nearest Neighbour algorithm for 29 cities:\n",
      " {22: 26, 26: 23, 23: 7, 7: 0, 0: 27, 27: 5, 5: 11, 11: 8, 8: 4, 4: 25, 25: 28, 28: 2, 2: 1, 1: 20, 20: 19, 19: 9, 9: 3, 3: 14, 14: 17, 17: 13, 13: 21, 21: 16, 16: 10, 10: 18, 18: 15, 15: 12, 12: 24, 24: 6, 6: 22}\n"
     ]
    }
   ],
   "source": [
    "#Nearest Neighbor TSA for 29 cities:\n",
    "i=0\n",
    "runningtimeNN29 = list()\n",
    "for start in graph29:\n",
    "    begin = time.time()\n",
    "    nearest_tour29, nearest_cost29 = nearest_neighbour_tsa(graph29, start)\n",
    "    end = time.time()\n",
    "    if end-begin != 0:\n",
    "        runningtimeNN29.append(end-begin)\n",
    "    if i == 0:\n",
    "        opt_nearest_tour29 = nearest_tour29\n",
    "        opt_nearest_cost29 = nearest_cost29\n",
    "        i = 1\n",
    "    else:\n",
    "        if nearest_cost29 < opt_nearest_cost29:\n",
    "            opt_nearest_tour29 = nearest_tour29\n",
    "            opt_nearest_cost29 = nearest_cost29\n",
    "print(\"Optimal cost for Nearest Neighbour algorithm for 29 cities:\", opt_nearest_cost29,\"\\n\")\n",
    "print(\"Running time for Nearest Neighbour algorithm for 29 cities:\", sum(runningtimeNN29),\"\\n\")\n",
    "print(\"Optimal tour for Nearest Neighbour algorithm for 29 cities:\\n\", opt_nearest_tour29)"
   ]
  },
  {
   "cell_type": "code",
   "execution_count": 19,
   "metadata": {
    "collapsed": false
   },
   "outputs": [
    {
     "name": "stdout",
     "output_type": "stream",
     "text": [
      "Optimal cost for Nearest Neighbour algorithm for 225 cities: 4380.673835 \n",
      "\n",
      "Running time for Nearest Neighbour algorithm for 225 cities: 6.220035076141357 \n",
      "\n",
      "Optimal tour for Nearest Neighbour algorithm for 225 cities:\n",
      " {199: 0, 0: 2, 2: 197, 197: 3, 3: 196, 196: 4, 4: 5, 5: 6, 6: 7, 7: 8, 8: 9, 9: 10, 10: 11, 11: 12, 12: 13, 13: 14, 14: 15, 15: 16, 16: 19, 19: 202, 202: 18, 18: 17, 17: 21, 21: 20, 20: 22, 22: 23, 23: 207, 207: 24, 24: 25, 25: 33, 33: 32, 32: 34, 34: 29, 29: 201, 201: 205, 205: 30, 30: 215, 215: 218, 218: 216, 216: 76, 76: 77, 77: 78, 78: 79, 79: 80, 80: 94, 94: 208, 208: 93, 93: 92, 92: 95, 95: 96, 96: 97, 97: 98, 98: 99, 99: 100, 100: 101, 101: 102, 102: 103, 103: 219, 219: 104, 104: 105, 105: 106, 106: 107, 107: 108, 108: 109, 109: 110, 110: 111, 111: 112, 112: 113, 113: 114, 114: 222, 222: 115, 115: 116, 116: 186, 186: 117, 117: 118, 118: 185, 185: 184, 184: 119, 119: 174, 174: 120, 120: 121, 121: 122, 122: 123, 123: 124, 124: 125, 125: 126, 126: 127, 127: 128, 128: 221, 221: 129, 129: 210, 210: 130, 130: 85, 85: 84, 84: 83, 83: 82, 82: 81, 81: 220, 220: 91, 91: 90, 90: 89, 89: 86, 86: 209, 209: 87, 87: 88, 88: 66, 66: 65, 65: 64, 64: 63, 63: 62, 62: 61, 61: 60, 60: 59, 59: 58, 58: 57, 57: 56, 56: 50, 50: 48, 48: 206, 206: 1, 1: 46, 46: 224, 224: 189, 189: 132, 132: 198, 198: 223, 223: 191, 191: 195, 195: 192, 192: 217, 217: 44, 44: 47, 47: 45, 45: 193, 193: 194, 194: 42, 42: 43, 43: 41, 41: 40, 40: 39, 39: 38, 38: 37, 37: 36, 36: 35, 35: 31, 31: 28, 28: 27, 27: 203, 203: 75, 75: 74, 74: 73, 73: 72, 72: 71, 71: 70, 70: 69, 69: 68, 68: 67, 67: 53, 53: 52, 52: 51, 51: 54, 54: 55, 55: 49, 49: 190, 190: 204, 204: 188, 188: 26, 26: 187, 187: 183, 183: 181, 181: 172, 172: 180, 180: 173, 173: 179, 179: 178, 178: 175, 175: 176, 176: 177, 177: 171, 171: 170, 170: 169, 169: 168, 168: 167, 167: 211, 211: 213, 213: 150, 150: 149, 149: 148, 148: 151, 151: 152, 152: 153, 153: 154, 154: 155, 155: 156, 156: 143, 143: 142, 142: 200, 200: 141, 141: 140, 140: 139, 139: 138, 138: 137, 137: 136, 136: 135, 135: 182, 182: 134, 134: 133, 133: 214, 214: 163, 163: 164, 164: 165, 165: 166, 166: 212, 212: 157, 157: 162, 162: 161, 161: 160, 160: 159, 159: 158, 158: 145, 145: 146, 146: 147, 147: 144, 144: 131, 131: 199}\n"
     ]
    }
   ],
   "source": [
    "#Nearest Neighbour TSA for 225 cities:\n",
    "i = 0\n",
    "runningtimeNN225 = list()\n",
    "for start in graph225:\n",
    "    begin = time.time()\n",
    "    nearest_tour225, nearest_cost225 = nearest_neighbour_tsa(graph225, start)\n",
    "    end = time.time()\n",
    "    if end-begin != 0:\n",
    "        runningtimeNN225.append(end-begin)\n",
    "    if i == 0:\n",
    "        opt_nearest_tour225= nearest_tour225\n",
    "        opt_nearest_cost225 = nearest_cost225\n",
    "        i = 1\n",
    "    else:\n",
    "        if nearest_cost225 < opt_nearest_cost225:\n",
    "            opt_nearest_tour225 = nearest_tour225\n",
    "            opt_nearest_cost225 = nearest_cost225\n",
    "print(\"Optimal cost for Nearest Neighbour algorithm for 225 cities:\", opt_nearest_cost225,\"\\n\")\n",
    "print(\"Running time for Nearest Neighbour algorithm for 225 cities:\", sum(runningtimeNN225),\"\\n\")\n",
    "print(\"Optimal tour for Nearest Neighbour algorithm for 225 cities:\\n\", opt_nearest_tour225)"
   ]
  },
  {
   "cell_type": "code",
   "execution_count": 20,
   "metadata": {
    "collapsed": false
   },
   "outputs": [
    {
     "data": {
      "image/png": "[encoded data removed]",
      "text/plain": [
       "<matplotlib.figure.Figure at 0x10a481780>"
      ]
     },
     "metadata": {},
     "output_type": "display_data"
    },
    {
     "data": {
      "text/plain": [
       "<matplotlib.figure.Figure at 0x112b98128>"
      ]
     },
     "metadata": {},
     "output_type": "display_data"
    },
    {
     "data": {
      "image/png": "[encoded data removed]",
      "text/plain": [
       "<matplotlib.figure.Figure at 0x112af1780>"
      ]
     },
     "metadata": {},
     "output_type": "display_data"
    }
   ],
   "source": [
    "#Plot of the best tour for Nearest Neighbour algorithm:\n",
    "plotTSP(opt_nearest_tour29, coordinates29, title='Best tour for Nearest Neighbour algorithm (29 cities)')\n",
    "plotTSP(opt_nearest_tour225, coordinates225, title='Best tour for Nearest Neighbour algorithm (225 cities)')"
   ]
  },
  {
   "cell_type": "markdown",
   "metadata": {},
   "source": [
    "### Greedy\n",
    "\n",
    "A greedy algorithm that gives a solution in $\\mathcal{O}(|V|^2\\log(|V|))$ time.\n",
    "\n",
    "1. Sort all edges\n",
    "2. Select the shortest edge and add it to the tour if it does not:\n",
    "    - creates a tour with less than $|V|$ vertices \n",
    "    - increases the degree of any of the vertices in the tour to more than two.\n",
    "3. Repeat step 2 until the tour has $|V|$ vertices."
   ]
  },
  {
   "cell_type": "code",
   "execution_count": 21,
   "metadata": {
    "collapsed": true
   },
   "outputs": [],
   "source": [
    "#Function for the Greedy algorithm:\n",
    "def greedy_tsa(graph):\n",
    "    \"\"\"\n",
    "    Greedy heuristic for the travelling salesman problem\n",
    "    Inputs:\n",
    "        - graph: the graph as an adjacency list\n",
    "    Outputs:\n",
    "        - tour: the tour as a dictionary\n",
    "        - tour_cost: the cost of the tour\n",
    "    \"\"\"\n",
    "    cities = set(graph.keys())\n",
    "    all_cities = USF(graph.keys())\n",
    "    \n",
    "    tour = dict()\n",
    "    tour_cost = 0\n",
    "    \n",
    "    edges = set((w, u, v) for u in list(graph.keys()) for w, v in graph[u])\n",
    "    edges = sorted(edges)\n",
    "    \n",
    "    for w, v1, v2 in edges:\n",
    "        if v1 not in tour:\n",
    "            tour[v1] = list()\n",
    "        if v2 not in tour:\n",
    "            tour[v2] = list()\n",
    "        if all_cities.find(v1) != all_cities.find(v2):\n",
    "            degreev1 = len(tour[v1])\n",
    "            degreev2 = len(tour[v2])\n",
    "            if degreev1 != 2 and degreev2 != 2:\n",
    "                tour[v1].append(v2)\n",
    "                tour[v2].append(v1)\n",
    "                all_cities.union(v1, v2)\n",
    "                tour_cost += w\n",
    "                \n",
    "    tobind = [v for v in tour if len(tour[v]) == 1]\n",
    "    v1 = tobind[0]\n",
    "    v2 = tobind[1]\n",
    "    tour[v1].append(v2)\n",
    "    tour[v2].append(v1)\n",
    "    \n",
    "    solution = dict()\n",
    "    solution[list(tour.keys())[0]] = list(tour.values())[0][0]\n",
    "    lastkey = list(tour.values())[0][1]\n",
    "    lastvalue = list(tour.keys())[0]\n",
    "    del tour[list(tour.keys())[0]]\n",
    "    while len(tour)>1:\n",
    "        key = list(solution.values())[-1]\n",
    "        if tour[key][1] in solution:\n",
    "            solution[key] = tour[key][0]\n",
    "        else:\n",
    "            solution[key] = tour[key][1]\n",
    "        del tour[key]\n",
    "    solution[lastkey] = lastvalue\n",
    "    return solution, tour_cost"
   ]
  },
  {
   "cell_type": "code",
   "execution_count": 22,
   "metadata": {
    "collapsed": false
   },
   "outputs": [
    {
     "name": "stdout",
     "output_type": "stream",
     "text": [
      "Optimal cost for Greedy algorithm for 29 cities: 1971.0 \n",
      "\n",
      "Running time for Greedy algorithm for 29 cities: 0.003924846649169922 \n",
      "\n",
      "Optimal tour for Greedy algorithm for 29 cities:\n",
      " {9: 19, 19: 1, 1: 20, 20: 0, 0: 27, 27: 5, 5: 11, 11: 8, 8: 4, 4: 25, 25: 28, 28: 2, 2: 6, 6: 24, 24: 18, 18: 15, 15: 23, 23: 26, 26: 7, 7: 22, 22: 12, 12: 10, 10: 16, 16: 21, 21: 13, 13: 17, 17: 14, 14: 3, 3: 9}\n"
     ]
    }
   ],
   "source": [
    "#Greedy TSA for 29 cities:\n",
    "begin = time.time()\n",
    "greedy_tour29, greedy_cost29 = greedy_tsa(graph29) \n",
    "end = time.time()\n",
    "runningtimeG29 = end-begin\n",
    "print(\"Optimal cost for Greedy algorithm for 29 cities:\",greedy_cost29,\"\\n\")\n",
    "print(\"Running time for Greedy algorithm for 29 cities:\",runningtimeG29,\"\\n\")\n",
    "print(\"Optimal tour for Greedy algorithm for 29 cities:\\n\",greedy_tour29)"
   ]
  },
  {
   "cell_type": "code",
   "execution_count": 23,
   "metadata": {
    "collapsed": false
   },
   "outputs": [
    {
     "name": "stdout",
     "output_type": "stream",
     "text": [
      "Optimal cost for Greedy algorithm for 225 cities: 4305.192289 \n",
      "\n",
      "Running time for Greedy algorithm for 225 cities: 0.2781357765197754 \n",
      "\n",
      "Optimal tour for Greedy algorithm for 225 cities:\n",
      " {29: 201, 201: 205, 205: 30, 30: 215, 215: 218, 218: 216, 216: 76, 76: 77, 77: 78, 78: 95, 95: 96, 96: 97, 97: 98, 98: 99, 99: 100, 100: 101, 101: 102, 102: 103, 103: 219, 219: 104, 104: 105, 105: 106, 106: 107, 107: 108, 108: 109, 109: 110, 110: 111, 111: 112, 112: 113, 113: 114, 114: 222, 222: 115, 115: 116, 116: 186, 186: 117, 117: 118, 118: 185, 185: 184, 184: 119, 119: 174, 174: 120, 120: 121, 121: 122, 122: 123, 123: 124, 124: 125, 125: 126, 126: 127, 127: 128, 128: 221, 221: 129, 129: 210, 210: 130, 130: 131, 131: 212, 212: 157, 157: 162, 162: 161, 161: 160, 160: 159, 159: 158, 158: 144, 144: 145, 145: 146, 146: 147, 147: 152, 152: 153, 153: 154, 154: 155, 155: 156, 156: 143, 143: 142, 142: 200, 200: 141, 141: 140, 140: 139, 139: 138, 138: 137, 137: 136, 136: 135, 135: 182, 182: 134, 134: 133, 133: 214, 214: 163, 163: 164, 164: 165, 165: 166, 166: 151, 151: 148, 148: 149, 149: 150, 150: 213, 213: 211, 211: 167, 167: 168, 168: 169, 169: 170, 170: 171, 171: 181, 181: 172, 172: 180, 180: 173, 173: 179, 179: 178, 178: 175, 175: 176, 176: 177, 177: 183, 183: 87, 87: 88, 88: 81, 81: 82, 82: 83, 83: 84, 84: 85, 85: 209, 209: 86, 86: 89, 89: 90, 90: 91, 91: 92, 92: 93, 93: 208, 208: 94, 94: 79, 79: 80, 80: 220, 220: 199, 199: 0, 0: 2, 2: 197, 197: 3, 3: 196, 196: 4, 4: 5, 5: 6, 6: 7, 7: 8, 8: 9, 9: 10, 10: 11, 11: 12, 12: 13, 13: 14, 14: 15, 15: 16, 16: 19, 19: 202, 202: 18, 18: 17, 17: 20, 20: 21, 21: 22, 22: 23, 23: 207, 207: 24, 24: 25, 25: 33, 33: 32, 32: 34, 34: 31, 31: 75, 75: 74, 74: 73, 73: 72, 72: 71, 71: 70, 70: 69, 69: 68, 68: 67, 67: 66, 66: 65, 65: 64, 64: 63, 63: 62, 62: 61, 61: 60, 60: 59, 59: 58, 58: 57, 57: 53, 53: 52, 52: 51, 51: 54, 54: 55, 55: 56, 56: 50, 50: 48, 48: 206, 206: 1, 1: 46, 46: 224, 224: 189, 189: 132, 132: 198, 198: 223, 223: 47, 47: 44, 44: 217, 217: 192, 192: 195, 195: 191, 191: 190, 190: 204, 204: 188, 188: 26, 26: 187, 187: 49, 49: 194, 194: 193, 193: 45, 45: 43, 43: 42, 42: 41, 41: 40, 40: 39, 39: 38, 38: 37, 37: 36, 36: 35, 35: 203, 203: 27, 27: 28, 28: 29}\n"
     ]
    }
   ],
   "source": [
    "#Greedy TSA for 225 cities:\n",
    "begin = time.time()\n",
    "greedy_tour225, greedy_cost225 = greedy_tsa(graph225) \n",
    "end = time.time()\n",
    "runningtimeG225 = end-begin\n",
    "print(\"Optimal cost for Greedy algorithm for 225 cities:\",greedy_cost225,\"\\n\")\n",
    "print(\"Running time for Greedy algorithm for 225 cities:\",runningtimeG225,\"\\n\")\n",
    "print(\"Optimal tour for Greedy algorithm for 225 cities:\\n\",greedy_tour225)"
   ]
  },
  {
   "cell_type": "code",
   "execution_count": 24,
   "metadata": {
    "collapsed": false
   },
   "outputs": [
    {
     "data": {
      "text/plain": [
       "<matplotlib.figure.Figure at 0x112b424e0>"
      ]
     },
     "metadata": {},
     "output_type": "display_data"
    },
    {
     "data": {
      "image/png": "[encoded data removed]",
      "text/plain": [
       "<matplotlib.figure.Figure at 0x112b98b38>"
      ]
     },
     "metadata": {},
     "output_type": "display_data"
    },
    {
     "data": {
      "text/plain": [
       "<matplotlib.figure.Figure at 0x112b93588>"
      ]
     },
     "metadata": {},
     "output_type": "display_data"
    },
    {
     "data": {
      "image/png": "[encoded data removed]",
      "text/plain": [
       "<matplotlib.figure.Figure at 0x112dfef60>"
      ]
     },
     "metadata": {},
     "output_type": "display_data"
    }
   ],
   "source": [
    "#Plot of the best tour for Greedy algorithm:\n",
    "plotTSP(greedy_tour29, coordinates29, title='Tour for Greedy algorithm (29 cities)')\n",
    "plotTSP(greedy_tour225, coordinates225, title='Tour for Greedy algorithm (225 cities)')"
   ]
  },
  {
   "cell_type": "markdown",
   "metadata": {},
   "source": [
    "### How to check on the graph is we have the optimal solution?\n",
    "\n",
    "We can see on the graph if the algorithm has returned an optimal solution by looking at the length of the steps. \n",
    "If distances between points are of similar length across all the graph it is most likely that the algorithm has provided an optimal solution.\n",
    "\n",
    "For the Nearest Neighbour algorithm, we can see that for 29 cities the length between them was in average similar across all the graph. For this reason, we can conclude that it is likely that this algorithm returned an optimal solution in this case. Nevertheless for 225 cities, 2 paths are significantly longer than others (therefore not an optimal solution).\n",
    "Concerning the Greedy algorithm, for 29 cities we can observe that 1 path is significantly longer than the others (resulting in a non-optimal solution), the same phenomenon is observed for 225 cities.\n",
    "\n",
    "For 29 cities, as the number of irregular paths is higher for Greedy than for Nearest Neighbour solution, we could say that Nearest Neighbour performed better in this case. The total costs 1971.0 (Greedy) and 1966.0 (Nearest Neighbour) support this conclusion.\n",
    "In opposite, for 225 cities, the number of irregular paths is higher for Nearest Neighbour than for Greedy solution, we could then say that Greedy performed better in this case. The total costs 4305.192289 (Greedy) and 4380.673835 (Nearest Neighbour) also support this conclusion."
   ]
  }
 ],
 "metadata": {
  "anaconda-cloud": {},
  "kernelspec": {
   "display_name": "Python [default]",
   "language": "python",
   "name": "python3"
  },
  "language_info": {
   "codemirror_mode": {
    "name": "ipython",
    "version": 3
   },
   "file_extension": ".py",
   "mimetype": "text/x-python",
   "name": "python",
   "nbconvert_exporter": "python",
   "pygments_lexer": "ipython3",
   "version": "3.5.2"
  },
  "latex_envs": {
   "bibliofile": "biblio.bib",
   "cite_by": "apalike",
   "current_citInitial": 1,
   "eqLabelWithNumbers": true,
   "eqNumInitial": 0
  }
 },
 "nbformat": 4,
 "nbformat_minor": 0
}
