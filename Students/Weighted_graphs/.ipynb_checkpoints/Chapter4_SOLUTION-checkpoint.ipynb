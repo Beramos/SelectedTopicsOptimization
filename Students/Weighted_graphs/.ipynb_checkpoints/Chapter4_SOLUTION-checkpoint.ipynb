{
 "cells": [
  {
   "cell_type": "markdown",
   "metadata": {},
   "source": [
    "# Chapter 4: Minimum spanning trees"
   ]
  },
  {
   "cell_type": "markdown",
   "metadata": {},
   "source": [
    "In this chapter we will continue to study algorithms that process graphs. We will implement Kruskal's algorithm to construct the **minimum spanning tree** of a graph, a subgraph that efficiently connects all nodes."
   ]
  },
  {
   "cell_type": "markdown",
   "metadata": {},
   "source": [
    "## Trees in python\n",
    "\n",
    "A tree is an undirected graph where any two edges are connected by **exactly one path**. For example, consider the tree below.\n",
    "\n",
    "![A simple tree](Figures/example_tree.png)\n",
    "\n",
    "We can represent in python using dictionaries, as we did in the last chapter."
   ]
  },
  {
   "cell_type": "code",
   "execution_count": 23,
   "metadata": {
    "collapsed": true
   },
   "outputs": [],
   "source": [
    "tree_dict = {'A' : set(['D']), 'B' : set(['D']), 'C' : set(['D']),\n",
    "             'D' : set(['A', 'B', 'C', 'E']), 'E' : set(['D', 'F']), 'F' : set(['E'])}"
   ]
  },
  {
   "cell_type": "markdown",
   "metadata": {},
   "source": [
    "Though in this chapter, we prefer to represent the tree as a list (set) of links:"
   ]
  },
  {
   "cell_type": "code",
   "execution_count": 24,
   "metadata": {
    "collapsed": false
   },
   "outputs": [
    {
     "data": {
      "text/plain": [
       "[('A', 'D'),\n",
       " ('C', 'D'),\n",
       " ('D', 'A'),\n",
       " ('D', 'E'),\n",
       " ('D', 'B'),\n",
       " ('D', 'C'),\n",
       " ('B', 'D'),\n",
       " ('E', 'D'),\n",
       " ('E', 'F'),\n",
       " ('F', 'E')]"
      ]
     },
     "execution_count": 24,
     "metadata": {},
     "output_type": "execute_result"
    }
   ],
   "source": [
    "tree_links = [(node, neighbor) for node in tree_dict.keys() for neighbor in tree_dict[node]]\n",
    "tree_links"
   ]
  },
  {
   "cell_type": "markdown",
   "metadata": {},
   "source": [
    "If we choose one node as the **root** of the tree, we have exactly one path from this root to each of the other terminal nodes. This idea can applied recursively as follows: from this root, each neighboring is itself a root of a subtree. Each of these subtrees also consist of a root and possibly one or more subtrees. Hence we can also represent the tree as a nested sublist:\n",
    "\n",
    "```\n",
    "tree = [root, [subtree1], [subtree2],...]\n",
    "```\n",
    "\n",
    "For our example, we obtain when taking node D as a root: (see [here](http://interactivepython.org/courselib/static/pythonds/Trees/ListofListsRepresentation.html))"
   ]
  },
  {
   "cell_type": "code",
   "execution_count": 25,
   "metadata": {
    "collapsed": true
   },
   "outputs": [],
   "source": [
    "tree_list = ['D', ['A'], ['B'], ['C'], ['E', ['F']]]"
   ]
  },
  {
   "cell_type": "markdown",
   "metadata": {},
   "source": [
    "## Minimum spanning tree"
   ]
  },
  {
   "cell_type": "markdown",
   "metadata": {},
   "source": [
    "Suppose we have an undirected connected weighted graph $G$ as depicted below.\n",
    "\n",
    "![A weighted graph](Figures/graph.png)"
   ]
  },
  {
   "cell_type": "markdown",
   "metadata": {},
   "source": [
    "Weighted graphs can either be implemented as a set of weighted edges of as a dictionary."
   ]
  },
  {
   "cell_type": "code",
   "execution_count": 26,
   "metadata": {
    "collapsed": true
   },
   "outputs": [],
   "source": [
    "vertices = ['A', 'B', 'C', 'D', 'E', 'F', 'G']\n",
    "\n",
    "edges = set([(5, 'A', 'D'), (7, 'A', 'B'), (8, 'B', 'C'), (9, 'B', 'D'),\n",
    "         (7, 'B', 'E'), (5, 'C', 'E'), (15, 'D', 'E'), (6, 'F', 'D'), \n",
    "        (8, 'F', 'E'), (9, 'E', 'G'), (11, 'F', 'G')])"
   ]
  },
  {
   "cell_type": "code",
   "execution_count": 27,
   "metadata": {
    "collapsed": false
   },
   "outputs": [
    {
     "data": {
      "text/plain": [
       "{'A': {(5, 'D'), (7, 'B')},\n",
       " 'B': {(7, 'A'), (7, 'E'), (8, 'C'), (9, 'D')},\n",
       " 'C': {(5, 'E'), (8, 'B')},\n",
       " 'D': {(5, 'A'), (6, 'F'), (9, 'B'), (15, 'E')},\n",
       " 'E': {(5, 'C'), (7, 'B'), (8, 'F'), (9, 'G'), (15, 'D')},\n",
       " 'F': {(6, 'D'), (8, 'E'), (11, 'G')},\n",
       " 'G': {(9, 'E'), (11, 'F')}}"
      ]
     },
     "execution_count": 27,
     "metadata": {},
     "output_type": "execute_result"
    }
   ],
   "source": [
    "weighted_adj_list = {v : set([]) for v in vertices}\n",
    "\n",
    "for weight, vertex1, vertex2 in edges:\n",
    "    weighted_adj_list[vertex1].add((weight, vertex2))\n",
    "    weighted_adj_list[vertex2].add((weight, vertex1))  # undirected graph, in=outgoing edge\n",
    "\n",
    "weighted_adj_list"
   ]
  },
  {
   "cell_type": "markdown",
   "metadata": {},
   "source": [
    "For example, the nodes may represent cities and the weight of an edge may represent the cost of implementing a communication line between two cities. If we want to make communication possible between all cities, these should be a path between any two cities. A **spanning tree** is a subgraph of $G$ that is a tree which contains all nodes of $G$. The cost of the spanning tree is simply the sum of a the weights of the edges in this tree. Often, multiple spanning trees can be chosen from a connected graph. The **minimum spanning tree** is simply the spanning tree with the lowest cost.\n",
    "\n",
    "The figure below shows the minimum spanning tree for $G$ in green.\n",
    "\n",
    "![A weighted graph](Figures/min_spanning_tree.png)"
   ]
  },
  {
   "cell_type": "markdown",
   "metadata": {},
   "source": [
    "Minimum spanning trees have many applications:\n",
    "- design of computer-, telecommunication-, transportation- and other networks\n",
    "- hierachical clustering\n",
    "- image segmentation and feature extraction\n",
    "- phylogenetic analysis\n",
    "- construction of mazes"
   ]
  },
  {
   "cell_type": "markdown",
   "metadata": {},
   "source": [
    "## Disjoint-set data structure"
   ]
  },
  {
   "cell_type": "markdown",
   "metadata": {},
   "source": [
    "Implementing an algorithm for finding the minimum spanning tree is fairly straightforward. The only bottleneck is that the algorithm requires the a **disjoint-set data structure** to keep track of a set partitioned in a number of disjoined subsets.\n",
    "\n",
    "For example, consider the following inital set of eight elements.\n",
    "\n",
    "![A set of eight elements](Figures/disjointset1.png)\n",
    "\n",
    "We decide to group elements A, B and C together in a subset and F and G in another subset.\n",
    "\n",
    "![The same set, but after grouping some elements together.](Figures/disjointset2.png)\n",
    "\n",
    "The disjoint-set data structure support the following operations:\n",
    "- **Find** check which subset an element is in. Is typically used to check whether two objects are in the same subset.\n",
    "- **Union** to merge two subsets into a single subset.\n",
    "\n",
    "A python implementation of a disjoint-set is available using an union-set forest. A simple example will make everything clear!"
   ]
  },
  {
   "cell_type": "code",
   "execution_count": 28,
   "metadata": {
    "collapsed": true
   },
   "outputs": [],
   "source": [
    "from union_set_forest import USF\n",
    "\n",
    "animals = ['mouse', 'bat', 'robin', 'trout', 'seagull', 'hummingbird',\n",
    "           'salmon', 'goldfish', 'hippopotamus', 'whale', 'sparrow']\n",
    "union_set_forest = USF(animals)\n",
    "\n",
    "# group mammals together\n",
    "union_set_forest.union('mouse', 'bat')\n",
    "union_set_forest.union('mouse', 'hippopotamus')\n",
    "union_set_forest.union('whale', 'bat')\n",
    "\n",
    "# group birds together\n",
    "union_set_forest.union('robin', 'seagull')\n",
    "union_set_forest.union('seagull', 'sparrow')\n",
    "union_set_forest.union('seagull', 'hummingbird')\n",
    "union_set_forest.union('robin', 'hummingbird')\n",
    "\n",
    "# group fishes together\n",
    "union_set_forest.union('goldfish', 'salmon')\n",
    "union_set_forest.union('trout', 'salmon')"
   ]
  },
  {
   "cell_type": "code",
   "execution_count": 29,
   "metadata": {
    "collapsed": false
   },
   "outputs": [
    {
     "name": "stdout",
     "output_type": "stream",
     "text": [
      "True\n"
     ]
    }
   ],
   "source": [
    "# mouse and whale in same subset?\n",
    "print(union_set_forest.find('mouse') == union_set_forest.find('whale'))"
   ]
  },
  {
   "cell_type": "code",
   "execution_count": 30,
   "metadata": {
    "collapsed": false
   },
   "outputs": [
    {
     "name": "stdout",
     "output_type": "stream",
     "text": [
      "False\n"
     ]
    }
   ],
   "source": [
    "# robin and salmon in the same subset?\n",
    "print(union_set_forest.find('robin') == union_set_forest.find('salmon'))"
   ]
  },
  {
   "cell_type": "markdown",
   "metadata": {},
   "source": [
    "## Kruskal's algorithm"
   ]
  },
  {
   "cell_type": "markdown",
   "metadata": {},
   "source": [
    "Kruskal's algorithm is a very simple algorithm to find the minimum spanning tree. The main idea is to start with an intial 'forest' of the induvidual nodes of the graph. In each step of the algorithm we add an edge with the smallest possible value that connects two disjoints trees in the forest. This process is continued until we have a single tree, which is a minimum spanning tree, or until all edges are considered. In the former case the algoritm returns the minimum spanning forest. "
   ]
  },
  {
   "cell_type": "markdown",
   "metadata": {},
   "source": [
    "### Example run of Kruskal's algorithm\n",
    "\n",
    "Consider the weighted graph again.\n",
    "\n",
    "![A weighted graph](Figures/graph.png)"
   ]
  },
  {
   "cell_type": "markdown",
   "metadata": {},
   "source": [
    "In a first step, the algorithm selects the edge with the lowest weight, here connecting nodes A and D. This edge has a weight of 5.\n",
    "\n",
    "![The first edge with lowest weight is selected.](Figures/K1.png)\n",
    "\n"
   ]
  },
  {
   "cell_type": "markdown",
   "metadata": {},
   "source": [
    "The next edge that is selected connects nodes C and E. This edge also has a weight of 5.\n",
    "\n",
    "![The second edge is selected.](Figures/K2.png)"
   ]
  },
  {
   "cell_type": "markdown",
   "metadata": {},
   "source": [
    "The edge between D and F is subsequently selected.\n",
    "\n",
    "![A third edge is added to the forest.](Figures/K3.png)\n",
    "\n"
   ]
  },
  {
   "cell_type": "markdown",
   "metadata": {},
   "source": [
    "In the current forest, the edge between B and D becomes inaccessible. Taking this edge would result in a cycle in our graph (B and D are already connected through A in our forest), so it is forbidden.\n",
    "\n",
    "![Now edge BD becomes forbidden, because adding it to our forest would result in a cycle.](Figures/K4.png)\n"
   ]
  },
  {
   "cell_type": "markdown",
   "metadata": {},
   "source": [
    "The next allowd edge with the lowest weight is between nodes B and E. Taking this edges connects two independent components in our forest and makes other edges forbidden.\n",
    "\n",
    "![We add edge BD, connecting two components in our forest.](Figures/K5.png)\n"
   ]
  },
  {
   "cell_type": "markdown",
   "metadata": {},
   "source": [
    "Finally, edge EG connects the last node G to our tree with the lowest cost.\n",
    "\n",
    "![Adding edge EG results in the minimum spanning tree.](Figures/K6.png)"
   ]
  },
  {
   "cell_type": "markdown",
   "metadata": {},
   "source": [
    "### Pseudocode of Kruskal's algorithm\n",
    "\n",
    "```\n",
    "function Kruskal(G):\n",
    "1 A := empty list\n",
    "2 for each node v in G\n",
    "3    MAKE-SET(v)\n",
    "4 for each edge (u, v) ordered by weight(u, v), increasing:\n",
    "5    if FIND-SET(u) ≠ FIND-SET(v):\n",
    "6       add (u, v) to A\n",
    "7       UNION(u, v)\n",
    "8 return A\n",
    "```"
   ]
  },
  {
   "cell_type": "markdown",
   "metadata": {},
   "source": [
    "### Time complexity of Kruskal's algorithm\n",
    "\n",
    "We assume that by using a disjoint set data structure, ```FIND``` and ```UNION``` can be performed using a time complexity of $\\mathcal{O}(1)$. Then the only cost is in sorting the edges by their weight, which can be done with a time complexity of $\\mathcal{O}(|E| \\log(|E|))$, which is the time complexity of generating the minimum spanning tree using this algorithm."
   ]
  },
  {
   "cell_type": "markdown",
   "metadata": {},
   "source": [
    "**Assignment 1: completing Kruskal's algorithm**\n",
    "\n",
    "1. Complete the code for Kruskals algorithm below. Test the code on the example network given above.\n",
    "2. Ticket to Ride is a fun boardgame in which you have to connect trains to several important cities in the United States. Load the vertices (cities) and edges (roads) from the file `ticket_to_ride.py`. Compute a minimum spanning tree.\n",
    "\n",
    "![The map of Ticket to Ride.](Figures/TtRmap.jpg)"
   ]
  },
  {
   "cell_type": "code",
   "execution_count": 31,
   "metadata": {
    "collapsed": true
   },
   "outputs": [],
   "source": [
    "def kruskal(vertices, edges):\n",
    "    \"\"\"\n",
    "    Kruskal's algorithm for finding a minimum spanning tree\n",
    "    Input :\n",
    "        - vertices : a set of the vertices of the graph\n",
    "        - edges : a list of weighted edges (e.g. (0.7, 'A', 'B')) for an\n",
    "                    edge from node A to node B with weigth 0.7\n",
    "    Output:\n",
    "        a minumum spanning tree represented as a list of edges\n",
    "    \"\"\"\n",
    "    union_set_forest = USF(vertices)\n",
    "    total_cost = 0\n",
    "    edges = list(edges)  # might be saved in set format...\n",
    "    edges.sort()\n",
    "    forest = set([])\n",
    "    for cost, u, v in edges:\n",
    "        if union_set_forest.find(u) != union_set_forest.find(v):\n",
    "            forest.add((u, v))\n",
    "            union_set_forest.union(u, v)\n",
    "            total_cost += cost\n",
    "    del union_set_forest\n",
    "    return forest, total_cost"
   ]
  },
  {
   "cell_type": "code",
   "execution_count": 32,
   "metadata": {
    "collapsed": false
   },
   "outputs": [
    {
     "name": "stdout",
     "output_type": "stream",
     "text": [
      "({('C', 'E'), ('E', 'G'), ('A', 'D'), ('B', 'E'), ('A', 'B'), ('F', 'D')}, 39)\n"
     ]
    }
   ],
   "source": [
    "vertices = ['A', 'B', 'C', 'D', 'E', 'F', 'G']\n",
    "edges = [(5, 'A', 'D'), (7, 'A', 'B'), (8, 'B', 'C'), (9, 'B', 'D'),\n",
    "         (7, 'B', 'E'), (5, 'C', 'E'), (15, 'D', 'E'), (6, 'F', 'D'), \n",
    "        (8, 'F', 'E'), (9, 'E', 'G'), (11, 'F', 'G')]\n",
    "\n",
    "print(kruskal(vertices, edges))"
   ]
  },
  {
   "cell_type": "code",
   "execution_count": 33,
   "metadata": {
    "collapsed": true
   },
   "outputs": [],
   "source": [
    "from ticket_to_ride import vertices as cities\n",
    "from ticket_to_ride import edges as roads"
   ]
  },
  {
   "cell_type": "code",
   "execution_count": 34,
   "metadata": {
    "collapsed": false,
    "scrolled": true
   },
   "outputs": [
    {
     "name": "stdout",
     "output_type": "stream",
     "text": [
      "Atlanta\n",
      "Boston\n",
      "Calgary\n",
      "Charleston\n",
      "Chicago\n",
      "Dallas\n",
      "Denver\n",
      "Duluth\n",
      "El Paso\n",
      "Helena\n",
      "Houston\n",
      "Kansas City\n",
      "Las Vegas\n",
      "Little Rock\n",
      "Los Angeles\n",
      "Miami\n",
      "Montreal\n",
      "Nashville\n",
      "New Orleans\n",
      "New York\n",
      "Oklahoma City\n",
      "Omaha\n",
      "Phoenix\n",
      "Pittsburgh\n",
      "Portland\n",
      "Raleigh\n",
      "Saint Louis\n",
      "Salt Lake City\n",
      "San Francisco\n",
      "Santa Fe\n",
      "Sault St. Marie\n",
      "Seattle\n",
      "Toronto\n",
      "Vancouver\n",
      "Washington DC\n",
      "Winnipeg\n"
     ]
    }
   ],
   "source": [
    "for city in cities:\n",
    "    print(city)"
   ]
  },
  {
   "cell_type": "code",
   "execution_count": 35,
   "metadata": {
    "collapsed": false
   },
   "outputs": [
    {
     "data": {
      "text/plain": [
       "({('Atlanta', 'Charleston'),\n",
       "  ('Atlanta', 'Nashville'),\n",
       "  ('Boston', 'Montreal'),\n",
       "  ('Boston', 'New York'),\n",
       "  ('Calgary', 'Helena'),\n",
       "  ('Calgary', 'Vancouver'),\n",
       "  ('Charleston', 'Miami'),\n",
       "  ('Charleston', 'Raleigh'),\n",
       "  ('Chicago', 'Saint Louis'),\n",
       "  ('Dallas', 'El Paso'),\n",
       "  ('Dallas', 'Houston'),\n",
       "  ('Dallas', 'Little Rock'),\n",
       "  ('Dallas', 'Oklahoma City'),\n",
       "  ('Denver', 'Helena'),\n",
       "  ('Denver', 'Salt Lake City'),\n",
       "  ('Denver', 'Santa Fe'),\n",
       "  ('Duluth', 'Omaha'),\n",
       "  ('Duluth', 'Sault St. Marie'),\n",
       "  ('Duluth', 'Winnipeg'),\n",
       "  ('El Paso', 'Phoenix'),\n",
       "  ('El Paso', 'Santa Fe'),\n",
       "  ('Houston', 'New Orleans'),\n",
       "  ('Kansas City', 'Oklahoma City'),\n",
       "  ('Kansas City', 'Omaha'),\n",
       "  ('Kansas City', 'Saint Louis'),\n",
       "  ('Las Vegas', 'Los Angeles'),\n",
       "  ('Los Angeles', 'Phoenix'),\n",
       "  ('Los Angeles', 'San Francisco'),\n",
       "  ('Nashville', 'Saint Louis'),\n",
       "  ('New York', 'Pittsburgh'),\n",
       "  ('New York', 'Washington DC'),\n",
       "  ('Portland', 'Seattle'),\n",
       "  ('Raleigh', 'Washington DC'),\n",
       "  ('Sault St. Marie', 'Toronto'),\n",
       "  ('Seattle', 'Vancouver')},\n",
       " 79)"
      ]
     },
     "execution_count": 35,
     "metadata": {},
     "output_type": "execute_result"
    }
   ],
   "source": [
    "# compute here the MST for Ticket to Ride\n",
    "kruskal(cities, roads)"
   ]
  },
  {
   "cell_type": "markdown",
   "metadata": {},
   "source": [
    "## The travelling salesman problem\n",
    "\n",
    "The traveling salesman problem is a well-known problem in computer science. The goal is to find a tour in a graph with a minimal cost. This problem is NP-hard, there is no algorithm to solve this efficiently for large graphs."
   ]
  },
  {
   "cell_type": "markdown",
   "metadata": {},
   "source": [
    "The tour is represented as a dictionary, for each key-value pair a vertex and the associated next vertex in the tour."
   ]
  },
  {
   "cell_type": "markdown",
   "metadata": {},
   "source": [
    "Below are two heuristic algorithms to find a good tour."
   ]
  },
  {
   "cell_type": "markdown",
   "metadata": {},
   "source": [
    "### Nearest Neighbour\n",
    "\n",
    "The simplest algorithm, can be done in with a time complexity of $\\mathcal{O}(|V|^2)$.\n",
    "\n",
    "1. Select a random vertex.\n",
    "2. Find the nearest univisited vertex and add it to the path.\n",
    "3. Are there any unvisited vertices left? If yes, repeat step 2.\n",
    "4. Return to the first vertex."
   ]
  },
  {
   "cell_type": "markdown",
   "metadata": {},
   "source": [
    "### Greedy\n",
    "\n",
    "A greedy algorithm that gives a solution in $\\mathcal{O}(|V|^2\\log(|V|))$ time.\n",
    "\n",
    "1. Sort all edges\n",
    "2. Select the shortest edge and add it to the tour if it does not:\n",
    "    - creates a tour with less than $|V|$ vertices \n",
    "    - increases the degree of any of the vertices in the tour to more than two.\n",
    "3. Repeat step 2 until the tour has $|V|$ vertices."
   ]
  },
  {
   "cell_type": "markdown",
   "metadata": {},
   "source": [
    "**Assignment 2**\n",
    "\n",
    "1. Complete the functions `nearest_neighbour_tsa` and `greedy_tsa`. \n",
    "2. We have two benchmarks problems, one with 29 and one with 225 cities. For each problem the graph and coordinates of the cities are given. Give the **found optimal cost** and **running time** for the two algorithms.\n",
    "3. Make a plot of the best tour for each of the two benchmarks.\n",
    "4. Discuss how you can see on such a plot if the tour is optimal."
   ]
  },
  {
   "cell_type": "code",
   "execution_count": 1,
   "metadata": {
    "collapsed": false
   },
   "outputs": [],
   "source": [
    "def nearest_neighbour_tsa(graph, start):\n",
    "    \"\"\"\n",
    "    Nearest Neighbour heuristic for the travelling salesman problem\n",
    "    \n",
    "    Inputs:\n",
    "        - graph: the graph as an adjacency list\n",
    "        - start: the vertex to start\n",
    "        \n",
    "    Outputs:\n",
    "        - tour: the tour as a dictionary\n",
    "        - tour_cost: the cost of the tour\n",
    "    \n",
    "    \"\"\"\n",
    "    tour = {}\n",
    "    tour_cost = 0\n",
    "    to_visit = set(graph.keys())\n",
    "    current = start\n",
    "    while to_visit:\n",
    "        for weight, neighbor in sorted(list(graph[current])):\n",
    "            if neighbor in to_visit:\n",
    "                if (len(to_visit) > 1 and neighbor!=start) or (len(to_visit)==1 and neighbor==start):\n",
    "                    tour[current] = neighbor\n",
    "                    to_visit.remove(neighbor)\n",
    "                    current = neighbor\n",
    "                    tour_cost += weight\n",
    "                    break\n",
    "    return tour, tour_cost"
   ]
  },
  {
   "cell_type": "code",
   "execution_count": 2,
   "metadata": {
    "collapsed": false
   },
   "outputs": [],
   "source": [
    "def greedy_tsa(graph):\n",
    "    \"\"\"\n",
    "    Greedy heuristic for the travelling salesman problem\n",
    "    \n",
    "    Inputs:\n",
    "        - graph: the graph as an adjacency list\n",
    "        \n",
    "    Outputs:\n",
    "        - tour: the tour as a dictionary\n",
    "        - tour_cost: the cost of the tour\n",
    "    \n",
    "    \"\"\"\n",
    "    tour = {}\n",
    "    tour_cost = 0\n",
    "    vertices_out = set([])\n",
    "    usf = USF(list(graph.keys()))\n",
    "    # make list of edges\n",
    "    edges = []\n",
    "    for k, v in graph.items():\n",
    "        for w, n in v:\n",
    "            edges.append((w, k, n))\n",
    "    # sort edges\n",
    "    edges.sort()\n",
    "    # greedy search\n",
    "    while len(tour) < len(graph):\n",
    "        for weight, vertex1, vertex2 in edges:\n",
    "            if vertex1 not in tour and vertex2 not in vertices_out:\n",
    "                if usf.find(vertex1)!=usf.find(vertex2) or len(tour)==len(graph) - 1:\n",
    "                    tour[vertex1] = vertex2\n",
    "                    vertices_out.add(vertex2)\n",
    "                    tour_cost += weight\n",
    "                    usf.union(vertex1, vertex2)\n",
    "    return tour, tour_cost"
   ]
  },
  {
   "cell_type": "code",
   "execution_count": 14,
   "metadata": {
    "collapsed": false
   },
   "outputs": [],
   "source": [
    "from itertools import permutations\n",
    "\n",
    "def brute_force_tsa(graph):\n",
    "    \"\"\"\n",
    "    brute force for the travelling salesman problem\n",
    "    \n",
    "    Inputs:\n",
    "        - graph: the graph as an adjacency list\n",
    "        - tour: an initial tour\n",
    "        \n",
    "    Outputs:\n",
    "        - tour: the tour as a dictionary\n",
    "        - tour_cost: the cost of the tour\n",
    "    \n",
    "    \"\"\"\n",
    "    graph_adj_matrix = {k : {n : w for w, n in v} for k, v in graph.items()}\n",
    "    start = list(graph_adj_matrix.keys())[0]\n",
    "    others = list(graph_adj_matrix.keys())[1:]\n",
    "    best_path = []\n",
    "    best_cost = 1e100\n",
    "    for path in permutations(others):\n",
    "        v1 = start\n",
    "        cost = 0\n",
    "        for vn in path:\n",
    "            cost += graph_adj_matrix[v1][vn]\n",
    "            v1 = vn\n",
    "        cost += graph_adj_matrix[vn][start]\n",
    "        if cost < best_cost:\n",
    "            best_cost = cost\n",
    "            best_path = [start] + list(path) + [start]\n",
    "    return best_path, best_cost"
   ]
  },
  {
   "cell_type": "code",
   "execution_count": 6,
   "metadata": {
    "collapsed": false
   },
   "outputs": [],
   "source": [
    "# load coordinates and graph for the two benchmark algorithms\n",
    "from load_tsa import coordinates29, coordinates225, graph29, graph225"
   ]
  },
  {
   "cell_type": "markdown",
   "metadata": {},
   "source": [
    "**29 cities**"
   ]
  },
  {
   "cell_type": "code",
   "execution_count": 7,
   "metadata": {
    "collapsed": true
   },
   "outputs": [],
   "source": [
    "coordinates = coordinates29\n",
    "graph = graph29"
   ]
  },
  {
   "cell_type": "code",
   "execution_count": 8,
   "metadata": {
    "collapsed": false
   },
   "outputs": [
    {
     "name": "stdout",
     "output_type": "stream",
     "text": [
      "2258.0\n",
      "CPU times: user 564 µs, sys: 19 µs, total: 583 µs\n",
      "Wall time: 589 µs\n"
     ]
    }
   ],
   "source": [
    "%%time\n",
    "\n",
    "tour_nn, cost_nn = nearest_neighbour_tsa(graph, 0)\n",
    "print(cost_nn)"
   ]
  },
  {
   "cell_type": "code",
   "execution_count": 9,
   "metadata": {
    "collapsed": false
   },
   "outputs": [
    {
     "ename": "NameError",
     "evalue": "name 'USF' is not defined",
     "output_type": "error",
     "traceback": [
      "\u001b[0;31m---------------------------------------------------------------------------\u001b[0m",
      "\u001b[0;31mNameError\u001b[0m                                 Traceback (most recent call last)",
      "\u001b[0;32m<ipython-input-9-636b7162a217>\u001b[0m in \u001b[0;36m<module>\u001b[0;34m()\u001b[0m\n\u001b[0;32m----> 1\u001b[0;31m \u001b[0mget_ipython\u001b[0m\u001b[0;34m(\u001b[0m\u001b[0;34m)\u001b[0m\u001b[0;34m.\u001b[0m\u001b[0mrun_cell_magic\u001b[0m\u001b[0;34m(\u001b[0m\u001b[0;34m'time'\u001b[0m\u001b[0;34m,\u001b[0m \u001b[0;34m''\u001b[0m\u001b[0;34m,\u001b[0m \u001b[0;34m'\\ntour_gr, cost_gr = greedy_tsa(graph)\\nprint(cost_gr)'\u001b[0m\u001b[0;34m)\u001b[0m\u001b[0;34m\u001b[0m\u001b[0m\n\u001b[0m",
      "\u001b[0;32m/Users/michielstock/anaconda/lib/python3.5/site-packages/IPython/core/interactiveshell.py\u001b[0m in \u001b[0;36mrun_cell_magic\u001b[0;34m(self, magic_name, line, cell)\u001b[0m\n\u001b[1;32m   2113\u001b[0m             \u001b[0mmagic_arg_s\u001b[0m \u001b[0;34m=\u001b[0m \u001b[0mself\u001b[0m\u001b[0;34m.\u001b[0m\u001b[0mvar_expand\u001b[0m\u001b[0;34m(\u001b[0m\u001b[0mline\u001b[0m\u001b[0;34m,\u001b[0m \u001b[0mstack_depth\u001b[0m\u001b[0;34m)\u001b[0m\u001b[0;34m\u001b[0m\u001b[0m\n\u001b[1;32m   2114\u001b[0m             \u001b[0;32mwith\u001b[0m \u001b[0mself\u001b[0m\u001b[0;34m.\u001b[0m\u001b[0mbuiltin_trap\u001b[0m\u001b[0;34m:\u001b[0m\u001b[0;34m\u001b[0m\u001b[0m\n\u001b[0;32m-> 2115\u001b[0;31m                 \u001b[0mresult\u001b[0m \u001b[0;34m=\u001b[0m \u001b[0mfn\u001b[0m\u001b[0;34m(\u001b[0m\u001b[0mmagic_arg_s\u001b[0m\u001b[0;34m,\u001b[0m \u001b[0mcell\u001b[0m\u001b[0;34m)\u001b[0m\u001b[0;34m\u001b[0m\u001b[0m\n\u001b[0m\u001b[1;32m   2116\u001b[0m             \u001b[0;32mreturn\u001b[0m \u001b[0mresult\u001b[0m\u001b[0;34m\u001b[0m\u001b[0m\n\u001b[1;32m   2117\u001b[0m \u001b[0;34m\u001b[0m\u001b[0m\n",
      "\u001b[0;32m<decorator-gen-59>\u001b[0m in \u001b[0;36mtime\u001b[0;34m(self, line, cell, local_ns)\u001b[0m\n",
      "\u001b[0;32m/Users/michielstock/anaconda/lib/python3.5/site-packages/IPython/core/magic.py\u001b[0m in \u001b[0;36m<lambda>\u001b[0;34m(f, *a, **k)\u001b[0m\n\u001b[1;32m    186\u001b[0m     \u001b[0;31m# but it's overkill for just that one bit of state.\u001b[0m\u001b[0;34m\u001b[0m\u001b[0;34m\u001b[0m\u001b[0m\n\u001b[1;32m    187\u001b[0m     \u001b[0;32mdef\u001b[0m \u001b[0mmagic_deco\u001b[0m\u001b[0;34m(\u001b[0m\u001b[0marg\u001b[0m\u001b[0;34m)\u001b[0m\u001b[0;34m:\u001b[0m\u001b[0;34m\u001b[0m\u001b[0m\n\u001b[0;32m--> 188\u001b[0;31m         \u001b[0mcall\u001b[0m \u001b[0;34m=\u001b[0m \u001b[0;32mlambda\u001b[0m \u001b[0mf\u001b[0m\u001b[0;34m,\u001b[0m \u001b[0;34m*\u001b[0m\u001b[0ma\u001b[0m\u001b[0;34m,\u001b[0m \u001b[0;34m**\u001b[0m\u001b[0mk\u001b[0m\u001b[0;34m:\u001b[0m \u001b[0mf\u001b[0m\u001b[0;34m(\u001b[0m\u001b[0;34m*\u001b[0m\u001b[0ma\u001b[0m\u001b[0;34m,\u001b[0m \u001b[0;34m**\u001b[0m\u001b[0mk\u001b[0m\u001b[0;34m)\u001b[0m\u001b[0;34m\u001b[0m\u001b[0m\n\u001b[0m\u001b[1;32m    189\u001b[0m \u001b[0;34m\u001b[0m\u001b[0m\n\u001b[1;32m    190\u001b[0m         \u001b[0;32mif\u001b[0m \u001b[0mcallable\u001b[0m\u001b[0;34m(\u001b[0m\u001b[0marg\u001b[0m\u001b[0;34m)\u001b[0m\u001b[0;34m:\u001b[0m\u001b[0;34m\u001b[0m\u001b[0m\n",
      "\u001b[0;32m/Users/michielstock/anaconda/lib/python3.5/site-packages/IPython/core/magics/execution.py\u001b[0m in \u001b[0;36mtime\u001b[0;34m(self, line, cell, local_ns)\u001b[0m\n\u001b[1;32m   1178\u001b[0m         \u001b[0;32melse\u001b[0m\u001b[0;34m:\u001b[0m\u001b[0;34m\u001b[0m\u001b[0m\n\u001b[1;32m   1179\u001b[0m             \u001b[0mst\u001b[0m \u001b[0;34m=\u001b[0m \u001b[0mclock2\u001b[0m\u001b[0;34m(\u001b[0m\u001b[0;34m)\u001b[0m\u001b[0;34m\u001b[0m\u001b[0m\n\u001b[0;32m-> 1180\u001b[0;31m             \u001b[0mexec\u001b[0m\u001b[0;34m(\u001b[0m\u001b[0mcode\u001b[0m\u001b[0;34m,\u001b[0m \u001b[0mglob\u001b[0m\u001b[0;34m,\u001b[0m \u001b[0mlocal_ns\u001b[0m\u001b[0;34m)\u001b[0m\u001b[0;34m\u001b[0m\u001b[0m\n\u001b[0m\u001b[1;32m   1181\u001b[0m             \u001b[0mend\u001b[0m \u001b[0;34m=\u001b[0m \u001b[0mclock2\u001b[0m\u001b[0;34m(\u001b[0m\u001b[0;34m)\u001b[0m\u001b[0;34m\u001b[0m\u001b[0m\n\u001b[1;32m   1182\u001b[0m             \u001b[0mout\u001b[0m \u001b[0;34m=\u001b[0m \u001b[0;32mNone\u001b[0m\u001b[0;34m\u001b[0m\u001b[0m\n",
      "\u001b[0;32m<timed exec>\u001b[0m in \u001b[0;36m<module>\u001b[0;34m()\u001b[0m\n",
      "\u001b[0;32m<ipython-input-2-eb1d63754828>\u001b[0m in \u001b[0;36mgreedy_tsa\u001b[0;34m(graph)\u001b[0m\n\u001b[1;32m     14\u001b[0m     \u001b[0mtour_cost\u001b[0m \u001b[0;34m=\u001b[0m \u001b[0;36m0\u001b[0m\u001b[0;34m\u001b[0m\u001b[0m\n\u001b[1;32m     15\u001b[0m     \u001b[0mvertices_out\u001b[0m \u001b[0;34m=\u001b[0m \u001b[0mset\u001b[0m\u001b[0;34m(\u001b[0m\u001b[0;34m[\u001b[0m\u001b[0;34m]\u001b[0m\u001b[0;34m)\u001b[0m\u001b[0;34m\u001b[0m\u001b[0m\n\u001b[0;32m---> 16\u001b[0;31m     \u001b[0musf\u001b[0m \u001b[0;34m=\u001b[0m \u001b[0mUSF\u001b[0m\u001b[0;34m(\u001b[0m\u001b[0mlist\u001b[0m\u001b[0;34m(\u001b[0m\u001b[0mgraph\u001b[0m\u001b[0;34m.\u001b[0m\u001b[0mkeys\u001b[0m\u001b[0;34m(\u001b[0m\u001b[0;34m)\u001b[0m\u001b[0;34m)\u001b[0m\u001b[0;34m)\u001b[0m\u001b[0;34m\u001b[0m\u001b[0m\n\u001b[0m\u001b[1;32m     17\u001b[0m     \u001b[0;31m# make list of edges\u001b[0m\u001b[0;34m\u001b[0m\u001b[0;34m\u001b[0m\u001b[0m\n\u001b[1;32m     18\u001b[0m     \u001b[0medges\u001b[0m \u001b[0;34m=\u001b[0m \u001b[0;34m[\u001b[0m\u001b[0;34m]\u001b[0m\u001b[0;34m\u001b[0m\u001b[0m\n",
      "\u001b[0;31mNameError\u001b[0m: name 'USF' is not defined"
     ]
    }
   ],
   "source": [
    "%%time\n",
    "\n",
    "tour_gr, cost_gr = greedy_tsa(graph)\n",
    "print(cost_gr)"
   ]
  },
  {
   "cell_type": "code",
   "execution_count": 10,
   "metadata": {
    "collapsed": true
   },
   "outputs": [],
   "source": [
    "import matplotlib.pyplot as plt\n",
    "%matplotlib inline"
   ]
  },
  {
   "cell_type": "code",
   "execution_count": 11,
   "metadata": {
    "collapsed": false
   },
   "outputs": [
    {
     "data": {
      "image/png": "[encoded data removed]",
      "text/plain": [
       "<matplotlib.figure.Figure at 0x10afffa90>"
      ]
     },
     "metadata": {},
     "output_type": "display_data"
    }
   ],
   "source": [
    "fig, ax = plt.subplots()\n",
    "\n",
    "for i, j in tour_nn.items():\n",
    "    xi, yi = coordinates[i,:]\n",
    "    xj, yj = coordinates[j,:]\n",
    "    ax.plot([xi, xj], [yi, yj], c='b')"
   ]
  },
  {
   "cell_type": "markdown",
   "metadata": {
    "collapsed": true
   },
   "source": []
  },
  {
   "cell_type": "code",
   "execution_count": null,
   "metadata": {
    "collapsed": false,
    "scrolled": true
   },
   "outputs": [],
   "source": [
    "%%time\n",
    "\n",
    "tour_bf, cost_bf = brute_force_tsa(graph)\n",
    "print(cost_bf)"
   ]
  },
  {
   "cell_type": "code",
   "execution_count": null,
   "metadata": {
    "collapsed": true
   },
   "outputs": [],
   "source": []
  }
 ],
 "metadata": {
  "anaconda-cloud": {},
  "kernelspec": {
   "display_name": "Python [default]",
   "language": "python",
   "name": "python3"
  },
  "language_info": {
   "codemirror_mode": {
    "name": "ipython",
    "version": 3
   },
   "file_extension": ".py",
   "mimetype": "text/x-python",
   "name": "python",
   "nbconvert_exporter": "python",
   "pygments_lexer": "ipython3",
   "version": "3.5.2"
  },
  "latex_envs": {
   "bibliofile": "biblio.bib",
   "cite_by": "apalike",
   "current_citInitial": 1,
   "eqLabelWithNumbers": true,
   "eqNumInitial": 0
  }
 },
 "nbformat": 4,
 "nbformat_minor": 0
}
