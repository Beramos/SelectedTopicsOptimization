{
 "cells": [
  {
   "cell_type": "markdown",
   "metadata": {},
   "source": [
    "# Chapter 4: Minimum spanning trees"
   ]
  },
  {
   "cell_type": "markdown",
   "metadata": {},
   "source": [
    "In this chapter we will continue to study algorithms that process graphs. We will implement Kruskal's algorithm to construct the **minimum spanning tree** of a graph, a subgraph that efficiently connects all nodes."
   ]
  },
  {
   "cell_type": "markdown",
   "metadata": {},
   "source": [
    "## Trees in python\n",
    "\n",
    "A tree is an undirected graph where any two edges are connected by **exactly one path**. For example, consider the tree below.\n",
    "\n",
    "![A simple tree](Figures/example_tree.png)\n",
    "\n",
    "We can represent in python using dictionaries, as we did in the last chapter."
   ]
  },
  {
   "cell_type": "code",
   "execution_count": null,
   "metadata": {
    "collapsed": true
   },
   "outputs": [],
   "source": [
    "tree_dict = {'A' : set(['D']), 'B' : set(['D']), 'C' : set(['D']),\n",
    "             'D' : set(['A', 'B', 'C', 'E']), 'E' : set(['D', 'F']), 'F' : set(['E'])}"
   ]
  },
  {
   "cell_type": "markdown",
   "metadata": {},
   "source": [
    "Though in this chapter, we prefer to represent the tree as a list (set) of links:"
   ]
  },
  {
   "cell_type": "code",
   "execution_count": null,
   "metadata": {
    "collapsed": false
   },
   "outputs": [],
   "source": [
    "tree_links = [(node, neighbor) for node in tree_dict.keys() for neighbor in tree_dict[node]]\n",
    "tree_links"
   ]
  },
  {
   "cell_type": "markdown",
   "metadata": {},
   "source": [
    "If we choose one node as the **root** of the tree, we have exactly one path from this root to each of the other terminal nodes. This idea can applied recursively as follows: from this root, each neighboring is itself a root of a subtree. Each of these subtrees also consist of a root and possibly one or more subtrees. Hence we can also represent the tree as a nested sublist:\n",
    "\n",
    "```\n",
    "tree = [root, [subtree1], [subtree2],...]\n",
    "```\n",
    "\n",
    "For our example, we obtain when taking node D as a root: (see [here](http://interactivepython.org/courselib/static/pythonds/Trees/ListofListsRepresentation.html))"
   ]
  },
  {
   "cell_type": "code",
   "execution_count": null,
   "metadata": {
    "collapsed": true
   },
   "outputs": [],
   "source": [
    "tree_list = ['D', ['A'], ['B'], ['C'], ['E', ['F']]]"
   ]
  },
  {
   "cell_type": "markdown",
   "metadata": {},
   "source": [
    "## Minimum spanning tree"
   ]
  },
  {
   "cell_type": "markdown",
   "metadata": {},
   "source": [
    "Suppose we have an undirected connected weighted graph $G$ as depicted below.\n",
    "\n",
    "![A weighted graph](Figures/graph.png)"
   ]
  },
  {
   "cell_type": "markdown",
   "metadata": {},
   "source": [
    "Weighted graphs can either be implemented as a set of weighted edges of as a dictionary."
   ]
  },
  {
   "cell_type": "code",
   "execution_count": null,
   "metadata": {
    "collapsed": true
   },
   "outputs": [],
   "source": [
    "vertices = ['A', 'B', 'C', 'D', 'E', 'F', 'G']\n",
    "\n",
    "edges = set([(5, 'A', 'D'), (7, 'A', 'B'), (8, 'B', 'C'), (9, 'B', 'D'),\n",
    "         (7, 'B', 'E'), (5, 'C', 'E'), (15, 'D', 'E'), (6, 'F', 'D'), \n",
    "        (8, 'F', 'E'), (9, 'E', 'G'), (11, 'F', 'G')])"
   ]
  },
  {
   "cell_type": "code",
   "execution_count": null,
   "metadata": {
    "collapsed": false
   },
   "outputs": [],
   "source": [
    "weighted_adj_list = {v : set([]) for v in vertices}\n",
    "\n",
    "for weight, vertex1, vertex2 in edges:\n",
    "    weighted_adj_list[vertex1].add((weight, vertex2))\n",
    "    weighted_adj_list[vertex2].add((weight, vertex1))  # undirected graph, in=outgoing edge\n",
    "\n",
    "weighted_adj_list"
   ]
  },
  {
   "cell_type": "markdown",
   "metadata": {},
   "source": [
    "For example, the nodes may represent cities and the weight of an edge may represent the cost of implementing a communication line between two cities. If we want to make communication possible between all cities, these should be a path between any two cities. A **spanning tree** is a subgraph of $G$ that is a tree which contains all nodes of $G$. The cost of the spanning tree is simply the sum of a the weights of the edges in this tree. Often, multiple spanning trees can be chosen from a connected graph. The **minimum spanning tree** is simply the spanning tree with the lowest cost.\n",
    "\n",
    "The figure below shows the minimum spanning tree for $G$ in green.\n",
    "\n",
    "![A weighted graph](Figures/min_spanning_tree.png)"
   ]
  },
  {
   "cell_type": "markdown",
   "metadata": {},
   "source": [
    "Minimum spanning trees have many applications:\n",
    "- design of computer-, telecommunication-, transportation- and other networks\n",
    "- hierachical clustering\n",
    "- image segmentation and feature extraction\n",
    "- phylogenetic analysis\n",
    "- construction of mazes"
   ]
  },
  {
   "cell_type": "markdown",
   "metadata": {},
   "source": [
    "## Disjoint-set data structure"
   ]
  },
  {
   "cell_type": "markdown",
   "metadata": {},
   "source": [
    "Implementing an algorithm for finding the minimum spanning tree is fairly straightforward. The only bottleneck is that the algorithm requires the a **disjoint-set data structure** to keep track of a set partitioned in a number of disjoined subsets.\n",
    "\n",
    "For example, consider the following inital set of eight elements.\n",
    "\n",
    "![A set of eight elements](Figures/disjointset1.png)\n",
    "\n",
    "We decide to group elements A, B and C together in a subset and F and G in another subset.\n",
    "\n",
    "![The same set, but after grouping some elements together.](Figures/disjointset2.png)\n",
    "\n",
    "The disjoint-set data structure support the following operations:\n",
    "- **Find** check which subset an element is in. Is typically used to check whether two objects are in the same subset.\n",
    "- **Union** to merge two subsets into a single subset.\n",
    "\n",
    "A python implementation of a disjoint-set is available using an union-set forest. A simple example will make everything clear!"
   ]
  },
  {
   "cell_type": "code",
   "execution_count": null,
   "metadata": {
    "collapsed": true
   },
   "outputs": [],
   "source": [
    "from union_set_forest import USF\n",
    "\n",
    "animals = ['mouse', 'bat', 'robin', 'trout', 'seagull', 'hummingbird',\n",
    "           'salmon', 'goldfish', 'hippopotamus', 'whale', 'sparrow']\n",
    "union_set_forest = USF(animals)\n",
    "\n",
    "# group mammals together\n",
    "union_set_forest.union('mouse', 'bat')\n",
    "union_set_forest.union('mouse', 'hippopotamus')\n",
    "union_set_forest.union('whale', 'bat')\n",
    "\n",
    "# group birds together\n",
    "union_set_forest.union('robin', 'seagull')\n",
    "union_set_forest.union('seagull', 'sparrow')\n",
    "union_set_forest.union('seagull', 'hummingbird')\n",
    "union_set_forest.union('robin', 'hummingbird')\n",
    "\n",
    "# group fishes together\n",
    "union_set_forest.union('goldfish', 'salmon')\n",
    "union_set_forest.union('trout', 'salmon')"
   ]
  },
  {
   "cell_type": "code",
   "execution_count": null,
   "metadata": {
    "collapsed": false
   },
   "outputs": [],
   "source": [
    "# mouse and whale in same subset?\n",
    "print(union_set_forest.find('mouse') == union_set_forest.find('whale'))"
   ]
  },
  {
   "cell_type": "code",
   "execution_count": null,
   "metadata": {
    "collapsed": false
   },
   "outputs": [],
   "source": [
    "# robin and salmon in the same subset?\n",
    "print(union_set_forest.find('robin') == union_set_forest.find('salmon'))"
   ]
  },
  {
   "cell_type": "markdown",
   "metadata": {},
   "source": [
    "## Kruskal's algorithm"
   ]
  },
  {
   "cell_type": "markdown",
   "metadata": {},
   "source": [
    "Kruskal's algorithm is a very simple algorithm to find the minimum spanning tree. The main idea is to start with an intial 'forest' of the induvidual nodes of the graph. In each step of the algorithm we add an edge with the smallest possible value that connects two disjoints trees in the forest. This process is continued until we have a single tree, which is a minimum spanning tree, or until all edges are considered. In the former case the algoritm returns the minimum spanning forest. "
   ]
  },
  {
   "cell_type": "markdown",
   "metadata": {},
   "source": [
    "### Example run of Kruskal's algorithm\n",
    "\n",
    "Consider the weighted graph again.\n",
    "\n",
    "![A weighted graph](Figures/graph.png)"
   ]
  },
  {
   "cell_type": "markdown",
   "metadata": {},
   "source": [
    "In a first step, the algorithm selects the edge with the lowest weight, here connecting nodes A and D. This edge has a weight of 5.\n",
    "\n",
    "![The first edge with lowest weight is selected.](Figures/K1.png)\n",
    "\n"
   ]
  },
  {
   "cell_type": "markdown",
   "metadata": {},
   "source": [
    "The next edge that is selected connects nodes C and E. This edge also has a weight of 5.\n",
    "\n",
    "![The second edge is selected.](Figures/K2.png)"
   ]
  },
  {
   "cell_type": "markdown",
   "metadata": {},
   "source": [
    "The edge between D and F is subsequently selected.\n",
    "\n",
    "![A third edge is added to the forest.](Figures/K3.png)\n",
    "\n"
   ]
  },
  {
   "cell_type": "markdown",
   "metadata": {},
   "source": [
    "In the current forest, the edge between B and D becomes inaccessible. Taking this edge would result in a cycle in our graph (B and D are already connected through A in our forest), so it is forbidden.\n",
    "\n",
    "![Now edge BD becomes forbidden, because adding it to our forest would result in a cycle.](Figures/K4.png)\n"
   ]
  },
  {
   "cell_type": "markdown",
   "metadata": {},
   "source": [
    "The next allowd edge with the lowest weight is between nodes B and E. Taking this edges connects two independent components in our forest and makes other edges forbidden.\n",
    "\n",
    "![We add edge BD, connecting two components in our forest.](Figures/K5.png)\n"
   ]
  },
  {
   "cell_type": "markdown",
   "metadata": {},
   "source": [
    "Finally, edge EG connects the last node G to our tree with the lowest cost.\n",
    "\n",
    "![Adding edge EG results in the minimum spanning tree.](Figures/K6.png)"
   ]
  },
  {
   "cell_type": "markdown",
   "metadata": {},
   "source": [
    "### Pseudocode of Kruskal's algorithm\n",
    "\n",
    "```\n",
    "function Kruskal(G):\n",
    "1 A := empty list\n",
    "2 for each node v in G\n",
    "3    MAKE-SET(v)\n",
    "4 for each edge (u, v) ordered by weight(u, v), increasing:\n",
    "5    if FIND-SET(u) ≠ FIND-SET(v):\n",
    "6       add (u, v) to A\n",
    "7       UNION(u, v)\n",
    "8 return A\n",
    "```"
   ]
  },
  {
   "cell_type": "markdown",
   "metadata": {},
   "source": [
    "### Time complexity of Kruskal's algorithm\n",
    "\n",
    "We assume that by using a disjoint set data structure, ```FIND``` and ```UNION``` can be performed using a time complexity of $\\mathcal{O}(1)$. Then the only cost is in sorting the edges by their weight, which can be done with a time complexity of $\\mathcal{O}(|E| \\log(|E|))$, which is the time complexity of generating the minimum spanning tree using this algorithm."
   ]
  },
  {
   "cell_type": "markdown",
   "metadata": {},
   "source": [
    "**Assignment 1: completing Kruskal's algorithm**\n",
    "\n",
    "1. Complete the code for Kruskals algorithm below. Test the code on the example network given above.\n",
    "2. Ticket to Ride is a fun boardgame in which you have to connect trains to several important cities in the United States. Load the vertices (cities) and edges (roads) from the file `ticket_to_ride.py`. Compute a minimum spanning tree.\n",
    "\n",
    "![The map of Ticket to Ride.](Figures/TtRmap.jpg)"
   ]
  },
  {
   "cell_type": "code",
   "execution_count": null,
   "metadata": {
    "collapsed": true
   },
   "outputs": [],
   "source": [
    "def kruskal(vertices, edges):\n",
    "    \"\"\"\n",
    "    Kruskal's algorithm for finding a minimum spanning tree\n",
    "    Input :\n",
    "        - vertices : a set of the vertices of the graph\n",
    "        - edges : a list of weighted edges (e.g. (0.7, 'A', 'B')) for an\n",
    "                    edge from node A to node B with weigth 0.7\n",
    "    Output:\n",
    "        a minumum spanning tree represented as a list of edges\n",
    "    \"\"\"\n",
    "    A = []\n",
    "    union_set_forest = USF(vertices)\n",
    "    edges.sort()\n",
    "    for edge in edges:\n",
    "        if (union_set_forest.find(edge[1]) != union_set_forest.find(edge[2])):\n",
    "            A.append(edge)\n",
    "            union_set_forest.union(edge[1],edge[2])\n",
    "    som = sum([vertex[0] for vertex in A])\n",
    "    return A,som"
   ]
  },
  {
   "cell_type": "code",
   "execution_count": null,
   "metadata": {
    "collapsed": false
   },
   "outputs": [],
   "source": [
    "vertices = ['A', 'B', 'C', 'D', 'E', 'F', 'G']\n",
    "edges = [(5, 'A', 'D'), (7, 'A', 'B'), (8, 'B', 'C'), (9, 'B', 'D'),\n",
    "         (7, 'B', 'E'), (5, 'C', 'E'), (15, 'D', 'E'), (6, 'F', 'D'), \n",
    "        (8, 'F', 'E'), (9, 'E', 'G'), (11, 'F', 'G')]\n",
    "\n",
    "print(kruskal(vertices, edges))"
   ]
  },
  {
   "cell_type": "code",
   "execution_count": null,
   "metadata": {
    "collapsed": true
   },
   "outputs": [],
   "source": [
    "from ticket_to_ride import vertices as cities\n",
    "from ticket_to_ride import edges as roads"
   ]
  },
  {
   "cell_type": "code",
   "execution_count": null,
   "metadata": {
    "collapsed": false,
    "scrolled": true
   },
   "outputs": [],
   "source": [
    "for city in cities:\n",
    "    print(city)"
   ]
  },
  {
   "cell_type": "code",
   "execution_count": null,
   "metadata": {
    "collapsed": false
   },
   "outputs": [],
   "source": [
    "# compute here the MST for Ticket to Ride\n",
    "print(kruskal(cities,roads))"
   ]
  },
  {
   "cell_type": "markdown",
   "metadata": {},
   "source": [
    "## The travelling salesman problem\n",
    "\n",
    "The traveling salesman problem is a well-known problem in computer science. The goal is to find a tour in a graph with a minimal cost. This problem is NP-hard, there is no algorithm to solve this efficiently for large graphs."
   ]
  },
  {
   "cell_type": "markdown",
   "metadata": {},
   "source": [
    "The tour is represented as a dictionary, for each key-value pair a vertex and the associated next vertex in the tour."
   ]
  },
  {
   "cell_type": "markdown",
   "metadata": {},
   "source": [
    "Below are two heuristic algorithms to find a good tour."
   ]
  },
  {
   "cell_type": "markdown",
   "metadata": {},
   "source": [
    "### Nearest Neighbour\n",
    "\n",
    "The simplest algorithm, can be done in with a time complexity of $\\mathcal{O}(|V|^2)$.\n",
    "\n",
    "1. Select a random vertex.\n",
    "2. Find the nearest univisited vertex and add it to the path.\n",
    "3. Are there any unvisited vertices left? If yes, repeat step 2.\n",
    "4. Return to the first vertex."
   ]
  },
  {
   "cell_type": "markdown",
   "metadata": {},
   "source": [
    "### Greedy\n",
    "\n",
    "A greedy algorithm that gives a solution in $\\mathcal{O}(|V|^2\\log(|V|))$ time.\n",
    "\n",
    "1. Sort all edges\n",
    "2. Select the shortest edge and add it to the tour if it does not:\n",
    "    - creates a tour with less than $|V|$ vertices \n",
    "    - increases the degree of any of the vertices in the tour to more than two.\n",
    "3. Repeat step 2 until the tour has $|V|$ vertices."
   ]
  },
  {
   "cell_type": "markdown",
   "metadata": {},
   "source": [
    "**Assignment 2**\n",
    "\n",
    "1. Complete the functions `nearest_neighbour_tsa` and `greedy_tsa`. \n",
    "2. We have two benchmarks problems, one with 29 and one with 225 cities. For each problem the graph and coordinates of the cities are given. Give the **found optimal cost** and **running time** for the two algorithms.\n",
    "3. Make a plot of the best tour for each of the two benchmarks.\n",
    "4. Discuss how you can see on such a plot if the tour is optimal."
   ]
  },
  {
   "cell_type": "code",
   "execution_count": null,
   "metadata": {
    "collapsed": false
   },
   "outputs": [],
   "source": [
    "def nearest_neighbour_tsa(graph, start):\n",
    "    \"\"\"\n",
    "    Nearest Neighbour heuristic for the travelling salesman problem\n",
    "    \n",
    "    Inputs:\n",
    "        - graph: the graph as an adjacency list\n",
    "        - start: the vertex to start\n",
    "        \n",
    "    Outputs:\n",
    "        - tour: the tour as a dictionary (city => next city)\n",
    "        - tour_cost: the cost of the tour\n",
    "    \n",
    "    \"\"\"\n",
    "    result = dict()\n",
    "    tour = dict()\n",
    "    cost = 0\n",
    "    for destination in list(graph[start]):\n",
    "            if destination[1] not in tour or tour[start] != destination[1]:\n",
    "                tour[start] = destination[1]\n",
    "                cost += destination[0]\n",
    "                start = destination[1]\n",
    "    return tour, cost"
   ]
  },
  {
   "cell_type": "code",
   "execution_count": null,
   "metadata": {
    "collapsed": false
   },
   "outputs": [],
   "source": [
    "def degree(graph,node):\n",
    "    count = 0\n",
    "    count += list(graph.keys()).count(node)\n",
    "    count += list(graph.values()).count(node)\n",
    "    return count\n",
    "\n",
    "def get_connected_nodes(graph,node):\n",
    "    nodes = set()\n",
    "    if node in graph.keys():\n",
    "        child = graph[node] \n",
    "        nodes.add(child)\n",
    "        nodes = nodes | get_connected_nodes(graph, child)\n",
    "    return nodes\n",
    "def get_cost(graph,vertex):\n",
    "    searchlist = graph[vertex[0]]\n",
    "    for destination in searchlist:\n",
    "        if vertex[1] == destination[1]:\n",
    "            return destination[0]\n",
    "def greedy_tsa(graph):\n",
    "    \"\"\"\n",
    "    Greedy heuristic for the travelling salesman problem\n",
    "    \n",
    "    Inputs:\n",
    "        - graph: the graph as an adjacency list\n",
    "        \n",
    "    Outputs:\n",
    "        - tour: the tour as a dictionary\n",
    "        - tour_cost: the cost of the tour\n",
    "    \n",
    "    \"\"\"\n",
    "    result_graph = dict()\n",
    "    graph_edges = dict()\n",
    "    for node in list(graph.keys()):\n",
    "        for weight,target in graph[node]:\n",
    "            if weight in graph_edges.keys():\n",
    "                graph_edges[weight].add((node,target))\n",
    "                \n",
    "            else:\n",
    "                graph_edges[weight] = set()\n",
    "                graph_edges[weight].add((node,target))\n",
    "    found = 0\n",
    "    weights_sorted = sorted(list(graph_edges.keys()))\n",
    "    length = len(graph.values())\n",
    "    cost = 0\n",
    "    while (length != len(result_graph.keys())+1):\n",
    "        for shortest_length in weights_sorted:\n",
    "            for candidate in graph_edges[shortest_length]:\n",
    "                if (degree(result_graph, candidate[1]) < 2 \\\n",
    "                    and degree(result_graph, candidate[0]) < 2 \\\n",
    "                        and ( candidate[0] not in get_connected_nodes(result_graph, candidate[1]))\\\n",
    "                            or length == len(result_graph.keys())+1 ):\n",
    "                            result_graph[candidate[0]] = candidate[1]      \n",
    "                            cost += get_cost(graph,candidate)\n",
    "                            graph_edges[shortest_length].remove(candidate)\n",
    "                            found = 1\n",
    "                            break\n",
    "            if len(graph_edges[shortest_length]) == 0:\n",
    "                del graph_edges[shortest_length]\n",
    "                weights_sorted.remove(shortest_length)\n",
    "            if found:\n",
    "                found = 0\n",
    "                break\n",
    "    return result_graph, cost\n",
    "    # complete this\n",
    "    #return tour, cost"
   ]
  },
  {
   "cell_type": "code",
   "execution_count": null,
   "metadata": {
    "collapsed": false
   },
   "outputs": [],
   "source": [
    "# load coordinates and graph for the two benchmark algorithms\n",
    "from load_tsa import coordinates29, coordinates225, graph29, graph225"
   ]
  },
  {
   "cell_type": "code",
   "execution_count": null,
   "metadata": {
    "collapsed": false
   },
   "outputs": [],
   "source": [
    "# complete the assignments"
   ]
  },
  {
   "cell_type": "code",
   "execution_count": null,
   "metadata": {
    "collapsed": false,
    "scrolled": true
   },
   "outputs": [],
   "source": [
    "import time\n",
    "start_time = time.time()\n",
    "tour29greedy,tour29greedycost = greedy_tsa(graph29)\n",
    "print(tour29greedycost)\n",
    "print(time.time()-start_time)\n",
    "start_time = time.time()\n",
    "tour29nn,tour29nncost =  nearest_neighbour_tsa(graph29,0)\n",
    "print(tour29nncost)\n",
    "print(time.time()-start_time)\n",
    "#start_time = time.time()\n",
    "#tour225greedy,tour225greedycost = greedy_tsa(graph225)\n",
    "#print(tour225greedycost)\n",
    "#print(time.time()-start_time)\n",
    "#start_time = time.time()\n",
    "#tour225nn,tour225nncost = nearest_neighbour_tsa(graph225,0)\n",
    "#print(tour225nncost)\n",
    "#print(time.time()-start_time)"
   ]
  },
  {
   "cell_type": "code",
   "execution_count": null,
   "metadata": {
    "collapsed": false,
    "scrolled": true
   },
   "outputs": [],
   "source": [
    "import numpy as np\n",
    "import matplotlib.pyplot as plt\n",
    "coordinates = []\n",
    "plt.scatter(*zip(*coordinates29))\n",
    "for node in tour29greedy.keys():\n",
    "    destination = tour29greedy[node]\n",
    "    coordinates.append(([coordinates29[node][0],coordinates29[destination][0]],[coordinates29[node][1],coordinates29[destination][1]]))\n",
    "for points in coordinates:\n",
    "    plt.plot(points[0],points[1])\n",
    "plt.show()\n",
    "\n",
    "coordinates = []\n",
    "plt.scatter(*zip(*coordinates29))\n",
    "for node in tour29nn.keys():\n",
    "    destination = tour29nn[node]\n",
    "    coordinates.append(([coordinates29[node][0],coordinates29[destination][0]],[coordinates29[node][1],coordinates29[destination][1]]))\n",
    "for points in coordinates:\n",
    "    plt.plot(points[0],points[1])\n",
    "plt.show()\n"
   ]
  },
  {
   "cell_type": "markdown",
   "metadata": {
    "collapsed": true
   },
   "source": [
    "You can see that the graph created by the nearest neighbour neightbour approach contains a lot of non-overlapping and short edges, while this is not the case for the graph created by the greedy method."
   ]
  }
 ],
 "metadata": {
  "anaconda-cloud": {},
  "kernelspec": {
   "display_name": "Python [default]",
   "language": "python",
   "name": "python3"
  },
  "language_info": {
   "codemirror_mode": {
    "name": "ipython",
    "version": 3
   },
   "file_extension": ".py",
   "mimetype": "text/x-python",
   "name": "python",
   "nbconvert_exporter": "python",
   "pygments_lexer": "ipython3",
   "version": "3.5.2"
  },
  "latex_envs": {
   "bibliofile": "biblio.bib",
   "cite_by": "apalike",
   "current_citInitial": 1,
   "eqLabelWithNumbers": true,
   "eqNumInitial": 0
  }
 },
 "nbformat": 4,
 "nbformat_minor": 0
}
