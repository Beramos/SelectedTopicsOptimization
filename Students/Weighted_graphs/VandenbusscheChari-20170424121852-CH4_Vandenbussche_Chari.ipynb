{
 "cells": [
  {
   "cell_type": "markdown",
   "metadata": {
    "deletable": true,
    "editable": true
   },
   "source": [
    "# Chapter 4: Minimum spanning trees"
   ]
  },
  {
   "cell_type": "markdown",
   "metadata": {
    "deletable": true,
    "editable": true
   },
   "source": [
    "In this chapter we will continue to study algorithms that process graphs. We will implement Kruskal's algorithm to construct the **minimum spanning tree** of a graph, a subgraph that efficiently connects all nodes."
   ]
  },
  {
   "cell_type": "markdown",
   "metadata": {
    "deletable": true,
    "editable": true
   },
   "source": [
    "## Trees in python\n",
    "\n",
    "A tree is an undirected graph where any two edges are connected by **exactly one path**. For example, consider the tree below.\n",
    "\n",
    "![A simple tree](Figures/example_tree.png)\n",
    "\n",
    "We can represent in python using dictionaries, as we did in the last chapter."
   ]
  },
  {
   "cell_type": "code",
   "execution_count": 2,
   "metadata": {
    "collapsed": true,
    "deletable": true,
    "editable": true
   },
   "outputs": [],
   "source": [
    "tree_dict = {'A' : set(['D']), 'B' : set(['D']), 'C' : set(['D']),\n",
    "             'D' : set(['A', 'B', 'C', 'E']), 'E' : set(['D', 'F']), 'F' : set(['E'])}"
   ]
  },
  {
   "cell_type": "markdown",
   "metadata": {
    "deletable": true,
    "editable": true
   },
   "source": [
    "Though in this chapter, we prefer to represent the tree as a list (set) of links:"
   ]
  },
  {
   "cell_type": "code",
   "execution_count": 3,
   "metadata": {
    "collapsed": false,
    "deletable": true,
    "editable": true
   },
   "outputs": [
    {
     "data": {
      "text/plain": [
       "[('E', 'F'),\n",
       " ('E', 'D'),\n",
       " ('C', 'D'),\n",
       " ('A', 'D'),\n",
       " ('F', 'E'),\n",
       " ('D', 'E'),\n",
       " ('D', 'A'),\n",
       " ('D', 'C'),\n",
       " ('D', 'B'),\n",
       " ('B', 'D')]"
      ]
     },
     "execution_count": 3,
     "metadata": {},
     "output_type": "execute_result"
    }
   ],
   "source": [
    "tree_links = [(node, neighbor) for node in tree_dict.keys() for neighbor in tree_dict[node]]\n",
    "tree_links"
   ]
  },
  {
   "cell_type": "markdown",
   "metadata": {
    "deletable": true,
    "editable": true
   },
   "source": [
    "If we choose one node as the **root** of the tree, we have exactly one path from this root to each of the other terminal nodes. This idea can applied recursively as follows: from this root, each neighboring is itself a root of a subtree. Each of these subtrees also consist of a root and possibly one or more subtrees. Hence we can also represent the tree as a nested sublist:\n",
    "\n",
    "```\n",
    "tree = [root, [subtree1], [subtree2],...]\n",
    "```\n",
    "\n",
    "For our example, we obtain when taking node D as a root: (see [here](http://interactivepython.org/courselib/static/pythonds/Trees/ListofListsRepresentation.html))"
   ]
  },
  {
   "cell_type": "code",
   "execution_count": 4,
   "metadata": {
    "collapsed": true,
    "deletable": true,
    "editable": true
   },
   "outputs": [],
   "source": [
    "tree_list = ['D', ['A'], ['B'], ['C'], ['E', ['F']]]"
   ]
  },
  {
   "cell_type": "markdown",
   "metadata": {
    "deletable": true,
    "editable": true
   },
   "source": [
    "## Minimum spanning tree"
   ]
  },
  {
   "cell_type": "markdown",
   "metadata": {
    "deletable": true,
    "editable": true
   },
   "source": [
    "Suppose we have an undirected connected weighted graph $G$ as depicted below.\n",
    "\n",
    "![A weighted graph](Figures/graph.png)"
   ]
  },
  {
   "cell_type": "markdown",
   "metadata": {
    "deletable": true,
    "editable": true
   },
   "source": [
    "Weighted graphs can either be implemented as a set of weighted edges of as a dictionary."
   ]
  },
  {
   "cell_type": "code",
   "execution_count": 5,
   "metadata": {
    "collapsed": true,
    "deletable": true,
    "editable": true
   },
   "outputs": [],
   "source": [
    "vertices = ['A', 'B', 'C', 'D', 'E', 'F', 'G']\n",
    "\n",
    "edges = set([(5, 'A', 'D'), (7, 'A', 'B'), (8, 'B', 'C'), (9, 'B', 'D'),\n",
    "         (7, 'B', 'E'), (5, 'C', 'E'), (15, 'D', 'E'), (6, 'F', 'D'), \n",
    "        (8, 'F', 'E'), (9, 'E', 'G'), (11, 'F', 'G')])"
   ]
  },
  {
   "cell_type": "code",
   "execution_count": 6,
   "metadata": {
    "collapsed": false,
    "deletable": true,
    "editable": true
   },
   "outputs": [
    {
     "data": {
      "text/plain": [
       "{'A': {(5, 'D'), (7, 'B')},\n",
       " 'B': {(7, 'A'), (7, 'E'), (8, 'C'), (9, 'D')},\n",
       " 'C': {(5, 'E'), (8, 'B')},\n",
       " 'D': {(5, 'A'), (6, 'F'), (9, 'B'), (15, 'E')},\n",
       " 'E': {(5, 'C'), (7, 'B'), (8, 'F'), (9, 'G'), (15, 'D')},\n",
       " 'F': {(6, 'D'), (8, 'E'), (11, 'G')},\n",
       " 'G': {(9, 'E'), (11, 'F')}}"
      ]
     },
     "execution_count": 6,
     "metadata": {},
     "output_type": "execute_result"
    }
   ],
   "source": [
    "weighted_adj_list = {v : set([]) for v in vertices}\n",
    "\n",
    "for weight, vertex1, vertex2 in edges:\n",
    "    weighted_adj_list[vertex1].add((weight, vertex2))\n",
    "    weighted_adj_list[vertex2].add((weight, vertex1))  # undirected graph, in=outgoing edge\n",
    "\n",
    "weighted_adj_list"
   ]
  },
  {
   "cell_type": "markdown",
   "metadata": {
    "deletable": true,
    "editable": true
   },
   "source": [
    "For example, the nodes may represent cities and the weight of an edge may represent the cost of implementing a communication line between two cities. If we want to make communication possible between all cities, these should be a path between any two cities. A **spanning tree** is a subgraph of $G$ that is a tree which contains all nodes of $G$. The cost of the spanning tree is simply the sum of a the weights of the edges in this tree. Often, multiple spanning trees can be chosen from a connected graph. The **minimum spanning tree** is simply the spanning tree with the lowest cost.\n",
    "\n",
    "The figure below shows the minimum spanning tree for $G$ in green.\n",
    "\n",
    "![A weighted graph](Figures/min_spanning_tree.png)"
   ]
  },
  {
   "cell_type": "markdown",
   "metadata": {
    "deletable": true,
    "editable": true
   },
   "source": [
    "Minimum spanning trees have many applications:\n",
    "- design of computer-, telecommunication-, transportation- and other networks\n",
    "- hierachical clustering\n",
    "- image segmentation and feature extraction\n",
    "- phylogenetic analysis\n",
    "- construction of mazes"
   ]
  },
  {
   "cell_type": "markdown",
   "metadata": {
    "deletable": true,
    "editable": true
   },
   "source": [
    "## Disjoint-set data structure"
   ]
  },
  {
   "cell_type": "markdown",
   "metadata": {
    "deletable": true,
    "editable": true
   },
   "source": [
    "Implementing an algorithm for finding the minimum spanning tree is fairly straightforward. The only bottleneck is that the algorithm requires the a **disjoint-set data structure** to keep track of a set partitioned in a number of disjoined subsets.\n",
    "\n",
    "For example, consider the following inital set of eight elements.\n",
    "\n",
    "![A set of eight elements](Figures/disjointset1.png)\n",
    "\n",
    "We decide to group elements A, B and C together in a subset and F and G in another subset.\n",
    "\n",
    "![The same set, but after grouping some elements together.](Figures/disjointset2.png)\n",
    "\n",
    "The disjoint-set data structure support the following operations:\n",
    "- **Find** check which subset an element is in. Is typically used to check whether two objects are in the same subset.\n",
    "- **Union** to merge two subsets into a single subset.\n",
    "\n",
    "A python implementation of a disjoint-set is available using an union-set forest. A simple example will make everything clear!"
   ]
  },
  {
   "cell_type": "code",
   "execution_count": 7,
   "metadata": {
    "collapsed": true,
    "deletable": true,
    "editable": true
   },
   "outputs": [],
   "source": [
    "from union_set_forest import USF\n",
    "\n",
    "animals = ['mouse', 'bat', 'robin', 'trout', 'seagull', 'hummingbird',\n",
    "           'salmon', 'goldfish', 'hippopotamus', 'whale', 'sparrow']\n",
    "union_set_forest = USF(animals)\n",
    "\n",
    "# group mammals together\n",
    "union_set_forest.union('mouse', 'bat')\n",
    "union_set_forest.union('mouse', 'hippopotamus')\n",
    "union_set_forest.union('whale', 'bat')\n",
    "\n",
    "# group birds together\n",
    "union_set_forest.union('robin', 'seagull')\n",
    "union_set_forest.union('seagull', 'sparrow')\n",
    "union_set_forest.union('seagull', 'hummingbird')\n",
    "union_set_forest.union('robin', 'hummingbird')\n",
    "\n",
    "# group fishes together\n",
    "union_set_forest.union('goldfish', 'salmon')\n",
    "union_set_forest.union('trout', 'salmon')"
   ]
  },
  {
   "cell_type": "code",
   "execution_count": 8,
   "metadata": {
    "collapsed": false,
    "deletable": true,
    "editable": true
   },
   "outputs": [
    {
     "name": "stdout",
     "output_type": "stream",
     "text": [
      "True\n"
     ]
    }
   ],
   "source": [
    "# mouse and whale in same subset?\n",
    "print(union_set_forest.find('mouse') == union_set_forest.find('whale'))"
   ]
  },
  {
   "cell_type": "code",
   "execution_count": 9,
   "metadata": {
    "collapsed": false,
    "deletable": true,
    "editable": true
   },
   "outputs": [
    {
     "name": "stdout",
     "output_type": "stream",
     "text": [
      "False\n"
     ]
    }
   ],
   "source": [
    "# robin and salmon in the same subset?\n",
    "print(union_set_forest.find('robin') == union_set_forest.find('salmon'))"
   ]
  },
  {
   "cell_type": "markdown",
   "metadata": {
    "deletable": true,
    "editable": true
   },
   "source": [
    "## Kruskal's algorithm"
   ]
  },
  {
   "cell_type": "markdown",
   "metadata": {
    "deletable": true,
    "editable": true
   },
   "source": [
    "Kruskal's algorithm is a very simple algorithm to find the minimum spanning tree. The main idea is to start with an intial 'forest' of the induvidual nodes of the graph. In each step of the algorithm we add an edge with the smallest possible value that connects two disjoints trees in the forest. This process is continued until we have a single tree, which is a minimum spanning tree, or until all edges are considered. In the former case the algoritm returns the minimum spanning forest. "
   ]
  },
  {
   "cell_type": "markdown",
   "metadata": {
    "deletable": true,
    "editable": true
   },
   "source": [
    "### Example run of Kruskal's algorithm\n",
    "\n",
    "Consider the weighted graph again.\n",
    "\n",
    "![A weighted graph](Figures/graph.png)"
   ]
  },
  {
   "cell_type": "markdown",
   "metadata": {
    "deletable": true,
    "editable": true
   },
   "source": [
    "In a first step, the algorithm selects the edge with the lowest weight, here connecting nodes A and D. This edge has a weight of 5.\n",
    "\n",
    "![The first edge with lowest weight is selected.](Figures/K1.png)\n",
    "\n"
   ]
  },
  {
   "cell_type": "markdown",
   "metadata": {
    "deletable": true,
    "editable": true
   },
   "source": [
    "The next edge that is selected connects nodes C and E. This edge also has a weight of 5.\n",
    "\n",
    "![The second edge is selected.](Figures/K2.png)"
   ]
  },
  {
   "cell_type": "markdown",
   "metadata": {
    "deletable": true,
    "editable": true
   },
   "source": [
    "The edge between D and F is subsequently selected.\n",
    "\n",
    "![A third edge is added to the forest.](Figures/K3.png)\n",
    "\n"
   ]
  },
  {
   "cell_type": "markdown",
   "metadata": {
    "deletable": true,
    "editable": true
   },
   "source": [
    "In the current forest, the edge between B and D becomes inaccessible. Taking this edge would result in a cycle in our graph (B and D are already connected through A in our forest), so it is forbidden.\n",
    "\n",
    "![Now edge BD becomes forbidden, because adding it to our forest would result in a cycle.](Figures/K4.png)\n"
   ]
  },
  {
   "cell_type": "markdown",
   "metadata": {
    "deletable": true,
    "editable": true
   },
   "source": [
    "The next allowd edge with the lowest weight is between nodes B and E. Taking this edges connects two independent components in our forest and makes other edges forbidden.\n",
    "\n",
    "![We add edge BD, connecting two components in our forest.](Figures/K5.png)\n"
   ]
  },
  {
   "cell_type": "markdown",
   "metadata": {
    "deletable": true,
    "editable": true
   },
   "source": [
    "Finally, edge EG connects the last node G to our tree with the lowest cost.\n",
    "\n",
    "![Adding edge EG results in the minimum spanning tree.](Figures/K6.png)"
   ]
  },
  {
   "cell_type": "markdown",
   "metadata": {
    "deletable": true,
    "editable": true
   },
   "source": [
    "### Pseudocode of Kruskal's algorithm\n",
    "\n",
    "```\n",
    "function Kruskal(G):\n",
    "1 A := empty list\n",
    "2 for each node v in G\n",
    "3    MAKE-SET(v)\n",
    "4 for each edge (u, v) ordered by weight(u, v), increasing:\n",
    "5    if FIND-SET(u) ≠ FIND-SET(v):\n",
    "6       add (u, v) to A\n",
    "7       UNION(u, v)\n",
    "8 return A\n",
    "```"
   ]
  },
  {
   "cell_type": "markdown",
   "metadata": {
    "deletable": true,
    "editable": true
   },
   "source": [
    "### Time complexity of Kruskal's algorithm\n",
    "\n",
    "We assume that by using a disjoint set data structure, ```FIND``` and ```UNION``` can be performed using a time complexity of $\\mathcal{O}(1)$. Then the only cost is in sorting the edges by their weight, which can be done with a time complexity of $\\mathcal{O}(|E| \\log(|E|))$, which is the time complexity of generating the minimum spanning tree using this algorithm."
   ]
  },
  {
   "cell_type": "markdown",
   "metadata": {
    "deletable": true,
    "editable": true
   },
   "source": [
    "**Assignment 1: completing Kruskal's algorithm**\n",
    "\n",
    "1. Complete the code for Kruskals algorithm below. Test the code on the example network given above.\n",
    "2. Ticket to Ride is a fun boardgame in which you have to connect trains to several important cities in the United States. Load the vertices (cities) and edges (roads) from the file `ticket_to_ride.py`. Compute a minimum spanning tree.\n",
    "\n",
    "![The map of Ticket to Ride.](Figures/TtRmap.jpg)"
   ]
  },
  {
   "cell_type": "code",
   "execution_count": 10,
   "metadata": {
    "collapsed": false,
    "deletable": true,
    "editable": true
   },
   "outputs": [],
   "source": [
    "def kruskal(vertices, edges):\n",
    "    \"\"\"\n",
    "    Kruskal's algorithm for finding a minimum spanning tree\n",
    "    Input :\n",
    "        - vertices : a set of the vertices of the graph\n",
    "        - edges : a list of weighted edges (e.g. (0.7, 'A', 'B')) for an\n",
    "                    edge from node A to node B with weigth 0.7\n",
    "    Output:\n",
    "        a minumum spanning tree represented as a list of edges\n",
    "    \"\"\"\n",
    "    forest= []\n",
    "    value= 0\n",
    "    v = USF(vertices)\n",
    "    for edge in sorted(edges):\n",
    "        if v.find(edge[1]) != v.find(edge[2]):\n",
    "            forest.append([edge[1],edge[2]])\n",
    "            value += edge[0]\n",
    "            v.union(edge[1],edge[2])\n",
    "    return forest, value"
   ]
  },
  {
   "cell_type": "code",
   "execution_count": 11,
   "metadata": {
    "collapsed": false,
    "deletable": true,
    "editable": true
   },
   "outputs": [
    {
     "name": "stdout",
     "output_type": "stream",
     "text": [
      "([['A', 'D'], ['C', 'E'], ['F', 'D'], ['A', 'B'], ['B', 'E'], ['E', 'G']], 39)\n"
     ]
    }
   ],
   "source": [
    "vertices = ['A', 'B', 'C', 'D', 'E', 'F', 'G']\n",
    "edges = [(5, 'A', 'D'), (7, 'A', 'B'), (8, 'B', 'C'), (9, 'B', 'D'),\n",
    "         (7, 'B', 'E'), (5, 'C', 'E'), (15, 'D', 'E'), (6, 'F', 'D'), \n",
    "        (8, 'F', 'E'), (9, 'E', 'G'), (11, 'F', 'G')]\n",
    "\n",
    "print(kruskal(vertices, edges))"
   ]
  },
  {
   "cell_type": "code",
   "execution_count": 12,
   "metadata": {
    "collapsed": true,
    "deletable": true,
    "editable": true
   },
   "outputs": [],
   "source": [
    "from ticket_to_ride import vertices as cities\n",
    "from ticket_to_ride import edges as roads"
   ]
  },
  {
   "cell_type": "code",
   "execution_count": 13,
   "metadata": {
    "collapsed": false,
    "deletable": true,
    "editable": true,
    "scrolled": true
   },
   "outputs": [
    {
     "name": "stdout",
     "output_type": "stream",
     "text": [
      "Atlanta\n",
      "Boston\n",
      "Calgary\n",
      "Charleston\n",
      "Chicago\n",
      "Dallas\n",
      "Denver\n",
      "Duluth\n",
      "El Paso\n",
      "Helena\n",
      "Houston\n",
      "Kansas City\n",
      "Las Vegas\n",
      "Little Rock\n",
      "Los Angeles\n",
      "Miami\n",
      "Montreal\n",
      "Nashville\n",
      "New Orleans\n",
      "New York\n",
      "Oklahoma City\n",
      "Omaha\n",
      "Phoenix\n",
      "Pittsburgh\n",
      "Portland\n",
      "Raleigh\n",
      "Saint Louis\n",
      "Salt Lake City\n",
      "San Francisco\n",
      "Santa Fe\n",
      "Sault St. Marie\n",
      "Seattle\n",
      "Toronto\n",
      "Vancouver\n",
      "Washington DC\n",
      "Winnipeg\n"
     ]
    }
   ],
   "source": [
    "for city in cities:\n",
    "    print(city)"
   ]
  },
  {
   "cell_type": "code",
   "execution_count": 14,
   "metadata": {
    "collapsed": false,
    "deletable": true,
    "editable": true
   },
   "outputs": [
    {
     "name": "stdout",
     "output_type": "stream",
     "text": [
      "([['Atlanta', 'Nashville'], ['Charleston', 'Raleigh'], ['Dallas', 'Houston'], ['Kansas City', 'Omaha'], ['Portland', 'Seattle'], ['Seattle', 'Vancouver'], ['Atlanta', 'Charleston'], ['Boston', 'Montreal'], ['Boston', 'New York'], ['Chicago', 'Saint Louis'], ['Dallas', 'Little Rock'], ['Dallas', 'Oklahoma City'], ['Denver', 'Santa Fe'], ['Duluth', 'Omaha'], ['El Paso', 'Santa Fe'], ['Houston', 'New Orleans'], ['Kansas City', 'Oklahoma City'], ['Kansas City', 'Saint Louis'], ['Las Vegas', 'Los Angeles'], ['Los Angeles', 'Phoenix'], ['Nashville', 'Saint Louis'], ['New York', 'Pittsburgh'], ['New York', 'Washington DC'], ['Raleigh', 'Washington DC'], ['Sault St. Marie', 'Toronto'], ['Calgary', 'Vancouver'], ['Denver', 'Salt Lake City'], ['Duluth', 'Sault St. Marie'], ['El Paso', 'Phoenix'], ['Los Angeles', 'San Francisco'], ['Calgary', 'Helena'], ['Charleston', 'Miami'], ['Dallas', 'El Paso'], ['Denver', 'Helena'], ['Duluth', 'Winnipeg']], 79)\n"
     ]
    }
   ],
   "source": [
    "print(kruskal(cities,roads))"
   ]
  },
  {
   "cell_type": "markdown",
   "metadata": {
    "deletable": true,
    "editable": true
   },
   "source": [
    "## The travelling salesman problem\n",
    "\n",
    "The traveling salesman problem is a well-known problem in computer science. The goal is to find a tour in a graph with a minimal cost. This problem is NP-hard, there is no algorithm to solve this efficiently for large graphs."
   ]
  },
  {
   "cell_type": "markdown",
   "metadata": {
    "deletable": true,
    "editable": true
   },
   "source": [
    "The tour is represented as a dictionary, for each key-value pair a vertex and the associated next vertex in the tour."
   ]
  },
  {
   "cell_type": "markdown",
   "metadata": {
    "deletable": true,
    "editable": true
   },
   "source": [
    "Below are two heuristic algorithms to find a good tour."
   ]
  },
  {
   "cell_type": "markdown",
   "metadata": {
    "deletable": true,
    "editable": true
   },
   "source": [
    "### Nearest Neighbour\n",
    "\n",
    "The simplest algorithm, can be done in with a time complexity of $\\mathcal{O}(|V|^2)$.\n",
    "\n",
    "1. Select a random vertex.\n",
    "2. Find the nearest univisited vertex and add it to the path.\n",
    "3. Are there any unvisited vertices left? If yes, repeat step 2.\n",
    "4. Return to the first vertex."
   ]
  },
  {
   "cell_type": "markdown",
   "metadata": {
    "deletable": true,
    "editable": true
   },
   "source": [
    "### Greedy\n",
    "\n",
    "A greedy algorithm that gives a solution in $\\mathcal{O}(|V|^2\\log(|V|))$ time.\n",
    "\n",
    "1. Sort all edges\n",
    "2. Select the shortest edge and add it to the tour if it does not:\n",
    "    - creates a tour with less than $|V|$ vertices \n",
    "    - increases the degree of any of the vertices in the tour to more than two.\n",
    "3. Repeat step 2 until the tour has $|V|$ vertices."
   ]
  },
  {
   "cell_type": "markdown",
   "metadata": {
    "deletable": true,
    "editable": true
   },
   "source": [
    "**Assignment 2**\n",
    "\n",
    "1. Complete the functions `nearest_neighbour_tsa` and `greedy_tsa`. \n",
    "2. We have two benchmarks problems, one with 29 and one with 225 cities. For each problem the graph and coordinates of the cities are given. Give the **found optimal cost** and **running time** for the two algorithms.\n",
    "3. Make a plot of the best tour for each of the two benchmarks.\n",
    "4. Discuss how you can see on such a plot if the tour is optimal."
   ]
  },
  {
   "cell_type": "code",
   "execution_count": 37,
   "metadata": {
    "collapsed": false,
    "deletable": true,
    "editable": true
   },
   "outputs": [],
   "source": [
    "def nearest_neighbour_tsa(graph, start):\n",
    "    \"\"\"\n",
    "    Nearest Neighbour heuristic for the travelling salesman problem\n",
    "    \n",
    "    Inputs:\n",
    "        - graph: the graph as an adjacency list\n",
    "        - start: the vertex to start\n",
    "        \n",
    "    Outputs:\n",
    "        - tour: the tour as a dictionary\n",
    "        - tour_cost: the cost of the tour\n",
    "    \n",
    "    \"\"\"\n",
    "    tour= []\n",
    "    tour_cost= 0\n",
    "    tour.append(start)\n",
    "    v = USF(list(graph.keys()))\n",
    "    while not all(x in tour for x in list(graph.keys())):\n",
    "        min= (100000,500)\n",
    "        for edge in list(graph[tour[-1]])[1:]:\n",
    "            if edge[1] not in tour:\n",
    "                if edge[0] <= min[0]:\n",
    "                    min= edge\n",
    "        tour.append(min[1])\n",
    "        tour_cost += min[0]\n",
    "    tour.append(start)\n",
    "    tour_cost += [item for item in graph[start] if item[1] == tour[-2]][0][0]\n",
    "    return tour, tour_cost"
   ]
  },
  {
   "cell_type": "code",
   "execution_count": 63,
   "metadata": {
    "collapsed": false,
    "deletable": true,
    "editable": true
   },
   "outputs": [],
   "source": [
    "def greedy_tsa(graph):\n",
    "    \"\"\"\n",
    "    Greedy heuristic for the travelling salesman problem\n",
    "    \n",
    "    Inputs:\n",
    "        - graph: the graph as an adjacency list\n",
    "        \n",
    "    Outputs:\n",
    "        - tour: the tour as a dictionary\n",
    "        - tour_cost: the cost of the tour\n",
    "    \n",
    "    \"\"\"\n",
    "    all_edges= []\n",
    "    used_nodes= []\n",
    "    tour= []\n",
    "    tour_cost= 0\n",
    "    union_set= USF(list(graph.keys()))\n",
    "    for node in graph:\n",
    "        for edge in list(graph[node]):\n",
    "            edge= list(edge)\n",
    "            all_edges.append([edge[0],edge[1], node])\n",
    "    for edge in sorted(all_edges):\n",
    "        if union_set.find(edge[1]) != union_set.find(edge[2]):\n",
    "            if all([used_nodes.count(x) < 2 for x in edge[1:]]):\n",
    "                tour.append(edge[1:])\n",
    "                tour_cost += edge[0]\n",
    "                union_set.union(edge[1],edge[2])\n",
    "                used_nodes.append(edge[1])\n",
    "                used_nodes.append(edge[2])\n",
    "    remaining= []\n",
    "    for node in list(graph.keys()):\n",
    "        count = len([item for item in tour if node in item])\n",
    "        if count < 2:\n",
    "            remaining.append(node)\n",
    "    tour.append(remaining)\n",
    "    tour_cost += [item for item in graph[remaining[0]] if item[1] == remaining[1]][0][0]\n",
    "    return tour, tour_cost"
   ]
  },
  {
   "cell_type": "code",
   "execution_count": 44,
   "metadata": {
    "collapsed": false,
    "deletable": true,
    "editable": true
   },
   "outputs": [
    {
     "name": "stdout",
     "output_type": "stream",
     "text": [
      "[[ 1150.  1760.]\n",
      " [  630.  1660.]\n",
      " [   40.  2090.]\n",
      " [  750.  1100.]\n",
      " [  750.  2030.]\n",
      " [ 1030.  2070.]\n",
      " [ 1650.   650.]\n",
      " [ 1490.  1630.]\n",
      " [  790.  2260.]\n",
      " [  710.  1310.]\n",
      " [  840.   550.]\n",
      " [ 1170.  2300.]\n",
      " [  970.  1340.]\n",
      " [  510.   700.]\n",
      " [  750.   900.]\n",
      " [ 1280.  1200.]\n",
      " [  230.   590.]\n",
      " [  460.   860.]\n",
      " [ 1040.   950.]\n",
      " [  590.  1390.]\n",
      " [  830.  1770.]\n",
      " [  490.   500.]\n",
      " [ 1840.  1240.]\n",
      " [ 1260.  1500.]\n",
      " [ 1280.   790.]\n",
      " [  490.  2130.]\n",
      " [ 1460.  1420.]\n",
      " [ 1260.  1910.]\n",
      " [  360.  1980.]]\n"
     ]
    }
   ],
   "source": [
    "# load coordinates and graph for the two benchmark algorithms\n",
    "from load_tsa import coordinates29, coordinates225, graph29, graph225"
   ]
  },
  {
   "cell_type": "code",
   "execution_count": 64,
   "metadata": {
    "collapsed": false,
    "deletable": true,
    "editable": true
   },
   "outputs": [
    {
     "name": "stdout",
     "output_type": "stream",
     "text": [
      "Nearest neighbour, graph 29\n",
      "cost= 2402.0\n",
      "3 loops, best of 3: 222 µs per loop\n",
      "\n",
      "\n",
      "Nearest neighbour, graph 225\n",
      "cost= 5063.593884\n",
      "3 loops, best of 3: 42.3 ms per loop\n",
      "\n",
      "\n",
      "Greedy, graph 29\n",
      "cost= 2480.0\n",
      "3 loops, best of 3: 1.63 ms per loop\n",
      "\n",
      "\n",
      "Greedy, graph 29\n",
      "cost= 4626.131929\n",
      "3 loops, best of 3: 153 ms per loop\n",
      "\n",
      "\n"
     ]
    }
   ],
   "source": [
    "import random\n",
    "\n",
    "print(\"Nearest neighbour, graph 29\")\n",
    "nn_sol1, nn_cost1 = nearest_neighbour_tsa(graph29, random.choice(list(graph29.keys())))\n",
    "print(\"cost= \"+str(nn_cost1))\n",
    "%timeit -n 3 nearest_neighbour_tsa(graph29, random.choice(list(graph29.keys())))\n",
    "print(\"\\n\")\n",
    "\n",
    "print(\"Nearest neighbour, graph 225\")\n",
    "nn_sol2, nn_cost2 = nearest_neighbour_tsa(graph225, random.choice(list(graph225.keys())))\n",
    "print(\"cost= \"+str(nn_cost2))\n",
    "%timeit -n 3 nearest_neighbour_tsa(graph225, random.choice(list(graph225.keys())))\n",
    "print(\"\\n\")\n",
    "\n",
    "print(\"Greedy, graph 29\")\n",
    "g_sol1, g_cost1 = greedy_tsa(graph29)\n",
    "print(\"cost= \"+str(g_cost1))\n",
    "%timeit -n 3 greedy_tsa(graph29)\n",
    "print(\"\\n\")\n",
    "\n",
    "print(\"Greedy, graph 29\")\n",
    "g_sol2, g_cost2 = greedy_tsa(graph225)\n",
    "print(\"cost= \"+str(g_cost2))\n",
    "%timeit -n 3 greedy_tsa(graph225)\n",
    "print(\"\\n\")"
   ]
  },
  {
   "cell_type": "code",
   "execution_count": 65,
   "metadata": {
    "collapsed": false,
    "deletable": true,
    "editable": true
   },
   "outputs": [
    {
     "name": "stdout",
     "output_type": "stream",
     "text": [
      "[18, 14, 3, 9, 19, 1, 20, 0, 27, 5, 11, 8, 4, 25, 28, 2, 12, 23, 26, 7, 15, 24, 6, 22, 10, 21, 13, 17, 16, 18]\n"
     ]
    },
    {
     "data": {
      "image/png": "[encoded data removed]",
      "text/plain": [
       "<matplotlib.figure.Figure at 0x7f1f179c98d0>"
      ]
     },
     "metadata": {},
     "output_type": "display_data"
    }
   ],
   "source": [
    "import networkx as nx\n",
    "import matplotlib.pyplot as plt\n",
    "\n",
    "print(nn_sol1)\n",
    "    \n",
    "edges= []\n",
    "for i in range(0,len(nn_sol1)-1):\n",
    "    edges.append([nn_sol1[i],nn_sol1[i+1]])\n",
    "\n",
    "g = nx.Graph()\n",
    "g.add_edges_from(edges)\n",
    "\n",
    "pos29= {}\n",
    "for i in range(0,29):\n",
    "    pos29[i]=coordinates29[i]\n",
    "\n",
    "nx.draw_networkx(g,pos=pos29)\n",
    "plt.show()\n"
   ]
  },
  {
   "cell_type": "code",
   "execution_count": 66,
   "metadata": {
    "collapsed": false,
    "deletable": true,
    "editable": true
   },
   "outputs": [
    {
     "name": "stdout",
     "output_type": "stream",
     "text": [
      "[[9, 19], [13, 17], [3, 14], [25, 28], [23, 26], [1, 20], [3, 9], [7, 26], [13, 21], [0, 27], [4, 8], [5, 11], [14, 17], [4, 25], [5, 27], [15, 23], [0, 20], [15, 18], [1, 19], [18, 24], [2, 28], [16, 21], [8, 11], [6, 24], [7, 22], [10, 16], [10, 12], [12, 22], [2, 6]]\n",
      "29\n",
      "29\n",
      "0 2\n",
      "1 2\n",
      "2 2\n",
      "3 2\n",
      "4 2\n",
      "5 2\n",
      "6 2\n",
      "7 2\n",
      "8 2\n",
      "9 2\n",
      "10 2\n",
      "11 2\n",
      "12 2\n",
      "13 2\n",
      "14 2\n",
      "15 2\n",
      "16 2\n",
      "17 2\n",
      "18 2\n",
      "19 2\n",
      "20 2\n",
      "21 2\n",
      "22 2\n",
      "23 2\n",
      "24 2\n",
      "25 2\n",
      "26 2\n",
      "27 2\n",
      "28 2\n"
     ]
    },
    {
     "data": {
      "image/png": "[encoded data removed]",
      "text/plain": [
       "<matplotlib.figure.Figure at 0x7f1f1783cb70>"
      ]
     },
     "metadata": {},
     "output_type": "display_data"
    }
   ],
   "source": [
    "print(g_sol1)\n",
    "\n",
    "g = nx.Graph()\n",
    "g.add_edges_from(g_sol1)\n",
    "print(g.number_of_edges())\n",
    "print(g.number_of_nodes())\n",
    "\n",
    "for i in range(0,29):\n",
    "    print(i,nx.degree(g,i))\n",
    "\n",
    "nx.draw_networkx(g,pos=pos29)\n",
    "#nx.draw(g, ax=ax)\n",
    "plt.show()"
   ]
  },
  {
   "cell_type": "code",
   "execution_count": 70,
   "metadata": {
    "collapsed": false,
    "deletable": true,
    "editable": true
   },
   "outputs": [
    {
     "name": "stdout",
     "output_type": "stream",
     "text": [
      "[115, 222, 114, 113, 112, 111, 110, 109, 108, 107, 106, 105, 104, 219, 103, 102, 101, 100, 99, 98, 97, 96, 95, 94, 208, 93, 92, 91, 90, 89, 86, 209, 83, 82, 81, 84, 85, 130, 210, 129, 221, 128, 127, 126, 125, 124, 123, 122, 121, 120, 174, 119, 184, 118, 117, 185, 186, 116, 187, 26, 188, 224, 189, 46, 1, 206, 48, 50, 56, 55, 54, 51, 52, 53, 69, 70, 71, 72, 73, 74, 75, 215, 218, 216, 76, 77, 78, 79, 80, 220, 27, 203, 25, 33, 32, 34, 29, 201, 205, 30, 31, 28, 24, 207, 23, 22, 12, 13, 14, 15, 16, 19, 202, 18, 17, 10, 11, 36, 35, 37, 38, 39, 40, 41, 42, 43, 45, 193, 217, 192, 195, 191, 190, 198, 223, 132, 204, 49, 47, 44, 194, 196, 3, 197, 2, 0, 199, 4, 5, 6, 7, 8, 9, 21, 20, 68, 67, 66, 65, 64, 63, 62, 61, 60, 59, 58, 57, 88, 87, 165, 164, 163, 214, 133, 134, 182, 135, 136, 137, 138, 139, 140, 141, 200, 142, 143, 156, 155, 154, 153, 152, 147, 146, 145, 144, 148, 151, 150, 149, 211, 213, 166, 167, 168, 169, 170, 171, 172, 180, 173, 179, 178, 175, 176, 177, 181, 183, 159, 160, 161, 162, 157, 212, 158, 131, 115]\n",
      "225\n",
      "225\n"
     ]
    },
    {
     "data": {
      "image/png": "[encoded data removed]",
      "text/plain": [
       "<matplotlib.figure.Figure at 0x7f1f17b465c0>"
      ]
     },
     "metadata": {},
     "output_type": "display_data"
    }
   ],
   "source": [
    "print(nn_sol2)\n",
    "    \n",
    "edges= []\n",
    "for i in range(0,len(nn_sol2)-1):\n",
    "    edges.append([nn_sol2[i],nn_sol2[i+1]])\n",
    "\n",
    "g = nx.Graph()\n",
    "g.add_edges_from(edges)\n",
    "print(g.number_of_edges())\n",
    "print(g.number_of_nodes())\n",
    "\n",
    "pos225= {}\n",
    "for i in range(0,225):\n",
    "    pos225[i]=coordinates225[i]\n",
    "\n",
    "nx.draw_networkx(g,pos=pos225)\n",
    "plt.show()"
   ]
  },
  {
   "cell_type": "code",
   "execution_count": 69,
   "metadata": {
    "collapsed": false,
    "deletable": true,
    "editable": true
   },
   "outputs": [
    {
     "name": "stdout",
     "output_type": "stream",
     "text": [
      "[[29, 201], [189, 224], [27, 203], [54, 55], [57, 58], [59, 60], [70, 71], [71, 72], [90, 91], [103, 219], [106, 107], [107, 108], [137, 138], [138, 139], [145, 146], [153, 154], [159, 160], [160, 161], [216, 218], [14, 15], [28, 29], [32, 33], [32, 34], [46, 224], [67, 68], [94, 208], [102, 103], [112, 113], [152, 153], [201, 205], [215, 218], [48, 206], [198, 223], [132, 198], [192, 217], [48, 50], [114, 222], [115, 222], [119, 174], [129, 210], [191, 195], [74, 75], [76, 77], [79, 80], [81, 82], [120, 174], [130, 210], [211, 213], [79, 94], [113, 114], [44, 47], [92, 93], [129, 221], [1, 206], [50, 56], [1, 46], [15, 16], [19, 202], [23, 207], [55, 56], [61, 62], [62, 63], [64, 65], [65, 66], [69, 70], [82, 83], [83, 84], [89, 90], [93, 208], [95, 96], [97, 98], [98, 99], [100, 101], [104, 105], [104, 219], [110, 111], [111, 112], [128, 221], [135, 136], [135, 182], [140, 141], [142, 143], [146, 147], [147, 152], [148, 151], [149, 150], [154, 155], [155, 156], [157, 212], [158, 159], [190, 191], [192, 195], [0, 199], [5, 6], [13, 14], [18, 202], [24, 207], [30, 205], [45, 193], [60, 61], [73, 74], [77, 78], [84, 85], [86, 209], [87, 88], [105, 106], [117, 118], [132, 189], [133, 214], [134, 182], [136, 137], [139, 140], [157, 162], [161, 162], [164, 165], [176, 177], [44, 217], [76, 216], [188, 204], [190, 204], [116, 186], [2, 197], [3, 196], [86, 89], [118, 185], [143, 156], [172, 180], [173, 179], [119, 184], [175, 178], [51, 54], [52, 53], [26, 187], [26, 188], [115, 116], [167, 211], [30, 215], [150, 213], [148, 149], [165, 166], [127, 128], [167, 168], [117, 186], [3, 197], [172, 181], [173, 180], [4, 5], [6, 7], [12, 13], [24, 25], [25, 33], [27, 28], [37, 38], [43, 45], [58, 59], [85, 209], [120, 121], [125, 126], [133, 134], [142, 200], [163, 214], [175, 176], [178, 179], [184, 185], [10, 11], [11, 12], [16, 19], [17, 18], [22, 23], [35, 36], [36, 37], [39, 40], [41, 42], [42, 43], [51, 52], [63, 64], [66, 67], [68, 69], [72, 73], [91, 92], [96, 97], [99, 100], [101, 102], [109, 110], [121, 122], [122, 123], [141, 200], [144, 145], [163, 164], [168, 169], [169, 170], [170, 171], [193, 194], [47, 223], [80, 220], [126, 127], [130, 131], [0, 2], [7, 8], [8, 9], [9, 10], [20, 21], [31, 34], [38, 39], [40, 41], [108, 109], [123, 124], [124, 125], [21, 22], [78, 95], [4, 196], [171, 181], [151, 166], [31, 75], [53, 57], [131, 212], [144, 158], [35, 203], [17, 20], [81, 88], [49, 187], [49, 194], [177, 183], [87, 183], [199, 220]]\n",
      "225\n",
      "225\n"
     ]
    },
    {
     "data": {
      "image/png": "[encoded data removed]",
      "text/plain": [
       "<matplotlib.figure.Figure at 0x7f1f15da3d68>"
      ]
     },
     "metadata": {},
     "output_type": "display_data"
    }
   ],
   "source": [
    "print(g_sol2)\n",
    "\n",
    "g = nx.Graph()\n",
    "g.add_edges_from(g_sol2)\n",
    "print(g.number_of_edges())\n",
    "print(g.number_of_nodes())\n",
    "\n",
    "nx.draw_networkx(g,pos=pos225)\n",
    "plt.show()"
   ]
  },
  {
   "cell_type": "markdown",
   "metadata": {
    "collapsed": true,
    "deletable": true,
    "editable": true
   },
   "source": [
    "As the weights of the edges in these graphs are proportional to the distances between the edges, we can look at the lengths of the edges as a representation of the weights. An optimal graph would contain many short edges connecting nearby nodes, resulting in the shortest possible total length of the path. To minimize the total length of the path, sometimes a node which lies a little further than the closest node results in a better graph. When the plot is suddenly crossed by a long edge between nodes, this will most likely increase the total length of the path drastically. This is probably due to a flaw in the algorithm and could indicate that there is a more optimal path that could have been created but was not found using the current algorithm. "
   ]
  },
  {
   "cell_type": "code",
   "execution_count": null,
   "metadata": {
    "collapsed": true
   },
   "outputs": [],
   "source": []
  }
 ],
 "metadata": {
  "anaconda-cloud": {},
  "kernelspec": {
   "display_name": "Python [default]",
   "language": "python",
   "name": "python3"
  },
  "language_info": {
   "codemirror_mode": {
    "name": "ipython",
    "version": 3
   },
   "file_extension": ".py",
   "mimetype": "text/x-python",
   "name": "python",
   "nbconvert_exporter": "python",
   "pygments_lexer": "ipython3",
   "version": "3.5.2"
  },
  "latex_envs": {
   "bibliofile": "biblio.bib",
   "cite_by": "apalike",
   "current_citInitial": 1,
   "eqLabelWithNumbers": true,
   "eqNumInitial": 0
  }
 },
 "nbformat": 4,
 "nbformat_minor": 0
}
