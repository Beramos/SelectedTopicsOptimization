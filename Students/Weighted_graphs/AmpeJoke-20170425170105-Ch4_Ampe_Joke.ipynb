{
 "cells": [
  {
   "cell_type": "markdown",
   "metadata": {},
   "source": [
    "# Chapter 4: Minimum spanning trees\n",
    "\n",
    "Joke Ampe - 2nd Master in Bio-informatics"
   ]
  },
  {
   "cell_type": "markdown",
   "metadata": {},
   "source": [
    "In this chapter we will continue to study algorithms that process graphs. We will implement Kruskal's algorithm to construct the **minimum spanning tree** of a graph, a subgraph that efficiently connects all nodes."
   ]
  },
  {
   "cell_type": "markdown",
   "metadata": {},
   "source": [
    "## Trees in python\n",
    "\n",
    "A tree is an undirected graph where any two edges are connected by **exactly one path**. For example, consider the tree below.\n",
    "\n",
    "![A simple tree](Figures/example_tree.png)\n",
    "\n",
    "We can represent in python using dictionaries, as we did in the last chapter."
   ]
  },
  {
   "cell_type": "code",
   "execution_count": 1,
   "metadata": {
    "collapsed": true
   },
   "outputs": [],
   "source": [
    "tree_dict = {'A' : set(['D']), 'B' : set(['D']), 'C' : set(['D']),\n",
    "             'D' : set(['A', 'B', 'C', 'E']), 'E' : set(['D', 'F']), 'F' : set(['E'])}"
   ]
  },
  {
   "cell_type": "markdown",
   "metadata": {},
   "source": [
    "Though in this chapter, we prefer to represent the tree as a list (set) of links:"
   ]
  },
  {
   "cell_type": "code",
   "execution_count": 2,
   "metadata": {
    "collapsed": false
   },
   "outputs": [
    {
     "data": {
      "text/plain": [
       "[('A', 'D'),\n",
       " ('B', 'D'),\n",
       " ('C', 'D'),\n",
       " ('D', 'B'),\n",
       " ('D', 'C'),\n",
       " ('D', 'A'),\n",
       " ('D', 'E'),\n",
       " ('E', 'F'),\n",
       " ('E', 'D'),\n",
       " ('F', 'E')]"
      ]
     },
     "execution_count": 2,
     "metadata": {},
     "output_type": "execute_result"
    }
   ],
   "source": [
    "tree_links = [(node, neighbor) for node in tree_dict.keys() for neighbor in tree_dict[node]]\n",
    "tree_links"
   ]
  },
  {
   "cell_type": "markdown",
   "metadata": {},
   "source": [
    "If we choose one node as the **root** of the tree, we have exactly one path from this root to each of the other terminal nodes. This idea can applied recursively as follows: from this root, each neighboring is itself a root of a subtree. Each of these subtrees also consist of a root and possibly one or more subtrees. Hence we can also represent the tree as a nested sublist:\n",
    "\n",
    "```\n",
    "tree = [root, [subtree1], [subtree2],...]\n",
    "```\n",
    "\n",
    "For our example, we obtain when taking node D as a root: (see [here](http://interactivepython.org/courselib/static/pythonds/Trees/ListofListsRepresentation.html))"
   ]
  },
  {
   "cell_type": "code",
   "execution_count": 3,
   "metadata": {
    "collapsed": true
   },
   "outputs": [],
   "source": [
    "tree_list = ['D', ['A'], ['B'], ['C'], ['E', ['F']]]"
   ]
  },
  {
   "cell_type": "markdown",
   "metadata": {},
   "source": [
    "## Minimum spanning tree"
   ]
  },
  {
   "cell_type": "markdown",
   "metadata": {},
   "source": [
    "Suppose we have an undirected connected weighted graph $G$ as depicted below.\n",
    "\n",
    "![A weighted graph](Figures/graph.png)"
   ]
  },
  {
   "cell_type": "markdown",
   "metadata": {},
   "source": [
    "Weighted graphs can either be implemented as a set of weighted edges of as a dictionary."
   ]
  },
  {
   "cell_type": "code",
   "execution_count": 4,
   "metadata": {
    "collapsed": true
   },
   "outputs": [],
   "source": [
    "vertices = ['A', 'B', 'C', 'D', 'E', 'F', 'G']\n",
    "\n",
    "edges = set([(5, 'A', 'D'), (7, 'A', 'B'), (8, 'B', 'C'), (9, 'B', 'D'),\n",
    "         (7, 'B', 'E'), (5, 'C', 'E'), (15, 'D', 'E'), (6, 'F', 'D'), \n",
    "        (8, 'F', 'E'), (9, 'E', 'G'), (11, 'F', 'G')])"
   ]
  },
  {
   "cell_type": "code",
   "execution_count": 5,
   "metadata": {
    "collapsed": false
   },
   "outputs": [
    {
     "data": {
      "text/plain": [
       "{'A': {(5, 'D'), (7, 'B')},\n",
       " 'B': {(7, 'A'), (7, 'E'), (8, 'C'), (9, 'D')},\n",
       " 'C': {(5, 'E'), (8, 'B')},\n",
       " 'D': {(5, 'A'), (6, 'F'), (9, 'B'), (15, 'E')},\n",
       " 'E': {(5, 'C'), (7, 'B'), (8, 'F'), (9, 'G'), (15, 'D')},\n",
       " 'F': {(6, 'D'), (8, 'E'), (11, 'G')},\n",
       " 'G': {(9, 'E'), (11, 'F')}}"
      ]
     },
     "execution_count": 5,
     "metadata": {},
     "output_type": "execute_result"
    }
   ],
   "source": [
    "weighted_adj_list = {v : set([]) for v in vertices}\n",
    "\n",
    "for weight, vertex1, vertex2 in edges:\n",
    "    weighted_adj_list[vertex1].add((weight, vertex2))\n",
    "    weighted_adj_list[vertex2].add((weight, vertex1))  # undirected graph, in=outgoing edge\n",
    "\n",
    "weighted_adj_list"
   ]
  },
  {
   "cell_type": "markdown",
   "metadata": {},
   "source": [
    "For example, the nodes may represent cities and the weight of an edge may represent the cost of implementing a communication line between two cities. If we want to make communication possible between all cities, these should be a path between any two cities. A **spanning tree** is a subgraph of $G$ that is a tree which contains all nodes of $G$. The cost of the spanning tree is simply the sum of a the weights of the edges in this tree. Often, multiple spanning trees can be chosen from a connected graph. The **minimum spanning tree** is simply the spanning tree with the lowest cost.\n",
    "\n",
    "The figure below shows the minimum spanning tree for $G$ in green.\n",
    "\n",
    "![A weighted graph](Figures/min_spanning_tree.png)"
   ]
  },
  {
   "cell_type": "markdown",
   "metadata": {},
   "source": [
    "Minimum spanning trees have many applications:\n",
    "- design of computer-, telecommunication-, transportation- and other networks\n",
    "- hierachical clustering\n",
    "- image segmentation and feature extraction\n",
    "- phylogenetic analysis\n",
    "- construction of mazes"
   ]
  },
  {
   "cell_type": "markdown",
   "metadata": {},
   "source": [
    "## Disjoint-set data structure"
   ]
  },
  {
   "cell_type": "markdown",
   "metadata": {},
   "source": [
    "Implementing an algorithm for finding the minimum spanning tree is fairly straightforward. The only bottleneck is that the algorithm requires the a **disjoint-set data structure** to keep track of a set partitioned in a number of disjoined subsets.\n",
    "\n",
    "For example, consider the following inital set of eight elements.\n",
    "\n",
    "![A set of eight elements](Figures/disjointset1.png)\n",
    "\n",
    "We decide to group elements A, B and C together in a subset and F and G in another subset.\n",
    "\n",
    "![The same set, but after grouping some elements together.](Figures/disjointset2.png)\n",
    "\n",
    "The disjoint-set data structure support the following operations:\n",
    "- **Find** check which subset an element is in. Is typically used to check whether two objects are in the same subset.\n",
    "- **Union** to merge two subsets into a single subset.\n",
    "\n",
    "A python implementation of a disjoint-set is available using an union-set forest. A simple example will make everything clear!"
   ]
  },
  {
   "cell_type": "code",
   "execution_count": 6,
   "metadata": {
    "collapsed": false
   },
   "outputs": [],
   "source": [
    "from union_set_forest import USF\n",
    "\n",
    "animals = ['mouse', 'bat', 'robin', 'trout', 'seagull', 'hummingbird',\n",
    "           'salmon', 'goldfish', 'hippopotamus', 'whale', 'sparrow']\n",
    "union_set_forest = USF(animals)\n",
    "\n",
    "# group mammals together\n",
    "union_set_forest.union('mouse', 'bat')\n",
    "union_set_forest.union('mouse', 'hippopotamus')\n",
    "union_set_forest.union('whale', 'bat')\n",
    "\n",
    "# group birds together\n",
    "union_set_forest.union('robin', 'seagull')\n",
    "union_set_forest.union('seagull', 'sparrow')\n",
    "union_set_forest.union('seagull', 'hummingbird')\n",
    "union_set_forest.union('robin', 'hummingbird')\n",
    "\n",
    "# group fishes together\n",
    "union_set_forest.union('goldfish', 'salmon')\n",
    "union_set_forest.union('trout', 'salmon')"
   ]
  },
  {
   "cell_type": "code",
   "execution_count": 7,
   "metadata": {
    "collapsed": false
   },
   "outputs": [
    {
     "name": "stdout",
     "output_type": "stream",
     "text": [
      "True\n"
     ]
    }
   ],
   "source": [
    "# mouse and whale in same subset?\n",
    "print(union_set_forest.find('mouse') == union_set_forest.find('whale'))"
   ]
  },
  {
   "cell_type": "code",
   "execution_count": 8,
   "metadata": {
    "collapsed": false
   },
   "outputs": [
    {
     "name": "stdout",
     "output_type": "stream",
     "text": [
      "False\n"
     ]
    }
   ],
   "source": [
    "# robin and salmon in the same subset?\n",
    "print(union_set_forest.find('robin') == union_set_forest.find('salmon'))"
   ]
  },
  {
   "cell_type": "markdown",
   "metadata": {},
   "source": [
    "## Kruskal's algorithm"
   ]
  },
  {
   "cell_type": "markdown",
   "metadata": {},
   "source": [
    "Kruskal's algorithm is a very simple algorithm to find the minimum spanning tree. The main idea is to start with an intial 'forest' of the induvidual nodes of the graph. In each step of the algorithm we add an edge with the smallest possible value that connects two disjoints trees in the forest. This process is continued until we have a single tree, which is a minimum spanning tree, or until all edges are considered. In the former case the algoritm returns the minimum spanning forest. "
   ]
  },
  {
   "cell_type": "markdown",
   "metadata": {},
   "source": [
    "### Example run of Kruskal's algorithm\n",
    "\n",
    "Consider the weighted graph again.\n",
    "\n",
    "![A weighted graph](Figures/graph.png)"
   ]
  },
  {
   "cell_type": "markdown",
   "metadata": {},
   "source": [
    "In a first step, the algorithm selects the edge with the lowest weight, here connecting nodes A and D. This edge has a weight of 5.\n",
    "\n",
    "![The first edge with lowest weight is selected.](Figures/K1.png)\n",
    "\n"
   ]
  },
  {
   "cell_type": "markdown",
   "metadata": {},
   "source": [
    "The next edge that is selected connects nodes C and E. This edge also has a weight of 5.\n",
    "\n",
    "![The second edge is selected.](Figures/K2.png)"
   ]
  },
  {
   "cell_type": "markdown",
   "metadata": {},
   "source": [
    "The edge between D and F is subsequently selected.\n",
    "\n",
    "![A third edge is added to the forest.](Figures/K3.png)\n",
    "\n"
   ]
  },
  {
   "cell_type": "markdown",
   "metadata": {},
   "source": [
    "In the current forest, the edge between B and D becomes inaccessible. Taking this edge would result in a cycle in our graph (B and D are already connected through A in our forest), so it is forbidden.\n",
    "\n",
    "![Now edge BD becomes forbidden, because adding it to our forest would result in a cycle.](Figures/K4.png)\n"
   ]
  },
  {
   "cell_type": "markdown",
   "metadata": {},
   "source": [
    "The next allowd edge with the lowest weight is between nodes B and E. Taking this edges connects two independent components in our forest and makes other edges forbidden.\n",
    "\n",
    "![We add edge BD, connecting two components in our forest.](Figures/K5.png)\n"
   ]
  },
  {
   "cell_type": "markdown",
   "metadata": {},
   "source": [
    "Finally, edge EG connects the last node G to our tree with the lowest cost.\n",
    "\n",
    "![Adding edge EG results in the minimum spanning tree.](Figures/K6.png)"
   ]
  },
  {
   "cell_type": "markdown",
   "metadata": {},
   "source": [
    "### Pseudocode of Kruskal's algorithm\n",
    "\n",
    "```\n",
    "function Kruskal(G):\n",
    "1 A := empty list\n",
    "2 for each node v in G\n",
    "3    MAKE-SET(v)\n",
    "4 for each edge (u, v) ordered by weight(u, v), increasing:\n",
    "5    if FIND-SET(u) ≠ FIND-SET(v):\n",
    "6       add (u, v) to A\n",
    "7       UNION(u, v)\n",
    "8 return A\n",
    "```"
   ]
  },
  {
   "cell_type": "markdown",
   "metadata": {},
   "source": [
    "### Time complexity of Kruskal's algorithm\n",
    "\n",
    "We assume that by using a disjoint set data structure, ```FIND``` and ```UNION``` can be performed using a time complexity of $\\mathcal{O}(1)$. Then the only cost is in sorting the edges by their weight, which can be done with a time complexity of $\\mathcal{O}(|E| \\log(|E|))$, which is the time complexity of generating the minimum spanning tree using this algorithm."
   ]
  },
  {
   "cell_type": "markdown",
   "metadata": {},
   "source": [
    "**Assignment 1: completing Kruskal's algorithm**\n",
    "\n",
    "1. Complete the code for Kruskals algorithm below. Test the code on the example network given above.\n",
    "2. Ticket to Ride is a fun boardgame in which you have to connect trains to several important cities in the United States. Load the vertices (cities) and edges (roads) from the file `ticket_to_ride.py`. Compute a minimum spanning tree.\n",
    "\n",
    "![The map of Ticket to Ride.](Figures/TtRmap.jpg)"
   ]
  },
  {
   "cell_type": "code",
   "execution_count": 9,
   "metadata": {
    "collapsed": true
   },
   "outputs": [],
   "source": [
    "def kruskal(vertices, edges):\n",
    "    \"\"\"\n",
    "    Kruskal's algorithm for finding a minimum spanning tree\n",
    "    Input :\n",
    "        - vertices : a set of the vertices of the graph\n",
    "        - edges : a list of weighted edges (e.g. (0.7, 'A', 'B')) for an\n",
    "                    edge from node A to node B with weigth 0.7\n",
    "    Output:\n",
    "        a minumum spanning tree represented as a list of edges\n",
    "    \"\"\"        \n",
    "    # sort the edges\n",
    "    sorted_edges = sorted(edges)\n",
    "    # keep track of the used edges\n",
    "    minimum_tree = set([])\n",
    "    cost = 0\n",
    "    forest = set(vertices)\n",
    "    USF_forest = USF(forest)\n",
    "    for (w, u, v) in sorted_edges:\n",
    "        if USF_forest.find(u) != USF_forest.find(v):\n",
    "            minimum_tree.add((u, v))\n",
    "            cost += w\n",
    "            USF_forest.union(u, v)\n",
    "    return list(minimum_tree), cost"
   ]
  },
  {
   "cell_type": "code",
   "execution_count": 10,
   "metadata": {
    "collapsed": false
   },
   "outputs": [
    {
     "name": "stdout",
     "output_type": "stream",
     "text": [
      "The optimal solution is:  ([('E', 'G'), ('A', 'B'), ('C', 'E'), ('A', 'D'), ('B', 'E'), ('F', 'D')], 39)\n"
     ]
    }
   ],
   "source": [
    "vertices = ['A', 'B', 'C', 'D', 'E', 'F', 'G']\n",
    "edges = [(5, 'A', 'D'), (7, 'A', 'B'), (8, 'B', 'C'), (9, 'B', 'D'),\n",
    "         (7, 'B', 'E'), (5, 'C', 'E'), (15, 'D', 'E'), (6, 'F', 'D'), \n",
    "        (8, 'F', 'E'), (9, 'E', 'G'), (11, 'F', 'G')]\n",
    "print('The optimal solution is: ',kruskal(vertices, edges))"
   ]
  },
  {
   "cell_type": "code",
   "execution_count": 11,
   "metadata": {
    "collapsed": true
   },
   "outputs": [],
   "source": [
    "from ticket_to_ride import vertices as cities\n",
    "from ticket_to_ride import edges as roads"
   ]
  },
  {
   "cell_type": "code",
   "execution_count": 12,
   "metadata": {
    "collapsed": false,
    "scrolled": true
   },
   "outputs": [
    {
     "name": "stdout",
     "output_type": "stream",
     "text": [
      "['Atlanta', 'Boston', 'Calgary', 'Charleston', 'Chicago', 'Dallas', 'Denver', 'Duluth', 'El Paso', 'Helena', 'Houston', 'Kansas City', 'Las Vegas', 'Little Rock', 'Los Angeles', 'Miami', 'Montreal', 'Nashville', 'New Orleans', 'New York', 'Oklahoma City', 'Omaha', 'Phoenix', 'Pittsburgh', 'Portland', 'Raleigh', 'Saint Louis', 'Salt Lake City', 'San Francisco', 'Santa Fe', 'Sault St. Marie', 'Seattle', 'Toronto', 'Vancouver', 'Washington DC', 'Winnipeg']\n",
      "[(5, 'Miami', 'Atlanta'), (4, 'Denver', 'Oklahoma City'), (5, 'Pittsburgh', 'Saint Louis'), (3, 'Montreal', 'New York'), (3, 'El Paso', 'Phoenix'), (1, 'Houston', 'Dallas'), (2, 'Kansas City', 'Saint Louis'), (3, 'Salt Lake City', 'Las Vegas'), (4, 'Omaha', 'Chicago'), (2, 'Denver', 'Santa Fe'), (3, 'Pittsburgh', 'Chicago'), (4, 'Denver', 'Omaha'), (6, 'Sault St. Marie', 'Winnipeg'), (2, 'Kansas City', 'Oklahoma City'), (2, 'Oklahoma City', 'Kansas City'), (2, 'Little Rock', 'Dallas'), (4, 'Denver', 'Kansas City'), (5, 'Oklahoma City', 'El Paso'), (4, 'Charleston', 'Miami'), (6, 'Seattle', 'Helena'), (1, 'Omaha', 'Kansas City'), (3, 'Duluth', 'Sault St. Marie'), (2, 'Atlanta', 'Charleston'), (6, 'Miami', 'New Orleans'), (4, 'El Paso', 'Dallas'), (4, 'Oklahoma City', 'Denver'), (1, 'Vancouver', 'Seattle'), (1, 'Seattle', 'Vancouver'), (4, 'Helena', 'Denver'), (4, 'Calgary', 'Seattle'), (4, 'Helena', 'Calgary'), (3, 'Santa Fe', 'Phoenix'), (6, 'Los Angeles', 'El Paso'), (1, 'Portland', 'Seattle'), (2, 'Raleigh', 'Washington DC'), (2, 'New Orleans', 'Houston'), (3, 'New Orleans', 'Little Rock'), (3, 'Chicago', 'Duluth'), (4, 'Miami', 'Charleston'), (6, 'Portland', 'Salt Lake City'), (3, 'Las Vegas', 'Salt Lake City'), (3, 'Vancouver', 'Calgary'), (4, 'Chicago', 'Toronto'), (6, 'Toronto', 'Duluth'), (4, 'Dallas', 'El Paso'), (5, 'Salt Lake City', 'San Francisco'), (5, 'Saint Louis', 'Pittsburgh'), (2, 'Oklahoma City', 'Little Rock'), (2, 'Las Vegas', 'Los Angeles'), (2, 'Santa Fe', 'Denver'), (3, 'Montreal', 'Toronto'), (4, 'Seattle', 'Calgary'), (2, 'Saint Louis', 'Nashville'), (3, 'San Francisco', 'Los Angeles'), (2, 'Sault St. Marie', 'Toronto'), (5, 'San Francisco', 'Salt Lake City'), (1, 'Seattle', 'Portland'), (6, 'Winnipeg', 'Calgary'), (2, 'Atlanta', 'Raleigh'), (5, 'Atlanta', 'Miami'), (2, 'Dallas', 'Little Rock'), (2, 'Toronto', 'Sault St. Marie'), (4, 'Denver', 'Phoenix'), (4, 'Winnipeg', 'Helena'), (4, 'Nashville', 'Pittsburgh'), (2, 'Phoenix', 'Los Angeles'), (6, 'Houston', 'El Paso'), (2, 'Santa Fe', 'El Paso'), (6, 'Salt Lake City', 'Portland'), (5, 'Omaha', 'Helena'), (2, 'New York', 'Pittsburgh'), (2, 'El Paso', 'Santa Fe'), (2, 'Houston', 'New Orleans'), (3, 'Little Rock', 'Nashville'), (5, 'Sault St. Marie', 'Montreal'), (2, 'Chicago', 'Saint Louis'), (2, 'Saint Louis', 'Chicago'), (6, 'Winnipeg', 'Sault St. Marie'), (4, 'Kansas City', 'Denver'), (2, 'Pittsburgh', 'New York'), (3, 'Nashville', 'Raleigh'), (2, 'Little Rock', 'Oklahoma City'), (3, 'New York', 'Montreal'), (2, 'Montreal', 'Boston'), (4, 'New Orleans', 'Atlanta'), (2, 'Washington DC', 'Raleigh'), (2, 'Dallas', 'Oklahoma City'), (4, 'Helena', 'Winnipeg'), (4, 'Toronto', 'Chicago'), (2, 'Los Angeles', 'Las Vegas'), (2, 'Little Rock', 'Saint Louis'), (6, 'El Paso', 'Los Angeles'), (4, 'Omaha', 'Denver'), (2, 'Duluth', 'Omaha'), (1, 'Charleston', 'Raleigh'), (4, 'Duluth', 'Winnipeg'), (1, 'Kansas City', 'Omaha'), (1, 'Atlanta', 'Nashville'), (5, 'San Francisco', 'Portland'), (4, 'Denver', 'Helena'), (4, 'Phoenix', 'Denver'), (3, 'Salt Lake City', 'Denver'), (2, 'Washington DC', 'New York'), (5, 'Montreal', 'Sault St. Marie'), (2, 'Boston', 'New York'), (2, 'New York', 'Boston'), (3, 'Denver', 'Salt Lake City'), (6, 'Helena', 'Seattle'), (3, 'Nashville', 'Little Rock'), (5, 'Portland', 'San Francisco'), (3, 'Chicago', 'Pittsburgh'), (6, 'Duluth', 'Toronto'), (4, 'Calgary', 'Helena'), (3, 'Phoenix', 'Santa Fe'), (3, 'Calgary', 'Vancouver'), (5, 'Helena', 'Omaha'), (6, 'Calgary', 'Winnipeg'), (2, 'Raleigh', 'Atlanta'), (2, 'Saint Louis', 'Kansas City'), (2, 'Saint Louis', 'Little Rock'), (1, 'Raleigh', 'Charleston'), (6, 'El Paso', 'Houston'), (2, 'Oklahoma City', 'Dallas'), (3, 'Toronto', 'Montreal'), (6, 'Helena', 'Duluth'), (2, 'Omaha', 'Duluth'), (1, 'Dallas', 'Houston'), (4, 'Winnipeg', 'Duluth'), (3, 'Raleigh', 'Nashville'), (4, 'Atlanta', 'New Orleans'), (3, 'Phoenix', 'El Paso'), (3, 'Duluth', 'Chicago'), (2, 'Charleston', 'Atlanta'), (4, 'Pittsburgh', 'Nashville'), (2, 'Los Angeles', 'Phoenix'), (6, 'Duluth', 'Helena'), (4, 'Chicago', 'Omaha'), (6, 'New Orleans', 'Miami'), (2, 'Boston', 'Montreal'), (3, 'Los Angeles', 'San Francisco'), (3, 'Little Rock', 'New Orleans'), (2, 'Nashville', 'Saint Louis'), (3, 'Sault St. Marie', 'Duluth'), (1, 'Nashville', 'Atlanta'), (5, 'El Paso', 'Oklahoma City'), (2, 'New York', 'Washington DC')]\n"
     ]
    }
   ],
   "source": [
    "print(cities)\n",
    "\n",
    "print(roads)\n",
    "    \n",
    "# city corresponds the vertices in the kruskal implementation\n",
    "# roads corresponds to the edges in the kruskal implementation"
   ]
  },
  {
   "cell_type": "code",
   "execution_count": 13,
   "metadata": {
    "collapsed": false
   },
   "outputs": [
    {
     "name": "stdout",
     "output_type": "stream",
     "text": [
      "The optimal solution is:  ([('Duluth', 'Winnipeg'), ('Sault St. Marie', 'Toronto'), ('New York', 'Washington DC'), ('Denver', 'Salt Lake City'), ('Atlanta', 'Nashville'), ('Boston', 'New York'), ('Los Angeles', 'San Francisco'), ('Nashville', 'Saint Louis'), ('Boston', 'Montreal'), ('Portland', 'Seattle'), ('Atlanta', 'Charleston'), ('Dallas', 'Houston'), ('El Paso', 'Santa Fe'), ('Duluth', 'Omaha'), ('Houston', 'New Orleans'), ('New York', 'Pittsburgh'), ('Dallas', 'El Paso'), ('Denver', 'Helena'), ('Seattle', 'Vancouver'), ('Chicago', 'Saint Louis'), ('Los Angeles', 'Phoenix'), ('Dallas', 'Oklahoma City'), ('Kansas City', 'Saint Louis'), ('Las Vegas', 'Los Angeles'), ('Kansas City', 'Omaha'), ('Kansas City', 'Oklahoma City'), ('Dallas', 'Little Rock'), ('Charleston', 'Miami'), ('Denver', 'Santa Fe'), ('Calgary', 'Vancouver'), ('Calgary', 'Helena'), ('El Paso', 'Phoenix'), ('Duluth', 'Sault St. Marie'), ('Charleston', 'Raleigh'), ('Raleigh', 'Washington DC')], 79)\n"
     ]
    }
   ],
   "source": [
    "# compute here the MST for Ticket to Ride\n",
    "print('The optimal solution is: ',kruskal(cities, roads))"
   ]
  },
  {
   "cell_type": "markdown",
   "metadata": {},
   "source": [
    "## The travelling salesman problem\n",
    "\n",
    "The traveling salesman problem is a well-known problem in computer science. The goal is to find a tour in a graph with a minimal cost. This problem is NP-hard, there is no algorithm to solve this efficiently for large graphs."
   ]
  },
  {
   "cell_type": "markdown",
   "metadata": {},
   "source": [
    "The tour is represented as a dictionary, for each key-value pair a vertex and the associated next vertex in the tour."
   ]
  },
  {
   "cell_type": "markdown",
   "metadata": {},
   "source": [
    "Below are two heuristic algorithms to find a good tour."
   ]
  },
  {
   "cell_type": "markdown",
   "metadata": {},
   "source": [
    "### Nearest Neighbour\n",
    "\n",
    "The simplest algorithm, can be done in with a time complexity of $\\mathcal{O}(|V|^2)$.\n",
    "\n",
    "1. Select a random vertex.\n",
    "2. Find the nearest univisited vertex and add it to the path.\n",
    "3. Are there any unvisited vertices left? If yes, repeat step 2.\n",
    "4. Return to the first vertex."
   ]
  },
  {
   "cell_type": "markdown",
   "metadata": {},
   "source": [
    "### Greedy\n",
    "\n",
    "A greedy algorithm that gives a solution in $\\mathcal{O}(|V|^2\\log(|V|))$ time.\n",
    "\n",
    "1. Sort all edges\n",
    "2. Select the shortest edge and add it to the tour if it does not:\n",
    "    - creates a tour with less than $|V|$ vertices \n",
    "    - increases the degree of any of the vertices in the tour to more than two.\n",
    "3. Repeat step 2 until the tour has $|V|$ vertices."
   ]
  },
  {
   "cell_type": "markdown",
   "metadata": {},
   "source": [
    "**Assignment 2**\n",
    "\n",
    "1. Complete the functions `nearest_neighbour_tsa` and `greedy_tsa`. \n",
    "2. We have two benchmarks problems, one with 29 and one with 225 cities. For each problem the graph and coordinates of the cities are given. Give the **found optimal cost** and **running time** for the two algorithms.\n",
    "3. Make a plot of the best tour for each of the two benchmarks.\n",
    "4. Discuss how you can see on such a plot if the tour is optimal."
   ]
  },
  {
   "cell_type": "code",
   "execution_count": 45,
   "metadata": {
    "collapsed": true
   },
   "outputs": [],
   "source": [
    "def nearest_neighbour_tsa(graph, start='random'):\n",
    "    import random\n",
    "    \"\"\"\n",
    "    Nearest Neighbour heuristic for the travelling salesman problem\n",
    "    \n",
    "    Inputs:\n",
    "        - graph: the graph as an adjacency list\n",
    "        - start: the vertex to start\n",
    "        \n",
    "    Outputs:\n",
    "        - tour: the tour as a dictionary\n",
    "        - tour_cost: the cost of the tour\n",
    "    \n",
    "    \"\"\"\n",
    "    tour = {}\n",
    "    unvisited_cities = list(graph.keys())\n",
    "    \n",
    "    # Select a random vertex if no start is given.\n",
    "    if start == 'random':\n",
    "        start = random.sample(graph.keys(), 1)[0]\n",
    "    unvisited_cities.remove(start)\n",
    "    current = start\n",
    "    \n",
    "    # Keep track of the cost\n",
    "    tour_cost = 0\n",
    "    \n",
    "    # Until no more unvisited vertices are left.\n",
    "    while unvisited_cities != []:\n",
    "        # Find the nearest unvisited vertex and add it to the path.\n",
    "        sorted_neighbours = sorted(graph[current], key=lambda tup: tup[0])\n",
    "        for neighbour in sorted_neighbours:\n",
    "            if neighbour[1] in unvisited_cities:\n",
    "                tour[current] = neighbour[1]\n",
    "                tour_cost += neighbour[0]\n",
    "                unvisited_cities.remove(neighbour[1])\n",
    "                current = neighbour[1]\n",
    "                break\n",
    "                \n",
    "    # Return to the first vertex.\n",
    "    tour[current] = start\n",
    "    return tour, tour_cost"
   ]
  },
  {
   "cell_type": "code",
   "execution_count": 46,
   "metadata": {
    "collapsed": false
   },
   "outputs": [],
   "source": [
    "def greedy_tsa(graph):\n",
    "    \"\"\"\n",
    "    Greedy heuristic for the travelling salesman problem\n",
    "    \n",
    "    Inputs:\n",
    "        - graph: the graph as an adjacency list\n",
    "        \n",
    "    Outputs:\n",
    "        - tour: the tour as a dictionary\n",
    "        - tour_cost: the cost of the tour\n",
    "    \n",
    "    \"\"\"\n",
    "    cities = USF(graph.keys())\n",
    "    tour = []\n",
    "    tour_cost = 0\n",
    "    \n",
    "    # represent edges as list of tuples to sort easily    \n",
    "    edges = list()\n",
    "    for k, v in graph.items():\n",
    "        for i in v:\n",
    "            # Make sure they are not double in the list\n",
    "            if (i[0], i[1], k) not in edges:\n",
    "                edges.append((i[0], k, i[1]))\n",
    "    edges = sorted(edges)\n",
    "    \n",
    "    # Actual algorithm\n",
    "    # while there are still unvisited cities\n",
    "    while len(tour)<((len(graph.keys()))*2)-2:\n",
    "        # loop over sorted edges    \n",
    "        for i in edges:\n",
    "            # If they are not connected yet and the node degree is lower than 2\n",
    "            if (cities.find(i[1]) != cities.find(i[2])) and (tour.count(i[1])<2) and (tour.count(i[2])<2):\n",
    "                cities.union(i[1], i[2])\n",
    "                tour.append(i[1])\n",
    "                tour.append(i[2])\n",
    "                tour_cost += i[0]\n",
    "                edges.remove(i)\n",
    "                break\n",
    "            else:\n",
    "                continue        \n",
    "\n",
    "    # add the last step\n",
    "    for i in range(0, len(graph.keys())):\n",
    "        if tour.count(i)<2:\n",
    "            tour.append(i)\n",
    "    \n",
    "    # make it a dictionary and a tour\n",
    "    # now there are just edges, not in the right order \n",
    "    tour_dict = {}\n",
    "    sources = tour[::2]\n",
    "    targets = tour[1::2]\n",
    "    index = 0\n",
    "    while len(sources)>0:\n",
    "        key = sources[index]\n",
    "        value = targets[index]\n",
    "        tour_dict[key] = value\n",
    "        del sources[index]\n",
    "        del targets[index]\n",
    "        # find the new source in either of the two lists (sources or targets)\n",
    "        if value in sources and len(sources) > 0:\n",
    "            index = sources.index(value)\n",
    "        elif len(sources) > 0:\n",
    "            index = targets.index(value)\n",
    "            (sources[index], targets[index]) = (targets[index], sources[index])\n",
    "    \n",
    "    return tour_dict, tour_cost\n",
    "            \n",
    "            "
   ]
  },
  {
   "cell_type": "code",
   "execution_count": 23,
   "metadata": {
    "collapsed": false
   },
   "outputs": [],
   "source": [
    "# load coordinates and graph for the two benchmark algorithms\n",
    "from load_tsa import coordinates29, coordinates225, graph29, graph225"
   ]
  },
  {
   "cell_type": "code",
   "execution_count": 47,
   "metadata": {
    "collapsed": false
   },
   "outputs": [],
   "source": [
    "from timeit import Timer\n",
    "\n",
    "t_NN29 = Timer(lambda: nearest_neighbour_tsa(graph29))\n",
    "\n",
    "time29NN = t_NN29.timeit(number=10)\n",
    "\n",
    "t_NN225 = Timer(lambda: nearest_neighbour_tsa(graph225))\n",
    "\n",
    "time225NN = t_NN225.timeit(number=10)"
   ]
  },
  {
   "cell_type": "code",
   "execution_count": 48,
   "metadata": {
    "collapsed": true
   },
   "outputs": [],
   "source": [
    "(path29NN, cost29NN) = nearest_neighbour_tsa(graph29)\n",
    "(path225NN, cost225NN) = nearest_neighbour_tsa(graph225)"
   ]
  },
  {
   "cell_type": "code",
   "execution_count": 49,
   "metadata": {
    "collapsed": false
   },
   "outputs": [],
   "source": [
    "t_gr29 = Timer(lambda: greedy_tsa(graph29))\n",
    "\n",
    "time29gr = t_gr29.timeit(number=1)\n",
    "\n",
    "t_gr225 = Timer(lambda: greedy_tsa(graph225))\n",
    "\n",
    "time225gr = t_gr225.timeit(number=1)"
   ]
  },
  {
   "cell_type": "code",
   "execution_count": 50,
   "metadata": {
    "collapsed": false
   },
   "outputs": [],
   "source": [
    "(path29gr, cost29gr) = greedy_tsa(graph29)\n",
    "(path225gr, cost225gr) = greedy_tsa(graph225)"
   ]
  },
  {
   "cell_type": "code",
   "execution_count": 51,
   "metadata": {
    "collapsed": false
   },
   "outputs": [
    {
     "name": "stdout",
     "output_type": "stream",
     "text": [
      "The optimal cost for the nearest neighbour algorithm is 2049.0 for the graph with 29 nodes.\n",
      "For the graph with 225 nodes, it is  4623.862648\n",
      "For the greedy algorithm, this is  1971.0 for the 29 node graph and  4305.192289 for the 225 node graph.\n"
     ]
    }
   ],
   "source": [
    "print(\"The optimal cost for the nearest neighbour algorithm is\", cost29NN, \"for the graph with 29 nodes.\")\n",
    "print(\"For the graph with 225 nodes, it is \",cost225NN)\n",
    "\n",
    "print(\"For the greedy algorithm, this is \", cost29gr, \"for the 29 node graph and \",cost225gr,\"for the 225 node graph.\") \n"
   ]
  },
  {
   "cell_type": "markdown",
   "metadata": {},
   "source": [
    "For the nearest neighbour algorithm the result for optimal cost is at random since the algorithm can take any of the nodes as starting nodes. We could loop over all the nodes as startnode, but this would take a time n times bigger (with n the number of nodes). As it is also not written like that in the pseudocode, I did not implement this. "
   ]
  },
  {
   "cell_type": "code",
   "execution_count": 52,
   "metadata": {
    "collapsed": false
   },
   "outputs": [
    {
     "name": "stdout",
     "output_type": "stream",
     "text": [
      "The time needed for the nearest neighbour algorithm is 0.012043093572856378 second for the 29 node graph.\n",
      "For the 225 node graph it is 0.35530938073043217 seconds.\n",
      "The greedy algorithm takes 0.018804565838763665 seconds for the 29 node graph and 42.39792791542368 seconds for the 225 node graph.\n"
     ]
    }
   ],
   "source": [
    "print('The time needed for the nearest neighbour algorithm is', time29NN, 'second for the 29 node graph.')\n",
    "print('For the 225 node graph it is', time225NN, 'seconds.')\n",
    "print('The greedy algorithm takes', time29gr, 'seconds for the 29 node graph and', time225gr, 'seconds for the 225 node graph.')\n"
   ]
  },
  {
   "cell_type": "markdown",
   "metadata": {},
   "source": [
    "It shows us that the greedy algorithm is more likely to find the best solution. Or in any case, it finds a local optimal with a lower cost compared to the nearest neighbour algorithm. This happens because in the nearest neighbour algorithm, at each step the algorithm can only choose between edges that start at the current node. The algorithm really starts from one node and creates a circle without allowing previous steps to change. The number of options that we are looking for is thus a lot smaller compared to the greedy algorithm. In the greedy algorithm, we build up a set of edges without forcing any cycle to be followed yet untill the end when all edges are selected. This gives the algorithm more options to choose from and thus a better change to reach the real optimum. \n",
    "\n",
    "This fact also explains why the greedy algorithm needs significantly more time. "
   ]
  },
  {
   "cell_type": "code",
   "execution_count": 53,
   "metadata": {
    "collapsed": false
   },
   "outputs": [
    {
     "data": {
      "image/png": "[encoded data removed]",
      "text/plain": [
       "<matplotlib.figure.Figure at 0x8f2ca20>"
      ]
     },
     "metadata": {},
     "output_type": "display_data"
    }
   ],
   "source": [
    "# complete the assignments\n",
    "import matplotlib.pyplot as plt\n",
    "plt.plot(coordinates29[:,0], coordinates29[:,1], 'ro')\n",
    "plt.title('Optimal path 29 Nearest neighbour algorithm')\n",
    "for k, v in path29NN.items():\n",
    "    plt.plot([coordinates29[k,0], coordinates29[v,0]],[coordinates29[k,1], coordinates29[v,1]], 'b')  \n",
    "plt.show()"
   ]
  },
  {
   "cell_type": "code",
   "execution_count": 54,
   "metadata": {
    "collapsed": false
   },
   "outputs": [
    {
     "data": {
      "image/png": "[encoded data removed]",
      "text/plain": [
       "<matplotlib.figure.Figure at 0x8f2cf98>"
      ]
     },
     "metadata": {},
     "output_type": "display_data"
    }
   ],
   "source": [
    "plt.plot(coordinates29[:,0], coordinates29[:,1], 'ro')\n",
    "plt.title('Optimal path 29 greedy algorithm')\n",
    "for k, v in path29gr.items():\n",
    "    plt.plot([coordinates29[k,0], coordinates29[v,0]],[coordinates29[k,1], coordinates29[v,1]], 'b')  \n",
    "plt.show()"
   ]
  },
  {
   "cell_type": "code",
   "execution_count": 59,
   "metadata": {
    "collapsed": false
   },
   "outputs": [
    {
     "data": {
      "image/png": "[encoded data removed]",
      "text/plain": [
       "<matplotlib.figure.Figure at 0x8712b70>"
      ]
     },
     "metadata": {},
     "output_type": "display_data"
    }
   ],
   "source": [
    "plt.plot(coordinates225[:,0], coordinates225[:,1], 'ro')\n",
    "plt.title('Optimal path 225 Nearest neighbour algorithm')\n",
    "for k, v in path225NN.items():\n",
    "    plt.plot([coordinates225[k,0], coordinates225[v,0]],[coordinates225[k,1], coordinates225[v,1]], 'b')\n",
    "plt.show()"
   ]
  },
  {
   "cell_type": "code",
   "execution_count": 60,
   "metadata": {
    "collapsed": false
   },
   "outputs": [
    {
     "data": {
      "image/png": "[encoded data removed]",
      "text/plain": [
       "<matplotlib.figure.Figure at 0x8da9710>"
      ]
     },
     "metadata": {},
     "output_type": "display_data"
    }
   ],
   "source": [
    "plt.plot(coordinates225[:,0], coordinates225[:,1], 'ro')\n",
    "plt.title('Optimal path 225 greedy algorithm')\n",
    "for k, v in path225gr.items():\n",
    "    plt.plot([coordinates225[k,0], coordinates225[v,0]],[coordinates225[k,1], coordinates225[v,1]], 'b')\n",
    "plt.show()"
   ]
  },
  {
   "cell_type": "markdown",
   "metadata": {
    "collapsed": true
   },
   "source": [
    "Allthough it looks like some edges have more than degree 2 (lower right), if we extract the keys and values of the path-dictionary, none of the nodes appears more than one time, meaning that there is exactly one edge coming in and one edge going out. "
   ]
  },
  {
   "cell_type": "code",
   "execution_count": 64,
   "metadata": {
    "collapsed": false
   },
   "outputs": [],
   "source": [
    "for i in path225gr.keys():\n",
    "    if list(path225gr.keys()).count(i)>1:\n",
    "        print(i)\n",
    "for i in path225gr.values():\n",
    "    if list(path225gr.values()).count(i)>1:\n",
    "        print(i)\n",
    "\n",
    "        \n",
    "for i in path225NN.keys():\n",
    "    if list(path225NN.keys()).count(i)>1:\n",
    "        print(i)\n",
    "for i in path225NN.values():\n",
    "    if list(path225NN.values()).count(i)>1:\n",
    "        print(i)\n"
   ]
  },
  {
   "cell_type": "markdown",
   "metadata": {
    "collapsed": true
   },
   "source": [
    "Nothing is printed so none of the keys or values are found more than once. This means the path is actually a cycle with no cities visited more than once. The explanation could be that there are actually two nodes which are very close to each other on the graph. If we can't see the two nodes separatly, it looks as if there are 4 edges to one node, which are actually 2 edges for 2 nodes. "
   ]
  },
  {
   "cell_type": "markdown",
   "metadata": {},
   "source": [
    "If the weight of an edge corresponds to the distance between two edges, we can visualy score the path. If weight represents something else, this is not really possible. If the path does not zigzag too much, we could say that it is a good path. If the path jumps from one end to the other or zigzag a lot, the solution is probably not optimal. "
   ]
  }
 ],
 "metadata": {
  "anaconda-cloud": {},
  "kernelspec": {
   "display_name": "Python [default]",
   "language": "python",
   "name": "python3"
  },
  "language_info": {
   "codemirror_mode": {
    "name": "ipython",
    "version": 3
   },
   "file_extension": ".py",
   "mimetype": "text/x-python",
   "name": "python",
   "nbconvert_exporter": "python",
   "pygments_lexer": "ipython3",
   "version": "3.5.2"
  },
  "latex_envs": {
   "bibliofile": "biblio.bib",
   "cite_by": "apalike",
   "current_citInitial": 1,
   "eqLabelWithNumbers": true,
   "eqNumInitial": 0
  }
 },
 "nbformat": 4,
 "nbformat_minor": 0
}
