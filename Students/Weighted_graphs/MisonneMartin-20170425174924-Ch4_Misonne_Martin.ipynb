{
 "cells": [
  {
   "cell_type": "markdown",
   "metadata": {},
   "source": [
    "# Chapter 4: Minimum spanning trees"
   ]
  },
  {
   "cell_type": "code",
   "execution_count": 1,
   "metadata": {
    "collapsed": true
   },
   "outputs": [],
   "source": [
    "import numpy as np\n",
    "import pylab as pl\n",
    "from matplotlib import collections  as mc\n",
    "import random as rand"
   ]
  },
  {
   "cell_type": "markdown",
   "metadata": {},
   "source": [
    "In this chapter we will continue to study algorithms that process graphs. We will implement Kruskal's algorithm to construct the **minimum spanning tree** of a graph, a subgraph that efficiently connects all nodes."
   ]
  },
  {
   "cell_type": "markdown",
   "metadata": {},
   "source": [
    "## Trees in python\n",
    "\n",
    "A tree is an undirected graph where any two edges are connected by **exactly one path**. For example, consider the tree below.\n",
    "\n",
    "![A simple tree](Figures/example_tree.png)\n",
    "\n",
    "We can represent in python using dictionaries, as we did in the last chapter."
   ]
  },
  {
   "cell_type": "code",
   "execution_count": 2,
   "metadata": {
    "collapsed": true
   },
   "outputs": [],
   "source": [
    "tree_dict = {'A' : set(['D']), 'B' : set(['D']), 'C' : set(['D']),\n",
    "             'D' : set(['A', 'B', 'C', 'E']), 'E' : set(['D', 'F']), 'F' : set(['E'])}"
   ]
  },
  {
   "cell_type": "markdown",
   "metadata": {},
   "source": [
    "Though in this chapter, we prefer to represent the tree as a list (set) of links:"
   ]
  },
  {
   "cell_type": "code",
   "execution_count": 3,
   "metadata": {
    "collapsed": false
   },
   "outputs": [
    {
     "data": {
      "text/plain": [
       "[('A', 'D'),\n",
       " ('B', 'D'),\n",
       " ('C', 'D'),\n",
       " ('D', 'A'),\n",
       " ('D', 'E'),\n",
       " ('D', 'B'),\n",
       " ('D', 'C'),\n",
       " ('E', 'F'),\n",
       " ('E', 'D'),\n",
       " ('F', 'E')]"
      ]
     },
     "execution_count": 3,
     "metadata": {},
     "output_type": "execute_result"
    }
   ],
   "source": [
    "tree_links = [(node, neighbor) for node in tree_dict.keys() for neighbor in tree_dict[node]]\n",
    "tree_links"
   ]
  },
  {
   "cell_type": "markdown",
   "metadata": {},
   "source": [
    "If we choose one node as the **root** of the tree, we have exactly one path from this root to each of the other terminal nodes. This idea can applied recursively as follows: from this root, each neighboring is itself a root of a subtree. Each of these subtrees also consist of a root and possibly one or more subtrees. Hence we can also represent the tree as a nested sublist:\n",
    "\n",
    "```\n",
    "tree = [root, [subtree1], [subtree2],...]\n",
    "```\n",
    "\n",
    "For our example, we obtain when taking node D as a root: (see [here](http://interactivepython.org/courselib/static/pythonds/Trees/ListofListsRepresentation.html))"
   ]
  },
  {
   "cell_type": "code",
   "execution_count": 4,
   "metadata": {
    "collapsed": true
   },
   "outputs": [],
   "source": [
    "tree_list = ['D', ['A'], ['B'], ['C'], ['E', ['F']]]"
   ]
  },
  {
   "cell_type": "markdown",
   "metadata": {},
   "source": [
    "## Minimum spanning tree"
   ]
  },
  {
   "cell_type": "markdown",
   "metadata": {},
   "source": [
    "Suppose we have an undirected connected weighted graph $G$ as depicted below.\n",
    "\n",
    "![A weighted graph](Figures/graph.png)"
   ]
  },
  {
   "cell_type": "markdown",
   "metadata": {},
   "source": [
    "Weighted graphs can either be implemented as a set of weighted edges of as a dictionary."
   ]
  },
  {
   "cell_type": "code",
   "execution_count": 5,
   "metadata": {
    "collapsed": true
   },
   "outputs": [],
   "source": [
    "vertices = ['A', 'B', 'C', 'D', 'E', 'F', 'G']\n",
    "\n",
    "edges = set([(5, 'A', 'D'), (7, 'A', 'B'), (8, 'B', 'C'), (9, 'B', 'D'),\n",
    "         (7, 'B', 'E'), (5, 'C', 'E'), (15, 'D', 'E'), (6, 'F', 'D'), \n",
    "        (8, 'F', 'E'), (9, 'E', 'G'), (11, 'F', 'G')])"
   ]
  },
  {
   "cell_type": "code",
   "execution_count": 6,
   "metadata": {
    "collapsed": false
   },
   "outputs": [
    {
     "data": {
      "text/plain": [
       "{'A': {(5, 'D'), (7, 'B')},\n",
       " 'B': {(7, 'A'), (7, 'E'), (8, 'C'), (9, 'D')},\n",
       " 'C': {(5, 'E'), (8, 'B')},\n",
       " 'D': {(5, 'A'), (6, 'F'), (9, 'B'), (15, 'E')},\n",
       " 'E': {(5, 'C'), (7, 'B'), (8, 'F'), (9, 'G'), (15, 'D')},\n",
       " 'F': {(6, 'D'), (8, 'E'), (11, 'G')},\n",
       " 'G': {(9, 'E'), (11, 'F')}}"
      ]
     },
     "execution_count": 6,
     "metadata": {},
     "output_type": "execute_result"
    }
   ],
   "source": [
    "weighted_adj_list = {v : set([]) for v in vertices} #creates an empty set for each vertice\n",
    "\n",
    "for weight, vertex1, vertex2 in edges:\n",
    "    weighted_adj_list[vertex1].add((weight, vertex2))\n",
    "    weighted_adj_list[vertex2].add((weight, vertex1))  # undirected graph, in=outgoing edge\n",
    "\n",
    "weighted_adj_list"
   ]
  },
  {
   "cell_type": "markdown",
   "metadata": {},
   "source": [
    "For example, the nodes may represent cities and the weight of an edge may represent the cost of implementing a communication line between two cities. If we want to make communication possible between all cities, these should be a path between any two cities. A **spanning tree** is a subgraph of $G$ that is a tree which contains all nodes of $G$. The cost of the spanning tree is simply the sum of a the weights of the edges in this tree. Often, multiple spanning trees can be chosen from a connected graph. The **minimum spanning tree** is simply the spanning tree with the lowest cost.\n",
    "\n",
    "The figure below shows the minimum spanning tree for $G$ in green.\n",
    "\n",
    "![A weighted graph](Figures/min_spanning_tree.png)"
   ]
  },
  {
   "cell_type": "markdown",
   "metadata": {},
   "source": [
    "Minimum spanning trees have many applications:\n",
    "- design of computer-, telecommunication-, transportation- and other networks\n",
    "- hierachical clustering\n",
    "- image segmentation and feature extraction\n",
    "- phylogenetic analysis\n",
    "- construction of mazes"
   ]
  },
  {
   "cell_type": "markdown",
   "metadata": {},
   "source": [
    "## Disjoint-set data structure"
   ]
  },
  {
   "cell_type": "markdown",
   "metadata": {},
   "source": [
    "Implementing an algorithm for finding the minimum spanning tree is fairly straightforward. The only bottleneck is that the algorithm requires a **disjoint-set data structure** to keep track of a set partitioned in a number of disjoined subsets.\n",
    "\n",
    "For example, consider the following inital set of eight elements.\n",
    "\n",
    "![A set of eight elements](Figures/disjointset1.png)\n",
    "\n",
    "We decide to group elements A, B and C together in a subset and F and G in another subset.\n",
    "\n",
    "![The same set, but after grouping some elements together.](Figures/disjointset2.png)\n",
    "\n",
    "The disjoint-set data structure support the following operations:\n",
    "- **Find** check which subset an element is in. Is typically used to check whether two objects are in the same subset.\n",
    "- **Union** to merge two subsets into a single subset.\n",
    "\n",
    "A python implementation of a disjoint-set is available using an union-set forest. A simple example will make everything clear!"
   ]
  },
  {
   "cell_type": "code",
   "execution_count": 7,
   "metadata": {
    "collapsed": true
   },
   "outputs": [],
   "source": [
    "from union_set_forest import USF\n",
    "\n",
    "animals = ['mouse', 'bat', 'robin', 'trout', 'seagull', 'hummingbird',\n",
    "           'salmon', 'goldfish', 'hippopotamus', 'whale', 'sparrow']\n",
    "union_set_forest = USF(animals)\n",
    "\n",
    "# group mammals together\n",
    "union_set_forest.union('mouse', 'bat')\n",
    "union_set_forest.union('mouse', 'hippopotamus')\n",
    "union_set_forest.union('whale', 'bat')\n",
    "\n",
    "# group birds together\n",
    "union_set_forest.union('robin', 'seagull')\n",
    "union_set_forest.union('seagull', 'sparrow')\n",
    "union_set_forest.union('seagull', 'hummingbird')\n",
    "union_set_forest.union('robin', 'hummingbird')\n",
    "\n",
    "# group fishes together\n",
    "union_set_forest.union('goldfish', 'salmon')\n",
    "union_set_forest.union('trout', 'salmon')"
   ]
  },
  {
   "cell_type": "code",
   "execution_count": 8,
   "metadata": {
    "collapsed": false
   },
   "outputs": [
    {
     "name": "stdout",
     "output_type": "stream",
     "text": [
      "True\n"
     ]
    }
   ],
   "source": [
    "# mouse and whale in same subset?\n",
    "print(union_set_forest.find('mouse') == union_set_forest.find('whale'))"
   ]
  },
  {
   "cell_type": "code",
   "execution_count": 9,
   "metadata": {
    "collapsed": false
   },
   "outputs": [
    {
     "name": "stdout",
     "output_type": "stream",
     "text": [
      "False\n"
     ]
    }
   ],
   "source": [
    "# robin and salmon in the same subset?\n",
    "print(union_set_forest.find('robin') == union_set_forest.find('salmon'))"
   ]
  },
  {
   "cell_type": "markdown",
   "metadata": {},
   "source": [
    "## Kruskal's algorithm"
   ]
  },
  {
   "cell_type": "markdown",
   "metadata": {},
   "source": [
    "Kruskal's algorithm is a very simple algorithm to find the minimum spanning tree. The main idea is to start with an intial 'forest' of the induvidual nodes of the graph. In each step of the algorithm we add an edge with the smallest possible value that connects two disjoints trees in the forest. This process is continued until we have a single tree, which is a minimum spanning tree, or until all edges are considered. In the former case the algoritm returns the minimum spanning forest. "
   ]
  },
  {
   "cell_type": "markdown",
   "metadata": {},
   "source": [
    "### Example run of Kruskal's algorithm\n",
    "\n",
    "Consider the weighted graph again.\n",
    "\n",
    "![A weighted graph](Figures/graph.png)"
   ]
  },
  {
   "cell_type": "markdown",
   "metadata": {},
   "source": [
    "In a first step, the algorithm selects the edge with the lowest weight, here connecting nodes A and D. This edge has a weight of 5.\n",
    "\n",
    "![The first edge with lowest weight is selected.](Figures/K1.png)\n",
    "\n"
   ]
  },
  {
   "cell_type": "markdown",
   "metadata": {},
   "source": [
    "The next edge that is selected connects nodes C and E. This edge also has a weight of 5.\n",
    "\n",
    "![The second edge is selected.](Figures/K2.png)"
   ]
  },
  {
   "cell_type": "markdown",
   "metadata": {},
   "source": [
    "The edge between D and F is subsequently selected.\n",
    "\n",
    "![A third edge is added to the forest.](Figures/K3.png)\n",
    "\n"
   ]
  },
  {
   "cell_type": "markdown",
   "metadata": {},
   "source": [
    "In the current forest, the edge between B and D becomes inaccessible. Taking this edge would result in a cycle in our graph (B and D are already connected through A in our forest), so it is forbidden.\n",
    "\n",
    "![Now edge BD becomes forbidden, because adding it to our forest would result in a cycle.](Figures/K4.png)\n"
   ]
  },
  {
   "cell_type": "markdown",
   "metadata": {},
   "source": [
    "The next allowd edge with the lowest weight is between nodes B and E. Taking this edges connects two independent components in our forest and makes other edges forbidden.\n",
    "\n",
    "![We add edge BD, connecting two components in our forest.](Figures/K5.png)\n"
   ]
  },
  {
   "cell_type": "markdown",
   "metadata": {},
   "source": [
    "Finally, edge EG connects the last node G to our tree with the lowest cost.\n",
    "\n",
    "![Adding edge EG results in the minimum spanning tree.](Figures/K6.png)"
   ]
  },
  {
   "cell_type": "markdown",
   "metadata": {},
   "source": [
    "### Pseudocode of Kruskal's algorithm\n",
    "\n",
    "```\n",
    "function Kruskal(G):\n",
    "1 A := empty list\n",
    "2 for each node v in G\n",
    "3    MAKE-SET(v)\n",
    "4 for each edge (u, v) ordered by weight(u, v), increasing:\n",
    "5    if FIND-SET(u) ≠ FIND-SET(v):\n",
    "6       add (u, v) to A\n",
    "7       UNION(u, v)\n",
    "8 return A\n",
    "```"
   ]
  },
  {
   "cell_type": "markdown",
   "metadata": {},
   "source": [
    "### Time complexity of Kruskal's algorithm\n",
    "\n",
    "We assume that by using a disjoint set data structure, ```FIND``` and ```UNION``` can be performed using a time complexity of $\\mathcal{O}(1)$. Then the only cost is in sorting the edges by their weight, which can be done with a time complexity of $\\mathcal{O}(|E| \\log(|E|))$, which is the time complexity of generating the minimum spanning tree using this algorithm."
   ]
  },
  {
   "cell_type": "markdown",
   "metadata": {},
   "source": [
    "**Assignment 1: completing Kruskal's algorithm**\n",
    "\n",
    "1. Complete the code for Kruskals algorithm below. Test the code on the example network given above.\n",
    "2. Ticket to Ride is a fun boardgame in which you have to connect trains to several important cities in the United States. Load the vertices (cities) and edges (roads) from the file `ticket_to_ride.py`. Compute a minimum spanning tree.\n",
    "\n",
    "![The map of Ticket to Ride.](Figures/TtRmap.jpg)"
   ]
  },
  {
   "cell_type": "code",
   "execution_count": 10,
   "metadata": {
    "collapsed": false
   },
   "outputs": [],
   "source": [
    "def kruskal(vertices, edges):\n",
    "    \"\"\"\n",
    "    Kruskal's algorithm for finding a minimum spanning tree\n",
    "    Input :\n",
    "        - vertices : a set of the vertices of the graph\n",
    "        - edges : a list of weighted edges (e.g. (0.7, 'A', 'B')) for an\n",
    "                    edge from node A to node B with weigth 0.7\n",
    "    Output:\n",
    "        a minumum spanning tree represented as a list of edges\n",
    "    \"\"\"\n",
    "    edges = sorted(edges, key = lambda x: x[0]) #sort edges by incerasing weight\n",
    "    vertices_set = USF(vertices)\n",
    "    cost = 0\n",
    "    forest = list()\n",
    "    for w, v1, v2 in edges:\n",
    "        if vertices_set.find(v1) != vertices_set.find(v2):\n",
    "            forest.append((v1, v2))\n",
    "            vertices_set.union(v1, v2)  \n",
    "            cost += w\n",
    "    print(\"cost of the forest: \", cost)\n",
    "    return forest"
   ]
  },
  {
   "cell_type": "code",
   "execution_count": 11,
   "metadata": {
    "collapsed": false
   },
   "outputs": [
    {
     "name": "stdout",
     "output_type": "stream",
     "text": [
      "cost of the forest:  39\n",
      "[('A', 'D'), ('C', 'E'), ('F', 'D'), ('A', 'B'), ('B', 'E'), ('E', 'G')]\n"
     ]
    }
   ],
   "source": [
    "vertices = ['A', 'B', 'C', 'D', 'E', 'F', 'G']\n",
    "edges = [(5, 'A', 'D'), (7, 'A', 'B'), (8, 'B', 'C'), (9, 'B', 'D'),\n",
    "         (7, 'B', 'E'), (5, 'C', 'E'), (15, 'D', 'E'), (6, 'F', 'D'), \n",
    "        (8, 'F', 'E'), (9, 'E', 'G'), (11, 'F', 'G')]\n",
    "\n",
    "print(kruskal(vertices, edges))"
   ]
  },
  {
   "cell_type": "code",
   "execution_count": 12,
   "metadata": {
    "collapsed": true
   },
   "outputs": [],
   "source": [
    "from ticket_to_ride import vertices as cities\n",
    "from ticket_to_ride import edges as roads"
   ]
  },
  {
   "cell_type": "code",
   "execution_count": 13,
   "metadata": {
    "collapsed": false,
    "scrolled": true
   },
   "outputs": [
    {
     "name": "stdout",
     "output_type": "stream",
     "text": [
      "Atlanta\n",
      "Boston\n",
      "Calgary\n",
      "Charleston\n",
      "Chicago\n",
      "Dallas\n",
      "Denver\n",
      "Duluth\n",
      "El Paso\n",
      "Helena\n",
      "Houston\n",
      "Kansas City\n",
      "Las Vegas\n",
      "Little Rock\n",
      "Los Angeles\n",
      "Miami\n",
      "Montreal\n",
      "Nashville\n",
      "New Orleans\n",
      "New York\n",
      "Oklahoma City\n",
      "Omaha\n",
      "Phoenix\n",
      "Pittsburgh\n",
      "Portland\n",
      "Raleigh\n",
      "Saint Louis\n",
      "Salt Lake City\n",
      "San Francisco\n",
      "Santa Fe\n",
      "Sault St. Marie\n",
      "Seattle\n",
      "Toronto\n",
      "Vancouver\n",
      "Washington DC\n",
      "Winnipeg\n"
     ]
    }
   ],
   "source": [
    "for city in cities:\n",
    "    print(city)"
   ]
  },
  {
   "cell_type": "code",
   "execution_count": 14,
   "metadata": {
    "collapsed": false
   },
   "outputs": [
    {
     "name": "stdout",
     "output_type": "stream",
     "text": [
      "cost of the forest:  79\n",
      "[('Charleston', 'Raleigh'), ('Dallas', 'Houston'), ('Atlanta', 'Nashville'), ('Omaha', 'Kansas City'), ('Vancouver', 'Seattle'), ('Portland', 'Seattle'), ('Dallas', 'Oklahoma City'), ('Sault St. Marie', 'Toronto'), ('Saint Louis', 'Kansas City'), ('Santa Fe', 'El Paso'), ('Nashville', 'Saint Louis'), ('Charleston', 'Atlanta'), ('Chicago', 'Saint Louis'), ('Oklahoma City', 'Little Rock'), ('Santa Fe', 'Denver'), ('Boston', 'Montreal'), ('Omaha', 'Duluth'), ('Los Angeles', 'Phoenix'), ('Oklahoma City', 'Kansas City'), ('Raleigh', 'Washington DC'), ('Houston', 'New Orleans'), ('Boston', 'New York'), ('Los Angeles', 'Las Vegas'), ('New York', 'Pittsburgh'), ('Washington DC', 'New York'), ('Denver', 'Salt Lake City'), ('Phoenix', 'El Paso'), ('Vancouver', 'Calgary'), ('Toronto', 'Montreal'), ('San Francisco', 'Los Angeles'), ('Denver', 'Kansas City'), ('Denver', 'Helena'), ('Charleston', 'Miami'), ('Winnipeg', 'Duluth'), ('Calgary', 'Helena')]\n"
     ]
    }
   ],
   "source": [
    "# compute here the MST for Ticket to Ride\n",
    "print(kruskal(cities, roads))"
   ]
  },
  {
   "cell_type": "markdown",
   "metadata": {},
   "source": [
    "## The travelling salesman problem\n",
    "\n",
    "The traveling salesman problem is a well-known problem in computer science. The goal is to find a tour in a graph with a minimal cost. This problem is NP-hard, there is no algorithm to solve this efficiently for large graphs."
   ]
  },
  {
   "cell_type": "markdown",
   "metadata": {},
   "source": [
    "The tour is represented as a dictionary, for each key-value pair a vertex and the associated next vertex in the tour."
   ]
  },
  {
   "cell_type": "markdown",
   "metadata": {},
   "source": [
    "Below are two heuristic algorithms to find a good tour."
   ]
  },
  {
   "cell_type": "markdown",
   "metadata": {},
   "source": [
    "### Nearest Neighbour\n",
    "\n",
    "The simplest algorithm, can be done in with a time complexity of $\\mathcal{O}(|V|^2)$.\n",
    "\n",
    "1. Select a random vertex.\n",
    "2. Find the nearest univisited vertex and add it to the path.\n",
    "3. Are there any unvisited vertices left? If yes, repeat step 2.\n",
    "4. Return to the first vertex."
   ]
  },
  {
   "cell_type": "markdown",
   "metadata": {},
   "source": [
    "### Greedy\n",
    "\n",
    "A greedy algorithm that gives a solution in $\\mathcal{O}(|V|^2\\log(|V|))$ time.\n",
    "\n",
    "1. Sort all edges\n",
    "2. Select the shortest edge and add it to the tour if it does not:\n",
    "    - creates a tour with less than $|V|$ vertices \n",
    "    - increases the degree of any of the vertices in the tour to more than two.\n",
    "3. Repeat step 2 until the tour has $|V|$ vertices."
   ]
  },
  {
   "cell_type": "markdown",
   "metadata": {},
   "source": [
    "**Assignment 2**\n",
    "\n",
    "1. Complete the functions `nearest_neighbour_tsa` and `greedy_tsa`. \n",
    "2. We have two benchmarks problems, one with 29 and one with 225 cities. For each problem the graph and coordinates of the cities are given. Give the **found optimal cost** and **running time** for the two algorithms.\n",
    "3. Make a plot of the best tour for each of the two benchmarks.\n",
    "4. Discuss how you can see on such a plot if the tour is optimal."
   ]
  },
  {
   "cell_type": "code",
   "execution_count": 15,
   "metadata": {
    "collapsed": false
   },
   "outputs": [],
   "source": [
    "#1. Complete function\n",
    "def nearest_neighbour_tsa(graph, start):\n",
    "    first = start\n",
    "    tour = dict()\n",
    "    tour_cost = 0\n",
    "    unvisited = set(graph.keys())\n",
    "    while len(unvisited) != 0:\n",
    "        unvisited.remove(start)\n",
    "        vertices = sorted(graph[start], key = lambda x: x[0])\n",
    "        for w, v in vertices:\n",
    "            if v in unvisited:\n",
    "                tour[start] = v\n",
    "                tour_cost += w\n",
    "                start = v\n",
    "                break\n",
    "    tour[start] = first\n",
    "    return tour, tour_cost"
   ]
  },
  {
   "cell_type": "code",
   "execution_count": 16,
   "metadata": {
    "collapsed": false
   },
   "outputs": [],
   "source": [
    "def greedy_tsa(graph):\n",
    "    tour = dict()\n",
    "    tour_cost = 0\n",
    "    all_nodes = USF(graph.keys())\n",
    "    edges = set((w, u, v) for u in list(graph.keys()) for w, v in graph[u])\n",
    "    edges = sorted(edges)\n",
    "    for w, v1, v2 in edges:\n",
    "        if v1 not in tour:\n",
    "            tour[v1] = list()\n",
    "        if v2 not in tour:\n",
    "            tour[v2] = list()\n",
    "        if all_nodes.find(v1) != all_nodes.find(v2):\n",
    "            degreev1 = len(tour[v1])\n",
    "            degreev2 = len(tour[v2])\n",
    "            if degreev1 != 2 and degreev2 != 2:\n",
    "                tour[v1].append(v2)\n",
    "                tour[v2].append(v1)\n",
    "                all_nodes.union(v1, v2)\n",
    "                tour_cost += w\n",
    "    tobind = [v for v in tour if len(tour[v]) == 1]\n",
    "    v1 = tobind[0]\n",
    "    v2 = tobind[1]\n",
    "    tour[v1].append(v2)\n",
    "    tour[v2].append(v1)\n",
    "    return tour, tour_cost"
   ]
  },
  {
   "cell_type": "code",
   "execution_count": 17,
   "metadata": {
    "collapsed": false
   },
   "outputs": [],
   "source": [
    "#Function to plot\n",
    "def plot_tsp(tour, coordinates, title='Solution to the TSP', opt_start = False):\n",
    "    lines = list()\n",
    "    for a, b in tour.items():\n",
    "        if type(b) == list:\n",
    "            for v in b:\n",
    "                lines.append([tuple(coordinates[a]), tuple(coordinates[v])])\n",
    "        else:\n",
    "            lines.append([tuple(coordinates[a]), tuple(coordinates[b])])\n",
    "    lc = mc.LineCollection(lines, linewidths=2)\n",
    "    fig, ax = pl.subplots()\n",
    "    ax.add_collection(lc)\n",
    "    ax.autoscale()\n",
    "    ax.margins(0.1)\n",
    "    x= [u[0] for u in coordinates]\n",
    "    y = [u[1] for u in coordinates]\n",
    "    tsp_plot = pl.scatter(x, y, alpha=0.5)\n",
    "    if opt_start is not False:\n",
    "        a = coordinates[opt_start][0]\n",
    "        b = coordinates[opt_start][1]\n",
    "        pl.scatter(a, b, color =\"r\", alpha = 0.5)\n",
    "    pl.title(title)\n",
    "    pl.show(tsp_plot)\n",
    "    pl.clf()"
   ]
  },
  {
   "cell_type": "code",
   "execution_count": 18,
   "metadata": {
    "collapsed": false
   },
   "outputs": [],
   "source": [
    "# load coordinates and graph for the two benchmark algorithms\n",
    "from load_tsa import coordinates29, coordinates225, graph29, graph225"
   ]
  },
  {
   "cell_type": "code",
   "execution_count": 19,
   "metadata": {
    "collapsed": false,
    "scrolled": true
   },
   "outputs": [],
   "source": [
    "#2. Find optimal cost and running time for the two algorithms.\n",
    "#graph29 -> Nearest-Neighbor-tsa:\n",
    "import time\n",
    "i=0\n",
    "timesN29 = list()\n",
    "for start in graph29:\n",
    "    begin = time.time()\n",
    "    tour29, cost29 = nearest_neighbour_tsa(graph29, start)\n",
    "    end = time.time()\n",
    "    if end-begin != 0:\n",
    "        timesN29.append(end-begin)\n",
    "    if i == 0:\n",
    "        opt_tour29 = tour29\n",
    "        opt_cost29 = cost29\n",
    "        i = 1\n",
    "    else:\n",
    "        if cost29 < opt_cost29:\n",
    "            opt_tour29 = tour29\n",
    "            opt_cost29 = cost29\n",
    "            opt_start29 = start\n",
    "\n",
    "begin = time.time()\n",
    "greed29, greedcost29 = greedy_tsa(graph29) \n",
    "end = time.time()\n",
    "timesG29 = end-begin\n",
    "\n",
    "#graph225\n",
    "i = 0\n",
    "timesN225 = list()\n",
    "for start in graph225:\n",
    "    begin = time.time()\n",
    "    tour225, cost225 = nearest_neighbour_tsa(graph225, start)\n",
    "    end = time.time()\n",
    "    if end-begin != 0:\n",
    "        timesN225.append(end-begin)\n",
    "    if i == 0:\n",
    "        opt_tour225= tour225\n",
    "        opt_cost225 = cost225\n",
    "        i = 1\n",
    "    else:\n",
    "        if cost225 < opt_cost225:\n",
    "            opt_tour225 = tour225\n",
    "            opt_cost225 = cost225\n",
    "            opt_start225 = start \n",
    "\n",
    "begin = time.time()\n",
    "greed225, greedcost225 = greedy_tsa(graph225) \n",
    "end = time.time()\n",
    "timesG225 = end-begin"
   ]
  },
  {
   "cell_type": "code",
   "execution_count": 20,
   "metadata": {
    "collapsed": false,
    "scrolled": true
   },
   "outputs": [
    {
     "name": "stdout",
     "output_type": "stream",
     "text": [
      "Nearest-Neighbor-algorithm on graph 29\n",
      "\t Optimal tour: \n",
      " {22: 26, 26: 23, 23: 7, 7: 0, 0: 27, 27: 5, 5: 11, 11: 8, 8: 4, 4: 25, 25: 28, 28: 2, 2: 1, 1: 20, 20: 19, 19: 9, 9: 3, 3: 14, 14: 17, 17: 13, 13: 21, 21: 16, 16: 10, 10: 18, 18: 15, 15: 12, 12: 24, 24: 6, 6: 22} \n",
      "\t corresponding cost:\n",
      "  1966.0 \n",
      "\n",
      "\n",
      "Greedy-algorithm on graph 29\n",
      "\t 'Optimal' tour: \n",
      " {9: [19, 3], 19: [9, 1], 13: [17, 21], 17: [13, 14], 3: [14, 9], 14: [3, 17], 25: [28, 4], 28: [25, 2], 23: [26, 15], 26: [23, 7], 1: [20, 19], 20: [1, 0], 7: [26, 22], 21: [13, 16], 0: [27, 20], 27: [0, 5], 4: [8, 25], 8: [4, 11], 5: [11, 27], 11: [5, 8], 15: [23, 18], 18: [15, 24], 12: [10, 22], 16: [21, 10], 24: [18, 6], 2: [28, 6], 10: [16, 12], 22: [7, 12], 6: [24, 2]} \n",
      "\t corresponding cost:\n",
      "  1971.0 \n",
      "\n",
      "Nearest-Neighbor-algorithm on graph 225\n",
      "\t Optimal tour: \n",
      " {199: 0, 0: 2, 2: 197, 197: 3, 3: 196, 196: 4, 4: 5, 5: 6, 6: 7, 7: 8, 8: 9, 9: 10, 10: 11, 11: 12, 12: 13, 13: 14, 14: 15, 15: 16, 16: 19, 19: 202, 202: 18, 18: 17, 17: 21, 21: 20, 20: 22, 22: 23, 23: 207, 207: 24, 24: 25, 25: 33, 33: 32, 32: 34, 34: 29, 29: 201, 201: 205, 205: 30, 30: 215, 215: 218, 218: 216, 216: 76, 76: 77, 77: 78, 78: 79, 79: 80, 80: 94, 94: 208, 208: 93, 93: 92, 92: 95, 95: 96, 96: 97, 97: 98, 98: 99, 99: 100, 100: 101, 101: 102, 102: 103, 103: 219, 219: 104, 104: 105, 105: 106, 106: 107, 107: 108, 108: 109, 109: 110, 110: 111, 111: 112, 112: 113, 113: 114, 114: 222, 222: 115, 115: 116, 116: 186, 186: 117, 117: 118, 118: 185, 185: 184, 184: 119, 119: 174, 174: 120, 120: 121, 121: 122, 122: 123, 123: 124, 124: 125, 125: 126, 126: 127, 127: 128, 128: 221, 221: 129, 129: 210, 210: 130, 130: 85, 85: 84, 84: 83, 83: 82, 82: 81, 81: 220, 220: 91, 91: 90, 90: 89, 89: 86, 86: 209, 209: 87, 87: 88, 88: 66, 66: 65, 65: 64, 64: 63, 63: 62, 62: 61, 61: 60, 60: 59, 59: 58, 58: 57, 57: 56, 56: 50, 50: 48, 48: 206, 206: 1, 1: 46, 46: 224, 224: 189, 189: 132, 132: 198, 198: 223, 223: 191, 191: 195, 195: 192, 192: 217, 217: 44, 44: 47, 47: 45, 45: 193, 193: 194, 194: 42, 42: 43, 43: 41, 41: 40, 40: 39, 39: 38, 38: 37, 37: 36, 36: 35, 35: 31, 31: 28, 28: 27, 27: 203, 203: 75, 75: 74, 74: 73, 73: 72, 72: 71, 71: 70, 70: 69, 69: 68, 68: 67, 67: 53, 53: 52, 52: 51, 51: 54, 54: 55, 55: 49, 49: 190, 190: 204, 204: 188, 188: 26, 26: 187, 187: 183, 183: 181, 181: 172, 172: 180, 180: 173, 173: 179, 179: 178, 178: 175, 175: 176, 176: 177, 177: 171, 171: 170, 170: 169, 169: 168, 168: 167, 167: 211, 211: 213, 213: 150, 150: 149, 149: 148, 148: 151, 151: 152, 152: 153, 153: 154, 154: 155, 155: 156, 156: 143, 143: 142, 142: 200, 200: 141, 141: 140, 140: 139, 139: 138, 138: 137, 137: 136, 136: 135, 135: 182, 182: 134, 134: 133, 133: 214, 214: 163, 163: 164, 164: 165, 165: 166, 166: 212, 212: 157, 157: 162, 162: 161, 161: 160, 160: 159, 159: 158, 158: 145, 145: 146, 146: 147, 147: 144, 144: 131, 131: 199} \n",
      "\t corresponding cost:\n",
      "  4380.673835 \n",
      "\n",
      "\n",
      "Greedy-algorithm on graph 225\n",
      "\t 'Optimal' tour: \n",
      " {29: [201, 28], 201: [29, 205], 189: [224, 132], 224: [189, 46], 27: [203, 28], 203: [27, 35], 54: [55, 51], 55: [54, 56], 57: [58, 53], 58: [57, 59], 59: [60, 58], 60: [59, 61], 70: [71, 69], 71: [70, 72], 72: [71, 73], 90: [91, 89], 91: [90, 92], 103: [219, 102], 219: [103, 104], 106: [107, 105], 107: [106, 108], 108: [107, 109], 137: [138, 136], 138: [137, 139], 139: [138, 140], 145: [146, 144], 146: [145, 147], 153: [154, 152], 154: [153, 155], 159: [160, 158], 160: [159, 161], 161: [160, 162], 216: [218, 76], 218: [216, 215], 14: [15, 13], 15: [14, 16], 28: [29, 27], 32: [33, 34], 33: [32, 25], 34: [32, 31], 46: [224, 1], 67: [68, 66], 68: [67, 69], 94: [208, 79], 208: [94, 93], 102: [103, 101], 112: [113, 111], 113: [112, 114], 152: [153, 147], 205: [201, 30], 215: [218, 30], 48: [206, 50], 206: [48, 1], 198: [223, 132], 223: [198, 47], 132: [198, 189], 192: [217, 195], 217: [192, 44], 50: [48, 56], 114: [222, 113], 222: [114, 115], 115: [222, 116], 119: [174, 184], 174: [119, 120], 129: [210, 221], 210: [129, 130], 191: [195, 190], 195: [191, 192], 74: [75, 73], 75: [74, 31], 76: [77, 216], 77: [76, 78], 79: [80, 94], 80: [79, 220], 81: [82, 88], 82: [81, 83], 120: [174, 121], 130: [210, 131], 211: [213, 167], 213: [211, 150], 44: [47, 217], 47: [44, 223], 92: [93, 91], 93: [92, 208], 95: [96, 78], 221: [129, 128], 1: [206, 46], 56: [50, 55], 16: [15, 19], 19: [202, 16], 202: [19, 18], 23: [207, 22], 207: [23, 24], 61: [62, 60], 62: [61, 63], 63: [62, 64], 64: [65, 63], 65: [64, 66], 66: [65, 67], 69: [70, 68], 83: [82, 84], 84: [83, 85], 89: [90, 86], 96: [95, 97], 97: [98, 96], 98: [97, 99], 99: [98, 100], 100: [101, 99], 101: [100, 102], 104: [105, 219], 105: [104, 106], 110: [111, 109], 111: [110, 112], 128: [221, 127], 135: [136, 182], 136: [135, 137], 182: [135, 134], 140: [141, 139], 141: [140, 200], 142: [143, 200], 143: [142, 156], 147: [146, 152], 148: [151, 149], 151: [148, 166], 149: [150, 148], 150: [149, 213], 155: [154, 156], 156: [155, 143], 157: [212, 162], 212: [157, 131], 158: [159, 144], 190: [191, 204], 0: [199, 2], 199: [0, 220], 5: [6, 4], 6: [5, 7], 13: [14, 12], 18: [202, 17], 24: [207, 25], 30: [205, 215], 45: [193, 43], 193: [45, 194], 73: [74, 72], 78: [77, 95], 85: [84, 209], 86: [209, 89], 209: [86, 85], 87: [88, 183], 88: [87, 81], 117: [118, 186], 118: [117, 185], 133: [214, 134], 214: [133, 163], 134: [182, 133], 162: [157, 161], 164: [165, 163], 165: [164, 166], 176: [177, 175], 177: [176, 183], 188: [204, 26], 204: [188, 190], 116: [186, 115], 186: [116, 117], 2: [197, 0], 197: [2, 3], 3: [196, 197], 196: [3, 4], 185: [118, 184], 172: [180, 181], 180: [172, 173], 173: [179, 180], 179: [173, 178], 184: [119, 185], 175: [178, 176], 178: [175, 179], 49: [187, 194], 51: [54, 52], 52: [53, 51], 53: [52, 57], 26: [187, 188], 187: [26, 49], 167: [211, 168], 166: [165, 151], 127: [128, 126], 168: [167, 169], 183: [177, 87], 181: [172, 171], 220: [80, 199], 4: [5, 196], 7: [6, 8], 12: [13, 11], 25: [24, 33], 31: [34, 75], 35: [36, 203], 37: [38, 36], 38: [37, 39], 43: [45, 42], 121: [120, 122], 125: [126, 124], 126: [125, 127], 131: [130, 212], 200: [142, 141], 163: [214, 164], 171: [170, 181], 10: [11, 9], 11: [10, 12], 17: [18, 20], 22: [23, 21], 36: [35, 37], 39: [40, 38], 40: [39, 41], 41: [42, 40], 42: [41, 43], 109: [110, 108], 122: [121, 123], 123: [122, 124], 144: [145, 158], 169: [168, 170], 170: [169, 171], 194: [193, 49], 21: [20, 22], 8: [7, 9], 9: [8, 10], 20: [21, 17], 124: [123, 125]} \n",
      "\t corresponding cost:\n",
      "  4305.192289 \n",
      "\n"
     ]
    }
   ],
   "source": [
    "#Results\n",
    "print(\"Nearest-Neighbor-algorithm on graph 29\")\n",
    "print(\"\\t Optimal tour: \\n\",opt_tour29,\"\\n\\t corresponding cost:\\n \", opt_cost29, \"\\n\")\n",
    "print(\"\\nGreedy-algorithm on graph 29\")\n",
    "print(\"\\t 'Optimal' tour: \\n\",greed29,\"\\n\\t corresponding cost:\\n \", greedcost29, \"\\n\")\n",
    "\n",
    "print(\"Nearest-Neighbor-algorithm on graph 225\")\n",
    "print(\"\\t Optimal tour: \\n\",opt_tour225,\"\\n\\t corresponding cost:\\n \", opt_cost225, \"\\n\")\n",
    "print(\"\\nGreedy-algorithm on graph 225\")\n",
    "print(\"\\t 'Optimal' tour: \\n\",greed225,\"\\n\\t corresponding cost:\\n \", greedcost225, \"\\n\")    "
   ]
  },
  {
   "cell_type": "code",
   "execution_count": 21,
   "metadata": {
    "collapsed": false
   },
   "outputs": [
    {
     "name": "stdout",
     "output_type": "stream",
     "text": [
      "Average time for Nearest Neighbor algorithm on graph29:\n",
      "\t 0.00100265608894 \n",
      "\n",
      "Time for greedy algorithm on graph29:\n",
      "\t 0.003007173538208008\n",
      "\t\t Ratio between Greedy and Nearest Neighbor algorithm is:\n",
      "\t\t\t 2.99920737668 \n",
      "\n",
      "\n",
      "Average time for Nearest Neighbor algorithm on graph225:\n",
      "\t 0.0224194060432 \n",
      "\n",
      "Time for greedy algorithm on graph225:\n",
      "\t 0.17148947715759277\n",
      "\t\t Ratio between Greedy and Nearest Neighbor algorithm is:\n",
      "\t\t\t 7.64915345337\n"
     ]
    }
   ],
   "source": [
    "#Time Reults\n",
    "\n",
    "print(\"Average time for Nearest Neighbor algorithm on graph29:\\n\\t\",np.mean(timesN29),\"\\n\")\n",
    "print(\"Time for greedy algorithm on graph29:\\n\\t\",timesG29)\n",
    "print(\"\\t\\t Ratio between Greedy and Nearest Neighbor algorithm is:\\n\\t\\t\\t\", timesG29/np.mean(timesN29),\"\\n\\n\")\n",
    "\n",
    "print(\"Average time for Nearest Neighbor algorithm on graph225:\\n\\t\",np.mean(timesN225),\"\\n\")\n",
    "print(\"Time for greedy algorithm on graph225:\\n\\t\",timesG225)\n",
    "print(\"\\t\\t Ratio between Greedy and Nearest Neighbor algorithm is:\\n\\t\\t\\t\", timesG225/np.mean(timesN225))"
   ]
  },
  {
   "cell_type": "code",
   "execution_count": 22,
   "metadata": {
    "collapsed": false
   },
   "outputs": [
    {
     "data": {
      "image/png": "[encoded data removed]",
      "text/plain": [
       "<matplotlib.figure.Figure at 0x1cc7c2034a8>"
      ]
     },
     "metadata": {},
     "output_type": "display_data"
    },
    {
     "data": {
      "text/plain": [
       "<matplotlib.figure.Figure at 0x1cc00f8f668>"
      ]
     },
     "metadata": {},
     "output_type": "display_data"
    },
    {
     "data": {
      "image/png": "[encoded data removed]",
      "text/plain": [
       "<matplotlib.figure.Figure at 0x1cc00e4e588>"
      ]
     },
     "metadata": {},
     "output_type": "display_data"
    },
    {
     "data": {
      "text/plain": [
       "<matplotlib.figure.Figure at 0x1cc00c91e80>"
      ]
     },
     "metadata": {},
     "output_type": "display_data"
    },
    {
     "data": {
      "image/png": "[encoded data removed]",
      "text/plain": [
       "<matplotlib.figure.Figure at 0x1cc00e12e10>"
      ]
     },
     "metadata": {},
     "output_type": "display_data"
    },
    {
     "data": {
      "text/plain": [
       "<matplotlib.figure.Figure at 0x1cc00d017f0>"
      ]
     },
     "metadata": {},
     "output_type": "display_data"
    },
    {
     "data": {
      "image/png": "[encoded data removed]",
      "text/plain": [
       "<matplotlib.figure.Figure at 0x1cc00cf0438>"
      ]
     },
     "metadata": {},
     "output_type": "display_data"
    }
   ],
   "source": [
    "plot_tsp(greed29, coordinates29, title='Solution to the TSP for graph29 - GREEDY')\n",
    "plot_tsp(opt_tour29, coordinates29, title='Solution to the TSP for graph29 - Nearest Neighbour', opt_start = opt_start29)\n",
    "plot_tsp(greed225, coordinates225, title='Solution to the TSP for graph225 - GREEDY')\n",
    "plot_tsp(opt_tour225, coordinates225, title='Solution to the TSP for graph225 - Nearest Neighbour', opt_start = opt_start225)"
   ]
  },
  {
   "cell_type": "markdown",
   "metadata": {
    "collapsed": true
   },
   "source": [
    "#How to check on the graph is we have the optimal solution?\n",
    "\n",
    "If we see that the lengths of lasts steps in the tour are similar to the lengths of the firsts. This is true in the case that the distribution of the distances between a vertex and its neighbors is similar from vertex to vertex. In this case, if vertices need to be connected with a neighbor that is anormaly far from it, this means that the algorithm took the wrong decision(/added the vertex resulting in a non-optimal tour) in an earlier step.\n",
    "\n",
    "Considering graph 29: we can see than the length of the last step (beside de red dot) is similar to the rest of the steps for the nearest-neighbour algorithm, Therefore, it is likely that this is the optimal tour. However, the greedy algorithm gives a very long step at the end of the tour, crossing the pot from a corner to another. Indeed, this tour is longer and is certainly not optimal.\n",
    "\n",
    "Considering the graph 225: We can see that the 2 last steps (beside the red dot) are of anormal length for the NN algorithm while only the last step is anormal for the greedy algorithm. Therefore, we can think that the greedy algorithm performs better on graph225. This if indeed the case, the cost of the tour given by the greedy algorithm is around 2% longer. (cost is bigger by 75 units)"
   ]
  }
 ],
 "metadata": {
  "anaconda-cloud": {},
  "kernelspec": {
   "display_name": "Python [default]",
   "language": "python",
   "name": "python3"
  },
  "language_info": {
   "codemirror_mode": {
    "name": "ipython",
    "version": 3
   },
   "file_extension": ".py",
   "mimetype": "text/x-python",
   "name": "python",
   "nbconvert_exporter": "python",
   "pygments_lexer": "ipython3",
   "version": "3.5.2"
  },
  "latex_envs": {
   "bibliofile": "biblio.bib",
   "cite_by": "apalike",
   "current_citInitial": 1,
   "eqLabelWithNumbers": true,
   "eqNumInitial": 0
  }
 },
 "nbformat": 4,
 "nbformat_minor": 0
}
