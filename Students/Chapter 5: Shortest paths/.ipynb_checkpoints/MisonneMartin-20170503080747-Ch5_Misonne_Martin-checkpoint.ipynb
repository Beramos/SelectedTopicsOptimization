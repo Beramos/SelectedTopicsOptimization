{
 "cells": [
  {
   "cell_type": "markdown",
   "metadata": {},
   "source": [
    "# Chapter 5: Shortest path algorithms\n",
    "\n",
    "\n",
    "*Selected Topics in Mathematical Optimization*\n",
    "\n",
    "*2016-2017*\n",
    "\n",
    "**Bernard De Baets**\n",
    "\n",
    "**Michiel Stock**\n",
    "\n",
    "**Raúl Pérez-Fernández**"
   ]
  },
  {
   "cell_type": "code",
   "execution_count": 3,
   "metadata": {
    "collapsed": true
   },
   "outputs": [],
   "source": [
    "import matplotlib.pyplot as plt\n",
    "%matplotlib inline\n",
    "import numpy as np"
   ]
  },
  {
   "cell_type": "markdown",
   "metadata": {},
   "source": [
    "## Representing graphs in Python\n",
    "\n",
    "Graphs are discrete mathematical objects, represented as a tuple $G=(V, E)$ with $V$ the set of vertices (nodes, points) and $E$ the set of edges (links, arcs, lines) that connect the vertices.\n",
    "\n",
    "Consider for example the graph below.\n",
    "\n",
    "![A directed unweighted graph](Figures/unweighted_graph.png)\n",
    "\n",
    "This graph contains five edges: A, B, C, D and E and nine vertices. Since each of the vertices has a direction from one node to another so we call this a **directed graph**.\n",
    "\n",
    "Like most programming languages, Python does not provide direct support for graphs a data types. Graphs can however be represented by [**dictionaries**](https://docs.python.org/2/tutorial/datastructures.html#dictionaries). Dictionaries in Python store key-value pairs in a way such that accessing, insertion and deletion of new elements can be done very efficiently. The keys will represent the edges, while its associated values is the set of vertices to which depart from this node.\n",
    "\n",
    "For example, the unweighted graph above is represented bij the following code."
   ]
  },
  {
   "cell_type": "code",
   "execution_count": 4,
   "metadata": {
    "collapsed": true
   },
   "outputs": [],
   "source": [
    "unweighted_graph = {'A' : set(['B']),\n",
    "                   'B' : set(['C']),\n",
    "                   'C' : set(['A', 'B', 'E']),\n",
    "                   'D' : set(['A']),\n",
    "                   'E' : set(['D', 'D'])  # set data structure only contains unique elements\n",
    "                   }                     # only one node will be retained"
   ]
  },
  {
   "cell_type": "markdown",
   "metadata": {},
   "source": [
    "Note that we store the outgoing vertices in a [**set**](https://docs.python.org/2/tutorial/datastructures.html#sets) data structure. This will allow us to perform certain operations faster. Note that of the two vertices starting for E only one is retained. "
   ]
  },
  {
   "cell_type": "code",
   "execution_count": 5,
   "metadata": {
    "collapsed": false
   },
   "outputs": [
    {
     "data": {
      "text/plain": [
       "{'D'}"
      ]
     },
     "execution_count": 5,
     "metadata": {},
     "output_type": "execute_result"
    }
   ],
   "source": [
    "unweighted_graph['E']"
   ]
  },
  {
   "cell_type": "markdown",
   "metadata": {},
   "source": [
    "In this chapter, we will focus on algorithms that process **weighted graphs**, i.e. graphs on which the vertices have a weight. For example:\n",
    "![A weighted directed graph](Figures/weighted_graph.png)\n",
    "We will store each vertex now as a tuple containing the weight and the edge it is connected to. For this example:"
   ]
  },
  {
   "cell_type": "code",
   "execution_count": 6,
   "metadata": {
    "collapsed": false
   },
   "outputs": [],
   "source": [
    "weighted_graph = {'A' : set([(3, 'B')]),\n",
    "                   'B' : set([(2, 'C')]),\n",
    "                   'C' : set([(6, 'A'), (1, 'B'), (0.3, 'E')]),\n",
    "                   'D' : set([(9, 'A')]),\n",
    "                   'E' : set([(2.8, 'D'), (4.1, 'D'), (4.2, 'E')])  # two paths from E -> D\n",
    "                    }"
   ]
  },
  {
   "cell_type": "markdown",
   "metadata": {},
   "source": [
    "Storing a weighted vertex as `(weight, outgoing node)` has the advantage that the native `sort()` function in Python can be used to order vertices by weight, something which will be useful in the algorithms we will implement."
   ]
  },
  {
   "cell_type": "markdown",
   "metadata": {},
   "source": [
    "## Priority queues using heapq\n",
    "\n",
    "In order to efficiently implement the algorithms from this chapter, we will need to make use of a **priority queue**. A priority queue is a data structure which is perhaps most easily explained using a small example.\n",
    "\n",
    "A professor receives an enormous number of e-mails during the day. Because he cannot respond to them all into detail, the professor witholds only the 50 most important mails and processes them in the evening. Consider the following algorithm the prof might use to mananage his set of important mails during the day."
   ]
  },
  {
   "cell_type": "code",
   "execution_count": 7,
   "metadata": {
    "collapsed": false
   },
   "outputs": [
    {
     "data": {
      "text/plain": [
       "[(0.13081966170392334, 0),\n",
       " (0.6298479625350302, 1),\n",
       " (0.876648366759332, 2),\n",
       " (0.5523879796371531, 3),\n",
       " (0.7225573981492348, 4)]"
      ]
     },
     "execution_count": 7,
     "metadata": {},
     "output_type": "execute_result"
    }
   ],
   "source": [
    "from random import random\n",
    "\n",
    "# simulate 10000 e-mails\n",
    "# each e-mail is represented by an 'importance' and \n",
    "# an indice (the number of the mail)\n",
    "emails = [(random(), i) for i in range(10000)]\n",
    "\n",
    "# first five mails\n",
    "emails[:5]"
   ]
  },
  {
   "cell_type": "code",
   "execution_count": 8,
   "metadata": {
    "collapsed": false
   },
   "outputs": [
    {
     "data": {
      "text/plain": [
       "[(0.9957204940853647, 7998),\n",
       " (0.995938541147811, 7799),\n",
       " (0.9960281504253524, 8846),\n",
       " (0.9960349591327331, 5669),\n",
       " (0.9963106691491348, 7138),\n",
       " (0.9963526840341338, 8023),\n",
       " (0.996414129916703, 850),\n",
       " (0.996495725683636, 2807),\n",
       " (0.9965097560914448, 1590),\n",
       " (0.996643893597195, 501),\n",
       " (0.9966718349581818, 6946),\n",
       " (0.9966791706653644, 3024),\n",
       " (0.9967348657461875, 7209),\n",
       " (0.9967499713387636, 7884),\n",
       " (0.996778012865606, 2882),\n",
       " (0.9968452174922564, 9393),\n",
       " (0.9970919768410577, 2267),\n",
       " (0.9971737387874643, 6212),\n",
       " (0.9972171915117318, 2591),\n",
       " (0.9972640946498932, 1654),\n",
       " (0.9974060920347568, 6701),\n",
       " (0.9974544889435011, 5073),\n",
       " (0.9974953212297973, 8499),\n",
       " (0.9976878149645392, 5497),\n",
       " (0.9977472279405859, 7419),\n",
       " (0.9979273866474182, 8501),\n",
       " (0.9979302855202323, 9767),\n",
       " (0.9979307186761142, 3283),\n",
       " (0.9980754782364336, 4353),\n",
       " (0.9981667914200366, 5249),\n",
       " (0.9982131473694276, 235),\n",
       " (0.9984405460215129, 8638),\n",
       " (0.9984877819000114, 7716),\n",
       " (0.9985795720207498, 2105),\n",
       " (0.9987816357045822, 8249),\n",
       " (0.998806302877272, 8419),\n",
       " (0.9988097646788272, 1053),\n",
       " (0.9988247318241426, 4338),\n",
       " (0.9992436536801635, 7282),\n",
       " (0.9994793706451343, 654),\n",
       " (0.9995564114761746, 8608),\n",
       " (0.9995980228106995, 7608),\n",
       " (0.9997209969682789, 9947),\n",
       " (0.9998005577304756, 7907),\n",
       " (0.9998390101087506, 3755),\n",
       " (0.9998501128212993, 8214),\n",
       " (0.9998578829247136, 1184),\n",
       " (0.9998617154924323, 6688),\n",
       " (0.999935357630452, 5392),\n",
       " (0.9999984117818812, 6838)]"
      ]
     },
     "execution_count": 8,
     "metadata": {},
     "output_type": "execute_result"
    }
   ],
   "source": [
    "# retain the 50 most important mails using sort\n",
    "\n",
    "def top_k_sorted(k=50):\n",
    "    top_set = [(-1e10, -1) for i in range(k)]  # initialize the to respond list\n",
    "    for importance, id in emails:\n",
    "        # assume that the least important mail is on position 0\n",
    "        if top_set[0][0] < importance:\n",
    "            top_set[0] = (importance, id)  # replace least important mail\n",
    "            top_set.sort()  # sort\n",
    "    return top_set\n",
    "\n",
    "top_k_sorted()"
   ]
  },
  {
   "cell_type": "markdown",
   "metadata": {},
   "source": [
    "Taking a closer look, this routine is very wasteful of the time of the poor professor! Each time he updates his list of to-respond mails, he has to completely sort it so that he can easily access his least important mail. Sorting a list has a time complexity of $\\mathcal{O}(n\\log(n))$ for a list of $n$ elements. Sorting the complete list is overkill, as the professor wants the most important mails of the list.\n",
    "\n",
    "A more clever data structure for these types of tasks is a [**heap**](https://docs.python.org/2/library/heapq.html). A heap is a partially sorted list such that `heap[k] <= heap[2*k+1]` and `heap[k] <= heap[2*k+2]` for all `k`."
   ]
  },
  {
   "cell_type": "markdown",
   "metadata": {},
   "source": [
    "A heap is based on the idea of a tournament, as represented below (number represent indices, not values). \n",
    "\n",
    "```\n",
    "                               0\n",
    "\n",
    "              1                                 2\n",
    "\n",
    "      3               4                5               6\n",
    "\n",
    "  7       8       9       10      11      12      13      14\n",
    "\n",
    "15 16   17 18   19 20   21 22   23 24   25 26   27 28   29 30\n",
    "```\n",
    "A list `a` that satisfies the heap property always has that `a[0] < a[1]` and `a[0] < a[2]`, while `a[1] < a[3]` and `a[1] < a[4]` etc.\n",
    "\n",
    "The following operations can be done using a heap:\n",
    "- `heappush`: adding an item to the heap while maintaining the heap property ($\\mathcal{O}(\\log(n))$)\n",
    "- `heapop`: removing the item with the lowest value while maintaining the heap property ($\\mathcal{O}(\\log(n))$)\n",
    "- `heappushpop`: replacing the item with the lowest value by another item while maintaining the heap property ($\\mathcal{O}(\\log(n))$)\n",
    "- peeking: looking the item at position 0, which has the lowest value ($\\mathcal{O}(1)$)\n",
    "\n",
    "Heaps are implemented in `heapq` in Python. Consider our example."
   ]
  },
  {
   "cell_type": "code",
   "execution_count": 9,
   "metadata": {
    "collapsed": false
   },
   "outputs": [
    {
     "data": {
      "text/plain": [
       "[(0.9957204940853647, 7998),\n",
       " (0.9960281504253524, 8846),\n",
       " (0.995938541147811, 7799),\n",
       " (0.996495725683636, 2807),\n",
       " (0.9963106691491348, 7138),\n",
       " (0.9960349591327331, 5669),\n",
       " (0.996414129916703, 850),\n",
       " (0.996643893597195, 501),\n",
       " (0.9967348657461875, 7209),\n",
       " (0.9963526840341338, 8023),\n",
       " (0.996778012865606, 2882),\n",
       " (0.9968452174922564, 9393),\n",
       " (0.9987816357045822, 8249),\n",
       " (0.9965097560914448, 1590),\n",
       " (0.9966791706653644, 3024),\n",
       " (0.9971737387874643, 6212),\n",
       " (0.9972171915117318, 2591),\n",
       " (0.9974060920347568, 6701),\n",
       " (0.9977472279405859, 7419),\n",
       " (0.9966718349581818, 6946),\n",
       " (0.9967499713387636, 7884),\n",
       " (0.9970919768410577, 2267),\n",
       " (0.9972640946498932, 1654),\n",
       " (0.9974953212297973, 8499),\n",
       " (0.9984405460215129, 8638),\n",
       " (0.998806302877272, 8419),\n",
       " (0.9998501128212993, 8214),\n",
       " (0.9988097646788272, 1053),\n",
       " (0.9992436536801635, 7282),\n",
       " (0.9998578829247136, 1184),\n",
       " (0.9998617154924323, 6688),\n",
       " (0.9979302855202323, 9767),\n",
       " (0.9979307186761142, 3283),\n",
       " (0.9982131473694276, 235),\n",
       " (0.9995564114761746, 8608),\n",
       " (0.9979273866474182, 8501),\n",
       " (0.9995980228106995, 7608),\n",
       " (0.9998005577304756, 7907),\n",
       " (0.9994793706451343, 654),\n",
       " (0.9984877819000114, 7716),\n",
       " (0.9980754782364336, 4353),\n",
       " (0.9974544889435011, 5073),\n",
       " (0.9998390101087506, 3755),\n",
       " (0.9981667914200366, 5249),\n",
       " (0.999935357630452, 5392),\n",
       " (0.9988247318241426, 4338),\n",
       " (0.9999984117818812, 6838),\n",
       " (0.9985795720207498, 2105),\n",
       " (0.9976878149645392, 5497),\n",
       " (0.9997209969682789, 9947)]"
      ]
     },
     "execution_count": 9,
     "metadata": {},
     "output_type": "execute_result"
    }
   ],
   "source": [
    "from heapq import heappop, heappush, heappushpop\n",
    "\n",
    "def top_k_heaped(k=50):\n",
    "    top_set = [(-1e10, -1) for i in range(k)]  # initialize the to respond list\n",
    "    for importance, id in emails:\n",
    "        # assume that the least important mail is on position 0\n",
    "        if top_set[0][0] < importance:\n",
    "            # replace least important mail while maintaining the heap property\n",
    "            heappushpop(top_set, (importance, id))  \n",
    "    return top_set\n",
    "\n",
    "top_k_heaped()"
   ]
  },
  {
   "cell_type": "markdown",
   "metadata": {},
   "source": [
    "Both algorithms return the same list of e-mails, though using a heap to implement a priority queue is more efficient in resources."
   ]
  },
  {
   "cell_type": "code",
   "execution_count": 10,
   "metadata": {
    "collapsed": false
   },
   "outputs": [
    {
     "name": "stdout",
     "output_type": "stream",
     "text": [
      "100 loops, best of 3: 4.12 ms per loop\n"
     ]
    }
   ],
   "source": [
    "%timeit top_k_sorted()"
   ]
  },
  {
   "cell_type": "code",
   "execution_count": 11,
   "metadata": {
    "collapsed": false
   },
   "outputs": [
    {
     "name": "stdout",
     "output_type": "stream",
     "text": [
      "1000 loops, best of 3: 1.27 ms per loop\n"
     ]
    }
   ],
   "source": [
    "%timeit top_k_heaped()"
   ]
  },
  {
   "cell_type": "code",
   "execution_count": 12,
   "metadata": {
    "collapsed": true
   },
   "outputs": [],
   "source": [
    "#sort = nlog(n)\n",
    "#heap = log(n)"
   ]
  },
  {
   "cell_type": "markdown",
   "metadata": {},
   "source": [
    "## Dijkstra's shortest path algorithm"
   ]
  },
  {
   "cell_type": "markdown",
   "metadata": {},
   "source": [
    "Dijkstra's algorithm is a popular algorithm to find the shortest path between the nodes of a graph. The algorithm can be used in two ways:\n",
    "\n",
    "- when both a source and a sink node are provided, the algorithm gives the list of nodes of the shortest path, together with the length (distance of the path).\n",
    "- when only a source is given, the shortest distance between the source and all (accessable) nodes is returned together with a dictionary representing the tree of the shortest paths between the source and other nodes.\n",
    "\n",
    "The pseudocode can be found below."
   ]
  },
  {
   "cell_type": "markdown",
   "metadata": {},
   "source": [
    "### Pseudocode of Dijkstra's shortest path algorithm\n",
    "Source: Wikipedia.org\n",
    "```\n",
    "1  function Dijkstra(Graph, source, sink (optional)):\n",
    "2      distance[source] := 0  // initialize a dictionary with distance\n",
    "3                             // to source\n",
    "4      for each vertex V in Graph: \n",
    "5          if V ≠ source\n",
    "6              distance[V] := infinity\n",
    "7      previous := empty dict   // stores the previous node in path\n",
    "8\n",
    "10     make empty priority queue Q for vertices to check\n",
    "11     Q.add_with_priority(source, 0)  # first check the source\n",
    "12\n",
    "13\n",
    "14     while Q is not empty:                     // The main loop\n",
    "15         get node U with smallest distance from Q\n",
    "16         if U is the sink (if provided) \n",
    "17              break the loop\n",
    "17         for every neighbor V of U:\n",
    "18             alternative := distance[U] + dist(U, V)\n",
    "18             if alternative < distance[V]\n",
    "19                 distance[V] := alternative\n",
    "20                 previous[V] := U\n",
    "21                 Q.add_with_priority(V, alternative)\n",
    "22\n",
    "23     if sink is given\n",
    "24         reconstruct shortest path\n",
    "25         return shortest path and length of path\n",
    "26     else\n",
    "27         return distance, previous\n",
    "```"
   ]
  },
  {
   "cell_type": "code",
   "execution_count": 13,
   "metadata": {
    "collapsed": false
   },
   "outputs": [],
   "source": [
    "from numpy import inf\n",
    "def dijkstra(graph, source, sink=None):\n",
    "    distance = {v: inf for v in graph}\n",
    "    distance[source] = 0\n",
    "    previous = dict()\n",
    "    Q = list()    \n",
    "    heappush(Q, (source, 0))\n",
    "    \n",
    "    while len(Q)!=0:\n",
    "        (u, _) = heappop(Q)\n",
    "        if u == sink:\n",
    "            break\n",
    "        for w, v in graph[u]:\n",
    "            alternative = distance[u] + w\n",
    "            if alternative < distance[v]:\n",
    "                distance[v]=alternative\n",
    "                previous[v]=u\n",
    "                heappush(Q, (v, alternative))\n",
    "    \n",
    "    if sink is None:\n",
    "        return distance, previous\n",
    "    else:\n",
    "        return reconstruct_path(previous, source, sink), distance[sink]"
   ]
  },
  {
   "cell_type": "markdown",
   "metadata": {},
   "source": [
    "### Pseudocode of path reconstruction  algorithm\n",
    "```\n",
    "1 function reconstruct_path(previous, source, sink)\n",
    "2    if the source is not in previous\n",
    "3          return empty path\n",
    "4    V := sink   \\\\ path is reconstructed backwards\n",
    "5    path := [V]  \\\\ path is a list of nodes\n",
    "6    while V is not source\n",
    "7         V := previous node in path\n",
    "8         add V in beginning of the path\n",
    "9    return the path\n",
    "```"
   ]
  },
  {
   "cell_type": "code",
   "execution_count": 14,
   "metadata": {
    "collapsed": true
   },
   "outputs": [],
   "source": [
    "def reconstruct_path(previous, source, sink):\n",
    "    if sink not in previous:\n",
    "        return []\n",
    "    \n",
    "    v = sink\n",
    "    path = [v]\n",
    "    while v != source:\n",
    "        v = previous[v]\n",
    "        path.append(v)\n",
    "    return list(reversed(path))"
   ]
  },
  {
   "cell_type": "markdown",
   "metadata": {},
   "source": [
    "**Assignment 1: Dijkstra**\n",
    "\n",
    "1. Complete the implementation for Dijstra's algorithm and the path reconstruction function\n",
    "2. Find the shortest path from node A to I in the example graph below. Calculate the shortest distance from A to any other node. Compare both running times with `%timeit`.\n",
    "\n",
    "![Example network](Figures/example_graph.png)"
   ]
  },
  {
   "cell_type": "code",
   "execution_count": 15,
   "metadata": {
    "collapsed": true
   },
   "outputs": [],
   "source": [
    "# the above graph as an adjacency list\n",
    "graph = {'A' : set([(2, 'B'), (3, 'D')]),\n",
    "        'B' : set([(1, 'C'), (5, 'E')]),\n",
    "        'C' : set([(2, 'D'), (1, 'E')]),\n",
    "        'D' : set([(3, 'E')]),\n",
    "        'E' : set([(2, 'B'), (3, 'F')]),\n",
    "        'F' : set([(5, 'G'), (8, 'I')]),\n",
    "        'G' : set([(2, 'H'), (5, 'I')]),\n",
    "        'H' : set([(3, 'I')]),\n",
    "        'I' : []}"
   ]
  },
  {
   "cell_type": "code",
   "execution_count": 16,
   "metadata": {
    "collapsed": false
   },
   "outputs": [
    {
     "data": {
      "text/plain": [
       "(['A', 'B', 'C', 'E', 'F', 'I'], 15)"
      ]
     },
     "execution_count": 16,
     "metadata": {},
     "output_type": "execute_result"
    }
   ],
   "source": [
    "dijkstra(graph, 'A', 'I')"
   ]
  },
  {
   "cell_type": "code",
   "execution_count": 17,
   "metadata": {
    "collapsed": false
   },
   "outputs": [
    {
     "data": {
      "text/plain": [
       "({'A': 0, 'B': 2, 'C': 3, 'D': 3, 'E': 4, 'F': 7, 'G': 12, 'H': 14, 'I': 15},\n",
       " {'B': 'A',\n",
       "  'C': 'B',\n",
       "  'D': 'A',\n",
       "  'E': 'C',\n",
       "  'F': 'E',\n",
       "  'G': 'F',\n",
       "  'H': 'G',\n",
       "  'I': 'F'})"
      ]
     },
     "execution_count": 17,
     "metadata": {},
     "output_type": "execute_result"
    }
   ],
   "source": [
    "dijkstra(graph, 'A')"
   ]
  },
  {
   "cell_type": "code",
   "execution_count": 18,
   "metadata": {
    "collapsed": false
   },
   "outputs": [
    {
     "name": "stdout",
     "output_type": "stream",
     "text": [
      "100000 loops, best of 3: 13.9 µs per loop\n"
     ]
    }
   ],
   "source": [
    "%timeit dijkstra(graph, 'A', 'I')"
   ]
  },
  {
   "cell_type": "code",
   "execution_count": 19,
   "metadata": {
    "collapsed": false
   },
   "outputs": [
    {
     "name": "stdout",
     "output_type": "stream",
     "text": [
      "100000 loops, best of 3: 12.3 µs per loop\n"
     ]
    }
   ],
   "source": [
    "%timeit dijkstra(graph, 'A')"
   ]
  },
  {
   "cell_type": "markdown",
   "metadata": {},
   "source": [
    "## A* shortest path algorithm"
   ]
  },
  {
   "cell_type": "markdown",
   "metadata": {},
   "source": [
    "It is hard to explain the algorithm into more depth than [here](http://theory.stanford.edu/~amitp/GameProgramming/) and [here](http://www.redblobgames.com/pathfinding/a-star/introduction.html)."
   ]
  },
  {
   "cell_type": "markdown",
   "metadata": {},
   "source": [
    "Dijkstra's algorithm is guaranteed to find a shortest path on any (positively weighted) graph. But because no assumptions are made of the nature of the graph, Dijkstra's algorithm cannot exploit prior knowledge to speed up its search. Consider the problem of finding a shortest path on a grid using Dijkstra.\n",
    "\n",
    "![Dijkstra's algorithm for grid with no obstacles.](Figures/Dijkstra.png)\n",
    "\n",
    "In the figure above, it is clear that Dijkstra searches very inefficient: it tries to expand its seach horizon around the starting point in order to find the shortest path. Consider a 'greedy' algorithm which always tries to move as close to the goal as possible.\n",
    "\n",
    "![Greedy search for grid with no obstacles.](Figures/best-first-search.png)\n",
    "\n",
    "Much better! The algorithm always moves in the right direction. What happens when a direct path between the starting position and the goal is not possible?\n",
    "\n",
    "![Dijkstra's algorithm for grid with an obstacle.](Figures/dijkstra-trap.png)\n",
    "\n",
    "Dijkstra is guaranteed to find the optimal path, but again only after much exploring! Let us see of the greedy algorithm again fares better.\n",
    "\n",
    "![Greedy search for grid with an obstacle.](Figures/best-first-search-trap.png)\n",
    "\n",
    "We see again that the greedy algorithm does much less searching, but this time the path that is returned is not the shortest!"
   ]
  },
  {
   "cell_type": "markdown",
   "metadata": {},
   "source": [
    "The A\\* algorithm lets us have the best of both worlds: it is exact (like Dijkstra's algorithm), but it can also use a **heuristic** to speed up the search. In each iteration, the next neighbor $n$ of the current node that the algorithm considers is chosen based on the heuristic\n",
    "\n",
    "$$\n",
    "f(n) = g(n) + h(n)\n",
    "$$\n",
    "\n",
    "with $g(n)$ the cost of the path so far and $h(n)$ a heuristic that estimates the cost of the cost of the shortest path from $n$ to the goal. The heuristic $h(n)$ should satify two properties:\n",
    "1. To guaranty that a shortest path is found, the heuristic should be **admissible**, i.e. it should never overestimate the true distance to goal.\n",
    "2. Evaluating the heuristic should be cheap (it is either pre-computed or is a function).\n",
    "\n",
    "So the A\\* algorithm is basically the same as Dijkstra's algorithm, but with the main difference that the the latter chooses nodes to explore based on the distance from the starting node, while the latter chooses nodes **based on an estimate of distance to the goal**."
   ]
  },
  {
   "cell_type": "markdown",
   "metadata": {},
   "source": [
    "When using A\\* to find the shortest path between two physical locations, each node corresponds to a point in space. A good heuristic is the (Euclidian) distance between the nodes, as this will always be a lower bound for the actual distance to travel to the goal.\n",
    "\n",
    "Consider the following example of finding the path from node $a$ to node $h$.\n",
    "\n",
    "![Example how A\\* uses the heuristics](Figures/astarexample.png)\n",
    "\n",
    "The shortest path so far is $[a, e]$ and the algorithm needs to choose to explore node $d$ or node $g$. Since the path of $ed$ is shorter than the path $eg$, Dijkstra will choose this node, even though it is farther removed from the goal $h$ (Dijkstra chooses a neighbor $n$ only based on the current path length form the starting node $g(n)$. The A\\* algorithm will chose node $g$ to explore, because the estimated path length $f(e) = g(e) + h(e) > f(d)$ and hence will approach the goal. "
   ]
  },
  {
   "cell_type": "markdown",
   "metadata": {},
   "source": [
    "#### Representation of the graphs for physical locations\n",
    "\n",
    "For the assignments above, we will work with graphs representing paths on a two-dimensional plane. \n",
    "\n",
    "Each node or location is a point on this plane, e.g. $(x_i, y_i)$. An edge or link between two locations is a tuple of two points: $((x_i, y_i),(x_j, y_j))$. In the link representation, the network is represented as just a list of these links. For example:"
   ]
  },
  {
   "cell_type": "code",
   "execution_count": 20,
   "metadata": {
    "collapsed": false
   },
   "outputs": [],
   "source": [
    "from parcour_tools import add_path, load_links, plot_parcour, links_to_graph\n",
    "\n",
    "links_example = [((1, 1), (1, 3)), ((1, 1), (2, 2)), ((1,3), (2, 2)),\n",
    "                ((2, 2), (3, 1)), ((2, 2), (3, 3)), ((3, 1), (3, 3))]"
   ]
  },
  {
   "cell_type": "markdown",
   "metadata": {},
   "source": [
    "Using the function ```links_to_graph``` we can change these links in the more familiar dictionary-based representation."
   ]
  },
  {
   "cell_type": "code",
   "execution_count": 21,
   "metadata": {
    "collapsed": false
   },
   "outputs": [
    {
     "name": "stdout",
     "output_type": "stream",
     "text": [
      "{(1, 1): [(1, (1, 3)), (1, (2, 2))], (1, 3): [(1, (1, 1)), (1, (2, 2))], (2, 2): [(1, (1, 1)), (1, (1, 3)), (1, (3, 1)), (1, (3, 3))], (3, 1): [(1, (2, 2)), (1, (3, 3))], (3, 3): [(1, (2, 2)), (1, (3, 1))]}\n"
     ]
    }
   ],
   "source": [
    "graph_example = links_to_graph(links_example)\n",
    "print(graph_example)"
   ]
  },
  {
   "cell_type": "markdown",
   "metadata": {},
   "source": [
    "Which can be visualized using ```plot_parcour``` and we can use the function ```add_path``` to draw a path."
   ]
  },
  {
   "cell_type": "code",
   "execution_count": 22,
   "metadata": {
    "collapsed": false
   },
   "outputs": [
    {
     "name": "stderr",
     "output_type": "stream",
     "text": [
      "/Users/Louise/Documents/SelectedTopicsOptimization-master/Chapters/05.ShortestPaths/parcour_tools.py:43: MatplotlibDeprecationWarning: The set_axis_bgcolor function was deprecated in version 2.0. Use set_facecolor instead.\n",
      "  ax.set_axis_bgcolor('black')\n"
     ]
    },
    {
     "data": {
      "image/png": "[encoded data removed]",
      "text/plain": [
       "<matplotlib.figure.Figure at 0x10e86b160>"
      ]
     },
     "metadata": {},
     "output_type": "display_data"
    }
   ],
   "source": [
    "fig, ax = plt.subplots()\n",
    "plot_parcour(links_example, ax, line_width=20)  # uses the links representation as an input!\n",
    "ax.set_ylim([0.5, 3.5])\n",
    "ax.set_xlim([0.5, 3.5])\n",
    "\n",
    "path_example = [(1, 1), (1, 3), (2, 2), (3, 1), (3, 3)]\n",
    "add_path(path_example, ax, color='green')"
   ]
  },
  {
   "cell_type": "markdown",
   "metadata": {},
   "source": [
    "**Assignment 2: A\\***\n",
    "\n",
    "1. Complete the implementation for the A\\* algorithm.\n",
    "2. Some parcours and mazes are given. Use A\\* and Dijkstra to find the shortest paths between the lower left corner to the upper right corner. Use the function ```add_path``` to add the path to the figure.\n",
    "3. Compare running time of the two shortest path algorithms using ```%timeit```."
   ]
  },
  {
   "cell_type": "markdown",
   "metadata": {},
   "source": [
    "### Pseudocode of A\\* shortest path algorithm\n",
    "Source from Wikipedia (modified)\n",
    "```\n",
    "1  function Astar(Graph, source, sink, heuristic):\n",
    "2      make empty priority queue Q for vertices to check\n",
    "3      \n",
    "4      add source to Q with priority f(source)\n",
    "5          // use the estimated path length for priority\n",
    "6              \n",
    "7      distance[V] := 0   // initialize a dictionary with distance\n",
    "8                           // to source\n",
    "9      previous := empty dict   // stores the previous node in path\n",
    "10\n",
    "11     while Q is not empty:                     // The main loop\n",
    "12         pop node U with lowest estimated path length to sink\n",
    "13         if U is the sink\n",
    "14              break the loop\n",
    "15         for every neighbor V of U:\n",
    "16             distance_source_U := distance[U] + dist(U, V)\n",
    "17             if V not in distance or distance_source_U < distance[V]\n",
    "18                 distance[V] := distance_source_U\n",
    "19                 previous[V] := U\n",
    "20                 heuristic_V_sink := distance[V] + g(V)\n",
    "21                 Q.add_with_priority(V, heuristic_V_sink)\n",
    "22\n",
    "23     reconstruct shortest path\n",
    "24     return shortest path and length of path\n",
    "```"
   ]
  },
  {
   "cell_type": "code",
   "execution_count": 23,
   "metadata": {
    "collapsed": true
   },
   "outputs": [],
   "source": [
    "# functions for computing distances\n",
    "manhattan_distance = lambda x, y : sum([abs(xi - yi) for xi, yi in zip(x, y)])\n",
    "euclidian_distance = lambda x, y : sum([(xi - yi)**2 for xi, yi in zip(x, y)])**0.5"
   ]
  },
  {
   "cell_type": "code",
   "execution_count": 49,
   "metadata": {
    "collapsed": true
   },
   "outputs": [],
   "source": [
    "def a_star(graph, source, sink, heuristic):\n",
    "    Q = list()\n",
    "    heappush(Q, (source, heuristic(source, sink)))\n",
    "    #heappush(Q, (heuristic(source, sink), source))\n",
    "    distance = {v:inf for v in graph}\n",
    "    distance[source] = 0\n",
    "    previous = dict()\n",
    "    while len(Q) != 0:\n",
    "        (u, _) = heappop(Q)\n",
    "        if u == sink:\n",
    "            break\n",
    "        for w, v in graph[u]:\n",
    "            dist_source_u = distance[u] + w\n",
    "            if v not in distance or dist_source_u < distance[v]:\n",
    "                distance[v] = dist_source_u\n",
    "                previous[v] = u\n",
    "                heuristic_v_sink = distance[v] + heuristic(v, sink)\n",
    "                heappush(Q, (v, heuristic_v_sink))\n",
    "    return reconstruct_path(previous, source, sink), distance[sink]"
   ]
  },
  {
   "cell_type": "code",
   "execution_count": null,
   "metadata": {
    "collapsed": false
   },
   "outputs": [
    {
     "name": "stderr",
     "output_type": "stream",
     "text": [
      "/Users/Louise/Documents/SelectedTopicsOptimization-master/Chapters/05.ShortestPaths/parcour_tools.py:43: MatplotlibDeprecationWarning: The set_axis_bgcolor function was deprecated in version 2.0. Use set_facecolor instead.\n",
      "  ax.set_axis_bgcolor('black')\n"
     ]
    },
    {
     "data": {
      "image/png": "[encoded data removed]",
      "text/plain": [
       "<matplotlib.figure.Figure at 0x11d238a90>"
      ]
     },
     "metadata": {},
     "output_type": "display_data"
    }
   ],
   "source": [
    "# a parcour, white lines are the routes that can be followed\n",
    "# find the shortest path from (0, 0) to (99, 99)\n",
    "parcour = load_links('Data/large_parcour.csv')\n",
    "\n",
    "fig, ax = plt.subplots(figsize=(15, 15))\n",
    "\n",
    "plot_parcour(parcour, ax)\n",
    "parcour_graph = links_to_graph(parcour)\n",
    "\n",
    "path_dijkstra, length_dijstra = dijkstra(parcour_graph, (0, 0), (99, 99))\n",
    "add_path(path_dijkstra, ax, 'red')\n",
    "\n",
    "path_astar, length_astar = a_star(parcour_graph, (0, 0), (99, 99), manhattan_distance)\n",
    "add_path(path_astar, ax, 'blue')\n",
    "\n",
    "path_astar, length_astar = a_star(parcour_graph, (0, 0), (99, 99), euclidian_distance)\n",
    "add_path(path_astar, ax, 'green')"
   ]
  },
  {
   "cell_type": "code",
   "execution_count": 26,
   "metadata": {
    "collapsed": false
   },
   "outputs": [
    {
     "name": "stdout",
     "output_type": "stream",
     "text": [
      "10 loops, best of 3: 53.5 ms per loop\n"
     ]
    }
   ],
   "source": [
    "%timeit path_dijkstra, length_dijstra = dijkstra(parcour_graph, (0, 0), (99, 99))"
   ]
  },
  {
   "cell_type": "code",
   "execution_count": 27,
   "metadata": {
    "collapsed": false
   },
   "outputs": [
    {
     "name": "stdout",
     "output_type": "stream",
     "text": [
      "10 loops, best of 3: 69.9 ms per loop\n"
     ]
    }
   ],
   "source": [
    "%timeit path_astar, length_astar = a_star(parcour_graph, (0, 0), (99, 99), manhattan_distance)"
   ]
  },
  {
   "cell_type": "code",
   "execution_count": 28,
   "metadata": {
    "collapsed": false
   },
   "outputs": [
    {
     "name": "stderr",
     "output_type": "stream",
     "text": [
      "/Users/Louise/Documents/SelectedTopicsOptimization-master/Chapters/05.ShortestPaths/parcour_tools.py:43: MatplotlibDeprecationWarning: The set_axis_bgcolor function was deprecated in version 2.0. Use set_facecolor instead.\n",
      "  ax.set_axis_bgcolor('black')\n"
     ]
    },
    {
     "data": {
      "image/png": "[encoded data removed]",
      "text/plain": [
       "<matplotlib.figure.Figure at 0x1353ba828>"
      ]
     },
     "metadata": {},
     "output_type": "display_data"
    }
   ],
   "source": [
    "# a small maze, white lines are the routes that can be followed\n",
    "# find the shortest path from (0, 0) to (99, 99)\n",
    "small_maze = load_links('Data/small_maze.csv')\n",
    "\n",
    "fig, ax = plt.subplots(figsize=(10, 10))\n",
    "\n",
    "plot_parcour(small_maze, ax, line_width=15)\n",
    "maze_graph = links_to_graph(small_maze)\n",
    "\n",
    "path_dijkstra, length_dijstra = dijkstra(maze_graph, (0, 0), (19, 19))\n",
    "add_path(path_dijkstra, ax, 'red')\n",
    "\n",
    "path_astar, length_astar = a_star(maze_graph, (0, 0), (19, 19), manhattan_distance)\n",
    "add_path(path_astar, ax, 'blue')\n",
    "\n",
    "path_astar, length_astar = a_star(maze_graph, (0, 0), (19, 19), euclidian_distance)\n",
    "add_path(path_astar, ax, 'green')"
   ]
  },
  {
   "cell_type": "code",
   "execution_count": 29,
   "metadata": {
    "collapsed": false
   },
   "outputs": [
    {
     "name": "stdout",
     "output_type": "stream",
     "text": [
      "1000 loops, best of 3: 765 µs per loop\n"
     ]
    }
   ],
   "source": [
    "%timeit path_dijkstra, length_dijstra = dijkstra(maze_graph, (0, 0), (19, 19))"
   ]
  },
  {
   "cell_type": "code",
   "execution_count": 30,
   "metadata": {
    "collapsed": false
   },
   "outputs": [
    {
     "name": "stdout",
     "output_type": "stream",
     "text": [
      "1000 loops, best of 3: 1.41 ms per loop\n"
     ]
    }
   ],
   "source": [
    "%timeit path_astar, length_astar = a_star(maze_graph, (0, 0), (19, 19), manhattan_distance)"
   ]
  },
  {
   "cell_type": "code",
   "execution_count": 31,
   "metadata": {
    "collapsed": false
   },
   "outputs": [
    {
     "name": "stderr",
     "output_type": "stream",
     "text": [
      "/Users/Louise/Documents/SelectedTopicsOptimization-master/Chapters/05.ShortestPaths/parcour_tools.py:43: MatplotlibDeprecationWarning: The set_axis_bgcolor function was deprecated in version 2.0. Use set_facecolor instead.\n",
      "  ax.set_axis_bgcolor('black')\n"
     ]
    },
    {
     "data": {
      "image/png": "[encoded data removed]",
      "text/plain": [
       "<matplotlib.figure.Figure at 0x10e6bd8d0>"
      ]
     },
     "metadata": {},
     "output_type": "display_data"
    }
   ],
   "source": [
    "# a small maze, white lines are the routes that can be followed\n",
    "# find the shortest path from (0, 0) to (99, 99)\n",
    "large_maze = load_links('Data/large_maze.csv')\n",
    "\n",
    "fig, ax = plt.subplots(figsize=(15, 15))\n",
    "\n",
    "plot_parcour(large_maze, ax)\n",
    "maze_graph = links_to_graph(large_maze)\n",
    "\n",
    "path_dijkstra, length_dijstra = dijkstra(maze_graph, (0, 0), (99, 99))\n",
    "add_path(path_dijkstra, ax, 'red')\n",
    "\n",
    "path_astar, length_astar = a_star(maze_graph, (0, 0), (99, 99), manhattan_distance)\n",
    "add_path(path_astar, ax, 'blue')\n",
    "path_astar, length_astar = a_star(maze_graph, (0, 0), (99, 99), euclidian_distance)\n",
    "add_path(path_astar, ax, 'green')"
   ]
  },
  {
   "cell_type": "code",
   "execution_count": 32,
   "metadata": {
    "collapsed": false
   },
   "outputs": [
    {
     "name": "stdout",
     "output_type": "stream",
     "text": [
      "10 loops, best of 3: 27.1 ms per loop\n"
     ]
    }
   ],
   "source": [
    "%timeit path_dijkstra, length_dijstra = dijkstra(maze_graph, (0, 0), (99, 99))"
   ]
  },
  {
   "cell_type": "code",
   "execution_count": 33,
   "metadata": {
    "collapsed": false
   },
   "outputs": [
    {
     "name": "stdout",
     "output_type": "stream",
     "text": [
      "10 loops, best of 3: 42.7 ms per loop\n"
     ]
    }
   ],
   "source": [
    "%timeit path_astar, length_astar = a_star(maze_graph, (0, 0), (99, 99), manhattan_distance)"
   ]
  },
  {
   "cell_type": "markdown",
   "metadata": {
    "collapsed": true
   },
   "source": [
    "## Project: the green city of Ghent\n",
    "\n",
    "![Citadelpark.](Figures/citadel.jpg)"
   ]
  },
  {
   "cell_type": "markdown",
   "metadata": {},
   "source": [
    "Ghent is a very pleasant city to live in, a bit of green is never far away. In this small project we will compute the shortest distance to the closest park for every street crossing in Ghent, a problem with tens of thousands of vertices.\n",
    "\n",
    "Let us take a look at the data."
   ]
  },
  {
   "cell_type": "code",
   "execution_count": 34,
   "metadata": {
    "collapsed": true
   },
   "outputs": [],
   "source": [
    "import json\n",
    "ghent_data = json.load(fp=open('Data/graph_parks_ghent.json', 'r'))"
   ]
  },
  {
   "cell_type": "code",
   "execution_count": 35,
   "metadata": {
    "collapsed": false,
    "scrolled": true
   },
   "outputs": [
    {
     "data": {
      "text/plain": [
       "dict_keys(['adjacency_list', 'park vertices', 'coordinates'])"
      ]
     },
     "execution_count": 35,
     "metadata": {},
     "output_type": "execute_result"
    }
   ],
   "source": [
    "ghent_data.keys()"
   ]
  },
  {
   "cell_type": "markdown",
   "metadata": {},
   "source": [
    "Below is the graph of streets of Ghent. The vertices correspons to street crossings, the edges to street (segments). The edges are weighted by the length of the street, in km."
   ]
  },
  {
   "cell_type": "code",
   "execution_count": 36,
   "metadata": {
    "collapsed": false
   },
   "outputs": [],
   "source": [
    "graph_ghent = {k : set(map(tuple, v)) for k, v in ghent_data['adjacency_list'].items()}"
   ]
  },
  {
   "cell_type": "code",
   "execution_count": 37,
   "metadata": {
    "collapsed": false
   },
   "outputs": [
    {
     "data": {
      "text/plain": [
       "(3.749202403162002e-06, '24510')"
      ]
     },
     "execution_count": 37,
     "metadata": {},
     "output_type": "execute_result"
    }
   ],
   "source": [
    "min([min(v) for v in graph_ghent.values()])"
   ]
  },
  {
   "cell_type": "markdown",
   "metadata": {},
   "source": [
    "Every vertex has an xy-coordinate."
   ]
  },
  {
   "cell_type": "code",
   "execution_count": 38,
   "metadata": {
    "collapsed": true
   },
   "outputs": [],
   "source": [
    "coordinates = {k : tuple(v) for k, v in ghent_data['coordinates'].items()}"
   ]
  },
  {
   "cell_type": "markdown",
   "metadata": {},
   "source": [
    "Finally, you receive a set of the the vertices that are in a park!"
   ]
  },
  {
   "cell_type": "code",
   "execution_count": 39,
   "metadata": {
    "collapsed": true
   },
   "outputs": [],
   "source": [
    "park_vertices = set(ghent_data['park vertices'])"
   ]
  },
  {
   "cell_type": "markdown",
   "metadata": {},
   "source": [
    "You can plot the data below (at own risk, this is a HUGE graph!):"
   ]
  },
  {
   "cell_type": "raw",
   "metadata": {},
   "source": [
    "fig, ax = plt.subplots(figsize=(10, 10))\n",
    "\n",
    "fraction_to_plot = 0.1\n",
    "\n",
    "for v, neighbours in graph_ghent.items():\n",
    "    x1, y1 = coordinates[v]\n",
    "    for length, n in neighbours:\n",
    "        x2, y2 = coordinates[n]\n",
    "        ax.plot([x1, x2], [y1, y2], color='gray', lw=0.2, alpha=0.5)\n",
    "    if v in park_vertices:  # parks vertices in green\n",
    "        ax.scatter(x1, y1, color='green')\n",
    "    elif fraction_to_plot < np.random.rand():\n",
    "        ax.scatter(x1, y1, color='black')\n",
    "\n",
    "ax.set_aspect('equal')"
   ]
  },
  {
   "cell_type": "markdown",
   "metadata": {},
   "source": [
    "**Assignment 3**\n",
    "\n",
    "1. Complete the code for finding the distances to the park. This is a modified version of Dijkstra. You are expected to 'design' this algorithm yourself. It returns a dictonary with the distance to the nearest park and a dictionary containing the tree of these paths.\n",
    "2. Compute and plot these distances."
   ]
  },
  {
   "cell_type": "code",
   "execution_count": 40,
   "metadata": {
    "collapsed": false
   },
   "outputs": [],
   "source": [
    "from numpy import inf\n",
    "\n",
    "def compute_distances_to_park(city_graph, park_vertices):\n",
    "    not_park_vertices = set(city_graph.keys()) - park_vertices\n",
    "    distances_to_park = {x: (None, inf) for x in not_park_vertices}\n",
    "    paths = {x: \"*\" for x in not_park_vertices}\n",
    "    \n",
    "    for vertex in not_park_vertices:\n",
    "\n",
    "        if paths[vertex] != \"*\":\n",
    "            continue\n",
    "        \n",
    "        distance = {v: inf for v in city_graph}\n",
    "        distance[vertex] = 0\n",
    "        current = vertex\n",
    "        previous = {}\n",
    "        Q = [(vertex, 0)]\n",
    "        \n",
    "        while Q:\n",
    "            u = heappop(Q)\n",
    "            if u[0] in park_vertices:\n",
    "                if u[1] < distances_to_park[vertex][1]:\n",
    "                    distances_to_park[vertex] = u\n",
    "                    break\n",
    "                    \n",
    "            for v in city_graph[u[0]]:\n",
    "                alt = distance[u[0]] + v[0]\n",
    "                if alt < distance[v[1]]:\n",
    "                    distance[v[1]] = alt\n",
    "                    previous[v[1]] = u[0]\n",
    "                    heappush(Q, (v[1], alt))\n",
    "\n",
    "        path = reconstruct_path(previous, vertex, distances_to_park[vertex][0]) \n",
    "        if path:\n",
    "            for i in range(len(path)-1):\n",
    "                paths[path[i]] = path[i+1]\n",
    "                distances_to_park[path[i]] = (u[0], distance[path[i]])\n",
    "        \n",
    "    return distances_to_park, paths"
   ]
  },
  {
   "cell_type": "code",
   "execution_count": null,
   "metadata": {
    "collapsed": false
   },
   "outputs": [],
   "source": [
    "dist_to_park, paths = compute_distances_to_park(graph_ghent, park_vertices)"
   ]
  },
  {
   "cell_type": "code",
   "execution_count": null,
   "metadata": {
    "collapsed": false
   },
   "outputs": [],
   "source": [
    "dist_to_park = {k : v for k, v in dist_to_park.items() if v[1] < inf}\n",
    "paths = {k : v for k, v in paths.items() if v != \"*\"}"
   ]
  },
  {
   "cell_type": "code",
   "execution_count": null,
   "metadata": {
    "collapsed": false
   },
   "outputs": [],
   "source": [
    "fig, ax = plt.subplots(figsize=(10, 10))\n",
    "\n",
    "fraction_to_plot = 0.1\n",
    "\n",
    "for v, neighbour in paths.items():\n",
    "    x1, y1 = coordinates[v]\n",
    "    if neighbour != \"*\":\n",
    "        x2, y2 = coordinates[neighbour]\n",
    "        ax.plot([x1, x2], [y1, y2], color='blue', lw=0.2, alpha=0.5)\n",
    "    if fraction_to_plot < np.random.rand():\n",
    "        ax.scatter(x1, y1, color='red')\n",
    "\n",
    "ax.set_aspect('equal')"
   ]
  }
 ],
 "metadata": {
  "anaconda-cloud": {},
  "kernelspec": {
   "display_name": "Python [default]",
   "language": "python",
   "name": "python3"
  },
  "language_info": {
   "codemirror_mode": {
    "name": "ipython",
    "version": 3
   },
   "file_extension": ".py",
   "mimetype": "text/x-python",
   "name": "python",
   "nbconvert_exporter": "python",
   "pygments_lexer": "ipython3",
   "version": "3.5.2"
  },
  "latex_envs": {
   "bibliofile": "biblio.bib",
   "cite_by": "apalike",
   "current_citInitial": 1,
   "eqLabelWithNumbers": true,
   "eqNumInitial": 0
  }
 },
 "nbformat": 4,
 "nbformat_minor": 0
}
